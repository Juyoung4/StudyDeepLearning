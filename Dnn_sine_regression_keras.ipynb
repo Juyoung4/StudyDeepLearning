{
  "nbformat": 4,
  "nbformat_minor": 0,
  "metadata": {
    "colab": {
      "name": "Day3-1. dnn_sine_regression_keras_template.ipynb의 사본",
      "provenance": [],
      "collapsed_sections": []
    },
    "kernelspec": {
      "display_name": "TensorFlow CPU",
      "language": "python",
      "name": "tesorflow2.0"
    },
    "language_info": {
      "codemirror_mode": {
        "name": "ipython",
        "version": 3
      },
      "file_extension": ".py",
      "mimetype": "text/x-python",
      "name": "python",
      "nbconvert_exporter": "python",
      "pygments_lexer": "ipython3",
      "version": "3.7.6"
    },
    "accelerator": "GPU"
  },
  "cells": [
    {
      "cell_type": "markdown",
      "metadata": {
        "colab_type": "text",
        "id": "8AyUT-YF7MgP"
      },
      "source": [
        "## 싸인 함수 회귀분석 (Sine Regression)"
      ]
    },
    {
      "cell_type": "code",
      "metadata": {
        "colab_type": "code",
        "id": "gfPDhWwI7MgQ",
        "colab": {}
      },
      "source": [
        "try:\n",
        "  # %tensorflow_version only exists in Colab.\n",
        "  %tensorflow_version 2.x\n",
        "except Exception:\n",
        "  pass"
      ],
      "execution_count": 1,
      "outputs": []
    },
    {
      "cell_type": "code",
      "metadata": {
        "colab_type": "code",
        "id": "AVpv6npN7MgV",
        "colab": {
          "base_uri": "https://localhost:8080/",
          "height": 34
        },
        "outputId": "5ae20df7-8356-4071-dd13-ceba98f33a20"
      },
      "source": [
        "import tensorflow as tf\n",
        "from tensorflow import keras\n",
        "import numpy as np\n",
        "import matplotlib.pyplot as plt\n",
        "\n",
        "print(tf.__version__) "
      ],
      "execution_count": 2,
      "outputs": [
        {
          "output_type": "stream",
          "text": [
            "2.3.0\n"
          ],
          "name": "stdout"
        }
      ]
    },
    {
      "cell_type": "markdown",
      "metadata": {
        "colab_type": "text",
        "id": "H9zynqX67Mgb"
      },
      "source": [
        "## 데이터 생성"
      ]
    },
    {
      "cell_type": "code",
      "metadata": {
        "colab_type": "code",
        "id": "5M02G5SX7Mgc",
        "colab": {
          "base_uri": "https://localhost:8080/",
          "height": 283
        },
        "outputId": "9e64f6f0-52c9-476b-a795-bf38acd53693"
      },
      "source": [
        "inputs = np.linspace(-2*np.pi, 2*np.pi, 10000)[:, None]\n",
        "outputs = np.sin(inputs) + 0.05 * np.random.normal(size=[len(inputs),1])\n",
        "\n",
        "plt.scatter(inputs[:, 0], outputs[:, 0], s=0.1, color='k', marker='o')"
      ],
      "execution_count": 3,
      "outputs": [
        {
          "output_type": "execute_result",
          "data": {
            "text/plain": [
              "<matplotlib.collections.PathCollection at 0x7f6413dcc320>"
            ]
          },
          "metadata": {
            "tags": []
          },
          "execution_count": 3
        },
        {
          "output_type": "display_data",
          "data": {
            "image/png": "[encoded data removed]",
            "text/plain": [
              "<Figure size 432x288 with 1 Axes>"
            ]
          },
          "metadata": {
            "tags": [],
            "needs_background": "light"
          }
        }
      ]
    },
    {
      "cell_type": "markdown",
      "metadata": {
        "colab_type": "text",
        "id": "mIK6xMp87Mgg"
      },
      "source": [
        "## 모델 정의\n",
        "#### Q. `tf.keras.layers.Dense`함수를 이용해서 Fully Connected Layer를 구성해 보시오."
      ]
    },
    {
      "cell_type": "code",
      "metadata": {
        "colab_type": "code",
        "id": "HP9XKw_x7Mgg",
        "colab": {}
      },
      "source": [
        "# layer 종류 중 Dense layer를 통해 모델을 만든다\n",
        "# 모델은 3계층으로 hidden 20, hidden 20, output 1이다.\n",
        "model = keras.Sequential([\n",
        "    keras.layers.Dense(20, activation='relu', input_shape=(1,)), #처음 input layer는 1*1, hidden layer1는 20개의 뉴런을 가지고 있기 때문에 unit=20 | 활성화함수는 ReLu사용\n",
        "    keras.layers.Dense(20, activation='relu'), # hidden layer2는 20개의 뉴런을 가지고 있기 때문에 unit=20 | 활성화함수는 ReLu사용\n",
        "    keras.layers.Dense(20, activation='relu'), # hidden layer를 하나 더 늘려서 돌려보면 정확도가 좀 더 좋게 나옴\n",
        "    keras.layers.Dense(1) # output layer의미 output layer는 1*1이다\n",
        "])"
      ],
      "execution_count": 4,
      "outputs": []
    },
    {
      "cell_type": "markdown",
      "metadata": {
        "colab_type": "text",
        "id": "UeRBT5ru7Mgj"
      },
      "source": [
        "## 모델 훈련 설정\n",
        "#### Q. 훈련에 필요한 Optimizer, Loss, Metrics 설정하시오."
      ]
    },
    {
      "cell_type": "code",
      "metadata": {
        "colab_type": "code",
        "id": "k1LsDuSq7Mgj",
        "scrolled": true,
        "colab": {}
      },
      "source": [
        "# loss, optimizer, metric 설정 \n",
        "# optimizer는 'adam'으로 metric은 'mae', 'mse'로 설정\n",
        "model.compile(optimizer= 'adam',\n",
        "              loss= 'mse',\n",
        "              metrics= ['mae','mse']) "
      ],
      "execution_count": 5,
      "outputs": []
    },
    {
      "cell_type": "markdown",
      "metadata": {
        "id": "5WHv6x3XLtGM",
        "colab_type": "text"
      },
      "source": [
        "## 모델 훈련\n",
        "#### Q. 모델을 훈련하기 위해 training set, label, epoch 등을 지정하시오."
      ]
    },
    {
      "cell_type": "code",
      "metadata": {
        "id": "LvYpS6QFLtGP",
        "colab_type": "code",
        "colab": {
          "base_uri": "https://localhost:8080/",
          "height": 1000
        },
        "outputId": "4c9a3bed-f21c-487f-9648-a6f45c57ba92"
      },
      "source": [
        "# epoch는 20 이상\n",
        "model.fit(inputs, outputs, epochs=50)"
      ],
      "execution_count": 6,
      "outputs": [
        {
          "output_type": "stream",
          "text": [
            "Epoch 1/50\n",
            "313/313 [==============================] - 1s 2ms/step - loss: 0.2640 - mae: 0.4246 - mse: 0.2640\n",
            "Epoch 2/50\n",
            "313/313 [==============================] - 1s 2ms/step - loss: 0.0821 - mae: 0.1987 - mse: 0.0821\n",
            "Epoch 3/50\n",
            "313/313 [==============================] - 1s 2ms/step - loss: 0.0596 - mae: 0.1607 - mse: 0.0596\n",
            "Epoch 4/50\n",
            "313/313 [==============================] - 1s 2ms/step - loss: 0.0429 - mae: 0.1349 - mse: 0.0429\n",
            "Epoch 5/50\n",
            "313/313 [==============================] - 1s 2ms/step - loss: 0.0314 - mae: 0.1142 - mse: 0.0314\n",
            "Epoch 6/50\n",
            "313/313 [==============================] - 1s 2ms/step - loss: 0.0221 - mae: 0.0954 - mse: 0.0221\n",
            "Epoch 7/50\n",
            "313/313 [==============================] - 1s 2ms/step - loss: 0.0156 - mae: 0.0816 - mse: 0.0156\n",
            "Epoch 8/50\n",
            "313/313 [==============================] - 1s 2ms/step - loss: 0.0111 - mae: 0.0718 - mse: 0.0111\n",
            "Epoch 9/50\n",
            "313/313 [==============================] - 1s 2ms/step - loss: 0.0077 - mae: 0.0623 - mse: 0.0077\n",
            "Epoch 10/50\n",
            "313/313 [==============================] - 1s 2ms/step - loss: 0.0058 - mae: 0.0562 - mse: 0.0058\n",
            "Epoch 11/50\n",
            "313/313 [==============================] - 1s 2ms/step - loss: 0.0046 - mae: 0.0516 - mse: 0.0046\n",
            "Epoch 12/50\n",
            "313/313 [==============================] - 1s 2ms/step - loss: 0.0041 - mae: 0.0499 - mse: 0.0041\n",
            "Epoch 13/50\n",
            "313/313 [==============================] - 1s 2ms/step - loss: 0.0038 - mae: 0.0481 - mse: 0.0038\n",
            "Epoch 14/50\n",
            "313/313 [==============================] - 1s 2ms/step - loss: 0.0037 - mae: 0.0479 - mse: 0.0037\n",
            "Epoch 15/50\n",
            "313/313 [==============================] - 1s 2ms/step - loss: 0.0036 - mae: 0.0471 - mse: 0.0036\n",
            "Epoch 16/50\n",
            "313/313 [==============================] - 1s 2ms/step - loss: 0.0033 - mae: 0.0456 - mse: 0.0033\n",
            "Epoch 17/50\n",
            "313/313 [==============================] - 1s 2ms/step - loss: 0.0036 - mae: 0.0474 - mse: 0.0036\n",
            "Epoch 18/50\n",
            "313/313 [==============================] - 1s 2ms/step - loss: 0.0035 - mae: 0.0466 - mse: 0.0035\n",
            "Epoch 19/50\n",
            "313/313 [==============================] - 1s 2ms/step - loss: 0.0034 - mae: 0.0461 - mse: 0.0034\n",
            "Epoch 20/50\n",
            "313/313 [==============================] - 1s 2ms/step - loss: 0.0033 - mae: 0.0457 - mse: 0.0033\n",
            "Epoch 21/50\n",
            "313/313 [==============================] - 1s 2ms/step - loss: 0.0033 - mae: 0.0457 - mse: 0.0033\n",
            "Epoch 22/50\n",
            "313/313 [==============================] - 1s 2ms/step - loss: 0.0032 - mae: 0.0454 - mse: 0.0032\n",
            "Epoch 23/50\n",
            "313/313 [==============================] - 1s 2ms/step - loss: 0.0035 - mae: 0.0467 - mse: 0.0035\n",
            "Epoch 24/50\n",
            "313/313 [==============================] - 1s 2ms/step - loss: 0.0034 - mae: 0.0462 - mse: 0.0034\n",
            "Epoch 25/50\n",
            "313/313 [==============================] - 1s 2ms/step - loss: 0.0034 - mae: 0.0462 - mse: 0.0034\n",
            "Epoch 26/50\n",
            "313/313 [==============================] - 1s 2ms/step - loss: 0.0035 - mae: 0.0470 - mse: 0.0035\n",
            "Epoch 27/50\n",
            "313/313 [==============================] - 1s 2ms/step - loss: 0.0035 - mae: 0.0471 - mse: 0.0035\n",
            "Epoch 28/50\n",
            "313/313 [==============================] - 1s 2ms/step - loss: 0.0034 - mae: 0.0459 - mse: 0.0034\n",
            "Epoch 29/50\n",
            "313/313 [==============================] - 1s 2ms/step - loss: 0.0032 - mae: 0.0450 - mse: 0.0032\n",
            "Epoch 30/50\n",
            "313/313 [==============================] - 1s 2ms/step - loss: 0.0038 - mae: 0.0485 - mse: 0.0038\n",
            "Epoch 31/50\n",
            "313/313 [==============================] - 1s 2ms/step - loss: 0.0033 - mae: 0.0454 - mse: 0.0033\n",
            "Epoch 32/50\n",
            "313/313 [==============================] - 1s 2ms/step - loss: 0.0035 - mae: 0.0466 - mse: 0.0035\n",
            "Epoch 33/50\n",
            "313/313 [==============================] - 1s 2ms/step - loss: 0.0033 - mae: 0.0458 - mse: 0.0033\n",
            "Epoch 34/50\n",
            "313/313 [==============================] - 1s 2ms/step - loss: 0.0032 - mae: 0.0448 - mse: 0.0032\n",
            "Epoch 35/50\n",
            "313/313 [==============================] - 1s 2ms/step - loss: 0.0033 - mae: 0.0454 - mse: 0.0033\n",
            "Epoch 36/50\n",
            "313/313 [==============================] - 1s 2ms/step - loss: 0.0032 - mae: 0.0452 - mse: 0.0032\n",
            "Epoch 37/50\n",
            "313/313 [==============================] - 1s 2ms/step - loss: 0.0034 - mae: 0.0462 - mse: 0.0034\n",
            "Epoch 38/50\n",
            "313/313 [==============================] - 1s 2ms/step - loss: 0.0033 - mae: 0.0455 - mse: 0.0033\n",
            "Epoch 39/50\n",
            "313/313 [==============================] - 1s 2ms/step - loss: 0.0035 - mae: 0.0466 - mse: 0.0035\n",
            "Epoch 40/50\n",
            "313/313 [==============================] - 1s 2ms/step - loss: 0.0034 - mae: 0.0460 - mse: 0.0034\n",
            "Epoch 41/50\n",
            "313/313 [==============================] - 1s 2ms/step - loss: 0.0032 - mae: 0.0450 - mse: 0.0032\n",
            "Epoch 42/50\n",
            "313/313 [==============================] - 1s 2ms/step - loss: 0.0032 - mae: 0.0447 - mse: 0.0032\n",
            "Epoch 43/50\n",
            "313/313 [==============================] - 1s 2ms/step - loss: 0.0032 - mae: 0.0448 - mse: 0.0032\n",
            "Epoch 44/50\n",
            "313/313 [==============================] - 1s 2ms/step - loss: 0.0034 - mae: 0.0462 - mse: 0.0034\n",
            "Epoch 45/50\n",
            "313/313 [==============================] - 1s 2ms/step - loss: 0.0032 - mae: 0.0445 - mse: 0.0032\n",
            "Epoch 46/50\n",
            "313/313 [==============================] - 1s 2ms/step - loss: 0.0032 - mae: 0.0451 - mse: 0.0032\n",
            "Epoch 47/50\n",
            "313/313 [==============================] - 1s 2ms/step - loss: 0.0032 - mae: 0.0453 - mse: 0.0032\n",
            "Epoch 48/50\n",
            "313/313 [==============================] - 1s 2ms/step - loss: 0.0034 - mae: 0.0462 - mse: 0.0034\n",
            "Epoch 49/50\n",
            "313/313 [==============================] - 1s 2ms/step - loss: 0.0032 - mae: 0.0449 - mse: 0.0032\n",
            "Epoch 50/50\n",
            "313/313 [==============================] - 1s 2ms/step - loss: 0.0035 - mae: 0.0466 - mse: 0.0035\n"
          ],
          "name": "stdout"
        },
        {
          "output_type": "execute_result",
          "data": {
            "text/plain": [
              "<tensorflow.python.keras.callbacks.History at 0x7f63b45d4080>"
            ]
          },
          "metadata": {
            "tags": []
          },
          "execution_count": 6
        }
      ]
    },
    {
      "cell_type": "code",
      "metadata": {
        "id": "88IzPbfqLtGf",
        "colab_type": "code",
        "colab": {
          "base_uri": "https://localhost:8080/",
          "height": 52
        },
        "outputId": "3f3686a4-22e0-4477-a3b7-f495325d4ce6"
      },
      "source": [
        "test_loss, test_mse, test_mae = model.evaluate(inputs, outputs, verbose=0)\n",
        "print('\\n테스트 MSE:', test_mse)"
      ],
      "execution_count": 7,
      "outputs": [
        {
          "output_type": "stream",
          "text": [
            "\n",
            "테스트 MSE: 0.04218290001153946\n"
          ],
          "name": "stdout"
        }
      ]
    },
    {
      "cell_type": "markdown",
      "metadata": {
        "colab_type": "text",
        "id": "ZwNcu-E97Mgm"
      },
      "source": [
        "## 테스트"
      ]
    },
    {
      "cell_type": "code",
      "metadata": {
        "colab_type": "code",
        "id": "uQRKT5oR7Mgm",
        "colab": {
          "base_uri": "https://localhost:8080/",
          "height": 283
        },
        "outputId": "7249c533-6584-43bf-ab5a-7141611bd4fb"
      },
      "source": [
        "test_output_pred = model.predict(inputs)\n",
        "\n",
        "plt.scatter(inputs[:, 0], outputs[:, 0], c='k', marker='o', s=0.1)\n",
        "plt.scatter(inputs[:, 0], test_output_pred[:, 0], c='r', marker='o', s=0.1)"
      ],
      "execution_count": 8,
      "outputs": [
        {
          "output_type": "execute_result",
          "data": {
            "text/plain": [
              "<matplotlib.collections.PathCollection at 0x7f63b43a5860>"
            ]
          },
          "metadata": {
            "tags": []
          },
          "execution_count": 8
        },
        {
          "output_type": "display_data",
          "data": {
            "image/png": "[encoded data removed]",
            "text/plain": [
              "<Figure size 432x288 with 1 Axes>"
            ]
          },
          "metadata": {
            "tags": [],
            "needs_background": "light"
          }
        }
      ]
    }
  ]
}