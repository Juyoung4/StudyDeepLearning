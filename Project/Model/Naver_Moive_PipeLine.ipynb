{
 "cells": [
  {
   "cell_type": "markdown",
   "source": [
    "### 네이버 영화 리뷰 감성 분석"
   ],
   "metadata": {}
  },
  {
   "cell_type": "code",
   "execution_count": 1,
   "source": [
    "import numpy as np\r\n",
    "import pandas as pd\r\n",
    "import os\r\n",
    "\r\n",
    "import matplotlib.pyplot as plt\r\n",
    "import seaborn as sns\r\n",
    "%matplotlib inline"
   ],
   "outputs": [],
   "metadata": {}
  },
  {
   "cell_type": "code",
   "execution_count": 2,
   "source": [
    "import tensorflow as tf\r\n",
    "physical_devices = tf.config.list_physical_devices('GPU')\r\n",
    "tf.config.experimental.set_memory_growth(physical_devices[0], enable=True)"
   ],
   "outputs": [],
   "metadata": {}
  },
  {
   "cell_type": "code",
   "execution_count": 3,
   "source": [
    "BASIC_PATH = \"/dataset/\""
   ],
   "outputs": [],
   "metadata": {}
  },
  {
   "cell_type": "code",
   "execution_count": 5,
   "source": [
    "TOTAL_RATINGS = '/rating.txt'\r\n",
    "TRAIN_RATINGS = '/ratings_train.txt'\r\n",
    "TEST_RATINGS = '/ratings_test.txt'"
   ],
   "outputs": [],
   "metadata": {}
  },
  {
   "cell_type": "markdown",
   "source": [
    "## [1] 데이터 분석"
   ],
   "metadata": {}
  },
  {
   "cell_type": "markdown",
   "source": [
    "#### [1-] 파일 크기, 데이터 개수 확인"
   ],
   "metadata": {}
  },
  {
   "cell_type": "code",
   "execution_count": 4,
   "source": [
    "print(\"파일 크기 : \")\r\n",
    "for file in os.listdir(BASIC_PATH):\r\n",
    "    if 'txt' in file and 'zip' not in file:\r\n",
    "        print(file.ljust(30) + str(round(os.path.getsize(BASIC_PATH+\"/\"+file) / 100000, 2)) + 'KB')"
   ],
   "outputs": [
    {
     "output_type": "stream",
     "name": "stdout",
     "text": [
      "파일 크기 : \n",
      "ratings_test.txt              48.93KB\n",
      "rating.txt                    195.15KB\n",
      "stop_words.txt                0.02KB\n",
      "ratings_train.txt             146.29KB\n"
     ]
    }
   ],
   "metadata": {}
  },
  {
   "cell_type": "code",
   "execution_count": 5,
   "source": [
    "train_data = pd.read_csv(\r\n",
    "    BASIC_PATH + TRAIN_RATINGS, header = 0, delimiter = '\\t', quoting=3\r\n",
    ")"
   ],
   "outputs": [],
   "metadata": {}
  },
  {
   "cell_type": "code",
   "execution_count": 6,
   "source": [
    "train_data.head(5)"
   ],
   "outputs": [
    {
     "output_type": "execute_result",
     "data": {
      "text/plain": [
       "         id                                           document  label\n",
       "0   9976970                                아 더빙.. 진짜 짜증나네요 목소리      0\n",
       "1   3819312                  흠...포스터보고 초딩영화줄....오버연기조차 가볍지 않구나      1\n",
       "2  10265843                                  너무재밓었다그래서보는것을추천한다      0\n",
       "3   9045019                      교도소 이야기구먼 ..솔직히 재미는 없다..평점 조정      0\n",
       "4   6483659  사이몬페그의 익살스런 연기가 돋보였던 영화!스파이더맨에서 늙어보이기만 했던 커스틴 ...      1"
      ],
      "text/html": [
       "<div>\n",
       "<style scoped>\n",
       "    .dataframe tbody tr th:only-of-type {\n",
       "        vertical-align: middle;\n",
       "    }\n",
       "\n",
       "    .dataframe tbody tr th {\n",
       "        vertical-align: top;\n",
       "    }\n",
       "\n",
       "    .dataframe thead th {\n",
       "        text-align: right;\n",
       "    }\n",
       "</style>\n",
       "<table border=\"1\" class=\"dataframe\">\n",
       "  <thead>\n",
       "    <tr style=\"text-align: right;\">\n",
       "      <th></th>\n",
       "      <th>id</th>\n",
       "      <th>document</th>\n",
       "      <th>label</th>\n",
       "    </tr>\n",
       "  </thead>\n",
       "  <tbody>\n",
       "    <tr>\n",
       "      <th>0</th>\n",
       "      <td>9976970</td>\n",
       "      <td>아 더빙.. 진짜 짜증나네요 목소리</td>\n",
       "      <td>0</td>\n",
       "    </tr>\n",
       "    <tr>\n",
       "      <th>1</th>\n",
       "      <td>3819312</td>\n",
       "      <td>흠...포스터보고 초딩영화줄....오버연기조차 가볍지 않구나</td>\n",
       "      <td>1</td>\n",
       "    </tr>\n",
       "    <tr>\n",
       "      <th>2</th>\n",
       "      <td>10265843</td>\n",
       "      <td>너무재밓었다그래서보는것을추천한다</td>\n",
       "      <td>0</td>\n",
       "    </tr>\n",
       "    <tr>\n",
       "      <th>3</th>\n",
       "      <td>9045019</td>\n",
       "      <td>교도소 이야기구먼 ..솔직히 재미는 없다..평점 조정</td>\n",
       "      <td>0</td>\n",
       "    </tr>\n",
       "    <tr>\n",
       "      <th>4</th>\n",
       "      <td>6483659</td>\n",
       "      <td>사이몬페그의 익살스런 연기가 돋보였던 영화!스파이더맨에서 늙어보이기만 했던 커스틴 ...</td>\n",
       "      <td>1</td>\n",
       "    </tr>\n",
       "  </tbody>\n",
       "</table>\n",
       "</div>"
      ]
     },
     "metadata": {},
     "execution_count": 6
    }
   ],
   "metadata": {
    "tags": []
   }
  },
  {
   "cell_type": "code",
   "execution_count": 7,
   "source": [
    "print(\"전체 학습데이터 개수 : {}\".format(len(train_data)))"
   ],
   "outputs": [
    {
     "output_type": "stream",
     "name": "stdout",
     "text": [
      "전체 학습데이터 개수 : 150000\n"
     ]
    }
   ],
   "metadata": {}
  },
  {
   "cell_type": "code",
   "execution_count": 8,
   "source": [
    "test_data = pd.read_csv(\n",
    "    BASIC_PATH + TEST_RATINGS, header = 0, delimiter = '\\t', quoting=3\n",
    ")"
   ],
   "outputs": [],
   "metadata": {}
  },
  {
   "cell_type": "code",
   "execution_count": 9,
   "source": [
    "test_data.head(5)"
   ],
   "outputs": [
    {
     "output_type": "execute_result",
     "data": {
      "text/plain": [
       "        id                                           document  label\n",
       "0  6270596                                                굳 ㅋ      1\n",
       "1  9274899                               GDNTOPCLASSINTHECLUB      0\n",
       "2  8544678             뭐야 이 평점들은.... 나쁘진 않지만 10점 짜리는 더더욱 아니잖아      0\n",
       "3  6825595                   지루하지는 않은데 완전 막장임... 돈주고 보기에는....      0\n",
       "4  6723715  3D만 아니었어도 별 다섯 개 줬을텐데.. 왜 3D로 나와서 제 심기를 불편하게 하죠??      0"
      ],
      "text/html": [
       "<div>\n",
       "<style scoped>\n",
       "    .dataframe tbody tr th:only-of-type {\n",
       "        vertical-align: middle;\n",
       "    }\n",
       "\n",
       "    .dataframe tbody tr th {\n",
       "        vertical-align: top;\n",
       "    }\n",
       "\n",
       "    .dataframe thead th {\n",
       "        text-align: right;\n",
       "    }\n",
       "</style>\n",
       "<table border=\"1\" class=\"dataframe\">\n",
       "  <thead>\n",
       "    <tr style=\"text-align: right;\">\n",
       "      <th></th>\n",
       "      <th>id</th>\n",
       "      <th>document</th>\n",
       "      <th>label</th>\n",
       "    </tr>\n",
       "  </thead>\n",
       "  <tbody>\n",
       "    <tr>\n",
       "      <th>0</th>\n",
       "      <td>6270596</td>\n",
       "      <td>굳 ㅋ</td>\n",
       "      <td>1</td>\n",
       "    </tr>\n",
       "    <tr>\n",
       "      <th>1</th>\n",
       "      <td>9274899</td>\n",
       "      <td>GDNTOPCLASSINTHECLUB</td>\n",
       "      <td>0</td>\n",
       "    </tr>\n",
       "    <tr>\n",
       "      <th>2</th>\n",
       "      <td>8544678</td>\n",
       "      <td>뭐야 이 평점들은.... 나쁘진 않지만 10점 짜리는 더더욱 아니잖아</td>\n",
       "      <td>0</td>\n",
       "    </tr>\n",
       "    <tr>\n",
       "      <th>3</th>\n",
       "      <td>6825595</td>\n",
       "      <td>지루하지는 않은데 완전 막장임... 돈주고 보기에는....</td>\n",
       "      <td>0</td>\n",
       "    </tr>\n",
       "    <tr>\n",
       "      <th>4</th>\n",
       "      <td>6723715</td>\n",
       "      <td>3D만 아니었어도 별 다섯 개 줬을텐데.. 왜 3D로 나와서 제 심기를 불편하게 하죠??</td>\n",
       "      <td>0</td>\n",
       "    </tr>\n",
       "  </tbody>\n",
       "</table>\n",
       "</div>"
      ]
     },
     "metadata": {},
     "execution_count": 9
    }
   ],
   "metadata": {}
  },
  {
   "cell_type": "code",
   "execution_count": 10,
   "source": [
    "print(\"전체 테스트 데이터 개수 : {}\".format(len(test_data)))"
   ],
   "outputs": [
    {
     "output_type": "stream",
     "name": "stdout",
     "text": [
      "전체 테스트 데이터 개수 : 50000\n"
     ]
    }
   ],
   "metadata": {}
  },
  {
   "cell_type": "markdown",
   "source": [
    "#### [1-2] 리뷰의 길이 확인"
   ],
   "metadata": {}
  },
  {
   "cell_type": "code",
   "execution_count": 11,
   "source": [
    "train_length = train_data['document'].astype('str').apply(len)"
   ],
   "outputs": [],
   "metadata": {}
  },
  {
   "cell_type": "code",
   "execution_count": 12,
   "source": [
    "train_length.head()"
   ],
   "outputs": [
    {
     "output_type": "execute_result",
     "data": {
      "text/plain": [
       "0    19\n",
       "1    33\n",
       "2    17\n",
       "3    29\n",
       "4    61\n",
       "Name: document, dtype: int64"
      ]
     },
     "metadata": {},
     "execution_count": 12
    }
   ],
   "metadata": {}
  },
  {
   "cell_type": "code",
   "execution_count": 13,
   "source": [
    "plt.figure(figsize=(12, 5))\n",
    "plt.hist(train_length, bins=200, alpha=0.5, color='b', label='word')\n",
    "plt.yscale('log', nonposy='clip')\n",
    "plt.title('log-histograme')\n",
    "plt.xlabel('length of review')\n",
    "plt.ylabel('number of review')\n",
    "plt.show()"
   ],
   "outputs": [
    {
     "output_type": "stream",
     "name": "stderr",
     "text": [
      "/home/ai-sjjy/anaconda3/lib/python3.6/site-packages/ipykernel_launcher.py:3: MatplotlibDeprecationWarning: The 'nonposy' parameter of __init__() has been renamed 'nonpositive' since Matplotlib 3.3; support for the old name will be dropped two minor releases later.\n",
      "  This is separate from the ipykernel package so we can avoid doing imports until\n"
     ]
    },
    {
     "output_type": "display_data",
     "data": {
      "text/plain": [
       "<Figure size 864x360 with 1 Axes>"
      ],
      "image/png": "[encoded data removed]"
     },
     "metadata": {
      "needs_background": "light"
     }
    }
   ],
   "metadata": {}
  },
  {
   "cell_type": "markdown",
   "source": [
    "#### [1-3] 긍정 부정 데이터 분포"
   ],
   "metadata": {}
  },
  {
   "cell_type": "code",
   "execution_count": 14,
   "source": [
    "fig, axe = plt.subplots(ncols=1)\n",
    "fig.set_size_inches(6, 3)\n",
    "sns.countplot(train_data['label'])"
   ],
   "outputs": [
    {
     "output_type": "stream",
     "name": "stderr",
     "text": [
      "/home/ai-sjjy/anaconda3/lib/python3.6/site-packages/seaborn/_decorators.py:43: FutureWarning: Pass the following variable as a keyword arg: x. From version 0.12, the only valid positional argument will be `data`, and passing other arguments without an explicit keyword will result in an error or misinterpretation.\n",
      "  FutureWarning\n"
     ]
    },
    {
     "output_type": "execute_result",
     "data": {
      "text/plain": [
       "<AxesSubplot:xlabel='label', ylabel='count'>"
      ]
     },
     "metadata": {},
     "execution_count": 14
    },
    {
     "output_type": "display_data",
     "data": {
      "text/plain": [
       "<Figure size 432x216 with 1 Axes>"
      ],
      "image/png": "[encoded data removed]"
     },
     "metadata": {
      "needs_background": "light"
     }
    }
   ],
   "metadata": {}
  },
  {
   "cell_type": "code",
   "execution_count": 15,
   "source": [
    "print(\"긍정 리뷰 개수 : {}\".format(train_data['label'].value_counts()[1]))\n",
    "# 긍정 : 74825\n",
    "print(\"부정 리뷰 개수 : {}\".format(train_data['label'].value_counts()[0]))\n",
    "# 부정 : 75170"
   ],
   "outputs": [
    {
     "output_type": "stream",
     "name": "stdout",
     "text": [
      "긍정 리뷰 개수 : 74827\n",
      "부정 리뷰 개수 : 75173\n"
     ]
    }
   ],
   "metadata": {}
  },
  {
   "cell_type": "markdown",
   "source": [
    "#### [1-4] 각 리뷰의 단어 개수 분포"
   ],
   "metadata": {}
  },
  {
   "cell_type": "code",
   "execution_count": 16,
   "source": [
    "train_word_counts = train_data['document'].astype('str').apply(lambda x: len(x.split(' ')))\n",
    "\n",
    "plt.figure(figsize=(15, 10))\n",
    "plt.hist(train_word_counts, bins=50, facecolor='r', label='train')\n",
    "plt.title('log-histogram of word count in review', fontsize=15)\n",
    "plt.yscale('log', nonposy='clip')\n",
    "plt.legend()\n",
    "plt.xlabel('number of words', fontsize=15)\n",
    "plt.ylabel('number of reviews', fontsize=15)"
   ],
   "outputs": [
    {
     "output_type": "stream",
     "name": "stderr",
     "text": [
      "/home/ai-sjjy/anaconda3/lib/python3.6/site-packages/ipykernel_launcher.py:6: MatplotlibDeprecationWarning: The 'nonposy' parameter of __init__() has been renamed 'nonpositive' since Matplotlib 3.3; support for the old name will be dropped two minor releases later.\n",
      "  \n"
     ]
    },
    {
     "output_type": "execute_result",
     "data": {
      "text/plain": [
       "Text(0, 0.5, 'number of reviews')"
      ]
     },
     "metadata": {},
     "execution_count": 16
    },
    {
     "output_type": "display_data",
     "data": {
      "text/plain": [
       "<Figure size 1080x720 with 1 Axes>"
      ],
      "image/png": "[encoded data removed]"
     },
     "metadata": {
      "needs_background": "light"
     }
    }
   ],
   "metadata": {}
  },
  {
   "cell_type": "markdown",
   "source": [
    "#### [1-5] 특수문자"
   ],
   "metadata": {}
  },
  {
   "cell_type": "code",
   "execution_count": 17,
   "source": [
    "qmarks = np.mean(train_data['document'].astype('str').apply(lambda x: '?' in x))\n",
    "fullstop = np.mean(train_data['document'].astype('str').apply(lambda x: '.' in x))\n",
    "numbers = np.mean(train_data['document'].astype('str').apply(lambda x: max([y.isdigit() for y in x])))\n",
    "\n",
    "\n",
    "print(\"물음표 있는 질문 : {:.2f}%\".format(qmarks * 100))\n",
    "print(\"마침표 있는 질문 : {:.2f}%\".format(fullstop * 100))\n",
    "print(\"숫자가 있는 질문 : {:.2f}%\".format(numbers * 100))"
   ],
   "outputs": [
    {
     "output_type": "stream",
     "name": "stdout",
     "text": [
      "물음표 있는 질문 : 8.25%\n",
      "마침표 있는 질문 : 51.76%\n",
      "숫자가 있는 질문 : 13.62%\n"
     ]
    }
   ],
   "metadata": {}
  },
  {
   "cell_type": "markdown",
   "source": [
    "#### [1-6] 결측치 확인"
   ],
   "metadata": {}
  },
  {
   "cell_type": "code",
   "execution_count": 18,
   "source": [
    "train_data.isnull().sum()"
   ],
   "outputs": [
    {
     "output_type": "execute_result",
     "data": {
      "text/plain": [
       "id          0\n",
       "document    5\n",
       "label       0\n",
       "dtype: int64"
      ]
     },
     "metadata": {},
     "execution_count": 18
    }
   ],
   "metadata": {}
  },
  {
   "cell_type": "code",
   "execution_count": 19,
   "source": [
    "test_data.isnull().sum()"
   ],
   "outputs": [
    {
     "output_type": "execute_result",
     "data": {
      "text/plain": [
       "id          0\n",
       "document    3\n",
       "label       0\n",
       "dtype: int64"
      ]
     },
     "metadata": {},
     "execution_count": 19
    }
   ],
   "metadata": {}
  },
  {
   "cell_type": "code",
   "execution_count": 20,
   "source": [
    "train_data[train_data['document'].isnull()]"
   ],
   "outputs": [
    {
     "output_type": "execute_result",
     "data": {
      "text/plain": [
       "             id document  label\n",
       "25857   2172111      NaN      1\n",
       "55737   6369843      NaN      1\n",
       "110014  1034280      NaN      0\n",
       "126782  5942978      NaN      0\n",
       "140721  1034283      NaN      0"
      ],
      "text/html": [
       "<div>\n",
       "<style scoped>\n",
       "    .dataframe tbody tr th:only-of-type {\n",
       "        vertical-align: middle;\n",
       "    }\n",
       "\n",
       "    .dataframe tbody tr th {\n",
       "        vertical-align: top;\n",
       "    }\n",
       "\n",
       "    .dataframe thead th {\n",
       "        text-align: right;\n",
       "    }\n",
       "</style>\n",
       "<table border=\"1\" class=\"dataframe\">\n",
       "  <thead>\n",
       "    <tr style=\"text-align: right;\">\n",
       "      <th></th>\n",
       "      <th>id</th>\n",
       "      <th>document</th>\n",
       "      <th>label</th>\n",
       "    </tr>\n",
       "  </thead>\n",
       "  <tbody>\n",
       "    <tr>\n",
       "      <th>25857</th>\n",
       "      <td>2172111</td>\n",
       "      <td>NaN</td>\n",
       "      <td>1</td>\n",
       "    </tr>\n",
       "    <tr>\n",
       "      <th>55737</th>\n",
       "      <td>6369843</td>\n",
       "      <td>NaN</td>\n",
       "      <td>1</td>\n",
       "    </tr>\n",
       "    <tr>\n",
       "      <th>110014</th>\n",
       "      <td>1034280</td>\n",
       "      <td>NaN</td>\n",
       "      <td>0</td>\n",
       "    </tr>\n",
       "    <tr>\n",
       "      <th>126782</th>\n",
       "      <td>5942978</td>\n",
       "      <td>NaN</td>\n",
       "      <td>0</td>\n",
       "    </tr>\n",
       "    <tr>\n",
       "      <th>140721</th>\n",
       "      <td>1034283</td>\n",
       "      <td>NaN</td>\n",
       "      <td>0</td>\n",
       "    </tr>\n",
       "  </tbody>\n",
       "</table>\n",
       "</div>"
      ]
     },
     "metadata": {},
     "execution_count": 20
    }
   ],
   "metadata": {}
  },
  {
   "cell_type": "code",
   "execution_count": 21,
   "source": [
    "test_data[test_data['document'].isnull()]"
   ],
   "outputs": [
    {
     "output_type": "execute_result",
     "data": {
      "text/plain": [
       "            id document  label\n",
       "5746    402110      NaN      1\n",
       "7899   5026896      NaN      0\n",
       "27097   511097      NaN      1"
      ],
      "text/html": [
       "<div>\n",
       "<style scoped>\n",
       "    .dataframe tbody tr th:only-of-type {\n",
       "        vertical-align: middle;\n",
       "    }\n",
       "\n",
       "    .dataframe tbody tr th {\n",
       "        vertical-align: top;\n",
       "    }\n",
       "\n",
       "    .dataframe thead th {\n",
       "        text-align: right;\n",
       "    }\n",
       "</style>\n",
       "<table border=\"1\" class=\"dataframe\">\n",
       "  <thead>\n",
       "    <tr style=\"text-align: right;\">\n",
       "      <th></th>\n",
       "      <th>id</th>\n",
       "      <th>document</th>\n",
       "      <th>label</th>\n",
       "    </tr>\n",
       "  </thead>\n",
       "  <tbody>\n",
       "    <tr>\n",
       "      <th>5746</th>\n",
       "      <td>402110</td>\n",
       "      <td>NaN</td>\n",
       "      <td>1</td>\n",
       "    </tr>\n",
       "    <tr>\n",
       "      <th>7899</th>\n",
       "      <td>5026896</td>\n",
       "      <td>NaN</td>\n",
       "      <td>0</td>\n",
       "    </tr>\n",
       "    <tr>\n",
       "      <th>27097</th>\n",
       "      <td>511097</td>\n",
       "      <td>NaN</td>\n",
       "      <td>1</td>\n",
       "    </tr>\n",
       "  </tbody>\n",
       "</table>\n",
       "</div>"
      ]
     },
     "metadata": {},
     "execution_count": 21
    }
   ],
   "metadata": {}
  },
  {
   "cell_type": "markdown",
   "source": [
    "* document가 없는 데이터는 필요 없다 => drop!"
   ],
   "metadata": {}
  },
  {
   "cell_type": "code",
   "execution_count": 22,
   "source": [
    "train_data = train_data[~train_data['document'].isnull()]"
   ],
   "outputs": [],
   "metadata": {}
  },
  {
   "cell_type": "code",
   "execution_count": 23,
   "source": [
    "test_data = test_data[~test_data['document'].isnull()]"
   ],
   "outputs": [],
   "metadata": {}
  },
  {
   "cell_type": "code",
   "execution_count": 24,
   "source": [
    "train_data.isnull().sum()"
   ],
   "outputs": [
    {
     "output_type": "execute_result",
     "data": {
      "text/plain": [
       "id          0\n",
       "document    0\n",
       "label       0\n",
       "dtype: int64"
      ]
     },
     "metadata": {},
     "execution_count": 24
    }
   ],
   "metadata": {}
  },
  {
   "cell_type": "code",
   "execution_count": 25,
   "source": [
    "test_data.isnull().sum()"
   ],
   "outputs": [
    {
     "output_type": "execute_result",
     "data": {
      "text/plain": [
       "id          0\n",
       "document    0\n",
       "label       0\n",
       "dtype: int64"
      ]
     },
     "metadata": {},
     "execution_count": 25
    }
   ],
   "metadata": {}
  },
  {
   "cell_type": "markdown",
   "source": [
    "#### [1-7] 필요없는 속성 제거\n",
    "=> id 제거"
   ],
   "metadata": {}
  },
  {
   "cell_type": "code",
   "execution_count": 26,
   "source": [
    "train_data = train_data[['document', 'label']]\n",
    "test_data = test_data[['document', 'label']]"
   ],
   "outputs": [],
   "metadata": {}
  },
  {
   "cell_type": "markdown",
   "source": [
    "## [2] 데이터 전처리"
   ],
   "metadata": {}
  },
  {
   "cell_type": "markdown",
   "source": [
    "1. 한글 및 공백을 제외한 모든 문자 제거 -> 한글만 남기겠다.\n",
    "2. 띄어쓰기 규칙\n",
    "3. mecab 객체를 활용해 형태소 단위로 문장을 나눈다(tokenzing)\n",
    "4. 불용어 제거하기"
   ],
   "metadata": {}
  },
  {
   "cell_type": "code",
   "execution_count": 27,
   "source": [
    "import numpy as np\n",
    "import pandas as pd\n",
    "import os\n",
    "import re\n",
    "import json\n",
    "\n",
    "from konlpy.tag import Mecab\n",
    "\n",
    "from tensorflow.python.keras.preprocessing.sequence import pad_sequences\n",
    "from tensorflow.python.keras.preprocessing.text import Tokenizer\n",
    "from hanspell import spell_checker\n",
    "\n",
    "from pykospacing import Spacing\n",
    "spacing = Spacing()\n",
    "\n",
    "mecab = Mecab() #형태소 분석기 선언\n"
   ],
   "outputs": [],
   "metadata": {}
  },
  {
   "cell_type": "code",
   "execution_count": 28,
   "source": [
    "stop_words = ['의','가','이','은','들','는','좀','잘','걍','과','도','를','으로','자','에','와','한','하다']"
   ],
   "outputs": [],
   "metadata": {}
  },
  {
   "cell_type": "markdown",
   "source": [
    "#### [2-1] 데이터 전처리 진행 1"
   ],
   "metadata": {}
  },
  {
   "cell_type": "code",
   "execution_count": 29,
   "source": [
    "def preprocessing(review, spell, remove_stopwords = False, stop_words = []):    \n",
    "    # 1. 한글 및 공백을 제외한 모든 문자 제거 -> 한글만 남기겠다.\n",
    "    review_text = re.sub(\"[^가-힣ㄱ-ㅎㅏ - | \\\\s]\", \"\", review)\n",
    "    \n",
    "    # 2. 띄어쓰기 규칙\n",
    "    review_text = spacing(review_text)\n",
    "    \n",
    "    # 3. mecab 객체를 활용해 형태소 단위로 문장을 나눈다(tokenzing)\n",
    "    word_review = mecab.morphs(review_text)\n",
    "    \n",
    "    # 4. 불용어 제거하기\n",
    "    if remove_stopwords:\n",
    "        word_review = [token for token in word_review if not token in stop_words]\n",
    "    \n",
    "    return word_review"
   ],
   "outputs": [],
   "metadata": {}
  },
  {
   "cell_type": "code",
   "execution_count": 30,
   "source": [
    "clean_train_review = []\n",
    "\n",
    "from tqdm import tqdm\n",
    "\n",
    "for review in tqdm(train_data['document']):\n",
    "    clean_train_review.append(preprocessing(review, False, remove_stopwords = True, stop_words = stop_words))"
   ],
   "outputs": [
    {
     "output_type": "stream",
     "name": "stderr",
     "text": [
      "100%|██████████| 149995/149995 [1:09:30<00:00, 35.96it/s]\n"
     ]
    }
   ],
   "metadata": {
    "tags": []
   }
  },
  {
   "cell_type": "code",
   "execution_count": 31,
   "source": [
    "print(\"전체 리뷰 개수 : \", len(clean_train_review))\n",
    "print(\"띄어쓰기 이상한 리뷰 제거한 개수 :\", len([clean for clean in clean_train_review if clean]))"
   ],
   "outputs": [
    {
     "output_type": "stream",
     "name": "stdout",
     "text": [
      "전체 리뷰 개수 :  149995\n",
      "띄어쓰기 이상한 리뷰 제거한 개수 : 148669\n"
     ]
    }
   ],
   "metadata": {}
  },
  {
   "cell_type": "code",
   "execution_count": 32,
   "source": [
    "for idx, clean in enumerate(clean_train_review):\n",
    "    if clean == None: continue\n",
    "    if clean == []:\n",
    "        clean_train_review[idx] = None\n",
    "    else:\n",
    "        clean_train_review[idx] = \" \".join(clean)"
   ],
   "outputs": [],
   "metadata": {}
  },
  {
   "cell_type": "code",
   "execution_count": 34,
   "source": [
    "clean_test_review = []\n",
    "\n",
    "for review in tqdm(test_data['document']):\n",
    "    clean_test_review.append(preprocessing(review, False, remove_stopwords = True, stop_words = stop_words))"
   ],
   "outputs": [
    {
     "output_type": "stream",
     "name": "stderr",
     "text": [
      "100%|██████████| 49997/49997 [23:09<00:00, 35.99it/s]\n"
     ]
    }
   ],
   "metadata": {
    "tags": []
   }
  },
  {
   "cell_type": "code",
   "execution_count": 35,
   "source": [
    "print(\"전체 리뷰 개수 : \", len(clean_test_review))\n",
    "print(\"띄어쓰기 이상한 리뷰 제거한 개수 :\", len([clean for clean in clean_test_review if clean]))"
   ],
   "outputs": [
    {
     "output_type": "stream",
     "name": "stdout",
     "text": [
      "전체 리뷰 개수 :  49997\n",
      "띄어쓰기 이상한 리뷰 제거한 개수 : 49549\n"
     ]
    }
   ],
   "metadata": {}
  },
  {
   "cell_type": "code",
   "execution_count": 36,
   "source": [
    "for idx, clean in enumerate(clean_test_review):\n",
    "    if clean == None: continue\n",
    "    if clean == []:\n",
    "        clean_test_review[idx] = None\n",
    "    else:\n",
    "        clean_test_review[idx] = \" \".join(clean)"
   ],
   "outputs": [],
   "metadata": {}
  },
  {
   "cell_type": "markdown",
   "source": [
    "#### [2-2] 띄어쓰기 이상한 리뷰 제거"
   ],
   "metadata": {}
  },
  {
   "cell_type": "code",
   "execution_count": 37,
   "source": [
    "train_data['document'] = clean_train_review"
   ],
   "outputs": [],
   "metadata": {}
  },
  {
   "cell_type": "code",
   "execution_count": 38,
   "source": [
    "train_data.isnull().sum()"
   ],
   "outputs": [
    {
     "output_type": "execute_result",
     "data": {
      "text/plain": [
       "document    1326\n",
       "label          0\n",
       "dtype: int64"
      ]
     },
     "metadata": {},
     "execution_count": 38
    }
   ],
   "metadata": {}
  },
  {
   "cell_type": "code",
   "execution_count": 39,
   "source": [
    "train_data = train_data[~train_data['document'].isnull()]"
   ],
   "outputs": [],
   "metadata": {}
  },
  {
   "cell_type": "code",
   "execution_count": 40,
   "source": [
    "train_data.isnull().sum()"
   ],
   "outputs": [
    {
     "output_type": "execute_result",
     "data": {
      "text/plain": [
       "document    0\n",
       "label       0\n",
       "dtype: int64"
      ]
     },
     "metadata": {},
     "execution_count": 40
    }
   ],
   "metadata": {}
  },
  {
   "cell_type": "code",
   "execution_count": 41,
   "source": [
    "print(\"전체 리뷰 개수 : \", len(train_data))"
   ],
   "outputs": [
    {
     "output_type": "stream",
     "name": "stdout",
     "text": [
      "전체 리뷰 개수 :  148669\n"
     ]
    }
   ],
   "metadata": {}
  },
  {
   "cell_type": "code",
   "execution_count": 42,
   "source": [
    "train_data"
   ],
   "outputs": [
    {
     "output_type": "execute_result",
     "data": {
      "text/plain": [
       "                                                 document  label\n",
       "0                                     아 더빙 진짜 짜증 나 네요 목소리      0\n",
       "1                     흠 포스터 보고 초딩 영화 줄 오버 연기 조차 가볍 지 않 구나      1\n",
       "2                                너무 재 밓었다 그래서 보 것 을 추천 한다      0\n",
       "3                             교도소 이야기 구먼 솔직히 재미 없 다 평점 조정      0\n",
       "4       사이몬 페그 익살 스런 연기 돋보였 던 영화 스파이더맨 에서 늙 어 보이 기 만 했...      1\n",
       "...                                                   ...    ...\n",
       "149995                                    인간 문제지 소 뭔 죄 인가      0\n",
       "149996                                         평점 너무 낮 아서      1\n",
       "149997                    이게 뭐 요 한국인 거들 먹거리 고 필리핀 혼혈 착하 다      0\n",
       "149998                          청춘 영화 최고봉 방황 우울 했 던 날 자화상      1\n",
       "149999                           한국 영화 최초 로 수간 하 내용 담긴 영화      0\n",
       "\n",
       "[148669 rows x 2 columns]"
      ],
      "text/html": [
       "<div>\n",
       "<style scoped>\n",
       "    .dataframe tbody tr th:only-of-type {\n",
       "        vertical-align: middle;\n",
       "    }\n",
       "\n",
       "    .dataframe tbody tr th {\n",
       "        vertical-align: top;\n",
       "    }\n",
       "\n",
       "    .dataframe thead th {\n",
       "        text-align: right;\n",
       "    }\n",
       "</style>\n",
       "<table border=\"1\" class=\"dataframe\">\n",
       "  <thead>\n",
       "    <tr style=\"text-align: right;\">\n",
       "      <th></th>\n",
       "      <th>document</th>\n",
       "      <th>label</th>\n",
       "    </tr>\n",
       "  </thead>\n",
       "  <tbody>\n",
       "    <tr>\n",
       "      <th>0</th>\n",
       "      <td>아 더빙 진짜 짜증 나 네요 목소리</td>\n",
       "      <td>0</td>\n",
       "    </tr>\n",
       "    <tr>\n",
       "      <th>1</th>\n",
       "      <td>흠 포스터 보고 초딩 영화 줄 오버 연기 조차 가볍 지 않 구나</td>\n",
       "      <td>1</td>\n",
       "    </tr>\n",
       "    <tr>\n",
       "      <th>2</th>\n",
       "      <td>너무 재 밓었다 그래서 보 것 을 추천 한다</td>\n",
       "      <td>0</td>\n",
       "    </tr>\n",
       "    <tr>\n",
       "      <th>3</th>\n",
       "      <td>교도소 이야기 구먼 솔직히 재미 없 다 평점 조정</td>\n",
       "      <td>0</td>\n",
       "    </tr>\n",
       "    <tr>\n",
       "      <th>4</th>\n",
       "      <td>사이몬 페그 익살 스런 연기 돋보였 던 영화 스파이더맨 에서 늙 어 보이 기 만 했...</td>\n",
       "      <td>1</td>\n",
       "    </tr>\n",
       "    <tr>\n",
       "      <th>...</th>\n",
       "      <td>...</td>\n",
       "      <td>...</td>\n",
       "    </tr>\n",
       "    <tr>\n",
       "      <th>149995</th>\n",
       "      <td>인간 문제지 소 뭔 죄 인가</td>\n",
       "      <td>0</td>\n",
       "    </tr>\n",
       "    <tr>\n",
       "      <th>149996</th>\n",
       "      <td>평점 너무 낮 아서</td>\n",
       "      <td>1</td>\n",
       "    </tr>\n",
       "    <tr>\n",
       "      <th>149997</th>\n",
       "      <td>이게 뭐 요 한국인 거들 먹거리 고 필리핀 혼혈 착하 다</td>\n",
       "      <td>0</td>\n",
       "    </tr>\n",
       "    <tr>\n",
       "      <th>149998</th>\n",
       "      <td>청춘 영화 최고봉 방황 우울 했 던 날 자화상</td>\n",
       "      <td>1</td>\n",
       "    </tr>\n",
       "    <tr>\n",
       "      <th>149999</th>\n",
       "      <td>한국 영화 최초 로 수간 하 내용 담긴 영화</td>\n",
       "      <td>0</td>\n",
       "    </tr>\n",
       "  </tbody>\n",
       "</table>\n",
       "<p>148669 rows × 2 columns</p>\n",
       "</div>"
      ]
     },
     "metadata": {},
     "execution_count": 42
    }
   ],
   "metadata": {}
  },
  {
   "cell_type": "code",
   "execution_count": 43,
   "source": [
    "test_data['document'] = clean_test_review"
   ],
   "outputs": [],
   "metadata": {}
  },
  {
   "cell_type": "code",
   "execution_count": 44,
   "source": [
    "test_data.isnull().sum()"
   ],
   "outputs": [
    {
     "output_type": "execute_result",
     "data": {
      "text/plain": [
       "document    448\n",
       "label         0\n",
       "dtype: int64"
      ]
     },
     "metadata": {},
     "execution_count": 44
    }
   ],
   "metadata": {}
  },
  {
   "cell_type": "code",
   "execution_count": 45,
   "source": [
    "test_data = test_data[~test_data['document'].isnull()]"
   ],
   "outputs": [],
   "metadata": {}
  },
  {
   "cell_type": "code",
   "execution_count": 46,
   "source": [
    "test_data.isnull().sum()"
   ],
   "outputs": [
    {
     "output_type": "execute_result",
     "data": {
      "text/plain": [
       "document    0\n",
       "label       0\n",
       "dtype: int64"
      ]
     },
     "metadata": {},
     "execution_count": 46
    }
   ],
   "metadata": {}
  },
  {
   "cell_type": "code",
   "execution_count": 47,
   "source": [
    "print(\"전체 리뷰 개수 : \", len(test_data))"
   ],
   "outputs": [
    {
     "output_type": "stream",
     "name": "stdout",
     "text": [
      "전체 리뷰 개수 :  49549\n"
     ]
    }
   ],
   "metadata": {}
  },
  {
   "cell_type": "code",
   "execution_count": 48,
   "source": [
    "train_data.to_csv(BASIC_PATH + 'clean_train1.csv', index=False)\n",
    "test_data.to_csv(BASIC_PATH + 'clean_test1.csv', index=False)"
   ],
   "outputs": [],
   "metadata": {}
  },
  {
   "cell_type": "markdown",
   "source": [
    "## [3] 정수 임베딩"
   ],
   "metadata": {}
  },
  {
   "cell_type": "code",
   "execution_count": 4,
   "source": [
    "## 만약에 위에 clean code 지나치고 싶으면\n",
    "CLEAN_TRAIN = \"clean1/clean_train1.csv\"\n",
    "CLEAN_TEST = \"clean1/clean_test1.csv\"\n",
    "\n",
    "train_data = pd.read_csv(BASIC_PATH+CLEAN_TRAIN)\n",
    "test_data = pd.read_csv(BASIC_PATH+CLEAN_TEST)"
   ],
   "outputs": [],
   "metadata": {}
  },
  {
   "cell_type": "code",
   "execution_count": 5,
   "source": [
    "X_train = train_data['document'].tolist()\n",
    "X_train = [x.split() for x in X_train]\n",
    "y_train = np.array(list(train_data['label'].tolist()))"
   ],
   "outputs": [],
   "metadata": {}
  },
  {
   "cell_type": "code",
   "execution_count": 6,
   "source": [
    "X_test = test_data['document'].tolist()\n",
    "X_test = [x.split() for x in X_test]\n",
    "y_test = np.array(list(test_data['label'].tolist()))"
   ],
   "outputs": [],
   "metadata": {}
  },
  {
   "cell_type": "code",
   "execution_count": 7,
   "source": [
    "print(X_train[5])"
   ],
   "outputs": [
    {
     "output_type": "stream",
     "name": "stdout",
     "text": [
      "['막', '걸음마', '뗀', '세', '부터', '초등', '학교', '학년', '생', '인', '살용', '영화', 'ㅋㅋㅋ', '별반', '개', '아까움']\n"
     ]
    }
   ],
   "metadata": {
    "tags": []
   }
  },
  {
   "cell_type": "markdown",
   "source": [
    "### [3-1] Keras Tokenizer 사용"
   ],
   "metadata": {}
  },
  {
   "cell_type": "markdown",
   "source": [
    "* X_train1 로 저장!\n",
    "* X_test1 로 저장!"
   ],
   "metadata": {}
  },
  {
   "cell_type": "code",
   "execution_count": 8,
   "source": [
    "X_train1 = X_train.copy()\n",
    "X_test1 = X_test.copy()\n",
    "y_train1 = y_train.copy()\n",
    "y_test1 = y_test.copy()"
   ],
   "outputs": [],
   "metadata": {}
  },
  {
   "cell_type": "code",
   "execution_count": 9,
   "source": [
    "from tensorflow.keras.preprocessing.text import Tokenizer"
   ],
   "outputs": [],
   "metadata": {}
  },
  {
   "cell_type": "code",
   "execution_count": 10,
   "source": [
    "tokenizer = Tokenizer()\n",
    "tokenizer.fit_on_texts(X_train1)"
   ],
   "outputs": [],
   "metadata": {}
  },
  {
   "cell_type": "code",
   "execution_count": 11,
   "source": [
    "print(\"총 단어 개수 :\", len(tokenizer.word_index)) # 총 단어 개수 : 44610"
   ],
   "outputs": [
    {
     "output_type": "stream",
     "name": "stdout",
     "text": [
      "총 단어 개수 : 44610\n"
     ]
    }
   ],
   "metadata": {}
  },
  {
   "cell_type": "code",
   "execution_count": 12,
   "source": [
    "threshold = 3 # 빈도 수는 2번이상인 단어 기준\n",
    "total_cnt = len(tokenizer.word_index) # 단어의 수\n",
    "rare_cnt = 0 # 등장 빈도수가 threshold보다 작은 단어의 개수를 카운트\n",
    "total_freq = 0 # 훈련 데이터의 전체 단어 빈도수 총 합\n",
    "rare_freq = 0 # 등장 빈도수가 threshold보다 작은 단어의 등장 빈도수의 총 합\n",
    "\n",
    "# 단어와 빈도수의 쌍(pair)을 key와 value로 받는다.\n",
    "for key, value in tokenizer.word_counts.items():\n",
    "    total_freq = total_freq + value\n",
    "\n",
    "    # 단어의 등장 빈도수가 threshold보다 작으면\n",
    "    if(value < threshold):\n",
    "        rare_cnt = rare_cnt + 1\n",
    "        rare_freq = rare_freq + value\n",
    "\n",
    "print('단어 집합(vocabulary)의 크기 :',total_cnt)\n",
    "print('등장 빈도가 %s번 이하인 희귀 단어의 수: %s'%(threshold - 1, rare_cnt))\n",
    "print(\"단어 집합에서 희귀 단어의 비율:\", (rare_cnt / total_cnt)*100)\n",
    "print(\"전체 등장 빈도에서 희귀 단어 등장 빈도 비율:\", (rare_freq / total_freq)*100)"
   ],
   "outputs": [
    {
     "output_type": "stream",
     "name": "stdout",
     "text": [
      "단어 집합(vocabulary)의 크기 : 44610\n",
      "등장 빈도가 2번 이하인 희귀 단어의 수: 23921\n",
      "단어 집합에서 희귀 단어의 비율: 53.6225061645371\n",
      "전체 등장 빈도에서 희귀 단어 등장 빈도 비율: 1.4797711102577327\n"
     ]
    }
   ],
   "metadata": {}
  },
  {
   "cell_type": "code",
   "execution_count": 13,
   "source": [
    "vocab_size = total_cnt - rare_cnt + 1\n",
    "print('단어 집합의 크기 :',vocab_size) # 단어 집합의 크기 : 27095"
   ],
   "outputs": [
    {
     "output_type": "stream",
     "name": "stdout",
     "text": [
      "단어 집합의 크기 : 20690\n"
     ]
    }
   ],
   "metadata": {
    "tags": []
   }
  },
  {
   "cell_type": "code",
   "execution_count": 14,
   "source": [
    "tokenizer = Tokenizer(vocab_size) # index 번호 부여가 빈도수 기반으로 했기 때문에 해당 vocab까지 자르기\n",
    "tokenizer.fit_on_texts(X_train1)\n",
    "X_train1 = tokenizer.texts_to_sequences(X_train1)\n",
    "X_test1 = tokenizer.texts_to_sequences(X_test1)"
   ],
   "outputs": [],
   "metadata": {}
  },
  {
   "cell_type": "code",
   "execution_count": 15,
   "source": [
    "print(X_train1[0])  # 1번째 리뷰데이터\n",
    "print('라벨: ', y_train1[0])  # 1번째 리뷰데이터의 라벨\n",
    "print('1번째 리뷰 문장 길이: ', len(X_train1[0]))"
   ],
   "outputs": [
    {
     "output_type": "stream",
     "name": "stdout",
     "text": [
      "[25, 492, 32, 215, 12, 29, 706]\n",
      "라벨:  0\n",
      "1번째 리뷰 문장 길이:  7\n"
     ]
    }
   ],
   "metadata": {}
  },
  {
   "cell_type": "markdown",
   "source": [
    "##### 빈 샘플 제거"
   ],
   "metadata": {}
  },
  {
   "cell_type": "code",
   "execution_count": 16,
   "source": [
    "drop_train = [index for index, sentence in enumerate(X_train1) if len(sentence) < 1]\n",
    "X_train1 = np.delete(X_train1, drop_train, axis=0)\n",
    "y_train1 = np.delete(y_train1, drop_train, axis=0)\n",
    "\n",
    "print(X_train1.shape)\n",
    "print(len(y_train1))"
   ],
   "outputs": [
    {
     "output_type": "stream",
     "name": "stdout",
     "text": [
      "(148554,)\n",
      "148554\n"
     ]
    },
    {
     "output_type": "stream",
     "name": "stderr",
     "text": [
      "/home/ai-sjjy/anaconda3/envs/juyoung/lib/python3.6/site-packages/numpy/core/_asarray.py:83: VisibleDeprecationWarning: Creating an ndarray from ragged nested sequences (which is a list-or-tuple of lists-or-tuples-or ndarrays with different lengths or shapes) is deprecated. If you meant to do this, you must specify 'dtype=object' when creating the ndarray\n",
      "  return array(a, dtype, copy=False, order=order)\n"
     ]
    }
   ],
   "metadata": {}
  },
  {
   "cell_type": "markdown",
   "source": [
    "#### [3-1-1] 임베딩 최대 길이 지정"
   ],
   "metadata": {}
  },
  {
   "cell_type": "code",
   "execution_count": 17,
   "source": [
    "total_data_text = list(X_train1) + list(X_test1)\n",
    "\n",
    "# 텍스트데이터 문장길이의 리스트를 생성한 후\n",
    "num_tokens = [len(tokens) for tokens in total_data_text]\n",
    "num_tokens = np.array(num_tokens)\n",
    "\n",
    "# 문장길이의 평균값, 최대값, 표준편차를 계산해 본다. \n",
    "print('문장길이 평균 : ', np.mean(num_tokens))\n",
    "print('문장길이 최대 : ', np.max(num_tokens))\n",
    "print('문장길이 표준편차 : ', np.std(num_tokens))"
   ],
   "outputs": [
    {
     "output_type": "stream",
     "name": "stdout",
     "text": [
      "문장길이 평균 :  13.584498972756597\n",
      "문장길이 최대 :  82\n",
      "문장길이 표준편차 :  11.497375138961875\n"
     ]
    }
   ],
   "metadata": {}
  },
  {
   "cell_type": "code",
   "execution_count": 18,
   "source": [
    "plt.figure(figsize=(12, 5))\n",
    "plt.hist([len(s) for s in X_train1], bins=50)\n",
    "plt.xlabel('length of samples')\n",
    "plt.ylabel('number of samples')\n",
    "plt.show()"
   ],
   "outputs": [
    {
     "output_type": "display_data",
     "data": {
      "text/plain": [
       "<Figure size 864x360 with 1 Axes>"
      ],
      "image/png": "[encoded data removed]"
     },
     "metadata": {
      "needs_background": "light"
     }
    }
   ],
   "metadata": {}
  },
  {
   "cell_type": "code",
   "execution_count": 19,
   "source": [
    "# 예를들어, 최대 길이를 (평균 + 2*표준편차)로 한다면,  \n",
    "max_len = 50\n",
    "print('pad_sequences maxlen : ', max_len)\n",
    "print('전체 문장의 {}%가 maxlen 설정값 이내에 포함됩니다. '.format(np.sum(num_tokens < max_len) / len(num_tokens)))"
   ],
   "outputs": [
    {
     "output_type": "stream",
     "name": "stdout",
     "text": [
      "pad_sequences maxlen :  50\n",
      "전체 문장의 0.9761790583686264%가 maxlen 설정값 이내에 포함됩니다. \n"
     ]
    }
   ],
   "metadata": {}
  },
  {
   "cell_type": "markdown",
   "source": [
    "#### [3-1-2] 패딩"
   ],
   "metadata": {}
  },
  {
   "cell_type": "code",
   "execution_count": 20,
   "source": [
    "from tensorflow.keras.preprocessing.sequence import pad_sequences\n",
    "\n",
    "X_train1 = pad_sequences(X_train1, maxlen = max_len)\n",
    "X_test1 = pad_sequences(X_test1, maxlen = max_len)"
   ],
   "outputs": [],
   "metadata": {}
  },
  {
   "cell_type": "code",
   "execution_count": 21,
   "source": [
    "# 데이터셋 정제 후 데이터셋 shape 확인\n",
    "print(X_train1.shape)\n",
    "print(X_test1.shape)"
   ],
   "outputs": [
    {
     "output_type": "stream",
     "name": "stdout",
     "text": [
      "(148554, 50)\n",
      "(49549, 50)\n"
     ]
    }
   ],
   "metadata": {}
  },
  {
   "cell_type": "code",
   "execution_count": 22,
   "source": [
    "data_config = {\n",
    "    'max_len' : max_len,\n",
    "    'vocab_size' : vocab_size\n",
    "}"
   ],
   "outputs": [],
   "metadata": {}
  },
  {
   "cell_type": "code",
   "execution_count": 23,
   "source": [
    "import json\n",
    "\n",
    "json.dump(data_config, open(BASIC_PATH + 'clean1/data_configs_token1.json', 'w'), ensure_ascii=False)"
   ],
   "outputs": [],
   "metadata": {}
  },
  {
   "cell_type": "code",
   "execution_count": 24,
   "source": [
    "# tokenizer 저장\n",
    "import pickle\n",
    "\n",
    "with open(BASIC_PATH+'clean1/basic_tokenizer1.pickle', 'wb') as handle:\n",
    "    pickle.dump(tokenizer, handle, protocol=pickle.HIGHEST_PROTOCOL)"
   ],
   "outputs": [],
   "metadata": {}
  },
  {
   "cell_type": "markdown",
   "source": [
    "### [3-2] TF-IDF"
   ],
   "metadata": {}
  },
  {
   "cell_type": "markdown",
   "source": [
    "* X_train2로 저장!\n",
    "* X_test2로 저장!"
   ],
   "metadata": {}
  },
  {
   "cell_type": "markdown",
   "source": [
    "* tf-idf에서는 input이 ['막', '걸음마', '뗀', '세', '부터', '초등', '학교', '학년', '생', '인', '살용', '영화', 'ㅋㅋㅋ', '별반', '개', '아까움'] 이런 토큰 형태가 아닌, 문장이어야 한다"
   ],
   "metadata": {}
  },
  {
   "cell_type": "code",
   "execution_count": 74,
   "source": [
    "X_train2 = [\" \".join(x) for x in X_train]\n",
    "X_test2 = [\" \".join(x) for x in X_test]\n",
    "y_train2 = y_train.copy()\n",
    "y_test2 = y_test.copy()"
   ],
   "outputs": [],
   "metadata": {}
  },
  {
   "cell_type": "code",
   "execution_count": 75,
   "source": [
    "print(X_train2[5])"
   ],
   "outputs": [
    {
     "output_type": "stream",
     "name": "stdout",
     "text": [
      "막 걸음마 뗀 세 부터 초등 학교 학년 생 인 살용 영화 ㅋㅋㅋ 별반 개 아까움\n"
     ]
    }
   ],
   "metadata": {}
  },
  {
   "cell_type": "code",
   "execution_count": 76,
   "source": [
    "print(X_test2[5])"
   ],
   "outputs": [
    {
     "output_type": "stream",
     "name": "stdout",
     "text": [
      "진정 쓰레기\n"
     ]
    }
   ],
   "metadata": {}
  },
  {
   "cell_type": "code",
   "execution_count": 77,
   "source": [
    "from sklearn.feature_extraction.text import TfidfVectorizer"
   ],
   "outputs": [],
   "metadata": {}
  },
  {
   "cell_type": "code",
   "execution_count": 78,
   "source": [
    "vectorizer = TfidfVectorizer(ngram_range=(1,1), min_df=2, analyzer=\"word\", sublinear_tf=True) # 최소 2번이상\n",
    "\n",
    "X_train2 = vectorizer.fit_transform(X_train2)\n",
    "X_test2 = vectorizer.transform(X_test2)"
   ],
   "outputs": [],
   "metadata": {}
  },
  {
   "cell_type": "code",
   "execution_count": 81,
   "source": [
    "vectorizer.get_feature_names()[:16]"
   ],
   "outputs": [
    {
     "output_type": "execute_result",
     "data": {
      "text/plain": [
       "['ㄲㄲ',\n",
       " 'ㄲㄲㄲ',\n",
       " 'ㄲㅇ',\n",
       " 'ㄲㅈ',\n",
       " 'ㄲㅈㅁ',\n",
       " 'ㄲㅋ',\n",
       " 'ㄲ가',\n",
       " 'ㄲ들',\n",
       " 'ㄳㄳ',\n",
       " 'ㄴ나',\n",
       " 'ㅃㅏ',\n",
       " 'ㅄ들아',\n",
       " 'ㅄ이',\n",
       " 'ㅄ임',\n",
       " 'ㅆㄹ',\n",
       " 'ㅆㄹㄱ']"
      ]
     },
     "metadata": {},
     "execution_count": 81
    }
   ],
   "metadata": {}
  },
  {
   "cell_type": "code",
   "execution_count": 82,
   "source": [
    "print(\"총 단어 개수 :\", len(vectorizer.vocabulary_)) # 총 단어 개수 : 42556\n",
    "print(\"총 단어 개수 :\", len(vectorizer.get_feature_names())) # 총 단어 개수 : 42556"
   ],
   "outputs": [
    {
     "output_type": "stream",
     "name": "stdout",
     "text": [
      "총 단어 개수 : 25035\n",
      "총 단어 개수 : 25035\n"
     ]
    }
   ],
   "metadata": {}
  },
  {
   "cell_type": "code",
   "execution_count": 83,
   "source": [
    "print(X_train2.shape)"
   ],
   "outputs": [
    {
     "output_type": "stream",
     "name": "stdout",
     "text": [
      "(148669, 25035)\n"
     ]
    }
   ],
   "metadata": {}
  },
  {
   "cell_type": "code",
   "execution_count": 84,
   "source": [
    "print(X_test2.shape)"
   ],
   "outputs": [
    {
     "output_type": "stream",
     "name": "stdout",
     "text": [
      "(49549, 25035)\n"
     ]
    }
   ],
   "metadata": {}
  },
  {
   "cell_type": "code",
   "execution_count": 85,
   "source": [
    "# tokenizer 저장\n",
    "import pickle\n",
    "\n",
    "with open(BASIC_PATH+'clean1/basic_tf-idf1.pickle', 'wb') as handle:\n",
    "    pickle.dump(vectorizer, handle, protocol=pickle.HIGHEST_PROTOCOL)"
   ],
   "outputs": [],
   "metadata": {}
  },
  {
   "cell_type": "markdown",
   "source": [
    "### [3-3] Word2Vec"
   ],
   "metadata": {}
  },
  {
   "cell_type": "markdown",
   "source": [
    "* X_train3로 저장!\n",
    "* X_test3로 저장!"
   ],
   "metadata": {}
  },
  {
   "cell_type": "markdown",
   "source": [
    "* 미리 학습된 Word2Vec\n",
    "\n",
    "한국어 Word2Vec 사용\n",
    "\n",
    "word2vec_path = BASIC_PATH+'ko.bin'\n",
    "\n",
    "word2vec = Word2Vec.load(word2vec_path)"
   ],
   "metadata": {}
  },
  {
   "cell_type": "code",
   "execution_count": 33,
   "source": [
    "X_train3 = X_train.copy()\n",
    "X_test3 = X_test.copy()\n",
    "y_train3 = y_train.copy()\n",
    "y_test3 = y_test.copy()"
   ],
   "outputs": [],
   "metadata": {}
  },
  {
   "cell_type": "code",
   "execution_count": 44,
   "source": [
    "from gensim.models import Word2Vec"
   ],
   "outputs": [],
   "metadata": {}
  },
  {
   "cell_type": "code",
   "execution_count": 45,
   "source": [
    "# 학습 시 필요한 하이퍼 파라미터\n",
    "\n",
    "num_features = 200 # 워드 백터 특정값 수 -> 임베딩 차원 수 지정\n",
    "min_word_count = 2 # 단어에 대한 최소 빈도 수 -> 빈도수가 적은 단어들은 학습 x\n",
    "num_workers = 4 # 프로세스 개수 \n",
    "context = 10 # 컨텍스트 윈도우 크기\n",
    "downsampling = 1e-3 # 다운 샘플링 비율"
   ],
   "outputs": [],
   "metadata": {}
  },
  {
   "cell_type": "code",
   "execution_count": 46,
   "source": [
    "w2_model = Word2Vec(X_train3, workers=num_workers, \\\n",
    "                         vector_size=num_features, min_count = min_word_count, \\\n",
    "                         window = context, sample = downsampling)"
   ],
   "outputs": [],
   "metadata": {}
  },
  {
   "cell_type": "code",
   "execution_count": 50,
   "source": [
    "def get_feature(words, model, num_feature):\n",
    "    # 우리는 num_feature 차원의 벡터 크기를 만들거임\n",
    "    feature_vector = np.zeros((num_features), dtype=np.float32) # feature_vector 초기화\n",
    "    \n",
    "    num_words = 0\n",
    "    \n",
    "    # index2word_set -> 문장 속 단어가 모델 단어 사전에 있는지 보기 위해 어휘 사전 부름\n",
    "    index2word_set = set(model.wv.index_to_key) # 어휘 사전 준비\n",
    "    \n",
    "    for w in words:\n",
    "        if w in index2word_set: # 단어가 모델 단어 사전에 있으면\n",
    "            num_words += 1\n",
    "            feature_vector = np.add(feature_vector, model.wv[w]) #wv[w] -> 해당 단어의 임베딩 벡터 가져와 모든 벡터들의 합을 구함\n",
    "    # 평균을 내기 위해서 feature vector / num_words(단어 사전에 있는 단어들)한다\n",
    "    feature_vector = np.divide(feature_vector, num_words) if num_words else np.zeros((num_features), dtype=np.float32)\n",
    "        \n",
    "    return feature_vector"
   ],
   "outputs": [],
   "metadata": {}
  },
  {
   "cell_type": "code",
   "execution_count": 51,
   "source": [
    "def get_dataset(sentences, model, num_features):\n",
    "    dataset = list()\n",
    "    \n",
    "    for s in sentences: # 한 문서씩 꺼냄 (단어 배열 형태 임)\n",
    "        dataset.append(get_feature(s, model, num_features)) # 이 단어 배열들을 임베딩 함\n",
    "        \n",
    "    #reviewFeatureVecs = np.stack(dataset)\n",
    "    return dataset"
   ],
   "outputs": [],
   "metadata": {}
  },
  {
   "cell_type": "code",
   "execution_count": 52,
   "source": [
    "# X 벡터화-임베딩ㅇ 진행 -> 실제 학습에 사용될 입력값을 만들어 보자.\n",
    "X_train3= get_dataset(X_train3, w2_model, num_features)\n",
    "X_test3= get_dataset(X_test3, w2_model, num_features)"
   ],
   "outputs": [],
   "metadata": {}
  },
  {
   "cell_type": "code",
   "execution_count": 53,
   "source": [
    "print(len(X_train3))\n",
    "print(len(y_train3))"
   ],
   "outputs": [
    {
     "output_type": "stream",
     "name": "stdout",
     "text": [
      "148669\n",
      "148669\n"
     ]
    }
   ],
   "metadata": {}
  },
  {
   "cell_type": "code",
   "execution_count": 54,
   "source": [
    "drop_train = []\n",
    "for idx, x in enumerate(X_train3):\n",
    "    try:\n",
    "        if x.all: pass\n",
    "    except:\n",
    "        drop_train.append(idx)\n",
    "\n",
    "X_train3 = np.delete(X_train3, drop_train, axis=0)\n",
    "y_train3 = np.delete(y_train3, drop_train, axis=0)\n",
    "\n",
    "print(len(X_train3))\n",
    "print(len(y_train3))\n",
    "\n",
    "X_train3 = np.stack(X_train3)"
   ],
   "outputs": [
    {
     "output_type": "stream",
     "name": "stdout",
     "text": [
      "148669\n",
      "148669\n"
     ]
    }
   ],
   "metadata": {
    "tags": []
   }
  },
  {
   "cell_type": "code",
   "execution_count": 55,
   "source": [
    "drop_train = []\n",
    "for idx, x in enumerate(X_test3):\n",
    "    try:\n",
    "        if x.all: pass\n",
    "    except:\n",
    "        drop_train.append(idx)\n",
    "\n",
    "X_test3 = np.delete(X_test3, drop_train, axis=0)\n",
    "y_test3 = np.delete(y_test3, drop_train, axis=0)\n",
    "\n",
    "print(len(X_test3))\n",
    "print(len(y_test3))\n",
    "\n",
    "X_test3 = np.stack(X_test3)"
   ],
   "outputs": [
    {
     "output_type": "stream",
     "name": "stdout",
     "text": [
      "49549\n",
      "49549\n"
     ]
    }
   ],
   "metadata": {}
  },
  {
   "cell_type": "code",
   "execution_count": 56,
   "source": [
    "w2_model.save(BASIC_PATH+'clean1/Word2vec1.model')"
   ],
   "outputs": [],
   "metadata": {}
  },
  {
   "cell_type": "markdown",
   "source": [
    "## [4] train data split 진행"
   ],
   "metadata": {}
  },
  {
   "cell_type": "markdown",
   "source": [
    "#### (1) X_train1, X_val1, X_test1 => Ketas tokenizer 이용"
   ],
   "metadata": {}
  },
  {
   "cell_type": "code",
   "execution_count": 25,
   "source": [
    "from sklearn.model_selection import train_test_split # 데이터 셋 분할\n",
    "\n",
    "TEST_SPLIT = 0.2\n",
    "\n",
    "X_train1, X_val1, y_train1, y_val1 = train_test_split(X_train1, y_train1, test_size=TEST_SPLIT)"
   ],
   "outputs": [],
   "metadata": {}
  },
  {
   "cell_type": "code",
   "execution_count": 26,
   "source": [
    "print(X_train1.shape)\n",
    "print(X_val1.shape)"
   ],
   "outputs": [
    {
     "output_type": "stream",
     "name": "stdout",
     "text": [
      "(118843, 50)\n",
      "(29711, 50)\n"
     ]
    }
   ],
   "metadata": {}
  },
  {
   "cell_type": "code",
   "execution_count": 27,
   "source": [
    "X_train1[0]"
   ],
   "outputs": [
    {
     "output_type": "execute_result",
     "data": {
      "text/plain": [
       "array([ 0,  0,  0,  0,  0,  0,  0,  0,  0,  0,  0,  0,  0,  0,  0,  0,  0,\n",
       "        0,  0,  0,  0,  0,  0,  0,  0,  0,  0,  0,  0,  0,  0,  0,  0,  0,\n",
       "        0,  0,  0,  0,  0,  0,  0,  0,  0,  0, 15, 15, 28,  7, 19, 53],\n",
       "      dtype=int32)"
      ]
     },
     "metadata": {},
     "execution_count": 27
    }
   ],
   "metadata": {}
  },
  {
   "cell_type": "markdown",
   "source": [
    "#### (2) X_train1, X_val1, X_test1 => TF-IDF tokenizer 이용"
   ],
   "metadata": {}
  },
  {
   "cell_type": "code",
   "execution_count": null,
   "source": [
    "X_train2, X_val2, y_train2, y_val2 = train_test_split(X_train2, y_train2, test_size=TEST_SPLIT, random_state=RANDOM_SEED)"
   ],
   "outputs": [
    {
     "output_type": "stream",
     "name": "stderr",
     "text": [
      "ERROR:root:Internal Python error in the inspect module.\n",
      "Below is the traceback from this internal error.\n",
      "\n",
      "ERROR:root:Internal Python error in the inspect module.\n",
      "Below is the traceback from this internal error.\n",
      "\n",
      "ERROR:root:Internal Python error in the inspect module.\n",
      "Below is the traceback from this internal error.\n",
      "\n"
     ]
    },
    {
     "output_type": "stream",
     "name": "stdout",
     "text": [
      "Traceback (most recent call last):\n",
      "  File \"/home/ai-sjjy/anaconda3/envs/juyoung/lib/python3.6/site-packages/IPython/core/interactiveshell.py\", line 3343, in run_code\n",
      "    exec(code_obj, self.user_global_ns, self.user_ns)\n",
      "  File \"<ipython-input-29-436799be20b4>\", line 1, in <module>\n",
      "    X_train2, X_val2, y_train2, y_val2 = train_test_split(X_train2, y_train2, test_size=TEST_SPLIT, random_state=RANDOM_SEED)\n",
      "NameError: name 'X_train2' is not defined\n",
      "\n",
      "During handling of the above exception, another exception occurred:\n",
      "\n",
      "Traceback (most recent call last):\n",
      "  File \"/home/ai-sjjy/anaconda3/envs/juyoung/lib/python3.6/site-packages/IPython/core/interactiveshell.py\", line 2044, in showtraceback\n",
      "    stb = value._render_traceback_()\n",
      "AttributeError: 'NameError' object has no attribute '_render_traceback_'\n",
      "\n",
      "During handling of the above exception, another exception occurred:\n",
      "\n",
      "Traceback (most recent call last):\n",
      "  File \"/home/ai-sjjy/anaconda3/envs/juyoung/lib/python3.6/site-packages/IPython/core/ultratb.py\", line 1169, in get_records\n",
      "    return _fixed_getinnerframes(etb, number_of_lines_of_context, tb_offset)\n",
      "  File \"/home/ai-sjjy/anaconda3/envs/juyoung/lib/python3.6/site-packages/IPython/core/ultratb.py\", line 316, in wrapped\n",
      "    return f(*args, **kwargs)\n",
      "  File \"/home/ai-sjjy/anaconda3/envs/juyoung/lib/python3.6/site-packages/IPython/core/ultratb.py\", line 350, in _fixed_getinnerframes\n",
      "    records = fix_frame_records_filenames(inspect.getinnerframes(etb, context))\n",
      "  File \"/home/ai-sjjy/anaconda3/envs/juyoung/lib/python3.6/inspect.py\", line 1490, in getinnerframes\n",
      "    frameinfo = (tb.tb_frame,) + getframeinfo(tb, context)\n",
      "  File \"/home/ai-sjjy/anaconda3/envs/juyoung/lib/python3.6/inspect.py\", line 1448, in getframeinfo\n",
      "    filename = getsourcefile(frame) or getfile(frame)\n",
      "  File \"/home/ai-sjjy/anaconda3/envs/juyoung/lib/python3.6/inspect.py\", line 696, in getsourcefile\n",
      "    if getattr(getmodule(object, filename), '__loader__', None) is not None:\n",
      "  File \"/home/ai-sjjy/anaconda3/envs/juyoung/lib/python3.6/inspect.py\", line 733, in getmodule\n",
      "    if ismodule(module) and hasattr(module, '__file__'):\n",
      "  File \"/home/ai-sjjy/anaconda3/envs/juyoung/lib/python3.6/site-packages/tensorflow/__init__.py\", line 50, in __getattr__\n",
      "    module = self._load()\n",
      "  File \"/home/ai-sjjy/anaconda3/envs/juyoung/lib/python3.6/site-packages/tensorflow/__init__.py\", line 44, in _load\n",
      "    module = _importlib.import_module(self.__name__)\n",
      "  File \"/home/ai-sjjy/anaconda3/envs/juyoung/lib/python3.6/importlib/__init__.py\", line 126, in import_module\n",
      "    return _bootstrap._gcd_import(name[level:], package, level)\n",
      "  File \"<frozen importlib._bootstrap>\", line 994, in _gcd_import\n",
      "  File \"<frozen importlib._bootstrap>\", line 971, in _find_and_load\n",
      "  File \"<frozen importlib._bootstrap>\", line 953, in _find_and_load_unlocked\n",
      "ModuleNotFoundError: No module named 'tensorflow_core.estimator'\n",
      "Traceback (most recent call last):\n",
      "  File \"/home/ai-sjjy/anaconda3/envs/juyoung/lib/python3.6/site-packages/IPython/core/interactiveshell.py\", line 3343, in run_code\n",
      "    exec(code_obj, self.user_global_ns, self.user_ns)\n",
      "  File \"<ipython-input-29-436799be20b4>\", line 1, in <module>\n",
      "    X_train2, X_val2, y_train2, y_val2 = train_test_split(X_train2, y_train2, test_size=TEST_SPLIT, random_state=RANDOM_SEED)\n",
      "NameError: name 'X_train2' is not defined\n",
      "\n",
      "During handling of the above exception, another exception occurred:\n",
      "\n",
      "Traceback (most recent call last):\n",
      "  File \"/home/ai-sjjy/anaconda3/envs/juyoung/lib/python3.6/site-packages/IPython/core/interactiveshell.py\", line 2044, in showtraceback\n",
      "    stb = value._render_traceback_()\n",
      "AttributeError: 'NameError' object has no attribute '_render_traceback_'\n",
      "\n",
      "During handling of the above exception, another exception occurred:\n",
      "\n",
      "Traceback (most recent call last):\n",
      "  File \"/home/ai-sjjy/anaconda3/envs/juyoung/lib/python3.6/site-packages/IPython/core/interactiveshell.py\", line 3263, in run_ast_nodes\n",
      "    if (await self.run_code(code, result,  async_=asy)):\n",
      "  File \"/home/ai-sjjy/anaconda3/envs/juyoung/lib/python3.6/site-packages/IPython/core/interactiveshell.py\", line 3360, in run_code\n",
      "    self.showtraceback(running_compiled_code=True)\n",
      "  File \"/home/ai-sjjy/anaconda3/envs/juyoung/lib/python3.6/site-packages/IPython/core/interactiveshell.py\", line 2047, in showtraceback\n",
      "    value, tb, tb_offset=tb_offset)\n",
      "  File \"/home/ai-sjjy/anaconda3/envs/juyoung/lib/python3.6/site-packages/IPython/core/ultratb.py\", line 1436, in structured_traceback\n",
      "    self, etype, value, tb, tb_offset, number_of_lines_of_context)\n",
      "  File \"/home/ai-sjjy/anaconda3/envs/juyoung/lib/python3.6/site-packages/IPython/core/ultratb.py\", line 1336, in structured_traceback\n",
      "    self, etype, value, tb, tb_offset, number_of_lines_of_context\n",
      "  File \"/home/ai-sjjy/anaconda3/envs/juyoung/lib/python3.6/site-packages/IPython/core/ultratb.py\", line 1193, in structured_traceback\n",
      "    tb_offset)\n",
      "  File \"/home/ai-sjjy/anaconda3/envs/juyoung/lib/python3.6/site-packages/IPython/core/ultratb.py\", line 1150, in format_exception_as_a_whole\n",
      "    last_unique, recursion_repeat = find_recursion(orig_etype, evalue, records)\n",
      "  File \"/home/ai-sjjy/anaconda3/envs/juyoung/lib/python3.6/site-packages/IPython/core/ultratb.py\", line 451, in find_recursion\n",
      "    return len(records), 0\n",
      "TypeError: object of type 'NoneType' has no len()\n",
      "\n",
      "During handling of the above exception, another exception occurred:\n",
      "\n",
      "Traceback (most recent call last):\n",
      "  File \"/home/ai-sjjy/anaconda3/envs/juyoung/lib/python3.6/site-packages/IPython/core/interactiveshell.py\", line 2044, in showtraceback\n",
      "    stb = value._render_traceback_()\n",
      "AttributeError: 'TypeError' object has no attribute '_render_traceback_'\n",
      "\n",
      "During handling of the above exception, another exception occurred:\n",
      "\n",
      "Traceback (most recent call last):\n",
      "  File \"/home/ai-sjjy/anaconda3/envs/juyoung/lib/python3.6/site-packages/IPython/core/ultratb.py\", line 1169, in get_records\n",
      "    return _fixed_getinnerframes(etb, number_of_lines_of_context, tb_offset)\n",
      "  File \"/home/ai-sjjy/anaconda3/envs/juyoung/lib/python3.6/site-packages/IPython/core/ultratb.py\", line 316, in wrapped\n",
      "    return f(*args, **kwargs)\n",
      "  File \"/home/ai-sjjy/anaconda3/envs/juyoung/lib/python3.6/site-packages/IPython/core/ultratb.py\", line 350, in _fixed_getinnerframes\n",
      "    records = fix_frame_records_filenames(inspect.getinnerframes(etb, context))\n",
      "  File \"/home/ai-sjjy/anaconda3/envs/juyoung/lib/python3.6/inspect.py\", line 1490, in getinnerframes\n",
      "    frameinfo = (tb.tb_frame,) + getframeinfo(tb, context)\n",
      "  File \"/home/ai-sjjy/anaconda3/envs/juyoung/lib/python3.6/inspect.py\", line 1448, in getframeinfo\n",
      "    filename = getsourcefile(frame) or getfile(frame)\n",
      "  File \"/home/ai-sjjy/anaconda3/envs/juyoung/lib/python3.6/inspect.py\", line 696, in getsourcefile\n",
      "    if getattr(getmodule(object, filename), '__loader__', None) is not None:\n",
      "  File \"/home/ai-sjjy/anaconda3/envs/juyoung/lib/python3.6/inspect.py\", line 733, in getmodule\n",
      "    if ismodule(module) and hasattr(module, '__file__'):\n",
      "  File \"/home/ai-sjjy/anaconda3/envs/juyoung/lib/python3.6/site-packages/tensorflow/__init__.py\", line 50, in __getattr__\n",
      "    module = self._load()\n",
      "  File \"/home/ai-sjjy/anaconda3/envs/juyoung/lib/python3.6/site-packages/tensorflow/__init__.py\", line 44, in _load\n",
      "    module = _importlib.import_module(self.__name__)\n",
      "  File \"/home/ai-sjjy/anaconda3/envs/juyoung/lib/python3.6/importlib/__init__.py\", line 126, in import_module\n",
      "    return _bootstrap._gcd_import(name[level:], package, level)\n",
      "  File \"<frozen importlib._bootstrap>\", line 994, in _gcd_import\n",
      "  File \"<frozen importlib._bootstrap>\", line 971, in _find_and_load\n",
      "  File \"<frozen importlib._bootstrap>\", line 953, in _find_and_load_unlocked\n",
      "ModuleNotFoundError: No module named 'tensorflow_core.estimator'\n",
      "Traceback (most recent call last):\n",
      "  File \"/home/ai-sjjy/anaconda3/envs/juyoung/lib/python3.6/site-packages/IPython/core/interactiveshell.py\", line 3343, in run_code\n",
      "    exec(code_obj, self.user_global_ns, self.user_ns)\n",
      "  File \"<ipython-input-29-436799be20b4>\", line 1, in <module>\n",
      "    X_train2, X_val2, y_train2, y_val2 = train_test_split(X_train2, y_train2, test_size=TEST_SPLIT, random_state=RANDOM_SEED)\n",
      "NameError: name 'X_train2' is not defined\n",
      "\n",
      "During handling of the above exception, another exception occurred:\n",
      "\n",
      "Traceback (most recent call last):\n",
      "  File \"/home/ai-sjjy/anaconda3/envs/juyoung/lib/python3.6/site-packages/IPython/core/interactiveshell.py\", line 2044, in showtraceback\n",
      "    stb = value._render_traceback_()\n",
      "AttributeError: 'NameError' object has no attribute '_render_traceback_'\n",
      "\n",
      "During handling of the above exception, another exception occurred:\n",
      "\n",
      "Traceback (most recent call last):\n",
      "  File \"/home/ai-sjjy/anaconda3/envs/juyoung/lib/python3.6/site-packages/IPython/core/interactiveshell.py\", line 3263, in run_ast_nodes\n",
      "    if (await self.run_code(code, result,  async_=asy)):\n",
      "  File \"/home/ai-sjjy/anaconda3/envs/juyoung/lib/python3.6/site-packages/IPython/core/interactiveshell.py\", line 3360, in run_code\n",
      "    self.showtraceback(running_compiled_code=True)\n",
      "  File \"/home/ai-sjjy/anaconda3/envs/juyoung/lib/python3.6/site-packages/IPython/core/interactiveshell.py\", line 2047, in showtraceback\n",
      "    value, tb, tb_offset=tb_offset)\n",
      "  File \"/home/ai-sjjy/anaconda3/envs/juyoung/lib/python3.6/site-packages/IPython/core/ultratb.py\", line 1436, in structured_traceback\n",
      "    self, etype, value, tb, tb_offset, number_of_lines_of_context)\n",
      "  File \"/home/ai-sjjy/anaconda3/envs/juyoung/lib/python3.6/site-packages/IPython/core/ultratb.py\", line 1336, in structured_traceback\n",
      "    self, etype, value, tb, tb_offset, number_of_lines_of_context\n",
      "  File \"/home/ai-sjjy/anaconda3/envs/juyoung/lib/python3.6/site-packages/IPython/core/ultratb.py\", line 1193, in structured_traceback\n",
      "    tb_offset)\n",
      "  File \"/home/ai-sjjy/anaconda3/envs/juyoung/lib/python3.6/site-packages/IPython/core/ultratb.py\", line 1150, in format_exception_as_a_whole\n",
      "    last_unique, recursion_repeat = find_recursion(orig_etype, evalue, records)\n",
      "  File \"/home/ai-sjjy/anaconda3/envs/juyoung/lib/python3.6/site-packages/IPython/core/ultratb.py\", line 451, in find_recursion\n",
      "    return len(records), 0\n",
      "TypeError: object of type 'NoneType' has no len()\n",
      "\n",
      "During handling of the above exception, another exception occurred:\n",
      "\n",
      "Traceback (most recent call last):\n",
      "  File \"/home/ai-sjjy/anaconda3/envs/juyoung/lib/python3.6/site-packages/IPython/core/interactiveshell.py\", line 2044, in showtraceback\n",
      "    stb = value._render_traceback_()\n",
      "AttributeError: 'TypeError' object has no attribute '_render_traceback_'\n",
      "\n",
      "During handling of the above exception, another exception occurred:\n",
      "\n",
      "Traceback (most recent call last):\n",
      "  File \"/home/ai-sjjy/anaconda3/envs/juyoung/lib/python3.6/site-packages/IPython/core/interactiveshell.py\", line 2895, in _run_cell\n",
      "    return runner(coro)\n",
      "  File \"/home/ai-sjjy/anaconda3/envs/juyoung/lib/python3.6/site-packages/IPython/core/async_helpers.py\", line 68, in _pseudo_sync_runner\n",
      "    coro.send(None)\n",
      "  File \"/home/ai-sjjy/anaconda3/envs/juyoung/lib/python3.6/site-packages/IPython/core/interactiveshell.py\", line 3072, in run_cell_async\n",
      "    interactivity=interactivity, compiler=compiler, result=result)\n",
      "  File \"/home/ai-sjjy/anaconda3/envs/juyoung/lib/python3.6/site-packages/IPython/core/interactiveshell.py\", line 3282, in run_ast_nodes\n",
      "    self.showtraceback()\n",
      "  File \"/home/ai-sjjy/anaconda3/envs/juyoung/lib/python3.6/site-packages/IPython/core/interactiveshell.py\", line 2047, in showtraceback\n",
      "    value, tb, tb_offset=tb_offset)\n",
      "  File \"/home/ai-sjjy/anaconda3/envs/juyoung/lib/python3.6/site-packages/IPython/core/ultratb.py\", line 1436, in structured_traceback\n",
      "    self, etype, value, tb, tb_offset, number_of_lines_of_context)\n",
      "  File \"/home/ai-sjjy/anaconda3/envs/juyoung/lib/python3.6/site-packages/IPython/core/ultratb.py\", line 1336, in structured_traceback\n",
      "    self, etype, value, tb, tb_offset, number_of_lines_of_context\n",
      "  File \"/home/ai-sjjy/anaconda3/envs/juyoung/lib/python3.6/site-packages/IPython/core/ultratb.py\", line 1211, in structured_traceback\n",
      "    chained_exceptions_tb_offset)\n",
      "  File \"/home/ai-sjjy/anaconda3/envs/juyoung/lib/python3.6/site-packages/IPython/core/ultratb.py\", line 1150, in format_exception_as_a_whole\n",
      "    last_unique, recursion_repeat = find_recursion(orig_etype, evalue, records)\n",
      "  File \"/home/ai-sjjy/anaconda3/envs/juyoung/lib/python3.6/site-packages/IPython/core/ultratb.py\", line 451, in find_recursion\n",
      "    return len(records), 0\n",
      "TypeError: object of type 'NoneType' has no len()\n",
      "\n",
      "During handling of the above exception, another exception occurred:\n",
      "\n",
      "Traceback (most recent call last):\n",
      "  File \"/home/ai-sjjy/anaconda3/envs/juyoung/lib/python3.6/site-packages/IPython/core/interactiveshell.py\", line 2044, in showtraceback\n",
      "    stb = value._render_traceback_()\n",
      "AttributeError: 'TypeError' object has no attribute '_render_traceback_'\n",
      "\n",
      "During handling of the above exception, another exception occurred:\n",
      "\n",
      "Traceback (most recent call last):\n",
      "  File \"/home/ai-sjjy/anaconda3/envs/juyoung/lib/python3.6/site-packages/IPython/core/ultratb.py\", line 1169, in get_records\n",
      "    return _fixed_getinnerframes(etb, number_of_lines_of_context, tb_offset)\n",
      "  File \"/home/ai-sjjy/anaconda3/envs/juyoung/lib/python3.6/site-packages/IPython/core/ultratb.py\", line 316, in wrapped\n",
      "    return f(*args, **kwargs)\n",
      "  File \"/home/ai-sjjy/anaconda3/envs/juyoung/lib/python3.6/site-packages/IPython/core/ultratb.py\", line 350, in _fixed_getinnerframes\n",
      "    records = fix_frame_records_filenames(inspect.getinnerframes(etb, context))\n",
      "  File \"/home/ai-sjjy/anaconda3/envs/juyoung/lib/python3.6/inspect.py\", line 1490, in getinnerframes\n",
      "    frameinfo = (tb.tb_frame,) + getframeinfo(tb, context)\n",
      "  File \"/home/ai-sjjy/anaconda3/envs/juyoung/lib/python3.6/inspect.py\", line 1448, in getframeinfo\n",
      "    filename = getsourcefile(frame) or getfile(frame)\n",
      "  File \"/home/ai-sjjy/anaconda3/envs/juyoung/lib/python3.6/inspect.py\", line 696, in getsourcefile\n",
      "    if getattr(getmodule(object, filename), '__loader__', None) is not None:\n",
      "  File \"/home/ai-sjjy/anaconda3/envs/juyoung/lib/python3.6/inspect.py\", line 733, in getmodule\n",
      "    if ismodule(module) and hasattr(module, '__file__'):\n",
      "  File \"/home/ai-sjjy/anaconda3/envs/juyoung/lib/python3.6/site-packages/tensorflow/__init__.py\", line 50, in __getattr__\n",
      "    module = self._load()\n",
      "  File \"/home/ai-sjjy/anaconda3/envs/juyoung/lib/python3.6/site-packages/tensorflow/__init__.py\", line 44, in _load\n",
      "    module = _importlib.import_module(self.__name__)\n",
      "  File \"/home/ai-sjjy/anaconda3/envs/juyoung/lib/python3.6/importlib/__init__.py\", line 126, in import_module\n",
      "    return _bootstrap._gcd_import(name[level:], package, level)\n",
      "  File \"<frozen importlib._bootstrap>\", line 994, in _gcd_import\n",
      "  File \"<frozen importlib._bootstrap>\", line 971, in _find_and_load\n",
      "  File \"<frozen importlib._bootstrap>\", line 953, in _find_and_load_unlocked\n",
      "ModuleNotFoundError: No module named 'tensorflow_core.estimator'\n"
     ]
    }
   ],
   "metadata": {
    "collapsed": true,
    "jupyter": {
     "outputs_hidden": true
    },
    "tags": []
   }
  },
  {
   "cell_type": "code",
   "execution_count": 87,
   "source": [
    "print(X_train2.shape)\n",
    "print(X_val2.shape)"
   ],
   "outputs": [
    {
     "output_type": "stream",
     "name": "stdout",
     "text": [
      "(118935, 25035)\n",
      "(29734, 25035)\n"
     ]
    }
   ],
   "metadata": {}
  },
  {
   "cell_type": "code",
   "execution_count": 88,
   "source": [
    "X_train2[0]"
   ],
   "outputs": [
    {
     "output_type": "execute_result",
     "data": {
      "text/plain": [
       "<1x25035 sparse matrix of type '<class 'numpy.float64'>'\n",
       "\twith 0 stored elements in Compressed Sparse Row format>"
      ]
     },
     "metadata": {},
     "execution_count": 88
    }
   ],
   "metadata": {}
  },
  {
   "cell_type": "code",
   "execution_count": 89,
   "source": [
    "X_train2 = X_train2.toarray()\n",
    "X_test2 = X_test2.toarray()"
   ],
   "outputs": [],
   "metadata": {}
  },
  {
   "cell_type": "markdown",
   "source": [
    "#### (3) X_train1, X_val1, X_test1 => Word2Vec tokenizer 이용"
   ],
   "metadata": {}
  },
  {
   "cell_type": "code",
   "execution_count": 64,
   "source": [
    "X_train3, X_val3, y_train3, y_val3 = train_test_split(X_train3, y_train3, test_size=TEST_SPLIT, random_state=RANDOM_SEED)"
   ],
   "outputs": [],
   "metadata": {}
  },
  {
   "cell_type": "code",
   "execution_count": 65,
   "source": [
    "print(X_train3.shape)\n",
    "print(X_val3.shape)"
   ],
   "outputs": [
    {
     "output_type": "stream",
     "name": "stdout",
     "text": [
      "(118935, 200)\n",
      "(29734, 200)\n"
     ]
    }
   ],
   "metadata": {}
  },
  {
   "cell_type": "markdown",
   "source": [
    "## [5] 모델 설정 및 훈련"
   ],
   "metadata": {}
  },
  {
   "cell_type": "markdown",
   "source": [
    "### [5-1] 머신러닝 모델\n",
    "\n",
    "* Naive Bayes Classification\n",
    "* Support Vector Machine\n",
    "* Random Fores\n",
    "* XG Boost"
   ],
   "metadata": {}
  },
  {
   "cell_type": "markdown",
   "source": [
    "### [5-1-1] Naive Bayes Classification"
   ],
   "metadata": {}
  },
  {
   "cell_type": "markdown",
   "source": [
    "#### (1) X_train1, X_val1, X_test1 => Ketas tokenizer 이용"
   ],
   "metadata": {}
  },
  {
   "cell_type": "code",
   "execution_count": 25,
   "source": [
    "from sklearn.naive_bayes import MultinomialNB # 다항분포 나이브 베이즈 모델\n",
    "from sklearn.metrics import accuracy_score #정확도 계산\n",
    "\n",
    "nb1 = MultinomialNB(alpha=1.0, class_prior=None, fit_prior=True)\n",
    "nb1.fit(X_train1, y_train1)"
   ],
   "outputs": [
    {
     "output_type": "execute_result",
     "data": {
      "text/plain": [
       "MultinomialNB()"
      ]
     },
     "metadata": {},
     "execution_count": 25
    }
   ],
   "metadata": {}
  },
  {
   "cell_type": "code",
   "execution_count": 28,
   "source": [
    "predicted1 = nb1.predict(X_val1)\n",
    "print(\"Accuracy : %f\" % nb1.score(X_val1, y_val1)) # score()함수 => 정확도 측정"
   ],
   "outputs": [
    {
     "output_type": "stream",
     "name": "stdout",
     "text": [
      "Accuracy : 0.499731\n"
     ]
    }
   ],
   "metadata": {}
  },
  {
   "cell_type": "code",
   "execution_count": 29,
   "source": [
    "print(\"Accuracy : %f\" % nb1.score(X_test1, y_test1)) # score()함수 => 정확도 측정"
   ],
   "outputs": [
    {
     "output_type": "stream",
     "name": "stdout",
     "text": [
      "Accuracy : 0.506347\n"
     ]
    }
   ],
   "metadata": {}
  },
  {
   "cell_type": "markdown",
   "source": [
    "#### (2) X_train1, X_val1, X_test1 => TF-IDF tokenizer 이용"
   ],
   "metadata": {}
  },
  {
   "cell_type": "code",
   "execution_count": 90,
   "source": [
    "nb2 = MultinomialNB(alpha=1.0, class_prior=None, fit_prior=True)\n",
    "nb2.fit(X_train2, y_train2)"
   ],
   "outputs": [
    {
     "output_type": "execute_result",
     "data": {
      "text/plain": [
       "MultinomialNB()"
      ]
     },
     "metadata": {},
     "execution_count": 90
    }
   ],
   "metadata": {}
  },
  {
   "cell_type": "code",
   "execution_count": 91,
   "source": [
    "predicted1 = nb2.predict(X_val2)\n",
    "print(\"Accuracy : %f\" % nb2.score(X_val2, y_val2)) # score()함수 => 정확도 측정"
   ],
   "outputs": [
    {
     "output_type": "stream",
     "name": "stdout",
     "text": [
      "Accuracy : 0.805475\n"
     ]
    }
   ],
   "metadata": {}
  },
  {
   "cell_type": "code",
   "execution_count": 92,
   "source": [
    "print(\"Accuracy : %f\" % nb2.score(X_test2, y_test2)) # score()함수 => 정확도 측정"
   ],
   "outputs": [
    {
     "output_type": "stream",
     "name": "stdout",
     "text": [
      "Accuracy : 0.808271\n"
     ]
    }
   ],
   "metadata": {}
  },
  {
   "cell_type": "markdown",
   "source": [
    "#### (3) X_train1, X_val1, X_test1 => Word2Vec tokenizer 이용"
   ],
   "metadata": {}
  },
  {
   "cell_type": "code",
   "execution_count": 93,
   "source": [
    "nb3 = MultinomialNB(alpha=1.0, class_prior=None, fit_prior=True)\n",
    "nb3.fit(X_train3, y_train3)"
   ],
   "outputs": [
    {
     "output_type": "error",
     "ename": "ValueError",
     "evalue": "Negative values in data passed to MultinomialNB (input X)",
     "traceback": [
      "\u001b[0;31m---------------------------------------------------------------------------\u001b[0m",
      "\u001b[0;31mValueError\u001b[0m                                Traceback (most recent call last)",
      "\u001b[0;32m<ipython-input-93-04fe747c292c>\u001b[0m in \u001b[0;36m<module>\u001b[0;34m\u001b[0m\n\u001b[1;32m      1\u001b[0m \u001b[0mnb3\u001b[0m \u001b[0;34m=\u001b[0m \u001b[0mMultinomialNB\u001b[0m\u001b[0;34m(\u001b[0m\u001b[0malpha\u001b[0m\u001b[0;34m=\u001b[0m\u001b[0;36m1.0\u001b[0m\u001b[0;34m,\u001b[0m \u001b[0mclass_prior\u001b[0m\u001b[0;34m=\u001b[0m\u001b[0;32mNone\u001b[0m\u001b[0;34m,\u001b[0m \u001b[0mfit_prior\u001b[0m\u001b[0;34m=\u001b[0m\u001b[0;32mTrue\u001b[0m\u001b[0;34m)\u001b[0m\u001b[0;34m\u001b[0m\u001b[0;34m\u001b[0m\u001b[0m\n\u001b[0;32m----> 2\u001b[0;31m \u001b[0mnb3\u001b[0m\u001b[0;34m.\u001b[0m\u001b[0mfit\u001b[0m\u001b[0;34m(\u001b[0m\u001b[0mX_train3\u001b[0m\u001b[0;34m,\u001b[0m \u001b[0my_train3\u001b[0m\u001b[0;34m)\u001b[0m\u001b[0;34m\u001b[0m\u001b[0;34m\u001b[0m\u001b[0m\n\u001b[0m",
      "\u001b[0;32m~/anaconda3/envs/juyoung/lib/python3.8/site-packages/sklearn/naive_bayes.py\u001b[0m in \u001b[0;36mfit\u001b[0;34m(self, X, y, sample_weight)\u001b[0m\n\u001b[1;32m    636\u001b[0m \u001b[0;34m\u001b[0m\u001b[0m\n\u001b[1;32m    637\u001b[0m         \u001b[0mself\u001b[0m\u001b[0;34m.\u001b[0m\u001b[0m_init_counters\u001b[0m\u001b[0;34m(\u001b[0m\u001b[0mn_effective_classes\u001b[0m\u001b[0;34m,\u001b[0m \u001b[0mn_features\u001b[0m\u001b[0;34m)\u001b[0m\u001b[0;34m\u001b[0m\u001b[0;34m\u001b[0m\u001b[0m\n\u001b[0;32m--> 638\u001b[0;31m         \u001b[0mself\u001b[0m\u001b[0;34m.\u001b[0m\u001b[0m_count\u001b[0m\u001b[0;34m(\u001b[0m\u001b[0mX\u001b[0m\u001b[0;34m,\u001b[0m \u001b[0mY\u001b[0m\u001b[0;34m)\u001b[0m\u001b[0;34m\u001b[0m\u001b[0;34m\u001b[0m\u001b[0m\n\u001b[0m\u001b[1;32m    639\u001b[0m         \u001b[0malpha\u001b[0m \u001b[0;34m=\u001b[0m \u001b[0mself\u001b[0m\u001b[0;34m.\u001b[0m\u001b[0m_check_alpha\u001b[0m\u001b[0;34m(\u001b[0m\u001b[0;34m)\u001b[0m\u001b[0;34m\u001b[0m\u001b[0;34m\u001b[0m\u001b[0m\n\u001b[1;32m    640\u001b[0m         \u001b[0mself\u001b[0m\u001b[0;34m.\u001b[0m\u001b[0m_update_feature_log_prob\u001b[0m\u001b[0;34m(\u001b[0m\u001b[0malpha\u001b[0m\u001b[0;34m)\u001b[0m\u001b[0;34m\u001b[0m\u001b[0;34m\u001b[0m\u001b[0m\n",
      "\u001b[0;32m~/anaconda3/envs/juyoung/lib/python3.8/site-packages/sklearn/naive_bayes.py\u001b[0m in \u001b[0;36m_count\u001b[0;34m(self, X, Y)\u001b[0m\n\u001b[1;32m    769\u001b[0m     \u001b[0;32mdef\u001b[0m \u001b[0m_count\u001b[0m\u001b[0;34m(\u001b[0m\u001b[0mself\u001b[0m\u001b[0;34m,\u001b[0m \u001b[0mX\u001b[0m\u001b[0;34m,\u001b[0m \u001b[0mY\u001b[0m\u001b[0;34m)\u001b[0m\u001b[0;34m:\u001b[0m\u001b[0;34m\u001b[0m\u001b[0;34m\u001b[0m\u001b[0m\n\u001b[1;32m    770\u001b[0m         \u001b[0;34m\"\"\"Count and smooth feature occurrences.\"\"\"\u001b[0m\u001b[0;34m\u001b[0m\u001b[0;34m\u001b[0m\u001b[0m\n\u001b[0;32m--> 771\u001b[0;31m         \u001b[0mcheck_non_negative\u001b[0m\u001b[0;34m(\u001b[0m\u001b[0mX\u001b[0m\u001b[0;34m,\u001b[0m \u001b[0;34m\"MultinomialNB (input X)\"\u001b[0m\u001b[0;34m)\u001b[0m\u001b[0;34m\u001b[0m\u001b[0;34m\u001b[0m\u001b[0m\n\u001b[0m\u001b[1;32m    772\u001b[0m         \u001b[0mself\u001b[0m\u001b[0;34m.\u001b[0m\u001b[0mfeature_count_\u001b[0m \u001b[0;34m+=\u001b[0m \u001b[0msafe_sparse_dot\u001b[0m\u001b[0;34m(\u001b[0m\u001b[0mY\u001b[0m\u001b[0;34m.\u001b[0m\u001b[0mT\u001b[0m\u001b[0;34m,\u001b[0m \u001b[0mX\u001b[0m\u001b[0;34m)\u001b[0m\u001b[0;34m\u001b[0m\u001b[0;34m\u001b[0m\u001b[0m\n\u001b[1;32m    773\u001b[0m         \u001b[0mself\u001b[0m\u001b[0;34m.\u001b[0m\u001b[0mclass_count_\u001b[0m \u001b[0;34m+=\u001b[0m \u001b[0mY\u001b[0m\u001b[0;34m.\u001b[0m\u001b[0msum\u001b[0m\u001b[0;34m(\u001b[0m\u001b[0maxis\u001b[0m\u001b[0;34m=\u001b[0m\u001b[0;36m0\u001b[0m\u001b[0;34m)\u001b[0m\u001b[0;34m\u001b[0m\u001b[0;34m\u001b[0m\u001b[0m\n",
      "\u001b[0;32m~/anaconda3/envs/juyoung/lib/python3.8/site-packages/sklearn/utils/validation.py\u001b[0m in \u001b[0;36mcheck_non_negative\u001b[0;34m(X, whom)\u001b[0m\n\u001b[1;32m   1123\u001b[0m \u001b[0;34m\u001b[0m\u001b[0m\n\u001b[1;32m   1124\u001b[0m     \u001b[0;32mif\u001b[0m \u001b[0mX_min\u001b[0m \u001b[0;34m<\u001b[0m \u001b[0;36m0\u001b[0m\u001b[0;34m:\u001b[0m\u001b[0;34m\u001b[0m\u001b[0;34m\u001b[0m\u001b[0m\n\u001b[0;32m-> 1125\u001b[0;31m         \u001b[0;32mraise\u001b[0m \u001b[0mValueError\u001b[0m\u001b[0;34m(\u001b[0m\u001b[0;34m\"Negative values in data passed to %s\"\u001b[0m \u001b[0;34m%\u001b[0m \u001b[0mwhom\u001b[0m\u001b[0;34m)\u001b[0m\u001b[0;34m\u001b[0m\u001b[0;34m\u001b[0m\u001b[0m\n\u001b[0m\u001b[1;32m   1126\u001b[0m \u001b[0;34m\u001b[0m\u001b[0m\n\u001b[1;32m   1127\u001b[0m \u001b[0;34m\u001b[0m\u001b[0m\n",
      "\u001b[0;31mValueError\u001b[0m: Negative values in data passed to MultinomialNB (input X)"
     ]
    }
   ],
   "metadata": {
    "collapsed": true,
    "jupyter": {
     "outputs_hidden": true
    },
    "tags": []
   }
  },
  {
   "cell_type": "code",
   "execution_count": null,
   "source": [],
   "outputs": [],
   "metadata": {}
  },
  {
   "cell_type": "markdown",
   "source": [
    "### [5-2] 딥러닝 모델\n",
    "\n",
    "* LSTM\n",
    "* CNN\n",
    "* BiLSTM\n",
    "* GRU\n",
    "* CNN+LSTM"
   ],
   "metadata": {}
  },
  {
   "cell_type": "markdown",
   "source": [
    "\n",
    "|모델|정확도|\n",
    "|---|---|\n",
    "|lstm|85.9%|\n",
    "|cnn|85.6%|\n",
    "|bilsm|85.8%|\n",
    "|gru|85.7%|\n",
    "|cnn+lstm|%|"
   ],
   "metadata": {}
  },
  {
   "cell_type": "markdown",
   "source": [
    "### [5-2] LSTM"
   ],
   "metadata": {}
  },
  {
   "cell_type": "markdown",
   "source": [
    "#### (1) X_train1, X_val1, X_test1 => Ketas tokenizer 이용"
   ],
   "metadata": {}
  },
  {
   "cell_type": "code",
   "execution_count": 28,
   "source": [
    "from tensorflow.keras.layers import Embedding, Dense, LSTM, Dropout, Conv1D, GlobalMaxPooling1D, Input, Flatten, Concatenate, Bidirectional, MaxPooling1D\n",
    "from tensorflow.keras.models import Sequential, Model\n",
    "from tensorflow.keras.callbacks import EarlyStopping, ModelCheckpoint\n"
   ],
   "outputs": [],
   "metadata": {}
  },
  {
   "cell_type": "code",
   "execution_count": 29,
   "source": [
    "vocab_size, word_vector_dim = vocab_size, 100"
   ],
   "outputs": [],
   "metadata": {}
  },
  {
   "cell_type": "code",
   "execution_count": 30,
   "source": [
    "lstm = Sequential()\n",
    "lstm.add(Embedding(vocab_size, word_vector_dim))\n",
    "lstm.add(LSTM(128))\n",
    "lstm.add(Dense(1, activation='sigmoid'))"
   ],
   "outputs": [],
   "metadata": {}
  },
  {
   "cell_type": "code",
   "execution_count": 31,
   "source": [
    "es1 = EarlyStopping(monitor='val_loss', mode='min', verbose=1, patience=4)\n",
    "mc1 = ModelCheckpoint('lstm_model.h5', monitor='val_acc', mode='max', verbose=1, save_best_only=True)\n",
    "lstm.compile(optimizer='rmsprop',\n",
    "              loss='binary_crossentropy',\n",
    "              metrics=['accuracy'])"
   ],
   "outputs": [],
   "metadata": {}
  },
  {
   "cell_type": "markdown",
   "source": [
    "#### (1) X_train1, X_val1, X_test1 => Ketas tokenizer 이용"
   ],
   "metadata": {}
  },
  {
   "cell_type": "code",
   "execution_count": 32,
   "source": [
    "epochs=20\n",
    "\n",
    "history = lstm.fit(X_train1, y_train1,\n",
    "                    epochs=epochs,\n",
    "                    batch_size=64, # 512, 100, 60 \n",
    "                    validation_data=(X_val1, y_val1),\n",
    "                    verbose=1,\n",
    "                    callbacks = [es1, mc1])"
   ],
   "outputs": [
    {
     "output_type": "stream",
     "name": "stdout",
     "text": [
      "Train on 118843 samples, validate on 29711 samples\n",
      "Epoch 1/20\n",
      "118656/118843 [============================>.] - ETA: 0s - loss: 0.3873 - accuracy: 0.8262WARNING:tensorflow:Can save best model only with val_acc available, skipping.\n",
      "118843/118843 [==============================] - 53s 449us/sample - loss: 0.3872 - accuracy: 0.8263 - val_loss: 0.3457 - val_accuracy: 0.8441\n",
      "Epoch 2/20\n",
      "118720/118843 [============================>.] - ETA: 0s - loss: 0.3189 - accuracy: 0.8631WARNING:tensorflow:Can save best model only with val_acc available, skipping.\n",
      "118843/118843 [==============================] - 47s 400us/sample - loss: 0.3189 - accuracy: 0.8631 - val_loss: 0.3230 - val_accuracy: 0.8601\n",
      "Epoch 3/20\n",
      "118784/118843 [============================>.] - ETA: 0s - loss: 0.2926 - accuracy: 0.8778WARNING:tensorflow:Can save best model only with val_acc available, skipping.\n",
      "118843/118843 [==============================] - 48s 403us/sample - loss: 0.2927 - accuracy: 0.8778 - val_loss: 0.3127 - val_accuracy: 0.8661\n",
      "Epoch 4/20\n",
      "118784/118843 [============================>.] - ETA: 0s - loss: 0.2726 - accuracy: 0.8877WARNING:tensorflow:Can save best model only with val_acc available, skipping.\n",
      "118843/118843 [==============================] - 48s 403us/sample - loss: 0.2726 - accuracy: 0.8877 - val_loss: 0.3138 - val_accuracy: 0.8647\n",
      "Epoch 5/20\n",
      "118720/118843 [============================>.] - ETA: 0s - loss: 0.2555 - accuracy: 0.8966WARNING:tensorflow:Can save best model only with val_acc available, skipping.\n",
      "118843/118843 [==============================] - 48s 401us/sample - loss: 0.2555 - accuracy: 0.8966 - val_loss: 0.3151 - val_accuracy: 0.8634\n",
      "Epoch 6/20\n",
      "118720/118843 [============================>.] - ETA: 0s - loss: 0.2394 - accuracy: 0.9045WARNING:tensorflow:Can save best model only with val_acc available, skipping.\n",
      "118843/118843 [==============================] - 48s 404us/sample - loss: 0.2394 - accuracy: 0.9044 - val_loss: 0.3176 - val_accuracy: 0.8628\n",
      "Epoch 7/20\n",
      "118656/118843 [============================>.] - ETA: 0s - loss: 0.2241 - accuracy: 0.9121WARNING:tensorflow:Can save best model only with val_acc available, skipping.\n",
      "118843/118843 [==============================] - 49s 409us/sample - loss: 0.2242 - accuracy: 0.9120 - val_loss: 0.3250 - val_accuracy: 0.8621\n",
      "Epoch 00007: early stopping\n"
     ]
    }
   ],
   "metadata": {}
  },
  {
   "cell_type": "code",
   "execution_count": 33,
   "source": [
    "results = lstm.evaluate(X_test1, y_test1, verbose=1)\n",
    "\n",
    "print(results)"
   ],
   "outputs": [
    {
     "output_type": "stream",
     "name": "stdout",
     "text": [
      "49549/49549 [==============================] - 6s 117us/sample - loss: 0.3302 - accuracy: 0.8591\n",
      "[0.33021391963878266, 0.85912937]\n"
     ]
    }
   ],
   "metadata": {}
  },
  {
   "cell_type": "code",
   "execution_count": 34,
   "source": [
    "history_dict = history.history\n",
    "\n",
    "acc = history_dict['accuracy']\n",
    "val_acc = history_dict['val_accuracy']\n",
    "loss = history_dict['loss']\n",
    "val_loss = history_dict['val_loss']\n",
    "\n",
    "epochs = range(1, len(acc) + 1)\n",
    "\n",
    "# \"bo\"는 \"파란색 점\"입니다\n",
    "plt.plot(epochs, loss, 'bo', label='Training loss')\n",
    "# b는 \"파란 실선\"입니다\n",
    "plt.plot(epochs, val_loss, 'b', label='Validation loss')\n",
    "plt.title('Training and validation loss')\n",
    "plt.xlabel('Epochs')\n",
    "plt.ylabel('Loss')\n",
    "plt.legend()\n",
    "\n",
    "plt.show()"
   ],
   "outputs": [
    {
     "output_type": "display_data",
     "data": {
      "text/plain": [
       "<Figure size 432x288 with 1 Axes>"
      ],
      "image/png": "[encoded data removed]"
     },
     "metadata": {
      "needs_background": "light"
     }
    }
   ],
   "metadata": {}
  },
  {
   "cell_type": "code",
   "execution_count": 35,
   "source": [
    "## 모델 저장\n",
    "lstm.save(BASIC_PATH + 'clean1/lstm_model1.h5')"
   ],
   "outputs": [],
   "metadata": {}
  },
  {
   "cell_type": "markdown",
   "source": [
    "### [5-2] CNN"
   ],
   "metadata": {}
  },
  {
   "cell_type": "code",
   "execution_count": 36,
   "source": [
    "dropout_prob = 0.5\n",
    "num_filters = 128"
   ],
   "outputs": [],
   "metadata": {}
  },
  {
   "cell_type": "code",
   "execution_count": 38,
   "source": [
    "cnn = Sequential()\n",
    "cnn.add(Embedding(vocab_size, word_vector_dim))\n",
    "\n",
    "# cnn\n",
    "cnn.add(Dropout(dropout_prob))\n",
    "cnn.add(Conv1D(num_filters, 3, padding='valid', activation='relu', strides = 1))\n",
    "cnn.add(MaxPooling1D(3))\n",
    "cnn.add(Conv1D(num_filters, 4, padding='valid', activation='relu', strides = 1))\n",
    "cnn.add(GlobalMaxPooling1D())\n",
    "cnn.add(Dense(128, activation='relu'))\n",
    "cnn.add(Dropout(dropout_prob))\n",
    "cnn.add(Dense(1, activation='sigmoid'))\n"
   ],
   "outputs": [],
   "metadata": {}
  },
  {
   "cell_type": "markdown",
   "source": [
    "#### (1) X_train1, X_val1, X_test1 => Ketas tokenizer 이용"
   ],
   "metadata": {}
  },
  {
   "cell_type": "code",
   "execution_count": 39,
   "source": [
    "es2 = EarlyStopping(monitor='val_loss', mode='min', verbose=1, patience=4)\n",
    "mc2 = ModelCheckpoint('CNN_model.h5', monitor='val_acc', mode='max', verbose=1, save_best_only=True)\n",
    "\n",
    "cnn.compile(loss=\"binary_crossentropy\", optimizer=\"rmsprop\", metrics=[\"acc\"])\n",
    "\n",
    "history_cnn = cnn.fit(X_train1, y_train1, batch_size = 64, epochs=20,\\\n",
    "                        validation_data = (X_val1, y_val1), verbose=1, callbacks=[es2, mc2])"
   ],
   "outputs": [
    {
     "output_type": "stream",
     "name": "stdout",
     "text": [
      "Train on 118843 samples, validate on 29711 samples\n",
      "Epoch 1/20\n",
      "118720/118843 [============================>.] - ETA: 0s - loss: 0.4164 - acc: 0.8063\n",
      "Epoch 00001: val_acc improved from -inf to 0.84359, saving model to CNN_model.h5\n",
      "118843/118843 [==============================] - 48s 400us/sample - loss: 0.4164 - acc: 0.8064 - val_loss: 0.3548 - val_acc: 0.8436\n",
      "Epoch 2/20\n",
      "118784/118843 [============================>.] - ETA: 0s - loss: 0.3513 - acc: 0.8497\n",
      "Epoch 00002: val_acc improved from 0.84359 to 0.84531, saving model to CNN_model.h5\n",
      "118843/118843 [==============================] - 46s 388us/sample - loss: 0.3514 - acc: 0.8497 - val_loss: 0.3534 - val_acc: 0.8453\n",
      "Epoch 3/20\n",
      "118720/118843 [============================>.] - ETA: 0s - loss: 0.3345 - acc: 0.8608\n",
      "Epoch 00003: val_acc improved from 0.84531 to 0.85558, saving model to CNN_model.h5\n",
      "118843/118843 [==============================] - 46s 389us/sample - loss: 0.3345 - acc: 0.8608 - val_loss: 0.3359 - val_acc: 0.8556\n",
      "Epoch 4/20\n",
      "118720/118843 [============================>.] - ETA: 0s - loss: 0.3246 - acc: 0.8669\n",
      "Epoch 00004: val_acc did not improve from 0.85558\n",
      "118843/118843 [==============================] - 46s 390us/sample - loss: 0.3247 - acc: 0.8669 - val_loss: 0.3356 - val_acc: 0.8551\n",
      "Epoch 5/20\n",
      "118784/118843 [============================>.] - ETA: 0s - loss: 0.3083 - acc: 0.8754\n",
      "Epoch 00007: val_acc did not improve from 0.85904\n",
      "118843/118843 [==============================] - 46s 386us/sample - loss: 0.3085 - acc: 0.8754 - val_loss: 0.3267 - val_acc: 0.8587\n",
      "Epoch 8/20\n",
      "118720/118843 [============================>.] - ETA: 0s - loss: 0.3061 - acc: 0.8785\n",
      "Epoch 00008: val_acc improved from 0.85904 to 0.86204, saving model to CNN_model.h5\n",
      "118843/118843 [==============================] - 46s 390us/sample - loss: 0.3062 - acc: 0.8785 - val_loss: 0.3272 - val_acc: 0.8620\n",
      "Epoch 9/20\n",
      "118784/118843 [============================>.] - ETA: 0s - loss: 0.3022 - acc: 0.8796\n",
      "Epoch 00009: val_acc did not improve from 0.86204\n",
      "118843/118843 [==============================] - 46s 387us/sample - loss: 0.3022 - acc: 0.8795 - val_loss: 0.3289 - val_acc: 0.8579\n",
      "Epoch 10/20\n",
      "118656/118843 [============================>.] - ETA: 0s - loss: 0.3018 - acc: 0.8816\n",
      "Epoch 00010: val_acc did not improve from 0.86204\n",
      "118843/118843 [==============================] - 46s 388us/sample - loss: 0.3018 - acc: 0.8816 - val_loss: 0.3314 - val_acc: 0.8601\n",
      "Epoch 11/20\n",
      "118720/118843 [============================>.] - ETA: 0s - loss: 0.2985 - acc: 0.8821\n",
      "Epoch 00011: val_acc improved from 0.86204 to 0.86264, saving model to CNN_model.h5\n",
      "118843/118843 [==============================] - 47s 392us/sample - loss: 0.2987 - acc: 0.8821 - val_loss: 0.3253 - val_acc: 0.8626\n",
      "Epoch 12/20\n",
      "118656/118843 [============================>.] - ETA: 0s - loss: 0.2973 - acc: 0.8826\n",
      "Epoch 00012: val_acc improved from 0.86264 to 0.86325, saving model to CNN_model.h5\n",
      "118843/118843 [==============================] - 46s 387us/sample - loss: 0.2973 - acc: 0.8826 - val_loss: 0.3264 - val_acc: 0.8632\n",
      "Epoch 13/20\n",
      "118656/118843 [============================>.] - ETA: 0s - loss: 0.2975 - acc: 0.8829\n",
      "Epoch 00013: val_acc did not improve from 0.86325\n",
      "118843/118843 [==============================] - 46s 390us/sample - loss: 0.2975 - acc: 0.8829 - val_loss: 0.3615 - val_acc: 0.8513\n",
      "Epoch 14/20\n",
      "118720/118843 [============================>.] - ETA: 0s - loss: 0.2993 - acc: 0.8842\n",
      "Epoch 00014: val_acc did not improve from 0.86325\n",
      "118843/118843 [==============================] - 46s 386us/sample - loss: 0.2993 - acc: 0.8842 - val_loss: 0.3347 - val_acc: 0.8615\n",
      "Epoch 15/20\n",
      "118784/118843 [============================>.] - ETA: 0s - loss: 0.3013 - acc: 0.8836\n",
      "Epoch 00015: val_acc did not improve from 0.86325\n",
      "118843/118843 [==============================] - 46s 388us/sample - loss: 0.3013 - acc: 0.8836 - val_loss: 0.3354 - val_acc: 0.8595\n",
      "Epoch 00015: early stopping\n"
     ]
    }
   ],
   "metadata": {
    "tags": []
   }
  },
  {
   "cell_type": "code",
   "execution_count": 40,
   "source": [
    "results = cnn.evaluate(X_test1, y_test1, verbose=2)\n",
    "\n",
    "print(results)"
   ],
   "outputs": [
    {
     "output_type": "stream",
     "name": "stdout",
     "text": [
      "49549/49549 - 4s - loss: 0.3457 - acc: 0.8569\n",
      "[0.34568683966050273, 0.856869]\n"
     ]
    }
   ],
   "metadata": {}
  },
  {
   "cell_type": "code",
   "execution_count": 41,
   "source": [
    "history_dict = history_cnn.history\n",
    "\n",
    "acc = history_dict['acc']\n",
    "val_acc = history_dict['val_acc']\n",
    "loss = history_dict['loss']\n",
    "val_loss = history_dict['val_loss']\n",
    "\n",
    "epochs = range(1, len(acc) + 1)\n",
    "\n",
    "# \"bo\"는 \"파란색 점\"입니다\n",
    "plt.plot(epochs, loss, 'bo', label='Training loss')\n",
    "# b는 \"파란 실선\"입니다\n",
    "plt.plot(epochs, val_loss, 'b', label='Validation loss')\n",
    "plt.title('Training and validation loss')\n",
    "plt.xlabel('Epochs')\n",
    "plt.ylabel('Loss')\n",
    "plt.legend()\n",
    "\n",
    "plt.show()"
   ],
   "outputs": [
    {
     "output_type": "display_data",
     "data": {
      "text/plain": [
       "<Figure size 432x288 with 1 Axes>"
      ],
      "image/png": "[encoded data removed]"
     },
     "metadata": {
      "needs_background": "light"
     }
    }
   ],
   "metadata": {}
  },
  {
   "cell_type": "code",
   "execution_count": 42,
   "source": [
    "## 모델 저장\n",
    "cnn.save(BASIC_PATH + 'clean1/CNN_model1.h5')"
   ],
   "outputs": [],
   "metadata": {}
  },
  {
   "cell_type": "markdown",
   "source": [
    "### [5-3] Bi-LSTM"
   ],
   "metadata": {}
  },
  {
   "cell_type": "code",
   "execution_count": 43,
   "source": [
    "bilstm = Sequential()\n",
    "bilstm.add(Embedding(vocab_size, word_vector_dim))\n",
    "bilstm.add(Bidirectional(LSTM(128)))\n",
    "bilstm.add(Dense(1, activation='sigmoid'))"
   ],
   "outputs": [],
   "metadata": {}
  },
  {
   "cell_type": "code",
   "execution_count": 44,
   "source": [
    "es3 = EarlyStopping(monitor='val_loss', mode='min', verbose=1, patience=4)\n",
    "mc3 = ModelCheckpoint('bilstm_model.h5', monitor='val_acc', mode='max', verbose=1, save_best_only=True)"
   ],
   "outputs": [],
   "metadata": {}
  },
  {
   "cell_type": "code",
   "execution_count": 45,
   "source": [
    "bilstm.compile(optimizer='rmsprop', loss='binary_crossentropy', metrics=['accuracy'])\n",
    "history_bilstm = bilstm.fit(X_train1, y_train1, epochs=15, callbacks=[es3, mc3], \\\n",
    "                            batch_size=64, validation_data = (X_val1, y_val1), verbose=1)"
   ],
   "outputs": [
    {
     "output_type": "stream",
     "name": "stdout",
     "text": [
      "Train on 118843 samples, validate on 29711 samples\n",
      "Epoch 1/15\n",
      "118720/118843 [============================>.] - ETA: 0s - loss: 0.3886 - accuracy: 0.8251WARNING:tensorflow:Can save best model only with val_acc available, skipping.\n"
     ]
    },
    {
     "output_type": "stream",
     "name": "stderr",
     "text": [
      "WARNING:tensorflow:Can save best model only with val_acc available, skipping.\n"
     ]
    },
    {
     "output_type": "stream",
     "name": "stdout",
     "text": [
      "118843/118843 [==============================] - 54s 455us/sample - loss: 0.3885 - accuracy: 0.8252 - val_loss: 0.3435 - val_accuracy: 0.8484\n",
      "Epoch 2/15\n",
      "118720/118843 [============================>.] - ETA: 0s - loss: 0.3211 - accuracy: 0.8616WARNING:tensorflow:Can save best model only with val_acc available, skipping.\n"
     ]
    },
    {
     "output_type": "stream",
     "name": "stderr",
     "text": [
      "WARNING:tensorflow:Can save best model only with val_acc available, skipping.\n"
     ]
    },
    {
     "output_type": "stream",
     "name": "stdout",
     "text": [
      "118843/118843 [==============================] - 51s 427us/sample - loss: 0.3211 - accuracy: 0.8617 - val_loss: 0.3232 - val_accuracy: 0.8595\n",
      "Epoch 3/15\n",
      "118720/118843 [============================>.] - ETA: 0s - loss: 0.2955 - accuracy: 0.8756WARNING:tensorflow:Can save best model only with val_acc available, skipping.\n"
     ]
    },
    {
     "output_type": "stream",
     "name": "stderr",
     "text": [
      "WARNING:tensorflow:Can save best model only with val_acc available, skipping.\n"
     ]
    },
    {
     "output_type": "stream",
     "name": "stdout",
     "text": [
      "118843/118843 [==============================] - 51s 425us/sample - loss: 0.2955 - accuracy: 0.8755 - val_loss: 0.3240 - val_accuracy: 0.8582\n",
      "Epoch 4/15\n",
      "118720/118843 [============================>.] - ETA: 0s - loss: 0.2759 - accuracy: 0.8868WARNING:tensorflow:Can save best model only with val_acc available, skipping.\n"
     ]
    },
    {
     "output_type": "stream",
     "name": "stderr",
     "text": [
      "WARNING:tensorflow:Can save best model only with val_acc available, skipping.\n"
     ]
    },
    {
     "output_type": "stream",
     "name": "stdout",
     "text": [
      "118843/118843 [==============================] - 51s 428us/sample - loss: 0.2759 - accuracy: 0.8868 - val_loss: 0.3134 - val_accuracy: 0.8668\n",
      "Epoch 5/15\n",
      "118784/118843 [============================>.] - ETA: 0s - loss: 0.2591 - accuracy: 0.8944WARNING:tensorflow:Can save best model only with val_acc available, skipping.\n"
     ]
    },
    {
     "output_type": "stream",
     "name": "stderr",
     "text": [
      "WARNING:tensorflow:Can save best model only with val_acc available, skipping.\n"
     ]
    },
    {
     "output_type": "stream",
     "name": "stdout",
     "text": [
      "118843/118843 [==============================] - 51s 425us/sample - loss: 0.2590 - accuracy: 0.8944 - val_loss: 0.3155 - val_accuracy: 0.8643\n",
      "Epoch 6/15\n",
      "118784/118843 [============================>.] - ETA: 0s - loss: 0.2435 - accuracy: 0.9016WARNING:tensorflow:Can save best model only with val_acc available, skipping.\n"
     ]
    },
    {
     "output_type": "stream",
     "name": "stderr",
     "text": [
      "WARNING:tensorflow:Can save best model only with val_acc available, skipping.\n"
     ]
    },
    {
     "output_type": "stream",
     "name": "stdout",
     "text": [
      "118843/118843 [==============================] - 51s 426us/sample - loss: 0.2436 - accuracy: 0.9016 - val_loss: 0.3199 - val_accuracy: 0.8622\n",
      "Epoch 7/15\n",
      "118656/118843 [============================>.] - ETA: 0s - loss: 0.2286 - accuracy: 0.9093WARNING:tensorflow:Can save best model only with val_acc available, skipping.\n"
     ]
    },
    {
     "output_type": "stream",
     "name": "stderr",
     "text": [
      "WARNING:tensorflow:Can save best model only with val_acc available, skipping.\n"
     ]
    },
    {
     "output_type": "stream",
     "name": "stdout",
     "text": [
      "118843/118843 [==============================] - 51s 427us/sample - loss: 0.2286 - accuracy: 0.9093 - val_loss: 0.3399 - val_accuracy: 0.8561\n",
      "Epoch 8/15\n",
      "118784/118843 [============================>.] - ETA: 0s - loss: 0.2135 - accuracy: 0.9161WARNING:tensorflow:Can save best model only with val_acc available, skipping.\n"
     ]
    },
    {
     "output_type": "stream",
     "name": "stderr",
     "text": [
      "WARNING:tensorflow:Can save best model only with val_acc available, skipping.\n"
     ]
    },
    {
     "output_type": "stream",
     "name": "stdout",
     "text": [
      "118843/118843 [==============================] - 51s 429us/sample - loss: 0.2135 - accuracy: 0.9161 - val_loss: 0.3323 - val_accuracy: 0.8607\n",
      "Epoch 00008: early stopping\n"
     ]
    }
   ],
   "metadata": {}
  },
  {
   "cell_type": "code",
   "execution_count": 46,
   "source": [
    "print(\"테스트 정확도: %.4f\" % (bilstm.evaluate(X_test1, y_test1)[1]))"
   ],
   "outputs": [
    {
     "output_type": "stream",
     "name": "stdout",
     "text": [
      "49549/49549 [==============================] - 7s 143us/sample - loss: 0.3350 - accuracy: 0.8588\n",
      "테스트 정확도: 0.8588\n"
     ]
    }
   ],
   "metadata": {}
  },
  {
   "cell_type": "code",
   "execution_count": 47,
   "source": [
    "history_dict = history_bilstm.history\n",
    "\n",
    "acc = history_dict['accuracy']\n",
    "val_acc = history_dict['val_accuracy']\n",
    "loss = history_dict['loss']\n",
    "val_loss = history_dict['val_loss']\n",
    "\n",
    "epochs = range(1, len(acc) + 1)\n",
    "\n",
    "# \"bo\"는 \"파란색 점\"입니다\n",
    "plt.plot(epochs, loss, 'bo', label='Training loss')\n",
    "# b는 \"파란 실선\"입니다\n",
    "plt.plot(epochs, val_loss, 'b', label='Validation loss')\n",
    "plt.title('Training and validation loss')\n",
    "plt.xlabel('Epochs')\n",
    "plt.ylabel('Loss')\n",
    "plt.legend()\n",
    "\n",
    "plt.show()"
   ],
   "outputs": [
    {
     "output_type": "display_data",
     "data": {
      "text/plain": [
       "<Figure size 432x288 with 1 Axes>"
      ],
      "image/png": "[encoded data removed]"
     },
     "metadata": {
      "needs_background": "light"
     }
    }
   ],
   "metadata": {}
  },
  {
   "cell_type": "code",
   "execution_count": 48,
   "source": [
    "## 모델 저장\n",
    "bilstm.save(BASIC_PATH + 'clean1/BILSTM_model1.h5')"
   ],
   "outputs": [],
   "metadata": {}
  },
  {
   "cell_type": "markdown",
   "source": [
    "### [5-4] GRU"
   ],
   "metadata": {}
  },
  {
   "cell_type": "code",
   "execution_count": 49,
   "source": [
    "from tensorflow.keras.models import Sequential\n",
    "from tensorflow.keras.layers import Dense, GRU, Embedding\n",
    "from tensorflow.keras.callbacks import EarlyStopping, ModelCheckpoint"
   ],
   "outputs": [],
   "metadata": {}
  },
  {
   "cell_type": "code",
   "execution_count": 50,
   "source": [
    "gru = Sequential()\n",
    "gru.add(Embedding(vocab_size, word_vector_dim))\n",
    "gru.add(GRU(128))\n",
    "gru.add(Dense(1, activation='sigmoid'))"
   ],
   "outputs": [],
   "metadata": {}
  },
  {
   "cell_type": "code",
   "execution_count": 51,
   "source": [
    "es4 = EarlyStopping(monitor='val_loss', mode='min', verbose=1, patience=4)\n",
    "mc4 = ModelCheckpoint('GRU_model.h5', monitor='val_acc', mode='max', verbose=1, save_best_only=True)"
   ],
   "outputs": [],
   "metadata": {}
  },
  {
   "cell_type": "code",
   "execution_count": 52,
   "source": [
    "gru.compile(optimizer='rmsprop', loss='binary_crossentropy', metrics=['accuracy'])\n",
    "history_gru = gru.fit(X_train1, y_train1, epochs=15, callbacks=[es4, mc4], batch_size=64,\\\n",
    "                      validation_data = (X_val1, y_val1), verbose=1)"
   ],
   "outputs": [
    {
     "output_type": "stream",
     "name": "stdout",
     "text": [
      "Train on 118843 samples, validate on 29711 samples\n",
      "Epoch 1/15\n",
      "118784/118843 [============================>.] - ETA: 0s - loss: 0.3812 - accuracy: 0.8286WARNING:tensorflow:Can save best model only with val_acc available, skipping.\n"
     ]
    },
    {
     "output_type": "stream",
     "name": "stderr",
     "text": [
      "WARNING:tensorflow:Can save best model only with val_acc available, skipping.\n"
     ]
    },
    {
     "output_type": "stream",
     "name": "stdout",
     "text": [
      "118843/118843 [==============================] - 52s 434us/sample - loss: 0.3812 - accuracy: 0.8286 - val_loss: 0.3415 - val_accuracy: 0.8502\n",
      "Epoch 2/15\n",
      "118784/118843 [============================>.] - ETA: 0s - loss: 0.3189 - accuracy: 0.8637WARNING:tensorflow:Can save best model only with val_acc available, skipping.\n"
     ]
    },
    {
     "output_type": "stream",
     "name": "stderr",
     "text": [
      "WARNING:tensorflow:Can save best model only with val_acc available, skipping.\n"
     ]
    },
    {
     "output_type": "stream",
     "name": "stdout",
     "text": [
      "118843/118843 [==============================] - 48s 404us/sample - loss: 0.3190 - accuracy: 0.8637 - val_loss: 0.3273 - val_accuracy: 0.8570\n",
      "Epoch 3/15\n",
      "118656/118843 [============================>.] - ETA: 0s - loss: 0.2933 - accuracy: 0.8769WARNING:tensorflow:Can save best model only with val_acc available, skipping.\n"
     ]
    },
    {
     "output_type": "stream",
     "name": "stderr",
     "text": [
      "WARNING:tensorflow:Can save best model only with val_acc available, skipping.\n"
     ]
    },
    {
     "output_type": "stream",
     "name": "stdout",
     "text": [
      "118843/118843 [==============================] - 48s 404us/sample - loss: 0.2933 - accuracy: 0.8769 - val_loss: 0.3218 - val_accuracy: 0.8621\n",
      "Epoch 4/15\n",
      "118720/118843 [============================>.] - ETA: 0s - loss: 0.2717 - accuracy: 0.8881WARNING:tensorflow:Can save best model only with val_acc available, skipping.\n"
     ]
    },
    {
     "output_type": "stream",
     "name": "stderr",
     "text": [
      "WARNING:tensorflow:Can save best model only with val_acc available, skipping.\n"
     ]
    },
    {
     "output_type": "stream",
     "name": "stdout",
     "text": [
      "118843/118843 [==============================] - 48s 400us/sample - loss: 0.2716 - accuracy: 0.8882 - val_loss: 0.3164 - val_accuracy: 0.8640\n",
      "Epoch 5/15\n",
      "118720/118843 [============================>.] - ETA: 0s - loss: 0.2535 - accuracy: 0.8971WARNING:tensorflow:Can save best model only with val_acc available, skipping.\n"
     ]
    },
    {
     "output_type": "stream",
     "name": "stderr",
     "text": [
      "WARNING:tensorflow:Can save best model only with val_acc available, skipping.\n"
     ]
    },
    {
     "output_type": "stream",
     "name": "stdout",
     "text": [
      "118843/118843 [==============================] - 48s 401us/sample - loss: 0.2535 - accuracy: 0.8972 - val_loss: 0.3162 - val_accuracy: 0.8644\n",
      "Epoch 6/15\n",
      "118720/118843 [============================>.] - ETA: 0s - loss: 0.2368 - accuracy: 0.9057WARNING:tensorflow:Can save best model only with val_acc available, skipping.\n"
     ]
    },
    {
     "output_type": "stream",
     "name": "stderr",
     "text": [
      "WARNING:tensorflow:Can save best model only with val_acc available, skipping.\n"
     ]
    },
    {
     "output_type": "stream",
     "name": "stdout",
     "text": [
      "118843/118843 [==============================] - 48s 404us/sample - loss: 0.2368 - accuracy: 0.9057 - val_loss: 0.3274 - val_accuracy: 0.8629\n",
      "Epoch 7/15\n",
      "118784/118843 [============================>.] - ETA: 0s - loss: 0.2201 - accuracy: 0.9135WARNING:tensorflow:Can save best model only with val_acc available, skipping.\n"
     ]
    },
    {
     "output_type": "stream",
     "name": "stderr",
     "text": [
      "WARNING:tensorflow:Can save best model only with val_acc available, skipping.\n"
     ]
    },
    {
     "output_type": "stream",
     "name": "stdout",
     "text": [
      "118843/118843 [==============================] - 48s 406us/sample - loss: 0.2201 - accuracy: 0.9135 - val_loss: 0.3275 - val_accuracy: 0.8608\n",
      "Epoch 8/15\n",
      "118784/118843 [============================>.] - ETA: 0s - loss: 0.2041 - accuracy: 0.9209WARNING:tensorflow:Can save best model only with val_acc available, skipping.\n"
     ]
    },
    {
     "output_type": "stream",
     "name": "stderr",
     "text": [
      "WARNING:tensorflow:Can save best model only with val_acc available, skipping.\n"
     ]
    },
    {
     "output_type": "stream",
     "name": "stdout",
     "text": [
      "118843/118843 [==============================] - 47s 397us/sample - loss: 0.2040 - accuracy: 0.9209 - val_loss: 0.3535 - val_accuracy: 0.8504\n",
      "Epoch 9/15\n",
      "118656/118843 [============================>.] - ETA: 0s - loss: 0.1878 - accuracy: 0.9279WARNING:tensorflow:Can save best model only with val_acc available, skipping.\n"
     ]
    },
    {
     "output_type": "stream",
     "name": "stderr",
     "text": [
      "WARNING:tensorflow:Can save best model only with val_acc available, skipping.\n"
     ]
    },
    {
     "output_type": "stream",
     "name": "stdout",
     "text": [
      "118843/118843 [==============================] - 48s 404us/sample - loss: 0.1878 - accuracy: 0.9279 - val_loss: 0.3514 - val_accuracy: 0.8594\n",
      "Epoch 00009: early stopping\n"
     ]
    }
   ],
   "metadata": {}
  },
  {
   "cell_type": "code",
   "execution_count": 53,
   "source": [
    "print(\"테스트 정확도: %.4f\" % (gru.evaluate(X_test1, y_test1)[1]))"
   ],
   "outputs": [
    {
     "output_type": "stream",
     "name": "stdout",
     "text": [
      "49549/49549 [==============================] - 6s 112us/sample - loss: 0.3588 - accuracy: 0.8572\n",
      "테스트 정확도: 0.8572\n"
     ]
    }
   ],
   "metadata": {}
  },
  {
   "cell_type": "code",
   "execution_count": 54,
   "source": [
    "history_dict = history_gru.history\n",
    "\n",
    "acc = history_dict['accuracy']\n",
    "val_acc = history_dict['val_accuracy']\n",
    "loss = history_dict['loss']\n",
    "val_loss = history_dict['val_loss']\n",
    "\n",
    "epochs = range(1, len(acc) + 1)\n",
    "\n",
    "# \"bo\"는 \"파란색 점\"입니다\n",
    "plt.plot(epochs, loss, 'bo', label='Training loss')\n",
    "# b는 \"파란 실선\"입니다\n",
    "plt.plot(epochs, val_loss, 'b', label='Validation loss')\n",
    "plt.title('Training and validation loss')\n",
    "plt.xlabel('Epochs')\n",
    "plt.ylabel('Loss')\n",
    "plt.legend()\n",
    "\n",
    "plt.show()"
   ],
   "outputs": [
    {
     "output_type": "display_data",
     "data": {
      "text/plain": [
       "<Figure size 432x288 with 1 Axes>"
      ],
      "image/png": "[encoded data removed]"
     },
     "metadata": {
      "needs_background": "light"
     }
    }
   ],
   "metadata": {}
  },
  {
   "cell_type": "code",
   "execution_count": 55,
   "source": [
    "## 모델 저장\n",
    "gru.save(BASIC_PATH + 'clean1/GRU_model1.h5')"
   ],
   "outputs": [],
   "metadata": {}
  },
  {
   "cell_type": "markdown",
   "source": [
    "### [5-5] CNN-LSTM"
   ],
   "metadata": {}
  },
  {
   "cell_type": "code",
   "execution_count": null,
   "source": [],
   "outputs": [],
   "metadata": {}
  }
 ],
 "metadata": {
  "kernelspec": {
   "display_name": "Python 3",
   "language": "python",
   "name": "python3"
  },
  "language_info": {
   "codemirror_mode": {
    "name": "ipython",
    "version": 3
   },
   "file_extension": ".py",
   "mimetype": "text/x-python",
   "name": "python",
   "nbconvert_exporter": "python",
   "pygments_lexer": "ipython3",
   "version": "3.6.13"
  }
 },
 "nbformat": 4,
 "nbformat_minor": 5
}