{
 "cells": [
  {
   "cell_type": "markdown",
   "id": "62c5eb70-6196-403b-bea7-87d0cf9f82f6",
   "metadata": {},
   "source": [
    "### 네이버 영화 리뷰 감성 분석"
   ]
  },
  {
   "cell_type": "code",
   "execution_count": 3,
   "id": "cd1c0d33-61aa-46ec-9d6b-4e9d21e19115",
   "metadata": {},
   "outputs": [],
   "source": [
    "import numpy as np\n",
    "import pandas as pd\n",
    "import os\n",
    "\n",
    "import matplotlib.pyplot as plt\n",
    "import seaborn as sns\n",
    "%matplotlib inline"
   ]
  },
  {
   "cell_type": "code",
   "execution_count": 4,
   "id": "9791933c-4a59-461b-8642-2f43957797c7",
   "metadata": {},
   "outputs": [],
   "source": [
    "BASIC_PATH = \"/dataset/\""
   ]
  },
  {
   "cell_type": "code",
   "execution_count": 5,
   "id": "f1995507-a5e4-417d-88a5-57a979dc0d62",
   "metadata": {},
   "outputs": [],
   "source": [
    "TOTAL_RATINGS = '/rating.txt'\n",
    "TRAIN_RATINGS = '/ratings_train.txt'\n",
    "TEST_RATINGS = '/ratings_test.txt'"
   ]
  },
  {
   "cell_type": "markdown",
   "id": "d78e0ccd-297d-489d-ad12-f071a46df599",
   "metadata": {},
   "source": [
    "## [1] 데이터 분석"
   ]
  },
  {
   "cell_type": "markdown",
   "id": "fdce615c-dc65-4f17-b80c-1de6c5cd2b5d",
   "metadata": {},
   "source": [
    "#### [1-] 파일 크기, 데이터 개수 확인"
   ]
  },
  {
   "cell_type": "code",
   "execution_count": 4,
   "id": "01c4ae93-5bc5-4476-9e9f-ef6553386a7f",
   "metadata": {},
   "outputs": [
    {
     "name": "stdout",
     "output_type": "stream",
     "text": [
      "파일 크기 : \n",
      "ratings_test.txt              48.93KB\n",
      "rating.txt                    195.15KB\n",
      "stop_words.txt                0.02KB\n",
      "ratings_train.txt             146.29KB\n"
     ]
    }
   ],
   "source": [
    "print(\"파일 크기 : \")\n",
    "for file in os.listdir(BASIC_PATH):\n",
    "    if 'txt' in file and 'zip' not in file:\n",
    "        print(file.ljust(30) + str(round(os.path.getsize(BASIC_PATH+\"/\"+file) / 100000, 2)) + 'KB')"
   ]
  },
  {
   "cell_type": "code",
   "execution_count": 5,
   "id": "cbd2997b-81ac-4cce-b75e-9574c23935d0",
   "metadata": {},
   "outputs": [],
   "source": [
    "train_data = pd.read_csv(\n",
    "    BASIC_PATH + TRAIN_RATINGS, header = 0, delimiter = '\\t', quoting=3\n",
    ")"
   ]
  },
  {
   "cell_type": "code",
   "execution_count": 6,
   "id": "517d62b3-2683-4767-a974-726116060059",
   "metadata": {
    "tags": []
   },
   "outputs": [
    {
     "data": {
      "text/html": [
       "<div>\n",
       "<style scoped>\n",
       "    .dataframe tbody tr th:only-of-type {\n",
       "        vertical-align: middle;\n",
       "    }\n",
       "\n",
       "    .dataframe tbody tr th {\n",
       "        vertical-align: top;\n",
       "    }\n",
       "\n",
       "    .dataframe thead th {\n",
       "        text-align: right;\n",
       "    }\n",
       "</style>\n",
       "<table border=\"1\" class=\"dataframe\">\n",
       "  <thead>\n",
       "    <tr style=\"text-align: right;\">\n",
       "      <th></th>\n",
       "      <th>id</th>\n",
       "      <th>document</th>\n",
       "      <th>label</th>\n",
       "    </tr>\n",
       "  </thead>\n",
       "  <tbody>\n",
       "    <tr>\n",
       "      <th>0</th>\n",
       "      <td>9976970</td>\n",
       "      <td>아 더빙.. 진짜 짜증나네요 목소리</td>\n",
       "      <td>0</td>\n",
       "    </tr>\n",
       "    <tr>\n",
       "      <th>1</th>\n",
       "      <td>3819312</td>\n",
       "      <td>흠...포스터보고 초딩영화줄....오버연기조차 가볍지 않구나</td>\n",
       "      <td>1</td>\n",
       "    </tr>\n",
       "    <tr>\n",
       "      <th>2</th>\n",
       "      <td>10265843</td>\n",
       "      <td>너무재밓었다그래서보는것을추천한다</td>\n",
       "      <td>0</td>\n",
       "    </tr>\n",
       "    <tr>\n",
       "      <th>3</th>\n",
       "      <td>9045019</td>\n",
       "      <td>교도소 이야기구먼 ..솔직히 재미는 없다..평점 조정</td>\n",
       "      <td>0</td>\n",
       "    </tr>\n",
       "    <tr>\n",
       "      <th>4</th>\n",
       "      <td>6483659</td>\n",
       "      <td>사이몬페그의 익살스런 연기가 돋보였던 영화!스파이더맨에서 늙어보이기만 했던 커스틴 ...</td>\n",
       "      <td>1</td>\n",
       "    </tr>\n",
       "  </tbody>\n",
       "</table>\n",
       "</div>"
      ],
      "text/plain": [
       "         id                                           document  label\n",
       "0   9976970                                아 더빙.. 진짜 짜증나네요 목소리      0\n",
       "1   3819312                  흠...포스터보고 초딩영화줄....오버연기조차 가볍지 않구나      1\n",
       "2  10265843                                  너무재밓었다그래서보는것을추천한다      0\n",
       "3   9045019                      교도소 이야기구먼 ..솔직히 재미는 없다..평점 조정      0\n",
       "4   6483659  사이몬페그의 익살스런 연기가 돋보였던 영화!스파이더맨에서 늙어보이기만 했던 커스틴 ...      1"
      ]
     },
     "execution_count": 6,
     "metadata": {},
     "output_type": "execute_result"
    }
   ],
   "source": [
    "train_data.head(5)"
   ]
  },
  {
   "cell_type": "code",
   "execution_count": 7,
   "id": "cb5a162d-0bd0-41db-bbb8-85af60e508bd",
   "metadata": {},
   "outputs": [
    {
     "name": "stdout",
     "output_type": "stream",
     "text": [
      "전체 학습데이터 개수 : 150000\n"
     ]
    }
   ],
   "source": [
    "print(\"전체 학습데이터 개수 : {}\".format(len(train_data)))"
   ]
  },
  {
   "cell_type": "code",
   "execution_count": 8,
   "id": "e9fbda73-0485-4d49-af35-df5fd0579b54",
   "metadata": {},
   "outputs": [],
   "source": [
    "test_data = pd.read_csv(\n",
    "    BASIC_PATH + TEST_RATINGS, header = 0, delimiter = '\\t', quoting=3\n",
    ")"
   ]
  },
  {
   "cell_type": "code",
   "execution_count": 9,
   "id": "a3c559eb-9792-4885-a4d2-4d0e36c8f79b",
   "metadata": {},
   "outputs": [
    {
     "data": {
      "text/html": [
       "<div>\n",
       "<style scoped>\n",
       "    .dataframe tbody tr th:only-of-type {\n",
       "        vertical-align: middle;\n",
       "    }\n",
       "\n",
       "    .dataframe tbody tr th {\n",
       "        vertical-align: top;\n",
       "    }\n",
       "\n",
       "    .dataframe thead th {\n",
       "        text-align: right;\n",
       "    }\n",
       "</style>\n",
       "<table border=\"1\" class=\"dataframe\">\n",
       "  <thead>\n",
       "    <tr style=\"text-align: right;\">\n",
       "      <th></th>\n",
       "      <th>id</th>\n",
       "      <th>document</th>\n",
       "      <th>label</th>\n",
       "    </tr>\n",
       "  </thead>\n",
       "  <tbody>\n",
       "    <tr>\n",
       "      <th>0</th>\n",
       "      <td>6270596</td>\n",
       "      <td>굳 ㅋ</td>\n",
       "      <td>1</td>\n",
       "    </tr>\n",
       "    <tr>\n",
       "      <th>1</th>\n",
       "      <td>9274899</td>\n",
       "      <td>GDNTOPCLASSINTHECLUB</td>\n",
       "      <td>0</td>\n",
       "    </tr>\n",
       "    <tr>\n",
       "      <th>2</th>\n",
       "      <td>8544678</td>\n",
       "      <td>뭐야 이 평점들은.... 나쁘진 않지만 10점 짜리는 더더욱 아니잖아</td>\n",
       "      <td>0</td>\n",
       "    </tr>\n",
       "    <tr>\n",
       "      <th>3</th>\n",
       "      <td>6825595</td>\n",
       "      <td>지루하지는 않은데 완전 막장임... 돈주고 보기에는....</td>\n",
       "      <td>0</td>\n",
       "    </tr>\n",
       "    <tr>\n",
       "      <th>4</th>\n",
       "      <td>6723715</td>\n",
       "      <td>3D만 아니었어도 별 다섯 개 줬을텐데.. 왜 3D로 나와서 제 심기를 불편하게 하죠??</td>\n",
       "      <td>0</td>\n",
       "    </tr>\n",
       "  </tbody>\n",
       "</table>\n",
       "</div>"
      ],
      "text/plain": [
       "        id                                           document  label\n",
       "0  6270596                                                굳 ㅋ      1\n",
       "1  9274899                               GDNTOPCLASSINTHECLUB      0\n",
       "2  8544678             뭐야 이 평점들은.... 나쁘진 않지만 10점 짜리는 더더욱 아니잖아      0\n",
       "3  6825595                   지루하지는 않은데 완전 막장임... 돈주고 보기에는....      0\n",
       "4  6723715  3D만 아니었어도 별 다섯 개 줬을텐데.. 왜 3D로 나와서 제 심기를 불편하게 하죠??      0"
      ]
     },
     "execution_count": 9,
     "metadata": {},
     "output_type": "execute_result"
    }
   ],
   "source": [
    "test_data.head(5)"
   ]
  },
  {
   "cell_type": "code",
   "execution_count": 10,
   "id": "e1e02972-dc4b-440c-8c30-ddddbaec171b",
   "metadata": {},
   "outputs": [
    {
     "name": "stdout",
     "output_type": "stream",
     "text": [
      "전체 테스트 데이터 개수 : 50000\n"
     ]
    }
   ],
   "source": [
    "print(\"전체 테스트 데이터 개수 : {}\".format(len(test_data)))"
   ]
  },
  {
   "cell_type": "markdown",
   "id": "d285bab6-5066-44a8-a66f-6154e65e2b65",
   "metadata": {},
   "source": [
    "#### [1-2] 리뷰의 길이 확인"
   ]
  },
  {
   "cell_type": "code",
   "execution_count": 11,
   "id": "057044be-6c93-4dcd-871d-df7cbdd88fb8",
   "metadata": {},
   "outputs": [],
   "source": [
    "train_length = train_data['document'].astype('str').apply(len)"
   ]
  },
  {
   "cell_type": "code",
   "execution_count": 12,
   "id": "c1068901-de78-4a4f-a554-57e3ee7d05d0",
   "metadata": {},
   "outputs": [
    {
     "data": {
      "text/plain": [
       "0    19\n",
       "1    33\n",
       "2    17\n",
       "3    29\n",
       "4    61\n",
       "Name: document, dtype: int64"
      ]
     },
     "execution_count": 12,
     "metadata": {},
     "output_type": "execute_result"
    }
   ],
   "source": [
    "train_length.head()"
   ]
  },
  {
   "cell_type": "code",
   "execution_count": 13,
   "id": "97368ea2-259d-403a-b787-6bfb53b9a236",
   "metadata": {},
   "outputs": [
    {
     "name": "stderr",
     "output_type": "stream",
     "text": [
      "/home/ai-sjjy/anaconda3/lib/python3.6/site-packages/ipykernel_launcher.py:3: MatplotlibDeprecationWarning: The 'nonposy' parameter of __init__() has been renamed 'nonpositive' since Matplotlib 3.3; support for the old name will be dropped two minor releases later.\n",
      "  This is separate from the ipykernel package so we can avoid doing imports until\n"
     ]
    },
    {
     "data": {
      "image/png": "[encoded data removed]",
      "text/plain": [
       "<Figure size 864x360 with 1 Axes>"
      ]
     },
     "metadata": {
      "needs_background": "light"
     },
     "output_type": "display_data"
    }
   ],
   "source": [
    "plt.figure(figsize=(12, 5))\n",
    "plt.hist(train_length, bins=200, alpha=0.5, color='b', label='word')\n",
    "plt.yscale('log', nonposy='clip')\n",
    "plt.title('log-histograme')\n",
    "plt.xlabel('length of review')\n",
    "plt.ylabel('number of review')\n",
    "plt.show()"
   ]
  },
  {
   "cell_type": "markdown",
   "id": "5dc1f8cd-4350-4f9a-96ad-286d50e6f054",
   "metadata": {},
   "source": [
    "#### [1-3] 긍정 부정 데이터 분포"
   ]
  },
  {
   "cell_type": "code",
   "execution_count": 14,
   "id": "c257e01b-3c36-46b2-8ada-3fc3f21ec2f8",
   "metadata": {},
   "outputs": [
    {
     "name": "stderr",
     "output_type": "stream",
     "text": [
      "/home/ai-sjjy/anaconda3/lib/python3.6/site-packages/seaborn/_decorators.py:43: FutureWarning: Pass the following variable as a keyword arg: x. From version 0.12, the only valid positional argument will be `data`, and passing other arguments without an explicit keyword will result in an error or misinterpretation.\n",
      "  FutureWarning\n"
     ]
    },
    {
     "data": {
      "text/plain": [
       "<AxesSubplot:xlabel='label', ylabel='count'>"
      ]
     },
     "execution_count": 14,
     "metadata": {},
     "output_type": "execute_result"
    },
    {
     "data": {
      "image/png": "[encoded data removed]",
      "text/plain": [
       "<Figure size 432x216 with 1 Axes>"
      ]
     },
     "metadata": {
      "needs_background": "light"
     },
     "output_type": "display_data"
    }
   ],
   "source": [
    "fig, axe = plt.subplots(ncols=1)\n",
    "fig.set_size_inches(6, 3)\n",
    "sns.countplot(train_data['label'])"
   ]
  },
  {
   "cell_type": "code",
   "execution_count": 15,
   "id": "b3b598ed-11e8-4979-b799-5b6c7596d5ca",
   "metadata": {},
   "outputs": [
    {
     "name": "stdout",
     "output_type": "stream",
     "text": [
      "긍정 리뷰 개수 : 74827\n",
      "부정 리뷰 개수 : 75173\n"
     ]
    }
   ],
   "source": [
    "print(\"긍정 리뷰 개수 : {}\".format(train_data['label'].value_counts()[1]))\n",
    "# 긍정 : 74825\n",
    "print(\"부정 리뷰 개수 : {}\".format(train_data['label'].value_counts()[0]))\n",
    "# 부정 : 75170"
   ]
  },
  {
   "cell_type": "markdown",
   "id": "ff06d311-6fff-466e-9fe0-077c7255205e",
   "metadata": {},
   "source": [
    "#### [1-4] 각 리뷰의 단어 개수 분포"
   ]
  },
  {
   "cell_type": "code",
   "execution_count": 16,
   "id": "0bb509fb-9161-4af8-8fef-ec62a3bf50fa",
   "metadata": {},
   "outputs": [
    {
     "name": "stderr",
     "output_type": "stream",
     "text": [
      "/home/ai-sjjy/anaconda3/lib/python3.6/site-packages/ipykernel_launcher.py:6: MatplotlibDeprecationWarning: The 'nonposy' parameter of __init__() has been renamed 'nonpositive' since Matplotlib 3.3; support for the old name will be dropped two minor releases later.\n",
      "  \n"
     ]
    },
    {
     "data": {
      "text/plain": [
       "Text(0, 0.5, 'number of reviews')"
      ]
     },
     "execution_count": 16,
     "metadata": {},
     "output_type": "execute_result"
    },
    {
     "data": {
      "image/png": "[encoded data removed]",
      "text/plain": [
       "<Figure size 1080x720 with 1 Axes>"
      ]
     },
     "metadata": {
      "needs_background": "light"
     },
     "output_type": "display_data"
    }
   ],
   "source": [
    "train_word_counts = train_data['document'].astype('str').apply(lambda x: len(x.split(' ')))\n",
    "\n",
    "plt.figure(figsize=(15, 10))\n",
    "plt.hist(train_word_counts, bins=50, facecolor='r', label='train')\n",
    "plt.title('log-histogram of word count in review', fontsize=15)\n",
    "plt.yscale('log', nonposy='clip')\n",
    "plt.legend()\n",
    "plt.xlabel('number of words', fontsize=15)\n",
    "plt.ylabel('number of reviews', fontsize=15)"
   ]
  },
  {
   "cell_type": "markdown",
   "id": "d8e8880f-8b5e-4df7-a064-9e5d226d9c09",
   "metadata": {},
   "source": [
    "#### [1-5] 특수문자"
   ]
  },
  {
   "cell_type": "code",
   "execution_count": 17,
   "id": "30b10e54-a147-477d-a2f8-2c62d19007d4",
   "metadata": {},
   "outputs": [
    {
     "name": "stdout",
     "output_type": "stream",
     "text": [
      "물음표 있는 질문 : 8.25%\n",
      "마침표 있는 질문 : 51.76%\n",
      "숫자가 있는 질문 : 13.62%\n"
     ]
    }
   ],
   "source": [
    "qmarks = np.mean(train_data['document'].astype('str').apply(lambda x: '?' in x))\n",
    "fullstop = np.mean(train_data['document'].astype('str').apply(lambda x: '.' in x))\n",
    "numbers = np.mean(train_data['document'].astype('str').apply(lambda x: max([y.isdigit() for y in x])))\n",
    "\n",
    "\n",
    "print(\"물음표 있는 질문 : {:.2f}%\".format(qmarks * 100))\n",
    "print(\"마침표 있는 질문 : {:.2f}%\".format(fullstop * 100))\n",
    "print(\"숫자가 있는 질문 : {:.2f}%\".format(numbers * 100))"
   ]
  },
  {
   "cell_type": "markdown",
   "id": "05db4f20-51e0-444d-8c1a-0fa445433056",
   "metadata": {},
   "source": [
    "#### [1-6] 결측치 확인"
   ]
  },
  {
   "cell_type": "code",
   "execution_count": 18,
   "id": "a2db4cd2-17f9-44cc-9fdb-e713f5e280fa",
   "metadata": {},
   "outputs": [
    {
     "data": {
      "text/plain": [
       "id          0\n",
       "document    5\n",
       "label       0\n",
       "dtype: int64"
      ]
     },
     "execution_count": 18,
     "metadata": {},
     "output_type": "execute_result"
    }
   ],
   "source": [
    "train_data.isnull().sum()"
   ]
  },
  {
   "cell_type": "code",
   "execution_count": 19,
   "id": "ed39b6c6-3b29-4b9e-82ae-60a61b48890b",
   "metadata": {},
   "outputs": [
    {
     "data": {
      "text/plain": [
       "id          0\n",
       "document    3\n",
       "label       0\n",
       "dtype: int64"
      ]
     },
     "execution_count": 19,
     "metadata": {},
     "output_type": "execute_result"
    }
   ],
   "source": [
    "test_data.isnull().sum()"
   ]
  },
  {
   "cell_type": "code",
   "execution_count": 20,
   "id": "052fe2da-4df1-458e-89b0-07d46e850d63",
   "metadata": {},
   "outputs": [
    {
     "data": {
      "text/html": [
       "<div>\n",
       "<style scoped>\n",
       "    .dataframe tbody tr th:only-of-type {\n",
       "        vertical-align: middle;\n",
       "    }\n",
       "\n",
       "    .dataframe tbody tr th {\n",
       "        vertical-align: top;\n",
       "    }\n",
       "\n",
       "    .dataframe thead th {\n",
       "        text-align: right;\n",
       "    }\n",
       "</style>\n",
       "<table border=\"1\" class=\"dataframe\">\n",
       "  <thead>\n",
       "    <tr style=\"text-align: right;\">\n",
       "      <th></th>\n",
       "      <th>id</th>\n",
       "      <th>document</th>\n",
       "      <th>label</th>\n",
       "    </tr>\n",
       "  </thead>\n",
       "  <tbody>\n",
       "    <tr>\n",
       "      <th>25857</th>\n",
       "      <td>2172111</td>\n",
       "      <td>NaN</td>\n",
       "      <td>1</td>\n",
       "    </tr>\n",
       "    <tr>\n",
       "      <th>55737</th>\n",
       "      <td>6369843</td>\n",
       "      <td>NaN</td>\n",
       "      <td>1</td>\n",
       "    </tr>\n",
       "    <tr>\n",
       "      <th>110014</th>\n",
       "      <td>1034280</td>\n",
       "      <td>NaN</td>\n",
       "      <td>0</td>\n",
       "    </tr>\n",
       "    <tr>\n",
       "      <th>126782</th>\n",
       "      <td>5942978</td>\n",
       "      <td>NaN</td>\n",
       "      <td>0</td>\n",
       "    </tr>\n",
       "    <tr>\n",
       "      <th>140721</th>\n",
       "      <td>1034283</td>\n",
       "      <td>NaN</td>\n",
       "      <td>0</td>\n",
       "    </tr>\n",
       "  </tbody>\n",
       "</table>\n",
       "</div>"
      ],
      "text/plain": [
       "             id document  label\n",
       "25857   2172111      NaN      1\n",
       "55737   6369843      NaN      1\n",
       "110014  1034280      NaN      0\n",
       "126782  5942978      NaN      0\n",
       "140721  1034283      NaN      0"
      ]
     },
     "execution_count": 20,
     "metadata": {},
     "output_type": "execute_result"
    }
   ],
   "source": [
    "train_data[train_data['document'].isnull()]"
   ]
  },
  {
   "cell_type": "code",
   "execution_count": 21,
   "id": "1122b5a1-4159-4f78-bda9-436da9f3ba2f",
   "metadata": {},
   "outputs": [
    {
     "data": {
      "text/html": [
       "<div>\n",
       "<style scoped>\n",
       "    .dataframe tbody tr th:only-of-type {\n",
       "        vertical-align: middle;\n",
       "    }\n",
       "\n",
       "    .dataframe tbody tr th {\n",
       "        vertical-align: top;\n",
       "    }\n",
       "\n",
       "    .dataframe thead th {\n",
       "        text-align: right;\n",
       "    }\n",
       "</style>\n",
       "<table border=\"1\" class=\"dataframe\">\n",
       "  <thead>\n",
       "    <tr style=\"text-align: right;\">\n",
       "      <th></th>\n",
       "      <th>id</th>\n",
       "      <th>document</th>\n",
       "      <th>label</th>\n",
       "    </tr>\n",
       "  </thead>\n",
       "  <tbody>\n",
       "    <tr>\n",
       "      <th>5746</th>\n",
       "      <td>402110</td>\n",
       "      <td>NaN</td>\n",
       "      <td>1</td>\n",
       "    </tr>\n",
       "    <tr>\n",
       "      <th>7899</th>\n",
       "      <td>5026896</td>\n",
       "      <td>NaN</td>\n",
       "      <td>0</td>\n",
       "    </tr>\n",
       "    <tr>\n",
       "      <th>27097</th>\n",
       "      <td>511097</td>\n",
       "      <td>NaN</td>\n",
       "      <td>1</td>\n",
       "    </tr>\n",
       "  </tbody>\n",
       "</table>\n",
       "</div>"
      ],
      "text/plain": [
       "            id document  label\n",
       "5746    402110      NaN      1\n",
       "7899   5026896      NaN      0\n",
       "27097   511097      NaN      1"
      ]
     },
     "execution_count": 21,
     "metadata": {},
     "output_type": "execute_result"
    }
   ],
   "source": [
    "test_data[test_data['document'].isnull()]"
   ]
  },
  {
   "cell_type": "markdown",
   "id": "60f12a0a-aa16-48ab-8fa0-abdf9ddbab90",
   "metadata": {},
   "source": [
    "* document가 없는 데이터는 필요 없다 => drop!"
   ]
  },
  {
   "cell_type": "code",
   "execution_count": 22,
   "id": "0aeb65ac-e1b4-4347-b2fb-63ec621ec097",
   "metadata": {},
   "outputs": [],
   "source": [
    "train_data = train_data[~train_data['document'].isnull()]"
   ]
  },
  {
   "cell_type": "code",
   "execution_count": 23,
   "id": "40af9d4c-daf2-41aa-84cc-318b17961781",
   "metadata": {},
   "outputs": [],
   "source": [
    "test_data = test_data[~test_data['document'].isnull()]"
   ]
  },
  {
   "cell_type": "code",
   "execution_count": 24,
   "id": "6fc9fae2-9c4b-4fb3-a873-c0e3ae7f5714",
   "metadata": {},
   "outputs": [
    {
     "data": {
      "text/plain": [
       "id          0\n",
       "document    0\n",
       "label       0\n",
       "dtype: int64"
      ]
     },
     "execution_count": 24,
     "metadata": {},
     "output_type": "execute_result"
    }
   ],
   "source": [
    "train_data.isnull().sum()"
   ]
  },
  {
   "cell_type": "code",
   "execution_count": 25,
   "id": "254af542-6cec-445c-ab78-bdaf94585a16",
   "metadata": {},
   "outputs": [
    {
     "data": {
      "text/plain": [
       "id          0\n",
       "document    0\n",
       "label       0\n",
       "dtype: int64"
      ]
     },
     "execution_count": 25,
     "metadata": {},
     "output_type": "execute_result"
    }
   ],
   "source": [
    "test_data.isnull().sum()"
   ]
  },
  {
   "cell_type": "markdown",
   "id": "fa683313-79e6-4dc7-81a9-59ff50c3111b",
   "metadata": {},
   "source": [
    "#### [1-7] 필요없는 속성 제거\n",
    "=> id 제거"
   ]
  },
  {
   "cell_type": "code",
   "execution_count": 26,
   "id": "8a46ebe8-91a1-4f11-b639-dc108fa1a01a",
   "metadata": {},
   "outputs": [],
   "source": [
    "train_data = train_data[['document', 'label']]\n",
    "test_data = test_data[['document', 'label']]"
   ]
  },
  {
   "cell_type": "markdown",
   "id": "48f77f94-3699-49f3-9180-4eb9ad30bdcb",
   "metadata": {},
   "source": [
    "## [2] 데이터 전처리"
   ]
  },
  {
   "cell_type": "markdown",
   "id": "fddb20ef-1471-4ecc-9421-ad4fd0069366",
   "metadata": {},
   "source": [
    "1. 한글 및 공백을 제외한 모든 문자 제거 -> 한글만 남기겠다.\n",
    "2. 띄어쓰기 규칙\n",
    "3. mecab 객체를 활용해 형태소 단위로 문장을 나눈다(tokenzing)\n",
    "4. 불용어 제거하기"
   ]
  },
  {
   "cell_type": "code",
   "execution_count": 27,
   "id": "cbfd31f1-5e00-482b-9737-3148c1cc3045",
   "metadata": {},
   "outputs": [],
   "source": [
    "import numpy as np\n",
    "import pandas as pd\n",
    "import os\n",
    "import re\n",
    "import json\n",
    "\n",
    "from konlpy.tag import Mecab\n",
    "\n",
    "from tensorflow.python.keras.preprocessing.sequence import pad_sequences\n",
    "from tensorflow.python.keras.preprocessing.text import Tokenizer\n",
    "from hanspell import spell_checker\n",
    "\n",
    "from pykospacing import Spacing\n",
    "spacing = Spacing()\n",
    "\n",
    "mecab = Mecab() #형태소 분석기 선언\n"
   ]
  },
  {
   "cell_type": "code",
   "execution_count": 28,
   "id": "b34e0f0b-3e18-4264-b179-fa6318fde420",
   "metadata": {},
   "outputs": [],
   "source": [
    "stop_words = ['의','가','이','은','들','는','좀','잘','걍','과','도','를','으로','자','에','와','한','하다']"
   ]
  },
  {
   "cell_type": "markdown",
   "id": "cf53af17-d9e0-49a0-bc98-03145143618d",
   "metadata": {},
   "source": [
    "#### [2-1] 데이터 전처리 진행 1"
   ]
  },
  {
   "cell_type": "code",
   "execution_count": 29,
   "id": "d30bf680-5f01-4545-8c52-11a4d621c01c",
   "metadata": {},
   "outputs": [],
   "source": [
    "def preprocessing(review, spell, remove_stopwords = False, stop_words = []):    \n",
    "    # 1. 한글 및 공백을 제외한 모든 문자 제거 -> 한글만 남기겠다.\n",
    "    review_text = re.sub(\"[^가-힣ㄱ-ㅎㅏ - | \\\\s]\", \"\", review)\n",
    "    \n",
    "    # 2. 띄어쓰기 규칙\n",
    "    review_text = spacing(review_text)\n",
    "    \n",
    "    # 3. mecab 객체를 활용해 형태소 단위로 문장을 나눈다(tokenzing)\n",
    "    word_review = mecab.morphs(review_text)\n",
    "    \n",
    "    # 4. 불용어 제거하기\n",
    "    if remove_stopwords:\n",
    "        word_review = [token for token in word_review if not token in stop_words]\n",
    "    \n",
    "    return word_review"
   ]
  },
  {
   "cell_type": "code",
   "execution_count": 30,
   "id": "f887dd45-5081-41d7-80d0-6a724c27ca6a",
   "metadata": {
    "tags": []
   },
   "outputs": [
    {
     "name": "stderr",
     "output_type": "stream",
     "text": [
      "100%|██████████| 149995/149995 [1:09:30<00:00, 35.96it/s]\n"
     ]
    }
   ],
   "source": [
    "clean_train_review = []\n",
    "\n",
    "from tqdm import tqdm\n",
    "\n",
    "for review in tqdm(train_data['document']):\n",
    "    clean_train_review.append(preprocessing(review, False, remove_stopwords = True, stop_words = stop_words))"
   ]
  },
  {
   "cell_type": "code",
   "execution_count": 31,
   "id": "901c146e-cb16-458b-aeb2-aa62710d9e44",
   "metadata": {},
   "outputs": [
    {
     "name": "stdout",
     "output_type": "stream",
     "text": [
      "전체 리뷰 개수 :  149995\n",
      "띄어쓰기 이상한 리뷰 제거한 개수 : 148669\n"
     ]
    }
   ],
   "source": [
    "print(\"전체 리뷰 개수 : \", len(clean_train_review))\n",
    "print(\"띄어쓰기 이상한 리뷰 제거한 개수 :\", len([clean for clean in clean_train_review if clean]))"
   ]
  },
  {
   "cell_type": "code",
   "execution_count": 32,
   "id": "aa304cd0-7908-4548-9f11-ab0dc76849de",
   "metadata": {},
   "outputs": [],
   "source": [
    "for idx, clean in enumerate(clean_train_review):\n",
    "    if clean == None: continue\n",
    "    if clean == []:\n",
    "        clean_train_review[idx] = None\n",
    "    else:\n",
    "        clean_train_review[idx] = \" \".join(clean)"
   ]
  },
  {
   "cell_type": "code",
   "execution_count": 34,
   "id": "04275be6-9eb3-4f08-ac79-0164bd1b388f",
   "metadata": {
    "tags": []
   },
   "outputs": [
    {
     "name": "stderr",
     "output_type": "stream",
     "text": [
      "100%|██████████| 49997/49997 [23:09<00:00, 35.99it/s]\n"
     ]
    }
   ],
   "source": [
    "clean_test_review = []\n",
    "\n",
    "for review in tqdm(test_data['document']):\n",
    "    clean_test_review.append(preprocessing(review, False, remove_stopwords = True, stop_words = stop_words))"
   ]
  },
  {
   "cell_type": "code",
   "execution_count": 35,
   "id": "b2f27529-9af5-4b96-a6d4-84b515fd3a55",
   "metadata": {},
   "outputs": [
    {
     "name": "stdout",
     "output_type": "stream",
     "text": [
      "전체 리뷰 개수 :  49997\n",
      "띄어쓰기 이상한 리뷰 제거한 개수 : 49549\n"
     ]
    }
   ],
   "source": [
    "print(\"전체 리뷰 개수 : \", len(clean_test_review))\n",
    "print(\"띄어쓰기 이상한 리뷰 제거한 개수 :\", len([clean for clean in clean_test_review if clean]))"
   ]
  },
  {
   "cell_type": "code",
   "execution_count": 36,
   "id": "da80b90c-a1c1-40c1-bf1b-d8fd9899190f",
   "metadata": {},
   "outputs": [],
   "source": [
    "for idx, clean in enumerate(clean_test_review):\n",
    "    if clean == None: continue\n",
    "    if clean == []:\n",
    "        clean_test_review[idx] = None\n",
    "    else:\n",
    "        clean_test_review[idx] = \" \".join(clean)"
   ]
  },
  {
   "cell_type": "markdown",
   "id": "fc80f7d1-a732-4e27-8cc7-e3352dc080d1",
   "metadata": {},
   "source": [
    "#### [2-2] 띄어쓰기 이상한 리뷰 제거"
   ]
  },
  {
   "cell_type": "code",
   "execution_count": 37,
   "id": "50d3ae25-e0ee-478f-a04c-99a05e5227fa",
   "metadata": {},
   "outputs": [],
   "source": [
    "train_data['document'] = clean_train_review"
   ]
  },
  {
   "cell_type": "code",
   "execution_count": 38,
   "id": "9189751c-1eef-4d66-a218-3a593c025281",
   "metadata": {},
   "outputs": [
    {
     "data": {
      "text/plain": [
       "document    1326\n",
       "label          0\n",
       "dtype: int64"
      ]
     },
     "execution_count": 38,
     "metadata": {},
     "output_type": "execute_result"
    }
   ],
   "source": [
    "train_data.isnull().sum()"
   ]
  },
  {
   "cell_type": "code",
   "execution_count": 39,
   "id": "1d7d5e4f-3a26-4709-83fd-96a58e0a1d3c",
   "metadata": {},
   "outputs": [],
   "source": [
    "train_data = train_data[~train_data['document'].isnull()]"
   ]
  },
  {
   "cell_type": "code",
   "execution_count": 40,
   "id": "fcf5f489-c834-4790-8ccb-1d42199862b1",
   "metadata": {},
   "outputs": [
    {
     "data": {
      "text/plain": [
       "document    0\n",
       "label       0\n",
       "dtype: int64"
      ]
     },
     "execution_count": 40,
     "metadata": {},
     "output_type": "execute_result"
    }
   ],
   "source": [
    "train_data.isnull().sum()"
   ]
  },
  {
   "cell_type": "code",
   "execution_count": 41,
   "id": "d6c759d2-d322-4ee1-84ff-698d0337413c",
   "metadata": {},
   "outputs": [
    {
     "name": "stdout",
     "output_type": "stream",
     "text": [
      "전체 리뷰 개수 :  148669\n"
     ]
    }
   ],
   "source": [
    "print(\"전체 리뷰 개수 : \", len(train_data))"
   ]
  },
  {
   "cell_type": "code",
   "execution_count": 42,
   "id": "8b2085a1-3fad-4ef0-9541-43cbe25c3bcf",
   "metadata": {},
   "outputs": [
    {
     "data": {
      "text/html": [
       "<div>\n",
       "<style scoped>\n",
       "    .dataframe tbody tr th:only-of-type {\n",
       "        vertical-align: middle;\n",
       "    }\n",
       "\n",
       "    .dataframe tbody tr th {\n",
       "        vertical-align: top;\n",
       "    }\n",
       "\n",
       "    .dataframe thead th {\n",
       "        text-align: right;\n",
       "    }\n",
       "</style>\n",
       "<table border=\"1\" class=\"dataframe\">\n",
       "  <thead>\n",
       "    <tr style=\"text-align: right;\">\n",
       "      <th></th>\n",
       "      <th>document</th>\n",
       "      <th>label</th>\n",
       "    </tr>\n",
       "  </thead>\n",
       "  <tbody>\n",
       "    <tr>\n",
       "      <th>0</th>\n",
       "      <td>아 더빙 진짜 짜증 나 네요 목소리</td>\n",
       "      <td>0</td>\n",
       "    </tr>\n",
       "    <tr>\n",
       "      <th>1</th>\n",
       "      <td>흠 포스터 보고 초딩 영화 줄 오버 연기 조차 가볍 지 않 구나</td>\n",
       "      <td>1</td>\n",
       "    </tr>\n",
       "    <tr>\n",
       "      <th>2</th>\n",
       "      <td>너무 재 밓었다 그래서 보 것 을 추천 한다</td>\n",
       "      <td>0</td>\n",
       "    </tr>\n",
       "    <tr>\n",
       "      <th>3</th>\n",
       "      <td>교도소 이야기 구먼 솔직히 재미 없 다 평점 조정</td>\n",
       "      <td>0</td>\n",
       "    </tr>\n",
       "    <tr>\n",
       "      <th>4</th>\n",
       "      <td>사이몬 페그 익살 스런 연기 돋보였 던 영화 스파이더맨 에서 늙 어 보이 기 만 했...</td>\n",
       "      <td>1</td>\n",
       "    </tr>\n",
       "    <tr>\n",
       "      <th>...</th>\n",
       "      <td>...</td>\n",
       "      <td>...</td>\n",
       "    </tr>\n",
       "    <tr>\n",
       "      <th>149995</th>\n",
       "      <td>인간 문제지 소 뭔 죄 인가</td>\n",
       "      <td>0</td>\n",
       "    </tr>\n",
       "    <tr>\n",
       "      <th>149996</th>\n",
       "      <td>평점 너무 낮 아서</td>\n",
       "      <td>1</td>\n",
       "    </tr>\n",
       "    <tr>\n",
       "      <th>149997</th>\n",
       "      <td>이게 뭐 요 한국인 거들 먹거리 고 필리핀 혼혈 착하 다</td>\n",
       "      <td>0</td>\n",
       "    </tr>\n",
       "    <tr>\n",
       "      <th>149998</th>\n",
       "      <td>청춘 영화 최고봉 방황 우울 했 던 날 자화상</td>\n",
       "      <td>1</td>\n",
       "    </tr>\n",
       "    <tr>\n",
       "      <th>149999</th>\n",
       "      <td>한국 영화 최초 로 수간 하 내용 담긴 영화</td>\n",
       "      <td>0</td>\n",
       "    </tr>\n",
       "  </tbody>\n",
       "</table>\n",
       "<p>148669 rows × 2 columns</p>\n",
       "</div>"
      ],
      "text/plain": [
       "                                                 document  label\n",
       "0                                     아 더빙 진짜 짜증 나 네요 목소리      0\n",
       "1                     흠 포스터 보고 초딩 영화 줄 오버 연기 조차 가볍 지 않 구나      1\n",
       "2                                너무 재 밓었다 그래서 보 것 을 추천 한다      0\n",
       "3                             교도소 이야기 구먼 솔직히 재미 없 다 평점 조정      0\n",
       "4       사이몬 페그 익살 스런 연기 돋보였 던 영화 스파이더맨 에서 늙 어 보이 기 만 했...      1\n",
       "...                                                   ...    ...\n",
       "149995                                    인간 문제지 소 뭔 죄 인가      0\n",
       "149996                                         평점 너무 낮 아서      1\n",
       "149997                    이게 뭐 요 한국인 거들 먹거리 고 필리핀 혼혈 착하 다      0\n",
       "149998                          청춘 영화 최고봉 방황 우울 했 던 날 자화상      1\n",
       "149999                           한국 영화 최초 로 수간 하 내용 담긴 영화      0\n",
       "\n",
       "[148669 rows x 2 columns]"
      ]
     },
     "execution_count": 42,
     "metadata": {},
     "output_type": "execute_result"
    }
   ],
   "source": [
    "train_data"
   ]
  },
  {
   "cell_type": "code",
   "execution_count": 43,
   "id": "1879ec53-c41d-4405-8087-9b44cd8917f6",
   "metadata": {},
   "outputs": [],
   "source": [
    "test_data['document'] = clean_test_review"
   ]
  },
  {
   "cell_type": "code",
   "execution_count": 44,
   "id": "94b41011-7a25-4425-8a82-3dbd82f6c160",
   "metadata": {},
   "outputs": [
    {
     "data": {
      "text/plain": [
       "document    448\n",
       "label         0\n",
       "dtype: int64"
      ]
     },
     "execution_count": 44,
     "metadata": {},
     "output_type": "execute_result"
    }
   ],
   "source": [
    "test_data.isnull().sum()"
   ]
  },
  {
   "cell_type": "code",
   "execution_count": 45,
   "id": "7146b37e-65ac-4d5a-b052-1d44afd6b73b",
   "metadata": {},
   "outputs": [],
   "source": [
    "test_data = test_data[~test_data['document'].isnull()]"
   ]
  },
  {
   "cell_type": "code",
   "execution_count": 46,
   "id": "ad75242d-dcd5-4b0f-9795-85b70099c086",
   "metadata": {},
   "outputs": [
    {
     "data": {
      "text/plain": [
       "document    0\n",
       "label       0\n",
       "dtype: int64"
      ]
     },
     "execution_count": 46,
     "metadata": {},
     "output_type": "execute_result"
    }
   ],
   "source": [
    "test_data.isnull().sum()"
   ]
  },
  {
   "cell_type": "code",
   "execution_count": 47,
   "id": "3a3095f1-d1d7-4b56-a757-d6d90551c4ec",
   "metadata": {},
   "outputs": [
    {
     "name": "stdout",
     "output_type": "stream",
     "text": [
      "전체 리뷰 개수 :  49549\n"
     ]
    }
   ],
   "source": [
    "print(\"전체 리뷰 개수 : \", len(test_data))"
   ]
  },
  {
   "cell_type": "code",
   "execution_count": 48,
   "id": "185432c1-3402-45f6-a3f7-0ef1aaf976b9",
   "metadata": {},
   "outputs": [],
   "source": [
    "train_data.to_csv(BASIC_PATH + 'clean_train1.csv', index=False)\n",
    "test_data.to_csv(BASIC_PATH + 'clean_test1.csv', index=False)"
   ]
  },
  {
   "cell_type": "markdown",
   "id": "4a58f89c-a3b2-4321-b70f-c62a5d51e131",
   "metadata": {},
   "source": [
    "## [3] 정수 임베딩"
   ]
  },
  {
   "cell_type": "code",
   "execution_count": 7,
   "id": "3168e68f-cbe4-4c6e-b6b8-fdae059cf48b",
   "metadata": {},
   "outputs": [],
   "source": [
    "## 만약에 위에 clean code 지나치고 싶으면\n",
    "CLEAN_TRAIN = \"clean1/clean_train1.csv\"\n",
    "CLEAN_TEST = \"clean1/clean_test1.csv\"\n",
    "\n",
    "train_data = pd.read_csv(BASIC_PATH+CLEAN_TRAIN)\n",
    "test_data = pd.read_csv(BASIC_PATH+CLEAN_TEST)"
   ]
  },
  {
   "cell_type": "code",
   "execution_count": 8,
   "id": "3a838bd2-c68e-4f0a-9898-2d754267d7a1",
   "metadata": {},
   "outputs": [],
   "source": [
    "X_train = train_data['document'].tolist()\n",
    "X_train = [x.split() for x in X_train]\n",
    "y_train = np.array(list(train_data['label'].tolist()))"
   ]
  },
  {
   "cell_type": "code",
   "execution_count": 9,
   "id": "f58d78a7-126d-4a14-befa-3b25bb3a4bea",
   "metadata": {},
   "outputs": [],
   "source": [
    "X_test = test_data['document'].tolist()\n",
    "X_test = [x.split() for x in X_test]\n",
    "y_test = np.array(list(test_data['label'].tolist()))"
   ]
  },
  {
   "cell_type": "code",
   "execution_count": 10,
   "id": "79ca45cc-e3b3-45f2-82d7-410cb320ded0",
   "metadata": {
    "tags": []
   },
   "outputs": [
    {
     "name": "stdout",
     "output_type": "stream",
     "text": [
      "['막', '걸음마', '뗀', '세', '부터', '초등', '학교', '학년', '생', '인', '살용', '영화', 'ㅋㅋㅋ', '별반', '개', '아까움']\n"
     ]
    }
   ],
   "source": [
    "print(X_train[5])"
   ]
  },
  {
   "cell_type": "markdown",
   "id": "d70ec133-63d9-4c9f-a746-726b9069e6c0",
   "metadata": {},
   "source": [
    "### [3-1] Keras Tokenizer 사용"
   ]
  },
  {
   "cell_type": "markdown",
   "id": "471b9460-bfba-4df7-8ebf-a7475e832cce",
   "metadata": {},
   "source": [
    "* X_train1 로 저장!\n",
    "* X_test1 로 저장!"
   ]
  },
  {
   "cell_type": "code",
   "execution_count": 11,
   "id": "d0e83482-0ae3-40df-b944-8a4733ad233d",
   "metadata": {},
   "outputs": [],
   "source": [
    "X_train1 = X_train.copy()\n",
    "X_test1 = X_test.copy()\n",
    "y_train1 = y_train.copy()\n",
    "y_test1 = y_test.copy()"
   ]
  },
  {
   "cell_type": "code",
   "execution_count": 12,
   "id": "e7010bf5-3cd8-4434-ae57-a66d62c4996a",
   "metadata": {},
   "outputs": [],
   "source": [
    "from tensorflow.keras.preprocessing.text import Tokenizer"
   ]
  },
  {
   "cell_type": "code",
   "execution_count": 13,
   "id": "d6cb5050-b5d6-44a5-9f1b-222097c2ee6f",
   "metadata": {},
   "outputs": [],
   "source": [
    "tokenizer = Tokenizer()\n",
    "tokenizer.fit_on_texts(X_train1)"
   ]
  },
  {
   "cell_type": "code",
   "execution_count": 14,
   "id": "3a514966-8a8c-4dfa-8527-698edfe86303",
   "metadata": {},
   "outputs": [
    {
     "name": "stdout",
     "output_type": "stream",
     "text": [
      "총 단어 개수 : 44610\n"
     ]
    }
   ],
   "source": [
    "print(\"총 단어 개수 :\", len(tokenizer.word_index)) # 총 단어 개수 : 44610"
   ]
  },
  {
   "cell_type": "code",
   "execution_count": 15,
   "id": "4df47a8c-203d-499c-9fd6-234c44103cf2",
   "metadata": {},
   "outputs": [
    {
     "name": "stdout",
     "output_type": "stream",
     "text": [
      "단어 집합(vocabulary)의 크기 : 44610\n",
      "등장 빈도가 1번 이하인 희귀 단어의 수: 17516\n",
      "단어 집합에서 희귀 단어의 비율: 39.264738847791975\n",
      "전체 등장 빈도에서 희귀 단어 등장 빈도 비율: 0.8547012717560656\n"
     ]
    }
   ],
   "source": [
    "threshold = 2 # 빈도 수는 2번이상인 단어 기준\n",
    "total_cnt = len(tokenizer.word_index) # 단어의 수\n",
    "rare_cnt = 0 # 등장 빈도수가 threshold보다 작은 단어의 개수를 카운트\n",
    "total_freq = 0 # 훈련 데이터의 전체 단어 빈도수 총 합\n",
    "rare_freq = 0 # 등장 빈도수가 threshold보다 작은 단어의 등장 빈도수의 총 합\n",
    "\n",
    "# 단어와 빈도수의 쌍(pair)을 key와 value로 받는다.\n",
    "for key, value in tokenizer.word_counts.items():\n",
    "    total_freq = total_freq + value\n",
    "\n",
    "    # 단어의 등장 빈도수가 threshold보다 작으면\n",
    "    if(value < threshold):\n",
    "        rare_cnt = rare_cnt + 1\n",
    "        rare_freq = rare_freq + value\n",
    "\n",
    "print('단어 집합(vocabulary)의 크기 :',total_cnt)\n",
    "print('등장 빈도가 %s번 이하인 희귀 단어의 수: %s'%(threshold - 1, rare_cnt))\n",
    "print(\"단어 집합에서 희귀 단어의 비율:\", (rare_cnt / total_cnt)*100)\n",
    "print(\"전체 등장 빈도에서 희귀 단어 등장 빈도 비율:\", (rare_freq / total_freq)*100)"
   ]
  },
  {
   "cell_type": "code",
   "execution_count": 16,
   "id": "c559b937-42ea-4df4-8dd7-62a906ada16e",
   "metadata": {
    "tags": []
   },
   "outputs": [
    {
     "name": "stdout",
     "output_type": "stream",
     "text": [
      "단어 집합의 크기 : 27095\n"
     ]
    }
   ],
   "source": [
    "vocab_size = total_cnt - rare_cnt + 1\n",
    "print('단어 집합의 크기 :',vocab_size) # 단어 집합의 크기 : 27095"
   ]
  },
  {
   "cell_type": "code",
   "execution_count": 17,
   "id": "fc7705d9-254e-4c06-9b67-07c631cc149c",
   "metadata": {},
   "outputs": [],
   "source": [
    "tokenizer = Tokenizer(vocab_size) # index 번호 부여가 빈도수 기반으로 했기 때문에 해당 vocab까지 자르기\n",
    "tokenizer.fit_on_texts(X_train1)\n",
    "X_train1 = tokenizer.texts_to_sequences(X_train1)\n",
    "X_test1 = tokenizer.texts_to_sequences(X_test1)"
   ]
  },
  {
   "cell_type": "code",
   "execution_count": 18,
   "id": "cd2f9408-a719-49ac-8f02-b553fff1dd94",
   "metadata": {},
   "outputs": [
    {
     "name": "stdout",
     "output_type": "stream",
     "text": [
      "[25, 492, 32, 215, 12, 29, 706]\n",
      "라벨:  0\n",
      "1번째 리뷰 문장 길이:  7\n"
     ]
    }
   ],
   "source": [
    "print(X_train1[0])  # 1번째 리뷰데이터\n",
    "print('라벨: ', y_train1[0])  # 1번째 리뷰데이터의 라벨\n",
    "print('1번째 리뷰 문장 길이: ', len(X_train1[0]))"
   ]
  },
  {
   "cell_type": "markdown",
   "id": "615b2a0d-3452-4566-8072-4a6e23d4d434",
   "metadata": {},
   "source": [
    "##### 빈 샘플 제거"
   ]
  },
  {
   "cell_type": "code",
   "execution_count": 19,
   "id": "3f453c14-c8c5-4c34-98c9-c4d20f4a5675",
   "metadata": {},
   "outputs": [
    {
     "name": "stdout",
     "output_type": "stream",
     "text": [
      "(148588,)\n",
      "148588\n"
     ]
    },
    {
     "name": "stderr",
     "output_type": "stream",
     "text": [
      "/home/ai-sjjy/anaconda3/lib/python3.6/site-packages/numpy/core/_asarray.py:83: VisibleDeprecationWarning: Creating an ndarray from ragged nested sequences (which is a list-or-tuple of lists-or-tuples-or ndarrays with different lengths or shapes) is deprecated. If you meant to do this, you must specify 'dtype=object' when creating the ndarray\n",
      "  return array(a, dtype, copy=False, order=order)\n"
     ]
    }
   ],
   "source": [
    "drop_train = [index for index, sentence in enumerate(X_train1) if len(sentence) < 1]\n",
    "X_train1 = np.delete(X_train1, drop_train, axis=0)\n",
    "y_train1 = np.delete(y_train1, drop_train, axis=0)\n",
    "\n",
    "print(X_train1.shape)\n",
    "print(len(y_train1))"
   ]
  },
  {
   "cell_type": "markdown",
   "id": "64fe7b9b-e11c-48e4-90fa-08aaca90ab26",
   "metadata": {},
   "source": [
    "#### [3-1-1] 임베딩 최대 길이 지정"
   ]
  },
  {
   "cell_type": "code",
   "execution_count": 20,
   "id": "967f1990-a4ce-4fe6-a040-71a54e482012",
   "metadata": {},
   "outputs": [
    {
     "name": "stdout",
     "output_type": "stream",
     "text": [
      "문장길이 평균 :  13.664822824611253\n",
      "문장길이 최대 :  83\n",
      "문장길이 표준편차 :  11.56651844564856\n"
     ]
    }
   ],
   "source": [
    "total_data_text = list(X_train1) + list(X_test1)\n",
    "\n",
    "# 텍스트데이터 문장길이의 리스트를 생성한 후\n",
    "num_tokens = [len(tokens) for tokens in total_data_text]\n",
    "num_tokens = np.array(num_tokens)\n",
    "\n",
    "# 문장길이의 평균값, 최대값, 표준편차를 계산해 본다. \n",
    "print('문장길이 평균 : ', np.mean(num_tokens))\n",
    "print('문장길이 최대 : ', np.max(num_tokens))\n",
    "print('문장길이 표준편차 : ', np.std(num_tokens))"
   ]
  },
  {
   "cell_type": "code",
   "execution_count": 21,
   "id": "ba6e4598-9f0d-4770-9669-a68be3d59dce",
   "metadata": {},
   "outputs": [
    {
     "data": {
      "image/png": "[encoded data removed]",
      "text/plain": [
       "<Figure size 864x360 with 1 Axes>"
      ]
     },
     "metadata": {
      "needs_background": "light"
     },
     "output_type": "display_data"
    }
   ],
   "source": [
    "plt.figure(figsize=(12, 5))\n",
    "plt.hist([len(s) for s in X_train1], bins=50)\n",
    "plt.xlabel('length of samples')\n",
    "plt.ylabel('number of samples')\n",
    "plt.show()"
   ]
  },
  {
   "cell_type": "code",
   "execution_count": 22,
   "id": "4a7afe67-b2a1-4880-9cbf-2ed259bb0f5b",
   "metadata": {},
   "outputs": [
    {
     "name": "stdout",
     "output_type": "stream",
     "text": [
      "pad_sequences maxlen :  50\n",
      "전체 문장의 0.9751030852390012%가 maxlen 설정값 이내에 포함됩니다. \n"
     ]
    }
   ],
   "source": [
    "# 예를들어, 최대 길이를 (평균 + 2*표준편차)로 한다면,  \n",
    "max_len = 50\n",
    "print('pad_sequences maxlen : ', max_len)\n",
    "print('전체 문장의 {}%가 maxlen 설정값 이내에 포함됩니다. '.format(np.sum(num_tokens < max_len) / len(num_tokens)))"
   ]
  },
  {
   "cell_type": "markdown",
   "id": "f99e04a2-9d08-4272-8470-2ccd2f35d6d4",
   "metadata": {},
   "source": [
    "#### [3-1-2] 패딩"
   ]
  },
  {
   "cell_type": "code",
   "execution_count": 23,
   "id": "f71fdf78-f57f-4315-afd7-877f9ead9dac",
   "metadata": {},
   "outputs": [],
   "source": [
    "from tensorflow.keras.preprocessing.sequence import pad_sequences\n",
    "\n",
    "X_train1 = pad_sequences(X_train1, maxlen = max_len)\n",
    "X_test1 = pad_sequences(X_test1, maxlen = max_len)"
   ]
  },
  {
   "cell_type": "code",
   "execution_count": 24,
   "id": "c86688ae-530f-4bc4-8367-4bcdbcf9d89f",
   "metadata": {},
   "outputs": [
    {
     "name": "stdout",
     "output_type": "stream",
     "text": [
      "(148588, 50)\n",
      "(49549, 50)\n"
     ]
    }
   ],
   "source": [
    "# 데이터셋 정제 후 데이터셋 shape 확인\n",
    "print(X_train1.shape)\n",
    "print(X_test1.shape)"
   ]
  },
  {
   "cell_type": "code",
   "execution_count": 25,
   "id": "8e346182-6258-4694-aa5b-b83c1318f9ac",
   "metadata": {},
   "outputs": [],
   "source": [
    "data_config = {\n",
    "    'max_len' : max_len,\n",
    "    'vocab_size' : vocab_size\n",
    "}"
   ]
  },
  {
   "cell_type": "code",
   "execution_count": 26,
   "id": "3cfb9a76-428b-43d4-99de-2a14c8a26f85",
   "metadata": {},
   "outputs": [],
   "source": [
    "import json\n",
    "\n",
    "json.dump(data_config, open(BASIC_PATH + 'clean1/data_configs_token1.json', 'w'), ensure_ascii=False)"
   ]
  },
  {
   "cell_type": "code",
   "execution_count": 27,
   "id": "0b787ef7-1794-4791-9c67-860955033154",
   "metadata": {},
   "outputs": [],
   "source": [
    "# tokenizer 저장\n",
    "import pickle\n",
    "\n",
    "with open(BASIC_PATH+'clean1/basic_tokenizer1.pickle', 'wb') as handle:\n",
    "    pickle.dump(tokenizer, handle, protocol=pickle.HIGHEST_PROTOCOL)"
   ]
  },
  {
   "cell_type": "markdown",
   "id": "83561754-bc53-4734-847d-b82029712ecd",
   "metadata": {},
   "source": [
    "### [3-2] TF-IDF"
   ]
  },
  {
   "cell_type": "markdown",
   "id": "8c9df451-74d3-4013-ae5e-519c4676a65f",
   "metadata": {},
   "source": [
    "* X_train2로 저장!\n",
    "* X_test2로 저장!"
   ]
  },
  {
   "cell_type": "markdown",
   "id": "10c2bb72-dffc-4063-965e-c75903f1aaf4",
   "metadata": {},
   "source": [
    "* tf-idf에서는 input이 ['막', '걸음마', '뗀', '세', '부터', '초등', '학교', '학년', '생', '인', '살용', '영화', 'ㅋㅋㅋ', '별반', '개', '아까움'] 이런 토큰 형태가 아닌, 문장이어야 한다"
   ]
  },
  {
   "cell_type": "code",
   "execution_count": 27,
   "id": "838fa2a4-84af-418a-bbc7-0c23fcf71aa0",
   "metadata": {},
   "outputs": [],
   "source": [
    "X_train2 = [\" \".join(x) for x in X_train]\n",
    "X_test2 = [\" \".join(x) for x in X_test]\n",
    "y_train2 = y_train.copy()\n",
    "y_test2 = y_test.copy()"
   ]
  },
  {
   "cell_type": "code",
   "execution_count": 28,
   "id": "dcf98712-70e8-4958-b669-fcad987765d2",
   "metadata": {},
   "outputs": [
    {
     "name": "stdout",
     "output_type": "stream",
     "text": [
      "막 걸음마 뗀 세 부터 초등 학교 학년 생 인 살용 영화 ㅋㅋㅋ 별반 개 아까움\n"
     ]
    }
   ],
   "source": [
    "print(X_train2[5])"
   ]
  },
  {
   "cell_type": "code",
   "execution_count": 29,
   "id": "9bba3fbc-94b8-4d27-ba57-e14fd9857d61",
   "metadata": {},
   "outputs": [],
   "source": [
    "from sklearn.feature_extraction.text import TfidfVectorizer"
   ]
  },
  {
   "cell_type": "code",
   "execution_count": 30,
   "id": "5a120ccb-7617-48e2-8a1d-b7d47d13857e",
   "metadata": {},
   "outputs": [],
   "source": [
    "vectorizer = TfidfVectorizer(ngram_range=(1,1), min_df=2, analyzer=\"word\", sublinear_tf=True, max_features=10000) # 최소 2번이상\n",
    "X_train2 = vectorizer.fit_transform(X_train2)\n",
    "X_test2 = vectorizer.fit_transform(X_test2)"
   ]
  },
  {
   "cell_type": "code",
   "execution_count": 31,
   "id": "261a6def-f60c-4ccb-8443-26ce161dd4cb",
   "metadata": {},
   "outputs": [
    {
     "data": {
      "text/plain": [
       "['ㄲ야',\n",
       " 'ㅄ들',\n",
       " 'ㅆㄹㄱ',\n",
       " 'ㅆㅅㅌㅊ',\n",
       " 'ㅇㄱ',\n",
       " 'ㅇㄴ',\n",
       " 'ㅇㄷ',\n",
       " 'ㅇㅂ',\n",
       " 'ㅇㅅㅇ',\n",
       " 'ㅇㅇ',\n",
       " 'ㅇㅇㅇ',\n",
       " 'ㅇㅇㅇㅇ',\n",
       " 'ㅇㅇㅋㅋ',\n",
       " 'ㅇㅋ',\n",
       " 'ㅇㅋㅋ',\n",
       " 'ㅉㅉ']"
      ]
     },
     "execution_count": 31,
     "metadata": {},
     "output_type": "execute_result"
    }
   ],
   "source": [
    "vectorizer.get_feature_names()[:16]"
   ]
  },
  {
   "cell_type": "code",
   "execution_count": 32,
   "id": "4529add2-5f21-40a9-a0c7-fbc0574158f8",
   "metadata": {},
   "outputs": [
    {
     "name": "stdout",
     "output_type": "stream",
     "text": [
      "총 단어 개수 : 13871\n"
     ]
    }
   ],
   "source": [
    "print(\"총 단어 개수 :\", len(vectorizer.vocabulary_)) # 총 단어 개수 : 42556"
   ]
  },
  {
   "cell_type": "code",
   "execution_count": 33,
   "id": "0dc0094d-9a4c-405f-a4e7-75317ba1ce89",
   "metadata": {},
   "outputs": [
    {
     "data": {
      "text/plain": [
       "25000"
      ]
     },
     "execution_count": 33,
     "metadata": {},
     "output_type": "execute_result"
    }
   ],
   "source": [
    "len(X_train2[0].toarray()[0])"
   ]
  },
  {
   "cell_type": "code",
   "execution_count": 34,
   "id": "c2daf62d-57cf-4f10-b422-d0f26b2053d0",
   "metadata": {},
   "outputs": [
    {
     "name": "stdout",
     "output_type": "stream",
     "text": [
      "(148669, 25000)\n"
     ]
    }
   ],
   "source": [
    "print(X_train2.shape)"
   ]
  },
  {
   "cell_type": "code",
   "execution_count": 35,
   "id": "c4c0a018-1da0-4c6f-a47b-f0d87e35359b",
   "metadata": {},
   "outputs": [],
   "source": [
    "# tokenizer 저장\n",
    "import pickle\n",
    "\n",
    "with open(BASIC_PATH+'clean1/basic_tf-idf1.pickle', 'wb') as handle:\n",
    "    pickle.dump(vectorizer, handle, protocol=pickle.HIGHEST_PROTOCOL)"
   ]
  },
  {
   "cell_type": "markdown",
   "id": "05f05a24-6aab-49a3-9c64-08a67e73b993",
   "metadata": {},
   "source": [
    "### [3-3] Word2Vec"
   ]
  },
  {
   "cell_type": "markdown",
   "id": "4801b9b7-1d17-42bd-96e8-1cf97e883e95",
   "metadata": {},
   "source": [
    "* X_train3로 저장!\n",
    "* X_test3로 저장!"
   ]
  },
  {
   "cell_type": "markdown",
   "id": "4483eb16-7925-4e80-893c-b069be2adc0b",
   "metadata": {},
   "source": [
    "* 미리 학습된 Word2Vec\n",
    "\n",
    "한국어 Word2Vec 사용\n",
    "\n",
    "word2vec_path = BASIC_PATH+'ko.bin'\n",
    "\n",
    "word2vec = Word2Vec.load(word2vec_path)"
   ]
  },
  {
   "cell_type": "code",
   "execution_count": 36,
   "id": "6b5073ba-917c-4539-b076-b222d0bd62ab",
   "metadata": {},
   "outputs": [],
   "source": [
    "X_train3 = X_train.copy()\n",
    "X_test3 = X_test.copy()\n",
    "y_train3 = y_train.copy()\n",
    "y_test3 = y_test.copy()"
   ]
  },
  {
   "cell_type": "code",
   "execution_count": 37,
   "id": "fe4d4181-9153-4fd5-a816-947818753e56",
   "metadata": {},
   "outputs": [],
   "source": [
    "from gensim.models import Word2Vec"
   ]
  },
  {
   "cell_type": "code",
   "execution_count": 38,
   "id": "249c1efa-4d54-4e8e-9651-2b818ed9f810",
   "metadata": {},
   "outputs": [],
   "source": [
    "# 학습 시 필요한 하이퍼 파라미터\n",
    "\n",
    "num_features = 200 # 워드 백터 특정값 수 -> 임베딩 차원 수 지정\n",
    "min_word_count = 2 # 단어에 대한 최소 빈도 수 -> 빈도수가 적은 단어들은 학습 x\n",
    "num_workers = 4 # 프로세스 개수 \n",
    "context = 10 # 컨텍스트 윈도우 크기\n",
    "downsampling = 1e-3 # 다운 샘플링 비율"
   ]
  },
  {
   "cell_type": "code",
   "execution_count": 39,
   "id": "c15f6fdb-78f3-455d-a7ba-d8eb3dd4e2ac",
   "metadata": {},
   "outputs": [],
   "source": [
    "w2_model = Word2Vec(X_train3, workers=num_workers, \\\n",
    "                         size=num_features, min_count = min_word_count, \\\n",
    "                         window = context, sample = downsampling)"
   ]
  },
  {
   "cell_type": "code",
   "execution_count": 40,
   "id": "30ae6849-4ab0-4605-882b-f621ff28a867",
   "metadata": {},
   "outputs": [],
   "source": [
    "def get_feature(words, model, num_feature):\n",
    "    # 우리는 num_feature 차원의 벡터 크기를 만들거임\n",
    "    feature_vector = np.zeros((num_features), dtype=np.float32) # feature_vector 초기화\n",
    "    \n",
    "    num_words = 0\n",
    "    \n",
    "    # index2word_set -> 문장 속 단어가 모델 단어 사전에 있는지 보기 위해 어휘 사전 부름\n",
    "    index2word_set = set(model.wv.index2word) # 어휘 사전 준비\n",
    "    \n",
    "    for w in words:\n",
    "        if w in index2word_set: # 단어가 모델 단어 사전에 있으면\n",
    "            num_words += 1\n",
    "            feature_vector = np.add(feature_vector, model.wv[w]) #wv[w] -> 해당 단어의 임베딩 벡터 가져와 모든 벡터들의 합을 구함\n",
    "    # 평균을 내기 위해서 feature vector / num_words(단어 사전에 있는 단어들)한다\n",
    "    feature_vector = np.divide(feature_vector, num_words) if num_words else np.zeros((num_features), dtype=np.float32)\n",
    "        \n",
    "    return feature_vector"
   ]
  },
  {
   "cell_type": "code",
   "execution_count": 43,
   "id": "f0d936e8-c51f-4648-a49b-9a028aeff8dc",
   "metadata": {},
   "outputs": [],
   "source": [
    "def get_dataset(sentences, model, num_features):\n",
    "    dataset = list()\n",
    "    \n",
    "    for s in sentences: # 한 문서씩 꺼냄 (단어 배열 형태 임)\n",
    "        dataset.append(get_feature(s, model, num_features)) # 이 단어 배열들을 임베딩 함\n",
    "        \n",
    "    #reviewFeatureVecs = np.stack(dataset)\n",
    "    return dataset"
   ]
  },
  {
   "cell_type": "code",
   "execution_count": 44,
   "id": "cea3f25d-f4b9-4e66-becd-26e031a6507c",
   "metadata": {},
   "outputs": [],
   "source": [
    "# X 벡터화-임베딩ㅇ 진행 -> 실제 학습에 사용될 입력값을 만들어 보자.\n",
    "X_train3= get_dataset(X_train3, w2_model, num_features)\n",
    "X_test3= get_dataset(X_test3, w2_model, num_features)"
   ]
  },
  {
   "cell_type": "code",
   "execution_count": 46,
   "id": "f6f04df1-d20f-425c-a8f4-521ef0a42f0a",
   "metadata": {},
   "outputs": [
    {
     "name": "stdout",
     "output_type": "stream",
     "text": [
      "148669\n",
      "148669\n"
     ]
    }
   ],
   "source": [
    "print(len(X_train3))\n",
    "print(len(y_train3))"
   ]
  },
  {
   "cell_type": "code",
   "execution_count": 64,
   "id": "6748e707-7009-473f-9dc8-5a82904366b1",
   "metadata": {
    "tags": []
   },
   "outputs": [
    {
     "name": "stdout",
     "output_type": "stream",
     "text": [
      "148588\n",
      "148588\n"
     ]
    },
    {
     "name": "stderr",
     "output_type": "stream",
     "text": [
      "/home/ai-sjjy/anaconda3/lib/python3.6/site-packages/numpy/core/_asarray.py:83: VisibleDeprecationWarning: Creating an ndarray from ragged nested sequences (which is a list-or-tuple of lists-or-tuples-or ndarrays with different lengths or shapes) is deprecated. If you meant to do this, you must specify 'dtype=object' when creating the ndarray\n",
      "  return array(a, dtype, copy=False, order=order)\n"
     ]
    }
   ],
   "source": [
    "drop_train = []\n",
    "for idx, x in enumerate(X_train3):\n",
    "    try:\n",
    "        if x.all: pass\n",
    "    except:\n",
    "        drop_train.append(idx)\n",
    "\n",
    "X_train3 = np.delete(X_train3, drop_train, axis=0)\n",
    "y_train3 = np.delete(y_train3, drop_train, axis=0)\n",
    "\n",
    "print(len(X_train3))\n",
    "print(len(y_train3))\n",
    "\n",
    "X_train3 = np.stack(X_train3)"
   ]
  },
  {
   "cell_type": "code",
   "execution_count": 67,
   "id": "e4788edc-60fc-43cd-bf5d-7b01fe68dd92",
   "metadata": {},
   "outputs": [
    {
     "name": "stdout",
     "output_type": "stream",
     "text": [
      "49510\n",
      "49510\n"
     ]
    }
   ],
   "source": [
    "drop_train = []\n",
    "for idx, x in enumerate(X_test3):\n",
    "    try:\n",
    "        if x.all: pass\n",
    "    except:\n",
    "        drop_train.append(idx)\n",
    "\n",
    "X_test3 = np.delete(X_test3, drop_train, axis=0)\n",
    "y_test3 = np.delete(y_test3, drop_train, axis=0)\n",
    "\n",
    "print(len(X_test3))\n",
    "print(len(y_test3))\n",
    "\n",
    "X_test3 = np.stack(X_test3)"
   ]
  },
  {
   "cell_type": "code",
   "execution_count": 78,
   "id": "41795221-9f70-49bc-9dbe-96dc113685e4",
   "metadata": {},
   "outputs": [],
   "source": [
    "w2_model.save(BASIC_PATH+'clean1/Word2vec1.model')"
   ]
  },
  {
   "cell_type": "markdown",
   "id": "0a5fabc3-c2a4-4c80-bfcf-bb02ec4047be",
   "metadata": {},
   "source": [
    "## [4] train data split 진행"
   ]
  },
  {
   "cell_type": "markdown",
   "id": "f9185b2b-74e3-4588-b15f-f2fef9340086",
   "metadata": {},
   "source": [
    "#### (1) X_train1, X_val1, X_test1 => Ketas tokenizer 이용"
   ]
  },
  {
   "cell_type": "code",
   "execution_count": 28,
   "id": "3a71f292-6a9d-446e-bf69-8147fa5665b3",
   "metadata": {},
   "outputs": [],
   "source": [
    "from sklearn.model_selection import train_test_split # 데이터 셋 분할\n",
    "\n",
    "RANDOM_SEED = 42\n",
    "TEST_SPLIT = 0.2\n",
    "\n",
    "X_train1, X_val1, y_train1, y_val1 = train_test_split(X_train1, y_train1, test_size=TEST_SPLIT, random_state=RANDOM_SEED)"
   ]
  },
  {
   "cell_type": "code",
   "execution_count": 29,
   "id": "eb51dd9c-410d-4ff3-ae1a-0e525fab1e98",
   "metadata": {},
   "outputs": [
    {
     "name": "stdout",
     "output_type": "stream",
     "text": [
      "(118870, 50)\n",
      "(29718, 50)\n"
     ]
    }
   ],
   "source": [
    "print(X_train1.shape)\n",
    "print(X_val1.shape)"
   ]
  },
  {
   "cell_type": "code",
   "execution_count": 30,
   "id": "1e38045f-8ad9-415a-baa2-1da82e033e8f",
   "metadata": {},
   "outputs": [
    {
     "data": {
      "text/plain": [
       "array([    0,     0,     0,     0,     0,     0,     0,     0,     0,\n",
       "           0,     0,     0,     0,     0,     0,     0,     0,     0,\n",
       "           0,     0,     0,     0,     0,     0,     0,     0,     0,\n",
       "           0,     0,     0,     0,     0,     0,     0,     0,     0,\n",
       "           0,     0,     0,     0,     0,     0, 16210,  1199,     5,\n",
       "        7644,     4,     7,   170,     2], dtype=int32)"
      ]
     },
     "execution_count": 30,
     "metadata": {},
     "output_type": "execute_result"
    }
   ],
   "source": [
    "X_train1[0]"
   ]
  },
  {
   "cell_type": "markdown",
   "id": "2467d6c4-142a-4aeb-bf11-2ef5466099b5",
   "metadata": {},
   "source": [
    "#### (2) X_train1, X_val1, X_test1 => TF-IDF tokenizer 이용"
   ]
  },
  {
   "cell_type": "code",
   "execution_count": 72,
   "id": "f4a44818-9574-42b1-b6ac-f662dd9995fe",
   "metadata": {},
   "outputs": [],
   "source": [
    "X_train2, X_val2, y_train2, y_val2 = train_test_split(X_train2, y_train2, test_size=TEST_SPLIT, random_state=RANDOM_SEED)"
   ]
  },
  {
   "cell_type": "code",
   "execution_count": 73,
   "id": "40cc630a-a774-436f-a5fd-c493737cd59e",
   "metadata": {},
   "outputs": [
    {
     "name": "stdout",
     "output_type": "stream",
     "text": [
      "(118935, 25000)\n",
      "(29734, 25000)\n"
     ]
    }
   ],
   "source": [
    "print(X_train2.shape)\n",
    "print(X_val2.shape)"
   ]
  },
  {
   "cell_type": "code",
   "execution_count": 74,
   "id": "7b32795a-a38b-45f2-98ae-a51b896001de",
   "metadata": {},
   "outputs": [
    {
     "data": {
      "text/plain": [
       "<1x25000 sparse matrix of type '<class 'numpy.float64'>'\n",
       "\twith 0 stored elements in Compressed Sparse Row format>"
      ]
     },
     "execution_count": 74,
     "metadata": {},
     "output_type": "execute_result"
    }
   ],
   "source": [
    "X_train2[0]"
   ]
  },
  {
   "cell_type": "code",
   "execution_count": 87,
   "id": "d27cd198-780b-47de-9ef2-2f74dc79beaf",
   "metadata": {},
   "outputs": [],
   "source": [
    "X_train2 = X_train2.toarray()\n",
    "X_test2 = X_test2.toarray()"
   ]
  },
  {
   "cell_type": "markdown",
   "id": "ed16ea91-4c2b-4c09-a041-d80de7c8969f",
   "metadata": {},
   "source": [
    "#### (3) X_train1, X_val1, X_test1 => Word2Vec tokenizer 이용"
   ]
  },
  {
   "cell_type": "code",
   "execution_count": 75,
   "id": "7ff2f52e-ee9f-4696-9e1c-8dad20d3dae7",
   "metadata": {},
   "outputs": [],
   "source": [
    "X_train3, X_val3, y_train3, y_val3 = train_test_split(X_train3, y_train3, test_size=TEST_SPLIT, random_state=RANDOM_SEED)"
   ]
  },
  {
   "cell_type": "code",
   "execution_count": 76,
   "id": "de4788c4-be95-4a85-8d6c-ccaa808f127c",
   "metadata": {},
   "outputs": [
    {
     "name": "stdout",
     "output_type": "stream",
     "text": [
      "(118870, 200)\n",
      "(29718, 200)\n"
     ]
    }
   ],
   "source": [
    "print(X_train3.shape)\n",
    "print(X_val3.shape)"
   ]
  },
  {
   "cell_type": "code",
   "execution_count": 77,
   "id": "d53a61a9-fe5d-43eb-abdb-c248e19935ce",
   "metadata": {
    "collapsed": true,
    "jupyter": {
     "outputs_hidden": true
    },
    "tags": []
   },
   "outputs": [
    {
     "data": {
      "text/plain": [
       "array([ 1.11653900e+00,  4.24600184e-01,  6.00044131e-02, -9.62939933e-02,\n",
       "        2.83091515e-01, -2.04448968e-01, -1.55808888e-02,  6.09266877e-01,\n",
       "        2.00583875e-01, -1.39525205e-01, -5.40110990e-02,  6.20913088e-01,\n",
       "       -1.58806026e-01,  2.31517315e-01,  1.94597721e-01,  1.63792074e-01,\n",
       "        2.67983168e-01,  2.03754455e-01, -7.36541867e-01,  3.59182060e-02,\n",
       "        2.73261219e-03, -3.85803282e-02,  2.14699894e-01, -6.25256658e-01,\n",
       "        7.10227013e-01, -5.02103046e-02,  2.65791297e-01,  3.71191472e-01,\n",
       "        1.27060875e-01, -1.53481737e-02, -3.94992828e-01,  6.17170781e-02,\n",
       "       -1.91088945e-01, -1.33886471e-01, -3.00888151e-01,  1.11061707e-03,\n",
       "       -2.05755696e-01, -1.41569123e-01, -5.26522934e-01, -1.81229025e-01,\n",
       "       -4.65489626e-01,  3.82192433e-02,  6.93031192e-01, -1.94210827e-01,\n",
       "        6.96906298e-02,  3.92417997e-01, -1.73527464e-01, -2.22695574e-01,\n",
       "        4.67285290e-02,  3.82229984e-02, -2.22546235e-01, -6.41657889e-01,\n",
       "        4.91542295e-02,  1.09286442e-01, -2.36915961e-01, -5.23969233e-01,\n",
       "        1.59403235e-01,  2.76935697e-01, -3.51125181e-01,  5.33632897e-02,\n",
       "        5.21616936e-01, -8.22827369e-02, -1.91135809e-01, -1.43615335e-01,\n",
       "        2.44610623e-01, -5.37386894e-01,  1.03950454e-02, -6.72293007e-01,\n",
       "       -1.08928964e-01, -2.27947086e-01, -4.59194958e-01, -4.67746854e-02,\n",
       "       -4.89810944e-01,  1.43707782e-01,  3.93724859e-01,  3.33863974e-01,\n",
       "        7.85472319e-02,  2.67444909e-01, -3.23525667e-02,  1.86411947e-01,\n",
       "        3.83344412e-01,  6.07856929e-01, -5.74645400e-01, -4.53124821e-01,\n",
       "        1.77232772e-01, -3.06209803e-01,  7.75980279e-02,  1.51629783e-02,\n",
       "       -4.69011843e-01, -1.26848847e-01, -2.99880505e-01,  3.24427783e-01,\n",
       "        6.57415688e-02,  2.00514123e-03,  1.35294363e-01, -2.49085277e-02,\n",
       "        4.85587507e-01, -4.16242689e-01, -2.31719822e-01, -3.97561729e-01,\n",
       "        4.96914268e-01,  7.20032454e-02,  5.07622287e-02,  1.64848357e-01,\n",
       "        6.27561986e-01,  3.85304689e-02,  3.45588513e-02, -5.34098029e-01,\n",
       "       -1.99468240e-01,  2.47418284e-01,  4.96629596e-01,  3.97982895e-01,\n",
       "       -1.59554914e-01,  2.08089240e-02, -2.18497932e-01,  7.87406042e-02,\n",
       "        1.11274183e-01,  5.12367308e-01,  7.26776898e-01,  2.20532075e-01,\n",
       "       -5.10225929e-02,  1.01130724e-01,  6.93533361e-01, -5.39182842e-01,\n",
       "        8.89766991e-01, -2.15819135e-01,  5.07035732e-01,  1.57377556e-01,\n",
       "       -2.38571435e-01,  2.71265656e-01, -2.04765767e-01, -5.74892163e-01,\n",
       "       -1.64578035e-02, -5.05447984e-01,  7.04282343e-01,  4.08535719e-01,\n",
       "        4.57493603e-01, -1.79712996e-02, -1.86036050e-01, -6.48008704e-01,\n",
       "        1.20543897e-01,  9.20578018e-02,  2.85010010e-01,  1.64982066e-01,\n",
       "       -4.97436345e-01,  2.01866329e-02,  1.13742791e-01, -4.65101972e-02,\n",
       "       -4.72558230e-01, -2.30148286e-01, -3.20320010e-01,  4.53480035e-01,\n",
       "        1.76802814e-01, -3.14494193e-01, -4.86407280e-01,  1.29049987e-01,\n",
       "       -9.81936008e-02,  1.71916813e-01,  7.40269363e-01,  1.22617781e-02,\n",
       "       -3.42401206e-01,  9.25082147e-01,  4.93860543e-01, -5.31001568e-01,\n",
       "       -3.02058637e-01,  4.07831848e-01,  4.76396382e-01,  3.90677005e-02,\n",
       "        5.86045086e-02, -1.04851198e+00, -3.49589854e-01, -4.78601873e-01,\n",
       "        3.20308626e-01,  2.21984550e-01, -7.03631192e-02,  3.25067818e-01,\n",
       "       -6.68248534e-01,  2.64120549e-01,  2.50065215e-02,  7.22890139e-01,\n",
       "        4.54660356e-01,  3.52574512e-02, -4.44350600e-01, -4.29892123e-01,\n",
       "        2.55774647e-01,  2.17091739e-02,  2.91004419e-01, -4.90014613e-01,\n",
       "        5.29311657e-01, -2.47865647e-01, -9.28078830e-01,  1.77065078e-02,\n",
       "        1.38976946e-02,  3.81573647e-01, -1.93626225e-01, -3.52992117e-01,\n",
       "        1.34338856e-01,  1.22048981e-01, -2.47098967e-01,  1.26551688e-01],\n",
       "      dtype=float32)"
      ]
     },
     "execution_count": 77,
     "metadata": {},
     "output_type": "execute_result"
    }
   ],
   "source": [
    "X_train3[0]"
   ]
  },
  {
   "cell_type": "markdown",
   "id": "395450ea-aedf-4c7c-bb4f-1cdf6c71157c",
   "metadata": {},
   "source": [
    "## [5] 모델 설정 및 훈련"
   ]
  },
  {
   "cell_type": "markdown",
   "id": "e1b1ae82-14d9-40c1-8e6c-76bca71e5edf",
   "metadata": {},
   "source": [
    "|토크나이저|모델|정확도|\n",
    "|------|---|---|\n",
    "|keras|naive|50.9%|\n",
    "|keras|lstm|84.3%|\n",
    "|keras|cnn|84.2%|\n",
    "|keras|bilsm|85.7%|"
   ]
  },
  {
   "cell_type": "markdown",
   "id": "acce78b8-1736-4437-8260-d7a12cd4c81d",
   "metadata": {},
   "source": [
    "### [5-1] Naive Bayes Classification"
   ]
  },
  {
   "cell_type": "markdown",
   "id": "24808561-6fde-4581-bdb2-8535161220a2",
   "metadata": {},
   "source": [
    "#### (1) X_train1, X_val1, X_test1 => Ketas tokenizer 이용"
   ]
  },
  {
   "cell_type": "code",
   "execution_count": 31,
   "id": "3d8ea474-b32d-4ddf-a45a-1c6362aab05a",
   "metadata": {},
   "outputs": [
    {
     "data": {
      "text/plain": [
       "GaussianNB()"
      ]
     },
     "execution_count": 31,
     "metadata": {},
     "output_type": "execute_result"
    }
   ],
   "source": [
    "from sklearn.naive_bayes import GaussianNB\n",
    "\n",
    "nb1 = GaussianNB()\n",
    "nb1.fit(X_train1, y_train1)"
   ]
  },
  {
   "cell_type": "code",
   "execution_count": 32,
   "id": "42c610a5-b5c6-4bff-8d41-867976bb6912",
   "metadata": {},
   "outputs": [
    {
     "name": "stdout",
     "output_type": "stream",
     "text": [
      "Accuracy : 0.504913\n"
     ]
    }
   ],
   "source": [
    "predicted1 = nb1.predict(X_val1)\n",
    "print(\"Accuracy : %f\" % nb1.score(X_val1, y_val1)) # score()함수 => 정확도 측정"
   ]
  },
  {
   "cell_type": "code",
   "execution_count": 33,
   "id": "4c7b5ea2-b1e8-408d-a426-2f161467fe0b",
   "metadata": {},
   "outputs": [
    {
     "name": "stdout",
     "output_type": "stream",
     "text": [
      "Accuracy : 0.509960\n"
     ]
    }
   ],
   "source": [
    "print(\"Accuracy : %f\" % nb1.score(X_test1, y_test1)) # score()함수 => 정확도 측정"
   ]
  },
  {
   "cell_type": "code",
   "execution_count": 1,
   "id": "6e764a1b-99c7-4b09-9c4f-9082107ccd79",
   "metadata": {},
   "outputs": [
    {
     "ename": "NameError",
     "evalue": "name 'GaussianNB' is not defined",
     "output_type": "error",
     "traceback": [
      "\u001b[0;31m---------------------------------------------------------------------------\u001b[0m",
      "\u001b[0;31mNameError\u001b[0m                                 Traceback (most recent call last)",
      "\u001b[0;32m<ipython-input-1-cc3b3ed16ecd>\u001b[0m in \u001b[0;36m<module>\u001b[0;34m\u001b[0m\n\u001b[0;32m----> 1\u001b[0;31m \u001b[0mnb2\u001b[0m \u001b[0;34m=\u001b[0m \u001b[0mGaussianNB\u001b[0m\u001b[0;34m(\u001b[0m\u001b[0;34m)\u001b[0m\u001b[0;34m\u001b[0m\u001b[0;34m\u001b[0m\u001b[0m\n\u001b[0m\u001b[1;32m      2\u001b[0m \u001b[0mnb2\u001b[0m\u001b[0;34m.\u001b[0m\u001b[0mfit\u001b[0m\u001b[0;34m(\u001b[0m\u001b[0mX_train2\u001b[0m\u001b[0;34m,\u001b[0m \u001b[0my_train2\u001b[0m\u001b[0;34m)\u001b[0m\u001b[0;34m\u001b[0m\u001b[0;34m\u001b[0m\u001b[0m\n",
      "\u001b[0;31mNameError\u001b[0m: name 'GaussianNB' is not defined"
     ]
    }
   ],
   "source": [
    "nb2 = GaussianNB()\n",
    "nb2.fit(X_train2, y_train2)"
   ]
  },
  {
   "cell_type": "code",
   "execution_count": null,
   "id": "02189457-6313-4c1a-98ef-57f1f6c60f66",
   "metadata": {},
   "outputs": [],
   "source": [
    "predicted1 = nb1.predict(X_val1)\n",
    "print(\"Accuracy : %f\" % nb1.score(X_val1, y_val1)) # score()함수 => 정확도 측정"
   ]
  },
  {
   "cell_type": "code",
   "execution_count": null,
   "id": "42ea5e13-204d-41f0-9e58-b344bd2ab022",
   "metadata": {},
   "outputs": [],
   "source": [
    "print(\"Accuracy : %f\" % nb1.score(X_test1, y_test1)) # score()함수 => 정확도 측정"
   ]
  },
  {
   "cell_type": "markdown",
   "id": "b3f66384-cb7a-47ec-b460-314f6aef38e9",
   "metadata": {},
   "source": [
    "### [5-2] LSTM"
   ]
  },
  {
   "cell_type": "markdown",
   "id": "f4a888b6-e2b9-4efd-8bc0-c644ed964f49",
   "metadata": {},
   "source": [
    "#### (1) X_train1, X_val1, X_test1 => Ketas tokenizer 이용"
   ]
  },
  {
   "cell_type": "code",
   "execution_count": 34,
   "id": "29068d37-460d-4e7f-b62b-8e14fee6f20b",
   "metadata": {},
   "outputs": [],
   "source": [
    "from tensorflow.keras.layers import Embedding, Dense, LSTM\n",
    "from tensorflow.keras.models import Sequential, Model\n",
    "from tensorflow.keras.callbacks import EarlyStopping, ModelCheckpoint\n",
    "\n",
    "from tensorflow.keras.layers import Dropout, Conv1D, GlobalMaxPooling1D, Input, Flatten, Concatenate"
   ]
  },
  {
   "cell_type": "code",
   "execution_count": 35,
   "id": "79bf7151-56af-451d-b684-068a9c60881a",
   "metadata": {},
   "outputs": [],
   "source": [
    "vocab_size, word_vector_dim = vocab_size, 200"
   ]
  },
  {
   "cell_type": "code",
   "execution_count": 36,
   "id": "dbd8d3e8-3f36-4b70-b0eb-c6ab9463412c",
   "metadata": {},
   "outputs": [],
   "source": [
    "lstm = Sequential()\n",
    "lstm.add(Embedding(vocab_size, word_vector_dim))\n",
    "lstm.add(LSTM(128))\n",
    "lstm.add(Dense(8, activation='relu'))\n",
    "lstm.add(Dense(1, activation='sigmoid'))"
   ]
  },
  {
   "cell_type": "code",
   "execution_count": 37,
   "id": "29c1ddb8-7eaf-46be-8896-f8e6a4e914dd",
   "metadata": {},
   "outputs": [],
   "source": [
    "es = EarlyStopping(monitor='val_loss', mode='min', verbose=1, patience=4)\n",
    "mc = ModelCheckpoint('lstm_model.h5', monitor='val_acc', mode='max', verbose=1, save_best_only=True)\n",
    "lstm.compile(optimizer='adam',\n",
    "              loss='binary_crossentropy',\n",
    "              metrics=['accuracy'])"
   ]
  },
  {
   "cell_type": "markdown",
   "id": "d011bef9-8ebe-49e5-8db7-ec8c2758e11e",
   "metadata": {},
   "source": [
    "#### (1) X_train1, X_val1, X_test1 => Ketas tokenizer 이용"
   ]
  },
  {
   "cell_type": "code",
   "execution_count": 41,
   "id": "63e7c2f2-9ac2-4f1b-bae0-befaae162f32",
   "metadata": {},
   "outputs": [
    {
     "name": "stdout",
     "output_type": "stream",
     "text": [
      "Epoch 1/20\n",
      "1858/1858 [==============================] - 96s 51ms/step - loss: 0.2303 - accuracy: 0.9061 - val_loss: 0.3420 - val_accuracy: 0.8566\n",
      "WARNING:tensorflow:Can save best model only with val_acc available, skipping.\n",
      "Epoch 2/20\n",
      "1858/1858 [==============================] - 94s 50ms/step - loss: 0.1787 - accuracy: 0.9290 - val_loss: 0.4013 - val_accuracy: 0.8508\n",
      "WARNING:tensorflow:Can save best model only with val_acc available, skipping.\n",
      "Epoch 3/20\n",
      "1858/1858 [==============================] - 95s 51ms/step - loss: 0.1358 - accuracy: 0.9471 - val_loss: 0.4565 - val_accuracy: 0.8488\n",
      "WARNING:tensorflow:Can save best model only with val_acc available, skipping.\n",
      "Epoch 4/20\n",
      "1858/1858 [==============================] - 93s 50ms/step - loss: 0.1039 - accuracy: 0.9604 - val_loss: 0.5515 - val_accuracy: 0.8510\n",
      "WARNING:tensorflow:Can save best model only with val_acc available, skipping.\n",
      "Epoch 5/20\n",
      "1858/1858 [==============================] - 94s 51ms/step - loss: 0.0823 - accuracy: 0.9689 - val_loss: 0.6078 - val_accuracy: 0.8431\n",
      "WARNING:tensorflow:Can save best model only with val_acc available, skipping.\n",
      "Epoch 00005: early stopping\n"
     ]
    }
   ],
   "source": [
    "epochs=20\n",
    "\n",
    "history = lstm.fit(X_train1, y_train1,\n",
    "                    epochs=epochs,\n",
    "                    batch_size=64, # 512, 100, 60 \n",
    "                    validation_data=(X_val1, y_val1),\n",
    "                    verbose=1,\n",
    "                    callbacks = [es, mc])"
   ]
  },
  {
   "cell_type": "code",
   "execution_count": 42,
   "id": "c4e19ce2-51f1-4fc2-bf36-a70a203271e2",
   "metadata": {},
   "outputs": [
    {
     "name": "stdout",
     "output_type": "stream",
     "text": [
      "1549/1549 - 9s - loss: 0.6045 - accuracy: 0.8431\n",
      "[0.604503870010376, 0.8430846333503723]\n"
     ]
    }
   ],
   "source": [
    "results = lstm.evaluate(X_test1, y_test1, verbose=2)\n",
    "\n",
    "print(results)"
   ]
  },
  {
   "cell_type": "code",
   "execution_count": 43,
   "id": "f7cd9071-1b9a-46ee-86a6-251e09c7c930",
   "metadata": {},
   "outputs": [
    {
     "data": {
      "image/png": "[encoded data removed]",
      "text/plain": [
       "<Figure size 432x288 with 1 Axes>"
      ]
     },
     "metadata": {
      "needs_background": "light"
     },
     "output_type": "display_data"
    }
   ],
   "source": [
    "history_dict = history.history\n",
    "\n",
    "acc = history_dict['accuracy']\n",
    "val_acc = history_dict['val_accuracy']\n",
    "loss = history_dict['loss']\n",
    "val_loss = history_dict['val_loss']\n",
    "\n",
    "epochs = range(1, len(acc) + 1)\n",
    "\n",
    "# \"bo\"는 \"파란색 점\"입니다\n",
    "plt.plot(epochs, loss, 'bo', label='Training loss')\n",
    "# b는 \"파란 실선\"입니다\n",
    "plt.plot(epochs, val_loss, 'b', label='Validation loss')\n",
    "plt.title('Training and validation loss')\n",
    "plt.xlabel('Epochs')\n",
    "plt.ylabel('Loss')\n",
    "plt.legend()\n",
    "\n",
    "plt.show()"
   ]
  },
  {
   "cell_type": "code",
   "execution_count": 44,
   "id": "1bc50945-1001-4872-8e21-5dcdaebeaf62",
   "metadata": {},
   "outputs": [],
   "source": [
    "## 모델 저장\n",
    "lstm.save(BASIC_PATH + 'clean1/lstm_model1.h5')"
   ]
  },
  {
   "cell_type": "markdown",
   "id": "2b4f1694-5079-4f79-92bc-ce1a3f02c0db",
   "metadata": {},
   "source": [
    "### [5-2] CNN"
   ]
  },
  {
   "cell_type": "code",
   "execution_count": 45,
   "id": "e1e88602-b8f9-4353-abd8-9b129320bdf7",
   "metadata": {},
   "outputs": [],
   "source": [
    "from tensorflow.keras.models import Sequential, Model\n",
    "from tensorflow.keras.layers import Embedding, Dropout, Conv1D, GlobalMaxPooling1D, Dense, Input, Flatten, Concatenate\n",
    "from tensorflow.keras.callbacks import EarlyStopping, ModelCheckpoint\n",
    "from tensorflow.keras.models import load_model"
   ]
  },
  {
   "cell_type": "code",
   "execution_count": 46,
   "id": "f2d4c12b-053a-4480-ad27-8900a7653aea",
   "metadata": {},
   "outputs": [],
   "source": [
    "embedding_dim = 200\n",
    "dropout_prob = (0.5, 0.8)\n",
    "num_filters = 128"
   ]
  },
  {
   "cell_type": "code",
   "execution_count": 47,
   "id": "9cb8b434-e296-4605-8642-981a19b9efdd",
   "metadata": {},
   "outputs": [],
   "source": [
    "model_input = Input(shape = (max_len,))\n",
    "z = Embedding(vocab_size, embedding_dim, input_length = max_len, name=\"embedding\")(model_input)\n",
    "z = Dropout(dropout_prob[0])(z)"
   ]
  },
  {
   "cell_type": "code",
   "execution_count": 48,
   "id": "36295d9d-3d4d-49fd-8402-2714594bd0ff",
   "metadata": {},
   "outputs": [],
   "source": [
    "conv_blocks = []\n",
    "\n",
    "for sz in [3, 4, 5]:\n",
    "    conv = Conv1D(filters = num_filters,\n",
    "                         kernel_size = sz,\n",
    "                         padding = \"valid\",\n",
    "                         activation = \"relu\",\n",
    "                         strides = 1)(z)\n",
    "    conv = GlobalMaxPooling1D()(conv)\n",
    "    conv = Flatten()(conv)\n",
    "    conv_blocks.append(conv)\n",
    "    \n",
    "z = Concatenate()(conv_blocks) if len(conv_blocks) > 1 else conv_blocks[0]\n",
    "z = Dropout(dropout_prob[1])(z)\n",
    "z = Dense(128, activation=\"relu\")(z)\n",
    "model_output = Dense(1, activation=\"sigmoid\")(z)\n",
    "\n",
    "model = Model(model_input, model_output)\n",
    "model.compile(loss=\"binary_crossentropy\", optimizer=\"adam\", metrics=[\"acc\"])"
   ]
  },
  {
   "cell_type": "markdown",
   "id": "70987efb-f297-46e7-b079-0d2d596f3353",
   "metadata": {},
   "source": [
    "#### (1) X_train1, X_val1, X_test1 => Ketas tokenizer 이용"
   ]
  },
  {
   "cell_type": "code",
   "execution_count": 50,
   "id": "c40f3bd6-5771-4b3e-a9ca-04ce6bfa304f",
   "metadata": {},
   "outputs": [
    {
     "name": "stdout",
     "output_type": "stream",
     "text": [
      "Epoch 1/10\n",
      "1858/1858 - 81s - loss: 0.2777 - acc: 0.8868 - val_loss: 0.3507 - val_acc: 0.8510\n",
      "\n",
      "Epoch 00001: val_acc improved from -inf to 0.85097, saving model to CNN_model.h5\n",
      "Epoch 2/10\n",
      "1858/1858 - 81s - loss: 0.2534 - acc: 0.8979 - val_loss: 0.3583 - val_acc: 0.8485\n",
      "\n",
      "Epoch 00002: val_acc did not improve from 0.85097\n",
      "Epoch 3/10\n",
      "1858/1858 - 81s - loss: 0.2335 - acc: 0.9068 - val_loss: 0.3669 - val_acc: 0.8481\n",
      "\n",
      "Epoch 00003: val_acc did not improve from 0.85097\n",
      "Epoch 4/10\n",
      "1858/1858 - 81s - loss: 0.2160 - acc: 0.9137 - val_loss: 0.3828 - val_acc: 0.8477\n",
      "\n",
      "Epoch 00004: val_acc did not improve from 0.85097\n",
      "Epoch 5/10\n",
      "1858/1858 - 81s - loss: 0.2015 - acc: 0.9199 - val_loss: 0.3970 - val_acc: 0.8436\n",
      "\n",
      "Epoch 00005: val_acc did not improve from 0.85097\n",
      "Epoch 00005: early stopping\n"
     ]
    }
   ],
   "source": [
    "es = EarlyStopping(monitor='val_loss', mode='min', verbose=1, patience=4)\n",
    "mc = ModelCheckpoint('CNN_model.h5', monitor='val_acc', mode='max', verbose=1, save_best_only=True)\n",
    "\n",
    "history_cnn = model.fit(X_train1, y_train1, batch_size = 64, epochs=10,\\\n",
    "                        validation_data = (X_val1, y_val1), verbose=2, callbacks=[es, mc])"
   ]
  },
  {
   "cell_type": "code",
   "execution_count": 51,
   "id": "96afc145-f9cb-4c93-82bd-6c7c325a2aab",
   "metadata": {},
   "outputs": [
    {
     "name": "stdout",
     "output_type": "stream",
     "text": [
      "1549/1549 - 4s - loss: 0.3939 - acc: 0.8425\n",
      "[0.39392581582069397, 0.8424791693687439]\n"
     ]
    }
   ],
   "source": [
    "results = model.evaluate(X_test1, y_test1, verbose=2)\n",
    "\n",
    "print(results)"
   ]
  },
  {
   "cell_type": "code",
   "execution_count": 53,
   "id": "54897311-1c26-420b-9a24-72487ed7c8f7",
   "metadata": {},
   "outputs": [
    {
     "data": {
      "image/png": "[encoded data removed]",
      "text/plain": [
       "<Figure size 432x288 with 1 Axes>"
      ]
     },
     "metadata": {
      "needs_background": "light"
     },
     "output_type": "display_data"
    }
   ],
   "source": [
    "history_dict = history_cnn.history\n",
    "\n",
    "acc = history_dict['acc']\n",
    "val_acc = history_dict['val_acc']\n",
    "loss = history_dict['loss']\n",
    "val_loss = history_dict['val_loss']\n",
    "\n",
    "epochs = range(1, len(acc) + 1)\n",
    "\n",
    "# \"bo\"는 \"파란색 점\"입니다\n",
    "plt.plot(epochs, loss, 'bo', label='Training loss')\n",
    "# b는 \"파란 실선\"입니다\n",
    "plt.plot(epochs, val_loss, 'b', label='Validation loss')\n",
    "plt.title('Training and validation loss')\n",
    "plt.xlabel('Epochs')\n",
    "plt.ylabel('Loss')\n",
    "plt.legend()\n",
    "\n",
    "plt.show()"
   ]
  },
  {
   "cell_type": "code",
   "execution_count": 54,
   "id": "5b62d0f0-7fc1-4044-872c-857c5119cb64",
   "metadata": {},
   "outputs": [],
   "source": [
    "## 모델 저장\n",
    "model.save(BASIC_PATH + 'clean1/CNN_model1.h5')"
   ]
  },
  {
   "cell_type": "markdown",
   "id": "ec8c9e41-f856-4c1a-8ee1-fbd929ddeae9",
   "metadata": {},
   "source": [
    "### [5-3] Bi-LSTM"
   ]
  },
  {
   "cell_type": "code",
   "execution_count": 55,
   "id": "25fe1bc7-4fe9-423e-9d97-eb56946bf0bf",
   "metadata": {},
   "outputs": [],
   "source": [
    "from tensorflow.keras.layers import Embedding, Dense, LSTM, Bidirectional\n",
    "from tensorflow.keras.models import Sequential\n",
    "from tensorflow.keras.models import load_model\n",
    "from tensorflow.keras.callbacks import EarlyStopping, ModelCheckpoint"
   ]
  },
  {
   "cell_type": "code",
   "execution_count": 56,
   "id": "67e5cfbe-9506-4a79-947d-a82931cdb061",
   "metadata": {},
   "outputs": [],
   "source": [
    "bilstm = Sequential()\n",
    "bilstm.add(Embedding(vocab_size, 100))\n",
    "bilstm.add(Bidirectional(LSTM(100)))\n",
    "bilstm.add(Dense(1, activation='sigmoid'))"
   ]
  },
  {
   "cell_type": "code",
   "execution_count": 57,
   "id": "11fdbefb-65ca-4f24-9459-d111e0cf6b84",
   "metadata": {},
   "outputs": [],
   "source": [
    "es = EarlyStopping(monitor='val_loss', mode='min', verbose=1, patience=4)\n",
    "mc = ModelCheckpoint('bilstm_model.h5', monitor='val_acc', mode='max', verbose=1, save_best_only=True)"
   ]
  },
  {
   "cell_type": "code",
   "execution_count": 59,
   "id": "465fd44a-9d68-4526-9847-33aecca4394b",
   "metadata": {},
   "outputs": [
    {
     "name": "stdout",
     "output_type": "stream",
     "text": [
      "Epoch 1/15\n",
      "1858/1858 - 58s - loss: 0.3594 - accuracy: 0.8414 - val_loss: 0.3560 - val_accuracy: 0.8474\n",
      "WARNING:tensorflow:Can save best model only with val_acc available, skipping.\n",
      "Epoch 2/15\n",
      "1858/1858 - 56s - loss: 0.3150 - accuracy: 0.8646 - val_loss: 0.3330 - val_accuracy: 0.8572\n",
      "WARNING:tensorflow:Can save best model only with val_acc available, skipping.\n",
      "Epoch 3/15\n",
      "1858/1858 - 56s - loss: 0.2892 - accuracy: 0.8780 - val_loss: 0.3362 - val_accuracy: 0.8539\n",
      "WARNING:tensorflow:Can save best model only with val_acc available, skipping.\n",
      "Epoch 4/15\n",
      "1858/1858 - 56s - loss: 0.2685 - accuracy: 0.8890 - val_loss: 0.3201 - val_accuracy: 0.8629\n",
      "WARNING:tensorflow:Can save best model only with val_acc available, skipping.\n",
      "Epoch 5/15\n",
      "1858/1858 - 56s - loss: 0.2501 - accuracy: 0.8984 - val_loss: 0.3288 - val_accuracy: 0.8604\n",
      "WARNING:tensorflow:Can save best model only with val_acc available, skipping.\n",
      "Epoch 6/15\n",
      "1858/1858 - 56s - loss: 0.2344 - accuracy: 0.9060 - val_loss: 0.3388 - val_accuracy: 0.8617\n",
      "WARNING:tensorflow:Can save best model only with val_acc available, skipping.\n",
      "Epoch 7/15\n",
      "1858/1858 - 56s - loss: 0.2190 - accuracy: 0.9137 - val_loss: 0.3404 - val_accuracy: 0.8601\n",
      "WARNING:tensorflow:Can save best model only with val_acc available, skipping.\n",
      "Epoch 8/15\n",
      "1858/1858 - 56s - loss: 0.2039 - accuracy: 0.9207 - val_loss: 0.3508 - val_accuracy: 0.8578\n",
      "WARNING:tensorflow:Can save best model only with val_acc available, skipping.\n",
      "Epoch 00008: early stopping\n"
     ]
    }
   ],
   "source": [
    "bilstm.compile(optimizer='rmsprop', loss='binary_crossentropy', metrics=['accuracy'])\n",
    "history_bilstm = bilstm.fit(X_train1, y_train1, epochs=15, callbacks=[es, mc], batch_size=64, validation_data = (X_val1, y_val1), verbose=2)"
   ]
  },
  {
   "cell_type": "code",
   "execution_count": 61,
   "id": "06eccbc5-9018-402d-8b2e-36cafc22384b",
   "metadata": {},
   "outputs": [
    {
     "name": "stdout",
     "output_type": "stream",
     "text": [
      "1549/1549 [==============================] - 7s 5ms/step - loss: 0.3497 - accuracy: 0.8576\n",
      "테스트 정확도: 0.8576\n"
     ]
    }
   ],
   "source": [
    "print(\"테스트 정확도: %.4f\" % (bilstm.evaluate(X_test1, y_test1)[1]))"
   ]
  },
  {
   "cell_type": "code",
   "execution_count": 62,
   "id": "3b579f83-c3aa-4380-85f0-b069c0566274",
   "metadata": {},
   "outputs": [
    {
     "data": {
      "image/png": "[encoded data removed]",
      "text/plain": [
       "<Figure size 432x288 with 1 Axes>"
      ]
     },
     "metadata": {
      "needs_background": "light"
     },
     "output_type": "display_data"
    }
   ],
   "source": [
    "history_dict = history_bilstm.history\n",
    "\n",
    "acc = history_dict['accuracy']\n",
    "val_acc = history_dict['val_accuracy']\n",
    "loss = history_dict['loss']\n",
    "val_loss = history_dict['val_loss']\n",
    "\n",
    "epochs = range(1, len(acc) + 1)\n",
    "\n",
    "# \"bo\"는 \"파란색 점\"입니다\n",
    "plt.plot(epochs, loss, 'bo', label='Training loss')\n",
    "# b는 \"파란 실선\"입니다\n",
    "plt.plot(epochs, val_loss, 'b', label='Validation loss')\n",
    "plt.title('Training and validation loss')\n",
    "plt.xlabel('Epochs')\n",
    "plt.ylabel('Loss')\n",
    "plt.legend()\n",
    "\n",
    "plt.show()"
   ]
  },
  {
   "cell_type": "code",
   "execution_count": 63,
   "id": "9a3d0622-9c07-4378-a9a1-9efad4908f10",
   "metadata": {},
   "outputs": [],
   "source": [
    "## 모델 저장\n",
    "model.save(BASIC_PATH + 'clean1/BILSTM_model1.h5')"
   ]
  },
  {
   "cell_type": "markdown",
   "id": "d5fff1c3-9206-4292-9032-c317bcdeddb9",
   "metadata": {},
   "source": [
    "### [5-4] CNN-LSTM"
   ]
  }
 ],
 "metadata": {
  "kernelspec": {
   "display_name": "Python 3",
   "language": "python",
   "name": "python3"
  },
  "language_info": {
   "codemirror_mode": {
    "name": "ipython",
    "version": 3
   },
   "file_extension": ".py",
   "mimetype": "text/x-python",
   "name": "python",
   "nbconvert_exporter": "python",
   "pygments_lexer": "ipython3",
   "version": "3.6.13"
  }
 },
 "nbformat": 4,
 "nbformat_minor": 5
}
