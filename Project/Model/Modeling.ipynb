{
 "cells": [
  {
   "cell_type": "code",
   "execution_count": 1,
   "source": [
    "import kerastuner as kt\r\n",
    "from tensorflow import keras\r\n",
    "\r\n",
    "import numpy as np\r\n",
    "import pandas as pd\r\n",
    "import os\r\n",
    "\r\n",
    "import matplotlib.pyplot as plt\r\n",
    "import seaborn as sns\r\n",
    "%matplotlib inline\r\n",
    "\r\n",
    "from kerastuner_tensorboard_logger import TensorBoardLogger, setup_tb\r\n",
    "\r\n",
    "%load_ext tensorboard"
   ],
   "outputs": [],
   "metadata": {}
  },
  {
   "cell_type": "code",
   "execution_count": 2,
   "source": [
    "import tensorflow as tf\r\n",
    "physical_devices = tf.config.list_physical_devices('GPU')\r\n",
    "tf.config.experimental.set_memory_growth(physical_devices[0], enable=True)"
   ],
   "outputs": [],
   "metadata": {}
  },
  {
   "cell_type": "code",
   "execution_count": 3,
   "source": [
    "BASIC_PATH = \"/dataset/\""
   ],
   "outputs": [],
   "metadata": {}
  },
  {
   "cell_type": "code",
   "execution_count": 4,
   "source": [
    "## 만약에 위에 clean code 지나치고 싶으면\r\n",
    "CLEAN_TRAIN_X = \"final/X_train.npy\"\r\n",
    "CLEAN_TRAIN_Y = \"final/y_train.npy\"\r\n",
    "\r\n",
    "CLEAN_TEST_X = \"final/X_test.npy\"\r\n",
    "CLEAN_TEST_Y = \"final/y_test.npy\"\r\n",
    "\r\n",
    "X_train = np.load(BASIC_PATH+CLEAN_TRAIN_X)\r\n",
    "y_train = np.load(BASIC_PATH+CLEAN_TRAIN_Y)\r\n",
    "\r\n",
    "X_test = np.load(BASIC_PATH+CLEAN_TEST_X)\r\n",
    "y_test = np.load(BASIC_PATH+CLEAN_TEST_Y)"
   ],
   "outputs": [],
   "metadata": {}
  },
  {
   "cell_type": "code",
   "execution_count": 5,
   "source": [
    "print(X_train.shape)\r\n",
    "print(y_train.shape)\r\n",
    "\r\n",
    "print(X_test.shape)\r\n",
    "print(y_test.shape)"
   ],
   "outputs": [
    {
     "output_type": "stream",
     "name": "stdout",
     "text": [
      "(148572, 50)\n",
      "(148572,)\n",
      "(49575, 50)\n",
      "(49575,)\n"
     ]
    }
   ],
   "metadata": {}
  },
  {
   "cell_type": "markdown",
   "source": [
    "### * 기본 정보\n",
    "\n",
    "vocab_size = 20744<br>\n",
    "max_len = 50<br>\n",
    "word_dim = 100\n",
    "\n",
    "batch_size = 64\n",
    "\n",
    "optimizer = RMSProp"
   ],
   "metadata": {}
  },
  {
   "cell_type": "code",
   "execution_count": 6,
   "source": [
    "vocab_size = 20744\n",
    "max_len = 50\n",
    "word_vector_dim = 100\n",
    "\n",
    "batch_size = 64\n",
    "\n",
    "epochs = 20"
   ],
   "outputs": [],
   "metadata": {}
  },
  {
   "cell_type": "markdown",
   "source": [
    "## [1] train data split 진행"
   ],
   "metadata": {}
  },
  {
   "cell_type": "code",
   "execution_count": 7,
   "source": [
    "from sklearn.model_selection import train_test_split # 데이터 셋 분할\n",
    "\n",
    "TEST_SPLIT = 0.2\n",
    "RANDOM_SEED = 100\n",
    "\n",
    "X_train, X_val, y_train, y_val = train_test_split(X_train, y_train, test_size=TEST_SPLIT, random_state=RANDOM_SEED)"
   ],
   "outputs": [],
   "metadata": {}
  },
  {
   "cell_type": "code",
   "execution_count": 8,
   "source": [
    "print(X_train.shape)\n",
    "print(y_train.shape)\n",
    "\n",
    "print(X_val.shape)\n",
    "print(y_val.shape)\n",
    "\n",
    "print(X_test.shape)\n",
    "print(y_test.shape)"
   ],
   "outputs": [
    {
     "output_type": "stream",
     "name": "stdout",
     "text": [
      "(118857, 50)\n",
      "(118857,)\n",
      "(29715, 50)\n",
      "(29715,)\n",
      "(49575, 50)\n",
      "(49575,)\n"
     ]
    }
   ],
   "metadata": {}
  },
  {
   "cell_type": "markdown",
   "source": [
    "## [2] Modeling"
   ],
   "metadata": {}
  },
  {
   "cell_type": "markdown",
   "source": [
    "### result\n",
    "\n",
    "1. LSTM : 86.1%\n",
    "2. CNN : 86.5%\n",
    "3. BiLSTM : 85.8%\n",
    "4. GRU : 84.5%\n",
    "5. CNN-LSTM : 86.3%"
   ],
   "metadata": {}
  },
  {
   "cell_type": "code",
   "execution_count": 9,
   "source": [
    "from tensorflow.keras.layers import Embedding, Dense, LSTM, Dropout, Conv1D, Bidirectional, GRU\n",
    "from tensorflow.keras.layers import BatchNormalization, GlobalMaxPooling1D, MaxPooling1D, AveragePooling1D\n",
    "\n",
    "from tensorflow.keras.layers import Dropout, Input, Flatten, Concatenate\n",
    "from tensorflow.keras.models import Sequential, Model\n",
    "from tensorflow.keras.callbacks import EarlyStopping, ModelCheckpoint"
   ],
   "outputs": [],
   "metadata": {}
  },
  {
   "cell_type": "code",
   "execution_count": 10,
   "source": [
    "def show_plot(history):\n",
    "    acc = history['accuracy']\n",
    "    val_acc = history['val_accuracy']\n",
    "    loss = history['loss']\n",
    "    val_loss = history['val_loss']\n",
    "    \n",
    "    epochs = range(1, len(acc) + 1)\n",
    "    \n",
    "    plt.plot(epochs, loss, 'bo', label='Training loss')\n",
    "    plt.plot(epochs, val_loss, 'b', label='Validation loss')\n",
    "    plt.title('Training and validation loss')\n",
    "    plt.xlabel('Epochs')\n",
    "    plt.ylabel('Loss')\n",
    "    plt.legend()\n",
    "\n",
    "    plt.show()"
   ],
   "outputs": [],
   "metadata": {}
  },
  {
   "cell_type": "markdown",
   "source": [
    "### [2-1] LSTM"
   ],
   "metadata": {}
  },
  {
   "cell_type": "code",
   "execution_count": 87,
   "source": [
    "lstm = Sequential()\n",
    "lstm.add(Embedding(vocab_size, word_vector_dim))\n",
    "lstm.add(LSTM(128))\n",
    "lstm.add(Dense(1, activation='sigmoid'))"
   ],
   "outputs": [],
   "metadata": {}
  },
  {
   "cell_type": "code",
   "execution_count": 88,
   "source": [
    "es1 = EarlyStopping(monitor='val_loss', mode='min', verbose=1, patience=3)\n",
    "mc1 = ModelCheckpoint(BASIC_PATH + 'final/LSTM_model.h5', monitor='val_acc', mode='max', verbose=1, save_best_only=True)\n",
    "lstm.compile(optimizer='rmsprop',\n",
    "              loss='binary_crossentropy',\n",
    "              metrics=['accuracy'])"
   ],
   "outputs": [],
   "metadata": {}
  },
  {
   "cell_type": "code",
   "execution_count": 89,
   "source": [
    "history_lstm = lstm.fit(X_train, y_train,\n",
    "                    epochs=epochs,\n",
    "                    batch_size=batch_size,\n",
    "                    validation_data=(X_val, y_val),\n",
    "                    verbose=2,\n",
    "                    callbacks = [es1, mc1])"
   ],
   "outputs": [
    {
     "output_type": "stream",
     "name": "stdout",
     "text": [
      "Train on 118857 samples, validate on 29715 samples\n",
      "Epoch 1/20\n",
      "WARNING:tensorflow:Can save best model only with val_acc available, skipping.\n",
      "118857/118857 - 34s - loss: 0.3863 - accuracy: 0.8252 - val_loss: 0.3397 - val_accuracy: 0.8532\n",
      "Epoch 2/20\n",
      "WARNING:tensorflow:Can save best model only with val_acc available, skipping.\n",
      "118857/118857 - 32s - loss: 0.3183 - accuracy: 0.8635 - val_loss: 0.3305 - val_accuracy: 0.8579\n",
      "Epoch 3/20\n",
      "WARNING:tensorflow:Can save best model only with val_acc available, skipping.\n",
      "118857/118857 - 32s - loss: 0.2923 - accuracy: 0.8770 - val_loss: 0.3218 - val_accuracy: 0.8630\n",
      "Epoch 4/20\n",
      "WARNING:tensorflow:Can save best model only with val_acc available, skipping.\n",
      "118857/118857 - 32s - loss: 0.2719 - accuracy: 0.8872 - val_loss: 0.3251 - val_accuracy: 0.8669\n",
      "Epoch 5/20\n",
      "WARNING:tensorflow:Can save best model only with val_acc available, skipping.\n",
      "118857/118857 - 32s - loss: 0.2555 - accuracy: 0.8954 - val_loss: 0.3423 - val_accuracy: 0.8514\n",
      "Epoch 6/20\n",
      "WARNING:tensorflow:Can save best model only with val_acc available, skipping.\n",
      "118857/118857 - 32s - loss: 0.2396 - accuracy: 0.9043 - val_loss: 0.3257 - val_accuracy: 0.8675\n",
      "Epoch 00006: early stopping\n"
     ]
    }
   ],
   "metadata": {
    "tags": []
   }
  },
  {
   "cell_type": "code",
   "execution_count": 90,
   "source": [
    "print(\"LSTM Accuracy result : \", lstm.evaluate(X_test, y_test, verbose=2))\n",
    "\n",
    "show_plot(history_lstm.history)"
   ],
   "outputs": [
    {
     "output_type": "stream",
     "name": "stdout",
     "text": [
      "49575/49575 - 5s - loss: 0.3303 - accuracy: 0.8630\n",
      "LSTM Accuracy result :  [0.330333984198741, 0.86301565]\n"
     ]
    },
    {
     "output_type": "display_data",
     "data": {
      "text/plain": [
       "<Figure size 432x288 with 1 Axes>"
      ],
      "image/png": "[encoded data removed]"
     },
     "metadata": {
      "needs_background": "light"
     }
    }
   ],
   "metadata": {
    "tags": []
   }
  },
  {
   "cell_type": "code",
   "execution_count": 91,
   "source": [
    "## 모델 저장\n",
    "lstm.save(BASIC_PATH + 'final/LSTM_model.h5')"
   ],
   "outputs": [],
   "metadata": {}
  },
  {
   "cell_type": "markdown",
   "source": [
    "### [5-2] CNN"
   ],
   "metadata": {}
  },
  {
   "cell_type": "markdown",
   "source": [
    "#### hyper parameter tuning"
   ],
   "metadata": {}
  },
  {
   "cell_type": "code",
   "execution_count": 11,
   "source": [
    "def model_build_cnn(hp):\n",
    "    inputs = Input(shape=(max_len, ))\n",
    "    x = Embedding(vocab_size, word_vector_dim, input_length = max_len)(inputs)\n",
    "    x = Dropout(hp.Float('dropout1', 0, 0.5, step=0.1, default = 0.5))(x)\n",
    "    \n",
    "    conv_block = []\n",
    "    for i in range(hp.Int('conv_blocks', 1, 4, default=3)):\n",
    "        # filter hypter\n",
    "        filters = hp.Choice('filters_' + str(i), [32, 64, 128, 256, 512])\n",
    "        kernel_size = hp.Int('kernel_size_'+str(i), 3, 5, step=1)\n",
    "        \n",
    "        conv = Conv1D(filters = filters,kernel_size = kernel_size,activation = \"relu\",padding = \"valid\",strides = 1)(x)\n",
    "        \n",
    "        if hp.Choice('pooling_'+str(i), ['max', 'global']) == 'max':\n",
    "            conv = MaxPooling1D()(conv)\n",
    "        else:\n",
    "            conv = GlobalMaxPooling1D()(conv)\n",
    "            \n",
    "        conv = Flatten()(conv)\n",
    "        conv_block.append(conv)\n",
    "    \n",
    "    x = Concatenate()(conv_block) if len(conv_block) > 1 else conv_block[0]\n",
    "    \n",
    "    x = Dropout(hp.Float('dropout2', 0, 0.5, step=0.1, default = 0.5))(x)\n",
    "    x = Dense(hp.Choice('hidden_size', [32, 64, 128, 256, 512]), activation='relu')(x)\n",
    "    \n",
    "    outputs = Dense(1, activation=\"sigmoid\")(x)\n",
    "    \n",
    "    cnn = Model(inputs, outputs)\n",
    "    \n",
    "    lr = hp.Float('learning_rate', 1e-4, 1e-1, sampling='log', default=1e-3)\n",
    "    \n",
    "    if hp.Choice('optimizer_', ['adam', 'rmsprop']) == 'rmsprop':\n",
    "        cnn.compile(\n",
    "            optimizer=tf.keras.optimizers.RMSprop(lr), \n",
    "            loss='binary_crossentropy', \n",
    "            metrics=['accuracy'])\n",
    "    else:\n",
    "        cnn.compile(\n",
    "            optimizer=tf.keras.optimizers.Adam(lr), \n",
    "            loss='binary_crossentropy', \n",
    "            metrics=['accuracy'])\n",
    "    \n",
    "    return cnn"
   ],
   "outputs": [],
   "metadata": {}
  },
  {
   "cell_type": "code",
   "execution_count": 12,
   "source": [
    "tuner = kt.Hyperband(\n",
    "    model_build_cnn, objective=\"val_accuracy\", max_epochs=20, executions_per_trial=5, \n",
    "    directory=\"logs/tuner\", project_name=\"tf_test\", \n",
    "    logger=TensorBoardLogger(\n",
    "        metrics=[\"val_accuracy\"], logdir=\"logs/hparams\"\n",
    "    ),\n",
    ")"
   ],
   "outputs": [],
   "metadata": {}
  },
  {
   "cell_type": "code",
   "execution_count": 13,
   "source": [
    "setup_tb(tuner)"
   ],
   "outputs": [],
   "metadata": {}
  },
  {
   "cell_type": "code",
   "execution_count": 14,
   "source": [
    "callback = tf.keras.callbacks.EarlyStopping(monitor='val_loss', patience=4)\n",
    "tuner.search(X_train, y_train, epochs = epochs, batch_size=batch_size,\n",
    "             validation_data = (X_val, y_val), callbacks=[callback], verbose=2)"
   ],
   "outputs": [
    {
     "output_type": "stream",
     "name": "stdout",
     "text": [
      "Train on 118857 samples, validate on 29715 samples\n",
      "Epoch 1/3\n",
      "118857/118857 - 48s - loss: 0.4677 - accuracy: 0.7599 - val_loss: 0.3670 - val_accuracy: 0.8409\n",
      "Epoch 2/3\n",
      "118857/118857 - 45s - loss: 0.3520 - accuracy: 0.8470 - val_loss: 0.3457 - val_accuracy: 0.8513\n",
      "Epoch 3/3\n",
      "118857/118857 - 46s - loss: 0.3194 - accuracy: 0.8637 - val_loss: 0.3360 - val_accuracy: 0.8558\n",
      "Train on 118857 samples, validate on 29715 samples\n",
      "Epoch 1/3\n",
      "118857/118857 - 46s - loss: 0.4658 - accuracy: 0.7617 - val_loss: 0.3685 - val_accuracy: 0.8410\n",
      "Epoch 2/3\n",
      "118857/118857 - 46s - loss: 0.3508 - accuracy: 0.8474 - val_loss: 0.3451 - val_accuracy: 0.8511\n",
      "Epoch 3/3\n",
      "118857/118857 - 45s - loss: 0.3196 - accuracy: 0.8646 - val_loss: 0.3358 - val_accuracy: 0.8543\n",
      "Train on 118857 samples, validate on 29715 samples\n",
      "Epoch 1/3\n",
      "118857/118857 - 46s - loss: 0.4644 - accuracy: 0.7648 - val_loss: 0.3689 - val_accuracy: 0.8424\n",
      "Epoch 2/3\n",
      "118857/118857 - 46s - loss: 0.3516 - accuracy: 0.8470 - val_loss: 0.3450 - val_accuracy: 0.8508\n",
      "Epoch 3/3\n",
      "118857/118857 - 45s - loss: 0.3187 - accuracy: 0.8641 - val_loss: 0.3366 - val_accuracy: 0.8555\n",
      "Train on 118857 samples, validate on 29715 samples\n",
      "Epoch 1/3\n",
      "118857/118857 - 47s - loss: 0.4656 - accuracy: 0.7618 - val_loss: 0.3654 - val_accuracy: 0.8400\n",
      "Epoch 2/3\n",
      "118857/118857 - 46s - loss: 0.3509 - accuracy: 0.8475 - val_loss: 0.3498 - val_accuracy: 0.8488\n",
      "Epoch 3/3\n",
      "118857/118857 - 46s - loss: 0.3167 - accuracy: 0.8657 - val_loss: 0.3342 - val_accuracy: 0.8579\n",
      "Train on 118857 samples, validate on 29715 samples\n",
      "Epoch 1/3\n",
      "118857/118857 - 47s - loss: 0.4668 - accuracy: 0.7626 - val_loss: 0.3710 - val_accuracy: 0.8387\n",
      "Epoch 2/3\n",
      "118857/118857 - 44s - loss: 0.3515 - accuracy: 0.8466 - val_loss: 0.3450 - val_accuracy: 0.8495\n",
      "Epoch 3/3\n",
      "118857/118857 - 46s - loss: 0.3185 - accuracy: 0.8645 - val_loss: 0.3351 - val_accuracy: 0.8561\n"
     ]
    },
    {
     "output_type": "display_data",
     "data": {
      "text/plain": [
       "<IPython.core.display.HTML object>"
      ],
      "text/html": [
       "<span style=\"color:#4527A0\"><h1 style=\"font-size:18px\">Trial complete</h1></span>"
      ]
     },
     "metadata": {}
    },
    {
     "output_type": "display_data",
     "data": {
      "text/plain": [
       "<IPython.core.display.HTML object>"
      ],
      "text/html": [
       "<span style=\"color:#4527A0\"><h1 style=\"font-size:18px\">Trial summary</h1></span>"
      ]
     },
     "metadata": {}
    },
    {
     "output_type": "display_data",
     "data": {
      "text/plain": [
       "<IPython.core.display.HTML object>"
      ],
      "text/html": [
       "<span style=\"color:cyan\"> |-Trial ID: 51f58f2c057b8ca7ffd635fe1199523b</span>"
      ]
     },
     "metadata": {}
    },
    {
     "output_type": "display_data",
     "data": {
      "text/plain": [
       "<IPython.core.display.HTML object>"
      ],
      "text/html": [
       "<span style=\"color:cyan\"> |-Score: 0.8559179306030273</span>"
      ]
     },
     "metadata": {}
    },
    {
     "output_type": "display_data",
     "data": {
      "text/plain": [
       "<IPython.core.display.HTML object>"
      ],
      "text/html": [
       "<span style=\"color:cyan\"> |-Best step: 0</span>"
      ]
     },
     "metadata": {}
    },
    {
     "output_type": "display_data",
     "data": {
      "text/plain": [
       "<IPython.core.display.HTML object>"
      ],
      "text/html": [
       "<span style=\"color:#7E57C2\"><h2 style=\"font-size:16px\">Hyperparameters:</h2></span>"
      ]
     },
     "metadata": {}
    },
    {
     "output_type": "display_data",
     "data": {
      "text/plain": [
       "<IPython.core.display.HTML object>"
      ],
      "text/html": [
       "<span style=\"color:cyan\"> |-conv_blocks: 3</span>"
      ]
     },
     "metadata": {}
    },
    {
     "output_type": "display_data",
     "data": {
      "text/plain": [
       "<IPython.core.display.HTML object>"
      ],
      "text/html": [
       "<span style=\"color:blue\"> |-dropout1: 0.4</span>"
      ]
     },
     "metadata": {}
    },
    {
     "output_type": "display_data",
     "data": {
      "text/plain": [
       "<IPython.core.display.HTML object>"
      ],
      "text/html": [
       "<span style=\"color:cyan\"> |-dropout2: 0.4</span>"
      ]
     },
     "metadata": {}
    },
    {
     "output_type": "display_data",
     "data": {
      "text/plain": [
       "<IPython.core.display.HTML object>"
      ],
      "text/html": [
       "<span style=\"color:blue\"> |-filters_0: 512</span>"
      ]
     },
     "metadata": {}
    },
    {
     "output_type": "display_data",
     "data": {
      "text/plain": [
       "<IPython.core.display.HTML object>"
      ],
      "text/html": [
       "<span style=\"color:cyan\"> |-filters_1: 64</span>"
      ]
     },
     "metadata": {}
    },
    {
     "output_type": "display_data",
     "data": {
      "text/plain": [
       "<IPython.core.display.HTML object>"
      ],
      "text/html": [
       "<span style=\"color:blue\"> |-filters_2: 512</span>"
      ]
     },
     "metadata": {}
    },
    {
     "output_type": "display_data",
     "data": {
      "text/plain": [
       "<IPython.core.display.HTML object>"
      ],
      "text/html": [
       "<span style=\"color:cyan\"> |-hidden_size: 512</span>"
      ]
     },
     "metadata": {}
    },
    {
     "output_type": "display_data",
     "data": {
      "text/plain": [
       "<IPython.core.display.HTML object>"
      ],
      "text/html": [
       "<span style=\"color:blue\"> |-kernel_size_0: 4</span>"
      ]
     },
     "metadata": {}
    },
    {
     "output_type": "display_data",
     "data": {
      "text/plain": [
       "<IPython.core.display.HTML object>"
      ],
      "text/html": [
       "<span style=\"color:cyan\"> |-kernel_size_1: 4</span>"
      ]
     },
     "metadata": {}
    },
    {
     "output_type": "display_data",
     "data": {
      "text/plain": [
       "<IPython.core.display.HTML object>"
      ],
      "text/html": [
       "<span style=\"color:blue\"> |-kernel_size_2: 4</span>"
      ]
     },
     "metadata": {}
    },
    {
     "output_type": "display_data",
     "data": {
      "text/plain": [
       "<IPython.core.display.HTML object>"
      ],
      "text/html": [
       "<span style=\"color:cyan\"> |-learning_rate: 0.00010517421018398192</span>"
      ]
     },
     "metadata": {}
    },
    {
     "output_type": "display_data",
     "data": {
      "text/plain": [
       "<IPython.core.display.HTML object>"
      ],
      "text/html": [
       "<span style=\"color:blue\"> |-optimizer_: adam</span>"
      ]
     },
     "metadata": {}
    },
    {
     "output_type": "display_data",
     "data": {
      "text/plain": [
       "<IPython.core.display.HTML object>"
      ],
      "text/html": [
       "<span style=\"color:cyan\"> |-pooling_0: max</span>"
      ]
     },
     "metadata": {}
    },
    {
     "output_type": "display_data",
     "data": {
      "text/plain": [
       "<IPython.core.display.HTML object>"
      ],
      "text/html": [
       "<span style=\"color:blue\"> |-pooling_1: global</span>"
      ]
     },
     "metadata": {}
    },
    {
     "output_type": "display_data",
     "data": {
      "text/plain": [
       "<IPython.core.display.HTML object>"
      ],
      "text/html": [
       "<span style=\"color:cyan\"> |-pooling_2: global</span>"
      ]
     },
     "metadata": {}
    },
    {
     "output_type": "display_data",
     "data": {
      "text/plain": [
       "<IPython.core.display.HTML object>"
      ],
      "text/html": [
       "<span style=\"color:blue\"> |-tuner/bracket: 2</span>"
      ]
     },
     "metadata": {}
    },
    {
     "output_type": "display_data",
     "data": {
      "text/plain": [
       "<IPython.core.display.HTML object>"
      ],
      "text/html": [
       "<span style=\"color:cyan\"> |-tuner/epochs: 3</span>"
      ]
     },
     "metadata": {}
    },
    {
     "output_type": "display_data",
     "data": {
      "text/plain": [
       "<IPython.core.display.HTML object>"
      ],
      "text/html": [
       "<span style=\"color:blue\"> |-tuner/initial_epoch: 0</span>"
      ]
     },
     "metadata": {}
    },
    {
     "output_type": "display_data",
     "data": {
      "text/plain": [
       "<IPython.core.display.HTML object>"
      ],
      "text/html": [
       "<span style=\"color:cyan\"> |-tuner/round: 0</span>"
      ]
     },
     "metadata": {}
    },
    {
     "output_type": "stream",
     "name": "stdout",
     "text": [
      "Train on 118857 samples, validate on 29715 samples\n",
      "Epoch 1/3\n",
      "118857/118857 - 28s - loss: 0.4102 - accuracy: 0.8104 - val_loss: 0.3662 - val_accuracy: 0.8392\n",
      "Epoch 2/3\n",
      "118857/118857 - 28s - loss: 0.3291 - accuracy: 0.8590 - val_loss: 0.3307 - val_accuracy: 0.8571\n",
      "Epoch 3/3\n",
      "118857/118857 - 27s - loss: 0.2982 - accuracy: 0.8759 - val_loss: 0.3204 - val_accuracy: 0.8648\n",
      "Train on 118857 samples, validate on 29715 samples\n",
      "Epoch 1/3\n",
      "118857/118857 - 28s - loss: 0.4092 - accuracy: 0.8114 - val_loss: 0.3497 - val_accuracy: 0.8493\n",
      "Epoch 2/3\n",
      "118857/118857 - 27s - loss: 0.3278 - accuracy: 0.8589 - val_loss: 0.3321 - val_accuracy: 0.8561\n",
      "Epoch 3/3\n",
      "118857/118857 - 27s - loss: 0.2967 - accuracy: 0.8759 - val_loss: 0.3386 - val_accuracy: 0.8544\n",
      "Train on 118857 samples, validate on 29715 samples\n",
      "Epoch 1/3\n",
      "118857/118857 - 28s - loss: 0.4086 - accuracy: 0.8111 - val_loss: 0.3483 - val_accuracy: 0.8486\n",
      "Epoch 2/3\n",
      "118857/118857 - 27s - loss: 0.3274 - accuracy: 0.8603 - val_loss: 0.3360 - val_accuracy: 0.8550\n",
      "Epoch 3/3\n",
      "118857/118857 - 27s - loss: 0.2959 - accuracy: 0.8768 - val_loss: 0.3215 - val_accuracy: 0.8621\n",
      "Train on 118857 samples, validate on 29715 samples\n",
      "Epoch 1/3\n",
      "118857/118857 - 28s - loss: 0.4067 - accuracy: 0.8118 - val_loss: 0.3490 - val_accuracy: 0.8495\n",
      "Epoch 2/3\n",
      "118857/118857 - 27s - loss: 0.3271 - accuracy: 0.8594 - val_loss: 0.3306 - val_accuracy: 0.8583\n",
      "Epoch 3/3\n",
      "118857/118857 - 28s - loss: 0.2960 - accuracy: 0.8767 - val_loss: 0.3262 - val_accuracy: 0.8603\n",
      "Train on 118857 samples, validate on 29715 samples\n",
      "Epoch 1/3\n",
      "118857/118857 - 27s - loss: 0.4100 - accuracy: 0.8096 - val_loss: 0.3546 - val_accuracy: 0.8466\n",
      "Epoch 2/3\n",
      "118857/118857 - 26s - loss: 0.3270 - accuracy: 0.8603 - val_loss: 0.3290 - val_accuracy: 0.8590\n",
      "Epoch 3/3\n",
      "118857/118857 - 26s - loss: 0.2946 - accuracy: 0.8774 - val_loss: 0.3239 - val_accuracy: 0.8608\n"
     ]
    },
    {
     "output_type": "display_data",
     "data": {
      "text/plain": [
       "<IPython.core.display.HTML object>"
      ],
      "text/html": [
       "<span style=\"color:#4527A0\"><h1 style=\"font-size:18px\">Trial complete</h1></span>"
      ]
     },
     "metadata": {}
    },
    {
     "output_type": "display_data",
     "data": {
      "text/plain": [
       "<IPython.core.display.HTML object>"
      ],
      "text/html": [
       "<span style=\"color:#4527A0\"><h1 style=\"font-size:18px\">Trial summary</h1></span>"
      ]
     },
     "metadata": {}
    },
    {
     "output_type": "display_data",
     "data": {
      "text/plain": [
       "<IPython.core.display.HTML object>"
      ],
      "text/html": [
       "<span style=\"color:cyan\"> |-Trial ID: f5f8b277a640085ea430b6b481e9886d</span>"
      ]
     },
     "metadata": {}
    },
    {
     "output_type": "display_data",
     "data": {
      "text/plain": [
       "<IPython.core.display.HTML object>"
      ],
      "text/html": [
       "<span style=\"color:cyan\"> |-Score: 0.8608312606811523</span>"
      ]
     },
     "metadata": {}
    },
    {
     "output_type": "display_data",
     "data": {
      "text/plain": [
       "<IPython.core.display.HTML object>"
      ],
      "text/html": [
       "<span style=\"color:cyan\"> |-Best step: 0</span>"
      ]
     },
     "metadata": {}
    },
    {
     "output_type": "display_data",
     "data": {
      "text/plain": [
       "<IPython.core.display.HTML object>"
      ],
      "text/html": [
       "<span style=\"color:#7E57C2\"><h2 style=\"font-size:16px\">Hyperparameters:</h2></span>"
      ]
     },
     "metadata": {}
    },
    {
     "output_type": "display_data",
     "data": {
      "text/plain": [
       "<IPython.core.display.HTML object>"
      ],
      "text/html": [
       "<span style=\"color:cyan\"> |-conv_blocks: 2</span>"
      ]
     },
     "metadata": {}
    },
    {
     "output_type": "display_data",
     "data": {
      "text/plain": [
       "<IPython.core.display.HTML object>"
      ],
      "text/html": [
       "<span style=\"color:blue\"> |-dropout1: 0.1</span>"
      ]
     },
     "metadata": {}
    },
    {
     "output_type": "display_data",
     "data": {
      "text/plain": [
       "<IPython.core.display.HTML object>"
      ],
      "text/html": [
       "<span style=\"color:cyan\"> |-dropout2: 0.1</span>"
      ]
     },
     "metadata": {}
    },
    {
     "output_type": "display_data",
     "data": {
      "text/plain": [
       "<IPython.core.display.HTML object>"
      ],
      "text/html": [
       "<span style=\"color:blue\"> |-filters_0: 128</span>"
      ]
     },
     "metadata": {}
    },
    {
     "output_type": "display_data",
     "data": {
      "text/plain": [
       "<IPython.core.display.HTML object>"
      ],
      "text/html": [
       "<span style=\"color:cyan\"> |-filters_1: 64</span>"
      ]
     },
     "metadata": {}
    },
    {
     "output_type": "display_data",
     "data": {
      "text/plain": [
       "<IPython.core.display.HTML object>"
      ],
      "text/html": [
       "<span style=\"color:blue\"> |-filters_2: 512</span>"
      ]
     },
     "metadata": {}
    },
    {
     "output_type": "display_data",
     "data": {
      "text/plain": [
       "<IPython.core.display.HTML object>"
      ],
      "text/html": [
       "<span style=\"color:cyan\"> |-hidden_size: 64</span>"
      ]
     },
     "metadata": {}
    },
    {
     "output_type": "display_data",
     "data": {
      "text/plain": [
       "<IPython.core.display.HTML object>"
      ],
      "text/html": [
       "<span style=\"color:blue\"> |-kernel_size_0: 4</span>"
      ]
     },
     "metadata": {}
    },
    {
     "output_type": "display_data",
     "data": {
      "text/plain": [
       "<IPython.core.display.HTML object>"
      ],
      "text/html": [
       "<span style=\"color:cyan\"> |-kernel_size_1: 5</span>"
      ]
     },
     "metadata": {}
    },
    {
     "output_type": "display_data",
     "data": {
      "text/plain": [
       "<IPython.core.display.HTML object>"
      ],
      "text/html": [
       "<span style=\"color:blue\"> |-kernel_size_2: 5</span>"
      ]
     },
     "metadata": {}
    },
    {
     "output_type": "display_data",
     "data": {
      "text/plain": [
       "<IPython.core.display.HTML object>"
      ],
      "text/html": [
       "<span style=\"color:cyan\"> |-learning_rate: 0.00044766531783869094</span>"
      ]
     },
     "metadata": {}
    },
    {
     "output_type": "display_data",
     "data": {
      "text/plain": [
       "<IPython.core.display.HTML object>"
      ],
      "text/html": [
       "<span style=\"color:blue\"> |-optimizer_: rmsprop</span>"
      ]
     },
     "metadata": {}
    },
    {
     "output_type": "display_data",
     "data": {
      "text/plain": [
       "<IPython.core.display.HTML object>"
      ],
      "text/html": [
       "<span style=\"color:cyan\"> |-pooling_0: global</span>"
      ]
     },
     "metadata": {}
    },
    {
     "output_type": "display_data",
     "data": {
      "text/plain": [
       "<IPython.core.display.HTML object>"
      ],
      "text/html": [
       "<span style=\"color:blue\"> |-pooling_1: global</span>"
      ]
     },
     "metadata": {}
    },
    {
     "output_type": "display_data",
     "data": {
      "text/plain": [
       "<IPython.core.display.HTML object>"
      ],
      "text/html": [
       "<span style=\"color:cyan\"> |-pooling_2: max</span>"
      ]
     },
     "metadata": {}
    },
    {
     "output_type": "display_data",
     "data": {
      "text/plain": [
       "<IPython.core.display.HTML object>"
      ],
      "text/html": [
       "<span style=\"color:blue\"> |-tuner/bracket: 2</span>"
      ]
     },
     "metadata": {}
    },
    {
     "output_type": "display_data",
     "data": {
      "text/plain": [
       "<IPython.core.display.HTML object>"
      ],
      "text/html": [
       "<span style=\"color:cyan\"> |-tuner/epochs: 3</span>"
      ]
     },
     "metadata": {}
    },
    {
     "output_type": "display_data",
     "data": {
      "text/plain": [
       "<IPython.core.display.HTML object>"
      ],
      "text/html": [
       "<span style=\"color:blue\"> |-tuner/initial_epoch: 0</span>"
      ]
     },
     "metadata": {}
    },
    {
     "output_type": "display_data",
     "data": {
      "text/plain": [
       "<IPython.core.display.HTML object>"
      ],
      "text/html": [
       "<span style=\"color:cyan\"> |-tuner/round: 0</span>"
      ]
     },
     "metadata": {}
    },
    {
     "output_type": "stream",
     "name": "stdout",
     "text": [
      "Train on 118857 samples, validate on 29715 samples\n",
      "Epoch 1/3\n",
      "118857/118857 - 45s - loss: 0.3778 - accuracy: 0.8279 - val_loss: 0.3271 - val_accuracy: 0.8588\n",
      "Epoch 2/3\n",
      "118857/118857 - 42s - loss: 0.2725 - accuracy: 0.8862 - val_loss: 0.3397 - val_accuracy: 0.8563\n",
      "Epoch 3/3\n",
      "118857/118857 - 44s - loss: 0.1989 - accuracy: 0.9203 - val_loss: 0.3764 - val_accuracy: 0.8530\n",
      "Train on 118857 samples, validate on 29715 samples\n",
      "Epoch 1/3\n",
      "118857/118857 - 44s - loss: 0.3776 - accuracy: 0.8276 - val_loss: 0.3260 - val_accuracy: 0.8588\n",
      "Epoch 2/3\n",
      "118857/118857 - 44s - loss: 0.2717 - accuracy: 0.8856 - val_loss: 0.3374 - val_accuracy: 0.8564\n",
      "Epoch 3/3\n",
      "118857/118857 - 45s - loss: 0.1991 - accuracy: 0.9200 - val_loss: 0.3738 - val_accuracy: 0.8566\n",
      "Train on 118857 samples, validate on 29715 samples\n",
      "Epoch 1/3\n",
      "118857/118857 - 45s - loss: 0.3769 - accuracy: 0.8265 - val_loss: 0.3379 - val_accuracy: 0.8543\n",
      "Epoch 2/3\n",
      "118857/118857 - 44s - loss: 0.2696 - accuracy: 0.8882 - val_loss: 0.3292 - val_accuracy: 0.8592\n",
      "Epoch 3/3\n",
      "118857/118857 - 43s - loss: 0.1981 - accuracy: 0.9207 - val_loss: 0.3756 - val_accuracy: 0.8515\n",
      "Train on 118857 samples, validate on 29715 samples\n",
      "Epoch 1/3\n",
      "118857/118857 - 44s - loss: 0.3780 - accuracy: 0.8264 - val_loss: 0.3319 - val_accuracy: 0.8578\n",
      "Epoch 2/3\n",
      "118857/118857 - 42s - loss: 0.2722 - accuracy: 0.8859 - val_loss: 0.3302 - val_accuracy: 0.8580\n",
      "Epoch 3/3\n",
      "118857/118857 - 43s - loss: 0.2008 - accuracy: 0.9195 - val_loss: 0.3701 - val_accuracy: 0.8565\n",
      "Train on 118857 samples, validate on 29715 samples\n",
      "Epoch 1/3\n",
      "118857/118857 - 44s - loss: 0.3765 - accuracy: 0.8266 - val_loss: 0.3265 - val_accuracy: 0.8612\n",
      "Epoch 2/3\n",
      "118857/118857 - 42s - loss: 0.2709 - accuracy: 0.8876 - val_loss: 0.3290 - val_accuracy: 0.8585\n",
      "Epoch 3/3\n",
      "118857/118857 - 43s - loss: 0.1982 - accuracy: 0.9205 - val_loss: 0.3629 - val_accuracy: 0.8529\n"
     ]
    },
    {
     "output_type": "display_data",
     "data": {
      "text/plain": [
       "<IPython.core.display.HTML object>"
      ],
      "text/html": [
       "<span style=\"color:#4527A0\"><h1 style=\"font-size:18px\">Trial complete</h1></span>"
      ]
     },
     "metadata": {}
    },
    {
     "output_type": "display_data",
     "data": {
      "text/plain": [
       "<IPython.core.display.HTML object>"
      ],
      "text/html": [
       "<span style=\"color:#4527A0\"><h1 style=\"font-size:18px\">Trial summary</h1></span>"
      ]
     },
     "metadata": {}
    },
    {
     "output_type": "display_data",
     "data": {
      "text/plain": [
       "<IPython.core.display.HTML object>"
      ],
      "text/html": [
       "<span style=\"color:cyan\"> |-Trial ID: 38f1476d0162a96ed32dafd20f254966</span>"
      ]
     },
     "metadata": {}
    },
    {
     "output_type": "display_data",
     "data": {
      "text/plain": [
       "<IPython.core.display.HTML object>"
      ],
      "text/html": [
       "<span style=\"color:cyan\"> |-Score: 0.8591821789741516</span>"
      ]
     },
     "metadata": {}
    },
    {
     "output_type": "display_data",
     "data": {
      "text/plain": [
       "<IPython.core.display.HTML object>"
      ],
      "text/html": [
       "<span style=\"color:cyan\"> |-Best step: 0</span>"
      ]
     },
     "metadata": {}
    },
    {
     "output_type": "display_data",
     "data": {
      "text/plain": [
       "<IPython.core.display.HTML object>"
      ],
      "text/html": [
       "<span style=\"color:#7E57C2\"><h2 style=\"font-size:16px\">Hyperparameters:</h2></span>"
      ]
     },
     "metadata": {}
    },
    {
     "output_type": "display_data",
     "data": {
      "text/plain": [
       "<IPython.core.display.HTML object>"
      ],
      "text/html": [
       "<span style=\"color:cyan\"> |-conv_blocks: 3</span>"
      ]
     },
     "metadata": {}
    },
    {
     "output_type": "display_data",
     "data": {
      "text/plain": [
       "<IPython.core.display.HTML object>"
      ],
      "text/html": [
       "<span style=\"color:blue\"> |-dropout1: 0.2</span>"
      ]
     },
     "metadata": {}
    },
    {
     "output_type": "display_data",
     "data": {
      "text/plain": [
       "<IPython.core.display.HTML object>"
      ],
      "text/html": [
       "<span style=\"color:cyan\"> |-dropout2: 0.30000000000000004</span>"
      ]
     },
     "metadata": {}
    },
    {
     "output_type": "display_data",
     "data": {
      "text/plain": [
       "<IPython.core.display.HTML object>"
      ],
      "text/html": [
       "<span style=\"color:blue\"> |-filters_0: 256</span>"
      ]
     },
     "metadata": {}
    },
    {
     "output_type": "display_data",
     "data": {
      "text/plain": [
       "<IPython.core.display.HTML object>"
      ],
      "text/html": [
       "<span style=\"color:cyan\"> |-filters_1: 32</span>"
      ]
     },
     "metadata": {}
    },
    {
     "output_type": "display_data",
     "data": {
      "text/plain": [
       "<IPython.core.display.HTML object>"
      ],
      "text/html": [
       "<span style=\"color:blue\"> |-filters_2: 32</span>"
      ]
     },
     "metadata": {}
    },
    {
     "output_type": "display_data",
     "data": {
      "text/plain": [
       "<IPython.core.display.HTML object>"
      ],
      "text/html": [
       "<span style=\"color:cyan\"> |-hidden_size: 512</span>"
      ]
     },
     "metadata": {}
    },
    {
     "output_type": "display_data",
     "data": {
      "text/plain": [
       "<IPython.core.display.HTML object>"
      ],
      "text/html": [
       "<span style=\"color:blue\"> |-kernel_size_0: 5</span>"
      ]
     },
     "metadata": {}
    },
    {
     "output_type": "display_data",
     "data": {
      "text/plain": [
       "<IPython.core.display.HTML object>"
      ],
      "text/html": [
       "<span style=\"color:cyan\"> |-kernel_size_1: 3</span>"
      ]
     },
     "metadata": {}
    },
    {
     "output_type": "display_data",
     "data": {
      "text/plain": [
       "<IPython.core.display.HTML object>"
      ],
      "text/html": [
       "<span style=\"color:blue\"> |-kernel_size_2: 5</span>"
      ]
     },
     "metadata": {}
    },
    {
     "output_type": "display_data",
     "data": {
      "text/plain": [
       "<IPython.core.display.HTML object>"
      ],
      "text/html": [
       "<span style=\"color:cyan\"> |-learning_rate: 0.0009866922166237798</span>"
      ]
     },
     "metadata": {}
    },
    {
     "output_type": "display_data",
     "data": {
      "text/plain": [
       "<IPython.core.display.HTML object>"
      ],
      "text/html": [
       "<span style=\"color:blue\"> |-optimizer_: adam</span>"
      ]
     },
     "metadata": {}
    },
    {
     "output_type": "display_data",
     "data": {
      "text/plain": [
       "<IPython.core.display.HTML object>"
      ],
      "text/html": [
       "<span style=\"color:cyan\"> |-pooling_0: max</span>"
      ]
     },
     "metadata": {}
    },
    {
     "output_type": "display_data",
     "data": {
      "text/plain": [
       "<IPython.core.display.HTML object>"
      ],
      "text/html": [
       "<span style=\"color:blue\"> |-pooling_1: global</span>"
      ]
     },
     "metadata": {}
    },
    {
     "output_type": "display_data",
     "data": {
      "text/plain": [
       "<IPython.core.display.HTML object>"
      ],
      "text/html": [
       "<span style=\"color:cyan\"> |-pooling_2: global</span>"
      ]
     },
     "metadata": {}
    },
    {
     "output_type": "display_data",
     "data": {
      "text/plain": [
       "<IPython.core.display.HTML object>"
      ],
      "text/html": [
       "<span style=\"color:blue\"> |-tuner/bracket: 2</span>"
      ]
     },
     "metadata": {}
    },
    {
     "output_type": "display_data",
     "data": {
      "text/plain": [
       "<IPython.core.display.HTML object>"
      ],
      "text/html": [
       "<span style=\"color:cyan\"> |-tuner/epochs: 3</span>"
      ]
     },
     "metadata": {}
    },
    {
     "output_type": "display_data",
     "data": {
      "text/plain": [
       "<IPython.core.display.HTML object>"
      ],
      "text/html": [
       "<span style=\"color:blue\"> |-tuner/initial_epoch: 0</span>"
      ]
     },
     "metadata": {}
    },
    {
     "output_type": "display_data",
     "data": {
      "text/plain": [
       "<IPython.core.display.HTML object>"
      ],
      "text/html": [
       "<span style=\"color:cyan\"> |-tuner/round: 0</span>"
      ]
     },
     "metadata": {}
    },
    {
     "output_type": "stream",
     "name": "stdout",
     "text": [
      "Train on 118857 samples, validate on 29715 samples\n",
      "Epoch 1/3\n",
      "118857/118857 - 45s - loss: 0.3802 - accuracy: 0.8247 - val_loss: 0.3265 - val_accuracy: 0.8592\n",
      "Epoch 2/3\n",
      "118857/118857 - 44s - loss: 0.2633 - accuracy: 0.8925 - val_loss: 0.3190 - val_accuracy: 0.8663\n",
      "Epoch 3/3\n",
      "118857/118857 - 43s - loss: 0.1767 - accuracy: 0.9331 - val_loss: 0.3582 - val_accuracy: 0.8565\n",
      "Train on 118857 samples, validate on 29715 samples\n",
      "Epoch 1/3\n",
      "118857/118857 - 45s - loss: 0.3799 - accuracy: 0.8247 - val_loss: 0.3253 - val_accuracy: 0.8600\n",
      "Epoch 2/3\n",
      "118857/118857 - 43s - loss: 0.2676 - accuracy: 0.8898 - val_loss: 0.3209 - val_accuracy: 0.8629\n",
      "Epoch 3/3\n",
      "118857/118857 - 44s - loss: 0.1849 - accuracy: 0.9297 - val_loss: 0.3604 - val_accuracy: 0.8581\n",
      "Train on 118857 samples, validate on 29715 samples\n",
      "Epoch 1/3\n",
      "118857/118857 - 45s - loss: 0.3818 - accuracy: 0.8217 - val_loss: 0.3234 - val_accuracy: 0.8610\n",
      "Epoch 2/3\n",
      "118857/118857 - 44s - loss: 0.2662 - accuracy: 0.8908 - val_loss: 0.3231 - val_accuracy: 0.8643\n",
      "Epoch 3/3\n",
      "118857/118857 - 43s - loss: 0.1859 - accuracy: 0.9299 - val_loss: 0.3623 - val_accuracy: 0.8560\n",
      "Train on 118857 samples, validate on 29715 samples\n",
      "Epoch 1/3\n",
      "118857/118857 - 45s - loss: 0.3830 - accuracy: 0.8229 - val_loss: 0.3320 - val_accuracy: 0.8577\n",
      "Epoch 2/3\n",
      "118857/118857 - 43s - loss: 0.2674 - accuracy: 0.8897 - val_loss: 0.3312 - val_accuracy: 0.8577\n",
      "Epoch 3/3\n",
      "118857/118857 - 44s - loss: 0.1863 - accuracy: 0.9287 - val_loss: 0.3579 - val_accuracy: 0.8615\n",
      "Train on 118857 samples, validate on 29715 samples\n",
      "Epoch 1/3\n",
      "118857/118857 - 45s - loss: 0.3810 - accuracy: 0.8251 - val_loss: 0.3266 - val_accuracy: 0.8590\n",
      "Epoch 2/3\n",
      "118857/118857 - 43s - loss: 0.2666 - accuracy: 0.8900 - val_loss: 0.3239 - val_accuracy: 0.8626\n",
      "Epoch 3/3\n",
      "118857/118857 - 44s - loss: 0.1824 - accuracy: 0.9303 - val_loss: 0.3597 - val_accuracy: 0.8556\n"
     ]
    },
    {
     "output_type": "display_data",
     "data": {
      "text/plain": [
       "<IPython.core.display.HTML object>"
      ],
      "text/html": [
       "<span style=\"color:#4527A0\"><h1 style=\"font-size:18px\">Trial complete</h1></span>"
      ]
     },
     "metadata": {}
    },
    {
     "output_type": "display_data",
     "data": {
      "text/plain": [
       "<IPython.core.display.HTML object>"
      ],
      "text/html": [
       "<span style=\"color:#4527A0\"><h1 style=\"font-size:18px\">Trial summary</h1></span>"
      ]
     },
     "metadata": {}
    },
    {
     "output_type": "display_data",
     "data": {
      "text/plain": [
       "<IPython.core.display.HTML object>"
      ],
      "text/html": [
       "<span style=\"color:cyan\"> |-Trial ID: 0bcd6ce8c4c31d89c2a96bae615ce878</span>"
      ]
     },
     "metadata": {}
    },
    {
     "output_type": "display_data",
     "data": {
      "text/plain": [
       "<IPython.core.display.HTML object>"
      ],
      "text/html": [
       "<span style=\"color:cyan\"> |-Score: 0.8635166883468628</span>"
      ]
     },
     "metadata": {}
    },
    {
     "output_type": "display_data",
     "data": {
      "text/plain": [
       "<IPython.core.display.HTML object>"
      ],
      "text/html": [
       "<span style=\"color:cyan\"> |-Best step: 0</span>"
      ]
     },
     "metadata": {}
    },
    {
     "output_type": "display_data",
     "data": {
      "text/plain": [
       "<IPython.core.display.HTML object>"
      ],
      "text/html": [
       "<span style=\"color:#7E57C2\"><h2 style=\"font-size:16px\">Hyperparameters:</h2></span>"
      ]
     },
     "metadata": {}
    },
    {
     "output_type": "display_data",
     "data": {
      "text/plain": [
       "<IPython.core.display.HTML object>"
      ],
      "text/html": [
       "<span style=\"color:cyan\"> |-conv_blocks: 3</span>"
      ]
     },
     "metadata": {}
    },
    {
     "output_type": "display_data",
     "data": {
      "text/plain": [
       "<IPython.core.display.HTML object>"
      ],
      "text/html": [
       "<span style=\"color:blue\"> |-dropout1: 0.1</span>"
      ]
     },
     "metadata": {}
    },
    {
     "output_type": "display_data",
     "data": {
      "text/plain": [
       "<IPython.core.display.HTML object>"
      ],
      "text/html": [
       "<span style=\"color:cyan\"> |-dropout2: 0.1</span>"
      ]
     },
     "metadata": {}
    },
    {
     "output_type": "display_data",
     "data": {
      "text/plain": [
       "<IPython.core.display.HTML object>"
      ],
      "text/html": [
       "<span style=\"color:blue\"> |-filters_0: 64</span>"
      ]
     },
     "metadata": {}
    },
    {
     "output_type": "display_data",
     "data": {
      "text/plain": [
       "<IPython.core.display.HTML object>"
      ],
      "text/html": [
       "<span style=\"color:cyan\"> |-filters_1: 32</span>"
      ]
     },
     "metadata": {}
    },
    {
     "output_type": "display_data",
     "data": {
      "text/plain": [
       "<IPython.core.display.HTML object>"
      ],
      "text/html": [
       "<span style=\"color:blue\"> |-filters_2: 512</span>"
      ]
     },
     "metadata": {}
    },
    {
     "output_type": "display_data",
     "data": {
      "text/plain": [
       "<IPython.core.display.HTML object>"
      ],
      "text/html": [
       "<span style=\"color:cyan\"> |-hidden_size: 256</span>"
      ]
     },
     "metadata": {}
    },
    {
     "output_type": "display_data",
     "data": {
      "text/plain": [
       "<IPython.core.display.HTML object>"
      ],
      "text/html": [
       "<span style=\"color:blue\"> |-kernel_size_0: 3</span>"
      ]
     },
     "metadata": {}
    },
    {
     "output_type": "display_data",
     "data": {
      "text/plain": [
       "<IPython.core.display.HTML object>"
      ],
      "text/html": [
       "<span style=\"color:cyan\"> |-kernel_size_1: 4</span>"
      ]
     },
     "metadata": {}
    },
    {
     "output_type": "display_data",
     "data": {
      "text/plain": [
       "<IPython.core.display.HTML object>"
      ],
      "text/html": [
       "<span style=\"color:blue\"> |-kernel_size_2: 4</span>"
      ]
     },
     "metadata": {}
    },
    {
     "output_type": "display_data",
     "data": {
      "text/plain": [
       "<IPython.core.display.HTML object>"
      ],
      "text/html": [
       "<span style=\"color:cyan\"> |-learning_rate: 0.00038942952803452897</span>"
      ]
     },
     "metadata": {}
    },
    {
     "output_type": "display_data",
     "data": {
      "text/plain": [
       "<IPython.core.display.HTML object>"
      ],
      "text/html": [
       "<span style=\"color:blue\"> |-optimizer_: adam</span>"
      ]
     },
     "metadata": {}
    },
    {
     "output_type": "display_data",
     "data": {
      "text/plain": [
       "<IPython.core.display.HTML object>"
      ],
      "text/html": [
       "<span style=\"color:cyan\"> |-pooling_0: max</span>"
      ]
     },
     "metadata": {}
    },
    {
     "output_type": "display_data",
     "data": {
      "text/plain": [
       "<IPython.core.display.HTML object>"
      ],
      "text/html": [
       "<span style=\"color:blue\"> |-pooling_1: max</span>"
      ]
     },
     "metadata": {}
    },
    {
     "output_type": "display_data",
     "data": {
      "text/plain": [
       "<IPython.core.display.HTML object>"
      ],
      "text/html": [
       "<span style=\"color:cyan\"> |-pooling_2: global</span>"
      ]
     },
     "metadata": {}
    },
    {
     "output_type": "display_data",
     "data": {
      "text/plain": [
       "<IPython.core.display.HTML object>"
      ],
      "text/html": [
       "<span style=\"color:blue\"> |-tuner/bracket: 2</span>"
      ]
     },
     "metadata": {}
    },
    {
     "output_type": "display_data",
     "data": {
      "text/plain": [
       "<IPython.core.display.HTML object>"
      ],
      "text/html": [
       "<span style=\"color:cyan\"> |-tuner/epochs: 3</span>"
      ]
     },
     "metadata": {}
    },
    {
     "output_type": "display_data",
     "data": {
      "text/plain": [
       "<IPython.core.display.HTML object>"
      ],
      "text/html": [
       "<span style=\"color:blue\"> |-tuner/initial_epoch: 0</span>"
      ]
     },
     "metadata": {}
    },
    {
     "output_type": "display_data",
     "data": {
      "text/plain": [
       "<IPython.core.display.HTML object>"
      ],
      "text/html": [
       "<span style=\"color:cyan\"> |-tuner/round: 0</span>"
      ]
     },
     "metadata": {}
    },
    {
     "output_type": "stream",
     "name": "stdout",
     "text": [
      "Train on 118857 samples, validate on 29715 samples\n",
      "Epoch 1/3\n",
      "118857/118857 - 45s - loss: 0.3764 - accuracy: 0.8303 - val_loss: 0.3241 - val_accuracy: 0.8582\n",
      "Epoch 2/3\n",
      "118857/118857 - 44s - loss: 0.2855 - accuracy: 0.8791 - val_loss: 0.3280 - val_accuracy: 0.8623\n",
      "Epoch 3/3\n",
      "118857/118857 - 44s - loss: 0.2331 - accuracy: 0.9049 - val_loss: 0.3520 - val_accuracy: 0.8612\n",
      "Train on 118857 samples, validate on 29715 samples\n",
      "Epoch 1/3\n",
      "118857/118857 - 45s - loss: 0.3777 - accuracy: 0.8287 - val_loss: 0.3422 - val_accuracy: 0.8532\n",
      "Epoch 2/3\n",
      "118857/118857 - 44s - loss: 0.2860 - accuracy: 0.8793 - val_loss: 0.3232 - val_accuracy: 0.8624\n",
      "Epoch 3/3\n",
      "118857/118857 - 45s - loss: 0.2347 - accuracy: 0.9038 - val_loss: 0.3407 - val_accuracy: 0.8591\n",
      "Train on 118857 samples, validate on 29715 samples\n",
      "Epoch 1/3\n",
      "118857/118857 - 44s - loss: 0.3774 - accuracy: 0.8283 - val_loss: 0.3284 - val_accuracy: 0.8562\n",
      "Epoch 2/3\n",
      "118857/118857 - 43s - loss: 0.2869 - accuracy: 0.8790 - val_loss: 0.3253 - val_accuracy: 0.8608\n",
      "Epoch 3/3\n",
      "118857/118857 - 44s - loss: 0.2348 - accuracy: 0.9046 - val_loss: 0.3499 - val_accuracy: 0.8588\n",
      "Train on 118857 samples, validate on 29715 samples\n",
      "Epoch 1/3\n",
      "118857/118857 - 44s - loss: 0.3776 - accuracy: 0.8288 - val_loss: 0.3241 - val_accuracy: 0.8614\n",
      "Epoch 2/3\n",
      "118857/118857 - 43s - loss: 0.2864 - accuracy: 0.8794 - val_loss: 0.3251 - val_accuracy: 0.8623\n",
      "Epoch 3/3\n",
      "118857/118857 - 43s - loss: 0.2339 - accuracy: 0.9048 - val_loss: 0.3429 - val_accuracy: 0.8590\n",
      "Train on 118857 samples, validate on 29715 samples\n",
      "Epoch 1/3\n",
      "118857/118857 - 44s - loss: 0.3821 - accuracy: 0.8252 - val_loss: 0.3300 - val_accuracy: 0.8597\n",
      "Epoch 2/3\n",
      "118857/118857 - 43s - loss: 0.2898 - accuracy: 0.8781 - val_loss: 0.3250 - val_accuracy: 0.8637\n",
      "Epoch 3/3\n",
      "118857/118857 - 43s - loss: 0.2382 - accuracy: 0.9040 - val_loss: 0.3360 - val_accuracy: 0.8585\n"
     ]
    },
    {
     "output_type": "display_data",
     "data": {
      "text/plain": [
       "<IPython.core.display.HTML object>"
      ],
      "text/html": [
       "<span style=\"color:#4527A0\"><h1 style=\"font-size:18px\">Trial complete</h1></span>"
      ]
     },
     "metadata": {}
    },
    {
     "output_type": "display_data",
     "data": {
      "text/plain": [
       "<IPython.core.display.HTML object>"
      ],
      "text/html": [
       "<span style=\"color:#4527A0\"><h1 style=\"font-size:18px\">Trial summary</h1></span>"
      ]
     },
     "metadata": {}
    },
    {
     "output_type": "display_data",
     "data": {
      "text/plain": [
       "<IPython.core.display.HTML object>"
      ],
      "text/html": [
       "<span style=\"color:cyan\"> |-Trial ID: 1407185fe346a71b4c60ce1a25b7ef48</span>"
      ]
     },
     "metadata": {}
    },
    {
     "output_type": "display_data",
     "data": {
      "text/plain": [
       "<IPython.core.display.HTML object>"
      ],
      "text/html": [
       "<span style=\"color:cyan\"> |-Score: 0.8622783422470093</span>"
      ]
     },
     "metadata": {}
    },
    {
     "output_type": "display_data",
     "data": {
      "text/plain": [
       "<IPython.core.display.HTML object>"
      ],
      "text/html": [
       "<span style=\"color:cyan\"> |-Best step: 0</span>"
      ]
     },
     "metadata": {}
    },
    {
     "output_type": "display_data",
     "data": {
      "text/plain": [
       "<IPython.core.display.HTML object>"
      ],
      "text/html": [
       "<span style=\"color:#7E57C2\"><h2 style=\"font-size:16px\">Hyperparameters:</h2></span>"
      ]
     },
     "metadata": {}
    },
    {
     "output_type": "display_data",
     "data": {
      "text/plain": [
       "<IPython.core.display.HTML object>"
      ],
      "text/html": [
       "<span style=\"color:cyan\"> |-conv_blocks: 3</span>"
      ]
     },
     "metadata": {}
    },
    {
     "output_type": "display_data",
     "data": {
      "text/plain": [
       "<IPython.core.display.HTML object>"
      ],
      "text/html": [
       "<span style=\"color:blue\"> |-dropout1: 0.4</span>"
      ]
     },
     "metadata": {}
    },
    {
     "output_type": "display_data",
     "data": {
      "text/plain": [
       "<IPython.core.display.HTML object>"
      ],
      "text/html": [
       "<span style=\"color:cyan\"> |-dropout2: 0.30000000000000004</span>"
      ]
     },
     "metadata": {}
    },
    {
     "output_type": "display_data",
     "data": {
      "text/plain": [
       "<IPython.core.display.HTML object>"
      ],
      "text/html": [
       "<span style=\"color:blue\"> |-filters_0: 512</span>"
      ]
     },
     "metadata": {}
    },
    {
     "output_type": "display_data",
     "data": {
      "text/plain": [
       "<IPython.core.display.HTML object>"
      ],
      "text/html": [
       "<span style=\"color:cyan\"> |-filters_1: 128</span>"
      ]
     },
     "metadata": {}
    },
    {
     "output_type": "display_data",
     "data": {
      "text/plain": [
       "<IPython.core.display.HTML object>"
      ],
      "text/html": [
       "<span style=\"color:blue\"> |-filters_2: 128</span>"
      ]
     },
     "metadata": {}
    },
    {
     "output_type": "display_data",
     "data": {
      "text/plain": [
       "<IPython.core.display.HTML object>"
      ],
      "text/html": [
       "<span style=\"color:cyan\"> |-hidden_size: 256</span>"
      ]
     },
     "metadata": {}
    },
    {
     "output_type": "display_data",
     "data": {
      "text/plain": [
       "<IPython.core.display.HTML object>"
      ],
      "text/html": [
       "<span style=\"color:blue\"> |-kernel_size_0: 4</span>"
      ]
     },
     "metadata": {}
    },
    {
     "output_type": "display_data",
     "data": {
      "text/plain": [
       "<IPython.core.display.HTML object>"
      ],
      "text/html": [
       "<span style=\"color:cyan\"> |-kernel_size_1: 3</span>"
      ]
     },
     "metadata": {}
    },
    {
     "output_type": "display_data",
     "data": {
      "text/plain": [
       "<IPython.core.display.HTML object>"
      ],
      "text/html": [
       "<span style=\"color:blue\"> |-kernel_size_2: 3</span>"
      ]
     },
     "metadata": {}
    },
    {
     "output_type": "display_data",
     "data": {
      "text/plain": [
       "<IPython.core.display.HTML object>"
      ],
      "text/html": [
       "<span style=\"color:cyan\"> |-learning_rate: 0.0019892146428191083</span>"
      ]
     },
     "metadata": {}
    },
    {
     "output_type": "display_data",
     "data": {
      "text/plain": [
       "<IPython.core.display.HTML object>"
      ],
      "text/html": [
       "<span style=\"color:blue\"> |-optimizer_: adam</span>"
      ]
     },
     "metadata": {}
    },
    {
     "output_type": "display_data",
     "data": {
      "text/plain": [
       "<IPython.core.display.HTML object>"
      ],
      "text/html": [
       "<span style=\"color:cyan\"> |-pooling_0: global</span>"
      ]
     },
     "metadata": {}
    },
    {
     "output_type": "display_data",
     "data": {
      "text/plain": [
       "<IPython.core.display.HTML object>"
      ],
      "text/html": [
       "<span style=\"color:blue\"> |-pooling_1: global</span>"
      ]
     },
     "metadata": {}
    },
    {
     "output_type": "display_data",
     "data": {
      "text/plain": [
       "<IPython.core.display.HTML object>"
      ],
      "text/html": [
       "<span style=\"color:cyan\"> |-pooling_2: max</span>"
      ]
     },
     "metadata": {}
    },
    {
     "output_type": "display_data",
     "data": {
      "text/plain": [
       "<IPython.core.display.HTML object>"
      ],
      "text/html": [
       "<span style=\"color:blue\"> |-tuner/bracket: 2</span>"
      ]
     },
     "metadata": {}
    },
    {
     "output_type": "display_data",
     "data": {
      "text/plain": [
       "<IPython.core.display.HTML object>"
      ],
      "text/html": [
       "<span style=\"color:cyan\"> |-tuner/epochs: 3</span>"
      ]
     },
     "metadata": {}
    },
    {
     "output_type": "display_data",
     "data": {
      "text/plain": [
       "<IPython.core.display.HTML object>"
      ],
      "text/html": [
       "<span style=\"color:blue\"> |-tuner/initial_epoch: 0</span>"
      ]
     },
     "metadata": {}
    },
    {
     "output_type": "display_data",
     "data": {
      "text/plain": [
       "<IPython.core.display.HTML object>"
      ],
      "text/html": [
       "<span style=\"color:cyan\"> |-tuner/round: 0</span>"
      ]
     },
     "metadata": {}
    },
    {
     "output_type": "stream",
     "name": "stdout",
     "text": [
      "Train on 118857 samples, validate on 29715 samples\n",
      "Epoch 1/3\n",
      "118857/118857 - 45s - loss: 0.4029 - accuracy: 0.8083 - val_loss: 0.3393 - val_accuracy: 0.8529\n",
      "Epoch 2/3\n",
      "118857/118857 - 44s - loss: 0.2996 - accuracy: 0.8743 - val_loss: 0.3311 - val_accuracy: 0.8565\n",
      "Epoch 3/3\n",
      "118857/118857 - 44s - loss: 0.2457 - accuracy: 0.9003 - val_loss: 0.3440 - val_accuracy: 0.8543\n",
      "Train on 118857 samples, validate on 29715 samples\n",
      "Epoch 1/3\n",
      "118857/118857 - 44s - loss: 0.4038 - accuracy: 0.8086 - val_loss: 0.3396 - val_accuracy: 0.8539\n",
      "Epoch 2/3\n",
      "118857/118857 - 43s - loss: 0.3006 - accuracy: 0.8722 - val_loss: 0.3327 - val_accuracy: 0.8592\n",
      "Epoch 3/3\n",
      "118857/118857 - 43s - loss: 0.2479 - accuracy: 0.8991 - val_loss: 0.3432 - val_accuracy: 0.8568\n",
      "Train on 118857 samples, validate on 29715 samples\n",
      "Epoch 1/3\n",
      "118857/118857 - 45s - loss: 0.4057 - accuracy: 0.8073 - val_loss: 0.3420 - val_accuracy: 0.8493\n",
      "Epoch 2/3\n",
      "118857/118857 - 44s - loss: 0.3034 - accuracy: 0.8715 - val_loss: 0.3339 - val_accuracy: 0.8552\n",
      "Epoch 3/3\n",
      "118857/118857 - 44s - loss: 0.2559 - accuracy: 0.8954 - val_loss: 0.3428 - val_accuracy: 0.8531\n",
      "Train on 118857 samples, validate on 29715 samples\n",
      "Epoch 1/3\n",
      "118857/118857 - 45s - loss: 0.4057 - accuracy: 0.8065 - val_loss: 0.3431 - val_accuracy: 0.8519\n",
      "Epoch 2/3\n",
      "118857/118857 - 44s - loss: 0.3039 - accuracy: 0.8704 - val_loss: 0.3360 - val_accuracy: 0.8556\n",
      "Epoch 3/3\n",
      "118857/118857 - 45s - loss: 0.2531 - accuracy: 0.8973 - val_loss: 0.3484 - val_accuracy: 0.8531\n",
      "Train on 118857 samples, validate on 29715 samples\n",
      "Epoch 1/3\n",
      "118857/118857 - 45s - loss: 0.4041 - accuracy: 0.8088 - val_loss: 0.3422 - val_accuracy: 0.8520\n",
      "Epoch 2/3\n",
      "118857/118857 - 43s - loss: 0.3044 - accuracy: 0.8704 - val_loss: 0.3338 - val_accuracy: 0.8563\n",
      "Epoch 3/3\n",
      "118857/118857 - 44s - loss: 0.2507 - accuracy: 0.8980 - val_loss: 0.3371 - val_accuracy: 0.8564\n"
     ]
    },
    {
     "output_type": "display_data",
     "data": {
      "text/plain": [
       "<IPython.core.display.HTML object>"
      ],
      "text/html": [
       "<span style=\"color:#4527A0\"><h1 style=\"font-size:18px\">Trial complete</h1></span>"
      ]
     },
     "metadata": {}
    },
    {
     "output_type": "display_data",
     "data": {
      "text/plain": [
       "<IPython.core.display.HTML object>"
      ],
      "text/html": [
       "<span style=\"color:#4527A0\"><h1 style=\"font-size:18px\">Trial summary</h1></span>"
      ]
     },
     "metadata": {}
    },
    {
     "output_type": "display_data",
     "data": {
      "text/plain": [
       "<IPython.core.display.HTML object>"
      ],
      "text/html": [
       "<span style=\"color:cyan\"> |-Trial ID: fa0b9bc48ea63d80aae29e786074eea1</span>"
      ]
     },
     "metadata": {}
    },
    {
     "output_type": "display_data",
     "data": {
      "text/plain": [
       "<IPython.core.display.HTML object>"
      ],
      "text/html": [
       "<span style=\"color:cyan\"> |-Score: 0.856570839881897</span>"
      ]
     },
     "metadata": {}
    },
    {
     "output_type": "display_data",
     "data": {
      "text/plain": [
       "<IPython.core.display.HTML object>"
      ],
      "text/html": [
       "<span style=\"color:cyan\"> |-Best step: 0</span>"
      ]
     },
     "metadata": {}
    },
    {
     "output_type": "display_data",
     "data": {
      "text/plain": [
       "<IPython.core.display.HTML object>"
      ],
      "text/html": [
       "<span style=\"color:#7E57C2\"><h2 style=\"font-size:16px\">Hyperparameters:</h2></span>"
      ]
     },
     "metadata": {}
    },
    {
     "output_type": "display_data",
     "data": {
      "text/plain": [
       "<IPython.core.display.HTML object>"
      ],
      "text/html": [
       "<span style=\"color:cyan\"> |-conv_blocks: 4</span>"
      ]
     },
     "metadata": {}
    },
    {
     "output_type": "display_data",
     "data": {
      "text/plain": [
       "<IPython.core.display.HTML object>"
      ],
      "text/html": [
       "<span style=\"color:blue\"> |-dropout1: 0.2</span>"
      ]
     },
     "metadata": {}
    },
    {
     "output_type": "display_data",
     "data": {
      "text/plain": [
       "<IPython.core.display.HTML object>"
      ],
      "text/html": [
       "<span style=\"color:cyan\"> |-dropout2: 0.4</span>"
      ]
     },
     "metadata": {}
    },
    {
     "output_type": "display_data",
     "data": {
      "text/plain": [
       "<IPython.core.display.HTML object>"
      ],
      "text/html": [
       "<span style=\"color:blue\"> |-filters_0: 128</span>"
      ]
     },
     "metadata": {}
    },
    {
     "output_type": "display_data",
     "data": {
      "text/plain": [
       "<IPython.core.display.HTML object>"
      ],
      "text/html": [
       "<span style=\"color:cyan\"> |-filters_1: 128</span>"
      ]
     },
     "metadata": {}
    },
    {
     "output_type": "display_data",
     "data": {
      "text/plain": [
       "<IPython.core.display.HTML object>"
      ],
      "text/html": [
       "<span style=\"color:blue\"> |-filters_2: 256</span>"
      ]
     },
     "metadata": {}
    },
    {
     "output_type": "display_data",
     "data": {
      "text/plain": [
       "<IPython.core.display.HTML object>"
      ],
      "text/html": [
       "<span style=\"color:cyan\"> |-filters_3: 32</span>"
      ]
     },
     "metadata": {}
    },
    {
     "output_type": "display_data",
     "data": {
      "text/plain": [
       "<IPython.core.display.HTML object>"
      ],
      "text/html": [
       "<span style=\"color:blue\"> |-hidden_size: 64</span>"
      ]
     },
     "metadata": {}
    },
    {
     "output_type": "display_data",
     "data": {
      "text/plain": [
       "<IPython.core.display.HTML object>"
      ],
      "text/html": [
       "<span style=\"color:cyan\"> |-kernel_size_0: 4</span>"
      ]
     },
     "metadata": {}
    },
    {
     "output_type": "display_data",
     "data": {
      "text/plain": [
       "<IPython.core.display.HTML object>"
      ],
      "text/html": [
       "<span style=\"color:blue\"> |-kernel_size_1: 3</span>"
      ]
     },
     "metadata": {}
    },
    {
     "output_type": "display_data",
     "data": {
      "text/plain": [
       "<IPython.core.display.HTML object>"
      ],
      "text/html": [
       "<span style=\"color:cyan\"> |-kernel_size_2: 3</span>"
      ]
     },
     "metadata": {}
    },
    {
     "output_type": "display_data",
     "data": {
      "text/plain": [
       "<IPython.core.display.HTML object>"
      ],
      "text/html": [
       "<span style=\"color:blue\"> |-kernel_size_3: 3</span>"
      ]
     },
     "metadata": {}
    },
    {
     "output_type": "display_data",
     "data": {
      "text/plain": [
       "<IPython.core.display.HTML object>"
      ],
      "text/html": [
       "<span style=\"color:cyan\"> |-learning_rate: 0.0003457710278050791</span>"
      ]
     },
     "metadata": {}
    },
    {
     "output_type": "display_data",
     "data": {
      "text/plain": [
       "<IPython.core.display.HTML object>"
      ],
      "text/html": [
       "<span style=\"color:blue\"> |-optimizer_: adam</span>"
      ]
     },
     "metadata": {}
    },
    {
     "output_type": "display_data",
     "data": {
      "text/plain": [
       "<IPython.core.display.HTML object>"
      ],
      "text/html": [
       "<span style=\"color:cyan\"> |-pooling_0: max</span>"
      ]
     },
     "metadata": {}
    },
    {
     "output_type": "display_data",
     "data": {
      "text/plain": [
       "<IPython.core.display.HTML object>"
      ],
      "text/html": [
       "<span style=\"color:blue\"> |-pooling_1: max</span>"
      ]
     },
     "metadata": {}
    },
    {
     "output_type": "display_data",
     "data": {
      "text/plain": [
       "<IPython.core.display.HTML object>"
      ],
      "text/html": [
       "<span style=\"color:cyan\"> |-pooling_2: max</span>"
      ]
     },
     "metadata": {}
    },
    {
     "output_type": "display_data",
     "data": {
      "text/plain": [
       "<IPython.core.display.HTML object>"
      ],
      "text/html": [
       "<span style=\"color:blue\"> |-pooling_3: max</span>"
      ]
     },
     "metadata": {}
    },
    {
     "output_type": "display_data",
     "data": {
      "text/plain": [
       "<IPython.core.display.HTML object>"
      ],
      "text/html": [
       "<span style=\"color:cyan\"> |-tuner/bracket: 2</span>"
      ]
     },
     "metadata": {}
    },
    {
     "output_type": "display_data",
     "data": {
      "text/plain": [
       "<IPython.core.display.HTML object>"
      ],
      "text/html": [
       "<span style=\"color:blue\"> |-tuner/epochs: 3</span>"
      ]
     },
     "metadata": {}
    },
    {
     "output_type": "display_data",
     "data": {
      "text/plain": [
       "<IPython.core.display.HTML object>"
      ],
      "text/html": [
       "<span style=\"color:cyan\"> |-tuner/initial_epoch: 0</span>"
      ]
     },
     "metadata": {}
    },
    {
     "output_type": "display_data",
     "data": {
      "text/plain": [
       "<IPython.core.display.HTML object>"
      ],
      "text/html": [
       "<span style=\"color:blue\"> |-tuner/round: 0</span>"
      ]
     },
     "metadata": {}
    },
    {
     "output_type": "stream",
     "name": "stdout",
     "text": [
      "Train on 118857 samples, validate on 29715 samples\n",
      "Epoch 1/3\n",
      "118857/118857 - 31s - loss: 0.3820 - accuracy: 0.8306 - val_loss: 0.3646 - val_accuracy: 0.8397\n",
      "Epoch 2/3\n",
      "118857/118857 - 31s - loss: 0.3179 - accuracy: 0.8666 - val_loss: 0.3242 - val_accuracy: 0.8633\n",
      "Epoch 3/3\n",
      "118857/118857 - 30s - loss: 0.2950 - accuracy: 0.8800 - val_loss: 0.3606 - val_accuracy: 0.8615\n",
      "Train on 118857 samples, validate on 29715 samples\n",
      "Epoch 1/3\n",
      "118857/118857 - 29s - loss: 0.3833 - accuracy: 0.8294 - val_loss: 0.3513 - val_accuracy: 0.8483\n",
      "Epoch 2/3\n",
      "118857/118857 - 29s - loss: 0.3203 - accuracy: 0.8666 - val_loss: 0.3425 - val_accuracy: 0.8532\n",
      "Epoch 3/3\n",
      "118857/118857 - 28s - loss: 0.2994 - accuracy: 0.8778 - val_loss: 0.3590 - val_accuracy: 0.8518\n",
      "Train on 118857 samples, validate on 29715 samples\n",
      "Epoch 1/3\n",
      "118857/118857 - 31s - loss: 0.3815 - accuracy: 0.8296 - val_loss: 0.3440 - val_accuracy: 0.8516\n",
      "Epoch 2/3\n",
      "118857/118857 - 30s - loss: 0.3171 - accuracy: 0.8675 - val_loss: 0.3367 - val_accuracy: 0.8586\n",
      "Epoch 3/3\n",
      "118857/118857 - 30s - loss: 0.2956 - accuracy: 0.8785 - val_loss: 0.3508 - val_accuracy: 0.8513\n",
      "Train on 118857 samples, validate on 29715 samples\n",
      "Epoch 1/3\n",
      "118857/118857 - 31s - loss: 0.3824 - accuracy: 0.8296 - val_loss: 0.3701 - val_accuracy: 0.8501\n",
      "Epoch 2/3\n",
      "118857/118857 - 29s - loss: 0.3173 - accuracy: 0.8675 - val_loss: 0.3366 - val_accuracy: 0.8615\n",
      "Epoch 3/3\n",
      "118857/118857 - 30s - loss: 0.2943 - accuracy: 0.8805 - val_loss: 0.3167 - val_accuracy: 0.8673\n",
      "Train on 118857 samples, validate on 29715 samples\n",
      "Epoch 1/3\n",
      "118857/118857 - 30s - loss: 0.3820 - accuracy: 0.8301 - val_loss: 0.3692 - val_accuracy: 0.8403\n",
      "Epoch 2/3\n",
      "118857/118857 - 29s - loss: 0.3186 - accuracy: 0.8665 - val_loss: 0.3752 - val_accuracy: 0.8427\n",
      "Epoch 3/3\n",
      "118857/118857 - 29s - loss: 0.2968 - accuracy: 0.8798 - val_loss: 0.3429 - val_accuracy: 0.8623\n"
     ]
    },
    {
     "output_type": "display_data",
     "data": {
      "text/plain": [
       "<IPython.core.display.HTML object>"
      ],
      "text/html": [
       "<span style=\"color:#4527A0\"><h1 style=\"font-size:18px\">Trial complete</h1></span>"
      ]
     },
     "metadata": {}
    },
    {
     "output_type": "display_data",
     "data": {
      "text/plain": [
       "<IPython.core.display.HTML object>"
      ],
      "text/html": [
       "<span style=\"color:#4527A0\"><h1 style=\"font-size:18px\">Trial summary</h1></span>"
      ]
     },
     "metadata": {}
    },
    {
     "output_type": "display_data",
     "data": {
      "text/plain": [
       "<IPython.core.display.HTML object>"
      ],
      "text/html": [
       "<span style=\"color:cyan\"> |-Trial ID: 8587dbbd3657efcd6411c809b55257c6</span>"
      ]
     },
     "metadata": {}
    },
    {
     "output_type": "display_data",
     "data": {
      "text/plain": [
       "<IPython.core.display.HTML object>"
      ],
      "text/html": [
       "<span style=\"color:cyan\"> |-Score: 0.8609187006950378</span>"
      ]
     },
     "metadata": {}
    },
    {
     "output_type": "display_data",
     "data": {
      "text/plain": [
       "<IPython.core.display.HTML object>"
      ],
      "text/html": [
       "<span style=\"color:cyan\"> |-Best step: 0</span>"
      ]
     },
     "metadata": {}
    },
    {
     "output_type": "display_data",
     "data": {
      "text/plain": [
       "<IPython.core.display.HTML object>"
      ],
      "text/html": [
       "<span style=\"color:#7E57C2\"><h2 style=\"font-size:16px\">Hyperparameters:</h2></span>"
      ]
     },
     "metadata": {}
    },
    {
     "output_type": "display_data",
     "data": {
      "text/plain": [
       "<IPython.core.display.HTML object>"
      ],
      "text/html": [
       "<span style=\"color:cyan\"> |-conv_blocks: 4</span>"
      ]
     },
     "metadata": {}
    },
    {
     "output_type": "display_data",
     "data": {
      "text/plain": [
       "<IPython.core.display.HTML object>"
      ],
      "text/html": [
       "<span style=\"color:blue\"> |-dropout1: 0.1</span>"
      ]
     },
     "metadata": {}
    },
    {
     "output_type": "display_data",
     "data": {
      "text/plain": [
       "<IPython.core.display.HTML object>"
      ],
      "text/html": [
       "<span style=\"color:cyan\"> |-dropout2: 0.30000000000000004</span>"
      ]
     },
     "metadata": {}
    },
    {
     "output_type": "display_data",
     "data": {
      "text/plain": [
       "<IPython.core.display.HTML object>"
      ],
      "text/html": [
       "<span style=\"color:blue\"> |-filters_0: 128</span>"
      ]
     },
     "metadata": {}
    },
    {
     "output_type": "display_data",
     "data": {
      "text/plain": [
       "<IPython.core.display.HTML object>"
      ],
      "text/html": [
       "<span style=\"color:cyan\"> |-filters_1: 256</span>"
      ]
     },
     "metadata": {}
    },
    {
     "output_type": "display_data",
     "data": {
      "text/plain": [
       "<IPython.core.display.HTML object>"
      ],
      "text/html": [
       "<span style=\"color:blue\"> |-filters_2: 128</span>"
      ]
     },
     "metadata": {}
    },
    {
     "output_type": "display_data",
     "data": {
      "text/plain": [
       "<IPython.core.display.HTML object>"
      ],
      "text/html": [
       "<span style=\"color:cyan\"> |-filters_3: 256</span>"
      ]
     },
     "metadata": {}
    },
    {
     "output_type": "display_data",
     "data": {
      "text/plain": [
       "<IPython.core.display.HTML object>"
      ],
      "text/html": [
       "<span style=\"color:blue\"> |-hidden_size: 128</span>"
      ]
     },
     "metadata": {}
    },
    {
     "output_type": "display_data",
     "data": {
      "text/plain": [
       "<IPython.core.display.HTML object>"
      ],
      "text/html": [
       "<span style=\"color:cyan\"> |-kernel_size_0: 4</span>"
      ]
     },
     "metadata": {}
    },
    {
     "output_type": "display_data",
     "data": {
      "text/plain": [
       "<IPython.core.display.HTML object>"
      ],
      "text/html": [
       "<span style=\"color:blue\"> |-kernel_size_1: 3</span>"
      ]
     },
     "metadata": {}
    },
    {
     "output_type": "display_data",
     "data": {
      "text/plain": [
       "<IPython.core.display.HTML object>"
      ],
      "text/html": [
       "<span style=\"color:cyan\"> |-kernel_size_2: 3</span>"
      ]
     },
     "metadata": {}
    },
    {
     "output_type": "display_data",
     "data": {
      "text/plain": [
       "<IPython.core.display.HTML object>"
      ],
      "text/html": [
       "<span style=\"color:blue\"> |-kernel_size_3: 5</span>"
      ]
     },
     "metadata": {}
    },
    {
     "output_type": "display_data",
     "data": {
      "text/plain": [
       "<IPython.core.display.HTML object>"
      ],
      "text/html": [
       "<span style=\"color:cyan\"> |-learning_rate: 0.002437660182377661</span>"
      ]
     },
     "metadata": {}
    },
    {
     "output_type": "display_data",
     "data": {
      "text/plain": [
       "<IPython.core.display.HTML object>"
      ],
      "text/html": [
       "<span style=\"color:blue\"> |-optimizer_: rmsprop</span>"
      ]
     },
     "metadata": {}
    },
    {
     "output_type": "display_data",
     "data": {
      "text/plain": [
       "<IPython.core.display.HTML object>"
      ],
      "text/html": [
       "<span style=\"color:cyan\"> |-pooling_0: max</span>"
      ]
     },
     "metadata": {}
    },
    {
     "output_type": "display_data",
     "data": {
      "text/plain": [
       "<IPython.core.display.HTML object>"
      ],
      "text/html": [
       "<span style=\"color:blue\"> |-pooling_1: max</span>"
      ]
     },
     "metadata": {}
    },
    {
     "output_type": "display_data",
     "data": {
      "text/plain": [
       "<IPython.core.display.HTML object>"
      ],
      "text/html": [
       "<span style=\"color:cyan\"> |-pooling_2: global</span>"
      ]
     },
     "metadata": {}
    },
    {
     "output_type": "display_data",
     "data": {
      "text/plain": [
       "<IPython.core.display.HTML object>"
      ],
      "text/html": [
       "<span style=\"color:blue\"> |-pooling_3: max</span>"
      ]
     },
     "metadata": {}
    },
    {
     "output_type": "display_data",
     "data": {
      "text/plain": [
       "<IPython.core.display.HTML object>"
      ],
      "text/html": [
       "<span style=\"color:cyan\"> |-tuner/bracket: 2</span>"
      ]
     },
     "metadata": {}
    },
    {
     "output_type": "display_data",
     "data": {
      "text/plain": [
       "<IPython.core.display.HTML object>"
      ],
      "text/html": [
       "<span style=\"color:blue\"> |-tuner/epochs: 3</span>"
      ]
     },
     "metadata": {}
    },
    {
     "output_type": "display_data",
     "data": {
      "text/plain": [
       "<IPython.core.display.HTML object>"
      ],
      "text/html": [
       "<span style=\"color:cyan\"> |-tuner/initial_epoch: 0</span>"
      ]
     },
     "metadata": {}
    },
    {
     "output_type": "display_data",
     "data": {
      "text/plain": [
       "<IPython.core.display.HTML object>"
      ],
      "text/html": [
       "<span style=\"color:blue\"> |-tuner/round: 0</span>"
      ]
     },
     "metadata": {}
    },
    {
     "output_type": "stream",
     "name": "stdout",
     "text": [
      "Train on 118857 samples, validate on 29715 samples\n",
      "Epoch 1/3\n",
      "118857/118857 - 32s - loss: 2.8111 - accuracy: 0.5064 - val_loss: 0.6934 - val_accuracy: 0.5055\n",
      "Epoch 2/3\n",
      "118857/118857 - 30s - loss: 0.6938 - accuracy: 0.4984 - val_loss: 0.6970 - val_accuracy: 0.5055\n",
      "Epoch 3/3\n",
      "118857/118857 - 30s - loss: 0.6937 - accuracy: 0.5008 - val_loss: 0.6933 - val_accuracy: 0.4945\n",
      "Train on 118857 samples, validate on 29715 samples\n",
      "Epoch 1/3\n",
      "118857/118857 - 32s - loss: 2.1281 - accuracy: 0.5078 - val_loss: 0.6938 - val_accuracy: 0.4945\n",
      "Epoch 2/3\n",
      "118857/118857 - 31s - loss: 0.6938 - accuracy: 0.5002 - val_loss: 0.6936 - val_accuracy: 0.5055\n",
      "Epoch 3/3\n",
      "118857/118857 - 31s - loss: 0.6937 - accuracy: 0.5034 - val_loss: 0.6937 - val_accuracy: 0.4945\n",
      "Train on 118857 samples, validate on 29715 samples\n",
      "Epoch 1/3\n",
      "118857/118857 - 32s - loss: 1.7285 - accuracy: 0.5068 - val_loss: 0.7173 - val_accuracy: 0.5072\n",
      "Epoch 2/3\n",
      "118857/118857 - 30s - loss: 0.6977 - accuracy: 0.4999 - val_loss: 0.6955 - val_accuracy: 0.4945\n",
      "Epoch 3/3\n",
      "118857/118857 - 30s - loss: 0.6939 - accuracy: 0.4983 - val_loss: 0.6936 - val_accuracy: 0.4945\n",
      "Train on 118857 samples, validate on 29715 samples\n",
      "Epoch 1/3\n",
      "118857/118857 - 30s - loss: 2.4807 - accuracy: 0.4989 - val_loss: 0.6938 - val_accuracy: 0.5055\n",
      "Epoch 2/3\n",
      "118857/118857 - 30s - loss: 0.6937 - accuracy: 0.5013 - val_loss: 0.6931 - val_accuracy: 0.5055\n",
      "Epoch 3/3\n",
      "118857/118857 - 30s - loss: 0.6939 - accuracy: 0.4976 - val_loss: 0.6933 - val_accuracy: 0.4945\n",
      "Train on 118857 samples, validate on 29715 samples\n",
      "Epoch 1/3\n",
      "118857/118857 - 32s - loss: 2.4563 - accuracy: 0.5081 - val_loss: 0.6932 - val_accuracy: 0.4945\n",
      "Epoch 2/3\n",
      "118857/118857 - 30s - loss: 0.6938 - accuracy: 0.5003 - val_loss: 0.6932 - val_accuracy: 0.5055\n",
      "Epoch 3/3\n",
      "118857/118857 - 31s - loss: 0.6938 - accuracy: 0.5006 - val_loss: 0.6941 - val_accuracy: 0.4945\n"
     ]
    },
    {
     "output_type": "display_data",
     "data": {
      "text/plain": [
       "<IPython.core.display.HTML object>"
      ],
      "text/html": [
       "<span style=\"color:#4527A0\"><h1 style=\"font-size:18px\">Trial complete</h1></span>"
      ]
     },
     "metadata": {}
    },
    {
     "output_type": "display_data",
     "data": {
      "text/plain": [
       "<IPython.core.display.HTML object>"
      ],
      "text/html": [
       "<span style=\"color:#4527A0\"><h1 style=\"font-size:18px\">Trial summary</h1></span>"
      ]
     },
     "metadata": {}
    },
    {
     "output_type": "display_data",
     "data": {
      "text/plain": [
       "<IPython.core.display.HTML object>"
      ],
      "text/html": [
       "<span style=\"color:cyan\"> |-Trial ID: dc923b8e0b6c52c8fa8451f7861cc678</span>"
      ]
     },
     "metadata": {}
    },
    {
     "output_type": "display_data",
     "data": {
      "text/plain": [
       "<IPython.core.display.HTML object>"
      ],
      "text/html": [
       "<span style=\"color:cyan\"> |-Score: 0.5058051347732544</span>"
      ]
     },
     "metadata": {}
    },
    {
     "output_type": "display_data",
     "data": {
      "text/plain": [
       "<IPython.core.display.HTML object>"
      ],
      "text/html": [
       "<span style=\"color:cyan\"> |-Best step: 0</span>"
      ]
     },
     "metadata": {}
    },
    {
     "output_type": "display_data",
     "data": {
      "text/plain": [
       "<IPython.core.display.HTML object>"
      ],
      "text/html": [
       "<span style=\"color:#7E57C2\"><h2 style=\"font-size:16px\">Hyperparameters:</h2></span>"
      ]
     },
     "metadata": {}
    },
    {
     "output_type": "display_data",
     "data": {
      "text/plain": [
       "<IPython.core.display.HTML object>"
      ],
      "text/html": [
       "<span style=\"color:cyan\"> |-conv_blocks: 4</span>"
      ]
     },
     "metadata": {}
    },
    {
     "output_type": "display_data",
     "data": {
      "text/plain": [
       "<IPython.core.display.HTML object>"
      ],
      "text/html": [
       "<span style=\"color:blue\"> |-dropout1: 0.2</span>"
      ]
     },
     "metadata": {}
    },
    {
     "output_type": "display_data",
     "data": {
      "text/plain": [
       "<IPython.core.display.HTML object>"
      ],
      "text/html": [
       "<span style=\"color:cyan\"> |-dropout2: 0.30000000000000004</span>"
      ]
     },
     "metadata": {}
    },
    {
     "output_type": "display_data",
     "data": {
      "text/plain": [
       "<IPython.core.display.HTML object>"
      ],
      "text/html": [
       "<span style=\"color:blue\"> |-filters_0: 512</span>"
      ]
     },
     "metadata": {}
    },
    {
     "output_type": "display_data",
     "data": {
      "text/plain": [
       "<IPython.core.display.HTML object>"
      ],
      "text/html": [
       "<span style=\"color:cyan\"> |-filters_1: 256</span>"
      ]
     },
     "metadata": {}
    },
    {
     "output_type": "display_data",
     "data": {
      "text/plain": [
       "<IPython.core.display.HTML object>"
      ],
      "text/html": [
       "<span style=\"color:blue\"> |-filters_2: 64</span>"
      ]
     },
     "metadata": {}
    },
    {
     "output_type": "display_data",
     "data": {
      "text/plain": [
       "<IPython.core.display.HTML object>"
      ],
      "text/html": [
       "<span style=\"color:cyan\"> |-filters_3: 128</span>"
      ]
     },
     "metadata": {}
    },
    {
     "output_type": "display_data",
     "data": {
      "text/plain": [
       "<IPython.core.display.HTML object>"
      ],
      "text/html": [
       "<span style=\"color:blue\"> |-hidden_size: 64</span>"
      ]
     },
     "metadata": {}
    },
    {
     "output_type": "display_data",
     "data": {
      "text/plain": [
       "<IPython.core.display.HTML object>"
      ],
      "text/html": [
       "<span style=\"color:cyan\"> |-kernel_size_0: 3</span>"
      ]
     },
     "metadata": {}
    },
    {
     "output_type": "display_data",
     "data": {
      "text/plain": [
       "<IPython.core.display.HTML object>"
      ],
      "text/html": [
       "<span style=\"color:blue\"> |-kernel_size_1: 4</span>"
      ]
     },
     "metadata": {}
    },
    {
     "output_type": "display_data",
     "data": {
      "text/plain": [
       "<IPython.core.display.HTML object>"
      ],
      "text/html": [
       "<span style=\"color:cyan\"> |-kernel_size_2: 5</span>"
      ]
     },
     "metadata": {}
    },
    {
     "output_type": "display_data",
     "data": {
      "text/plain": [
       "<IPython.core.display.HTML object>"
      ],
      "text/html": [
       "<span style=\"color:blue\"> |-kernel_size_3: 3</span>"
      ]
     },
     "metadata": {}
    },
    {
     "output_type": "display_data",
     "data": {
      "text/plain": [
       "<IPython.core.display.HTML object>"
      ],
      "text/html": [
       "<span style=\"color:cyan\"> |-learning_rate: 0.040254987176355804</span>"
      ]
     },
     "metadata": {}
    },
    {
     "output_type": "display_data",
     "data": {
      "text/plain": [
       "<IPython.core.display.HTML object>"
      ],
      "text/html": [
       "<span style=\"color:blue\"> |-optimizer_: rmsprop</span>"
      ]
     },
     "metadata": {}
    },
    {
     "output_type": "display_data",
     "data": {
      "text/plain": [
       "<IPython.core.display.HTML object>"
      ],
      "text/html": [
       "<span style=\"color:cyan\"> |-pooling_0: max</span>"
      ]
     },
     "metadata": {}
    },
    {
     "output_type": "display_data",
     "data": {
      "text/plain": [
       "<IPython.core.display.HTML object>"
      ],
      "text/html": [
       "<span style=\"color:blue\"> |-pooling_1: max</span>"
      ]
     },
     "metadata": {}
    },
    {
     "output_type": "display_data",
     "data": {
      "text/plain": [
       "<IPython.core.display.HTML object>"
      ],
      "text/html": [
       "<span style=\"color:cyan\"> |-pooling_2: global</span>"
      ]
     },
     "metadata": {}
    },
    {
     "output_type": "display_data",
     "data": {
      "text/plain": [
       "<IPython.core.display.HTML object>"
      ],
      "text/html": [
       "<span style=\"color:blue\"> |-pooling_3: max</span>"
      ]
     },
     "metadata": {}
    },
    {
     "output_type": "display_data",
     "data": {
      "text/plain": [
       "<IPython.core.display.HTML object>"
      ],
      "text/html": [
       "<span style=\"color:cyan\"> |-tuner/bracket: 2</span>"
      ]
     },
     "metadata": {}
    },
    {
     "output_type": "display_data",
     "data": {
      "text/plain": [
       "<IPython.core.display.HTML object>"
      ],
      "text/html": [
       "<span style=\"color:blue\"> |-tuner/epochs: 3</span>"
      ]
     },
     "metadata": {}
    },
    {
     "output_type": "display_data",
     "data": {
      "text/plain": [
       "<IPython.core.display.HTML object>"
      ],
      "text/html": [
       "<span style=\"color:cyan\"> |-tuner/initial_epoch: 0</span>"
      ]
     },
     "metadata": {}
    },
    {
     "output_type": "display_data",
     "data": {
      "text/plain": [
       "<IPython.core.display.HTML object>"
      ],
      "text/html": [
       "<span style=\"color:blue\"> |-tuner/round: 0</span>"
      ]
     },
     "metadata": {}
    },
    {
     "output_type": "stream",
     "name": "stdout",
     "text": [
      "Train on 118857 samples, validate on 29715 samples\n",
      "Epoch 1/3\n",
      "118857/118857 - 44s - loss: 0.3827 - accuracy: 0.8230 - val_loss: 0.3302 - val_accuracy: 0.8574\n",
      "Epoch 2/3\n",
      "118857/118857 - 43s - loss: 0.2829 - accuracy: 0.8819 - val_loss: 0.3281 - val_accuracy: 0.8597\n",
      "Epoch 3/3\n",
      "118857/118857 - 42s - loss: 0.2199 - accuracy: 0.9120 - val_loss: 0.3530 - val_accuracy: 0.8561\n",
      "Train on 118857 samples, validate on 29715 samples\n",
      "Epoch 1/3\n",
      "118857/118857 - 43s - loss: 0.3826 - accuracy: 0.8238 - val_loss: 0.3305 - val_accuracy: 0.8567\n",
      "Epoch 2/3\n",
      "118857/118857 - 43s - loss: 0.2824 - accuracy: 0.8817 - val_loss: 0.3300 - val_accuracy: 0.8578\n",
      "Epoch 3/3\n",
      "118857/118857 - 42s - loss: 0.2193 - accuracy: 0.9130 - val_loss: 0.3530 - val_accuracy: 0.8532\n",
      "Train on 118857 samples, validate on 29715 samples\n",
      "Epoch 1/3\n",
      "118857/118857 - 44s - loss: 0.3823 - accuracy: 0.8232 - val_loss: 0.3291 - val_accuracy: 0.8598\n",
      "Epoch 2/3\n",
      "118857/118857 - 42s - loss: 0.2799 - accuracy: 0.8838 - val_loss: 0.3293 - val_accuracy: 0.8584\n",
      "Epoch 3/3\n",
      "118857/118857 - 43s - loss: 0.2150 - accuracy: 0.9140 - val_loss: 0.3526 - val_accuracy: 0.8554\n",
      "Train on 118857 samples, validate on 29715 samples\n",
      "Epoch 1/3\n",
      "118857/118857 - 44s - loss: 0.3836 - accuracy: 0.8230 - val_loss: 0.3301 - val_accuracy: 0.8573\n",
      "Epoch 2/3\n",
      "118857/118857 - 43s - loss: 0.2826 - accuracy: 0.8817 - val_loss: 0.3266 - val_accuracy: 0.8597\n",
      "Epoch 3/3\n",
      "118857/118857 - 43s - loss: 0.2192 - accuracy: 0.9130 - val_loss: 0.3503 - val_accuracy: 0.8560\n",
      "Train on 118857 samples, validate on 29715 samples\n",
      "Epoch 1/3\n",
      "118857/118857 - 44s - loss: 0.3823 - accuracy: 0.8232 - val_loss: 0.3317 - val_accuracy: 0.8573\n",
      "Epoch 2/3\n",
      "118857/118857 - 43s - loss: 0.2814 - accuracy: 0.8826 - val_loss: 0.3290 - val_accuracy: 0.8607\n",
      "Epoch 3/3\n",
      "118857/118857 - 43s - loss: 0.2168 - accuracy: 0.9141 - val_loss: 0.3575 - val_accuracy: 0.8574\n"
     ]
    },
    {
     "output_type": "display_data",
     "data": {
      "text/plain": [
       "<IPython.core.display.HTML object>"
      ],
      "text/html": [
       "<span style=\"color:#4527A0\"><h1 style=\"font-size:18px\">Trial complete</h1></span>"
      ]
     },
     "metadata": {}
    },
    {
     "output_type": "display_data",
     "data": {
      "text/plain": [
       "<IPython.core.display.HTML object>"
      ],
      "text/html": [
       "<span style=\"color:#4527A0\"><h1 style=\"font-size:18px\">Trial summary</h1></span>"
      ]
     },
     "metadata": {}
    },
    {
     "output_type": "display_data",
     "data": {
      "text/plain": [
       "<IPython.core.display.HTML object>"
      ],
      "text/html": [
       "<span style=\"color:cyan\"> |-Trial ID: f96fa9cf5d1a3cb67d3aaf52093e4409</span>"
      ]
     },
     "metadata": {}
    },
    {
     "output_type": "display_data",
     "data": {
      "text/plain": [
       "<IPython.core.display.HTML object>"
      ],
      "text/html": [
       "<span style=\"color:cyan\"> |-Score: 0.8595389127731323</span>"
      ]
     },
     "metadata": {}
    },
    {
     "output_type": "display_data",
     "data": {
      "text/plain": [
       "<IPython.core.display.HTML object>"
      ],
      "text/html": [
       "<span style=\"color:cyan\"> |-Best step: 0</span>"
      ]
     },
     "metadata": {}
    },
    {
     "output_type": "display_data",
     "data": {
      "text/plain": [
       "<IPython.core.display.HTML object>"
      ],
      "text/html": [
       "<span style=\"color:#7E57C2\"><h2 style=\"font-size:16px\">Hyperparameters:</h2></span>"
      ]
     },
     "metadata": {}
    },
    {
     "output_type": "display_data",
     "data": {
      "text/plain": [
       "<IPython.core.display.HTML object>"
      ],
      "text/html": [
       "<span style=\"color:cyan\"> |-conv_blocks: 2</span>"
      ]
     },
     "metadata": {}
    },
    {
     "output_type": "display_data",
     "data": {
      "text/plain": [
       "<IPython.core.display.HTML object>"
      ],
      "text/html": [
       "<span style=\"color:blue\"> |-dropout1: 0.2</span>"
      ]
     },
     "metadata": {}
    },
    {
     "output_type": "display_data",
     "data": {
      "text/plain": [
       "<IPython.core.display.HTML object>"
      ],
      "text/html": [
       "<span style=\"color:cyan\"> |-dropout2: 0.30000000000000004</span>"
      ]
     },
     "metadata": {}
    },
    {
     "output_type": "display_data",
     "data": {
      "text/plain": [
       "<IPython.core.display.HTML object>"
      ],
      "text/html": [
       "<span style=\"color:blue\"> |-filters_0: 128</span>"
      ]
     },
     "metadata": {}
    },
    {
     "output_type": "display_data",
     "data": {
      "text/plain": [
       "<IPython.core.display.HTML object>"
      ],
      "text/html": [
       "<span style=\"color:cyan\"> |-filters_1: 32</span>"
      ]
     },
     "metadata": {}
    },
    {
     "output_type": "display_data",
     "data": {
      "text/plain": [
       "<IPython.core.display.HTML object>"
      ],
      "text/html": [
       "<span style=\"color:blue\"> |-filters_2: 256</span>"
      ]
     },
     "metadata": {}
    },
    {
     "output_type": "display_data",
     "data": {
      "text/plain": [
       "<IPython.core.display.HTML object>"
      ],
      "text/html": [
       "<span style=\"color:cyan\"> |-filters_3: 512</span>"
      ]
     },
     "metadata": {}
    },
    {
     "output_type": "display_data",
     "data": {
      "text/plain": [
       "<IPython.core.display.HTML object>"
      ],
      "text/html": [
       "<span style=\"color:blue\"> |-hidden_size: 128</span>"
      ]
     },
     "metadata": {}
    },
    {
     "output_type": "display_data",
     "data": {
      "text/plain": [
       "<IPython.core.display.HTML object>"
      ],
      "text/html": [
       "<span style=\"color:cyan\"> |-kernel_size_0: 3</span>"
      ]
     },
     "metadata": {}
    },
    {
     "output_type": "display_data",
     "data": {
      "text/plain": [
       "<IPython.core.display.HTML object>"
      ],
      "text/html": [
       "<span style=\"color:blue\"> |-kernel_size_1: 4</span>"
      ]
     },
     "metadata": {}
    },
    {
     "output_type": "display_data",
     "data": {
      "text/plain": [
       "<IPython.core.display.HTML object>"
      ],
      "text/html": [
       "<span style=\"color:cyan\"> |-kernel_size_2: 5</span>"
      ]
     },
     "metadata": {}
    },
    {
     "output_type": "display_data",
     "data": {
      "text/plain": [
       "<IPython.core.display.HTML object>"
      ],
      "text/html": [
       "<span style=\"color:blue\"> |-kernel_size_3: 4</span>"
      ]
     },
     "metadata": {}
    },
    {
     "output_type": "display_data",
     "data": {
      "text/plain": [
       "<IPython.core.display.HTML object>"
      ],
      "text/html": [
       "<span style=\"color:cyan\"> |-learning_rate: 0.0008266405111313584</span>"
      ]
     },
     "metadata": {}
    },
    {
     "output_type": "display_data",
     "data": {
      "text/plain": [
       "<IPython.core.display.HTML object>"
      ],
      "text/html": [
       "<span style=\"color:blue\"> |-optimizer_: adam</span>"
      ]
     },
     "metadata": {}
    },
    {
     "output_type": "display_data",
     "data": {
      "text/plain": [
       "<IPython.core.display.HTML object>"
      ],
      "text/html": [
       "<span style=\"color:cyan\"> |-pooling_0: max</span>"
      ]
     },
     "metadata": {}
    },
    {
     "output_type": "display_data",
     "data": {
      "text/plain": [
       "<IPython.core.display.HTML object>"
      ],
      "text/html": [
       "<span style=\"color:blue\"> |-pooling_1: global</span>"
      ]
     },
     "metadata": {}
    },
    {
     "output_type": "display_data",
     "data": {
      "text/plain": [
       "<IPython.core.display.HTML object>"
      ],
      "text/html": [
       "<span style=\"color:cyan\"> |-pooling_2: max</span>"
      ]
     },
     "metadata": {}
    },
    {
     "output_type": "display_data",
     "data": {
      "text/plain": [
       "<IPython.core.display.HTML object>"
      ],
      "text/html": [
       "<span style=\"color:blue\"> |-pooling_3: max</span>"
      ]
     },
     "metadata": {}
    },
    {
     "output_type": "display_data",
     "data": {
      "text/plain": [
       "<IPython.core.display.HTML object>"
      ],
      "text/html": [
       "<span style=\"color:cyan\"> |-tuner/bracket: 2</span>"
      ]
     },
     "metadata": {}
    },
    {
     "output_type": "display_data",
     "data": {
      "text/plain": [
       "<IPython.core.display.HTML object>"
      ],
      "text/html": [
       "<span style=\"color:blue\"> |-tuner/epochs: 3</span>"
      ]
     },
     "metadata": {}
    },
    {
     "output_type": "display_data",
     "data": {
      "text/plain": [
       "<IPython.core.display.HTML object>"
      ],
      "text/html": [
       "<span style=\"color:cyan\"> |-tuner/initial_epoch: 0</span>"
      ]
     },
     "metadata": {}
    },
    {
     "output_type": "display_data",
     "data": {
      "text/plain": [
       "<IPython.core.display.HTML object>"
      ],
      "text/html": [
       "<span style=\"color:blue\"> |-tuner/round: 0</span>"
      ]
     },
     "metadata": {}
    },
    {
     "output_type": "stream",
     "name": "stdout",
     "text": [
      "Train on 118857 samples, validate on 29715 samples\n",
      "Epoch 1/3\n",
      "118857/118857 - 46s - loss: 0.4108 - accuracy: 0.8081 - val_loss: 0.3478 - val_accuracy: 0.8488\n",
      "Epoch 2/3\n",
      "118857/118857 - 45s - loss: 0.2962 - accuracy: 0.8764 - val_loss: 0.3259 - val_accuracy: 0.8629\n",
      "Epoch 3/3\n",
      "118857/118857 - 45s - loss: 0.2334 - accuracy: 0.9081 - val_loss: 0.3598 - val_accuracy: 0.8499\n",
      "Train on 118857 samples, validate on 29715 samples\n",
      "Epoch 1/3\n",
      "118857/118857 - 46s - loss: 0.4108 - accuracy: 0.8089 - val_loss: 0.3422 - val_accuracy: 0.8532\n",
      "Epoch 2/3\n",
      "118857/118857 - 45s - loss: 0.2964 - accuracy: 0.8765 - val_loss: 0.3248 - val_accuracy: 0.8616\n",
      "Epoch 3/3\n",
      "118857/118857 - 45s - loss: 0.2333 - accuracy: 0.9085 - val_loss: 0.3407 - val_accuracy: 0.8566\n",
      "Train on 118857 samples, validate on 29715 samples\n",
      "Epoch 1/3\n",
      "118857/118857 - 46s - loss: 0.4124 - accuracy: 0.8050 - val_loss: 0.3400 - val_accuracy: 0.8552\n",
      "Epoch 2/3\n",
      "118857/118857 - 46s - loss: 0.2949 - accuracy: 0.8784 - val_loss: 0.3343 - val_accuracy: 0.8558\n",
      "Epoch 3/3\n",
      "118857/118857 - 45s - loss: 0.2332 - accuracy: 0.9090 - val_loss: 0.3298 - val_accuracy: 0.8647\n",
      "Train on 118857 samples, validate on 29715 samples\n",
      "Epoch 1/3\n",
      "118857/118857 - 46s - loss: 0.4127 - accuracy: 0.8046 - val_loss: 0.3419 - val_accuracy: 0.8544\n",
      "Epoch 2/3\n",
      "118857/118857 - 45s - loss: 0.2956 - accuracy: 0.8775 - val_loss: 0.3232 - val_accuracy: 0.8609\n",
      "Epoch 3/3\n",
      "118857/118857 - 46s - loss: 0.2314 - accuracy: 0.9097 - val_loss: 0.3277 - val_accuracy: 0.8664\n",
      "Train on 118857 samples, validate on 29715 samples\n",
      "Epoch 1/3\n",
      "118857/118857 - 47s - loss: 0.4118 - accuracy: 0.8064 - val_loss: 0.3400 - val_accuracy: 0.8541\n",
      "Epoch 2/3\n",
      "118857/118857 - 44s - loss: 0.2956 - accuracy: 0.8770 - val_loss: 0.3235 - val_accuracy: 0.8617\n",
      "Epoch 3/3\n",
      "118857/118857 - 45s - loss: 0.2315 - accuracy: 0.9096 - val_loss: 0.3353 - val_accuracy: 0.8644\n"
     ]
    },
    {
     "output_type": "display_data",
     "data": {
      "text/plain": [
       "<IPython.core.display.HTML object>"
      ],
      "text/html": [
       "<span style=\"color:#4527A0\"><h1 style=\"font-size:18px\">Trial complete</h1></span>"
      ]
     },
     "metadata": {}
    },
    {
     "output_type": "display_data",
     "data": {
      "text/plain": [
       "<IPython.core.display.HTML object>"
      ],
      "text/html": [
       "<span style=\"color:#4527A0\"><h1 style=\"font-size:18px\">Trial summary</h1></span>"
      ]
     },
     "metadata": {}
    },
    {
     "output_type": "display_data",
     "data": {
      "text/plain": [
       "<IPython.core.display.HTML object>"
      ],
      "text/html": [
       "<span style=\"color:cyan\"> |-Trial ID: c97c85bd749262134c7de99ca5ed30b0</span>"
      ]
     },
     "metadata": {}
    },
    {
     "output_type": "display_data",
     "data": {
      "text/plain": [
       "<IPython.core.display.HTML object>"
      ],
      "text/html": [
       "<span style=\"color:cyan\"> |-Score: 0.8640013933181763</span>"
      ]
     },
     "metadata": {}
    },
    {
     "output_type": "display_data",
     "data": {
      "text/plain": [
       "<IPython.core.display.HTML object>"
      ],
      "text/html": [
       "<span style=\"color:cyan\"> |-Best step: 0</span>"
      ]
     },
     "metadata": {}
    },
    {
     "output_type": "display_data",
     "data": {
      "text/plain": [
       "<IPython.core.display.HTML object>"
      ],
      "text/html": [
       "<span style=\"color:#7E57C2\"><h2 style=\"font-size:16px\">Hyperparameters:</h2></span>"
      ]
     },
     "metadata": {}
    },
    {
     "output_type": "display_data",
     "data": {
      "text/plain": [
       "<IPython.core.display.HTML object>"
      ],
      "text/html": [
       "<span style=\"color:cyan\"> |-conv_blocks: 3</span>"
      ]
     },
     "metadata": {}
    },
    {
     "output_type": "display_data",
     "data": {
      "text/plain": [
       "<IPython.core.display.HTML object>"
      ],
      "text/html": [
       "<span style=\"color:blue\"> |-dropout1: 0.0</span>"
      ]
     },
     "metadata": {}
    },
    {
     "output_type": "display_data",
     "data": {
      "text/plain": [
       "<IPython.core.display.HTML object>"
      ],
      "text/html": [
       "<span style=\"color:cyan\"> |-dropout2: 0.30000000000000004</span>"
      ]
     },
     "metadata": {}
    },
    {
     "output_type": "display_data",
     "data": {
      "text/plain": [
       "<IPython.core.display.HTML object>"
      ],
      "text/html": [
       "<span style=\"color:blue\"> |-filters_0: 512</span>"
      ]
     },
     "metadata": {}
    },
    {
     "output_type": "display_data",
     "data": {
      "text/plain": [
       "<IPython.core.display.HTML object>"
      ],
      "text/html": [
       "<span style=\"color:cyan\"> |-filters_1: 512</span>"
      ]
     },
     "metadata": {}
    },
    {
     "output_type": "display_data",
     "data": {
      "text/plain": [
       "<IPython.core.display.HTML object>"
      ],
      "text/html": [
       "<span style=\"color:blue\"> |-filters_2: 512</span>"
      ]
     },
     "metadata": {}
    },
    {
     "output_type": "display_data",
     "data": {
      "text/plain": [
       "<IPython.core.display.HTML object>"
      ],
      "text/html": [
       "<span style=\"color:cyan\"> |-filters_3: 32</span>"
      ]
     },
     "metadata": {}
    },
    {
     "output_type": "display_data",
     "data": {
      "text/plain": [
       "<IPython.core.display.HTML object>"
      ],
      "text/html": [
       "<span style=\"color:blue\"> |-hidden_size: 512</span>"
      ]
     },
     "metadata": {}
    },
    {
     "output_type": "display_data",
     "data": {
      "text/plain": [
       "<IPython.core.display.HTML object>"
      ],
      "text/html": [
       "<span style=\"color:cyan\"> |-kernel_size_0: 4</span>"
      ]
     },
     "metadata": {}
    },
    {
     "output_type": "display_data",
     "data": {
      "text/plain": [
       "<IPython.core.display.HTML object>"
      ],
      "text/html": [
       "<span style=\"color:blue\"> |-kernel_size_1: 4</span>"
      ]
     },
     "metadata": {}
    },
    {
     "output_type": "display_data",
     "data": {
      "text/plain": [
       "<IPython.core.display.HTML object>"
      ],
      "text/html": [
       "<span style=\"color:cyan\"> |-kernel_size_2: 5</span>"
      ]
     },
     "metadata": {}
    },
    {
     "output_type": "display_data",
     "data": {
      "text/plain": [
       "<IPython.core.display.HTML object>"
      ],
      "text/html": [
       "<span style=\"color:blue\"> |-kernel_size_3: 4</span>"
      ]
     },
     "metadata": {}
    },
    {
     "output_type": "display_data",
     "data": {
      "text/plain": [
       "<IPython.core.display.HTML object>"
      ],
      "text/html": [
       "<span style=\"color:cyan\"> |-learning_rate: 0.00013067896132503527</span>"
      ]
     },
     "metadata": {}
    },
    {
     "output_type": "display_data",
     "data": {
      "text/plain": [
       "<IPython.core.display.HTML object>"
      ],
      "text/html": [
       "<span style=\"color:blue\"> |-optimizer_: adam</span>"
      ]
     },
     "metadata": {}
    },
    {
     "output_type": "display_data",
     "data": {
      "text/plain": [
       "<IPython.core.display.HTML object>"
      ],
      "text/html": [
       "<span style=\"color:cyan\"> |-pooling_0: global</span>"
      ]
     },
     "metadata": {}
    },
    {
     "output_type": "display_data",
     "data": {
      "text/plain": [
       "<IPython.core.display.HTML object>"
      ],
      "text/html": [
       "<span style=\"color:blue\"> |-pooling_1: global</span>"
      ]
     },
     "metadata": {}
    },
    {
     "output_type": "display_data",
     "data": {
      "text/plain": [
       "<IPython.core.display.HTML object>"
      ],
      "text/html": [
       "<span style=\"color:cyan\"> |-pooling_2: global</span>"
      ]
     },
     "metadata": {}
    },
    {
     "output_type": "display_data",
     "data": {
      "text/plain": [
       "<IPython.core.display.HTML object>"
      ],
      "text/html": [
       "<span style=\"color:blue\"> |-pooling_3: max</span>"
      ]
     },
     "metadata": {}
    },
    {
     "output_type": "display_data",
     "data": {
      "text/plain": [
       "<IPython.core.display.HTML object>"
      ],
      "text/html": [
       "<span style=\"color:cyan\"> |-tuner/bracket: 2</span>"
      ]
     },
     "metadata": {}
    },
    {
     "output_type": "display_data",
     "data": {
      "text/plain": [
       "<IPython.core.display.HTML object>"
      ],
      "text/html": [
       "<span style=\"color:blue\"> |-tuner/epochs: 3</span>"
      ]
     },
     "metadata": {}
    },
    {
     "output_type": "display_data",
     "data": {
      "text/plain": [
       "<IPython.core.display.HTML object>"
      ],
      "text/html": [
       "<span style=\"color:cyan\"> |-tuner/initial_epoch: 0</span>"
      ]
     },
     "metadata": {}
    },
    {
     "output_type": "display_data",
     "data": {
      "text/plain": [
       "<IPython.core.display.HTML object>"
      ],
      "text/html": [
       "<span style=\"color:blue\"> |-tuner/round: 0</span>"
      ]
     },
     "metadata": {}
    },
    {
     "output_type": "stream",
     "name": "stdout",
     "text": [
      "Train on 118857 samples, validate on 29715 samples\n",
      "Epoch 1/3\n",
      "118857/118857 - 30s - loss: 0.5724 - accuracy: 0.7806 - val_loss: 0.4452 - val_accuracy: 0.8057\n",
      "Epoch 2/3\n",
      "118857/118857 - 29s - loss: 0.5372 - accuracy: 0.7517 - val_loss: 0.5726 - val_accuracy: 0.6443\n",
      "Epoch 3/3\n",
      "118857/118857 - 29s - loss: 0.5745 - accuracy: 0.7671 - val_loss: 1.1237 - val_accuracy: 0.5066\n",
      "Train on 118857 samples, validate on 29715 samples\n",
      "Epoch 1/3\n",
      "118857/118857 - 29s - loss: 0.5049 - accuracy: 0.7791 - val_loss: 0.4834 - val_accuracy: 0.7883\n",
      "Epoch 2/3\n",
      "118857/118857 - 28s - loss: 0.5378 - accuracy: 0.7662 - val_loss: 0.4943 - val_accuracy: 0.7831\n",
      "Epoch 3/3\n",
      "118857/118857 - 28s - loss: 0.5638 - accuracy: 0.7799 - val_loss: 0.5569 - val_accuracy: 0.7153\n",
      "Train on 118857 samples, validate on 29715 samples\n",
      "Epoch 1/3\n",
      "118857/118857 - 30s - loss: 0.5264 - accuracy: 0.7877 - val_loss: 1.1760 - val_accuracy: 0.5055\n",
      "Epoch 2/3\n",
      "118857/118857 - 29s - loss: 0.5021 - accuracy: 0.8037 - val_loss: 0.4953 - val_accuracy: 0.7658\n",
      "Epoch 3/3\n",
      "118857/118857 - 29s - loss: 0.5415 - accuracy: 0.7990 - val_loss: 0.4669 - val_accuracy: 0.8030\n",
      "Train on 118857 samples, validate on 29715 samples\n",
      "Epoch 1/3\n",
      "118857/118857 - 30s - loss: 0.4933 - accuracy: 0.7841 - val_loss: 0.4601 - val_accuracy: 0.7151\n",
      "Epoch 2/3\n",
      "118857/118857 - 29s - loss: 0.5055 - accuracy: 0.7783 - val_loss: 0.5730 - val_accuracy: 0.8257\n",
      "Epoch 3/3\n",
      "118857/118857 - 28s - loss: 0.5112 - accuracy: 0.8030 - val_loss: 0.5330 - val_accuracy: 0.8063\n",
      "Train on 118857 samples, validate on 29715 samples\n",
      "Epoch 1/3\n",
      "118857/118857 - 29s - loss: 0.5510 - accuracy: 0.7865 - val_loss: 0.5076 - val_accuracy: 0.7882\n",
      "Epoch 2/3\n",
      "118857/118857 - 28s - loss: 0.5414 - accuracy: 0.7764 - val_loss: 0.5107 - val_accuracy: 0.7705\n",
      "Epoch 3/3\n",
      "118857/118857 - 28s - loss: 0.6001 - accuracy: 0.7566 - val_loss: 0.5758 - val_accuracy: 0.7655\n"
     ]
    },
    {
     "output_type": "display_data",
     "data": {
      "text/plain": [
       "<IPython.core.display.HTML object>"
      ],
      "text/html": [
       "<span style=\"color:#4527A0\"><h1 style=\"font-size:18px\">Trial complete</h1></span>"
      ]
     },
     "metadata": {}
    },
    {
     "output_type": "display_data",
     "data": {
      "text/plain": [
       "<IPython.core.display.HTML object>"
      ],
      "text/html": [
       "<span style=\"color:#4527A0\"><h1 style=\"font-size:18px\">Trial summary</h1></span>"
      ]
     },
     "metadata": {}
    },
    {
     "output_type": "display_data",
     "data": {
      "text/plain": [
       "<IPython.core.display.HTML object>"
      ],
      "text/html": [
       "<span style=\"color:cyan\"> |-Trial ID: c027b863e88427662cc5b51412203929</span>"
      ]
     },
     "metadata": {}
    },
    {
     "output_type": "display_data",
     "data": {
      "text/plain": [
       "<IPython.core.display.HTML object>"
      ],
      "text/html": [
       "<span style=\"color:cyan\"> |-Score: 0.802187442779541</span>"
      ]
     },
     "metadata": {}
    },
    {
     "output_type": "display_data",
     "data": {
      "text/plain": [
       "<IPython.core.display.HTML object>"
      ],
      "text/html": [
       "<span style=\"color:cyan\"> |-Best step: 0</span>"
      ]
     },
     "metadata": {}
    },
    {
     "output_type": "display_data",
     "data": {
      "text/plain": [
       "<IPython.core.display.HTML object>"
      ],
      "text/html": [
       "<span style=\"color:#7E57C2\"><h2 style=\"font-size:16px\">Hyperparameters:</h2></span>"
      ]
     },
     "metadata": {}
    },
    {
     "output_type": "display_data",
     "data": {
      "text/plain": [
       "<IPython.core.display.HTML object>"
      ],
      "text/html": [
       "<span style=\"color:cyan\"> |-conv_blocks: 4</span>"
      ]
     },
     "metadata": {}
    },
    {
     "output_type": "display_data",
     "data": {
      "text/plain": [
       "<IPython.core.display.HTML object>"
      ],
      "text/html": [
       "<span style=\"color:blue\"> |-dropout1: 0.4</span>"
      ]
     },
     "metadata": {}
    },
    {
     "output_type": "display_data",
     "data": {
      "text/plain": [
       "<IPython.core.display.HTML object>"
      ],
      "text/html": [
       "<span style=\"color:cyan\"> |-dropout2: 0.0</span>"
      ]
     },
     "metadata": {}
    },
    {
     "output_type": "display_data",
     "data": {
      "text/plain": [
       "<IPython.core.display.HTML object>"
      ],
      "text/html": [
       "<span style=\"color:blue\"> |-filters_0: 256</span>"
      ]
     },
     "metadata": {}
    },
    {
     "output_type": "display_data",
     "data": {
      "text/plain": [
       "<IPython.core.display.HTML object>"
      ],
      "text/html": [
       "<span style=\"color:cyan\"> |-filters_1: 128</span>"
      ]
     },
     "metadata": {}
    },
    {
     "output_type": "display_data",
     "data": {
      "text/plain": [
       "<IPython.core.display.HTML object>"
      ],
      "text/html": [
       "<span style=\"color:blue\"> |-filters_2: 32</span>"
      ]
     },
     "metadata": {}
    },
    {
     "output_type": "display_data",
     "data": {
      "text/plain": [
       "<IPython.core.display.HTML object>"
      ],
      "text/html": [
       "<span style=\"color:cyan\"> |-filters_3: 256</span>"
      ]
     },
     "metadata": {}
    },
    {
     "output_type": "display_data",
     "data": {
      "text/plain": [
       "<IPython.core.display.HTML object>"
      ],
      "text/html": [
       "<span style=\"color:blue\"> |-hidden_size: 32</span>"
      ]
     },
     "metadata": {}
    },
    {
     "output_type": "display_data",
     "data": {
      "text/plain": [
       "<IPython.core.display.HTML object>"
      ],
      "text/html": [
       "<span style=\"color:cyan\"> |-kernel_size_0: 5</span>"
      ]
     },
     "metadata": {}
    },
    {
     "output_type": "display_data",
     "data": {
      "text/plain": [
       "<IPython.core.display.HTML object>"
      ],
      "text/html": [
       "<span style=\"color:blue\"> |-kernel_size_1: 5</span>"
      ]
     },
     "metadata": {}
    },
    {
     "output_type": "display_data",
     "data": {
      "text/plain": [
       "<IPython.core.display.HTML object>"
      ],
      "text/html": [
       "<span style=\"color:cyan\"> |-kernel_size_2: 5</span>"
      ]
     },
     "metadata": {}
    },
    {
     "output_type": "display_data",
     "data": {
      "text/plain": [
       "<IPython.core.display.HTML object>"
      ],
      "text/html": [
       "<span style=\"color:blue\"> |-kernel_size_3: 3</span>"
      ]
     },
     "metadata": {}
    },
    {
     "output_type": "display_data",
     "data": {
      "text/plain": [
       "<IPython.core.display.HTML object>"
      ],
      "text/html": [
       "<span style=\"color:cyan\"> |-learning_rate: 0.015062788883686472</span>"
      ]
     },
     "metadata": {}
    },
    {
     "output_type": "display_data",
     "data": {
      "text/plain": [
       "<IPython.core.display.HTML object>"
      ],
      "text/html": [
       "<span style=\"color:blue\"> |-optimizer_: rmsprop</span>"
      ]
     },
     "metadata": {}
    },
    {
     "output_type": "display_data",
     "data": {
      "text/plain": [
       "<IPython.core.display.HTML object>"
      ],
      "text/html": [
       "<span style=\"color:cyan\"> |-pooling_0: max</span>"
      ]
     },
     "metadata": {}
    },
    {
     "output_type": "display_data",
     "data": {
      "text/plain": [
       "<IPython.core.display.HTML object>"
      ],
      "text/html": [
       "<span style=\"color:blue\"> |-pooling_1: global</span>"
      ]
     },
     "metadata": {}
    },
    {
     "output_type": "display_data",
     "data": {
      "text/plain": [
       "<IPython.core.display.HTML object>"
      ],
      "text/html": [
       "<span style=\"color:cyan\"> |-pooling_2: max</span>"
      ]
     },
     "metadata": {}
    },
    {
     "output_type": "display_data",
     "data": {
      "text/plain": [
       "<IPython.core.display.HTML object>"
      ],
      "text/html": [
       "<span style=\"color:blue\"> |-pooling_3: max</span>"
      ]
     },
     "metadata": {}
    },
    {
     "output_type": "display_data",
     "data": {
      "text/plain": [
       "<IPython.core.display.HTML object>"
      ],
      "text/html": [
       "<span style=\"color:cyan\"> |-tuner/bracket: 2</span>"
      ]
     },
     "metadata": {}
    },
    {
     "output_type": "display_data",
     "data": {
      "text/plain": [
       "<IPython.core.display.HTML object>"
      ],
      "text/html": [
       "<span style=\"color:blue\"> |-tuner/epochs: 3</span>"
      ]
     },
     "metadata": {}
    },
    {
     "output_type": "display_data",
     "data": {
      "text/plain": [
       "<IPython.core.display.HTML object>"
      ],
      "text/html": [
       "<span style=\"color:cyan\"> |-tuner/initial_epoch: 0</span>"
      ]
     },
     "metadata": {}
    },
    {
     "output_type": "display_data",
     "data": {
      "text/plain": [
       "<IPython.core.display.HTML object>"
      ],
      "text/html": [
       "<span style=\"color:blue\"> |-tuner/round: 0</span>"
      ]
     },
     "metadata": {}
    },
    {
     "output_type": "stream",
     "name": "stdout",
     "text": [
      "Train on 118857 samples, validate on 29715 samples\n",
      "Epoch 1/3\n",
      "118857/118857 - 28s - loss: 0.6101 - accuracy: 0.7447 - val_loss: 0.7354 - val_accuracy: 0.7934\n",
      "Epoch 2/3\n",
      "118857/118857 - 27s - loss: 0.6277 - accuracy: 0.7213 - val_loss: 0.5480 - val_accuracy: 0.7980\n",
      "Epoch 3/3\n",
      "118857/118857 - 27s - loss: 0.6075 - accuracy: 0.7573 - val_loss: 0.5036 - val_accuracy: 0.7779\n",
      "Train on 118857 samples, validate on 29715 samples\n",
      "Epoch 1/3\n",
      "118857/118857 - 28s - loss: 0.5704 - accuracy: 0.7663 - val_loss: 1.7628 - val_accuracy: 0.5054\n",
      "Epoch 2/3\n",
      "118857/118857 - 27s - loss: 0.5577 - accuracy: 0.7770 - val_loss: 0.5167 - val_accuracy: 0.8066\n",
      "Epoch 3/3\n",
      "118857/118857 - 27s - loss: 0.5660 - accuracy: 0.7799 - val_loss: 0.6588 - val_accuracy: 0.8123\n",
      "Train on 118857 samples, validate on 29715 samples\n",
      "Epoch 1/3\n",
      "118857/118857 - 28s - loss: 0.5656 - accuracy: 0.7554 - val_loss: 0.6053 - val_accuracy: 0.7355\n",
      "Epoch 2/3\n",
      "118857/118857 - 27s - loss: 0.6022 - accuracy: 0.7347 - val_loss: 0.5572 - val_accuracy: 0.8102\n",
      "Epoch 3/3\n",
      "118857/118857 - 28s - loss: 0.5862 - accuracy: 0.7582 - val_loss: 0.4904 - val_accuracy: 0.7964\n",
      "Train on 118857 samples, validate on 29715 samples\n",
      "Epoch 1/3\n",
      "118857/118857 - 29s - loss: 0.5722 - accuracy: 0.7601 - val_loss: 0.8390 - val_accuracy: 0.5103\n",
      "Epoch 2/3\n",
      "118857/118857 - 28s - loss: 0.5415 - accuracy: 0.7884 - val_loss: 0.5868 - val_accuracy: 0.6707\n",
      "Epoch 3/3\n",
      "118857/118857 - 27s - loss: 0.5363 - accuracy: 0.7946 - val_loss: 0.5986 - val_accuracy: 0.6857\n",
      "Train on 118857 samples, validate on 29715 samples\n",
      "Epoch 1/3\n",
      "118857/118857 - 29s - loss: 0.5923 - accuracy: 0.7472 - val_loss: 0.4690 - val_accuracy: 0.7875\n",
      "Epoch 2/3\n",
      "118857/118857 - 28s - loss: 0.5691 - accuracy: 0.7570 - val_loss: 0.4665 - val_accuracy: 0.7769\n",
      "Epoch 3/3\n",
      "118857/118857 - 27s - loss: 0.5936 - accuracy: 0.7413 - val_loss: 0.5523 - val_accuracy: 0.7876\n"
     ]
    },
    {
     "output_type": "display_data",
     "data": {
      "text/plain": [
       "<IPython.core.display.HTML object>"
      ],
      "text/html": [
       "<span style=\"color:#4527A0\"><h1 style=\"font-size:18px\">Trial complete</h1></span>"
      ]
     },
     "metadata": {}
    },
    {
     "output_type": "display_data",
     "data": {
      "text/plain": [
       "<IPython.core.display.HTML object>"
      ],
      "text/html": [
       "<span style=\"color:#4527A0\"><h1 style=\"font-size:18px\">Trial summary</h1></span>"
      ]
     },
     "metadata": {}
    },
    {
     "output_type": "display_data",
     "data": {
      "text/plain": [
       "<IPython.core.display.HTML object>"
      ],
      "text/html": [
       "<span style=\"color:cyan\"> |-Trial ID: 495a86ddd776b3074ffb3ed8e2d86e8e</span>"
      ]
     },
     "metadata": {}
    },
    {
     "output_type": "display_data",
     "data": {
      "text/plain": [
       "<IPython.core.display.HTML object>"
      ],
      "text/html": [
       "<span style=\"color:cyan\"> |-Score: 0.77875816822052</span>"
      ]
     },
     "metadata": {}
    },
    {
     "output_type": "display_data",
     "data": {
      "text/plain": [
       "<IPython.core.display.HTML object>"
      ],
      "text/html": [
       "<span style=\"color:cyan\"> |-Best step: 0</span>"
      ]
     },
     "metadata": {}
    },
    {
     "output_type": "display_data",
     "data": {
      "text/plain": [
       "<IPython.core.display.HTML object>"
      ],
      "text/html": [
       "<span style=\"color:#7E57C2\"><h2 style=\"font-size:16px\">Hyperparameters:</h2></span>"
      ]
     },
     "metadata": {}
    },
    {
     "output_type": "display_data",
     "data": {
      "text/plain": [
       "<IPython.core.display.HTML object>"
      ],
      "text/html": [
       "<span style=\"color:cyan\"> |-conv_blocks: 2</span>"
      ]
     },
     "metadata": {}
    },
    {
     "output_type": "display_data",
     "data": {
      "text/plain": [
       "<IPython.core.display.HTML object>"
      ],
      "text/html": [
       "<span style=\"color:blue\"> |-dropout1: 0.1</span>"
      ]
     },
     "metadata": {}
    },
    {
     "output_type": "display_data",
     "data": {
      "text/plain": [
       "<IPython.core.display.HTML object>"
      ],
      "text/html": [
       "<span style=\"color:cyan\"> |-dropout2: 0.1</span>"
      ]
     },
     "metadata": {}
    },
    {
     "output_type": "display_data",
     "data": {
      "text/plain": [
       "<IPython.core.display.HTML object>"
      ],
      "text/html": [
       "<span style=\"color:blue\"> |-filters_0: 32</span>"
      ]
     },
     "metadata": {}
    },
    {
     "output_type": "display_data",
     "data": {
      "text/plain": [
       "<IPython.core.display.HTML object>"
      ],
      "text/html": [
       "<span style=\"color:cyan\"> |-filters_1: 128</span>"
      ]
     },
     "metadata": {}
    },
    {
     "output_type": "display_data",
     "data": {
      "text/plain": [
       "<IPython.core.display.HTML object>"
      ],
      "text/html": [
       "<span style=\"color:blue\"> |-filters_2: 64</span>"
      ]
     },
     "metadata": {}
    },
    {
     "output_type": "display_data",
     "data": {
      "text/plain": [
       "<IPython.core.display.HTML object>"
      ],
      "text/html": [
       "<span style=\"color:cyan\"> |-filters_3: 256</span>"
      ]
     },
     "metadata": {}
    },
    {
     "output_type": "display_data",
     "data": {
      "text/plain": [
       "<IPython.core.display.HTML object>"
      ],
      "text/html": [
       "<span style=\"color:blue\"> |-hidden_size: 32</span>"
      ]
     },
     "metadata": {}
    },
    {
     "output_type": "display_data",
     "data": {
      "text/plain": [
       "<IPython.core.display.HTML object>"
      ],
      "text/html": [
       "<span style=\"color:cyan\"> |-kernel_size_0: 3</span>"
      ]
     },
     "metadata": {}
    },
    {
     "output_type": "display_data",
     "data": {
      "text/plain": [
       "<IPython.core.display.HTML object>"
      ],
      "text/html": [
       "<span style=\"color:blue\"> |-kernel_size_1: 5</span>"
      ]
     },
     "metadata": {}
    },
    {
     "output_type": "display_data",
     "data": {
      "text/plain": [
       "<IPython.core.display.HTML object>"
      ],
      "text/html": [
       "<span style=\"color:cyan\"> |-kernel_size_2: 4</span>"
      ]
     },
     "metadata": {}
    },
    {
     "output_type": "display_data",
     "data": {
      "text/plain": [
       "<IPython.core.display.HTML object>"
      ],
      "text/html": [
       "<span style=\"color:blue\"> |-kernel_size_3: 5</span>"
      ]
     },
     "metadata": {}
    },
    {
     "output_type": "display_data",
     "data": {
      "text/plain": [
       "<IPython.core.display.HTML object>"
      ],
      "text/html": [
       "<span style=\"color:cyan\"> |-learning_rate: 0.032728543913174105</span>"
      ]
     },
     "metadata": {}
    },
    {
     "output_type": "display_data",
     "data": {
      "text/plain": [
       "<IPython.core.display.HTML object>"
      ],
      "text/html": [
       "<span style=\"color:blue\"> |-optimizer_: rmsprop</span>"
      ]
     },
     "metadata": {}
    },
    {
     "output_type": "display_data",
     "data": {
      "text/plain": [
       "<IPython.core.display.HTML object>"
      ],
      "text/html": [
       "<span style=\"color:cyan\"> |-pooling_0: global</span>"
      ]
     },
     "metadata": {}
    },
    {
     "output_type": "display_data",
     "data": {
      "text/plain": [
       "<IPython.core.display.HTML object>"
      ],
      "text/html": [
       "<span style=\"color:blue\"> |-pooling_1: global</span>"
      ]
     },
     "metadata": {}
    },
    {
     "output_type": "display_data",
     "data": {
      "text/plain": [
       "<IPython.core.display.HTML object>"
      ],
      "text/html": [
       "<span style=\"color:cyan\"> |-pooling_2: max</span>"
      ]
     },
     "metadata": {}
    },
    {
     "output_type": "display_data",
     "data": {
      "text/plain": [
       "<IPython.core.display.HTML object>"
      ],
      "text/html": [
       "<span style=\"color:blue\"> |-pooling_3: global</span>"
      ]
     },
     "metadata": {}
    },
    {
     "output_type": "display_data",
     "data": {
      "text/plain": [
       "<IPython.core.display.HTML object>"
      ],
      "text/html": [
       "<span style=\"color:cyan\"> |-tuner/bracket: 2</span>"
      ]
     },
     "metadata": {}
    },
    {
     "output_type": "display_data",
     "data": {
      "text/plain": [
       "<IPython.core.display.HTML object>"
      ],
      "text/html": [
       "<span style=\"color:blue\"> |-tuner/epochs: 3</span>"
      ]
     },
     "metadata": {}
    },
    {
     "output_type": "display_data",
     "data": {
      "text/plain": [
       "<IPython.core.display.HTML object>"
      ],
      "text/html": [
       "<span style=\"color:cyan\"> |-tuner/initial_epoch: 0</span>"
      ]
     },
     "metadata": {}
    },
    {
     "output_type": "display_data",
     "data": {
      "text/plain": [
       "<IPython.core.display.HTML object>"
      ],
      "text/html": [
       "<span style=\"color:blue\"> |-tuner/round: 0</span>"
      ]
     },
     "metadata": {}
    },
    {
     "output_type": "stream",
     "name": "stdout",
     "text": [
      "Train on 118857 samples, validate on 29715 samples\n",
      "Epoch 4/7\n",
      "118857/118857 - 46s - loss: 0.4113 - accuracy: 0.8074 - val_loss: 0.3393 - val_accuracy: 0.8537\n",
      "Epoch 5/7\n",
      "118857/118857 - 45s - loss: 0.2939 - accuracy: 0.8784 - val_loss: 0.3245 - val_accuracy: 0.8628\n",
      "Epoch 6/7\n",
      "118857/118857 - 44s - loss: 0.2286 - accuracy: 0.9117 - val_loss: 0.3287 - val_accuracy: 0.8647\n",
      "Epoch 7/7\n",
      "118857/118857 - 46s - loss: 0.1640 - accuracy: 0.9406 - val_loss: 0.3621 - val_accuracy: 0.8634\n",
      "Train on 118857 samples, validate on 29715 samples\n",
      "Epoch 4/7\n",
      "118857/118857 - 47s - loss: 0.4134 - accuracy: 0.8053 - val_loss: 0.3422 - val_accuracy: 0.8527\n",
      "Epoch 5/7\n",
      "118857/118857 - 47s - loss: 0.2979 - accuracy: 0.8762 - val_loss: 0.3277 - val_accuracy: 0.8599\n",
      "Epoch 6/7\n",
      "118857/118857 - 46s - loss: 0.2340 - accuracy: 0.9086 - val_loss: 0.3346 - val_accuracy: 0.8616\n",
      "Epoch 7/7\n",
      "118857/118857 - 45s - loss: 0.1694 - accuracy: 0.9373 - val_loss: 0.3572 - val_accuracy: 0.8611\n",
      "Train on 118857 samples, validate on 29715 samples\n",
      "Epoch 4/7\n",
      "118857/118857 - 46s - loss: 0.4115 - accuracy: 0.8072 - val_loss: 0.3422 - val_accuracy: 0.8523\n",
      "Epoch 5/7\n",
      "118857/118857 - 46s - loss: 0.2966 - accuracy: 0.8765 - val_loss: 0.3269 - val_accuracy: 0.8601\n",
      "Epoch 6/7\n",
      "118857/118857 - 44s - loss: 0.2329 - accuracy: 0.9085 - val_loss: 0.3283 - val_accuracy: 0.8638\n",
      "Epoch 7/7\n",
      "118857/118857 - 44s - loss: 0.1674 - accuracy: 0.9393 - val_loss: 0.3664 - val_accuracy: 0.8596\n",
      "Train on 118857 samples, validate on 29715 samples\n",
      "Epoch 4/7\n",
      "118857/118857 - 45s - loss: 0.4120 - accuracy: 0.8054 - val_loss: 0.3418 - val_accuracy: 0.8530\n",
      "Epoch 5/7\n",
      "118857/118857 - 46s - loss: 0.2959 - accuracy: 0.8769 - val_loss: 0.3270 - val_accuracy: 0.8604\n",
      "Epoch 6/7\n",
      "118857/118857 - 45s - loss: 0.2321 - accuracy: 0.9094 - val_loss: 0.3311 - val_accuracy: 0.8643\n",
      "Epoch 7/7\n",
      "118857/118857 - 46s - loss: 0.1674 - accuracy: 0.9384 - val_loss: 0.3590 - val_accuracy: 0.8613\n",
      "Train on 118857 samples, validate on 29715 samples\n",
      "Epoch 4/7\n",
      "118857/118857 - 45s - loss: 0.4132 - accuracy: 0.8052 - val_loss: 0.3428 - val_accuracy: 0.8508\n",
      "Epoch 5/7\n",
      "118857/118857 - 45s - loss: 0.2961 - accuracy: 0.8770 - val_loss: 0.3259 - val_accuracy: 0.8621\n",
      "Epoch 6/7\n",
      "118857/118857 - 44s - loss: 0.2323 - accuracy: 0.9085 - val_loss: 0.3326 - val_accuracy: 0.8643\n",
      "Epoch 7/7\n",
      "118857/118857 - 45s - loss: 0.1692 - accuracy: 0.9381 - val_loss: 0.3569 - val_accuracy: 0.8611\n"
     ]
    },
    {
     "output_type": "display_data",
     "data": {
      "text/plain": [
       "<IPython.core.display.HTML object>"
      ],
      "text/html": [
       "<span style=\"color:#4527A0\"><h1 style=\"font-size:18px\">Trial complete</h1></span>"
      ]
     },
     "metadata": {}
    },
    {
     "output_type": "display_data",
     "data": {
      "text/plain": [
       "<IPython.core.display.HTML object>"
      ],
      "text/html": [
       "<span style=\"color:#4527A0\"><h1 style=\"font-size:18px\">Trial summary</h1></span>"
      ]
     },
     "metadata": {}
    },
    {
     "output_type": "display_data",
     "data": {
      "text/plain": [
       "<IPython.core.display.HTML object>"
      ],
      "text/html": [
       "<span style=\"color:cyan\"> |-Trial ID: 023d07319db9c8a19c075ae33c6fd3b7</span>"
      ]
     },
     "metadata": {}
    },
    {
     "output_type": "display_data",
     "data": {
      "text/plain": [
       "<IPython.core.display.HTML object>"
      ],
      "text/html": [
       "<span style=\"color:cyan\"> |-Score: 0.8637321591377258</span>"
      ]
     },
     "metadata": {}
    },
    {
     "output_type": "display_data",
     "data": {
      "text/plain": [
       "<IPython.core.display.HTML object>"
      ],
      "text/html": [
       "<span style=\"color:cyan\"> |-Best step: 0</span>"
      ]
     },
     "metadata": {}
    },
    {
     "output_type": "display_data",
     "data": {
      "text/plain": [
       "<IPython.core.display.HTML object>"
      ],
      "text/html": [
       "<span style=\"color:#7E57C2\"><h2 style=\"font-size:16px\">Hyperparameters:</h2></span>"
      ]
     },
     "metadata": {}
    },
    {
     "output_type": "display_data",
     "data": {
      "text/plain": [
       "<IPython.core.display.HTML object>"
      ],
      "text/html": [
       "<span style=\"color:cyan\"> |-conv_blocks: 3</span>"
      ]
     },
     "metadata": {}
    },
    {
     "output_type": "display_data",
     "data": {
      "text/plain": [
       "<IPython.core.display.HTML object>"
      ],
      "text/html": [
       "<span style=\"color:blue\"> |-dropout1: 0.0</span>"
      ]
     },
     "metadata": {}
    },
    {
     "output_type": "display_data",
     "data": {
      "text/plain": [
       "<IPython.core.display.HTML object>"
      ],
      "text/html": [
       "<span style=\"color:cyan\"> |-dropout2: 0.30000000000000004</span>"
      ]
     },
     "metadata": {}
    },
    {
     "output_type": "display_data",
     "data": {
      "text/plain": [
       "<IPython.core.display.HTML object>"
      ],
      "text/html": [
       "<span style=\"color:blue\"> |-filters_0: 512</span>"
      ]
     },
     "metadata": {}
    },
    {
     "output_type": "display_data",
     "data": {
      "text/plain": [
       "<IPython.core.display.HTML object>"
      ],
      "text/html": [
       "<span style=\"color:cyan\"> |-filters_1: 512</span>"
      ]
     },
     "metadata": {}
    },
    {
     "output_type": "display_data",
     "data": {
      "text/plain": [
       "<IPython.core.display.HTML object>"
      ],
      "text/html": [
       "<span style=\"color:blue\"> |-filters_2: 512</span>"
      ]
     },
     "metadata": {}
    },
    {
     "output_type": "display_data",
     "data": {
      "text/plain": [
       "<IPython.core.display.HTML object>"
      ],
      "text/html": [
       "<span style=\"color:cyan\"> |-filters_3: 32</span>"
      ]
     },
     "metadata": {}
    },
    {
     "output_type": "display_data",
     "data": {
      "text/plain": [
       "<IPython.core.display.HTML object>"
      ],
      "text/html": [
       "<span style=\"color:blue\"> |-hidden_size: 512</span>"
      ]
     },
     "metadata": {}
    },
    {
     "output_type": "display_data",
     "data": {
      "text/plain": [
       "<IPython.core.display.HTML object>"
      ],
      "text/html": [
       "<span style=\"color:cyan\"> |-kernel_size_0: 4</span>"
      ]
     },
     "metadata": {}
    },
    {
     "output_type": "display_data",
     "data": {
      "text/plain": [
       "<IPython.core.display.HTML object>"
      ],
      "text/html": [
       "<span style=\"color:blue\"> |-kernel_size_1: 4</span>"
      ]
     },
     "metadata": {}
    },
    {
     "output_type": "display_data",
     "data": {
      "text/plain": [
       "<IPython.core.display.HTML object>"
      ],
      "text/html": [
       "<span style=\"color:cyan\"> |-kernel_size_2: 5</span>"
      ]
     },
     "metadata": {}
    },
    {
     "output_type": "display_data",
     "data": {
      "text/plain": [
       "<IPython.core.display.HTML object>"
      ],
      "text/html": [
       "<span style=\"color:blue\"> |-kernel_size_3: 4</span>"
      ]
     },
     "metadata": {}
    },
    {
     "output_type": "display_data",
     "data": {
      "text/plain": [
       "<IPython.core.display.HTML object>"
      ],
      "text/html": [
       "<span style=\"color:cyan\"> |-learning_rate: 0.00013067896132503527</span>"
      ]
     },
     "metadata": {}
    },
    {
     "output_type": "display_data",
     "data": {
      "text/plain": [
       "<IPython.core.display.HTML object>"
      ],
      "text/html": [
       "<span style=\"color:blue\"> |-optimizer_: adam</span>"
      ]
     },
     "metadata": {}
    },
    {
     "output_type": "display_data",
     "data": {
      "text/plain": [
       "<IPython.core.display.HTML object>"
      ],
      "text/html": [
       "<span style=\"color:cyan\"> |-pooling_0: global</span>"
      ]
     },
     "metadata": {}
    },
    {
     "output_type": "display_data",
     "data": {
      "text/plain": [
       "<IPython.core.display.HTML object>"
      ],
      "text/html": [
       "<span style=\"color:blue\"> |-pooling_1: global</span>"
      ]
     },
     "metadata": {}
    },
    {
     "output_type": "display_data",
     "data": {
      "text/plain": [
       "<IPython.core.display.HTML object>"
      ],
      "text/html": [
       "<span style=\"color:cyan\"> |-pooling_2: global</span>"
      ]
     },
     "metadata": {}
    },
    {
     "output_type": "display_data",
     "data": {
      "text/plain": [
       "<IPython.core.display.HTML object>"
      ],
      "text/html": [
       "<span style=\"color:blue\"> |-pooling_3: max</span>"
      ]
     },
     "metadata": {}
    },
    {
     "output_type": "display_data",
     "data": {
      "text/plain": [
       "<IPython.core.display.HTML object>"
      ],
      "text/html": [
       "<span style=\"color:cyan\"> |-tuner/bracket: 2</span>"
      ]
     },
     "metadata": {}
    },
    {
     "output_type": "display_data",
     "data": {
      "text/plain": [
       "<IPython.core.display.HTML object>"
      ],
      "text/html": [
       "<span style=\"color:blue\"> |-tuner/epochs: 7</span>"
      ]
     },
     "metadata": {}
    },
    {
     "output_type": "display_data",
     "data": {
      "text/plain": [
       "<IPython.core.display.HTML object>"
      ],
      "text/html": [
       "<span style=\"color:cyan\"> |-tuner/initial_epoch: 3</span>"
      ]
     },
     "metadata": {}
    },
    {
     "output_type": "display_data",
     "data": {
      "text/plain": [
       "<IPython.core.display.HTML object>"
      ],
      "text/html": [
       "<span style=\"color:blue\"> |-tuner/round: 1</span>"
      ]
     },
     "metadata": {}
    },
    {
     "output_type": "display_data",
     "data": {
      "text/plain": [
       "<IPython.core.display.HTML object>"
      ],
      "text/html": [
       "<span style=\"color:cyan\"> |-tuner/trial_id: c97c85bd749262134c7de99ca5ed30b0</span>"
      ]
     },
     "metadata": {}
    },
    {
     "output_type": "stream",
     "name": "stdout",
     "text": [
      "Train on 118857 samples, validate on 29715 samples\n",
      "Epoch 4/7\n",
      "118857/118857 - 44s - loss: 0.3791 - accuracy: 0.8252 - val_loss: 0.3260 - val_accuracy: 0.8578\n",
      "Epoch 5/7\n",
      "118857/118857 - 43s - loss: 0.2650 - accuracy: 0.8917 - val_loss: 0.3251 - val_accuracy: 0.8612\n",
      "Epoch 6/7\n",
      "118857/118857 - 44s - loss: 0.1801 - accuracy: 0.9317 - val_loss: 0.3705 - val_accuracy: 0.8525\n",
      "Epoch 7/7\n",
      "118857/118857 - 44s - loss: 0.1123 - accuracy: 0.9601 - val_loss: 0.4251 - val_accuracy: 0.8476\n",
      "Train on 118857 samples, validate on 29715 samples\n",
      "Epoch 4/7\n",
      "118857/118857 - 44s - loss: 0.3820 - accuracy: 0.8233 - val_loss: 0.3290 - val_accuracy: 0.8586\n",
      "Epoch 5/7\n",
      "118857/118857 - 43s - loss: 0.2669 - accuracy: 0.8909 - val_loss: 0.3207 - val_accuracy: 0.8638\n",
      "Epoch 6/7\n",
      "118857/118857 - 43s - loss: 0.1829 - accuracy: 0.9309 - val_loss: 0.3637 - val_accuracy: 0.8564\n",
      "Epoch 7/7\n",
      "118857/118857 - 43s - loss: 0.1158 - accuracy: 0.9589 - val_loss: 0.4492 - val_accuracy: 0.8471\n",
      "Train on 118857 samples, validate on 29715 samples\n",
      "Epoch 4/7\n",
      "118857/118857 - 45s - loss: 0.3811 - accuracy: 0.8235 - val_loss: 0.3236 - val_accuracy: 0.8612\n",
      "Epoch 5/7\n",
      "118857/118857 - 43s - loss: 0.2648 - accuracy: 0.8917 - val_loss: 0.3199 - val_accuracy: 0.8650\n",
      "Epoch 6/7\n",
      "118857/118857 - 43s - loss: 0.1797 - accuracy: 0.9314 - val_loss: 0.3716 - val_accuracy: 0.8555\n",
      "Epoch 7/7\n",
      "118857/118857 - 44s - loss: 0.1133 - accuracy: 0.9599 - val_loss: 0.4129 - val_accuracy: 0.8551\n",
      "Train on 118857 samples, validate on 29715 samples\n",
      "Epoch 4/7\n",
      "118857/118857 - 44s - loss: 0.3785 - accuracy: 0.8248 - val_loss: 0.3277 - val_accuracy: 0.8602\n",
      "Epoch 5/7\n",
      "118857/118857 - 45s - loss: 0.2649 - accuracy: 0.8906 - val_loss: 0.3212 - val_accuracy: 0.8640\n",
      "Epoch 6/7\n",
      "118857/118857 - 44s - loss: 0.1771 - accuracy: 0.9329 - val_loss: 0.3685 - val_accuracy: 0.8555\n",
      "Epoch 7/7\n",
      "118857/118857 - 44s - loss: 0.1105 - accuracy: 0.9607 - val_loss: 0.4412 - val_accuracy: 0.8515\n",
      "Train on 118857 samples, validate on 29715 samples\n",
      "Epoch 4/7\n",
      "118857/118857 - 44s - loss: 0.3820 - accuracy: 0.8220 - val_loss: 0.3248 - val_accuracy: 0.8614\n",
      "Epoch 5/7\n",
      "118857/118857 - 44s - loss: 0.2664 - accuracy: 0.8909 - val_loss: 0.3202 - val_accuracy: 0.8637\n",
      "Epoch 6/7\n",
      "118857/118857 - 44s - loss: 0.1818 - accuracy: 0.9314 - val_loss: 0.3641 - val_accuracy: 0.8571\n",
      "Epoch 7/7\n",
      "118857/118857 - 44s - loss: 0.1125 - accuracy: 0.9597 - val_loss: 0.4512 - val_accuracy: 0.8541\n"
     ]
    },
    {
     "output_type": "display_data",
     "data": {
      "text/plain": [
       "<IPython.core.display.HTML object>"
      ],
      "text/html": [
       "<span style=\"color:#4527A0\"><h1 style=\"font-size:18px\">Trial complete</h1></span>"
      ]
     },
     "metadata": {}
    },
    {
     "output_type": "display_data",
     "data": {
      "text/plain": [
       "<IPython.core.display.HTML object>"
      ],
      "text/html": [
       "<span style=\"color:#4527A0\"><h1 style=\"font-size:18px\">Trial summary</h1></span>"
      ]
     },
     "metadata": {}
    },
    {
     "output_type": "display_data",
     "data": {
      "text/plain": [
       "<IPython.core.display.HTML object>"
      ],
      "text/html": [
       "<span style=\"color:cyan\"> |-Trial ID: f5b2b8c1f59e3c1807be3180540b60ae</span>"
      ]
     },
     "metadata": {}
    },
    {
     "output_type": "display_data",
     "data": {
      "text/plain": [
       "<IPython.core.display.HTML object>"
      ],
      "text/html": [
       "<span style=\"color:cyan\"> |-Score: 0.8635234832763672</span>"
      ]
     },
     "metadata": {}
    },
    {
     "output_type": "display_data",
     "data": {
      "text/plain": [
       "<IPython.core.display.HTML object>"
      ],
      "text/html": [
       "<span style=\"color:cyan\"> |-Best step: 0</span>"
      ]
     },
     "metadata": {}
    },
    {
     "output_type": "display_data",
     "data": {
      "text/plain": [
       "<IPython.core.display.HTML object>"
      ],
      "text/html": [
       "<span style=\"color:#7E57C2\"><h2 style=\"font-size:16px\">Hyperparameters:</h2></span>"
      ]
     },
     "metadata": {}
    },
    {
     "output_type": "display_data",
     "data": {
      "text/plain": [
       "<IPython.core.display.HTML object>"
      ],
      "text/html": [
       "<span style=\"color:cyan\"> |-conv_blocks: 3</span>"
      ]
     },
     "metadata": {}
    },
    {
     "output_type": "display_data",
     "data": {
      "text/plain": [
       "<IPython.core.display.HTML object>"
      ],
      "text/html": [
       "<span style=\"color:blue\"> |-dropout1: 0.1</span>"
      ]
     },
     "metadata": {}
    },
    {
     "output_type": "display_data",
     "data": {
      "text/plain": [
       "<IPython.core.display.HTML object>"
      ],
      "text/html": [
       "<span style=\"color:cyan\"> |-dropout2: 0.1</span>"
      ]
     },
     "metadata": {}
    },
    {
     "output_type": "display_data",
     "data": {
      "text/plain": [
       "<IPython.core.display.HTML object>"
      ],
      "text/html": [
       "<span style=\"color:blue\"> |-filters_0: 64</span>"
      ]
     },
     "metadata": {}
    },
    {
     "output_type": "display_data",
     "data": {
      "text/plain": [
       "<IPython.core.display.HTML object>"
      ],
      "text/html": [
       "<span style=\"color:cyan\"> |-filters_1: 32</span>"
      ]
     },
     "metadata": {}
    },
    {
     "output_type": "display_data",
     "data": {
      "text/plain": [
       "<IPython.core.display.HTML object>"
      ],
      "text/html": [
       "<span style=\"color:blue\"> |-filters_2: 512</span>"
      ]
     },
     "metadata": {}
    },
    {
     "output_type": "display_data",
     "data": {
      "text/plain": [
       "<IPython.core.display.HTML object>"
      ],
      "text/html": [
       "<span style=\"color:cyan\"> |-hidden_size: 256</span>"
      ]
     },
     "metadata": {}
    },
    {
     "output_type": "display_data",
     "data": {
      "text/plain": [
       "<IPython.core.display.HTML object>"
      ],
      "text/html": [
       "<span style=\"color:blue\"> |-kernel_size_0: 3</span>"
      ]
     },
     "metadata": {}
    },
    {
     "output_type": "display_data",
     "data": {
      "text/plain": [
       "<IPython.core.display.HTML object>"
      ],
      "text/html": [
       "<span style=\"color:cyan\"> |-kernel_size_1: 4</span>"
      ]
     },
     "metadata": {}
    },
    {
     "output_type": "display_data",
     "data": {
      "text/plain": [
       "<IPython.core.display.HTML object>"
      ],
      "text/html": [
       "<span style=\"color:blue\"> |-kernel_size_2: 4</span>"
      ]
     },
     "metadata": {}
    },
    {
     "output_type": "display_data",
     "data": {
      "text/plain": [
       "<IPython.core.display.HTML object>"
      ],
      "text/html": [
       "<span style=\"color:cyan\"> |-learning_rate: 0.00038942952803452897</span>"
      ]
     },
     "metadata": {}
    },
    {
     "output_type": "display_data",
     "data": {
      "text/plain": [
       "<IPython.core.display.HTML object>"
      ],
      "text/html": [
       "<span style=\"color:blue\"> |-optimizer_: adam</span>"
      ]
     },
     "metadata": {}
    },
    {
     "output_type": "display_data",
     "data": {
      "text/plain": [
       "<IPython.core.display.HTML object>"
      ],
      "text/html": [
       "<span style=\"color:cyan\"> |-pooling_0: max</span>"
      ]
     },
     "metadata": {}
    },
    {
     "output_type": "display_data",
     "data": {
      "text/plain": [
       "<IPython.core.display.HTML object>"
      ],
      "text/html": [
       "<span style=\"color:blue\"> |-pooling_1: max</span>"
      ]
     },
     "metadata": {}
    },
    {
     "output_type": "display_data",
     "data": {
      "text/plain": [
       "<IPython.core.display.HTML object>"
      ],
      "text/html": [
       "<span style=\"color:cyan\"> |-pooling_2: global</span>"
      ]
     },
     "metadata": {}
    },
    {
     "output_type": "display_data",
     "data": {
      "text/plain": [
       "<IPython.core.display.HTML object>"
      ],
      "text/html": [
       "<span style=\"color:blue\"> |-tuner/bracket: 2</span>"
      ]
     },
     "metadata": {}
    },
    {
     "output_type": "display_data",
     "data": {
      "text/plain": [
       "<IPython.core.display.HTML object>"
      ],
      "text/html": [
       "<span style=\"color:cyan\"> |-tuner/epochs: 7</span>"
      ]
     },
     "metadata": {}
    },
    {
     "output_type": "display_data",
     "data": {
      "text/plain": [
       "<IPython.core.display.HTML object>"
      ],
      "text/html": [
       "<span style=\"color:blue\"> |-tuner/initial_epoch: 3</span>"
      ]
     },
     "metadata": {}
    },
    {
     "output_type": "display_data",
     "data": {
      "text/plain": [
       "<IPython.core.display.HTML object>"
      ],
      "text/html": [
       "<span style=\"color:cyan\"> |-tuner/round: 1</span>"
      ]
     },
     "metadata": {}
    },
    {
     "output_type": "display_data",
     "data": {
      "text/plain": [
       "<IPython.core.display.HTML object>"
      ],
      "text/html": [
       "<span style=\"color:blue\"> |-tuner/trial_id: 0bcd6ce8c4c31d89c2a96bae615ce878</span>"
      ]
     },
     "metadata": {}
    },
    {
     "output_type": "stream",
     "name": "stdout",
     "text": [
      "Train on 118857 samples, validate on 29715 samples\n",
      "Epoch 4/7\n",
      "118857/118857 - 44s - loss: 0.3777 - accuracy: 0.8293 - val_loss: 0.3261 - val_accuracy: 0.8586\n",
      "Epoch 5/7\n",
      "118857/118857 - 44s - loss: 0.2861 - accuracy: 0.8802 - val_loss: 0.3276 - val_accuracy: 0.8625\n",
      "Epoch 6/7\n",
      "118857/118857 - 43s - loss: 0.2337 - accuracy: 0.9046 - val_loss: 0.3443 - val_accuracy: 0.8577\n",
      "Epoch 7/7\n",
      "118857/118857 - 43s - loss: 0.1931 - accuracy: 0.9229 - val_loss: 0.4149 - val_accuracy: 0.8540\n",
      "Train on 118857 samples, validate on 29715 samples\n",
      "Epoch 4/7\n",
      "118857/118857 - 46s - loss: 0.3767 - accuracy: 0.8279 - val_loss: 0.3387 - val_accuracy: 0.8492\n",
      "Epoch 5/7\n",
      "118857/118857 - 44s - loss: 0.2840 - accuracy: 0.8798 - val_loss: 0.3189 - val_accuracy: 0.8630\n",
      "Epoch 6/7\n",
      "118857/118857 - 43s - loss: 0.2329 - accuracy: 0.9048 - val_loss: 0.3452 - val_accuracy: 0.8600\n",
      "Epoch 7/7\n",
      "118857/118857 - 45s - loss: 0.1928 - accuracy: 0.9232 - val_loss: 0.3664 - val_accuracy: 0.8580\n",
      "Train on 118857 samples, validate on 29715 samples\n",
      "Epoch 4/7\n",
      "118857/118857 - 44s - loss: 0.3771 - accuracy: 0.8290 - val_loss: 0.3252 - val_accuracy: 0.8599\n",
      "Epoch 5/7\n",
      "118857/118857 - 42s - loss: 0.2870 - accuracy: 0.8786 - val_loss: 0.3209 - val_accuracy: 0.8627\n",
      "Epoch 6/7\n",
      "118857/118857 - 43s - loss: 0.2345 - accuracy: 0.9048 - val_loss: 0.3320 - val_accuracy: 0.8554\n",
      "Epoch 7/7\n",
      "118857/118857 - 44s - loss: 0.1947 - accuracy: 0.9217 - val_loss: 0.3735 - val_accuracy: 0.8569\n",
      "Train on 118857 samples, validate on 29715 samples\n",
      "Epoch 4/7\n",
      "118857/118857 - 46s - loss: 0.3757 - accuracy: 0.8296 - val_loss: 0.3255 - val_accuracy: 0.8579\n",
      "Epoch 5/7\n",
      "118857/118857 - 43s - loss: 0.2843 - accuracy: 0.8807 - val_loss: 0.3358 - val_accuracy: 0.8610\n",
      "Epoch 6/7\n",
      "118857/118857 - 44s - loss: 0.2344 - accuracy: 0.9048 - val_loss: 0.3377 - val_accuracy: 0.8615\n",
      "Epoch 7/7\n",
      "118857/118857 - 45s - loss: 0.1946 - accuracy: 0.9225 - val_loss: 0.3522 - val_accuracy: 0.8552\n",
      "Train on 118857 samples, validate on 29715 samples\n",
      "Epoch 4/7\n",
      "118857/118857 - 44s - loss: 0.3767 - accuracy: 0.8286 - val_loss: 0.3299 - val_accuracy: 0.8593\n",
      "Epoch 5/7\n",
      "118857/118857 - 44s - loss: 0.2881 - accuracy: 0.8792 - val_loss: 0.3224 - val_accuracy: 0.8614\n",
      "Epoch 6/7\n",
      "118857/118857 - 43s - loss: 0.2352 - accuracy: 0.9039 - val_loss: 0.3347 - val_accuracy: 0.8594\n",
      "Epoch 7/7\n",
      "118857/118857 - 44s - loss: 0.1949 - accuracy: 0.9228 - val_loss: 0.3772 - val_accuracy: 0.8545\n"
     ]
    },
    {
     "output_type": "display_data",
     "data": {
      "text/plain": [
       "<IPython.core.display.HTML object>"
      ],
      "text/html": [
       "<span style=\"color:#4527A0\"><h1 style=\"font-size:18px\">Trial complete</h1></span>"
      ]
     },
     "metadata": {}
    },
    {
     "output_type": "display_data",
     "data": {
      "text/plain": [
       "<IPython.core.display.HTML object>"
      ],
      "text/html": [
       "<span style=\"color:#4527A0\"><h1 style=\"font-size:18px\">Trial summary</h1></span>"
      ]
     },
     "metadata": {}
    },
    {
     "output_type": "display_data",
     "data": {
      "text/plain": [
       "<IPython.core.display.HTML object>"
      ],
      "text/html": [
       "<span style=\"color:cyan\"> |-Trial ID: 4c8105e81815467829ad33bdb68b66e6</span>"
      ]
     },
     "metadata": {}
    },
    {
     "output_type": "display_data",
     "data": {
      "text/plain": [
       "<IPython.core.display.HTML object>"
      ],
      "text/html": [
       "<span style=\"color:cyan\"> |-Score: 0.8622042536735535</span>"
      ]
     },
     "metadata": {}
    },
    {
     "output_type": "display_data",
     "data": {
      "text/plain": [
       "<IPython.core.display.HTML object>"
      ],
      "text/html": [
       "<span style=\"color:cyan\"> |-Best step: 0</span>"
      ]
     },
     "metadata": {}
    },
    {
     "output_type": "display_data",
     "data": {
      "text/plain": [
       "<IPython.core.display.HTML object>"
      ],
      "text/html": [
       "<span style=\"color:#7E57C2\"><h2 style=\"font-size:16px\">Hyperparameters:</h2></span>"
      ]
     },
     "metadata": {}
    },
    {
     "output_type": "display_data",
     "data": {
      "text/plain": [
       "<IPython.core.display.HTML object>"
      ],
      "text/html": [
       "<span style=\"color:cyan\"> |-conv_blocks: 3</span>"
      ]
     },
     "metadata": {}
    },
    {
     "output_type": "display_data",
     "data": {
      "text/plain": [
       "<IPython.core.display.HTML object>"
      ],
      "text/html": [
       "<span style=\"color:blue\"> |-dropout1: 0.4</span>"
      ]
     },
     "metadata": {}
    },
    {
     "output_type": "display_data",
     "data": {
      "text/plain": [
       "<IPython.core.display.HTML object>"
      ],
      "text/html": [
       "<span style=\"color:cyan\"> |-dropout2: 0.30000000000000004</span>"
      ]
     },
     "metadata": {}
    },
    {
     "output_type": "display_data",
     "data": {
      "text/plain": [
       "<IPython.core.display.HTML object>"
      ],
      "text/html": [
       "<span style=\"color:blue\"> |-filters_0: 512</span>"
      ]
     },
     "metadata": {}
    },
    {
     "output_type": "display_data",
     "data": {
      "text/plain": [
       "<IPython.core.display.HTML object>"
      ],
      "text/html": [
       "<span style=\"color:cyan\"> |-filters_1: 128</span>"
      ]
     },
     "metadata": {}
    },
    {
     "output_type": "display_data",
     "data": {
      "text/plain": [
       "<IPython.core.display.HTML object>"
      ],
      "text/html": [
       "<span style=\"color:blue\"> |-filters_2: 128</span>"
      ]
     },
     "metadata": {}
    },
    {
     "output_type": "display_data",
     "data": {
      "text/plain": [
       "<IPython.core.display.HTML object>"
      ],
      "text/html": [
       "<span style=\"color:cyan\"> |-hidden_size: 256</span>"
      ]
     },
     "metadata": {}
    },
    {
     "output_type": "display_data",
     "data": {
      "text/plain": [
       "<IPython.core.display.HTML object>"
      ],
      "text/html": [
       "<span style=\"color:blue\"> |-kernel_size_0: 4</span>"
      ]
     },
     "metadata": {}
    },
    {
     "output_type": "display_data",
     "data": {
      "text/plain": [
       "<IPython.core.display.HTML object>"
      ],
      "text/html": [
       "<span style=\"color:cyan\"> |-kernel_size_1: 3</span>"
      ]
     },
     "metadata": {}
    },
    {
     "output_type": "display_data",
     "data": {
      "text/plain": [
       "<IPython.core.display.HTML object>"
      ],
      "text/html": [
       "<span style=\"color:blue\"> |-kernel_size_2: 3</span>"
      ]
     },
     "metadata": {}
    },
    {
     "output_type": "display_data",
     "data": {
      "text/plain": [
       "<IPython.core.display.HTML object>"
      ],
      "text/html": [
       "<span style=\"color:cyan\"> |-learning_rate: 0.0019892146428191083</span>"
      ]
     },
     "metadata": {}
    },
    {
     "output_type": "display_data",
     "data": {
      "text/plain": [
       "<IPython.core.display.HTML object>"
      ],
      "text/html": [
       "<span style=\"color:blue\"> |-optimizer_: adam</span>"
      ]
     },
     "metadata": {}
    },
    {
     "output_type": "display_data",
     "data": {
      "text/plain": [
       "<IPython.core.display.HTML object>"
      ],
      "text/html": [
       "<span style=\"color:cyan\"> |-pooling_0: global</span>"
      ]
     },
     "metadata": {}
    },
    {
     "output_type": "display_data",
     "data": {
      "text/plain": [
       "<IPython.core.display.HTML object>"
      ],
      "text/html": [
       "<span style=\"color:blue\"> |-pooling_1: global</span>"
      ]
     },
     "metadata": {}
    },
    {
     "output_type": "display_data",
     "data": {
      "text/plain": [
       "<IPython.core.display.HTML object>"
      ],
      "text/html": [
       "<span style=\"color:cyan\"> |-pooling_2: max</span>"
      ]
     },
     "metadata": {}
    },
    {
     "output_type": "display_data",
     "data": {
      "text/plain": [
       "<IPython.core.display.HTML object>"
      ],
      "text/html": [
       "<span style=\"color:blue\"> |-tuner/bracket: 2</span>"
      ]
     },
     "metadata": {}
    },
    {
     "output_type": "display_data",
     "data": {
      "text/plain": [
       "<IPython.core.display.HTML object>"
      ],
      "text/html": [
       "<span style=\"color:cyan\"> |-tuner/epochs: 7</span>"
      ]
     },
     "metadata": {}
    },
    {
     "output_type": "display_data",
     "data": {
      "text/plain": [
       "<IPython.core.display.HTML object>"
      ],
      "text/html": [
       "<span style=\"color:blue\"> |-tuner/initial_epoch: 3</span>"
      ]
     },
     "metadata": {}
    },
    {
     "output_type": "display_data",
     "data": {
      "text/plain": [
       "<IPython.core.display.HTML object>"
      ],
      "text/html": [
       "<span style=\"color:cyan\"> |-tuner/round: 1</span>"
      ]
     },
     "metadata": {}
    },
    {
     "output_type": "display_data",
     "data": {
      "text/plain": [
       "<IPython.core.display.HTML object>"
      ],
      "text/html": [
       "<span style=\"color:blue\"> |-tuner/trial_id: 1407185fe346a71b4c60ce1a25b7ef48</span>"
      ]
     },
     "metadata": {}
    },
    {
     "output_type": "stream",
     "name": "stdout",
     "text": [
      "Train on 118857 samples, validate on 29715 samples\n",
      "Epoch 4/7\n",
      "118857/118857 - 31s - loss: 0.3805 - accuracy: 0.8304 - val_loss: 0.3545 - val_accuracy: 0.8521\n",
      "Epoch 5/7\n",
      "118857/118857 - 30s - loss: 0.3173 - accuracy: 0.8674 - val_loss: 0.3481 - val_accuracy: 0.8539\n",
      "Epoch 6/7\n",
      "118857/118857 - 30s - loss: 0.2958 - accuracy: 0.8792 - val_loss: 0.3496 - val_accuracy: 0.8651\n",
      "Epoch 7/7\n",
      "118857/118857 - 31s - loss: 0.2801 - accuracy: 0.8885 - val_loss: 0.3379 - val_accuracy: 0.8654\n",
      "Train on 118857 samples, validate on 29715 samples\n",
      "Epoch 4/7\n",
      "118857/118857 - 30s - loss: 0.3827 - accuracy: 0.8300 - val_loss: 0.3528 - val_accuracy: 0.8472\n",
      "Epoch 5/7\n",
      "118857/118857 - 28s - loss: 0.3195 - accuracy: 0.8668 - val_loss: 0.3226 - val_accuracy: 0.8631\n",
      "Epoch 6/7\n",
      "118857/118857 - 28s - loss: 0.2991 - accuracy: 0.8784 - val_loss: 0.3243 - val_accuracy: 0.8666\n",
      "Epoch 7/7\n",
      "118857/118857 - 29s - loss: 0.2826 - accuracy: 0.8869 - val_loss: 0.4005 - val_accuracy: 0.8433\n",
      "Train on 118857 samples, validate on 29715 samples\n",
      "Epoch 4/7\n",
      "118857/118857 - 30s - loss: 0.3824 - accuracy: 0.8301 - val_loss: 0.3446 - val_accuracy: 0.8563\n",
      "Epoch 5/7\n",
      "118857/118857 - 29s - loss: 0.3166 - accuracy: 0.8672 - val_loss: 0.3209 - val_accuracy: 0.8627\n",
      "Epoch 6/7\n",
      "118857/118857 - 29s - loss: 0.2958 - accuracy: 0.8800 - val_loss: 0.3478 - val_accuracy: 0.8586\n",
      "Epoch 7/7\n",
      "118857/118857 - 29s - loss: 0.2799 - accuracy: 0.8888 - val_loss: 0.3319 - val_accuracy: 0.8679\n",
      "Train on 118857 samples, validate on 29715 samples\n",
      "Epoch 4/7\n",
      "118857/118857 - 30s - loss: 0.3818 - accuracy: 0.8313 - val_loss: 0.3572 - val_accuracy: 0.8452\n",
      "Epoch 5/7\n",
      "118857/118857 - 28s - loss: 0.3180 - accuracy: 0.8679 - val_loss: 0.3330 - val_accuracy: 0.8595\n",
      "Epoch 6/7\n",
      "118857/118857 - 28s - loss: 0.2951 - accuracy: 0.8799 - val_loss: 0.3492 - val_accuracy: 0.8631\n",
      "Epoch 7/7\n",
      "118857/118857 - 29s - loss: 0.2801 - accuracy: 0.8882 - val_loss: 0.3473 - val_accuracy: 0.8603\n",
      "Train on 118857 samples, validate on 29715 samples\n",
      "Epoch 4/7\n",
      "118857/118857 - 30s - loss: 0.3829 - accuracy: 0.8299 - val_loss: 0.3420 - val_accuracy: 0.8581\n",
      "Epoch 5/7\n",
      "118857/118857 - 28s - loss: 0.3183 - accuracy: 0.8671 - val_loss: 0.3289 - val_accuracy: 0.8596\n",
      "Epoch 6/7\n",
      "118857/118857 - 29s - loss: 0.2960 - accuracy: 0.8801 - val_loss: 0.3297 - val_accuracy: 0.8652\n",
      "Epoch 7/7\n",
      "118857/118857 - 28s - loss: 0.2804 - accuracy: 0.8883 - val_loss: 0.3249 - val_accuracy: 0.8666\n"
     ]
    },
    {
     "output_type": "display_data",
     "data": {
      "text/plain": [
       "<IPython.core.display.HTML object>"
      ],
      "text/html": [
       "<span style=\"color:#4527A0\"><h1 style=\"font-size:18px\">Trial complete</h1></span>"
      ]
     },
     "metadata": {}
    },
    {
     "output_type": "display_data",
     "data": {
      "text/plain": [
       "<IPython.core.display.HTML object>"
      ],
      "text/html": [
       "<span style=\"color:#4527A0\"><h1 style=\"font-size:18px\">Trial summary</h1></span>"
      ]
     },
     "metadata": {}
    },
    {
     "output_type": "display_data",
     "data": {
      "text/plain": [
       "<IPython.core.display.HTML object>"
      ],
      "text/html": [
       "<span style=\"color:cyan\"> |-Trial ID: 6cae8e44c9ce5a3ab7012b327bf2573c</span>"
      ]
     },
     "metadata": {}
    },
    {
     "output_type": "display_data",
     "data": {
      "text/plain": [
       "<IPython.core.display.HTML object>"
      ],
      "text/html": [
       "<span style=\"color:cyan\"> |-Score: 0.865939736366272</span>"
      ]
     },
     "metadata": {}
    },
    {
     "output_type": "display_data",
     "data": {
      "text/plain": [
       "<IPython.core.display.HTML object>"
      ],
      "text/html": [
       "<span style=\"color:cyan\"> |-Best step: 0</span>"
      ]
     },
     "metadata": {}
    },
    {
     "output_type": "display_data",
     "data": {
      "text/plain": [
       "<IPython.core.display.HTML object>"
      ],
      "text/html": [
       "<span style=\"color:#7E57C2\"><h2 style=\"font-size:16px\">Hyperparameters:</h2></span>"
      ]
     },
     "metadata": {}
    },
    {
     "output_type": "display_data",
     "data": {
      "text/plain": [
       "<IPython.core.display.HTML object>"
      ],
      "text/html": [
       "<span style=\"color:cyan\"> |-conv_blocks: 4</span>"
      ]
     },
     "metadata": {}
    },
    {
     "output_type": "display_data",
     "data": {
      "text/plain": [
       "<IPython.core.display.HTML object>"
      ],
      "text/html": [
       "<span style=\"color:blue\"> |-dropout1: 0.1</span>"
      ]
     },
     "metadata": {}
    },
    {
     "output_type": "display_data",
     "data": {
      "text/plain": [
       "<IPython.core.display.HTML object>"
      ],
      "text/html": [
       "<span style=\"color:cyan\"> |-dropout2: 0.30000000000000004</span>"
      ]
     },
     "metadata": {}
    },
    {
     "output_type": "display_data",
     "data": {
      "text/plain": [
       "<IPython.core.display.HTML object>"
      ],
      "text/html": [
       "<span style=\"color:blue\"> |-filters_0: 128</span>"
      ]
     },
     "metadata": {}
    },
    {
     "output_type": "display_data",
     "data": {
      "text/plain": [
       "<IPython.core.display.HTML object>"
      ],
      "text/html": [
       "<span style=\"color:cyan\"> |-filters_1: 256</span>"
      ]
     },
     "metadata": {}
    },
    {
     "output_type": "display_data",
     "data": {
      "text/plain": [
       "<IPython.core.display.HTML object>"
      ],
      "text/html": [
       "<span style=\"color:blue\"> |-filters_2: 128</span>"
      ]
     },
     "metadata": {}
    },
    {
     "output_type": "display_data",
     "data": {
      "text/plain": [
       "<IPython.core.display.HTML object>"
      ],
      "text/html": [
       "<span style=\"color:cyan\"> |-filters_3: 256</span>"
      ]
     },
     "metadata": {}
    },
    {
     "output_type": "display_data",
     "data": {
      "text/plain": [
       "<IPython.core.display.HTML object>"
      ],
      "text/html": [
       "<span style=\"color:blue\"> |-hidden_size: 128</span>"
      ]
     },
     "metadata": {}
    },
    {
     "output_type": "display_data",
     "data": {
      "text/plain": [
       "<IPython.core.display.HTML object>"
      ],
      "text/html": [
       "<span style=\"color:cyan\"> |-kernel_size_0: 4</span>"
      ]
     },
     "metadata": {}
    },
    {
     "output_type": "display_data",
     "data": {
      "text/plain": [
       "<IPython.core.display.HTML object>"
      ],
      "text/html": [
       "<span style=\"color:blue\"> |-kernel_size_1: 3</span>"
      ]
     },
     "metadata": {}
    },
    {
     "output_type": "display_data",
     "data": {
      "text/plain": [
       "<IPython.core.display.HTML object>"
      ],
      "text/html": [
       "<span style=\"color:cyan\"> |-kernel_size_2: 3</span>"
      ]
     },
     "metadata": {}
    },
    {
     "output_type": "display_data",
     "data": {
      "text/plain": [
       "<IPython.core.display.HTML object>"
      ],
      "text/html": [
       "<span style=\"color:blue\"> |-kernel_size_3: 5</span>"
      ]
     },
     "metadata": {}
    },
    {
     "output_type": "display_data",
     "data": {
      "text/plain": [
       "<IPython.core.display.HTML object>"
      ],
      "text/html": [
       "<span style=\"color:cyan\"> |-learning_rate: 0.002437660182377661</span>"
      ]
     },
     "metadata": {}
    },
    {
     "output_type": "display_data",
     "data": {
      "text/plain": [
       "<IPython.core.display.HTML object>"
      ],
      "text/html": [
       "<span style=\"color:blue\"> |-optimizer_: rmsprop</span>"
      ]
     },
     "metadata": {}
    },
    {
     "output_type": "display_data",
     "data": {
      "text/plain": [
       "<IPython.core.display.HTML object>"
      ],
      "text/html": [
       "<span style=\"color:cyan\"> |-pooling_0: max</span>"
      ]
     },
     "metadata": {}
    },
    {
     "output_type": "display_data",
     "data": {
      "text/plain": [
       "<IPython.core.display.HTML object>"
      ],
      "text/html": [
       "<span style=\"color:blue\"> |-pooling_1: max</span>"
      ]
     },
     "metadata": {}
    },
    {
     "output_type": "display_data",
     "data": {
      "text/plain": [
       "<IPython.core.display.HTML object>"
      ],
      "text/html": [
       "<span style=\"color:cyan\"> |-pooling_2: global</span>"
      ]
     },
     "metadata": {}
    },
    {
     "output_type": "display_data",
     "data": {
      "text/plain": [
       "<IPython.core.display.HTML object>"
      ],
      "text/html": [
       "<span style=\"color:blue\"> |-pooling_3: max</span>"
      ]
     },
     "metadata": {}
    },
    {
     "output_type": "display_data",
     "data": {
      "text/plain": [
       "<IPython.core.display.HTML object>"
      ],
      "text/html": [
       "<span style=\"color:cyan\"> |-tuner/bracket: 2</span>"
      ]
     },
     "metadata": {}
    },
    {
     "output_type": "display_data",
     "data": {
      "text/plain": [
       "<IPython.core.display.HTML object>"
      ],
      "text/html": [
       "<span style=\"color:blue\"> |-tuner/epochs: 7</span>"
      ]
     },
     "metadata": {}
    },
    {
     "output_type": "display_data",
     "data": {
      "text/plain": [
       "<IPython.core.display.HTML object>"
      ],
      "text/html": [
       "<span style=\"color:cyan\"> |-tuner/initial_epoch: 3</span>"
      ]
     },
     "metadata": {}
    },
    {
     "output_type": "display_data",
     "data": {
      "text/plain": [
       "<IPython.core.display.HTML object>"
      ],
      "text/html": [
       "<span style=\"color:blue\"> |-tuner/round: 1</span>"
      ]
     },
     "metadata": {}
    },
    {
     "output_type": "display_data",
     "data": {
      "text/plain": [
       "<IPython.core.display.HTML object>"
      ],
      "text/html": [
       "<span style=\"color:cyan\"> |-tuner/trial_id: 8587dbbd3657efcd6411c809b55257c6</span>"
      ]
     },
     "metadata": {}
    },
    {
     "output_type": "stream",
     "name": "stdout",
     "text": [
      "Train on 118857 samples, validate on 29715 samples\n",
      "Epoch 8/20\n",
      "118857/118857 - 30s - loss: 0.3819 - accuracy: 0.8303 - val_loss: 0.3427 - val_accuracy: 0.8566\n",
      "Epoch 9/20\n",
      "118857/118857 - 29s - loss: 0.3165 - accuracy: 0.8678 - val_loss: 0.3415 - val_accuracy: 0.8643\n",
      "Epoch 10/20\n",
      "118857/118857 - 29s - loss: 0.2959 - accuracy: 0.8794 - val_loss: 0.3193 - val_accuracy: 0.8675\n",
      "Epoch 11/20\n",
      "118857/118857 - 29s - loss: 0.2795 - accuracy: 0.8893 - val_loss: 0.3201 - val_accuracy: 0.8686\n",
      "Epoch 12/20\n",
      "118857/118857 - 29s - loss: 0.2661 - accuracy: 0.8964 - val_loss: 0.3846 - val_accuracy: 0.8518\n",
      "Epoch 13/20\n",
      "118857/118857 - 29s - loss: 0.2525 - accuracy: 0.9020 - val_loss: 0.4363 - val_accuracy: 0.8324\n",
      "Epoch 14/20\n",
      "118857/118857 - 29s - loss: 0.2449 - accuracy: 0.9070 - val_loss: 0.3518 - val_accuracy: 0.8642\n",
      "Train on 118857 samples, validate on 29715 samples\n",
      "Epoch 8/20\n",
      "118857/118857 - 31s - loss: 0.3819 - accuracy: 0.8300 - val_loss: 0.3420 - val_accuracy: 0.8534\n",
      "Epoch 9/20\n",
      "118857/118857 - 30s - loss: 0.3186 - accuracy: 0.8674 - val_loss: 0.3447 - val_accuracy: 0.8578\n",
      "Epoch 10/20\n",
      "118857/118857 - 30s - loss: 0.2954 - accuracy: 0.8800 - val_loss: 0.3389 - val_accuracy: 0.8607\n",
      "Epoch 11/20\n",
      "118857/118857 - 30s - loss: 0.2803 - accuracy: 0.8881 - val_loss: 0.3268 - val_accuracy: 0.8657\n",
      "Epoch 12/20\n",
      "118857/118857 - 30s - loss: 0.2660 - accuracy: 0.8955 - val_loss: 0.3373 - val_accuracy: 0.8664\n",
      "Epoch 13/20\n",
      "118857/118857 - 31s - loss: 0.2547 - accuracy: 0.9030 - val_loss: 0.3677 - val_accuracy: 0.8643\n",
      "Epoch 14/20\n",
      "118857/118857 - 30s - loss: 0.2434 - accuracy: 0.9077 - val_loss: 0.3323 - val_accuracy: 0.8655\n",
      "Epoch 15/20\n",
      "118857/118857 - 30s - loss: 0.2337 - accuracy: 0.9128 - val_loss: 0.3896 - val_accuracy: 0.8504\n",
      "Train on 118857 samples, validate on 29715 samples\n",
      "Epoch 8/20\n",
      "118857/118857 - 30s - loss: 0.3822 - accuracy: 0.8288 - val_loss: 0.3516 - val_accuracy: 0.8526\n",
      "Epoch 9/20\n",
      "118857/118857 - 30s - loss: 0.3190 - accuracy: 0.8672 - val_loss: 0.3468 - val_accuracy: 0.8560\n",
      "Epoch 10/20\n",
      "118857/118857 - 29s - loss: 0.2963 - accuracy: 0.8788 - val_loss: 0.3443 - val_accuracy: 0.8576\n",
      "Epoch 11/20\n",
      "118857/118857 - 29s - loss: 0.2807 - accuracy: 0.8873 - val_loss: 0.3371 - val_accuracy: 0.8658\n",
      "Epoch 12/20\n",
      "118857/118857 - 29s - loss: 0.2667 - accuracy: 0.8950 - val_loss: 0.3294 - val_accuracy: 0.8663\n",
      "Epoch 13/20\n",
      "118857/118857 - 29s - loss: 0.2568 - accuracy: 0.9012 - val_loss: 0.3707 - val_accuracy: 0.8557\n",
      "Epoch 14/20\n",
      "118857/118857 - 29s - loss: 0.2449 - accuracy: 0.9065 - val_loss: 0.3361 - val_accuracy: 0.8648\n",
      "Epoch 15/20\n",
      "118857/118857 - 29s - loss: 0.2366 - accuracy: 0.9107 - val_loss: 0.3600 - val_accuracy: 0.8583\n",
      "Epoch 16/20\n",
      "118857/118857 - 29s - loss: 0.2292 - accuracy: 0.9142 - val_loss: 0.3658 - val_accuracy: 0.8597\n",
      "Train on 118857 samples, validate on 29715 samples\n",
      "Epoch 8/20\n",
      "118857/118857 - 31s - loss: 0.3830 - accuracy: 0.8299 - val_loss: 0.3536 - val_accuracy: 0.8496\n",
      "Epoch 9/20\n",
      "118857/118857 - 30s - loss: 0.3193 - accuracy: 0.8663 - val_loss: 0.3302 - val_accuracy: 0.8619\n",
      "Epoch 10/20\n",
      "118857/118857 - 30s - loss: 0.2965 - accuracy: 0.8794 - val_loss: 0.3458 - val_accuracy: 0.8647\n",
      "Epoch 11/20\n",
      "118857/118857 - 30s - loss: 0.2824 - accuracy: 0.8884 - val_loss: 0.3303 - val_accuracy: 0.8660\n",
      "Epoch 12/20\n",
      "118857/118857 - 30s - loss: 0.2675 - accuracy: 0.8943 - val_loss: 0.3486 - val_accuracy: 0.8634\n",
      "Epoch 13/20\n",
      "118857/118857 - 31s - loss: 0.2572 - accuracy: 0.9007 - val_loss: 0.3792 - val_accuracy: 0.8518\n",
      "Train on 118857 samples, validate on 29715 samples\n",
      "Epoch 8/20\n",
      "118857/118857 - 32s - loss: 0.3821 - accuracy: 0.8305 - val_loss: 0.3810 - val_accuracy: 0.8445\n",
      "Epoch 9/20\n",
      "118857/118857 - 30s - loss: 0.3181 - accuracy: 0.8672 - val_loss: 0.3500 - val_accuracy: 0.8546\n",
      "Epoch 10/20\n",
      "118857/118857 - 30s - loss: 0.2968 - accuracy: 0.8795 - val_loss: 0.3342 - val_accuracy: 0.8592\n",
      "Epoch 11/20\n",
      "118857/118857 - 30s - loss: 0.2822 - accuracy: 0.8880 - val_loss: 0.3472 - val_accuracy: 0.8598\n",
      "Epoch 12/20\n",
      "118857/118857 - 30s - loss: 0.2678 - accuracy: 0.8949 - val_loss: 0.3612 - val_accuracy: 0.8581\n",
      "Epoch 13/20\n",
      "118857/118857 - 30s - loss: 0.2569 - accuracy: 0.9008 - val_loss: 0.3521 - val_accuracy: 0.8655\n",
      "Epoch 14/20\n",
      "118857/118857 - 30s - loss: 0.2486 - accuracy: 0.9060 - val_loss: 0.3309 - val_accuracy: 0.8656\n",
      "Epoch 15/20\n",
      "118857/118857 - 30s - loss: 0.2386 - accuracy: 0.9099 - val_loss: 0.3655 - val_accuracy: 0.8682\n",
      "Epoch 16/20\n",
      "118857/118857 - 30s - loss: 0.2303 - accuracy: 0.9141 - val_loss: 0.3907 - val_accuracy: 0.8548\n",
      "Epoch 17/20\n",
      "118857/118857 - 30s - loss: 0.2269 - accuracy: 0.9174 - val_loss: 0.3782 - val_accuracy: 0.8577\n",
      "Epoch 18/20\n",
      "118857/118857 - 31s - loss: 0.2227 - accuracy: 0.9212 - val_loss: 0.6818 - val_accuracy: 0.8028\n"
     ]
    },
    {
     "output_type": "display_data",
     "data": {
      "text/plain": [
       "<IPython.core.display.HTML object>"
      ],
      "text/html": [
       "<span style=\"color:#4527A0\"><h1 style=\"font-size:18px\">Trial complete</h1></span>"
      ]
     },
     "metadata": {}
    },
    {
     "output_type": "display_data",
     "data": {
      "text/plain": [
       "<IPython.core.display.HTML object>"
      ],
      "text/html": [
       "<span style=\"color:#4527A0\"><h1 style=\"font-size:18px\">Trial summary</h1></span>"
      ]
     },
     "metadata": {}
    },
    {
     "output_type": "display_data",
     "data": {
      "text/plain": [
       "<IPython.core.display.HTML object>"
      ],
      "text/html": [
       "<span style=\"color:cyan\"> |-Trial ID: 454216a9939d7c639289abc0027f8132</span>"
      ]
     },
     "metadata": {}
    },
    {
     "output_type": "display_data",
     "data": {
      "text/plain": [
       "<IPython.core.display.HTML object>"
      ],
      "text/html": [
       "<span style=\"color:cyan\"> |-Score: 0.8670772314071655</span>"
      ]
     },
     "metadata": {}
    },
    {
     "output_type": "display_data",
     "data": {
      "text/plain": [
       "<IPython.core.display.HTML object>"
      ],
      "text/html": [
       "<span style=\"color:cyan\"> |-Best step: 0</span>"
      ]
     },
     "metadata": {}
    },
    {
     "output_type": "display_data",
     "data": {
      "text/plain": [
       "<IPython.core.display.HTML object>"
      ],
      "text/html": [
       "<span style=\"color:#7E57C2\"><h2 style=\"font-size:16px\">Hyperparameters:</h2></span>"
      ]
     },
     "metadata": {}
    },
    {
     "output_type": "display_data",
     "data": {
      "text/plain": [
       "<IPython.core.display.HTML object>"
      ],
      "text/html": [
       "<span style=\"color:cyan\"> |-conv_blocks: 4</span>"
      ]
     },
     "metadata": {}
    },
    {
     "output_type": "display_data",
     "data": {
      "text/plain": [
       "<IPython.core.display.HTML object>"
      ],
      "text/html": [
       "<span style=\"color:blue\"> |-dropout1: 0.1</span>"
      ]
     },
     "metadata": {}
    },
    {
     "output_type": "display_data",
     "data": {
      "text/plain": [
       "<IPython.core.display.HTML object>"
      ],
      "text/html": [
       "<span style=\"color:cyan\"> |-dropout2: 0.30000000000000004</span>"
      ]
     },
     "metadata": {}
    },
    {
     "output_type": "display_data",
     "data": {
      "text/plain": [
       "<IPython.core.display.HTML object>"
      ],
      "text/html": [
       "<span style=\"color:blue\"> |-filters_0: 128</span>"
      ]
     },
     "metadata": {}
    },
    {
     "output_type": "display_data",
     "data": {
      "text/plain": [
       "<IPython.core.display.HTML object>"
      ],
      "text/html": [
       "<span style=\"color:cyan\"> |-filters_1: 256</span>"
      ]
     },
     "metadata": {}
    },
    {
     "output_type": "display_data",
     "data": {
      "text/plain": [
       "<IPython.core.display.HTML object>"
      ],
      "text/html": [
       "<span style=\"color:blue\"> |-filters_2: 128</span>"
      ]
     },
     "metadata": {}
    },
    {
     "output_type": "display_data",
     "data": {
      "text/plain": [
       "<IPython.core.display.HTML object>"
      ],
      "text/html": [
       "<span style=\"color:cyan\"> |-filters_3: 256</span>"
      ]
     },
     "metadata": {}
    },
    {
     "output_type": "display_data",
     "data": {
      "text/plain": [
       "<IPython.core.display.HTML object>"
      ],
      "text/html": [
       "<span style=\"color:blue\"> |-hidden_size: 128</span>"
      ]
     },
     "metadata": {}
    },
    {
     "output_type": "display_data",
     "data": {
      "text/plain": [
       "<IPython.core.display.HTML object>"
      ],
      "text/html": [
       "<span style=\"color:cyan\"> |-kernel_size_0: 4</span>"
      ]
     },
     "metadata": {}
    },
    {
     "output_type": "display_data",
     "data": {
      "text/plain": [
       "<IPython.core.display.HTML object>"
      ],
      "text/html": [
       "<span style=\"color:blue\"> |-kernel_size_1: 3</span>"
      ]
     },
     "metadata": {}
    },
    {
     "output_type": "display_data",
     "data": {
      "text/plain": [
       "<IPython.core.display.HTML object>"
      ],
      "text/html": [
       "<span style=\"color:cyan\"> |-kernel_size_2: 3</span>"
      ]
     },
     "metadata": {}
    },
    {
     "output_type": "display_data",
     "data": {
      "text/plain": [
       "<IPython.core.display.HTML object>"
      ],
      "text/html": [
       "<span style=\"color:blue\"> |-kernel_size_3: 5</span>"
      ]
     },
     "metadata": {}
    },
    {
     "output_type": "display_data",
     "data": {
      "text/plain": [
       "<IPython.core.display.HTML object>"
      ],
      "text/html": [
       "<span style=\"color:cyan\"> |-learning_rate: 0.002437660182377661</span>"
      ]
     },
     "metadata": {}
    },
    {
     "output_type": "display_data",
     "data": {
      "text/plain": [
       "<IPython.core.display.HTML object>"
      ],
      "text/html": [
       "<span style=\"color:blue\"> |-optimizer_: rmsprop</span>"
      ]
     },
     "metadata": {}
    },
    {
     "output_type": "display_data",
     "data": {
      "text/plain": [
       "<IPython.core.display.HTML object>"
      ],
      "text/html": [
       "<span style=\"color:cyan\"> |-pooling_0: max</span>"
      ]
     },
     "metadata": {}
    },
    {
     "output_type": "display_data",
     "data": {
      "text/plain": [
       "<IPython.core.display.HTML object>"
      ],
      "text/html": [
       "<span style=\"color:blue\"> |-pooling_1: max</span>"
      ]
     },
     "metadata": {}
    },
    {
     "output_type": "display_data",
     "data": {
      "text/plain": [
       "<IPython.core.display.HTML object>"
      ],
      "text/html": [
       "<span style=\"color:cyan\"> |-pooling_2: global</span>"
      ]
     },
     "metadata": {}
    },
    {
     "output_type": "display_data",
     "data": {
      "text/plain": [
       "<IPython.core.display.HTML object>"
      ],
      "text/html": [
       "<span style=\"color:blue\"> |-pooling_3: max</span>"
      ]
     },
     "metadata": {}
    },
    {
     "output_type": "display_data",
     "data": {
      "text/plain": [
       "<IPython.core.display.HTML object>"
      ],
      "text/html": [
       "<span style=\"color:cyan\"> |-tuner/bracket: 2</span>"
      ]
     },
     "metadata": {}
    },
    {
     "output_type": "display_data",
     "data": {
      "text/plain": [
       "<IPython.core.display.HTML object>"
      ],
      "text/html": [
       "<span style=\"color:blue\"> |-tuner/epochs: 20</span>"
      ]
     },
     "metadata": {}
    },
    {
     "output_type": "display_data",
     "data": {
      "text/plain": [
       "<IPython.core.display.HTML object>"
      ],
      "text/html": [
       "<span style=\"color:cyan\"> |-tuner/initial_epoch: 7</span>"
      ]
     },
     "metadata": {}
    },
    {
     "output_type": "display_data",
     "data": {
      "text/plain": [
       "<IPython.core.display.HTML object>"
      ],
      "text/html": [
       "<span style=\"color:blue\"> |-tuner/round: 2</span>"
      ]
     },
     "metadata": {}
    },
    {
     "output_type": "display_data",
     "data": {
      "text/plain": [
       "<IPython.core.display.HTML object>"
      ],
      "text/html": [
       "<span style=\"color:cyan\"> |-tuner/trial_id: 6cae8e44c9ce5a3ab7012b327bf2573c</span>"
      ]
     },
     "metadata": {}
    },
    {
     "output_type": "stream",
     "name": "stdout",
     "text": [
      "Train on 118857 samples, validate on 29715 samples\n",
      "Epoch 8/20\n",
      "118857/118857 - 46s - loss: 0.4128 - accuracy: 0.8051 - val_loss: 0.3448 - val_accuracy: 0.8510\n",
      "Epoch 9/20\n",
      "118857/118857 - 45s - loss: 0.2954 - accuracy: 0.8767 - val_loss: 0.3226 - val_accuracy: 0.8631\n",
      "Epoch 10/20\n",
      "118857/118857 - 45s - loss: 0.2316 - accuracy: 0.9091 - val_loss: 0.3271 - val_accuracy: 0.8640\n",
      "Epoch 11/20\n",
      "118857/118857 - 46s - loss: 0.1662 - accuracy: 0.9391 - val_loss: 0.3583 - val_accuracy: 0.8576\n",
      "Epoch 12/20\n",
      "118857/118857 - 44s - loss: 0.1085 - accuracy: 0.9634 - val_loss: 0.4204 - val_accuracy: 0.8558\n",
      "Epoch 13/20\n",
      "118857/118857 - 45s - loss: 0.0727 - accuracy: 0.9761 - val_loss: 0.4771 - val_accuracy: 0.8522\n",
      "Train on 118857 samples, validate on 29715 samples\n",
      "Epoch 8/20\n",
      "118857/118857 - 46s - loss: 0.4137 - accuracy: 0.8040 - val_loss: 0.3423 - val_accuracy: 0.8539\n",
      "Epoch 9/20\n",
      "118857/118857 - 45s - loss: 0.2974 - accuracy: 0.8767 - val_loss: 0.3232 - val_accuracy: 0.8631\n",
      "Epoch 10/20\n",
      "118857/118857 - 45s - loss: 0.2324 - accuracy: 0.9090 - val_loss: 0.3302 - val_accuracy: 0.8634\n",
      "Epoch 11/20\n",
      "118857/118857 - 45s - loss: 0.1678 - accuracy: 0.9383 - val_loss: 0.3620 - val_accuracy: 0.8605\n",
      "Epoch 12/20\n",
      "118857/118857 - 44s - loss: 0.1118 - accuracy: 0.9620 - val_loss: 0.4196 - val_accuracy: 0.8518\n",
      "Epoch 13/20\n",
      "118857/118857 - 46s - loss: 0.0741 - accuracy: 0.9757 - val_loss: 0.4844 - val_accuracy: 0.8545\n",
      "Train on 118857 samples, validate on 29715 samples\n",
      "Epoch 8/20\n",
      "118857/118857 - 47s - loss: 0.4141 - accuracy: 0.8050 - val_loss: 0.3434 - val_accuracy: 0.8516\n",
      "Epoch 9/20\n",
      "118857/118857 - 46s - loss: 0.2961 - accuracy: 0.8773 - val_loss: 0.3251 - val_accuracy: 0.8622\n",
      "Epoch 10/20\n",
      "118857/118857 - 46s - loss: 0.2318 - accuracy: 0.9095 - val_loss: 0.3384 - val_accuracy: 0.8601\n",
      "Epoch 11/20\n",
      "118857/118857 - 45s - loss: 0.1668 - accuracy: 0.9393 - val_loss: 0.3663 - val_accuracy: 0.8633\n",
      "Epoch 12/20\n",
      "118857/118857 - 45s - loss: 0.1099 - accuracy: 0.9628 - val_loss: 0.4204 - val_accuracy: 0.8563\n",
      "Epoch 13/20\n",
      "118857/118857 - 45s - loss: 0.0728 - accuracy: 0.9767 - val_loss: 0.4932 - val_accuracy: 0.8560\n",
      "Train on 118857 samples, validate on 29715 samples\n",
      "Epoch 8/20\n",
      "118857/118857 - 47s - loss: 0.4133 - accuracy: 0.8059 - val_loss: 0.3408 - val_accuracy: 0.8540\n",
      "Epoch 9/20\n",
      "118857/118857 - 46s - loss: 0.2966 - accuracy: 0.8770 - val_loss: 0.3253 - val_accuracy: 0.8626\n",
      "Epoch 10/20\n",
      "118857/118857 - 45s - loss: 0.2348 - accuracy: 0.9076 - val_loss: 0.3266 - val_accuracy: 0.8650\n",
      "Epoch 11/20\n",
      "118857/118857 - 44s - loss: 0.1710 - accuracy: 0.9375 - val_loss: 0.3707 - val_accuracy: 0.8573\n",
      "Epoch 12/20\n",
      "118857/118857 - 46s - loss: 0.1136 - accuracy: 0.9621 - val_loss: 0.4211 - val_accuracy: 0.8538\n",
      "Epoch 13/20\n",
      "118857/118857 - 45s - loss: 0.0753 - accuracy: 0.9750 - val_loss: 0.4703 - val_accuracy: 0.8547\n",
      "Train on 118857 samples, validate on 29715 samples\n",
      "Epoch 8/20\n",
      "118857/118857 - 47s - loss: 0.4119 - accuracy: 0.8052 - val_loss: 0.3448 - val_accuracy: 0.8515\n",
      "Epoch 9/20\n",
      "118857/118857 - 44s - loss: 0.2947 - accuracy: 0.8775 - val_loss: 0.3258 - val_accuracy: 0.8620\n",
      "Epoch 10/20\n",
      "118857/118857 - 45s - loss: 0.2308 - accuracy: 0.9098 - val_loss: 0.3375 - val_accuracy: 0.8642\n",
      "Epoch 11/20\n",
      "118857/118857 - 45s - loss: 0.1674 - accuracy: 0.9384 - val_loss: 0.3731 - val_accuracy: 0.8562\n",
      "Epoch 12/20\n",
      "118857/118857 - 45s - loss: 0.1098 - accuracy: 0.9632 - val_loss: 0.4167 - val_accuracy: 0.8565\n",
      "Epoch 13/20\n",
      "118857/118857 - 44s - loss: 0.0719 - accuracy: 0.9764 - val_loss: 0.4939 - val_accuracy: 0.8548\n"
     ]
    },
    {
     "output_type": "display_data",
     "data": {
      "text/plain": [
       "<IPython.core.display.HTML object>"
      ],
      "text/html": [
       "<span style=\"color:#4527A0\"><h1 style=\"font-size:18px\">Trial complete</h1></span>"
      ]
     },
     "metadata": {}
    },
    {
     "output_type": "display_data",
     "data": {
      "text/plain": [
       "<IPython.core.display.HTML object>"
      ],
      "text/html": [
       "<span style=\"color:#4527A0\"><h1 style=\"font-size:18px\">Trial summary</h1></span>"
      ]
     },
     "metadata": {}
    },
    {
     "output_type": "display_data",
     "data": {
      "text/plain": [
       "<IPython.core.display.HTML object>"
      ],
      "text/html": [
       "<span style=\"color:cyan\"> |-Trial ID: 7cd6f3ef09d67162188bfa99b6c13883</span>"
      ]
     },
     "metadata": {}
    },
    {
     "output_type": "display_data",
     "data": {
      "text/plain": [
       "<IPython.core.display.HTML object>"
      ],
      "text/html": [
       "<span style=\"color:cyan\"> |-Score: 0.8639811277389526</span>"
      ]
     },
     "metadata": {}
    },
    {
     "output_type": "display_data",
     "data": {
      "text/plain": [
       "<IPython.core.display.HTML object>"
      ],
      "text/html": [
       "<span style=\"color:cyan\"> |-Best step: 0</span>"
      ]
     },
     "metadata": {}
    },
    {
     "output_type": "display_data",
     "data": {
      "text/plain": [
       "<IPython.core.display.HTML object>"
      ],
      "text/html": [
       "<span style=\"color:#7E57C2\"><h2 style=\"font-size:16px\">Hyperparameters:</h2></span>"
      ]
     },
     "metadata": {}
    },
    {
     "output_type": "display_data",
     "data": {
      "text/plain": [
       "<IPython.core.display.HTML object>"
      ],
      "text/html": [
       "<span style=\"color:cyan\"> |-conv_blocks: 3</span>"
      ]
     },
     "metadata": {}
    },
    {
     "output_type": "display_data",
     "data": {
      "text/plain": [
       "<IPython.core.display.HTML object>"
      ],
      "text/html": [
       "<span style=\"color:blue\"> |-dropout1: 0.0</span>"
      ]
     },
     "metadata": {}
    },
    {
     "output_type": "display_data",
     "data": {
      "text/plain": [
       "<IPython.core.display.HTML object>"
      ],
      "text/html": [
       "<span style=\"color:cyan\"> |-dropout2: 0.30000000000000004</span>"
      ]
     },
     "metadata": {}
    },
    {
     "output_type": "display_data",
     "data": {
      "text/plain": [
       "<IPython.core.display.HTML object>"
      ],
      "text/html": [
       "<span style=\"color:blue\"> |-filters_0: 512</span>"
      ]
     },
     "metadata": {}
    },
    {
     "output_type": "display_data",
     "data": {
      "text/plain": [
       "<IPython.core.display.HTML object>"
      ],
      "text/html": [
       "<span style=\"color:cyan\"> |-filters_1: 512</span>"
      ]
     },
     "metadata": {}
    },
    {
     "output_type": "display_data",
     "data": {
      "text/plain": [
       "<IPython.core.display.HTML object>"
      ],
      "text/html": [
       "<span style=\"color:blue\"> |-filters_2: 512</span>"
      ]
     },
     "metadata": {}
    },
    {
     "output_type": "display_data",
     "data": {
      "text/plain": [
       "<IPython.core.display.HTML object>"
      ],
      "text/html": [
       "<span style=\"color:cyan\"> |-filters_3: 32</span>"
      ]
     },
     "metadata": {}
    },
    {
     "output_type": "display_data",
     "data": {
      "text/plain": [
       "<IPython.core.display.HTML object>"
      ],
      "text/html": [
       "<span style=\"color:blue\"> |-hidden_size: 512</span>"
      ]
     },
     "metadata": {}
    },
    {
     "output_type": "display_data",
     "data": {
      "text/plain": [
       "<IPython.core.display.HTML object>"
      ],
      "text/html": [
       "<span style=\"color:cyan\"> |-kernel_size_0: 4</span>"
      ]
     },
     "metadata": {}
    },
    {
     "output_type": "display_data",
     "data": {
      "text/plain": [
       "<IPython.core.display.HTML object>"
      ],
      "text/html": [
       "<span style=\"color:blue\"> |-kernel_size_1: 4</span>"
      ]
     },
     "metadata": {}
    },
    {
     "output_type": "display_data",
     "data": {
      "text/plain": [
       "<IPython.core.display.HTML object>"
      ],
      "text/html": [
       "<span style=\"color:cyan\"> |-kernel_size_2: 5</span>"
      ]
     },
     "metadata": {}
    },
    {
     "output_type": "display_data",
     "data": {
      "text/plain": [
       "<IPython.core.display.HTML object>"
      ],
      "text/html": [
       "<span style=\"color:blue\"> |-kernel_size_3: 4</span>"
      ]
     },
     "metadata": {}
    },
    {
     "output_type": "display_data",
     "data": {
      "text/plain": [
       "<IPython.core.display.HTML object>"
      ],
      "text/html": [
       "<span style=\"color:cyan\"> |-learning_rate: 0.00013067896132503527</span>"
      ]
     },
     "metadata": {}
    },
    {
     "output_type": "display_data",
     "data": {
      "text/plain": [
       "<IPython.core.display.HTML object>"
      ],
      "text/html": [
       "<span style=\"color:blue\"> |-optimizer_: adam</span>"
      ]
     },
     "metadata": {}
    },
    {
     "output_type": "display_data",
     "data": {
      "text/plain": [
       "<IPython.core.display.HTML object>"
      ],
      "text/html": [
       "<span style=\"color:cyan\"> |-pooling_0: global</span>"
      ]
     },
     "metadata": {}
    },
    {
     "output_type": "display_data",
     "data": {
      "text/plain": [
       "<IPython.core.display.HTML object>"
      ],
      "text/html": [
       "<span style=\"color:blue\"> |-pooling_1: global</span>"
      ]
     },
     "metadata": {}
    },
    {
     "output_type": "display_data",
     "data": {
      "text/plain": [
       "<IPython.core.display.HTML object>"
      ],
      "text/html": [
       "<span style=\"color:cyan\"> |-pooling_2: global</span>"
      ]
     },
     "metadata": {}
    },
    {
     "output_type": "display_data",
     "data": {
      "text/plain": [
       "<IPython.core.display.HTML object>"
      ],
      "text/html": [
       "<span style=\"color:blue\"> |-pooling_3: max</span>"
      ]
     },
     "metadata": {}
    },
    {
     "output_type": "display_data",
     "data": {
      "text/plain": [
       "<IPython.core.display.HTML object>"
      ],
      "text/html": [
       "<span style=\"color:cyan\"> |-tuner/bracket: 2</span>"
      ]
     },
     "metadata": {}
    },
    {
     "output_type": "display_data",
     "data": {
      "text/plain": [
       "<IPython.core.display.HTML object>"
      ],
      "text/html": [
       "<span style=\"color:blue\"> |-tuner/epochs: 20</span>"
      ]
     },
     "metadata": {}
    },
    {
     "output_type": "display_data",
     "data": {
      "text/plain": [
       "<IPython.core.display.HTML object>"
      ],
      "text/html": [
       "<span style=\"color:cyan\"> |-tuner/initial_epoch: 7</span>"
      ]
     },
     "metadata": {}
    },
    {
     "output_type": "display_data",
     "data": {
      "text/plain": [
       "<IPython.core.display.HTML object>"
      ],
      "text/html": [
       "<span style=\"color:blue\"> |-tuner/round: 2</span>"
      ]
     },
     "metadata": {}
    },
    {
     "output_type": "display_data",
     "data": {
      "text/plain": [
       "<IPython.core.display.HTML object>"
      ],
      "text/html": [
       "<span style=\"color:cyan\"> |-tuner/trial_id: 023d07319db9c8a19c075ae33c6fd3b7</span>"
      ]
     },
     "metadata": {}
    },
    {
     "output_type": "stream",
     "name": "stdout",
     "text": [
      "Train on 118857 samples, validate on 29715 samples\n",
      "Epoch 1/7\n",
      "118857/118857 - 27s - loss: 0.3962 - accuracy: 0.8198 - val_loss: 0.3552 - val_accuracy: 0.8444\n",
      "Epoch 2/7\n",
      "118857/118857 - 27s - loss: 0.3297 - accuracy: 0.8601 - val_loss: 0.3325 - val_accuracy: 0.8577\n",
      "Epoch 3/7\n",
      "118857/118857 - 26s - loss: 0.3055 - accuracy: 0.8732 - val_loss: 0.3330 - val_accuracy: 0.8562\n",
      "Epoch 4/7\n",
      "118857/118857 - 27s - loss: 0.2880 - accuracy: 0.8819 - val_loss: 0.3244 - val_accuracy: 0.8626\n",
      "Epoch 5/7\n",
      "118857/118857 - 27s - loss: 0.2733 - accuracy: 0.8900 - val_loss: 0.3358 - val_accuracy: 0.8645\n",
      "Epoch 6/7\n",
      "118857/118857 - 27s - loss: 0.2638 - accuracy: 0.8956 - val_loss: 0.3327 - val_accuracy: 0.8615\n",
      "Epoch 7/7\n",
      "118857/118857 - 27s - loss: 0.2525 - accuracy: 0.9016 - val_loss: 0.3392 - val_accuracy: 0.8615\n",
      "Train on 118857 samples, validate on 29715 samples\n",
      "Epoch 1/7\n",
      "118857/118857 - 28s - loss: 0.3980 - accuracy: 0.8182 - val_loss: 0.3513 - val_accuracy: 0.8465\n",
      "Epoch 2/7\n",
      "118857/118857 - 27s - loss: 0.3297 - accuracy: 0.8595 - val_loss: 0.3342 - val_accuracy: 0.8584\n",
      "Epoch 3/7\n",
      "118857/118857 - 27s - loss: 0.3043 - accuracy: 0.8748 - val_loss: 0.3272 - val_accuracy: 0.8617\n",
      "Epoch 4/7\n",
      "118857/118857 - 27s - loss: 0.2878 - accuracy: 0.8824 - val_loss: 0.3243 - val_accuracy: 0.8611\n",
      "Epoch 5/7\n",
      "118857/118857 - 26s - loss: 0.2745 - accuracy: 0.8900 - val_loss: 0.3266 - val_accuracy: 0.8618\n",
      "Epoch 6/7\n",
      "118857/118857 - 27s - loss: 0.2613 - accuracy: 0.8958 - val_loss: 0.3460 - val_accuracy: 0.8568\n",
      "Epoch 7/7\n",
      "118857/118857 - 27s - loss: 0.2527 - accuracy: 0.9004 - val_loss: 0.3463 - val_accuracy: 0.8632\n",
      "Train on 118857 samples, validate on 29715 samples\n",
      "Epoch 1/7\n",
      "118857/118857 - 28s - loss: 0.3965 - accuracy: 0.8187 - val_loss: 0.3502 - val_accuracy: 0.8487\n",
      "Epoch 2/7\n",
      "118857/118857 - 27s - loss: 0.3303 - accuracy: 0.8601 - val_loss: 0.3326 - val_accuracy: 0.8585\n",
      "Epoch 3/7\n",
      "118857/118857 - 27s - loss: 0.3062 - accuracy: 0.8732 - val_loss: 0.3265 - val_accuracy: 0.8593\n",
      "Epoch 4/7\n",
      "118857/118857 - 28s - loss: 0.2886 - accuracy: 0.8826 - val_loss: 0.3344 - val_accuracy: 0.8619\n",
      "Epoch 5/7\n",
      "118857/118857 - 27s - loss: 0.2744 - accuracy: 0.8895 - val_loss: 0.3280 - val_accuracy: 0.8594\n",
      "Epoch 6/7\n",
      "118857/118857 - 28s - loss: 0.2625 - accuracy: 0.8952 - val_loss: 0.3578 - val_accuracy: 0.8520\n",
      "Epoch 7/7\n",
      "118857/118857 - 28s - loss: 0.2514 - accuracy: 0.9004 - val_loss: 0.3580 - val_accuracy: 0.8528\n",
      "Train on 118857 samples, validate on 29715 samples\n",
      "Epoch 1/7\n",
      "118857/118857 - 28s - loss: 0.3980 - accuracy: 0.8174 - val_loss: 0.3508 - val_accuracy: 0.8480\n",
      "Epoch 2/7\n",
      "118857/118857 - 27s - loss: 0.3304 - accuracy: 0.8598 - val_loss: 0.3563 - val_accuracy: 0.8436\n",
      "Epoch 3/7\n",
      "118857/118857 - 28s - loss: 0.3068 - accuracy: 0.8723 - val_loss: 0.3327 - val_accuracy: 0.8608\n",
      "Epoch 4/7\n",
      "118857/118857 - 27s - loss: 0.2884 - accuracy: 0.8819 - val_loss: 0.3690 - val_accuracy: 0.8429\n",
      "Epoch 5/7\n",
      "118857/118857 - 28s - loss: 0.2740 - accuracy: 0.8894 - val_loss: 0.3386 - val_accuracy: 0.8644\n",
      "Epoch 6/7\n",
      "118857/118857 - 28s - loss: 0.2610 - accuracy: 0.8961 - val_loss: 0.3376 - val_accuracy: 0.8603\n",
      "Epoch 7/7\n",
      "118857/118857 - 27s - loss: 0.2521 - accuracy: 0.9008 - val_loss: 0.3306 - val_accuracy: 0.8641\n",
      "Train on 118857 samples, validate on 29715 samples\n",
      "Epoch 1/7\n",
      "118857/118857 - 28s - loss: 0.3974 - accuracy: 0.8177 - val_loss: 0.3558 - val_accuracy: 0.8463\n",
      "Epoch 2/7\n",
      "118857/118857 - 28s - loss: 0.3320 - accuracy: 0.8587 - val_loss: 0.3322 - val_accuracy: 0.8565\n",
      "Epoch 3/7\n",
      "118857/118857 - 27s - loss: 0.3071 - accuracy: 0.8718 - val_loss: 0.3422 - val_accuracy: 0.8558\n",
      "Epoch 4/7\n",
      "118857/118857 - 28s - loss: 0.2901 - accuracy: 0.8818 - val_loss: 0.3436 - val_accuracy: 0.8558\n",
      "Epoch 5/7\n",
      "118857/118857 - 28s - loss: 0.2768 - accuracy: 0.8881 - val_loss: 0.3328 - val_accuracy: 0.8612\n",
      "Epoch 6/7\n",
      "118857/118857 - 27s - loss: 0.2632 - accuracy: 0.8948 - val_loss: 0.3395 - val_accuracy: 0.8569\n"
     ]
    },
    {
     "output_type": "display_data",
     "data": {
      "text/plain": [
       "<IPython.core.display.HTML object>"
      ],
      "text/html": [
       "<span style=\"color:#4527A0\"><h1 style=\"font-size:18px\">Trial complete</h1></span>"
      ]
     },
     "metadata": {}
    },
    {
     "output_type": "display_data",
     "data": {
      "text/plain": [
       "<IPython.core.display.HTML object>"
      ],
      "text/html": [
       "<span style=\"color:#4527A0\"><h1 style=\"font-size:18px\">Trial summary</h1></span>"
      ]
     },
     "metadata": {}
    },
    {
     "output_type": "display_data",
     "data": {
      "text/plain": [
       "<IPython.core.display.HTML object>"
      ],
      "text/html": [
       "<span style=\"color:cyan\"> |-Trial ID: 64cfa4550e12791e1855547257368d28</span>"
      ]
     },
     "metadata": {}
    },
    {
     "output_type": "display_data",
     "data": {
      "text/plain": [
       "<IPython.core.display.HTML object>"
      ],
      "text/html": [
       "<span style=\"color:cyan\"> |-Score: 0.863052248954773</span>"
      ]
     },
     "metadata": {}
    },
    {
     "output_type": "display_data",
     "data": {
      "text/plain": [
       "<IPython.core.display.HTML object>"
      ],
      "text/html": [
       "<span style=\"color:cyan\"> |-Best step: 0</span>"
      ]
     },
     "metadata": {}
    },
    {
     "output_type": "display_data",
     "data": {
      "text/plain": [
       "<IPython.core.display.HTML object>"
      ],
      "text/html": [
       "<span style=\"color:#7E57C2\"><h2 style=\"font-size:16px\">Hyperparameters:</h2></span>"
      ]
     },
     "metadata": {}
    },
    {
     "output_type": "display_data",
     "data": {
      "text/plain": [
       "<IPython.core.display.HTML object>"
      ],
      "text/html": [
       "<span style=\"color:cyan\"> |-conv_blocks: 2</span>"
      ]
     },
     "metadata": {}
    },
    {
     "output_type": "display_data",
     "data": {
      "text/plain": [
       "<IPython.core.display.HTML object>"
      ],
      "text/html": [
       "<span style=\"color:blue\"> |-dropout1: 0.2</span>"
      ]
     },
     "metadata": {}
    },
    {
     "output_type": "display_data",
     "data": {
      "text/plain": [
       "<IPython.core.display.HTML object>"
      ],
      "text/html": [
       "<span style=\"color:cyan\"> |-dropout2: 0.30000000000000004</span>"
      ]
     },
     "metadata": {}
    },
    {
     "output_type": "display_data",
     "data": {
      "text/plain": [
       "<IPython.core.display.HTML object>"
      ],
      "text/html": [
       "<span style=\"color:blue\"> |-filters_0: 32</span>"
      ]
     },
     "metadata": {}
    },
    {
     "output_type": "display_data",
     "data": {
      "text/plain": [
       "<IPython.core.display.HTML object>"
      ],
      "text/html": [
       "<span style=\"color:cyan\"> |-filters_1: 256</span>"
      ]
     },
     "metadata": {}
    },
    {
     "output_type": "display_data",
     "data": {
      "text/plain": [
       "<IPython.core.display.HTML object>"
      ],
      "text/html": [
       "<span style=\"color:blue\"> |-filters_2: 512</span>"
      ]
     },
     "metadata": {}
    },
    {
     "output_type": "display_data",
     "data": {
      "text/plain": [
       "<IPython.core.display.HTML object>"
      ],
      "text/html": [
       "<span style=\"color:cyan\"> |-filters_3: 128</span>"
      ]
     },
     "metadata": {}
    },
    {
     "output_type": "display_data",
     "data": {
      "text/plain": [
       "<IPython.core.display.HTML object>"
      ],
      "text/html": [
       "<span style=\"color:blue\"> |-hidden_size: 128</span>"
      ]
     },
     "metadata": {}
    },
    {
     "output_type": "display_data",
     "data": {
      "text/plain": [
       "<IPython.core.display.HTML object>"
      ],
      "text/html": [
       "<span style=\"color:cyan\"> |-kernel_size_0: 3</span>"
      ]
     },
     "metadata": {}
    },
    {
     "output_type": "display_data",
     "data": {
      "text/plain": [
       "<IPython.core.display.HTML object>"
      ],
      "text/html": [
       "<span style=\"color:blue\"> |-kernel_size_1: 4</span>"
      ]
     },
     "metadata": {}
    },
    {
     "output_type": "display_data",
     "data": {
      "text/plain": [
       "<IPython.core.display.HTML object>"
      ],
      "text/html": [
       "<span style=\"color:cyan\"> |-kernel_size_2: 4</span>"
      ]
     },
     "metadata": {}
    },
    {
     "output_type": "display_data",
     "data": {
      "text/plain": [
       "<IPython.core.display.HTML object>"
      ],
      "text/html": [
       "<span style=\"color:blue\"> |-kernel_size_3: 4</span>"
      ]
     },
     "metadata": {}
    },
    {
     "output_type": "display_data",
     "data": {
      "text/plain": [
       "<IPython.core.display.HTML object>"
      ],
      "text/html": [
       "<span style=\"color:cyan\"> |-learning_rate: 0.0011387088329202898</span>"
      ]
     },
     "metadata": {}
    },
    {
     "output_type": "display_data",
     "data": {
      "text/plain": [
       "<IPython.core.display.HTML object>"
      ],
      "text/html": [
       "<span style=\"color:blue\"> |-optimizer_: rmsprop</span>"
      ]
     },
     "metadata": {}
    },
    {
     "output_type": "display_data",
     "data": {
      "text/plain": [
       "<IPython.core.display.HTML object>"
      ],
      "text/html": [
       "<span style=\"color:cyan\"> |-pooling_0: global</span>"
      ]
     },
     "metadata": {}
    },
    {
     "output_type": "display_data",
     "data": {
      "text/plain": [
       "<IPython.core.display.HTML object>"
      ],
      "text/html": [
       "<span style=\"color:blue\"> |-pooling_1: max</span>"
      ]
     },
     "metadata": {}
    },
    {
     "output_type": "display_data",
     "data": {
      "text/plain": [
       "<IPython.core.display.HTML object>"
      ],
      "text/html": [
       "<span style=\"color:cyan\"> |-pooling_2: max</span>"
      ]
     },
     "metadata": {}
    },
    {
     "output_type": "display_data",
     "data": {
      "text/plain": [
       "<IPython.core.display.HTML object>"
      ],
      "text/html": [
       "<span style=\"color:blue\"> |-pooling_3: global</span>"
      ]
     },
     "metadata": {}
    },
    {
     "output_type": "display_data",
     "data": {
      "text/plain": [
       "<IPython.core.display.HTML object>"
      ],
      "text/html": [
       "<span style=\"color:cyan\"> |-tuner/bracket: 1</span>"
      ]
     },
     "metadata": {}
    },
    {
     "output_type": "display_data",
     "data": {
      "text/plain": [
       "<IPython.core.display.HTML object>"
      ],
      "text/html": [
       "<span style=\"color:blue\"> |-tuner/epochs: 7</span>"
      ]
     },
     "metadata": {}
    },
    {
     "output_type": "display_data",
     "data": {
      "text/plain": [
       "<IPython.core.display.HTML object>"
      ],
      "text/html": [
       "<span style=\"color:cyan\"> |-tuner/initial_epoch: 0</span>"
      ]
     },
     "metadata": {}
    },
    {
     "output_type": "display_data",
     "data": {
      "text/plain": [
       "<IPython.core.display.HTML object>"
      ],
      "text/html": [
       "<span style=\"color:blue\"> |-tuner/round: 0</span>"
      ]
     },
     "metadata": {}
    },
    {
     "output_type": "stream",
     "name": "stdout",
     "text": [
      "Train on 118857 samples, validate on 29715 samples\n",
      "Epoch 1/7\n",
      "118857/118857 - 27s - loss: 1.4145 - accuracy: 0.5645 - val_loss: 0.6931 - val_accuracy: 0.5055\n",
      "Epoch 2/7\n",
      "118857/118857 - 27s - loss: 0.7192 - accuracy: 0.4999 - val_loss: 0.6937 - val_accuracy: 0.5055\n",
      "Epoch 3/7\n",
      "118857/118857 - 26s - loss: 0.7245 - accuracy: 0.5003 - val_loss: 0.6940 - val_accuracy: 0.4945\n",
      "Epoch 4/7\n",
      "118857/118857 - 26s - loss: 0.7036 - accuracy: 0.4993 - val_loss: 0.6931 - val_accuracy: 0.5055\n",
      "Epoch 5/7\n",
      "118857/118857 - 27s - loss: 0.7242 - accuracy: 0.5023 - val_loss: 0.6931 - val_accuracy: 0.5055\n",
      "Epoch 6/7\n",
      "118857/118857 - 26s - loss: 0.7040 - accuracy: 0.5014 - val_loss: 0.6936 - val_accuracy: 0.4947\n",
      "Epoch 7/7\n",
      "118857/118857 - 27s - loss: 0.6999 - accuracy: 0.5015 - val_loss: 0.6938 - val_accuracy: 0.5055\n",
      "Train on 118857 samples, validate on 29715 samples\n",
      "Epoch 1/7\n",
      "118857/118857 - 27s - loss: 1.8974 - accuracy: 0.5743 - val_loss: 0.7035 - val_accuracy: 0.4946\n",
      "Epoch 2/7\n",
      "118857/118857 - 26s - loss: 0.7273 - accuracy: 0.5042 - val_loss: 0.6965 - val_accuracy: 0.4953\n",
      "Epoch 3/7\n",
      "118857/118857 - 27s - loss: 0.7113 - accuracy: 0.5040 - val_loss: 0.6943 - val_accuracy: 0.4948\n",
      "Epoch 4/7\n",
      "118857/118857 - 27s - loss: 0.7072 - accuracy: 0.4998 - val_loss: 0.6942 - val_accuracy: 0.4946\n",
      "Epoch 5/7\n",
      "118857/118857 - 27s - loss: 0.7051 - accuracy: 0.5027 - val_loss: 0.6928 - val_accuracy: 0.4953\n",
      "Epoch 6/7\n",
      "118857/118857 - 26s - loss: 0.7192 - accuracy: 0.5008 - val_loss: 0.6939 - val_accuracy: 0.5055\n",
      "Epoch 7/7\n",
      "118857/118857 - 26s - loss: 0.7118 - accuracy: 0.5011 - val_loss: 0.6954 - val_accuracy: 0.4946\n",
      "Train on 118857 samples, validate on 29715 samples\n",
      "Epoch 1/7\n",
      "118857/118857 - 28s - loss: 1.6970 - accuracy: 0.5825 - val_loss: 0.6928 - val_accuracy: 0.5055\n",
      "Epoch 2/7\n",
      "118857/118857 - 27s - loss: 0.7489 - accuracy: 0.5053 - val_loss: 0.6925 - val_accuracy: 0.5055\n",
      "Epoch 3/7\n",
      "118857/118857 - 26s - loss: 0.7231 - accuracy: 0.5023 - val_loss: 0.6935 - val_accuracy: 0.5055\n",
      "Epoch 4/7\n",
      "118857/118857 - 26s - loss: 0.6973 - accuracy: 0.5000 - val_loss: 0.6930 - val_accuracy: 0.5055\n",
      "Epoch 5/7\n",
      "118857/118857 - 27s - loss: 0.7157 - accuracy: 0.5027 - val_loss: 0.6907 - val_accuracy: 0.5055\n",
      "Epoch 6/7\n",
      "118857/118857 - 27s - loss: 0.7135 - accuracy: 0.5031 - val_loss: 0.6913 - val_accuracy: 0.5055\n",
      "Epoch 7/7\n",
      "118857/118857 - 26s - loss: 0.7258 - accuracy: 0.5029 - val_loss: 0.6933 - val_accuracy: 0.4956\n",
      "Train on 118857 samples, validate on 29715 samples\n",
      "Epoch 1/7\n",
      "118857/118857 - 27s - loss: 1.0717 - accuracy: 0.5680 - val_loss: 0.6951 - val_accuracy: 0.5000\n",
      "Epoch 2/7\n",
      "118857/118857 - 26s - loss: 0.7357 - accuracy: 0.5001 - val_loss: 0.6939 - val_accuracy: 0.4945\n",
      "Epoch 3/7\n",
      "118857/118857 - 26s - loss: 0.7119 - accuracy: 0.5028 - val_loss: 0.6933 - val_accuracy: 0.5055\n",
      "Epoch 4/7\n",
      "118857/118857 - 26s - loss: 0.7074 - accuracy: 0.5002 - val_loss: 0.6934 - val_accuracy: 0.4945\n",
      "Epoch 5/7\n",
      "118857/118857 - 26s - loss: 0.7049 - accuracy: 0.4997 - val_loss: 0.6940 - val_accuracy: 0.5055\n",
      "Epoch 6/7\n",
      "118857/118857 - 26s - loss: 0.7013 - accuracy: 0.4987 - val_loss: 0.6935 - val_accuracy: 0.4946\n",
      "Epoch 7/7\n",
      "118857/118857 - 25s - loss: 0.7212 - accuracy: 0.5001 - val_loss: 0.6935 - val_accuracy: 0.5055\n",
      "Train on 118857 samples, validate on 29715 samples\n",
      "Epoch 1/7\n",
      "118857/118857 - 27s - loss: 1.1887 - accuracy: 0.5672 - val_loss: 0.6933 - val_accuracy: 0.5055\n",
      "Epoch 2/7\n",
      "118857/118857 - 27s - loss: 0.7259 - accuracy: 0.5029 - val_loss: 0.6941 - val_accuracy: 0.5055\n",
      "Epoch 3/7\n",
      "118857/118857 - 27s - loss: 0.7022 - accuracy: 0.5021 - val_loss: 0.6935 - val_accuracy: 0.5053\n",
      "Epoch 4/7\n",
      "118857/118857 - 26s - loss: 0.7239 - accuracy: 0.5014 - val_loss: 0.6929 - val_accuracy: 0.5055\n",
      "Epoch 5/7\n",
      "118857/118857 - 27s - loss: 0.7100 - accuracy: 0.5020 - val_loss: 0.6931 - val_accuracy: 0.4950\n",
      "Epoch 6/7\n",
      "118857/118857 - 27s - loss: 0.7106 - accuracy: 0.5028 - val_loss: 0.6930 - val_accuracy: 0.5055\n",
      "Epoch 7/7\n",
      "118857/118857 - 27s - loss: 0.7073 - accuracy: 0.4999 - val_loss: 0.6935 - val_accuracy: 0.5055\n"
     ]
    },
    {
     "output_type": "display_data",
     "data": {
      "text/plain": [
       "<IPython.core.display.HTML object>"
      ],
      "text/html": [
       "<span style=\"color:#4527A0\"><h1 style=\"font-size:18px\">Trial complete</h1></span>"
      ]
     },
     "metadata": {}
    },
    {
     "output_type": "display_data",
     "data": {
      "text/plain": [
       "<IPython.core.display.HTML object>"
      ],
      "text/html": [
       "<span style=\"color:#4527A0\"><h1 style=\"font-size:18px\">Trial summary</h1></span>"
      ]
     },
     "metadata": {}
    },
    {
     "output_type": "display_data",
     "data": {
      "text/plain": [
       "<IPython.core.display.HTML object>"
      ],
      "text/html": [
       "<span style=\"color:cyan\"> |-Trial ID: b9caaac340bf932e79b133ad70034ccb</span>"
      ]
     },
     "metadata": {}
    },
    {
     "output_type": "display_data",
     "data": {
      "text/plain": [
       "<IPython.core.display.HTML object>"
      ],
      "text/html": [
       "<span style=\"color:cyan\"> |-Score: 0.5054686069488525</span>"
      ]
     },
     "metadata": {}
    },
    {
     "output_type": "display_data",
     "data": {
      "text/plain": [
       "<IPython.core.display.HTML object>"
      ],
      "text/html": [
       "<span style=\"color:cyan\"> |-Best step: 0</span>"
      ]
     },
     "metadata": {}
    },
    {
     "output_type": "display_data",
     "data": {
      "text/plain": [
       "<IPython.core.display.HTML object>"
      ],
      "text/html": [
       "<span style=\"color:#7E57C2\"><h2 style=\"font-size:16px\">Hyperparameters:</h2></span>"
      ]
     },
     "metadata": {}
    },
    {
     "output_type": "display_data",
     "data": {
      "text/plain": [
       "<IPython.core.display.HTML object>"
      ],
      "text/html": [
       "<span style=\"color:cyan\"> |-conv_blocks: 1</span>"
      ]
     },
     "metadata": {}
    },
    {
     "output_type": "display_data",
     "data": {
      "text/plain": [
       "<IPython.core.display.HTML object>"
      ],
      "text/html": [
       "<span style=\"color:blue\"> |-dropout1: 0.30000000000000004</span>"
      ]
     },
     "metadata": {}
    },
    {
     "output_type": "display_data",
     "data": {
      "text/plain": [
       "<IPython.core.display.HTML object>"
      ],
      "text/html": [
       "<span style=\"color:cyan\"> |-dropout2: 0.5</span>"
      ]
     },
     "metadata": {}
    },
    {
     "output_type": "display_data",
     "data": {
      "text/plain": [
       "<IPython.core.display.HTML object>"
      ],
      "text/html": [
       "<span style=\"color:blue\"> |-filters_0: 32</span>"
      ]
     },
     "metadata": {}
    },
    {
     "output_type": "display_data",
     "data": {
      "text/plain": [
       "<IPython.core.display.HTML object>"
      ],
      "text/html": [
       "<span style=\"color:cyan\"> |-filters_1: 64</span>"
      ]
     },
     "metadata": {}
    },
    {
     "output_type": "display_data",
     "data": {
      "text/plain": [
       "<IPython.core.display.HTML object>"
      ],
      "text/html": [
       "<span style=\"color:blue\"> |-filters_2: 64</span>"
      ]
     },
     "metadata": {}
    },
    {
     "output_type": "display_data",
     "data": {
      "text/plain": [
       "<IPython.core.display.HTML object>"
      ],
      "text/html": [
       "<span style=\"color:cyan\"> |-filters_3: 512</span>"
      ]
     },
     "metadata": {}
    },
    {
     "output_type": "display_data",
     "data": {
      "text/plain": [
       "<IPython.core.display.HTML object>"
      ],
      "text/html": [
       "<span style=\"color:blue\"> |-hidden_size: 512</span>"
      ]
     },
     "metadata": {}
    },
    {
     "output_type": "display_data",
     "data": {
      "text/plain": [
       "<IPython.core.display.HTML object>"
      ],
      "text/html": [
       "<span style=\"color:cyan\"> |-kernel_size_0: 3</span>"
      ]
     },
     "metadata": {}
    },
    {
     "output_type": "display_data",
     "data": {
      "text/plain": [
       "<IPython.core.display.HTML object>"
      ],
      "text/html": [
       "<span style=\"color:blue\"> |-kernel_size_1: 4</span>"
      ]
     },
     "metadata": {}
    },
    {
     "output_type": "display_data",
     "data": {
      "text/plain": [
       "<IPython.core.display.HTML object>"
      ],
      "text/html": [
       "<span style=\"color:cyan\"> |-kernel_size_2: 4</span>"
      ]
     },
     "metadata": {}
    },
    {
     "output_type": "display_data",
     "data": {
      "text/plain": [
       "<IPython.core.display.HTML object>"
      ],
      "text/html": [
       "<span style=\"color:blue\"> |-kernel_size_3: 4</span>"
      ]
     },
     "metadata": {}
    },
    {
     "output_type": "display_data",
     "data": {
      "text/plain": [
       "<IPython.core.display.HTML object>"
      ],
      "text/html": [
       "<span style=\"color:cyan\"> |-learning_rate: 0.03568778264993609</span>"
      ]
     },
     "metadata": {}
    },
    {
     "output_type": "display_data",
     "data": {
      "text/plain": [
       "<IPython.core.display.HTML object>"
      ],
      "text/html": [
       "<span style=\"color:blue\"> |-optimizer_: rmsprop</span>"
      ]
     },
     "metadata": {}
    },
    {
     "output_type": "display_data",
     "data": {
      "text/plain": [
       "<IPython.core.display.HTML object>"
      ],
      "text/html": [
       "<span style=\"color:cyan\"> |-pooling_0: max</span>"
      ]
     },
     "metadata": {}
    },
    {
     "output_type": "display_data",
     "data": {
      "text/plain": [
       "<IPython.core.display.HTML object>"
      ],
      "text/html": [
       "<span style=\"color:blue\"> |-pooling_1: max</span>"
      ]
     },
     "metadata": {}
    },
    {
     "output_type": "display_data",
     "data": {
      "text/plain": [
       "<IPython.core.display.HTML object>"
      ],
      "text/html": [
       "<span style=\"color:cyan\"> |-pooling_2: max</span>"
      ]
     },
     "metadata": {}
    },
    {
     "output_type": "display_data",
     "data": {
      "text/plain": [
       "<IPython.core.display.HTML object>"
      ],
      "text/html": [
       "<span style=\"color:blue\"> |-pooling_3: global</span>"
      ]
     },
     "metadata": {}
    },
    {
     "output_type": "display_data",
     "data": {
      "text/plain": [
       "<IPython.core.display.HTML object>"
      ],
      "text/html": [
       "<span style=\"color:cyan\"> |-tuner/bracket: 1</span>"
      ]
     },
     "metadata": {}
    },
    {
     "output_type": "display_data",
     "data": {
      "text/plain": [
       "<IPython.core.display.HTML object>"
      ],
      "text/html": [
       "<span style=\"color:blue\"> |-tuner/epochs: 7</span>"
      ]
     },
     "metadata": {}
    },
    {
     "output_type": "display_data",
     "data": {
      "text/plain": [
       "<IPython.core.display.HTML object>"
      ],
      "text/html": [
       "<span style=\"color:cyan\"> |-tuner/initial_epoch: 0</span>"
      ]
     },
     "metadata": {}
    },
    {
     "output_type": "display_data",
     "data": {
      "text/plain": [
       "<IPython.core.display.HTML object>"
      ],
      "text/html": [
       "<span style=\"color:blue\"> |-tuner/round: 0</span>"
      ]
     },
     "metadata": {}
    },
    {
     "output_type": "stream",
     "name": "stdout",
     "text": [
      "Train on 118857 samples, validate on 29715 samples\n",
      "Epoch 1/7\n",
      "118857/118857 - 27s - loss: 0.3967 - accuracy: 0.8197 - val_loss: 0.3517 - val_accuracy: 0.8478\n",
      "Epoch 2/7\n",
      "118857/118857 - 26s - loss: 0.3423 - accuracy: 0.8542 - val_loss: 0.3784 - val_accuracy: 0.8470\n",
      "Epoch 3/7\n",
      "118857/118857 - 27s - loss: 0.3229 - accuracy: 0.8660 - val_loss: 0.3598 - val_accuracy: 0.8441\n",
      "Epoch 4/7\n",
      "118857/118857 - 27s - loss: 0.3096 - accuracy: 0.8731 - val_loss: 0.3576 - val_accuracy: 0.8552\n",
      "Epoch 5/7\n",
      "118857/118857 - 27s - loss: 0.3011 - accuracy: 0.8782 - val_loss: 0.3684 - val_accuracy: 0.8559\n",
      "Train on 118857 samples, validate on 29715 samples\n",
      "Epoch 1/7\n",
      "118857/118857 - 28s - loss: 0.3975 - accuracy: 0.8202 - val_loss: 0.3713 - val_accuracy: 0.8377\n",
      "Epoch 2/7\n",
      "118857/118857 - 26s - loss: 0.3424 - accuracy: 0.8538 - val_loss: 0.3663 - val_accuracy: 0.8404\n",
      "Epoch 3/7\n",
      "118857/118857 - 27s - loss: 0.3244 - accuracy: 0.8657 - val_loss: 0.3343 - val_accuracy: 0.8613\n",
      "Epoch 4/7\n",
      "118857/118857 - 27s - loss: 0.3122 - accuracy: 0.8723 - val_loss: 0.3608 - val_accuracy: 0.8560\n",
      "Epoch 5/7\n",
      "118857/118857 - 26s - loss: 0.3037 - accuracy: 0.8771 - val_loss: 0.3594 - val_accuracy: 0.8533\n",
      "Epoch 6/7\n",
      "118857/118857 - 26s - loss: 0.2971 - accuracy: 0.8811 - val_loss: 0.3658 - val_accuracy: 0.8515\n",
      "Epoch 7/7\n",
      "118857/118857 - 27s - loss: 0.2932 - accuracy: 0.8839 - val_loss: 0.3308 - val_accuracy: 0.8606\n",
      "Train on 118857 samples, validate on 29715 samples\n",
      "Epoch 1/7\n",
      "118857/118857 - 27s - loss: 0.3962 - accuracy: 0.8204 - val_loss: 0.3486 - val_accuracy: 0.8500\n",
      "Epoch 2/7\n",
      "118857/118857 - 26s - loss: 0.3419 - accuracy: 0.8536 - val_loss: 0.3646 - val_accuracy: 0.8505\n",
      "Epoch 3/7\n",
      "118857/118857 - 27s - loss: 0.3219 - accuracy: 0.8665 - val_loss: 0.3350 - val_accuracy: 0.8610\n",
      "Epoch 4/7\n",
      "118857/118857 - 27s - loss: 0.3101 - accuracy: 0.8748 - val_loss: 0.3488 - val_accuracy: 0.8550\n",
      "Epoch 5/7\n",
      "118857/118857 - 27s - loss: 0.3039 - accuracy: 0.8790 - val_loss: 0.3304 - val_accuracy: 0.8620\n",
      "Epoch 6/7\n",
      "118857/118857 - 27s - loss: 0.2978 - accuracy: 0.8810 - val_loss: 0.3375 - val_accuracy: 0.8583\n",
      "Epoch 7/7\n",
      "118857/118857 - 27s - loss: 0.2930 - accuracy: 0.8844 - val_loss: 0.3572 - val_accuracy: 0.8541\n",
      "Train on 118857 samples, validate on 29715 samples\n",
      "Epoch 1/7\n",
      "118857/118857 - 28s - loss: 0.3973 - accuracy: 0.8195 - val_loss: 0.3588 - val_accuracy: 0.8419\n",
      "Epoch 2/7\n",
      "118857/118857 - 27s - loss: 0.3428 - accuracy: 0.8535 - val_loss: 0.3353 - val_accuracy: 0.8566\n",
      "Epoch 3/7\n",
      "118857/118857 - 27s - loss: 0.3226 - accuracy: 0.8666 - val_loss: 0.3309 - val_accuracy: 0.8611\n",
      "Epoch 4/7\n",
      "118857/118857 - 27s - loss: 0.3107 - accuracy: 0.8725 - val_loss: 0.3396 - val_accuracy: 0.8615\n",
      "Epoch 5/7\n",
      "118857/118857 - 27s - loss: 0.3033 - accuracy: 0.8777 - val_loss: 0.3356 - val_accuracy: 0.8587\n",
      "Epoch 6/7\n",
      "118857/118857 - 27s - loss: 0.2976 - accuracy: 0.8813 - val_loss: 0.3392 - val_accuracy: 0.8605\n",
      "Epoch 7/7\n",
      "118857/118857 - 27s - loss: 0.2972 - accuracy: 0.8827 - val_loss: 0.3511 - val_accuracy: 0.8606\n",
      "Train on 118857 samples, validate on 29715 samples\n",
      "Epoch 1/7\n",
      "118857/118857 - 27s - loss: 0.3971 - accuracy: 0.8203 - val_loss: 0.4083 - val_accuracy: 0.8216\n",
      "Epoch 2/7\n",
      "118857/118857 - 26s - loss: 0.3416 - accuracy: 0.8543 - val_loss: 0.3898 - val_accuracy: 0.8256\n",
      "Epoch 3/7\n",
      "118857/118857 - 26s - loss: 0.3234 - accuracy: 0.8654 - val_loss: 0.3448 - val_accuracy: 0.8551\n",
      "Epoch 4/7\n",
      "118857/118857 - 26s - loss: 0.3115 - accuracy: 0.8723 - val_loss: 0.3397 - val_accuracy: 0.8526\n",
      "Epoch 5/7\n",
      "118857/118857 - 27s - loss: 0.3023 - accuracy: 0.8780 - val_loss: 0.3371 - val_accuracy: 0.8564\n",
      "Epoch 6/7\n",
      "118857/118857 - 26s - loss: 0.2961 - accuracy: 0.8815 - val_loss: 0.4087 - val_accuracy: 0.8358\n",
      "Epoch 7/7\n",
      "118857/118857 - 27s - loss: 0.2905 - accuracy: 0.8838 - val_loss: 0.3569 - val_accuracy: 0.8610\n"
     ]
    },
    {
     "output_type": "display_data",
     "data": {
      "text/plain": [
       "<IPython.core.display.HTML object>"
      ],
      "text/html": [
       "<span style=\"color:#4527A0\"><h1 style=\"font-size:18px\">Trial complete</h1></span>"
      ]
     },
     "metadata": {}
    },
    {
     "output_type": "display_data",
     "data": {
      "text/plain": [
       "<IPython.core.display.HTML object>"
      ],
      "text/html": [
       "<span style=\"color:#4527A0\"><h1 style=\"font-size:18px\">Trial summary</h1></span>"
      ]
     },
     "metadata": {}
    },
    {
     "output_type": "display_data",
     "data": {
      "text/plain": [
       "<IPython.core.display.HTML object>"
      ],
      "text/html": [
       "<span style=\"color:cyan\"> |-Trial ID: bd8de46d25e9b283640fa21c5bea5e57</span>"
      ]
     },
     "metadata": {}
    },
    {
     "output_type": "display_data",
     "data": {
      "text/plain": [
       "<IPython.core.display.HTML object>"
      ],
      "text/html": [
       "<span style=\"color:cyan\"> |-Score: 0.8603264093399048</span>"
      ]
     },
     "metadata": {}
    },
    {
     "output_type": "display_data",
     "data": {
      "text/plain": [
       "<IPython.core.display.HTML object>"
      ],
      "text/html": [
       "<span style=\"color:cyan\"> |-Best step: 0</span>"
      ]
     },
     "metadata": {}
    },
    {
     "output_type": "display_data",
     "data": {
      "text/plain": [
       "<IPython.core.display.HTML object>"
      ],
      "text/html": [
       "<span style=\"color:#7E57C2\"><h2 style=\"font-size:16px\">Hyperparameters:</h2></span>"
      ]
     },
     "metadata": {}
    },
    {
     "output_type": "display_data",
     "data": {
      "text/plain": [
       "<IPython.core.display.HTML object>"
      ],
      "text/html": [
       "<span style=\"color:cyan\"> |-conv_blocks: 1</span>"
      ]
     },
     "metadata": {}
    },
    {
     "output_type": "display_data",
     "data": {
      "text/plain": [
       "<IPython.core.display.HTML object>"
      ],
      "text/html": [
       "<span style=\"color:blue\"> |-dropout1: 0.4</span>"
      ]
     },
     "metadata": {}
    },
    {
     "output_type": "display_data",
     "data": {
      "text/plain": [
       "<IPython.core.display.HTML object>"
      ],
      "text/html": [
       "<span style=\"color:cyan\"> |-dropout2: 0.1</span>"
      ]
     },
     "metadata": {}
    },
    {
     "output_type": "display_data",
     "data": {
      "text/plain": [
       "<IPython.core.display.HTML object>"
      ],
      "text/html": [
       "<span style=\"color:blue\"> |-filters_0: 128</span>"
      ]
     },
     "metadata": {}
    },
    {
     "output_type": "display_data",
     "data": {
      "text/plain": [
       "<IPython.core.display.HTML object>"
      ],
      "text/html": [
       "<span style=\"color:cyan\"> |-filters_1: 128</span>"
      ]
     },
     "metadata": {}
    },
    {
     "output_type": "display_data",
     "data": {
      "text/plain": [
       "<IPython.core.display.HTML object>"
      ],
      "text/html": [
       "<span style=\"color:blue\"> |-filters_2: 512</span>"
      ]
     },
     "metadata": {}
    },
    {
     "output_type": "display_data",
     "data": {
      "text/plain": [
       "<IPython.core.display.HTML object>"
      ],
      "text/html": [
       "<span style=\"color:cyan\"> |-filters_3: 32</span>"
      ]
     },
     "metadata": {}
    },
    {
     "output_type": "display_data",
     "data": {
      "text/plain": [
       "<IPython.core.display.HTML object>"
      ],
      "text/html": [
       "<span style=\"color:blue\"> |-hidden_size: 32</span>"
      ]
     },
     "metadata": {}
    },
    {
     "output_type": "display_data",
     "data": {
      "text/plain": [
       "<IPython.core.display.HTML object>"
      ],
      "text/html": [
       "<span style=\"color:cyan\"> |-kernel_size_0: 4</span>"
      ]
     },
     "metadata": {}
    },
    {
     "output_type": "display_data",
     "data": {
      "text/plain": [
       "<IPython.core.display.HTML object>"
      ],
      "text/html": [
       "<span style=\"color:blue\"> |-kernel_size_1: 4</span>"
      ]
     },
     "metadata": {}
    },
    {
     "output_type": "display_data",
     "data": {
      "text/plain": [
       "<IPython.core.display.HTML object>"
      ],
      "text/html": [
       "<span style=\"color:cyan\"> |-kernel_size_2: 3</span>"
      ]
     },
     "metadata": {}
    },
    {
     "output_type": "display_data",
     "data": {
      "text/plain": [
       "<IPython.core.display.HTML object>"
      ],
      "text/html": [
       "<span style=\"color:blue\"> |-kernel_size_3: 4</span>"
      ]
     },
     "metadata": {}
    },
    {
     "output_type": "display_data",
     "data": {
      "text/plain": [
       "<IPython.core.display.HTML object>"
      ],
      "text/html": [
       "<span style=\"color:cyan\"> |-learning_rate: 0.0039025154001465973</span>"
      ]
     },
     "metadata": {}
    },
    {
     "output_type": "display_data",
     "data": {
      "text/plain": [
       "<IPython.core.display.HTML object>"
      ],
      "text/html": [
       "<span style=\"color:blue\"> |-optimizer_: rmsprop</span>"
      ]
     },
     "metadata": {}
    },
    {
     "output_type": "display_data",
     "data": {
      "text/plain": [
       "<IPython.core.display.HTML object>"
      ],
      "text/html": [
       "<span style=\"color:cyan\"> |-pooling_0: global</span>"
      ]
     },
     "metadata": {}
    },
    {
     "output_type": "display_data",
     "data": {
      "text/plain": [
       "<IPython.core.display.HTML object>"
      ],
      "text/html": [
       "<span style=\"color:blue\"> |-pooling_1: max</span>"
      ]
     },
     "metadata": {}
    },
    {
     "output_type": "display_data",
     "data": {
      "text/plain": [
       "<IPython.core.display.HTML object>"
      ],
      "text/html": [
       "<span style=\"color:cyan\"> |-pooling_2: max</span>"
      ]
     },
     "metadata": {}
    },
    {
     "output_type": "display_data",
     "data": {
      "text/plain": [
       "<IPython.core.display.HTML object>"
      ],
      "text/html": [
       "<span style=\"color:blue\"> |-pooling_3: max</span>"
      ]
     },
     "metadata": {}
    },
    {
     "output_type": "display_data",
     "data": {
      "text/plain": [
       "<IPython.core.display.HTML object>"
      ],
      "text/html": [
       "<span style=\"color:cyan\"> |-tuner/bracket: 1</span>"
      ]
     },
     "metadata": {}
    },
    {
     "output_type": "display_data",
     "data": {
      "text/plain": [
       "<IPython.core.display.HTML object>"
      ],
      "text/html": [
       "<span style=\"color:blue\"> |-tuner/epochs: 7</span>"
      ]
     },
     "metadata": {}
    },
    {
     "output_type": "display_data",
     "data": {
      "text/plain": [
       "<IPython.core.display.HTML object>"
      ],
      "text/html": [
       "<span style=\"color:cyan\"> |-tuner/initial_epoch: 0</span>"
      ]
     },
     "metadata": {}
    },
    {
     "output_type": "display_data",
     "data": {
      "text/plain": [
       "<IPython.core.display.HTML object>"
      ],
      "text/html": [
       "<span style=\"color:blue\"> |-tuner/round: 0</span>"
      ]
     },
     "metadata": {}
    },
    {
     "output_type": "stream",
     "name": "stdout",
     "text": [
      "Train on 118857 samples, validate on 29715 samples\n",
      "Epoch 1/7\n",
      "118857/118857 - 43s - loss: 0.4614 - accuracy: 0.8015 - val_loss: 0.4480 - val_accuracy: 0.8016\n",
      "Epoch 2/7\n",
      "118857/118857 - 42s - loss: 0.3747 - accuracy: 0.8507 - val_loss: 0.4551 - val_accuracy: 0.8401\n",
      "Epoch 3/7\n",
      "118857/118857 - 43s - loss: 0.3532 - accuracy: 0.8692 - val_loss: 0.4267 - val_accuracy: 0.8362\n",
      "Epoch 4/7\n",
      "118857/118857 - 43s - loss: 0.4958 - accuracy: 0.7152 - val_loss: 0.6920 - val_accuracy: 0.4945\n",
      "Epoch 5/7\n",
      "118857/118857 - 43s - loss: 0.7000 - accuracy: 0.5091 - val_loss: 0.6935 - val_accuracy: 0.4945\n",
      "Epoch 6/7\n",
      "118857/118857 - 43s - loss: 0.6934 - accuracy: 0.5006 - val_loss: 0.6937 - val_accuracy: 0.4945\n",
      "Epoch 7/7\n",
      "118857/118857 - 43s - loss: 0.6973 - accuracy: 0.4998 - val_loss: 0.7263 - val_accuracy: 0.5055\n",
      "Train on 118857 samples, validate on 29715 samples\n",
      "Epoch 1/7\n",
      "118857/118857 - 44s - loss: 0.4476 - accuracy: 0.8045 - val_loss: 0.4980 - val_accuracy: 0.8413\n",
      "Epoch 2/7\n",
      "118857/118857 - 42s - loss: 0.4983 - accuracy: 0.7708 - val_loss: 0.4548 - val_accuracy: 0.8185\n",
      "Epoch 3/7\n",
      "118857/118857 - 43s - loss: 0.3916 - accuracy: 0.8503 - val_loss: 0.4319 - val_accuracy: 0.8250\n",
      "Epoch 4/7\n",
      "118857/118857 - 42s - loss: 0.3550 - accuracy: 0.8706 - val_loss: 0.4984 - val_accuracy: 0.8318\n",
      "Epoch 5/7\n",
      "118857/118857 - 42s - loss: 0.3382 - accuracy: 0.8810 - val_loss: 0.5091 - val_accuracy: 0.8153\n",
      "Epoch 6/7\n",
      "118857/118857 - 43s - loss: 0.3297 - accuracy: 0.8864 - val_loss: 0.7718 - val_accuracy: 0.8327\n",
      "Epoch 7/7\n",
      "118857/118857 - 43s - loss: 0.4230 - accuracy: 0.8042 - val_loss: 0.6932 - val_accuracy: 0.5055\n",
      "Train on 118857 samples, validate on 29715 samples\n",
      "Epoch 1/7\n",
      "118857/118857 - 44s - loss: 0.5740 - accuracy: 0.6521 - val_loss: 0.6943 - val_accuracy: 0.4945\n",
      "Epoch 2/7\n",
      "118857/118857 - 43s - loss: 0.6934 - accuracy: 0.5002 - val_loss: 0.6932 - val_accuracy: 0.4945\n",
      "Epoch 3/7\n",
      "118857/118857 - 43s - loss: 0.6934 - accuracy: 0.5009 - val_loss: 0.6935 - val_accuracy: 0.4945\n",
      "Epoch 4/7\n",
      "118857/118857 - 43s - loss: 0.6935 - accuracy: 0.4994 - val_loss: 0.6940 - val_accuracy: 0.4945\n",
      "Epoch 5/7\n",
      "118857/118857 - 43s - loss: 0.6934 - accuracy: 0.4998 - val_loss: 0.6932 - val_accuracy: 0.5055\n",
      "Epoch 6/7\n",
      "118857/118857 - 43s - loss: 0.6935 - accuracy: 0.5019 - val_loss: 0.6931 - val_accuracy: 0.5055\n",
      "Epoch 7/7\n",
      "118857/118857 - 42s - loss: 0.6935 - accuracy: 0.4993 - val_loss: 0.6932 - val_accuracy: 0.5055\n",
      "Train on 118857 samples, validate on 29715 samples\n",
      "Epoch 1/7\n",
      "118857/118857 - 44s - loss: 0.4555 - accuracy: 0.7966 - val_loss: 0.4685 - val_accuracy: 0.8377\n",
      "Epoch 2/7\n",
      "118857/118857 - 42s - loss: 0.4021 - accuracy: 0.8384 - val_loss: 0.4451 - val_accuracy: 0.8270\n",
      "Epoch 3/7\n",
      "118857/118857 - 42s - loss: 0.3589 - accuracy: 0.8638 - val_loss: 0.4629 - val_accuracy: 0.8353\n",
      "Epoch 4/7\n",
      "118857/118857 - 42s - loss: 0.4036 - accuracy: 0.8310 - val_loss: 0.4463 - val_accuracy: 0.8122\n",
      "Epoch 5/7\n",
      "118857/118857 - 43s - loss: 0.3806 - accuracy: 0.8658 - val_loss: 0.6140 - val_accuracy: 0.8331\n",
      "Epoch 6/7\n",
      "118857/118857 - 42s - loss: 0.3503 - accuracy: 0.8803 - val_loss: 0.6648 - val_accuracy: 0.6140\n",
      "Train on 118857 samples, validate on 29715 samples\n",
      "Epoch 1/7\n",
      "118857/118857 - 43s - loss: 0.4458 - accuracy: 0.8067 - val_loss: 0.3894 - val_accuracy: 0.8423\n",
      "Epoch 2/7\n",
      "118857/118857 - 41s - loss: 0.3879 - accuracy: 0.8476 - val_loss: 0.5398 - val_accuracy: 0.7441\n",
      "Epoch 3/7\n",
      "118857/118857 - 42s - loss: 0.3599 - accuracy: 0.8672 - val_loss: 0.4549 - val_accuracy: 0.8278\n",
      "Epoch 4/7\n",
      "118857/118857 - 42s - loss: 0.3455 - accuracy: 0.8788 - val_loss: 0.4712 - val_accuracy: 0.8327\n",
      "Epoch 5/7\n",
      "118857/118857 - 42s - loss: 0.6129 - accuracy: 0.6147 - val_loss: 0.6933 - val_accuracy: 0.4945\n"
     ]
    },
    {
     "output_type": "display_data",
     "data": {
      "text/plain": [
       "<IPython.core.display.HTML object>"
      ],
      "text/html": [
       "<span style=\"color:#4527A0\"><h1 style=\"font-size:18px\">Trial complete</h1></span>"
      ]
     },
     "metadata": {}
    },
    {
     "output_type": "display_data",
     "data": {
      "text/plain": [
       "<IPython.core.display.HTML object>"
      ],
      "text/html": [
       "<span style=\"color:#4527A0\"><h1 style=\"font-size:18px\">Trial summary</h1></span>"
      ]
     },
     "metadata": {}
    },
    {
     "output_type": "display_data",
     "data": {
      "text/plain": [
       "<IPython.core.display.HTML object>"
      ],
      "text/html": [
       "<span style=\"color:cyan\"> |-Trial ID: 33246cbbaec21f14566ce2bbfa135525</span>"
      ]
     },
     "metadata": {}
    },
    {
     "output_type": "display_data",
     "data": {
      "text/plain": [
       "<IPython.core.display.HTML object>"
      ],
      "text/html": [
       "<span style=\"color:cyan\"> |-Score: 0.7733803987503052</span>"
      ]
     },
     "metadata": {}
    },
    {
     "output_type": "display_data",
     "data": {
      "text/plain": [
       "<IPython.core.display.HTML object>"
      ],
      "text/html": [
       "<span style=\"color:cyan\"> |-Best step: 0</span>"
      ]
     },
     "metadata": {}
    },
    {
     "output_type": "display_data",
     "data": {
      "text/plain": [
       "<IPython.core.display.HTML object>"
      ],
      "text/html": [
       "<span style=\"color:#7E57C2\"><h2 style=\"font-size:16px\">Hyperparameters:</h2></span>"
      ]
     },
     "metadata": {}
    },
    {
     "output_type": "display_data",
     "data": {
      "text/plain": [
       "<IPython.core.display.HTML object>"
      ],
      "text/html": [
       "<span style=\"color:cyan\"> |-conv_blocks: 2</span>"
      ]
     },
     "metadata": {}
    },
    {
     "output_type": "display_data",
     "data": {
      "text/plain": [
       "<IPython.core.display.HTML object>"
      ],
      "text/html": [
       "<span style=\"color:blue\"> |-dropout1: 0.1</span>"
      ]
     },
     "metadata": {}
    },
    {
     "output_type": "display_data",
     "data": {
      "text/plain": [
       "<IPython.core.display.HTML object>"
      ],
      "text/html": [
       "<span style=\"color:cyan\"> |-dropout2: 0.2</span>"
      ]
     },
     "metadata": {}
    },
    {
     "output_type": "display_data",
     "data": {
      "text/plain": [
       "<IPython.core.display.HTML object>"
      ],
      "text/html": [
       "<span style=\"color:blue\"> |-filters_0: 32</span>"
      ]
     },
     "metadata": {}
    },
    {
     "output_type": "display_data",
     "data": {
      "text/plain": [
       "<IPython.core.display.HTML object>"
      ],
      "text/html": [
       "<span style=\"color:cyan\"> |-filters_1: 256</span>"
      ]
     },
     "metadata": {}
    },
    {
     "output_type": "display_data",
     "data": {
      "text/plain": [
       "<IPython.core.display.HTML object>"
      ],
      "text/html": [
       "<span style=\"color:blue\"> |-filters_2: 512</span>"
      ]
     },
     "metadata": {}
    },
    {
     "output_type": "display_data",
     "data": {
      "text/plain": [
       "<IPython.core.display.HTML object>"
      ],
      "text/html": [
       "<span style=\"color:cyan\"> |-filters_3: 512</span>"
      ]
     },
     "metadata": {}
    },
    {
     "output_type": "display_data",
     "data": {
      "text/plain": [
       "<IPython.core.display.HTML object>"
      ],
      "text/html": [
       "<span style=\"color:blue\"> |-hidden_size: 256</span>"
      ]
     },
     "metadata": {}
    },
    {
     "output_type": "display_data",
     "data": {
      "text/plain": [
       "<IPython.core.display.HTML object>"
      ],
      "text/html": [
       "<span style=\"color:cyan\"> |-kernel_size_0: 4</span>"
      ]
     },
     "metadata": {}
    },
    {
     "output_type": "display_data",
     "data": {
      "text/plain": [
       "<IPython.core.display.HTML object>"
      ],
      "text/html": [
       "<span style=\"color:blue\"> |-kernel_size_1: 3</span>"
      ]
     },
     "metadata": {}
    },
    {
     "output_type": "display_data",
     "data": {
      "text/plain": [
       "<IPython.core.display.HTML object>"
      ],
      "text/html": [
       "<span style=\"color:cyan\"> |-kernel_size_2: 5</span>"
      ]
     },
     "metadata": {}
    },
    {
     "output_type": "display_data",
     "data": {
      "text/plain": [
       "<IPython.core.display.HTML object>"
      ],
      "text/html": [
       "<span style=\"color:blue\"> |-kernel_size_3: 4</span>"
      ]
     },
     "metadata": {}
    },
    {
     "output_type": "display_data",
     "data": {
      "text/plain": [
       "<IPython.core.display.HTML object>"
      ],
      "text/html": [
       "<span style=\"color:cyan\"> |-learning_rate: 0.019673603157772845</span>"
      ]
     },
     "metadata": {}
    },
    {
     "output_type": "display_data",
     "data": {
      "text/plain": [
       "<IPython.core.display.HTML object>"
      ],
      "text/html": [
       "<span style=\"color:blue\"> |-optimizer_: adam</span>"
      ]
     },
     "metadata": {}
    },
    {
     "output_type": "display_data",
     "data": {
      "text/plain": [
       "<IPython.core.display.HTML object>"
      ],
      "text/html": [
       "<span style=\"color:cyan\"> |-pooling_0: max</span>"
      ]
     },
     "metadata": {}
    },
    {
     "output_type": "display_data",
     "data": {
      "text/plain": [
       "<IPython.core.display.HTML object>"
      ],
      "text/html": [
       "<span style=\"color:blue\"> |-pooling_1: global</span>"
      ]
     },
     "metadata": {}
    },
    {
     "output_type": "display_data",
     "data": {
      "text/plain": [
       "<IPython.core.display.HTML object>"
      ],
      "text/html": [
       "<span style=\"color:cyan\"> |-pooling_2: max</span>"
      ]
     },
     "metadata": {}
    },
    {
     "output_type": "display_data",
     "data": {
      "text/plain": [
       "<IPython.core.display.HTML object>"
      ],
      "text/html": [
       "<span style=\"color:blue\"> |-pooling_3: global</span>"
      ]
     },
     "metadata": {}
    },
    {
     "output_type": "display_data",
     "data": {
      "text/plain": [
       "<IPython.core.display.HTML object>"
      ],
      "text/html": [
       "<span style=\"color:cyan\"> |-tuner/bracket: 1</span>"
      ]
     },
     "metadata": {}
    },
    {
     "output_type": "display_data",
     "data": {
      "text/plain": [
       "<IPython.core.display.HTML object>"
      ],
      "text/html": [
       "<span style=\"color:blue\"> |-tuner/epochs: 7</span>"
      ]
     },
     "metadata": {}
    },
    {
     "output_type": "display_data",
     "data": {
      "text/plain": [
       "<IPython.core.display.HTML object>"
      ],
      "text/html": [
       "<span style=\"color:cyan\"> |-tuner/initial_epoch: 0</span>"
      ]
     },
     "metadata": {}
    },
    {
     "output_type": "display_data",
     "data": {
      "text/plain": [
       "<IPython.core.display.HTML object>"
      ],
      "text/html": [
       "<span style=\"color:blue\"> |-tuner/round: 0</span>"
      ]
     },
     "metadata": {}
    },
    {
     "output_type": "stream",
     "name": "stdout",
     "text": [
      "Train on 118857 samples, validate on 29715 samples\n",
      "Epoch 1/7\n",
      "118857/118857 - 29s - loss: 0.7460 - accuracy: 0.5062 - val_loss: 0.6936 - val_accuracy: 0.5055\n",
      "Epoch 2/7\n",
      "118857/118857 - 27s - loss: 0.6939 - accuracy: 0.5023 - val_loss: 0.6936 - val_accuracy: 0.4945\n",
      "Epoch 3/7\n",
      "118857/118857 - 27s - loss: 0.6939 - accuracy: 0.5013 - val_loss: 0.6961 - val_accuracy: 0.5055\n",
      "Epoch 4/7\n",
      "118857/118857 - 28s - loss: 0.6939 - accuracy: 0.5000 - val_loss: 0.6950 - val_accuracy: 0.5055\n",
      "Epoch 5/7\n",
      "118857/118857 - 27s - loss: 0.6939 - accuracy: 0.4993 - val_loss: 0.6957 - val_accuracy: 0.4945\n",
      "Train on 118857 samples, validate on 29715 samples\n",
      "Epoch 1/7\n",
      "118857/118857 - 27s - loss: 0.7802 - accuracy: 0.6091 - val_loss: 0.6938 - val_accuracy: 0.4945\n",
      "Epoch 2/7\n",
      "118857/118857 - 26s - loss: 0.7300 - accuracy: 0.5040 - val_loss: 0.7016 - val_accuracy: 0.5055\n",
      "Epoch 3/7\n",
      "118857/118857 - 26s - loss: 0.6955 - accuracy: 0.5009 - val_loss: 0.6933 - val_accuracy: 0.4945\n",
      "Epoch 4/7\n",
      "118857/118857 - 26s - loss: 0.6938 - accuracy: 0.5020 - val_loss: 0.6936 - val_accuracy: 0.5055\n",
      "Epoch 5/7\n",
      "118857/118857 - 26s - loss: 0.6939 - accuracy: 0.4986 - val_loss: 0.6931 - val_accuracy: 0.5055\n",
      "Epoch 6/7\n",
      "118857/118857 - 26s - loss: 0.6939 - accuracy: 0.5000 - val_loss: 0.6943 - val_accuracy: 0.4945\n",
      "Epoch 7/7\n",
      "118857/118857 - 26s - loss: 0.6940 - accuracy: 0.4994 - val_loss: 0.6934 - val_accuracy: 0.4945\n",
      "Train on 118857 samples, validate on 29715 samples\n",
      "Epoch 1/7\n",
      "118857/118857 - 29s - loss: 0.7618 - accuracy: 0.5340 - val_loss: 0.6934 - val_accuracy: 0.5055\n",
      "Epoch 2/7\n",
      "118857/118857 - 28s - loss: 0.6940 - accuracy: 0.4998 - val_loss: 0.6932 - val_accuracy: 0.5055\n",
      "Epoch 3/7\n",
      "118857/118857 - 28s - loss: 0.6938 - accuracy: 0.5013 - val_loss: 0.6974 - val_accuracy: 0.4945\n",
      "Epoch 4/7\n",
      "118857/118857 - 28s - loss: 0.6939 - accuracy: 0.5010 - val_loss: 0.6934 - val_accuracy: 0.4945\n",
      "Epoch 5/7\n",
      "118857/118857 - 27s - loss: 0.6940 - accuracy: 0.4989 - val_loss: 0.6936 - val_accuracy: 0.4945\n",
      "Epoch 6/7\n",
      "118857/118857 - 27s - loss: 0.6940 - accuracy: 0.5006 - val_loss: 0.6934 - val_accuracy: 0.4945\n",
      "Train on 118857 samples, validate on 29715 samples\n",
      "Epoch 1/7\n",
      "118857/118857 - 28s - loss: 0.7343 - accuracy: 0.5464 - val_loss: 0.6932 - val_accuracy: 0.4945\n",
      "Epoch 2/7\n",
      "118857/118857 - 27s - loss: 0.6984 - accuracy: 0.5004 - val_loss: 0.6935 - val_accuracy: 0.5055\n",
      "Epoch 3/7\n",
      "118857/118857 - 27s - loss: 0.6954 - accuracy: 0.5004 - val_loss: 0.6947 - val_accuracy: 0.4945\n",
      "Epoch 4/7\n",
      "118857/118857 - 27s - loss: 0.6941 - accuracy: 0.5038 - val_loss: 0.6991 - val_accuracy: 0.4945\n",
      "Epoch 5/7\n",
      "118857/118857 - 28s - loss: 0.6979 - accuracy: 0.5001 - val_loss: 0.6938 - val_accuracy: 0.4945\n",
      "Train on 118857 samples, validate on 29715 samples\n",
      "Epoch 1/7\n",
      "118857/118857 - 27s - loss: 0.7768 - accuracy: 0.5886 - val_loss: 0.6931 - val_accuracy: 0.5055\n",
      "Epoch 2/7\n",
      "118857/118857 - 26s - loss: 0.7282 - accuracy: 0.5079 - val_loss: 0.6942 - val_accuracy: 0.5056\n",
      "Epoch 3/7\n",
      "118857/118857 - 26s - loss: 0.7241 - accuracy: 0.5032 - val_loss: 0.6934 - val_accuracy: 0.4945\n",
      "Epoch 4/7\n",
      "118857/118857 - 26s - loss: 0.7177 - accuracy: 0.5003 - val_loss: 0.6932 - val_accuracy: 0.5055\n",
      "Epoch 5/7\n",
      "118857/118857 - 26s - loss: 0.6959 - accuracy: 0.5017 - val_loss: 0.6936 - val_accuracy: 0.4945\n"
     ]
    },
    {
     "output_type": "display_data",
     "data": {
      "text/plain": [
       "<IPython.core.display.HTML object>"
      ],
      "text/html": [
       "<span style=\"color:#4527A0\"><h1 style=\"font-size:18px\">Trial complete</h1></span>"
      ]
     },
     "metadata": {}
    },
    {
     "output_type": "display_data",
     "data": {
      "text/plain": [
       "<IPython.core.display.HTML object>"
      ],
      "text/html": [
       "<span style=\"color:#4527A0\"><h1 style=\"font-size:18px\">Trial summary</h1></span>"
      ]
     },
     "metadata": {}
    },
    {
     "output_type": "display_data",
     "data": {
      "text/plain": [
       "<IPython.core.display.HTML object>"
      ],
      "text/html": [
       "<span style=\"color:cyan\"> |-Trial ID: f447cda7934ebca6a601e6dc43f528d2</span>"
      ]
     },
     "metadata": {}
    },
    {
     "output_type": "display_data",
     "data": {
      "text/plain": [
       "<IPython.core.display.HTML object>"
      ],
      "text/html": [
       "<span style=\"color:cyan\"> |-Score: 0.5055022835731506</span>"
      ]
     },
     "metadata": {}
    },
    {
     "output_type": "display_data",
     "data": {
      "text/plain": [
       "<IPython.core.display.HTML object>"
      ],
      "text/html": [
       "<span style=\"color:cyan\"> |-Best step: 0</span>"
      ]
     },
     "metadata": {}
    },
    {
     "output_type": "display_data",
     "data": {
      "text/plain": [
       "<IPython.core.display.HTML object>"
      ],
      "text/html": [
       "<span style=\"color:#7E57C2\"><h2 style=\"font-size:16px\">Hyperparameters:</h2></span>"
      ]
     },
     "metadata": {}
    },
    {
     "output_type": "display_data",
     "data": {
      "text/plain": [
       "<IPython.core.display.HTML object>"
      ],
      "text/html": [
       "<span style=\"color:cyan\"> |-conv_blocks: 2</span>"
      ]
     },
     "metadata": {}
    },
    {
     "output_type": "display_data",
     "data": {
      "text/plain": [
       "<IPython.core.display.HTML object>"
      ],
      "text/html": [
       "<span style=\"color:blue\"> |-dropout1: 0.4</span>"
      ]
     },
     "metadata": {}
    },
    {
     "output_type": "display_data",
     "data": {
      "text/plain": [
       "<IPython.core.display.HTML object>"
      ],
      "text/html": [
       "<span style=\"color:cyan\"> |-dropout2: 0.2</span>"
      ]
     },
     "metadata": {}
    },
    {
     "output_type": "display_data",
     "data": {
      "text/plain": [
       "<IPython.core.display.HTML object>"
      ],
      "text/html": [
       "<span style=\"color:blue\"> |-filters_0: 32</span>"
      ]
     },
     "metadata": {}
    },
    {
     "output_type": "display_data",
     "data": {
      "text/plain": [
       "<IPython.core.display.HTML object>"
      ],
      "text/html": [
       "<span style=\"color:cyan\"> |-filters_1: 64</span>"
      ]
     },
     "metadata": {}
    },
    {
     "output_type": "display_data",
     "data": {
      "text/plain": [
       "<IPython.core.display.HTML object>"
      ],
      "text/html": [
       "<span style=\"color:blue\"> |-filters_2: 512</span>"
      ]
     },
     "metadata": {}
    },
    {
     "output_type": "display_data",
     "data": {
      "text/plain": [
       "<IPython.core.display.HTML object>"
      ],
      "text/html": [
       "<span style=\"color:cyan\"> |-filters_3: 128</span>"
      ]
     },
     "metadata": {}
    },
    {
     "output_type": "display_data",
     "data": {
      "text/plain": [
       "<IPython.core.display.HTML object>"
      ],
      "text/html": [
       "<span style=\"color:blue\"> |-hidden_size: 32</span>"
      ]
     },
     "metadata": {}
    },
    {
     "output_type": "display_data",
     "data": {
      "text/plain": [
       "<IPython.core.display.HTML object>"
      ],
      "text/html": [
       "<span style=\"color:cyan\"> |-kernel_size_0: 4</span>"
      ]
     },
     "metadata": {}
    },
    {
     "output_type": "display_data",
     "data": {
      "text/plain": [
       "<IPython.core.display.HTML object>"
      ],
      "text/html": [
       "<span style=\"color:blue\"> |-kernel_size_1: 4</span>"
      ]
     },
     "metadata": {}
    },
    {
     "output_type": "display_data",
     "data": {
      "text/plain": [
       "<IPython.core.display.HTML object>"
      ],
      "text/html": [
       "<span style=\"color:cyan\"> |-kernel_size_2: 5</span>"
      ]
     },
     "metadata": {}
    },
    {
     "output_type": "display_data",
     "data": {
      "text/plain": [
       "<IPython.core.display.HTML object>"
      ],
      "text/html": [
       "<span style=\"color:blue\"> |-kernel_size_3: 4</span>"
      ]
     },
     "metadata": {}
    },
    {
     "output_type": "display_data",
     "data": {
      "text/plain": [
       "<IPython.core.display.HTML object>"
      ],
      "text/html": [
       "<span style=\"color:cyan\"> |-learning_rate: 0.04945884625251377</span>"
      ]
     },
     "metadata": {}
    },
    {
     "output_type": "display_data",
     "data": {
      "text/plain": [
       "<IPython.core.display.HTML object>"
      ],
      "text/html": [
       "<span style=\"color:blue\"> |-optimizer_: rmsprop</span>"
      ]
     },
     "metadata": {}
    },
    {
     "output_type": "display_data",
     "data": {
      "text/plain": [
       "<IPython.core.display.HTML object>"
      ],
      "text/html": [
       "<span style=\"color:cyan\"> |-pooling_0: global</span>"
      ]
     },
     "metadata": {}
    },
    {
     "output_type": "display_data",
     "data": {
      "text/plain": [
       "<IPython.core.display.HTML object>"
      ],
      "text/html": [
       "<span style=\"color:blue\"> |-pooling_1: global</span>"
      ]
     },
     "metadata": {}
    },
    {
     "output_type": "display_data",
     "data": {
      "text/plain": [
       "<IPython.core.display.HTML object>"
      ],
      "text/html": [
       "<span style=\"color:cyan\"> |-pooling_2: global</span>"
      ]
     },
     "metadata": {}
    },
    {
     "output_type": "display_data",
     "data": {
      "text/plain": [
       "<IPython.core.display.HTML object>"
      ],
      "text/html": [
       "<span style=\"color:blue\"> |-pooling_3: global</span>"
      ]
     },
     "metadata": {}
    },
    {
     "output_type": "display_data",
     "data": {
      "text/plain": [
       "<IPython.core.display.HTML object>"
      ],
      "text/html": [
       "<span style=\"color:cyan\"> |-tuner/bracket: 1</span>"
      ]
     },
     "metadata": {}
    },
    {
     "output_type": "display_data",
     "data": {
      "text/plain": [
       "<IPython.core.display.HTML object>"
      ],
      "text/html": [
       "<span style=\"color:blue\"> |-tuner/epochs: 7</span>"
      ]
     },
     "metadata": {}
    },
    {
     "output_type": "display_data",
     "data": {
      "text/plain": [
       "<IPython.core.display.HTML object>"
      ],
      "text/html": [
       "<span style=\"color:cyan\"> |-tuner/initial_epoch: 0</span>"
      ]
     },
     "metadata": {}
    },
    {
     "output_type": "display_data",
     "data": {
      "text/plain": [
       "<IPython.core.display.HTML object>"
      ],
      "text/html": [
       "<span style=\"color:blue\"> |-tuner/round: 0</span>"
      ]
     },
     "metadata": {}
    },
    {
     "output_type": "stream",
     "name": "stdout",
     "text": [
      "Train on 118857 samples, validate on 29715 samples\n",
      "Epoch 1/7\n",
      "118857/118857 - 29s - loss: 0.3926 - accuracy: 0.8201 - val_loss: 0.3532 - val_accuracy: 0.8449\n",
      "Epoch 2/7\n",
      "118857/118857 - 28s - loss: 0.3269 - accuracy: 0.8600 - val_loss: 0.3402 - val_accuracy: 0.8540\n",
      "Epoch 3/7\n",
      "118857/118857 - 28s - loss: 0.3010 - accuracy: 0.8742 - val_loss: 0.3178 - val_accuracy: 0.8643\n",
      "Epoch 4/7\n",
      "118857/118857 - 28s - loss: 0.2825 - accuracy: 0.8836 - val_loss: 0.3620 - val_accuracy: 0.8455\n",
      "Epoch 5/7\n",
      "118857/118857 - 28s - loss: 0.2665 - accuracy: 0.8914 - val_loss: 0.3301 - val_accuracy: 0.8638\n",
      "Epoch 6/7\n",
      "118857/118857 - 28s - loss: 0.2520 - accuracy: 0.8986 - val_loss: 0.3279 - val_accuracy: 0.8623\n",
      "Epoch 7/7\n",
      "118857/118857 - 28s - loss: 0.2363 - accuracy: 0.9067 - val_loss: 0.3299 - val_accuracy: 0.8638\n",
      "Train on 118857 samples, validate on 29715 samples\n",
      "Epoch 1/7\n",
      "118857/118857 - 28s - loss: 0.3996 - accuracy: 0.8140 - val_loss: 0.3511 - val_accuracy: 0.8461\n",
      "Epoch 2/7\n",
      "118857/118857 - 28s - loss: 0.3305 - accuracy: 0.8578 - val_loss: 0.3334 - val_accuracy: 0.8572\n",
      "Epoch 3/7\n",
      "118857/118857 - 28s - loss: 0.3072 - accuracy: 0.8713 - val_loss: 0.3302 - val_accuracy: 0.8598\n",
      "Epoch 4/7\n",
      "118857/118857 - 28s - loss: 0.2895 - accuracy: 0.8811 - val_loss: 0.3235 - val_accuracy: 0.8617\n",
      "Epoch 5/7\n",
      "118857/118857 - 28s - loss: 0.2747 - accuracy: 0.8881 - val_loss: 0.3322 - val_accuracy: 0.8606\n",
      "Epoch 6/7\n",
      "118857/118857 - 29s - loss: 0.2607 - accuracy: 0.8955 - val_loss: 0.3212 - val_accuracy: 0.8657\n",
      "Epoch 7/7\n",
      "118857/118857 - 28s - loss: 0.2470 - accuracy: 0.9010 - val_loss: 0.3304 - val_accuracy: 0.8617\n",
      "Train on 118857 samples, validate on 29715 samples\n",
      "Epoch 1/7\n",
      "118857/118857 - 29s - loss: 0.4004 - accuracy: 0.8135 - val_loss: 0.3493 - val_accuracy: 0.8486\n",
      "Epoch 2/7\n",
      "118857/118857 - 28s - loss: 0.3338 - accuracy: 0.8557 - val_loss: 0.3366 - val_accuracy: 0.8546\n",
      "Epoch 3/7\n",
      "118857/118857 - 28s - loss: 0.3110 - accuracy: 0.8685 - val_loss: 0.3278 - val_accuracy: 0.8606\n",
      "Epoch 4/7\n",
      "118857/118857 - 28s - loss: 0.2943 - accuracy: 0.8775 - val_loss: 0.3315 - val_accuracy: 0.8624\n",
      "Epoch 5/7\n",
      "118857/118857 - 28s - loss: 0.2806 - accuracy: 0.8850 - val_loss: 0.3285 - val_accuracy: 0.8599\n",
      "Epoch 6/7\n",
      "118857/118857 - 28s - loss: 0.2692 - accuracy: 0.8908 - val_loss: 0.3820 - val_accuracy: 0.8340\n",
      "Epoch 7/7\n",
      "118857/118857 - 28s - loss: 0.2578 - accuracy: 0.8955 - val_loss: 0.3311 - val_accuracy: 0.8625\n",
      "Train on 118857 samples, validate on 29715 samples\n",
      "Epoch 1/7\n",
      "118857/118857 - 29s - loss: 0.3947 - accuracy: 0.8174 - val_loss: 0.3547 - val_accuracy: 0.8459\n",
      "Epoch 2/7\n",
      "118857/118857 - 28s - loss: 0.3284 - accuracy: 0.8585 - val_loss: 0.3528 - val_accuracy: 0.8466\n",
      "Epoch 3/7\n",
      "118857/118857 - 28s - loss: 0.3025 - accuracy: 0.8737 - val_loss: 0.3262 - val_accuracy: 0.8643\n",
      "Epoch 4/7\n",
      "118857/118857 - 27s - loss: 0.2848 - accuracy: 0.8831 - val_loss: 0.3177 - val_accuracy: 0.8664\n",
      "Epoch 5/7\n",
      "118857/118857 - 28s - loss: 0.2694 - accuracy: 0.8903 - val_loss: 0.3714 - val_accuracy: 0.8444\n",
      "Epoch 6/7\n",
      "118857/118857 - 28s - loss: 0.2531 - accuracy: 0.8988 - val_loss: 0.3424 - val_accuracy: 0.8601\n",
      "Epoch 7/7\n",
      "118857/118857 - 28s - loss: 0.2404 - accuracy: 0.9042 - val_loss: 0.3347 - val_accuracy: 0.8643\n",
      "Train on 118857 samples, validate on 29715 samples\n",
      "Epoch 1/7\n",
      "118857/118857 - 31s - loss: 0.4020 - accuracy: 0.8121 - val_loss: 0.3480 - val_accuracy: 0.8481\n",
      "Epoch 2/7\n",
      "118857/118857 - 30s - loss: 0.3311 - accuracy: 0.8581 - val_loss: 0.3285 - val_accuracy: 0.8582\n",
      "Epoch 3/7\n",
      "118857/118857 - 29s - loss: 0.3049 - accuracy: 0.8724 - val_loss: 0.3212 - val_accuracy: 0.8624\n",
      "Epoch 4/7\n",
      "118857/118857 - 28s - loss: 0.2866 - accuracy: 0.8824 - val_loss: 0.3472 - val_accuracy: 0.8528\n",
      "Epoch 5/7\n",
      "118857/118857 - 29s - loss: 0.2714 - accuracy: 0.8896 - val_loss: 0.3215 - val_accuracy: 0.8655\n",
      "Epoch 6/7\n",
      "118857/118857 - 29s - loss: 0.2582 - accuracy: 0.8954 - val_loss: 0.3287 - val_accuracy: 0.8623\n",
      "Epoch 7/7\n",
      "118857/118857 - 29s - loss: 0.2436 - accuracy: 0.9026 - val_loss: 0.3332 - val_accuracy: 0.8608\n"
     ]
    },
    {
     "output_type": "display_data",
     "data": {
      "text/plain": [
       "<IPython.core.display.HTML object>"
      ],
      "text/html": [
       "<span style=\"color:#4527A0\"><h1 style=\"font-size:18px\">Trial complete</h1></span>"
      ]
     },
     "metadata": {}
    },
    {
     "output_type": "display_data",
     "data": {
      "text/plain": [
       "<IPython.core.display.HTML object>"
      ],
      "text/html": [
       "<span style=\"color:#4527A0\"><h1 style=\"font-size:18px\">Trial summary</h1></span>"
      ]
     },
     "metadata": {}
    },
    {
     "output_type": "display_data",
     "data": {
      "text/plain": [
       "<IPython.core.display.HTML object>"
      ],
      "text/html": [
       "<span style=\"color:cyan\"> |-Trial ID: 43dfb71e0fb27176888bd0e7790677cd</span>"
      ]
     },
     "metadata": {}
    },
    {
     "output_type": "display_data",
     "data": {
      "text/plain": [
       "<IPython.core.display.HTML object>"
      ],
      "text/html": [
       "<span style=\"color:cyan\"> |-Score: 0.8648629188537598</span>"
      ]
     },
     "metadata": {}
    },
    {
     "output_type": "display_data",
     "data": {
      "text/plain": [
       "<IPython.core.display.HTML object>"
      ],
      "text/html": [
       "<span style=\"color:cyan\"> |-Best step: 0</span>"
      ]
     },
     "metadata": {}
    },
    {
     "output_type": "display_data",
     "data": {
      "text/plain": [
       "<IPython.core.display.HTML object>"
      ],
      "text/html": [
       "<span style=\"color:#7E57C2\"><h2 style=\"font-size:16px\">Hyperparameters:</h2></span>"
      ]
     },
     "metadata": {}
    },
    {
     "output_type": "display_data",
     "data": {
      "text/plain": [
       "<IPython.core.display.HTML object>"
      ],
      "text/html": [
       "<span style=\"color:cyan\"> |-conv_blocks: 3</span>"
      ]
     },
     "metadata": {}
    },
    {
     "output_type": "display_data",
     "data": {
      "text/plain": [
       "<IPython.core.display.HTML object>"
      ],
      "text/html": [
       "<span style=\"color:blue\"> |-dropout1: 0.30000000000000004</span>"
      ]
     },
     "metadata": {}
    },
    {
     "output_type": "display_data",
     "data": {
      "text/plain": [
       "<IPython.core.display.HTML object>"
      ],
      "text/html": [
       "<span style=\"color:cyan\"> |-dropout2: 0.1</span>"
      ]
     },
     "metadata": {}
    },
    {
     "output_type": "display_data",
     "data": {
      "text/plain": [
       "<IPython.core.display.HTML object>"
      ],
      "text/html": [
       "<span style=\"color:blue\"> |-filters_0: 32</span>"
      ]
     },
     "metadata": {}
    },
    {
     "output_type": "display_data",
     "data": {
      "text/plain": [
       "<IPython.core.display.HTML object>"
      ],
      "text/html": [
       "<span style=\"color:cyan\"> |-filters_1: 512</span>"
      ]
     },
     "metadata": {}
    },
    {
     "output_type": "display_data",
     "data": {
      "text/plain": [
       "<IPython.core.display.HTML object>"
      ],
      "text/html": [
       "<span style=\"color:blue\"> |-filters_2: 128</span>"
      ]
     },
     "metadata": {}
    },
    {
     "output_type": "display_data",
     "data": {
      "text/plain": [
       "<IPython.core.display.HTML object>"
      ],
      "text/html": [
       "<span style=\"color:cyan\"> |-filters_3: 512</span>"
      ]
     },
     "metadata": {}
    },
    {
     "output_type": "display_data",
     "data": {
      "text/plain": [
       "<IPython.core.display.HTML object>"
      ],
      "text/html": [
       "<span style=\"color:blue\"> |-hidden_size: 32</span>"
      ]
     },
     "metadata": {}
    },
    {
     "output_type": "display_data",
     "data": {
      "text/plain": [
       "<IPython.core.display.HTML object>"
      ],
      "text/html": [
       "<span style=\"color:cyan\"> |-kernel_size_0: 3</span>"
      ]
     },
     "metadata": {}
    },
    {
     "output_type": "display_data",
     "data": {
      "text/plain": [
       "<IPython.core.display.HTML object>"
      ],
      "text/html": [
       "<span style=\"color:blue\"> |-kernel_size_1: 5</span>"
      ]
     },
     "metadata": {}
    },
    {
     "output_type": "display_data",
     "data": {
      "text/plain": [
       "<IPython.core.display.HTML object>"
      ],
      "text/html": [
       "<span style=\"color:cyan\"> |-kernel_size_2: 3</span>"
      ]
     },
     "metadata": {}
    },
    {
     "output_type": "display_data",
     "data": {
      "text/plain": [
       "<IPython.core.display.HTML object>"
      ],
      "text/html": [
       "<span style=\"color:blue\"> |-kernel_size_3: 5</span>"
      ]
     },
     "metadata": {}
    },
    {
     "output_type": "display_data",
     "data": {
      "text/plain": [
       "<IPython.core.display.HTML object>"
      ],
      "text/html": [
       "<span style=\"color:cyan\"> |-learning_rate: 0.0007069633744170183</span>"
      ]
     },
     "metadata": {}
    },
    {
     "output_type": "display_data",
     "data": {
      "text/plain": [
       "<IPython.core.display.HTML object>"
      ],
      "text/html": [
       "<span style=\"color:blue\"> |-optimizer_: rmsprop</span>"
      ]
     },
     "metadata": {}
    },
    {
     "output_type": "display_data",
     "data": {
      "text/plain": [
       "<IPython.core.display.HTML object>"
      ],
      "text/html": [
       "<span style=\"color:cyan\"> |-pooling_0: global</span>"
      ]
     },
     "metadata": {}
    },
    {
     "output_type": "display_data",
     "data": {
      "text/plain": [
       "<IPython.core.display.HTML object>"
      ],
      "text/html": [
       "<span style=\"color:blue\"> |-pooling_1: max</span>"
      ]
     },
     "metadata": {}
    },
    {
     "output_type": "display_data",
     "data": {
      "text/plain": [
       "<IPython.core.display.HTML object>"
      ],
      "text/html": [
       "<span style=\"color:cyan\"> |-pooling_2: max</span>"
      ]
     },
     "metadata": {}
    },
    {
     "output_type": "display_data",
     "data": {
      "text/plain": [
       "<IPython.core.display.HTML object>"
      ],
      "text/html": [
       "<span style=\"color:blue\"> |-pooling_3: global</span>"
      ]
     },
     "metadata": {}
    },
    {
     "output_type": "display_data",
     "data": {
      "text/plain": [
       "<IPython.core.display.HTML object>"
      ],
      "text/html": [
       "<span style=\"color:cyan\"> |-tuner/bracket: 1</span>"
      ]
     },
     "metadata": {}
    },
    {
     "output_type": "display_data",
     "data": {
      "text/plain": [
       "<IPython.core.display.HTML object>"
      ],
      "text/html": [
       "<span style=\"color:blue\"> |-tuner/epochs: 7</span>"
      ]
     },
     "metadata": {}
    },
    {
     "output_type": "display_data",
     "data": {
      "text/plain": [
       "<IPython.core.display.HTML object>"
      ],
      "text/html": [
       "<span style=\"color:cyan\"> |-tuner/initial_epoch: 0</span>"
      ]
     },
     "metadata": {}
    },
    {
     "output_type": "display_data",
     "data": {
      "text/plain": [
       "<IPython.core.display.HTML object>"
      ],
      "text/html": [
       "<span style=\"color:blue\"> |-tuner/round: 0</span>"
      ]
     },
     "metadata": {}
    },
    {
     "output_type": "stream",
     "name": "stdout",
     "text": [
      "Train on 118857 samples, validate on 29715 samples\n",
      "Epoch 8/20\n",
      "118857/118857 - 30s - loss: 0.3937 - accuracy: 0.8181 - val_loss: 0.3450 - val_accuracy: 0.8496\n",
      "Epoch 9/20\n",
      "118857/118857 - 28s - loss: 0.3277 - accuracy: 0.8601 - val_loss: 0.3262 - val_accuracy: 0.8602\n",
      "Epoch 10/20\n",
      "118857/118857 - 29s - loss: 0.3031 - accuracy: 0.8737 - val_loss: 0.3265 - val_accuracy: 0.8613\n",
      "Epoch 11/20\n",
      "118857/118857 - 29s - loss: 0.2830 - accuracy: 0.8835 - val_loss: 0.3200 - val_accuracy: 0.8644\n",
      "Epoch 12/20\n",
      "118857/118857 - 29s - loss: 0.2673 - accuracy: 0.8912 - val_loss: 0.3264 - val_accuracy: 0.8642\n",
      "Epoch 13/20\n",
      "118857/118857 - 29s - loss: 0.2526 - accuracy: 0.8985 - val_loss: 0.3463 - val_accuracy: 0.8569\n",
      "Epoch 14/20\n",
      "118857/118857 - 29s - loss: 0.2387 - accuracy: 0.9048 - val_loss: 0.3405 - val_accuracy: 0.8636\n",
      "Epoch 15/20\n",
      "118857/118857 - 29s - loss: 0.2267 - accuracy: 0.9103 - val_loss: 0.3340 - val_accuracy: 0.8645\n",
      "Train on 118857 samples, validate on 29715 samples\n",
      "Epoch 8/20\n",
      "118857/118857 - 29s - loss: 0.3948 - accuracy: 0.8174 - val_loss: 0.3454 - val_accuracy: 0.8479\n",
      "Epoch 9/20\n",
      "118857/118857 - 28s - loss: 0.3279 - accuracy: 0.8591 - val_loss: 0.3311 - val_accuracy: 0.8565\n",
      "Epoch 10/20\n",
      "118857/118857 - 28s - loss: 0.3027 - accuracy: 0.8735 - val_loss: 0.3208 - val_accuracy: 0.8642\n",
      "Epoch 11/20\n",
      "118857/118857 - 28s - loss: 0.2833 - accuracy: 0.8834 - val_loss: 0.3207 - val_accuracy: 0.8640\n",
      "Epoch 12/20\n",
      "118857/118857 - 28s - loss: 0.2674 - accuracy: 0.8921 - val_loss: 0.3427 - val_accuracy: 0.8523\n",
      "Epoch 13/20\n",
      "118857/118857 - 28s - loss: 0.2517 - accuracy: 0.8984 - val_loss: 0.3237 - val_accuracy: 0.8651\n",
      "Epoch 14/20\n",
      "118857/118857 - 28s - loss: 0.2382 - accuracy: 0.9053 - val_loss: 0.3296 - val_accuracy: 0.8671\n",
      "Epoch 15/20\n",
      "118857/118857 - 28s - loss: 0.2238 - accuracy: 0.9125 - val_loss: 0.3385 - val_accuracy: 0.8641\n",
      "Train on 118857 samples, validate on 29715 samples\n",
      "Epoch 8/20\n",
      "118857/118857 - 28s - loss: 0.3936 - accuracy: 0.8193 - val_loss: 0.3510 - val_accuracy: 0.8506\n",
      "Epoch 9/20\n",
      "118857/118857 - 27s - loss: 0.3270 - accuracy: 0.8605 - val_loss: 0.3323 - val_accuracy: 0.8597\n",
      "Epoch 10/20\n",
      "118857/118857 - 27s - loss: 0.3013 - accuracy: 0.8731 - val_loss: 0.3230 - val_accuracy: 0.8629\n",
      "Epoch 11/20\n",
      "118857/118857 - 27s - loss: 0.2827 - accuracy: 0.8838 - val_loss: 0.3680 - val_accuracy: 0.8496\n",
      "Epoch 12/20\n",
      "118857/118857 - 27s - loss: 0.2668 - accuracy: 0.8913 - val_loss: 0.3669 - val_accuracy: 0.8413\n",
      "Epoch 13/20\n",
      "118857/118857 - 27s - loss: 0.2532 - accuracy: 0.8976 - val_loss: 0.3217 - val_accuracy: 0.8653\n",
      "Epoch 14/20\n",
      "118857/118857 - 27s - loss: 0.2391 - accuracy: 0.9048 - val_loss: 0.3328 - val_accuracy: 0.8673\n",
      "Epoch 15/20\n",
      "118857/118857 - 27s - loss: 0.2259 - accuracy: 0.9115 - val_loss: 0.3456 - val_accuracy: 0.8657\n",
      "Epoch 16/20\n",
      "118857/118857 - 27s - loss: 0.2151 - accuracy: 0.9160 - val_loss: 0.3355 - val_accuracy: 0.8625\n",
      "Epoch 17/20\n",
      "118857/118857 - 27s - loss: 0.2032 - accuracy: 0.9208 - val_loss: 0.3490 - val_accuracy: 0.8592\n",
      "Train on 118857 samples, validate on 29715 samples\n",
      "Epoch 8/20\n",
      "118857/118857 - 31s - loss: 0.3976 - accuracy: 0.8151 - val_loss: 0.3544 - val_accuracy: 0.8468\n",
      "Epoch 9/20\n",
      "118857/118857 - 29s - loss: 0.3302 - accuracy: 0.8579 - val_loss: 0.3325 - val_accuracy: 0.8577\n",
      "Epoch 10/20\n",
      "118857/118857 - 28s - loss: 0.3057 - accuracy: 0.8712 - val_loss: 0.3248 - val_accuracy: 0.8601\n",
      "Epoch 11/20\n",
      "118857/118857 - 29s - loss: 0.2880 - accuracy: 0.8811 - val_loss: 0.3263 - val_accuracy: 0.8613\n",
      "Epoch 12/20\n",
      "118857/118857 - 29s - loss: 0.2721 - accuracy: 0.8893 - val_loss: 0.3271 - val_accuracy: 0.8620\n",
      "Epoch 13/20\n",
      "118857/118857 - 29s - loss: 0.2585 - accuracy: 0.8959 - val_loss: 0.3222 - val_accuracy: 0.8666\n",
      "Epoch 14/20\n",
      "118857/118857 - 29s - loss: 0.2447 - accuracy: 0.9018 - val_loss: 0.3268 - val_accuracy: 0.8651\n",
      "Epoch 15/20\n",
      "118857/118857 - 29s - loss: 0.2329 - accuracy: 0.9084 - val_loss: 0.3376 - val_accuracy: 0.8638\n",
      "Epoch 16/20\n",
      "118857/118857 - 29s - loss: 0.2200 - accuracy: 0.9139 - val_loss: 0.3358 - val_accuracy: 0.8646\n",
      "Epoch 17/20\n",
      "118857/118857 - 29s - loss: 0.2094 - accuracy: 0.9187 - val_loss: 0.3449 - val_accuracy: 0.8672\n",
      "Train on 118857 samples, validate on 29715 samples\n",
      "Epoch 8/20\n",
      "118857/118857 - 29s - loss: 0.4933 - accuracy: 0.7979 - val_loss: 0.4422 - val_accuracy: 0.8225\n",
      "Epoch 9/20\n",
      "118857/118857 - 28s - loss: 0.3733 - accuracy: 0.8494 - val_loss: 0.3545 - val_accuracy: 0.8535\n",
      "Epoch 10/20\n",
      "118857/118857 - 28s - loss: 0.3274 - accuracy: 0.8676 - val_loss: 0.3540 - val_accuracy: 0.8557\n",
      "Epoch 11/20\n",
      "118857/118857 - 28s - loss: 0.3026 - accuracy: 0.8783 - val_loss: 0.3444 - val_accuracy: 0.8536\n",
      "Epoch 12/20\n",
      "118857/118857 - 28s - loss: 0.2832 - accuracy: 0.8866 - val_loss: 0.3294 - val_accuracy: 0.8619\n",
      "Epoch 13/20\n",
      "118857/118857 - 28s - loss: 0.2668 - accuracy: 0.8946 - val_loss: 0.3582 - val_accuracy: 0.8466\n",
      "Epoch 14/20\n",
      "118857/118857 - 28s - loss: 0.2512 - accuracy: 0.9010 - val_loss: 0.3362 - val_accuracy: 0.8612\n",
      "Epoch 15/20\n",
      "118857/118857 - 28s - loss: 0.2360 - accuracy: 0.9079 - val_loss: 0.3636 - val_accuracy: 0.8510\n",
      "Epoch 16/20\n",
      "118857/118857 - 28s - loss: 0.2252 - accuracy: 0.9134 - val_loss: 0.3445 - val_accuracy: 0.8625\n"
     ]
    },
    {
     "output_type": "display_data",
     "data": {
      "text/plain": [
       "<IPython.core.display.HTML object>"
      ],
      "text/html": [
       "<span style=\"color:#4527A0\"><h1 style=\"font-size:18px\">Trial complete</h1></span>"
      ]
     },
     "metadata": {}
    },
    {
     "output_type": "display_data",
     "data": {
      "text/plain": [
       "<IPython.core.display.HTML object>"
      ],
      "text/html": [
       "<span style=\"color:#4527A0\"><h1 style=\"font-size:18px\">Trial summary</h1></span>"
      ]
     },
     "metadata": {}
    },
    {
     "output_type": "display_data",
     "data": {
      "text/plain": [
       "<IPython.core.display.HTML object>"
      ],
      "text/html": [
       "<span style=\"color:cyan\"> |-Trial ID: 2e5eebe42b8d4819e33101e9de1ffdea</span>"
      ]
     },
     "metadata": {}
    },
    {
     "output_type": "display_data",
     "data": {
      "text/plain": [
       "<IPython.core.display.HTML object>"
      ],
      "text/html": [
       "<span style=\"color:cyan\"> |-Score: 0.8657243847846985</span>"
      ]
     },
     "metadata": {}
    },
    {
     "output_type": "display_data",
     "data": {
      "text/plain": [
       "<IPython.core.display.HTML object>"
      ],
      "text/html": [
       "<span style=\"color:cyan\"> |-Best step: 0</span>"
      ]
     },
     "metadata": {}
    },
    {
     "output_type": "display_data",
     "data": {
      "text/plain": [
       "<IPython.core.display.HTML object>"
      ],
      "text/html": [
       "<span style=\"color:#7E57C2\"><h2 style=\"font-size:16px\">Hyperparameters:</h2></span>"
      ]
     },
     "metadata": {}
    },
    {
     "output_type": "display_data",
     "data": {
      "text/plain": [
       "<IPython.core.display.HTML object>"
      ],
      "text/html": [
       "<span style=\"color:cyan\"> |-conv_blocks: 3</span>"
      ]
     },
     "metadata": {}
    },
    {
     "output_type": "display_data",
     "data": {
      "text/plain": [
       "<IPython.core.display.HTML object>"
      ],
      "text/html": [
       "<span style=\"color:blue\"> |-dropout1: 0.30000000000000004</span>"
      ]
     },
     "metadata": {}
    },
    {
     "output_type": "display_data",
     "data": {
      "text/plain": [
       "<IPython.core.display.HTML object>"
      ],
      "text/html": [
       "<span style=\"color:cyan\"> |-dropout2: 0.1</span>"
      ]
     },
     "metadata": {}
    },
    {
     "output_type": "display_data",
     "data": {
      "text/plain": [
       "<IPython.core.display.HTML object>"
      ],
      "text/html": [
       "<span style=\"color:blue\"> |-filters_0: 32</span>"
      ]
     },
     "metadata": {}
    },
    {
     "output_type": "display_data",
     "data": {
      "text/plain": [
       "<IPython.core.display.HTML object>"
      ],
      "text/html": [
       "<span style=\"color:cyan\"> |-filters_1: 512</span>"
      ]
     },
     "metadata": {}
    },
    {
     "output_type": "display_data",
     "data": {
      "text/plain": [
       "<IPython.core.display.HTML object>"
      ],
      "text/html": [
       "<span style=\"color:blue\"> |-filters_2: 128</span>"
      ]
     },
     "metadata": {}
    },
    {
     "output_type": "display_data",
     "data": {
      "text/plain": [
       "<IPython.core.display.HTML object>"
      ],
      "text/html": [
       "<span style=\"color:cyan\"> |-filters_3: 512</span>"
      ]
     },
     "metadata": {}
    },
    {
     "output_type": "display_data",
     "data": {
      "text/plain": [
       "<IPython.core.display.HTML object>"
      ],
      "text/html": [
       "<span style=\"color:blue\"> |-hidden_size: 32</span>"
      ]
     },
     "metadata": {}
    },
    {
     "output_type": "display_data",
     "data": {
      "text/plain": [
       "<IPython.core.display.HTML object>"
      ],
      "text/html": [
       "<span style=\"color:cyan\"> |-kernel_size_0: 3</span>"
      ]
     },
     "metadata": {}
    },
    {
     "output_type": "display_data",
     "data": {
      "text/plain": [
       "<IPython.core.display.HTML object>"
      ],
      "text/html": [
       "<span style=\"color:blue\"> |-kernel_size_1: 5</span>"
      ]
     },
     "metadata": {}
    },
    {
     "output_type": "display_data",
     "data": {
      "text/plain": [
       "<IPython.core.display.HTML object>"
      ],
      "text/html": [
       "<span style=\"color:cyan\"> |-kernel_size_2: 3</span>"
      ]
     },
     "metadata": {}
    },
    {
     "output_type": "display_data",
     "data": {
      "text/plain": [
       "<IPython.core.display.HTML object>"
      ],
      "text/html": [
       "<span style=\"color:blue\"> |-kernel_size_3: 5</span>"
      ]
     },
     "metadata": {}
    },
    {
     "output_type": "display_data",
     "data": {
      "text/plain": [
       "<IPython.core.display.HTML object>"
      ],
      "text/html": [
       "<span style=\"color:cyan\"> |-learning_rate: 0.0007069633744170183</span>"
      ]
     },
     "metadata": {}
    },
    {
     "output_type": "display_data",
     "data": {
      "text/plain": [
       "<IPython.core.display.HTML object>"
      ],
      "text/html": [
       "<span style=\"color:blue\"> |-optimizer_: rmsprop</span>"
      ]
     },
     "metadata": {}
    },
    {
     "output_type": "display_data",
     "data": {
      "text/plain": [
       "<IPython.core.display.HTML object>"
      ],
      "text/html": [
       "<span style=\"color:cyan\"> |-pooling_0: global</span>"
      ]
     },
     "metadata": {}
    },
    {
     "output_type": "display_data",
     "data": {
      "text/plain": [
       "<IPython.core.display.HTML object>"
      ],
      "text/html": [
       "<span style=\"color:blue\"> |-pooling_1: max</span>"
      ]
     },
     "metadata": {}
    },
    {
     "output_type": "display_data",
     "data": {
      "text/plain": [
       "<IPython.core.display.HTML object>"
      ],
      "text/html": [
       "<span style=\"color:cyan\"> |-pooling_2: max</span>"
      ]
     },
     "metadata": {}
    },
    {
     "output_type": "display_data",
     "data": {
      "text/plain": [
       "<IPython.core.display.HTML object>"
      ],
      "text/html": [
       "<span style=\"color:blue\"> |-pooling_3: global</span>"
      ]
     },
     "metadata": {}
    },
    {
     "output_type": "display_data",
     "data": {
      "text/plain": [
       "<IPython.core.display.HTML object>"
      ],
      "text/html": [
       "<span style=\"color:cyan\"> |-tuner/bracket: 1</span>"
      ]
     },
     "metadata": {}
    },
    {
     "output_type": "display_data",
     "data": {
      "text/plain": [
       "<IPython.core.display.HTML object>"
      ],
      "text/html": [
       "<span style=\"color:blue\"> |-tuner/epochs: 20</span>"
      ]
     },
     "metadata": {}
    },
    {
     "output_type": "display_data",
     "data": {
      "text/plain": [
       "<IPython.core.display.HTML object>"
      ],
      "text/html": [
       "<span style=\"color:cyan\"> |-tuner/initial_epoch: 7</span>"
      ]
     },
     "metadata": {}
    },
    {
     "output_type": "display_data",
     "data": {
      "text/plain": [
       "<IPython.core.display.HTML object>"
      ],
      "text/html": [
       "<span style=\"color:blue\"> |-tuner/round: 1</span>"
      ]
     },
     "metadata": {}
    },
    {
     "output_type": "display_data",
     "data": {
      "text/plain": [
       "<IPython.core.display.HTML object>"
      ],
      "text/html": [
       "<span style=\"color:cyan\"> |-tuner/trial_id: 43dfb71e0fb27176888bd0e7790677cd</span>"
      ]
     },
     "metadata": {}
    },
    {
     "output_type": "stream",
     "name": "stdout",
     "text": [
      "Train on 118857 samples, validate on 29715 samples\n",
      "Epoch 8/20\n",
      "118857/118857 - 28s - loss: 0.3968 - accuracy: 0.8185 - val_loss: 0.3572 - val_accuracy: 0.8445\n",
      "Epoch 9/20\n",
      "118857/118857 - 27s - loss: 0.3303 - accuracy: 0.8587 - val_loss: 0.3319 - val_accuracy: 0.8597\n",
      "Epoch 10/20\n",
      "118857/118857 - 27s - loss: 0.3044 - accuracy: 0.8739 - val_loss: 0.3250 - val_accuracy: 0.8610\n",
      "Epoch 11/20\n",
      "118857/118857 - 27s - loss: 0.2858 - accuracy: 0.8835 - val_loss: 0.3289 - val_accuracy: 0.8600\n",
      "Epoch 12/20\n",
      "118857/118857 - 28s - loss: 0.2721 - accuracy: 0.8905 - val_loss: 0.3411 - val_accuracy: 0.8593\n",
      "Epoch 13/20\n",
      "118857/118857 - 27s - loss: 0.2596 - accuracy: 0.8965 - val_loss: 0.3465 - val_accuracy: 0.8562\n",
      "Epoch 14/20\n",
      "118857/118857 - 27s - loss: 0.2478 - accuracy: 0.9027 - val_loss: 0.3290 - val_accuracy: 0.8632\n",
      "Train on 118857 samples, validate on 29715 samples\n",
      "Epoch 8/20\n",
      "118857/118857 - 27s - loss: 0.3967 - accuracy: 0.8189 - val_loss: 0.3603 - val_accuracy: 0.8417\n",
      "Epoch 9/20\n",
      "118857/118857 - 26s - loss: 0.3306 - accuracy: 0.8589 - val_loss: 0.3324 - val_accuracy: 0.8582\n",
      "Epoch 10/20\n",
      "118857/118857 - 27s - loss: 0.3059 - accuracy: 0.8734 - val_loss: 0.3439 - val_accuracy: 0.8550\n",
      "Epoch 11/20\n",
      "118857/118857 - 27s - loss: 0.2880 - accuracy: 0.8826 - val_loss: 0.3277 - val_accuracy: 0.8635\n",
      "Epoch 12/20\n",
      "118857/118857 - 27s - loss: 0.2732 - accuracy: 0.8899 - val_loss: 0.3337 - val_accuracy: 0.8620\n",
      "Epoch 13/20\n",
      "118857/118857 - 27s - loss: 0.2623 - accuracy: 0.8960 - val_loss: 0.3373 - val_accuracy: 0.8590\n",
      "Epoch 14/20\n",
      "118857/118857 - 26s - loss: 0.2509 - accuracy: 0.9005 - val_loss: 0.3467 - val_accuracy: 0.8599\n",
      "Epoch 15/20\n",
      "118857/118857 - 27s - loss: 0.2415 - accuracy: 0.9057 - val_loss: 0.3498 - val_accuracy: 0.8622\n",
      "Train on 118857 samples, validate on 29715 samples\n",
      "Epoch 8/20\n",
      "118857/118857 - 27s - loss: 0.3979 - accuracy: 0.8187 - val_loss: 0.3506 - val_accuracy: 0.8484\n",
      "Epoch 9/20\n",
      "118857/118857 - 26s - loss: 0.3316 - accuracy: 0.8598 - val_loss: 0.3351 - val_accuracy: 0.8578\n",
      "Epoch 10/20\n",
      "118857/118857 - 26s - loss: 0.3063 - accuracy: 0.8729 - val_loss: 0.3272 - val_accuracy: 0.8608\n",
      "Epoch 11/20\n",
      "118857/118857 - 26s - loss: 0.2879 - accuracy: 0.8822 - val_loss: 0.3414 - val_accuracy: 0.8568\n",
      "Epoch 12/20\n",
      "118857/118857 - 25s - loss: 0.2744 - accuracy: 0.8901 - val_loss: 0.3253 - val_accuracy: 0.8634\n",
      "Epoch 13/20\n",
      "118857/118857 - 26s - loss: 0.2616 - accuracy: 0.8965 - val_loss: 0.3327 - val_accuracy: 0.8620\n",
      "Epoch 14/20\n",
      "118857/118857 - 26s - loss: 0.2509 - accuracy: 0.9006 - val_loss: 0.3389 - val_accuracy: 0.8599\n",
      "Epoch 15/20\n",
      "118857/118857 - 26s - loss: 0.2413 - accuracy: 0.9055 - val_loss: 0.3511 - val_accuracy: 0.8519\n",
      "Epoch 16/20\n",
      "118857/118857 - 26s - loss: 0.2317 - accuracy: 0.9099 - val_loss: 0.3683 - val_accuracy: 0.8557\n",
      "Train on 118857 samples, validate on 29715 samples\n",
      "Epoch 8/20\n",
      "118857/118857 - 27s - loss: 0.3958 - accuracy: 0.8199 - val_loss: 0.3633 - val_accuracy: 0.8425\n",
      "Epoch 9/20\n",
      "118857/118857 - 27s - loss: 0.3310 - accuracy: 0.8587 - val_loss: 0.3349 - val_accuracy: 0.8588\n",
      "Epoch 10/20\n",
      "118857/118857 - 26s - loss: 0.3061 - accuracy: 0.8728 - val_loss: 0.3261 - val_accuracy: 0.8601\n",
      "Epoch 11/20\n",
      "118857/118857 - 26s - loss: 0.2897 - accuracy: 0.8816 - val_loss: 0.3250 - val_accuracy: 0.8623\n",
      "Epoch 12/20\n",
      "118857/118857 - 26s - loss: 0.2764 - accuracy: 0.8891 - val_loss: 0.3321 - val_accuracy: 0.8573\n",
      "Epoch 13/20\n",
      "118857/118857 - 26s - loss: 0.2638 - accuracy: 0.8940 - val_loss: 0.3259 - val_accuracy: 0.8611\n",
      "Epoch 14/20\n",
      "118857/118857 - 27s - loss: 0.2538 - accuracy: 0.8998 - val_loss: 0.3405 - val_accuracy: 0.8618\n",
      "Epoch 15/20\n",
      "118857/118857 - 26s - loss: 0.2430 - accuracy: 0.9051 - val_loss: 0.3506 - val_accuracy: 0.8615\n",
      "Train on 118857 samples, validate on 29715 samples\n",
      "Epoch 8/20\n",
      "118857/118857 - 28s - loss: 0.3966 - accuracy: 0.8185 - val_loss: 0.3559 - val_accuracy: 0.8498\n",
      "Epoch 9/20\n",
      "118857/118857 - 28s - loss: 0.3302 - accuracy: 0.8598 - val_loss: 0.3401 - val_accuracy: 0.8577\n",
      "Epoch 10/20\n",
      "118857/118857 - 27s - loss: 0.3053 - accuracy: 0.8738 - val_loss: 0.3276 - val_accuracy: 0.8599\n",
      "Epoch 11/20\n",
      "118857/118857 - 28s - loss: 0.2886 - accuracy: 0.8817 - val_loss: 0.3277 - val_accuracy: 0.8621\n",
      "Epoch 12/20\n",
      "118857/118857 - 27s - loss: 0.2748 - accuracy: 0.8886 - val_loss: 0.3249 - val_accuracy: 0.8610\n",
      "Epoch 13/20\n",
      "118857/118857 - 27s - loss: 0.2642 - accuracy: 0.8940 - val_loss: 0.3343 - val_accuracy: 0.8602\n",
      "Epoch 14/20\n",
      "118857/118857 - 27s - loss: 0.2547 - accuracy: 0.8993 - val_loss: 0.3418 - val_accuracy: 0.8609\n",
      "Epoch 15/20\n",
      "118857/118857 - 27s - loss: 0.2436 - accuracy: 0.9042 - val_loss: 0.3508 - val_accuracy: 0.8611\n",
      "Epoch 16/20\n",
      "118857/118857 - 27s - loss: 0.2343 - accuracy: 0.9086 - val_loss: 0.3502 - val_accuracy: 0.8565\n"
     ]
    },
    {
     "output_type": "display_data",
     "data": {
      "text/plain": [
       "<IPython.core.display.HTML object>"
      ],
      "text/html": [
       "<span style=\"color:#4527A0\"><h1 style=\"font-size:18px\">Trial complete</h1></span>"
      ]
     },
     "metadata": {}
    },
    {
     "output_type": "display_data",
     "data": {
      "text/plain": [
       "<IPython.core.display.HTML object>"
      ],
      "text/html": [
       "<span style=\"color:#4527A0\"><h1 style=\"font-size:18px\">Trial summary</h1></span>"
      ]
     },
     "metadata": {}
    },
    {
     "output_type": "display_data",
     "data": {
      "text/plain": [
       "<IPython.core.display.HTML object>"
      ],
      "text/html": [
       "<span style=\"color:cyan\"> |-Trial ID: 01fb94cffe62192df38874292212ad6a</span>"
      ]
     },
     "metadata": {}
    },
    {
     "output_type": "display_data",
     "data": {
      "text/plain": [
       "<IPython.core.display.HTML object>"
      ],
      "text/html": [
       "<span style=\"color:cyan\"> |-Score: 0.8628908395767212</span>"
      ]
     },
     "metadata": {}
    },
    {
     "output_type": "display_data",
     "data": {
      "text/plain": [
       "<IPython.core.display.HTML object>"
      ],
      "text/html": [
       "<span style=\"color:cyan\"> |-Best step: 0</span>"
      ]
     },
     "metadata": {}
    },
    {
     "output_type": "display_data",
     "data": {
      "text/plain": [
       "<IPython.core.display.HTML object>"
      ],
      "text/html": [
       "<span style=\"color:#7E57C2\"><h2 style=\"font-size:16px\">Hyperparameters:</h2></span>"
      ]
     },
     "metadata": {}
    },
    {
     "output_type": "display_data",
     "data": {
      "text/plain": [
       "<IPython.core.display.HTML object>"
      ],
      "text/html": [
       "<span style=\"color:cyan\"> |-conv_blocks: 2</span>"
      ]
     },
     "metadata": {}
    },
    {
     "output_type": "display_data",
     "data": {
      "text/plain": [
       "<IPython.core.display.HTML object>"
      ],
      "text/html": [
       "<span style=\"color:blue\"> |-dropout1: 0.2</span>"
      ]
     },
     "metadata": {}
    },
    {
     "output_type": "display_data",
     "data": {
      "text/plain": [
       "<IPython.core.display.HTML object>"
      ],
      "text/html": [
       "<span style=\"color:cyan\"> |-dropout2: 0.30000000000000004</span>"
      ]
     },
     "metadata": {}
    },
    {
     "output_type": "display_data",
     "data": {
      "text/plain": [
       "<IPython.core.display.HTML object>"
      ],
      "text/html": [
       "<span style=\"color:blue\"> |-filters_0: 32</span>"
      ]
     },
     "metadata": {}
    },
    {
     "output_type": "display_data",
     "data": {
      "text/plain": [
       "<IPython.core.display.HTML object>"
      ],
      "text/html": [
       "<span style=\"color:cyan\"> |-filters_1: 256</span>"
      ]
     },
     "metadata": {}
    },
    {
     "output_type": "display_data",
     "data": {
      "text/plain": [
       "<IPython.core.display.HTML object>"
      ],
      "text/html": [
       "<span style=\"color:blue\"> |-filters_2: 512</span>"
      ]
     },
     "metadata": {}
    },
    {
     "output_type": "display_data",
     "data": {
      "text/plain": [
       "<IPython.core.display.HTML object>"
      ],
      "text/html": [
       "<span style=\"color:cyan\"> |-filters_3: 128</span>"
      ]
     },
     "metadata": {}
    },
    {
     "output_type": "display_data",
     "data": {
      "text/plain": [
       "<IPython.core.display.HTML object>"
      ],
      "text/html": [
       "<span style=\"color:blue\"> |-hidden_size: 128</span>"
      ]
     },
     "metadata": {}
    },
    {
     "output_type": "display_data",
     "data": {
      "text/plain": [
       "<IPython.core.display.HTML object>"
      ],
      "text/html": [
       "<span style=\"color:cyan\"> |-kernel_size_0: 3</span>"
      ]
     },
     "metadata": {}
    },
    {
     "output_type": "display_data",
     "data": {
      "text/plain": [
       "<IPython.core.display.HTML object>"
      ],
      "text/html": [
       "<span style=\"color:blue\"> |-kernel_size_1: 4</span>"
      ]
     },
     "metadata": {}
    },
    {
     "output_type": "display_data",
     "data": {
      "text/plain": [
       "<IPython.core.display.HTML object>"
      ],
      "text/html": [
       "<span style=\"color:cyan\"> |-kernel_size_2: 4</span>"
      ]
     },
     "metadata": {}
    },
    {
     "output_type": "display_data",
     "data": {
      "text/plain": [
       "<IPython.core.display.HTML object>"
      ],
      "text/html": [
       "<span style=\"color:blue\"> |-kernel_size_3: 4</span>"
      ]
     },
     "metadata": {}
    },
    {
     "output_type": "display_data",
     "data": {
      "text/plain": [
       "<IPython.core.display.HTML object>"
      ],
      "text/html": [
       "<span style=\"color:cyan\"> |-learning_rate: 0.0011387088329202898</span>"
      ]
     },
     "metadata": {}
    },
    {
     "output_type": "display_data",
     "data": {
      "text/plain": [
       "<IPython.core.display.HTML object>"
      ],
      "text/html": [
       "<span style=\"color:blue\"> |-optimizer_: rmsprop</span>"
      ]
     },
     "metadata": {}
    },
    {
     "output_type": "display_data",
     "data": {
      "text/plain": [
       "<IPython.core.display.HTML object>"
      ],
      "text/html": [
       "<span style=\"color:cyan\"> |-pooling_0: global</span>"
      ]
     },
     "metadata": {}
    },
    {
     "output_type": "display_data",
     "data": {
      "text/plain": [
       "<IPython.core.display.HTML object>"
      ],
      "text/html": [
       "<span style=\"color:blue\"> |-pooling_1: max</span>"
      ]
     },
     "metadata": {}
    },
    {
     "output_type": "display_data",
     "data": {
      "text/plain": [
       "<IPython.core.display.HTML object>"
      ],
      "text/html": [
       "<span style=\"color:cyan\"> |-pooling_2: max</span>"
      ]
     },
     "metadata": {}
    },
    {
     "output_type": "display_data",
     "data": {
      "text/plain": [
       "<IPython.core.display.HTML object>"
      ],
      "text/html": [
       "<span style=\"color:blue\"> |-pooling_3: global</span>"
      ]
     },
     "metadata": {}
    },
    {
     "output_type": "display_data",
     "data": {
      "text/plain": [
       "<IPython.core.display.HTML object>"
      ],
      "text/html": [
       "<span style=\"color:cyan\"> |-tuner/bracket: 1</span>"
      ]
     },
     "metadata": {}
    },
    {
     "output_type": "display_data",
     "data": {
      "text/plain": [
       "<IPython.core.display.HTML object>"
      ],
      "text/html": [
       "<span style=\"color:blue\"> |-tuner/epochs: 20</span>"
      ]
     },
     "metadata": {}
    },
    {
     "output_type": "display_data",
     "data": {
      "text/plain": [
       "<IPython.core.display.HTML object>"
      ],
      "text/html": [
       "<span style=\"color:cyan\"> |-tuner/initial_epoch: 7</span>"
      ]
     },
     "metadata": {}
    },
    {
     "output_type": "display_data",
     "data": {
      "text/plain": [
       "<IPython.core.display.HTML object>"
      ],
      "text/html": [
       "<span style=\"color:blue\"> |-tuner/round: 1</span>"
      ]
     },
     "metadata": {}
    },
    {
     "output_type": "display_data",
     "data": {
      "text/plain": [
       "<IPython.core.display.HTML object>"
      ],
      "text/html": [
       "<span style=\"color:cyan\"> |-tuner/trial_id: 64cfa4550e12791e1855547257368d28</span>"
      ]
     },
     "metadata": {}
    },
    {
     "output_type": "stream",
     "name": "stdout",
     "text": [
      "Train on 118857 samples, validate on 29715 samples\n",
      "Epoch 1/20\n",
      "118857/118857 - 46s - loss: 0.3852 - accuracy: 0.8273 - val_loss: 0.3417 - val_accuracy: 0.8547\n",
      "Epoch 2/20\n",
      "118857/118857 - 44s - loss: 0.2952 - accuracy: 0.8755 - val_loss: 0.3355 - val_accuracy: 0.8533\n",
      "Epoch 3/20\n",
      "118857/118857 - 44s - loss: 0.2398 - accuracy: 0.9028 - val_loss: 0.3953 - val_accuracy: 0.8372\n",
      "Epoch 4/20\n",
      "118857/118857 - 44s - loss: 0.1963 - accuracy: 0.9208 - val_loss: 0.3820 - val_accuracy: 0.8487\n",
      "Epoch 5/20\n",
      "118857/118857 - 44s - loss: 0.1658 - accuracy: 0.9344 - val_loss: 0.5104 - val_accuracy: 0.8386\n",
      "Epoch 6/20\n",
      "118857/118857 - 44s - loss: 0.1492 - accuracy: 0.9414 - val_loss: 0.7241 - val_accuracy: 0.8426\n",
      "Train on 118857 samples, validate on 29715 samples\n",
      "Epoch 1/20\n",
      "118857/118857 - 45s - loss: 0.3834 - accuracy: 0.8282 - val_loss: 0.3489 - val_accuracy: 0.8539\n",
      "Epoch 2/20\n",
      "118857/118857 - 45s - loss: 0.2927 - accuracy: 0.8768 - val_loss: 0.3663 - val_accuracy: 0.8515\n",
      "Epoch 3/20\n",
      "118857/118857 - 44s - loss: 0.2352 - accuracy: 0.9031 - val_loss: 0.4616 - val_accuracy: 0.8529\n",
      "Epoch 4/20\n",
      "118857/118857 - 44s - loss: 0.1963 - accuracy: 0.9210 - val_loss: 0.4925 - val_accuracy: 0.8494\n",
      "Epoch 5/20\n",
      "118857/118857 - 44s - loss: 0.1685 - accuracy: 0.9319 - val_loss: 0.5143 - val_accuracy: 0.8480\n",
      "Train on 118857 samples, validate on 29715 samples\n",
      "Epoch 1/20\n",
      "118857/118857 - 46s - loss: 0.3855 - accuracy: 0.8275 - val_loss: 0.3485 - val_accuracy: 0.8523\n",
      "Epoch 2/20\n",
      "118857/118857 - 44s - loss: 0.2950 - accuracy: 0.8766 - val_loss: 0.3415 - val_accuracy: 0.8538\n",
      "Epoch 3/20\n",
      "118857/118857 - 44s - loss: 0.2376 - accuracy: 0.9030 - val_loss: 0.4161 - val_accuracy: 0.8525\n",
      "Epoch 4/20\n",
      "118857/118857 - 44s - loss: 0.1971 - accuracy: 0.9202 - val_loss: 0.4282 - val_accuracy: 0.8448\n",
      "Epoch 5/20\n",
      "118857/118857 - 45s - loss: 0.1671 - accuracy: 0.9337 - val_loss: 0.4946 - val_accuracy: 0.8485\n",
      "Epoch 6/20\n",
      "118857/118857 - 45s - loss: 0.1498 - accuracy: 0.9408 - val_loss: 0.4155 - val_accuracy: 0.8418\n",
      "Train on 118857 samples, validate on 29715 samples\n",
      "Epoch 1/20\n",
      "118857/118857 - 46s - loss: 0.3893 - accuracy: 0.8257 - val_loss: 0.3465 - val_accuracy: 0.8568\n",
      "Epoch 2/20\n",
      "118857/118857 - 44s - loss: 0.2960 - accuracy: 0.8754 - val_loss: 0.3548 - val_accuracy: 0.8535\n",
      "Epoch 3/20\n",
      "118857/118857 - 44s - loss: 0.2379 - accuracy: 0.9038 - val_loss: 0.4182 - val_accuracy: 0.8522\n",
      "Epoch 4/20\n",
      "118857/118857 - 44s - loss: 0.1984 - accuracy: 0.9219 - val_loss: 0.5314 - val_accuracy: 0.8517\n",
      "Epoch 5/20\n",
      "118857/118857 - 45s - loss: 0.1661 - accuracy: 0.9358 - val_loss: 0.4866 - val_accuracy: 0.8510\n",
      "Train on 118857 samples, validate on 29715 samples\n",
      "Epoch 1/20\n",
      "118857/118857 - 46s - loss: 0.3844 - accuracy: 0.8285 - val_loss: 0.3452 - val_accuracy: 0.8529\n",
      "Epoch 2/20\n",
      "118857/118857 - 44s - loss: 0.2966 - accuracy: 0.8760 - val_loss: 0.3573 - val_accuracy: 0.8523\n",
      "Epoch 3/20\n",
      "118857/118857 - 44s - loss: 0.2395 - accuracy: 0.9020 - val_loss: 0.3851 - val_accuracy: 0.8520\n",
      "Epoch 4/20\n",
      "118857/118857 - 44s - loss: 0.1963 - accuracy: 0.9209 - val_loss: 0.4020 - val_accuracy: 0.8435\n",
      "Epoch 5/20\n",
      "118857/118857 - 45s - loss: 0.1654 - accuracy: 0.9355 - val_loss: 0.4579 - val_accuracy: 0.8449\n"
     ]
    },
    {
     "output_type": "display_data",
     "data": {
      "text/plain": [
       "<IPython.core.display.HTML object>"
      ],
      "text/html": [
       "<span style=\"color:#4527A0\"><h1 style=\"font-size:18px\">Trial complete</h1></span>"
      ]
     },
     "metadata": {}
    },
    {
     "output_type": "display_data",
     "data": {
      "text/plain": [
       "<IPython.core.display.HTML object>"
      ],
      "text/html": [
       "<span style=\"color:#4527A0\"><h1 style=\"font-size:18px\">Trial summary</h1></span>"
      ]
     },
     "metadata": {}
    },
    {
     "output_type": "display_data",
     "data": {
      "text/plain": [
       "<IPython.core.display.HTML object>"
      ],
      "text/html": [
       "<span style=\"color:cyan\"> |-Trial ID: 7925c30ec208f3cda09194b72fcefa50</span>"
      ]
     },
     "metadata": {}
    },
    {
     "output_type": "display_data",
     "data": {
      "text/plain": [
       "<IPython.core.display.HTML object>"
      ],
      "text/html": [
       "<span style=\"color:cyan\"> |-Score: 0.8544237017631531</span>"
      ]
     },
     "metadata": {}
    },
    {
     "output_type": "display_data",
     "data": {
      "text/plain": [
       "<IPython.core.display.HTML object>"
      ],
      "text/html": [
       "<span style=\"color:cyan\"> |-Best step: 0</span>"
      ]
     },
     "metadata": {}
    },
    {
     "output_type": "display_data",
     "data": {
      "text/plain": [
       "<IPython.core.display.HTML object>"
      ],
      "text/html": [
       "<span style=\"color:#7E57C2\"><h2 style=\"font-size:16px\">Hyperparameters:</h2></span>"
      ]
     },
     "metadata": {}
    },
    {
     "output_type": "display_data",
     "data": {
      "text/plain": [
       "<IPython.core.display.HTML object>"
      ],
      "text/html": [
       "<span style=\"color:cyan\"> |-conv_blocks: 4</span>"
      ]
     },
     "metadata": {}
    },
    {
     "output_type": "display_data",
     "data": {
      "text/plain": [
       "<IPython.core.display.HTML object>"
      ],
      "text/html": [
       "<span style=\"color:blue\"> |-dropout1: 0.30000000000000004</span>"
      ]
     },
     "metadata": {}
    },
    {
     "output_type": "display_data",
     "data": {
      "text/plain": [
       "<IPython.core.display.HTML object>"
      ],
      "text/html": [
       "<span style=\"color:cyan\"> |-dropout2: 0.30000000000000004</span>"
      ]
     },
     "metadata": {}
    },
    {
     "output_type": "display_data",
     "data": {
      "text/plain": [
       "<IPython.core.display.HTML object>"
      ],
      "text/html": [
       "<span style=\"color:blue\"> |-filters_0: 512</span>"
      ]
     },
     "metadata": {}
    },
    {
     "output_type": "display_data",
     "data": {
      "text/plain": [
       "<IPython.core.display.HTML object>"
      ],
      "text/html": [
       "<span style=\"color:cyan\"> |-filters_1: 64</span>"
      ]
     },
     "metadata": {}
    },
    {
     "output_type": "display_data",
     "data": {
      "text/plain": [
       "<IPython.core.display.HTML object>"
      ],
      "text/html": [
       "<span style=\"color:blue\"> |-filters_2: 64</span>"
      ]
     },
     "metadata": {}
    },
    {
     "output_type": "display_data",
     "data": {
      "text/plain": [
       "<IPython.core.display.HTML object>"
      ],
      "text/html": [
       "<span style=\"color:cyan\"> |-filters_3: 128</span>"
      ]
     },
     "metadata": {}
    },
    {
     "output_type": "display_data",
     "data": {
      "text/plain": [
       "<IPython.core.display.HTML object>"
      ],
      "text/html": [
       "<span style=\"color:blue\"> |-hidden_size: 32</span>"
      ]
     },
     "metadata": {}
    },
    {
     "output_type": "display_data",
     "data": {
      "text/plain": [
       "<IPython.core.display.HTML object>"
      ],
      "text/html": [
       "<span style=\"color:cyan\"> |-kernel_size_0: 5</span>"
      ]
     },
     "metadata": {}
    },
    {
     "output_type": "display_data",
     "data": {
      "text/plain": [
       "<IPython.core.display.HTML object>"
      ],
      "text/html": [
       "<span style=\"color:blue\"> |-kernel_size_1: 4</span>"
      ]
     },
     "metadata": {}
    },
    {
     "output_type": "display_data",
     "data": {
      "text/plain": [
       "<IPython.core.display.HTML object>"
      ],
      "text/html": [
       "<span style=\"color:cyan\"> |-kernel_size_2: 4</span>"
      ]
     },
     "metadata": {}
    },
    {
     "output_type": "display_data",
     "data": {
      "text/plain": [
       "<IPython.core.display.HTML object>"
      ],
      "text/html": [
       "<span style=\"color:blue\"> |-kernel_size_3: 4</span>"
      ]
     },
     "metadata": {}
    },
    {
     "output_type": "display_data",
     "data": {
      "text/plain": [
       "<IPython.core.display.HTML object>"
      ],
      "text/html": [
       "<span style=\"color:cyan\"> |-learning_rate: 0.005392439970377364</span>"
      ]
     },
     "metadata": {}
    },
    {
     "output_type": "display_data",
     "data": {
      "text/plain": [
       "<IPython.core.display.HTML object>"
      ],
      "text/html": [
       "<span style=\"color:blue\"> |-optimizer_: adam</span>"
      ]
     },
     "metadata": {}
    },
    {
     "output_type": "display_data",
     "data": {
      "text/plain": [
       "<IPython.core.display.HTML object>"
      ],
      "text/html": [
       "<span style=\"color:cyan\"> |-pooling_0: max</span>"
      ]
     },
     "metadata": {}
    },
    {
     "output_type": "display_data",
     "data": {
      "text/plain": [
       "<IPython.core.display.HTML object>"
      ],
      "text/html": [
       "<span style=\"color:blue\"> |-pooling_1: global</span>"
      ]
     },
     "metadata": {}
    },
    {
     "output_type": "display_data",
     "data": {
      "text/plain": [
       "<IPython.core.display.HTML object>"
      ],
      "text/html": [
       "<span style=\"color:cyan\"> |-pooling_2: global</span>"
      ]
     },
     "metadata": {}
    },
    {
     "output_type": "display_data",
     "data": {
      "text/plain": [
       "<IPython.core.display.HTML object>"
      ],
      "text/html": [
       "<span style=\"color:blue\"> |-pooling_3: max</span>"
      ]
     },
     "metadata": {}
    },
    {
     "output_type": "display_data",
     "data": {
      "text/plain": [
       "<IPython.core.display.HTML object>"
      ],
      "text/html": [
       "<span style=\"color:cyan\"> |-tuner/bracket: 0</span>"
      ]
     },
     "metadata": {}
    },
    {
     "output_type": "display_data",
     "data": {
      "text/plain": [
       "<IPython.core.display.HTML object>"
      ],
      "text/html": [
       "<span style=\"color:blue\"> |-tuner/epochs: 20</span>"
      ]
     },
     "metadata": {}
    },
    {
     "output_type": "display_data",
     "data": {
      "text/plain": [
       "<IPython.core.display.HTML object>"
      ],
      "text/html": [
       "<span style=\"color:cyan\"> |-tuner/initial_epoch: 0</span>"
      ]
     },
     "metadata": {}
    },
    {
     "output_type": "display_data",
     "data": {
      "text/plain": [
       "<IPython.core.display.HTML object>"
      ],
      "text/html": [
       "<span style=\"color:blue\"> |-tuner/round: 0</span>"
      ]
     },
     "metadata": {}
    },
    {
     "output_type": "stream",
     "name": "stdout",
     "text": [
      "Train on 118857 samples, validate on 29715 samples\n",
      "Epoch 1/20\n",
      "118857/118857 - 45s - loss: 0.4311 - accuracy: 0.7926 - val_loss: 0.3499 - val_accuracy: 0.8478\n",
      "Epoch 2/20\n",
      "118857/118857 - 43s - loss: 0.3214 - accuracy: 0.8629 - val_loss: 0.3313 - val_accuracy: 0.8578\n",
      "Epoch 3/20\n",
      "118857/118857 - 43s - loss: 0.2742 - accuracy: 0.8884 - val_loss: 0.3255 - val_accuracy: 0.8615\n",
      "Epoch 4/20\n",
      "118857/118857 - 44s - loss: 0.2364 - accuracy: 0.9067 - val_loss: 0.3306 - val_accuracy: 0.8626\n",
      "Epoch 5/20\n",
      "118857/118857 - 43s - loss: 0.2026 - accuracy: 0.9223 - val_loss: 0.3449 - val_accuracy: 0.8590\n",
      "Epoch 6/20\n",
      "118857/118857 - 43s - loss: 0.1728 - accuracy: 0.9348 - val_loss: 0.3644 - val_accuracy: 0.8576\n",
      "Epoch 7/20\n",
      "118857/118857 - 43s - loss: 0.1491 - accuracy: 0.9445 - val_loss: 0.3894 - val_accuracy: 0.8560\n",
      "Train on 118857 samples, validate on 29715 samples\n",
      "Epoch 1/20\n",
      "118857/118857 - 43s - loss: 0.4279 - accuracy: 0.7954 - val_loss: 0.3476 - val_accuracy: 0.8488\n",
      "Epoch 2/20\n",
      "118857/118857 - 44s - loss: 0.3186 - accuracy: 0.8655 - val_loss: 0.3308 - val_accuracy: 0.8574\n",
      "Epoch 3/20\n",
      "118857/118857 - 42s - loss: 0.2737 - accuracy: 0.8882 - val_loss: 0.3262 - val_accuracy: 0.8606\n",
      "Epoch 4/20\n",
      "118857/118857 - 43s - loss: 0.2375 - accuracy: 0.9061 - val_loss: 0.3321 - val_accuracy: 0.8610\n",
      "Epoch 5/20\n",
      "118857/118857 - 44s - loss: 0.2026 - accuracy: 0.9219 - val_loss: 0.3475 - val_accuracy: 0.8577\n",
      "Epoch 6/20\n",
      "118857/118857 - 42s - loss: 0.1734 - accuracy: 0.9343 - val_loss: 0.3658 - val_accuracy: 0.8558\n",
      "Epoch 7/20\n",
      "118857/118857 - 43s - loss: 0.1491 - accuracy: 0.9444 - val_loss: 0.4032 - val_accuracy: 0.8472\n",
      "Train on 118857 samples, validate on 29715 samples\n",
      "Epoch 1/20\n",
      "118857/118857 - 43s - loss: 0.4303 - accuracy: 0.7933 - val_loss: 0.3489 - val_accuracy: 0.8481\n",
      "Epoch 2/20\n",
      "118857/118857 - 44s - loss: 0.3199 - accuracy: 0.8643 - val_loss: 0.3306 - val_accuracy: 0.8588\n",
      "Epoch 3/20\n",
      "118857/118857 - 43s - loss: 0.2754 - accuracy: 0.8882 - val_loss: 0.3260 - val_accuracy: 0.8607\n",
      "Epoch 4/20\n",
      "118857/118857 - 43s - loss: 0.2368 - accuracy: 0.9067 - val_loss: 0.3300 - val_accuracy: 0.8600\n",
      "Epoch 5/20\n",
      "118857/118857 - 43s - loss: 0.2012 - accuracy: 0.9235 - val_loss: 0.3474 - val_accuracy: 0.8608\n",
      "Epoch 6/20\n",
      "118857/118857 - 42s - loss: 0.1718 - accuracy: 0.9358 - val_loss: 0.3613 - val_accuracy: 0.8572\n",
      "Epoch 7/20\n",
      "118857/118857 - 43s - loss: 0.1486 - accuracy: 0.9449 - val_loss: 0.3868 - val_accuracy: 0.8545\n",
      "Train on 118857 samples, validate on 29715 samples\n",
      "Epoch 1/20\n",
      "118857/118857 - 44s - loss: 0.4287 - accuracy: 0.7963 - val_loss: 0.3496 - val_accuracy: 0.8495\n",
      "Epoch 2/20\n",
      "118857/118857 - 43s - loss: 0.3212 - accuracy: 0.8635 - val_loss: 0.3320 - val_accuracy: 0.8584\n",
      "Epoch 3/20\n",
      "118857/118857 - 43s - loss: 0.2767 - accuracy: 0.8871 - val_loss: 0.3275 - val_accuracy: 0.8610\n",
      "Epoch 4/20\n",
      "118857/118857 - 42s - loss: 0.2385 - accuracy: 0.9056 - val_loss: 0.3325 - val_accuracy: 0.8622\n",
      "Epoch 5/20\n",
      "118857/118857 - 43s - loss: 0.2029 - accuracy: 0.9224 - val_loss: 0.3424 - val_accuracy: 0.8611\n",
      "Epoch 6/20\n",
      "118857/118857 - 42s - loss: 0.1730 - accuracy: 0.9350 - val_loss: 0.3699 - val_accuracy: 0.8578\n",
      "Epoch 7/20\n",
      "118857/118857 - 43s - loss: 0.1498 - accuracy: 0.9453 - val_loss: 0.3889 - val_accuracy: 0.8540\n",
      "Train on 118857 samples, validate on 29715 samples\n",
      "Epoch 1/20\n",
      "118857/118857 - 44s - loss: 0.4285 - accuracy: 0.7959 - val_loss: 0.3479 - val_accuracy: 0.8491\n",
      "Epoch 2/20\n",
      "118857/118857 - 43s - loss: 0.3207 - accuracy: 0.8642 - val_loss: 0.3306 - val_accuracy: 0.8585\n",
      "Epoch 3/20\n",
      "118857/118857 - 43s - loss: 0.2771 - accuracy: 0.8857 - val_loss: 0.3296 - val_accuracy: 0.8613\n",
      "Epoch 4/20\n",
      "118857/118857 - 43s - loss: 0.2392 - accuracy: 0.9051 - val_loss: 0.3343 - val_accuracy: 0.8614\n",
      "Epoch 5/20\n",
      "118857/118857 - 42s - loss: 0.2045 - accuracy: 0.9208 - val_loss: 0.3450 - val_accuracy: 0.8606\n",
      "Epoch 6/20\n",
      "118857/118857 - 43s - loss: 0.1749 - accuracy: 0.9339 - val_loss: 0.3683 - val_accuracy: 0.8576\n",
      "Epoch 7/20\n",
      "118857/118857 - 42s - loss: 0.1494 - accuracy: 0.9449 - val_loss: 0.3965 - val_accuracy: 0.8561\n"
     ]
    },
    {
     "output_type": "display_data",
     "data": {
      "text/plain": [
       "<IPython.core.display.HTML object>"
      ],
      "text/html": [
       "<span style=\"color:#4527A0\"><h1 style=\"font-size:18px\">Trial complete</h1></span>"
      ]
     },
     "metadata": {}
    },
    {
     "output_type": "display_data",
     "data": {
      "text/plain": [
       "<IPython.core.display.HTML object>"
      ],
      "text/html": [
       "<span style=\"color:#4527A0\"><h1 style=\"font-size:18px\">Trial summary</h1></span>"
      ]
     },
     "metadata": {}
    },
    {
     "output_type": "display_data",
     "data": {
      "text/plain": [
       "<IPython.core.display.HTML object>"
      ],
      "text/html": [
       "<span style=\"color:cyan\"> |-Trial ID: c625186633d3a72f7a8acf04ad2717f6</span>"
      ]
     },
     "metadata": {}
    },
    {
     "output_type": "display_data",
     "data": {
      "text/plain": [
       "<IPython.core.display.HTML object>"
      ],
      "text/html": [
       "<span style=\"color:cyan\"> |-Score: 0.8616119623184204</span>"
      ]
     },
     "metadata": {}
    },
    {
     "output_type": "display_data",
     "data": {
      "text/plain": [
       "<IPython.core.display.HTML object>"
      ],
      "text/html": [
       "<span style=\"color:cyan\"> |-Best step: 0</span>"
      ]
     },
     "metadata": {}
    },
    {
     "output_type": "display_data",
     "data": {
      "text/plain": [
       "<IPython.core.display.HTML object>"
      ],
      "text/html": [
       "<span style=\"color:#7E57C2\"><h2 style=\"font-size:16px\">Hyperparameters:</h2></span>"
      ]
     },
     "metadata": {}
    },
    {
     "output_type": "display_data",
     "data": {
      "text/plain": [
       "<IPython.core.display.HTML object>"
      ],
      "text/html": [
       "<span style=\"color:cyan\"> |-conv_blocks: 3</span>"
      ]
     },
     "metadata": {}
    },
    {
     "output_type": "display_data",
     "data": {
      "text/plain": [
       "<IPython.core.display.HTML object>"
      ],
      "text/html": [
       "<span style=\"color:blue\"> |-dropout1: 0.30000000000000004</span>"
      ]
     },
     "metadata": {}
    },
    {
     "output_type": "display_data",
     "data": {
      "text/plain": [
       "<IPython.core.display.HTML object>"
      ],
      "text/html": [
       "<span style=\"color:cyan\"> |-dropout2: 0.1</span>"
      ]
     },
     "metadata": {}
    },
    {
     "output_type": "display_data",
     "data": {
      "text/plain": [
       "<IPython.core.display.HTML object>"
      ],
      "text/html": [
       "<span style=\"color:blue\"> |-filters_0: 64</span>"
      ]
     },
     "metadata": {}
    },
    {
     "output_type": "display_data",
     "data": {
      "text/plain": [
       "<IPython.core.display.HTML object>"
      ],
      "text/html": [
       "<span style=\"color:cyan\"> |-filters_1: 64</span>"
      ]
     },
     "metadata": {}
    },
    {
     "output_type": "display_data",
     "data": {
      "text/plain": [
       "<IPython.core.display.HTML object>"
      ],
      "text/html": [
       "<span style=\"color:blue\"> |-filters_2: 128</span>"
      ]
     },
     "metadata": {}
    },
    {
     "output_type": "display_data",
     "data": {
      "text/plain": [
       "<IPython.core.display.HTML object>"
      ],
      "text/html": [
       "<span style=\"color:cyan\"> |-filters_3: 64</span>"
      ]
     },
     "metadata": {}
    },
    {
     "output_type": "display_data",
     "data": {
      "text/plain": [
       "<IPython.core.display.HTML object>"
      ],
      "text/html": [
       "<span style=\"color:blue\"> |-hidden_size: 256</span>"
      ]
     },
     "metadata": {}
    },
    {
     "output_type": "display_data",
     "data": {
      "text/plain": [
       "<IPython.core.display.HTML object>"
      ],
      "text/html": [
       "<span style=\"color:cyan\"> |-kernel_size_0: 4</span>"
      ]
     },
     "metadata": {}
    },
    {
     "output_type": "display_data",
     "data": {
      "text/plain": [
       "<IPython.core.display.HTML object>"
      ],
      "text/html": [
       "<span style=\"color:blue\"> |-kernel_size_1: 3</span>"
      ]
     },
     "metadata": {}
    },
    {
     "output_type": "display_data",
     "data": {
      "text/plain": [
       "<IPython.core.display.HTML object>"
      ],
      "text/html": [
       "<span style=\"color:cyan\"> |-kernel_size_2: 4</span>"
      ]
     },
     "metadata": {}
    },
    {
     "output_type": "display_data",
     "data": {
      "text/plain": [
       "<IPython.core.display.HTML object>"
      ],
      "text/html": [
       "<span style=\"color:blue\"> |-kernel_size_3: 4</span>"
      ]
     },
     "metadata": {}
    },
    {
     "output_type": "display_data",
     "data": {
      "text/plain": [
       "<IPython.core.display.HTML object>"
      ],
      "text/html": [
       "<span style=\"color:cyan\"> |-learning_rate: 0.0002166726414646051</span>"
      ]
     },
     "metadata": {}
    },
    {
     "output_type": "display_data",
     "data": {
      "text/plain": [
       "<IPython.core.display.HTML object>"
      ],
      "text/html": [
       "<span style=\"color:blue\"> |-optimizer_: adam</span>"
      ]
     },
     "metadata": {}
    },
    {
     "output_type": "display_data",
     "data": {
      "text/plain": [
       "<IPython.core.display.HTML object>"
      ],
      "text/html": [
       "<span style=\"color:cyan\"> |-pooling_0: global</span>"
      ]
     },
     "metadata": {}
    },
    {
     "output_type": "display_data",
     "data": {
      "text/plain": [
       "<IPython.core.display.HTML object>"
      ],
      "text/html": [
       "<span style=\"color:blue\"> |-pooling_1: global</span>"
      ]
     },
     "metadata": {}
    },
    {
     "output_type": "display_data",
     "data": {
      "text/plain": [
       "<IPython.core.display.HTML object>"
      ],
      "text/html": [
       "<span style=\"color:cyan\"> |-pooling_2: global</span>"
      ]
     },
     "metadata": {}
    },
    {
     "output_type": "display_data",
     "data": {
      "text/plain": [
       "<IPython.core.display.HTML object>"
      ],
      "text/html": [
       "<span style=\"color:blue\"> |-pooling_3: max</span>"
      ]
     },
     "metadata": {}
    },
    {
     "output_type": "display_data",
     "data": {
      "text/plain": [
       "<IPython.core.display.HTML object>"
      ],
      "text/html": [
       "<span style=\"color:cyan\"> |-tuner/bracket: 0</span>"
      ]
     },
     "metadata": {}
    },
    {
     "output_type": "display_data",
     "data": {
      "text/plain": [
       "<IPython.core.display.HTML object>"
      ],
      "text/html": [
       "<span style=\"color:blue\"> |-tuner/epochs: 20</span>"
      ]
     },
     "metadata": {}
    },
    {
     "output_type": "display_data",
     "data": {
      "text/plain": [
       "<IPython.core.display.HTML object>"
      ],
      "text/html": [
       "<span style=\"color:cyan\"> |-tuner/initial_epoch: 0</span>"
      ]
     },
     "metadata": {}
    },
    {
     "output_type": "display_data",
     "data": {
      "text/plain": [
       "<IPython.core.display.HTML object>"
      ],
      "text/html": [
       "<span style=\"color:blue\"> |-tuner/round: 0</span>"
      ]
     },
     "metadata": {}
    },
    {
     "output_type": "stream",
     "name": "stdout",
     "text": [
      "Train on 118857 samples, validate on 29715 samples\n",
      "Epoch 1/20\n",
      "118857/118857 - 43s - loss: 0.3883 - accuracy: 0.8261 - val_loss: 0.3374 - val_accuracy: 0.8561\n",
      "Epoch 2/20\n",
      "118857/118857 - 43s - loss: 0.2865 - accuracy: 0.8814 - val_loss: 0.3621 - val_accuracy: 0.8557\n",
      "Epoch 3/20\n",
      "118857/118857 - 43s - loss: 0.2311 - accuracy: 0.9078 - val_loss: 0.3839 - val_accuracy: 0.8520\n",
      "Epoch 4/20\n",
      "118857/118857 - 43s - loss: 0.1701 - accuracy: 0.9328 - val_loss: 0.4436 - val_accuracy: 0.8481\n",
      "Epoch 5/20\n",
      "118857/118857 - 42s - loss: 0.1387 - accuracy: 0.9460 - val_loss: 0.4782 - val_accuracy: 0.8381\n",
      "Train on 118857 samples, validate on 29715 samples\n",
      "Epoch 1/20\n",
      "118857/118857 - 44s - loss: 0.3843 - accuracy: 0.8285 - val_loss: 0.3659 - val_accuracy: 0.8531\n",
      "Epoch 2/20\n",
      "118857/118857 - 42s - loss: 0.2827 - accuracy: 0.8816 - val_loss: 0.3350 - val_accuracy: 0.8553\n",
      "Epoch 3/20\n",
      "118857/118857 - 43s - loss: 0.2195 - accuracy: 0.9114 - val_loss: 0.3937 - val_accuracy: 0.8500\n",
      "Epoch 4/20\n",
      "118857/118857 - 42s - loss: 0.1740 - accuracy: 0.9308 - val_loss: 0.4551 - val_accuracy: 0.8488\n",
      "Epoch 5/20\n",
      "118857/118857 - 43s - loss: 0.1408 - accuracy: 0.9442 - val_loss: 0.4737 - val_accuracy: 0.8281\n",
      "Epoch 6/20\n",
      "118857/118857 - 42s - loss: 0.1227 - accuracy: 0.9528 - val_loss: 0.5865 - val_accuracy: 0.8433\n",
      "Train on 118857 samples, validate on 29715 samples\n",
      "Epoch 1/20\n",
      "118857/118857 - 44s - loss: 0.3832 - accuracy: 0.8285 - val_loss: 0.3367 - val_accuracy: 0.8540\n",
      "Epoch 2/20\n",
      "118857/118857 - 42s - loss: 0.2821 - accuracy: 0.8831 - val_loss: 0.3468 - val_accuracy: 0.8522\n",
      "Epoch 3/20\n",
      "118857/118857 - 43s - loss: 0.2198 - accuracy: 0.9119 - val_loss: 0.3904 - val_accuracy: 0.8501\n",
      "Epoch 4/20\n",
      "118857/118857 - 43s - loss: 0.1749 - accuracy: 0.9312 - val_loss: 0.4871 - val_accuracy: 0.8469\n",
      "Epoch 5/20\n",
      "118857/118857 - 42s - loss: 0.1380 - accuracy: 0.9458 - val_loss: 0.5092 - val_accuracy: 0.8451\n",
      "Train on 118857 samples, validate on 29715 samples\n",
      "Epoch 1/20\n",
      "118857/118857 - 43s - loss: 0.3858 - accuracy: 0.8260 - val_loss: 0.3435 - val_accuracy: 0.8443\n",
      "Epoch 2/20\n",
      "118857/118857 - 43s - loss: 0.2877 - accuracy: 0.8808 - val_loss: 0.3755 - val_accuracy: 0.8537\n",
      "Epoch 3/20\n",
      "118857/118857 - 42s - loss: 0.2290 - accuracy: 0.9094 - val_loss: 0.3998 - val_accuracy: 0.8445\n",
      "Epoch 4/20\n",
      "118857/118857 - 44s - loss: 0.1723 - accuracy: 0.9311 - val_loss: 0.4838 - val_accuracy: 0.8465\n",
      "Epoch 5/20\n",
      "118857/118857 - 43s - loss: 0.1394 - accuracy: 0.9444 - val_loss: 0.4926 - val_accuracy: 0.8375\n",
      "Train on 118857 samples, validate on 29715 samples\n",
      "Epoch 1/20\n",
      "118857/118857 - 43s - loss: 0.3869 - accuracy: 0.8261 - val_loss: 0.3408 - val_accuracy: 0.8510\n",
      "Epoch 2/20\n",
      "118857/118857 - 43s - loss: 0.2872 - accuracy: 0.8794 - val_loss: 0.3434 - val_accuracy: 0.8481\n",
      "Epoch 3/20\n",
      "118857/118857 - 43s - loss: 0.2250 - accuracy: 0.9082 - val_loss: 0.3743 - val_accuracy: 0.8501\n",
      "Epoch 4/20\n",
      "118857/118857 - 43s - loss: 0.1729 - accuracy: 0.9309 - val_loss: 0.4859 - val_accuracy: 0.8383\n",
      "Epoch 5/20\n",
      "118857/118857 - 43s - loss: 0.1399 - accuracy: 0.9442 - val_loss: 0.4873 - val_accuracy: 0.8433\n"
     ]
    },
    {
     "output_type": "display_data",
     "data": {
      "text/plain": [
       "<IPython.core.display.HTML object>"
      ],
      "text/html": [
       "<span style=\"color:#4527A0\"><h1 style=\"font-size:18px\">Trial complete</h1></span>"
      ]
     },
     "metadata": {}
    },
    {
     "output_type": "display_data",
     "data": {
      "text/plain": [
       "<IPython.core.display.HTML object>"
      ],
      "text/html": [
       "<span style=\"color:#4527A0\"><h1 style=\"font-size:18px\">Trial summary</h1></span>"
      ]
     },
     "metadata": {}
    },
    {
     "output_type": "display_data",
     "data": {
      "text/plain": [
       "<IPython.core.display.HTML object>"
      ],
      "text/html": [
       "<span style=\"color:cyan\"> |-Trial ID: 49e4f6716a93583924fe5b1b6be15cbc</span>"
      ]
     },
     "metadata": {}
    },
    {
     "output_type": "display_data",
     "data": {
      "text/plain": [
       "<IPython.core.display.HTML object>"
      ],
      "text/html": [
       "<span style=\"color:cyan\"> |-Score: 0.8540199398994446</span>"
      ]
     },
     "metadata": {}
    },
    {
     "output_type": "display_data",
     "data": {
      "text/plain": [
       "<IPython.core.display.HTML object>"
      ],
      "text/html": [
       "<span style=\"color:cyan\"> |-Best step: 0</span>"
      ]
     },
     "metadata": {}
    },
    {
     "output_type": "display_data",
     "data": {
      "text/plain": [
       "<IPython.core.display.HTML object>"
      ],
      "text/html": [
       "<span style=\"color:#7E57C2\"><h2 style=\"font-size:16px\">Hyperparameters:</h2></span>"
      ]
     },
     "metadata": {}
    },
    {
     "output_type": "display_data",
     "data": {
      "text/plain": [
       "<IPython.core.display.HTML object>"
      ],
      "text/html": [
       "<span style=\"color:cyan\"> |-conv_blocks: 2</span>"
      ]
     },
     "metadata": {}
    },
    {
     "output_type": "display_data",
     "data": {
      "text/plain": [
       "<IPython.core.display.HTML object>"
      ],
      "text/html": [
       "<span style=\"color:blue\"> |-dropout1: 0.1</span>"
      ]
     },
     "metadata": {}
    },
    {
     "output_type": "display_data",
     "data": {
      "text/plain": [
       "<IPython.core.display.HTML object>"
      ],
      "text/html": [
       "<span style=\"color:cyan\"> |-dropout2: 0.1</span>"
      ]
     },
     "metadata": {}
    },
    {
     "output_type": "display_data",
     "data": {
      "text/plain": [
       "<IPython.core.display.HTML object>"
      ],
      "text/html": [
       "<span style=\"color:blue\"> |-filters_0: 32</span>"
      ]
     },
     "metadata": {}
    },
    {
     "output_type": "display_data",
     "data": {
      "text/plain": [
       "<IPython.core.display.HTML object>"
      ],
      "text/html": [
       "<span style=\"color:cyan\"> |-filters_1: 512</span>"
      ]
     },
     "metadata": {}
    },
    {
     "output_type": "display_data",
     "data": {
      "text/plain": [
       "<IPython.core.display.HTML object>"
      ],
      "text/html": [
       "<span style=\"color:blue\"> |-filters_2: 128</span>"
      ]
     },
     "metadata": {}
    },
    {
     "output_type": "display_data",
     "data": {
      "text/plain": [
       "<IPython.core.display.HTML object>"
      ],
      "text/html": [
       "<span style=\"color:cyan\"> |-filters_3: 512</span>"
      ]
     },
     "metadata": {}
    },
    {
     "output_type": "display_data",
     "data": {
      "text/plain": [
       "<IPython.core.display.HTML object>"
      ],
      "text/html": [
       "<span style=\"color:blue\"> |-hidden_size: 256</span>"
      ]
     },
     "metadata": {}
    },
    {
     "output_type": "display_data",
     "data": {
      "text/plain": [
       "<IPython.core.display.HTML object>"
      ],
      "text/html": [
       "<span style=\"color:cyan\"> |-kernel_size_0: 3</span>"
      ]
     },
     "metadata": {}
    },
    {
     "output_type": "display_data",
     "data": {
      "text/plain": [
       "<IPython.core.display.HTML object>"
      ],
      "text/html": [
       "<span style=\"color:blue\"> |-kernel_size_1: 3</span>"
      ]
     },
     "metadata": {}
    },
    {
     "output_type": "display_data",
     "data": {
      "text/plain": [
       "<IPython.core.display.HTML object>"
      ],
      "text/html": [
       "<span style=\"color:cyan\"> |-kernel_size_2: 5</span>"
      ]
     },
     "metadata": {}
    },
    {
     "output_type": "display_data",
     "data": {
      "text/plain": [
       "<IPython.core.display.HTML object>"
      ],
      "text/html": [
       "<span style=\"color:blue\"> |-kernel_size_3: 4</span>"
      ]
     },
     "metadata": {}
    },
    {
     "output_type": "display_data",
     "data": {
      "text/plain": [
       "<IPython.core.display.HTML object>"
      ],
      "text/html": [
       "<span style=\"color:cyan\"> |-learning_rate: 0.00654140008168817</span>"
      ]
     },
     "metadata": {}
    },
    {
     "output_type": "display_data",
     "data": {
      "text/plain": [
       "<IPython.core.display.HTML object>"
      ],
      "text/html": [
       "<span style=\"color:blue\"> |-optimizer_: adam</span>"
      ]
     },
     "metadata": {}
    },
    {
     "output_type": "display_data",
     "data": {
      "text/plain": [
       "<IPython.core.display.HTML object>"
      ],
      "text/html": [
       "<span style=\"color:cyan\"> |-pooling_0: global</span>"
      ]
     },
     "metadata": {}
    },
    {
     "output_type": "display_data",
     "data": {
      "text/plain": [
       "<IPython.core.display.HTML object>"
      ],
      "text/html": [
       "<span style=\"color:blue\"> |-pooling_1: global</span>"
      ]
     },
     "metadata": {}
    },
    {
     "output_type": "display_data",
     "data": {
      "text/plain": [
       "<IPython.core.display.HTML object>"
      ],
      "text/html": [
       "<span style=\"color:cyan\"> |-pooling_2: global</span>"
      ]
     },
     "metadata": {}
    },
    {
     "output_type": "display_data",
     "data": {
      "text/plain": [
       "<IPython.core.display.HTML object>"
      ],
      "text/html": [
       "<span style=\"color:blue\"> |-pooling_3: max</span>"
      ]
     },
     "metadata": {}
    },
    {
     "output_type": "display_data",
     "data": {
      "text/plain": [
       "<IPython.core.display.HTML object>"
      ],
      "text/html": [
       "<span style=\"color:cyan\"> |-tuner/bracket: 0</span>"
      ]
     },
     "metadata": {}
    },
    {
     "output_type": "display_data",
     "data": {
      "text/plain": [
       "<IPython.core.display.HTML object>"
      ],
      "text/html": [
       "<span style=\"color:blue\"> |-tuner/epochs: 20</span>"
      ]
     },
     "metadata": {}
    },
    {
     "output_type": "display_data",
     "data": {
      "text/plain": [
       "<IPython.core.display.HTML object>"
      ],
      "text/html": [
       "<span style=\"color:cyan\"> |-tuner/initial_epoch: 0</span>"
      ]
     },
     "metadata": {}
    },
    {
     "output_type": "display_data",
     "data": {
      "text/plain": [
       "<IPython.core.display.HTML object>"
      ],
      "text/html": [
       "<span style=\"color:blue\"> |-tuner/round: 0</span>"
      ]
     },
     "metadata": {}
    },
    {
     "output_type": "stream",
     "name": "stdout",
     "text": [
      "Train on 118857 samples, validate on 29715 samples\n",
      "Epoch 1/20\n",
      "118857/118857 - 28s - loss: 0.3911 - accuracy: 0.8199 - val_loss: 0.3525 - val_accuracy: 0.8478\n",
      "Epoch 2/20\n",
      "118857/118857 - 28s - loss: 0.3247 - accuracy: 0.8614 - val_loss: 0.3261 - val_accuracy: 0.8599\n",
      "Epoch 3/20\n",
      "118857/118857 - 28s - loss: 0.3006 - accuracy: 0.8742 - val_loss: 0.3326 - val_accuracy: 0.8580\n",
      "Epoch 4/20\n",
      "118857/118857 - 28s - loss: 0.2835 - accuracy: 0.8831 - val_loss: 0.3143 - val_accuracy: 0.8678\n",
      "Epoch 5/20\n",
      "118857/118857 - 28s - loss: 0.2711 - accuracy: 0.8904 - val_loss: 0.3571 - val_accuracy: 0.8599\n",
      "Epoch 6/20\n",
      "118857/118857 - 28s - loss: 0.2607 - accuracy: 0.8958 - val_loss: 0.3228 - val_accuracy: 0.8625\n",
      "Epoch 7/20\n",
      "118857/118857 - 28s - loss: 0.2529 - accuracy: 0.9000 - val_loss: 0.3172 - val_accuracy: 0.8676\n",
      "Epoch 8/20\n",
      "118857/118857 - 28s - loss: 0.2442 - accuracy: 0.9041 - val_loss: 0.3239 - val_accuracy: 0.8667\n",
      "Train on 118857 samples, validate on 29715 samples\n",
      "Epoch 1/20\n",
      "118857/118857 - 29s - loss: 0.3924 - accuracy: 0.8188 - val_loss: 0.3417 - val_accuracy: 0.8529\n",
      "Epoch 2/20\n",
      "118857/118857 - 28s - loss: 0.3252 - accuracy: 0.8606 - val_loss: 0.3238 - val_accuracy: 0.8624\n",
      "Epoch 3/20\n",
      "118857/118857 - 28s - loss: 0.3006 - accuracy: 0.8739 - val_loss: 0.3228 - val_accuracy: 0.8633\n",
      "Epoch 4/20\n",
      "118857/118857 - 27s - loss: 0.2840 - accuracy: 0.8831 - val_loss: 0.3143 - val_accuracy: 0.8688\n",
      "Epoch 5/20\n",
      "118857/118857 - 27s - loss: 0.2712 - accuracy: 0.8899 - val_loss: 0.3157 - val_accuracy: 0.8679\n",
      "Epoch 6/20\n",
      "118857/118857 - 27s - loss: 0.2590 - accuracy: 0.8960 - val_loss: 0.3751 - val_accuracy: 0.8366\n",
      "Epoch 7/20\n",
      "118857/118857 - 28s - loss: 0.2514 - accuracy: 0.8997 - val_loss: 0.3282 - val_accuracy: 0.8621\n",
      "Epoch 8/20\n",
      "118857/118857 - 28s - loss: 0.2432 - accuracy: 0.9049 - val_loss: 0.3324 - val_accuracy: 0.8635\n",
      "Train on 118857 samples, validate on 29715 samples\n",
      "Epoch 1/20\n",
      "118857/118857 - 28s - loss: 0.3924 - accuracy: 0.8194 - val_loss: 0.3786 - val_accuracy: 0.8400\n",
      "Epoch 2/20\n",
      "118857/118857 - 28s - loss: 0.3249 - accuracy: 0.8611 - val_loss: 0.3371 - val_accuracy: 0.8596\n",
      "Epoch 3/20\n",
      "118857/118857 - 28s - loss: 0.3018 - accuracy: 0.8740 - val_loss: 0.3172 - val_accuracy: 0.8656\n",
      "Epoch 4/20\n",
      "118857/118857 - 28s - loss: 0.2844 - accuracy: 0.8825 - val_loss: 0.3148 - val_accuracy: 0.8687\n",
      "Epoch 5/20\n",
      "118857/118857 - 28s - loss: 0.2704 - accuracy: 0.8903 - val_loss: 0.3170 - val_accuracy: 0.8644\n",
      "Epoch 6/20\n",
      "118857/118857 - 28s - loss: 0.2605 - accuracy: 0.8948 - val_loss: 0.3551 - val_accuracy: 0.8491\n",
      "Epoch 7/20\n",
      "118857/118857 - 27s - loss: 0.2513 - accuracy: 0.9005 - val_loss: 0.3123 - val_accuracy: 0.8689\n",
      "Epoch 8/20\n",
      "118857/118857 - 28s - loss: 0.2424 - accuracy: 0.9051 - val_loss: 0.3146 - val_accuracy: 0.8677\n",
      "Epoch 9/20\n",
      "118857/118857 - 28s - loss: 0.2353 - accuracy: 0.9076 - val_loss: 0.3265 - val_accuracy: 0.8664\n",
      "Epoch 10/20\n",
      "118857/118857 - 28s - loss: 0.2277 - accuracy: 0.9127 - val_loss: 0.3140 - val_accuracy: 0.8677\n",
      "Epoch 11/20\n",
      "118857/118857 - 28s - loss: 0.2227 - accuracy: 0.9144 - val_loss: 0.3300 - val_accuracy: 0.8658\n",
      "Train on 118857 samples, validate on 29715 samples\n",
      "Epoch 1/20\n",
      "118857/118857 - 29s - loss: 0.3911 - accuracy: 0.8193 - val_loss: 0.3443 - val_accuracy: 0.8520\n",
      "Epoch 2/20\n",
      "118857/118857 - 28s - loss: 0.3236 - accuracy: 0.8607 - val_loss: 0.3247 - val_accuracy: 0.8618\n",
      "Epoch 3/20\n",
      "118857/118857 - 28s - loss: 0.3004 - accuracy: 0.8744 - val_loss: 0.3265 - val_accuracy: 0.8606\n",
      "Epoch 4/20\n",
      "118857/118857 - 28s - loss: 0.2838 - accuracy: 0.8835 - val_loss: 0.3144 - val_accuracy: 0.8670\n",
      "Epoch 5/20\n",
      "118857/118857 - 28s - loss: 0.2720 - accuracy: 0.8896 - val_loss: 0.3204 - val_accuracy: 0.8643\n",
      "Epoch 6/20\n",
      "118857/118857 - 28s - loss: 0.2616 - accuracy: 0.8946 - val_loss: 0.3343 - val_accuracy: 0.8593\n",
      "Epoch 7/20\n",
      "118857/118857 - 28s - loss: 0.2537 - accuracy: 0.8987 - val_loss: 0.3499 - val_accuracy: 0.8500\n",
      "Epoch 8/20\n",
      "118857/118857 - 28s - loss: 0.2451 - accuracy: 0.9035 - val_loss: 0.3499 - val_accuracy: 0.8579\n",
      "Train on 118857 samples, validate on 29715 samples\n",
      "Epoch 1/20\n",
      "118857/118857 - 27s - loss: 0.3917 - accuracy: 0.8192 - val_loss: 0.3558 - val_accuracy: 0.8454\n",
      "Epoch 2/20\n",
      "118857/118857 - 26s - loss: 0.3253 - accuracy: 0.8601 - val_loss: 0.3236 - val_accuracy: 0.8617\n",
      "Epoch 3/20\n",
      "118857/118857 - 26s - loss: 0.3008 - accuracy: 0.8740 - val_loss: 0.3435 - val_accuracy: 0.8589\n",
      "Epoch 4/20\n",
      "118857/118857 - 26s - loss: 0.2842 - accuracy: 0.8830 - val_loss: 0.3186 - val_accuracy: 0.8650\n",
      "Epoch 5/20\n",
      "118857/118857 - 27s - loss: 0.2725 - accuracy: 0.8893 - val_loss: 0.3140 - val_accuracy: 0.8695\n",
      "Epoch 6/20\n",
      "118857/118857 - 26s - loss: 0.2619 - accuracy: 0.8951 - val_loss: 0.3371 - val_accuracy: 0.8639\n",
      "Epoch 7/20\n",
      "118857/118857 - 27s - loss: 0.2507 - accuracy: 0.9008 - val_loss: 0.3238 - val_accuracy: 0.8651\n",
      "Epoch 8/20\n",
      "118857/118857 - 26s - loss: 0.2445 - accuracy: 0.9036 - val_loss: 0.3230 - val_accuracy: 0.8693\n",
      "Epoch 9/20\n",
      "118857/118857 - 26s - loss: 0.2369 - accuracy: 0.9078 - val_loss: 0.3201 - val_accuracy: 0.8693\n"
     ]
    },
    {
     "output_type": "display_data",
     "data": {
      "text/plain": [
       "<IPython.core.display.HTML object>"
      ],
      "text/html": [
       "<span style=\"color:#4527A0\"><h1 style=\"font-size:18px\">Trial complete</h1></span>"
      ]
     },
     "metadata": {}
    },
    {
     "output_type": "display_data",
     "data": {
      "text/plain": [
       "<IPython.core.display.HTML object>"
      ],
      "text/html": [
       "<span style=\"color:#4527A0\"><h1 style=\"font-size:18px\">Trial summary</h1></span>"
      ]
     },
     "metadata": {}
    },
    {
     "output_type": "display_data",
     "data": {
      "text/plain": [
       "<IPython.core.display.HTML object>"
      ],
      "text/html": [
       "<span style=\"color:cyan\"> |-Trial ID: 989cbc73ab8ec0b296a724a5d406aa7f</span>"
      ]
     },
     "metadata": {}
    },
    {
     "output_type": "display_data",
     "data": {
      "text/plain": [
       "<IPython.core.display.HTML object>"
      ],
      "text/html": [
       "<span style=\"color:cyan\"> |-Score: 0.8684166073799133</span>"
      ]
     },
     "metadata": {}
    },
    {
     "output_type": "display_data",
     "data": {
      "text/plain": [
       "<IPython.core.display.HTML object>"
      ],
      "text/html": [
       "<span style=\"color:cyan\"> |-Best step: 0</span>"
      ]
     },
     "metadata": {}
    },
    {
     "output_type": "display_data",
     "data": {
      "text/plain": [
       "<IPython.core.display.HTML object>"
      ],
      "text/html": [
       "<span style=\"color:#7E57C2\"><h2 style=\"font-size:16px\">Hyperparameters:</h2></span>"
      ]
     },
     "metadata": {}
    },
    {
     "output_type": "display_data",
     "data": {
      "text/plain": [
       "<IPython.core.display.HTML object>"
      ],
      "text/html": [
       "<span style=\"color:cyan\"> |-conv_blocks: 2</span>"
      ]
     },
     "metadata": {}
    },
    {
     "output_type": "display_data",
     "data": {
      "text/plain": [
       "<IPython.core.display.HTML object>"
      ],
      "text/html": [
       "<span style=\"color:blue\"> |-dropout1: 0.30000000000000004</span>"
      ]
     },
     "metadata": {}
    },
    {
     "output_type": "display_data",
     "data": {
      "text/plain": [
       "<IPython.core.display.HTML object>"
      ],
      "text/html": [
       "<span style=\"color:cyan\"> |-dropout2: 0.2</span>"
      ]
     },
     "metadata": {}
    },
    {
     "output_type": "display_data",
     "data": {
      "text/plain": [
       "<IPython.core.display.HTML object>"
      ],
      "text/html": [
       "<span style=\"color:blue\"> |-filters_0: 512</span>"
      ]
     },
     "metadata": {}
    },
    {
     "output_type": "display_data",
     "data": {
      "text/plain": [
       "<IPython.core.display.HTML object>"
      ],
      "text/html": [
       "<span style=\"color:cyan\"> |-filters_1: 64</span>"
      ]
     },
     "metadata": {}
    },
    {
     "output_type": "display_data",
     "data": {
      "text/plain": [
       "<IPython.core.display.HTML object>"
      ],
      "text/html": [
       "<span style=\"color:blue\"> |-filters_2: 128</span>"
      ]
     },
     "metadata": {}
    },
    {
     "output_type": "display_data",
     "data": {
      "text/plain": [
       "<IPython.core.display.HTML object>"
      ],
      "text/html": [
       "<span style=\"color:cyan\"> |-filters_3: 64</span>"
      ]
     },
     "metadata": {}
    },
    {
     "output_type": "display_data",
     "data": {
      "text/plain": [
       "<IPython.core.display.HTML object>"
      ],
      "text/html": [
       "<span style=\"color:blue\"> |-hidden_size: 512</span>"
      ]
     },
     "metadata": {}
    },
    {
     "output_type": "display_data",
     "data": {
      "text/plain": [
       "<IPython.core.display.HTML object>"
      ],
      "text/html": [
       "<span style=\"color:cyan\"> |-kernel_size_0: 4</span>"
      ]
     },
     "metadata": {}
    },
    {
     "output_type": "display_data",
     "data": {
      "text/plain": [
       "<IPython.core.display.HTML object>"
      ],
      "text/html": [
       "<span style=\"color:blue\"> |-kernel_size_1: 3</span>"
      ]
     },
     "metadata": {}
    },
    {
     "output_type": "display_data",
     "data": {
      "text/plain": [
       "<IPython.core.display.HTML object>"
      ],
      "text/html": [
       "<span style=\"color:cyan\"> |-kernel_size_2: 4</span>"
      ]
     },
     "metadata": {}
    },
    {
     "output_type": "display_data",
     "data": {
      "text/plain": [
       "<IPython.core.display.HTML object>"
      ],
      "text/html": [
       "<span style=\"color:blue\"> |-kernel_size_3: 3</span>"
      ]
     },
     "metadata": {}
    },
    {
     "output_type": "display_data",
     "data": {
      "text/plain": [
       "<IPython.core.display.HTML object>"
      ],
      "text/html": [
       "<span style=\"color:cyan\"> |-learning_rate: 0.0006990081689951592</span>"
      ]
     },
     "metadata": {}
    },
    {
     "output_type": "display_data",
     "data": {
      "text/plain": [
       "<IPython.core.display.HTML object>"
      ],
      "text/html": [
       "<span style=\"color:blue\"> |-optimizer_: rmsprop</span>"
      ]
     },
     "metadata": {}
    },
    {
     "output_type": "display_data",
     "data": {
      "text/plain": [
       "<IPython.core.display.HTML object>"
      ],
      "text/html": [
       "<span style=\"color:cyan\"> |-pooling_0: global</span>"
      ]
     },
     "metadata": {}
    },
    {
     "output_type": "display_data",
     "data": {
      "text/plain": [
       "<IPython.core.display.HTML object>"
      ],
      "text/html": [
       "<span style=\"color:blue\"> |-pooling_1: max</span>"
      ]
     },
     "metadata": {}
    },
    {
     "output_type": "display_data",
     "data": {
      "text/plain": [
       "<IPython.core.display.HTML object>"
      ],
      "text/html": [
       "<span style=\"color:cyan\"> |-pooling_2: global</span>"
      ]
     },
     "metadata": {}
    },
    {
     "output_type": "display_data",
     "data": {
      "text/plain": [
       "<IPython.core.display.HTML object>"
      ],
      "text/html": [
       "<span style=\"color:blue\"> |-pooling_3: global</span>"
      ]
     },
     "metadata": {}
    },
    {
     "output_type": "display_data",
     "data": {
      "text/plain": [
       "<IPython.core.display.HTML object>"
      ],
      "text/html": [
       "<span style=\"color:cyan\"> |-tuner/bracket: 0</span>"
      ]
     },
     "metadata": {}
    },
    {
     "output_type": "display_data",
     "data": {
      "text/plain": [
       "<IPython.core.display.HTML object>"
      ],
      "text/html": [
       "<span style=\"color:blue\"> |-tuner/epochs: 20</span>"
      ]
     },
     "metadata": {}
    },
    {
     "output_type": "display_data",
     "data": {
      "text/plain": [
       "<IPython.core.display.HTML object>"
      ],
      "text/html": [
       "<span style=\"color:cyan\"> |-tuner/initial_epoch: 0</span>"
      ]
     },
     "metadata": {}
    },
    {
     "output_type": "display_data",
     "data": {
      "text/plain": [
       "<IPython.core.display.HTML object>"
      ],
      "text/html": [
       "<span style=\"color:blue\"> |-tuner/round: 0</span>"
      ]
     },
     "metadata": {}
    },
    {
     "output_type": "stream",
     "name": "stdout",
     "text": [
      "INFO:tensorflow:Oracle triggered exit\n"
     ]
    }
   ],
   "metadata": {
    "scrolled": true,
    "tags": []
   }
  },
  {
   "cell_type": "code",
   "execution_count": 25,
   "source": [
    "tensorboard --logdir ./logs/hparams1"
   ],
   "outputs": [
    {
     "output_type": "display_data",
     "data": {
      "text/plain": [
       "Reusing TensorBoard on port 6007 (pid 22840), started 0:12:25 ago. (Use '!kill 22840' to kill it.)"
      ]
     },
     "metadata": {}
    },
    {
     "output_type": "display_data",
     "data": {
      "text/plain": [
       "<IPython.core.display.HTML object>"
      ],
      "text/html": [
       "\n",
       "      <iframe id=\"tensorboard-frame-8ab0bef1102ebe1b\" width=\"100%\" height=\"800\" frameborder=\"0\">\n",
       "      </iframe>\n",
       "      <script>\n",
       "        (function() {\n",
       "          const frame = document.getElementById(\"tensorboard-frame-8ab0bef1102ebe1b\");\n",
       "          const url = new URL(\"/\", window.location);\n",
       "          url.port = 6007;\n",
       "          frame.src = url;\n",
       "        })();\n",
       "      </script>\n",
       "  "
      ]
     },
     "metadata": {}
    }
   ],
   "metadata": {
    "collapsed": true,
    "jupyter": {
     "outputs_hidden": true
    },
    "tags": []
   }
  },
  {
   "cell_type": "code",
   "execution_count": 15,
   "source": [
    "# Get the optimal hyperparameters\n",
    "best_model = tuner.get_best_models(1)[0]\n",
    "best_hyperparameters = tuner.get_best_hyperparameters(1)[0]"
   ],
   "outputs": [],
   "metadata": {}
  },
  {
   "cell_type": "code",
   "execution_count": 16,
   "source": [
    "callback = tf.keras.callbacks.EarlyStopping(monitor='val_loss', patience=4)\n",
    "cnn = tuner.hypermodel.build(best_hyperparameters)\n",
    "cnn.fit(X_train, y_train, epochs = epochs, batch_size=batch_size,\n",
    "        validation_data = (X_val, y_val), callbacks=[callback], verbose=2)"
   ],
   "outputs": [
    {
     "output_type": "stream",
     "name": "stdout",
     "text": [
      "Train on 118857 samples, validate on 29715 samples\n",
      "Epoch 1/20\n",
      "118857/118857 - 29s - loss: 0.3902 - accuracy: 0.8197 - val_loss: 0.3383 - val_accuracy: 0.8546\n",
      "Epoch 2/20\n",
      "118857/118857 - 27s - loss: 0.3245 - accuracy: 0.8601 - val_loss: 0.3315 - val_accuracy: 0.8588\n",
      "Epoch 3/20\n",
      "118857/118857 - 28s - loss: 0.3013 - accuracy: 0.8737 - val_loss: 0.3262 - val_accuracy: 0.8638\n",
      "Epoch 4/20\n",
      "118857/118857 - 28s - loss: 0.2862 - accuracy: 0.8824 - val_loss: 0.3151 - val_accuracy: 0.8658\n",
      "Epoch 5/20\n",
      "118857/118857 - 28s - loss: 0.2739 - accuracy: 0.8881 - val_loss: 0.3136 - val_accuracy: 0.8694\n",
      "Epoch 6/20\n",
      "118857/118857 - 28s - loss: 0.2630 - accuracy: 0.8942 - val_loss: 0.3377 - val_accuracy: 0.8584\n",
      "Epoch 7/20\n",
      "118857/118857 - 28s - loss: 0.2541 - accuracy: 0.8991 - val_loss: 0.3466 - val_accuracy: 0.8524\n",
      "Epoch 8/20\n",
      "118857/118857 - 28s - loss: 0.2453 - accuracy: 0.9037 - val_loss: 0.3266 - val_accuracy: 0.8668\n",
      "Epoch 9/20\n",
      "118857/118857 - 28s - loss: 0.2392 - accuracy: 0.9064 - val_loss: 0.3210 - val_accuracy: 0.8693\n"
     ]
    },
    {
     "output_type": "execute_result",
     "data": {
      "text/plain": [
       "<tensorflow.python.keras.callbacks.History at 0x7facce5f91d0>"
      ]
     },
     "metadata": {},
     "execution_count": 16
    }
   ],
   "metadata": {}
  },
  {
   "cell_type": "code",
   "execution_count": 17,
   "source": [
    "print(\"CNN Accuracy result : \", cnn.evaluate(X_test, y_test, verbose=2))"
   ],
   "outputs": [
    {
     "output_type": "stream",
     "name": "stdout",
     "text": [
      "49575/49575 - 2s - loss: 0.3275 - accuracy: 0.8658\n",
      "CNN Accuracy result :  [0.32748138462360976, 0.86575896]\n"
     ]
    }
   ],
   "metadata": {}
  },
  {
   "cell_type": "code",
   "execution_count": 19,
   "source": [
    "## 모델 저장\n",
    "cnn.save(BASIC_PATH + 'final/CNN_model_hyper2.h5')"
   ],
   "outputs": [],
   "metadata": {}
  },
  {
   "cell_type": "markdown",
   "source": [
    "#### hyper parameter tuning X"
   ],
   "metadata": {}
  },
  {
   "cell_type": "code",
   "execution_count": 43,
   "source": [
    "dropout_prob = (0.3, 0.5)\n",
    "num_filters = 256"
   ],
   "outputs": [],
   "metadata": {}
  },
  {
   "cell_type": "code",
   "execution_count": 44,
   "source": [
    "model_input = Input(shape = (max_len,))\n",
    "z = Embedding(vocab_size, word_vector_dim, input_length = max_len, name=\"embedding\")(model_input)\n",
    "z = Dropout(dropout_prob[0])(z)\n",
    "\n",
    "conv_blocks = []\n",
    "\n",
    "for sz in [3, 4, 5]:\n",
    "    conv = Conv1D(filters = num_filters,\n",
    "                         kernel_size = sz,\n",
    "                         padding = \"valid\",\n",
    "                         activation = \"relu\",\n",
    "                         strides = 1)(z)\n",
    "    conv = GlobalMaxPooling1D()(conv)\n",
    "    conv = Flatten()(conv)\n",
    "    conv_blocks.append(conv)\n",
    "    \n",
    "z = Concatenate()(conv_blocks) if len(conv_blocks) > 1 else conv_blocks[0]\n",
    "z = Dropout(dropout_prob[1])(z)\n",
    "z = Dense(128, activation=\"relu\")(z)\n",
    "model_output = Dense(1, activation=\"sigmoid\")(z)\n",
    "\n",
    "model = Model(model_input, model_output)"
   ],
   "outputs": [],
   "metadata": {}
  },
  {
   "cell_type": "code",
   "execution_count": 45,
   "source": [
    "es2 = EarlyStopping(monitor='val_loss', mode='min', verbose=1, patience=3)\n",
    "mc2 = ModelCheckpoint(BASIC_PATH + 'final/CNN_model1.h5', monitor='val_acc', mode='max', verbose=1, save_best_only=True)\n",
    "\n",
    "model.compile(optimizer='rmsprop',\n",
    "              loss='binary_crossentropy',\n",
    "              metrics=['accuracy'])"
   ],
   "outputs": [],
   "metadata": {}
  },
  {
   "cell_type": "code",
   "execution_count": 46,
   "source": [
    "history_cnn1 = model.fit(X_train, y_train,\n",
    "                    epochs=epochs,\n",
    "                    batch_size=batch_size,\n",
    "                    validation_data=(X_val, y_val),\n",
    "                    verbose=2,\n",
    "                    callbacks = [es2, mc2])"
   ],
   "outputs": [
    {
     "output_type": "stream",
     "name": "stdout",
     "text": [
      "Train on 118857 samples, validate on 29715 samples\n",
      "Epoch 1/20\n",
      "WARNING:tensorflow:Can save best model only with val_acc available, skipping.\n",
      "118857/118857 - 20s - loss: 0.4019 - accuracy: 0.8148 - val_loss: 0.3831 - val_accuracy: 0.8367\n",
      "Epoch 2/20\n",
      "WARNING:tensorflow:Can save best model only with val_acc available, skipping.\n",
      "118857/118857 - 20s - loss: 0.3396 - accuracy: 0.8547 - val_loss: 0.3622 - val_accuracy: 0.8408\n",
      "Epoch 3/20\n",
      "WARNING:tensorflow:Can save best model only with val_acc available, skipping.\n",
      "118857/118857 - 20s - loss: 0.3186 - accuracy: 0.8660 - val_loss: 0.3353 - val_accuracy: 0.8575\n",
      "Epoch 4/20\n",
      "WARNING:tensorflow:Can save best model only with val_acc available, skipping.\n",
      "118857/118857 - 20s - loss: 0.3050 - accuracy: 0.8741 - val_loss: 0.3400 - val_accuracy: 0.8592\n",
      "Epoch 5/20\n",
      "WARNING:tensorflow:Can save best model only with val_acc available, skipping.\n",
      "118857/118857 - 20s - loss: 0.2950 - accuracy: 0.8802 - val_loss: 0.3233 - val_accuracy: 0.8639\n",
      "Epoch 6/20\n",
      "WARNING:tensorflow:Can save best model only with val_acc available, skipping.\n",
      "118857/118857 - 20s - loss: 0.2876 - accuracy: 0.8837 - val_loss: 0.3239 - val_accuracy: 0.8654\n",
      "Epoch 7/20\n",
      "WARNING:tensorflow:Can save best model only with val_acc available, skipping.\n",
      "118857/118857 - 20s - loss: 0.2805 - accuracy: 0.8877 - val_loss: 0.3274 - val_accuracy: 0.8605\n",
      "Epoch 8/20\n",
      "WARNING:tensorflow:Can save best model only with val_acc available, skipping.\n",
      "118857/118857 - 20s - loss: 0.2759 - accuracy: 0.8899 - val_loss: 0.3190 - val_accuracy: 0.8659\n",
      "Epoch 9/20\n",
      "WARNING:tensorflow:Can save best model only with val_acc available, skipping.\n",
      "118857/118857 - 20s - loss: 0.2713 - accuracy: 0.8922 - val_loss: 0.3320 - val_accuracy: 0.8624\n",
      "Epoch 10/20\n",
      "WARNING:tensorflow:Can save best model only with val_acc available, skipping.\n",
      "118857/118857 - 20s - loss: 0.2663 - accuracy: 0.8957 - val_loss: 0.3302 - val_accuracy: 0.8651\n",
      "Epoch 11/20\n",
      "WARNING:tensorflow:Can save best model only with val_acc available, skipping.\n",
      "118857/118857 - 20s - loss: 0.2647 - accuracy: 0.8958 - val_loss: 0.3194 - val_accuracy: 0.8655\n",
      "Epoch 00011: early stopping\n"
     ]
    }
   ],
   "metadata": {}
  },
  {
   "cell_type": "code",
   "execution_count": 47,
   "source": [
    "print(\"CNN 1 Accuracy result : \", model.evaluate(X_test, y_test, verbose=2))\n",
    "\n",
    "show_plot(history_cnn1.history)"
   ],
   "outputs": [
    {
     "output_type": "stream",
     "name": "stdout",
     "text": [
      "49575/49575 - 3s - loss: 0.3232 - accuracy: 0.8646\n",
      "CNN 1 Accuracy result :  [0.3232112756354966, 0.8645688]\n"
     ]
    },
    {
     "output_type": "display_data",
     "data": {
      "text/plain": [
       "<Figure size 432x288 with 1 Axes>"
      ],
      "image/png": "[encoded data removed]"
     },
     "metadata": {
      "needs_background": "light"
     }
    }
   ],
   "metadata": {}
  },
  {
   "cell_type": "code",
   "execution_count": 48,
   "source": [
    "## 모델 저장\n",
    "model.save(BASIC_PATH + 'final/CNN_model_hyper_x1.h5')"
   ],
   "outputs": [],
   "metadata": {}
  },
  {
   "cell_type": "markdown",
   "source": [
    "### [5-3] BiLSTM"
   ],
   "metadata": {}
  },
  {
   "cell_type": "code",
   "execution_count": 49,
   "source": [
    "bilstm = Sequential()\n",
    "bilstm.add(Embedding(vocab_size, word_vector_dim))\n",
    "bilstm.add(Bidirectional(LSTM(128)))\n",
    "bilstm.add(Dense(1, activation='sigmoid'))"
   ],
   "outputs": [],
   "metadata": {}
  },
  {
   "cell_type": "code",
   "execution_count": 50,
   "source": [
    "es3 = EarlyStopping(monitor='val_loss', mode='min', verbose=1, patience=3)\n",
    "mc3 = ModelCheckpoint(BASIC_PATH + 'final/BiLSTM_model.h5', monitor='val_acc', mode='max', verbose=1, save_best_only=True)\n",
    "\n",
    "bilstm.compile(optimizer='rmsprop', loss='binary_crossentropy', metrics=['accuracy'])"
   ],
   "outputs": [],
   "metadata": {}
  },
  {
   "cell_type": "code",
   "execution_count": 52,
   "source": [
    "history_bilstm = bilstm.fit(X_train, y_train,\n",
    "                    epochs=epochs,\n",
    "                    batch_size=batch_size,\n",
    "                    validation_data=(X_val, y_val),\n",
    "                    verbose=2,\n",
    "                    callbacks = [es3, mc3])"
   ],
   "outputs": [
    {
     "output_type": "stream",
     "name": "stdout",
     "text": [
      "Train on 118857 samples, validate on 29715 samples\n",
      "Epoch 1/20\n",
      "WARNING:tensorflow:Can save best model only with val_acc available, skipping.\n",
      "118857/118857 - 25s - loss: 0.3589 - accuracy: 0.8417 - val_loss: 0.3430 - val_accuracy: 0.8519\n",
      "Epoch 2/20\n",
      "WARNING:tensorflow:Can save best model only with val_acc available, skipping.\n",
      "118857/118857 - 25s - loss: 0.3150 - accuracy: 0.8655 - val_loss: 0.3241 - val_accuracy: 0.8641\n",
      "Epoch 3/20\n",
      "WARNING:tensorflow:Can save best model only with val_acc available, skipping.\n",
      "118857/118857 - 25s - loss: 0.2903 - accuracy: 0.8782 - val_loss: 0.3280 - val_accuracy: 0.8567\n",
      "Epoch 4/20\n",
      "WARNING:tensorflow:Can save best model only with val_acc available, skipping.\n",
      "118857/118857 - 25s - loss: 0.2706 - accuracy: 0.8883 - val_loss: 0.3122 - val_accuracy: 0.8682\n",
      "Epoch 5/20\n",
      "WARNING:tensorflow:Can save best model only with val_acc available, skipping.\n",
      "118857/118857 - 25s - loss: 0.2539 - accuracy: 0.8962 - val_loss: 0.3328 - val_accuracy: 0.8580\n",
      "Epoch 6/20\n",
      "WARNING:tensorflow:Can save best model only with val_acc available, skipping.\n",
      "118857/118857 - 25s - loss: 0.2382 - accuracy: 0.9039 - val_loss: 0.3269 - val_accuracy: 0.8648\n",
      "Epoch 7/20\n",
      "WARNING:tensorflow:Can save best model only with val_acc available, skipping.\n",
      "118857/118857 - 25s - loss: 0.2236 - accuracy: 0.9117 - val_loss: 0.3306 - val_accuracy: 0.8605\n",
      "Epoch 00007: early stopping\n"
     ]
    }
   ],
   "metadata": {
    "tags": []
   }
  },
  {
   "cell_type": "code",
   "execution_count": 53,
   "source": [
    "print(\"BiLSTM Accuracy result : \", bilstm.evaluate(X_test, y_test, verbose=2))\n",
    "\n",
    "show_plot(history_bilstm.history)"
   ],
   "outputs": [
    {
     "output_type": "stream",
     "name": "stdout",
     "text": [
      "49575/49575 - 5s - loss: 0.3333 - accuracy: 0.8588\n",
      "BiLSTM Accuracy result :  [0.3332691738512921, 0.85884017]\n"
     ]
    },
    {
     "output_type": "display_data",
     "data": {
      "text/plain": [
       "<Figure size 432x288 with 1 Axes>"
      ],
      "image/png": "[encoded data removed]"
     },
     "metadata": {
      "needs_background": "light"
     }
    }
   ],
   "metadata": {}
  },
  {
   "cell_type": "code",
   "execution_count": 59,
   "source": [
    "## 모델 저장\n",
    "bilstm.save(BASIC_PATH + 'final/BiLSTM_model.h5')"
   ],
   "outputs": [],
   "metadata": {}
  },
  {
   "cell_type": "markdown",
   "source": [
    "### [5-4] GRU"
   ],
   "metadata": {}
  },
  {
   "cell_type": "code",
   "execution_count": 55,
   "source": [
    "gru = Sequential()\n",
    "gru.add(Embedding(vocab_size, word_vector_dim))\n",
    "gru.add(GRU(128))\n",
    "gru.add(Dense(1, activation='sigmoid'))"
   ],
   "outputs": [],
   "metadata": {}
  },
  {
   "cell_type": "code",
   "execution_count": 64,
   "source": [
    "es4 = EarlyStopping(monitor='val_loss', mode='min', verbose=1, patience=4)\n",
    "mc4 = ModelCheckpoint(BASIC_PATH + 'final/GRU_model.h5', monitor='val_acc', mode='max', verbose=1, save_best_only=True)\n",
    "\n",
    "gru.compile(optimizer='rmsprop', loss='binary_crossentropy', metrics=['accuracy'])"
   ],
   "outputs": [],
   "metadata": {}
  },
  {
   "cell_type": "code",
   "execution_count": 65,
   "source": [
    "history_gru = gru.fit(X_train, y_train,\n",
    "                    epochs=epochs,\n",
    "                    batch_size=batch_size,\n",
    "                    validation_data=(X_val, y_val),\n",
    "                    verbose=2,\n",
    "                    callbacks = [es4, mc4])"
   ],
   "outputs": [
    {
     "output_type": "stream",
     "name": "stdout",
     "text": [
      "Train on 118857 samples, validate on 29715 samples\n",
      "Epoch 1/20\n",
      "WARNING:tensorflow:Can save best model only with val_acc available, skipping.\n",
      "118857/118857 - 21s - loss: 0.2267 - accuracy: 0.9094 - val_loss: 0.3270 - val_accuracy: 0.8624\n",
      "Epoch 2/20\n",
      "WARNING:tensorflow:Can save best model only with val_acc available, skipping.\n",
      "118857/118857 - 20s - loss: 0.2099 - accuracy: 0.9178 - val_loss: 0.3387 - val_accuracy: 0.8623\n",
      "Epoch 3/20\n",
      "WARNING:tensorflow:Can save best model only with val_acc available, skipping.\n",
      "118857/118857 - 20s - loss: 0.1919 - accuracy: 0.9260 - val_loss: 0.3532 - val_accuracy: 0.8564\n",
      "Epoch 4/20\n",
      "WARNING:tensorflow:Can save best model only with val_acc available, skipping.\n",
      "118857/118857 - 20s - loss: 0.1742 - accuracy: 0.9330 - val_loss: 0.3797 - val_accuracy: 0.8536\n",
      "Epoch 5/20\n",
      "WARNING:tensorflow:Can save best model only with val_acc available, skipping.\n",
      "118857/118857 - 20s - loss: 0.1567 - accuracy: 0.9405 - val_loss: 0.4075 - val_accuracy: 0.8429\n",
      "Epoch 00005: early stopping\n"
     ]
    }
   ],
   "metadata": {}
  },
  {
   "cell_type": "code",
   "execution_count": 66,
   "source": [
    "print(\"GRU Accuracy result : \", gru.evaluate(X_test, y_test, verbose=2))\n",
    "\n",
    "show_plot(history_gru.history)"
   ],
   "outputs": [
    {
     "output_type": "stream",
     "name": "stdout",
     "text": [
      "49575/49575 - 3s - loss: 0.3990 - accuracy: 0.8452\n",
      "GRU Accuracy result :  [0.3989836451554022, 0.8452446]\n"
     ]
    },
    {
     "output_type": "display_data",
     "data": {
      "text/plain": [
       "<Figure size 432x288 with 1 Axes>"
      ],
      "image/png": "[encoded data removed]"
     },
     "metadata": {
      "needs_background": "light"
     }
    }
   ],
   "metadata": {}
  },
  {
   "cell_type": "code",
   "execution_count": 67,
   "source": [
    "## 모델 저장\n",
    "gru.save(BASIC_PATH + 'final/GRU_model.h5')"
   ],
   "outputs": [],
   "metadata": {}
  },
  {
   "cell_type": "markdown",
   "source": [
    "### [5-5] CNN-LSTM"
   ],
   "metadata": {}
  },
  {
   "cell_type": "markdown",
   "source": [
    "1. (100, 5), (64, 3) => 85.64%\n",
    "2. (128, 3), (128, 4) =>"
   ],
   "metadata": {}
  },
  {
   "cell_type": "code",
   "execution_count": 26,
   "source": [
    "cnn.summary()"
   ],
   "outputs": [
    {
     "output_type": "stream",
     "name": "stdout",
     "text": [
      "Model: \"model\"\n",
      "__________________________________________________________________________________________________\n",
      "Layer (type)                    Output Shape         Param #     Connected to                     \n",
      "==================================================================================================\n",
      "input_1 (InputLayer)            [(None, 50)]         0                                            \n",
      "__________________________________________________________________________________________________\n",
      "embedding (Embedding)           (None, 50, 100)      2074400     input_1[0][0]                    \n",
      "__________________________________________________________________________________________________\n",
      "dropout (Dropout)               (None, 50, 100)      0           embedding[0][0]                  \n",
      "__________________________________________________________________________________________________\n",
      "conv1d (Conv1D)                 (None, 47, 512)      205312      dropout[0][0]                    \n",
      "__________________________________________________________________________________________________\n",
      "conv1d_1 (Conv1D)               (None, 48, 64)       19264       dropout[0][0]                    \n",
      "__________________________________________________________________________________________________\n",
      "global_max_pooling1d (GlobalMax (None, 512)          0           conv1d[0][0]                     \n",
      "__________________________________________________________________________________________________\n",
      "max_pooling1d (MaxPooling1D)    (None, 24, 64)       0           conv1d_1[0][0]                   \n",
      "__________________________________________________________________________________________________\n",
      "flatten (Flatten)               (None, 512)          0           global_max_pooling1d[0][0]       \n",
      "__________________________________________________________________________________________________\n",
      "flatten_1 (Flatten)             (None, 1536)         0           max_pooling1d[0][0]              \n",
      "__________________________________________________________________________________________________\n",
      "concatenate (Concatenate)       (None, 2048)         0           flatten[0][0]                    \n",
      "                                                                 flatten_1[0][0]                  \n",
      "__________________________________________________________________________________________________\n",
      "dropout_1 (Dropout)             (None, 2048)         0           concatenate[0][0]                \n",
      "__________________________________________________________________________________________________\n",
      "dense (Dense)                   (None, 512)          1049088     dropout_1[0][0]                  \n",
      "__________________________________________________________________________________________________\n",
      "dense_1 (Dense)                 (None, 1)            513         dense[0][0]                      \n",
      "==================================================================================================\n",
      "Total params: 3,348,577\n",
      "Trainable params: 3,348,577\n",
      "Non-trainable params: 0\n",
      "__________________________________________________________________________________________________\n"
     ]
    }
   ],
   "metadata": {}
  },
  {
   "cell_type": "code",
   "execution_count": 27,
   "source": [
    "print(best_hyperparameters['dropout1'])\n",
    "print(best_hyperparameters['conv_blocks'])\n",
    "print(best_hyperparameters['filters_1'])\n",
    "print(best_hyperparameters['filters_2'])\n",
    "print(best_hyperparameters['kernel_size_1'])\n",
    "print(best_hyperparameters['kernel_size_2'])\n",
    "print(best_hyperparameters['pooling_1'])\n",
    "print(best_hyperparameters['pooling_2'])\n",
    "print(best_hyperparameters['dropout2'])\n",
    "print(best_hyperparameters['hidden_size'])\n",
    "print(best_hyperparameters['learning_rate'])\n",
    "print(best_hyperparameters['optimizer_'])"
   ],
   "outputs": [
    {
     "output_type": "stream",
     "name": "stdout",
     "text": [
      "0.30000000000000004\n",
      "2\n",
      "64\n",
      "128\n",
      "3\n",
      "4\n",
      "max\n",
      "global\n",
      "0.2\n",
      "512\n",
      "0.0006990081689951592\n",
      "rmsprop\n"
     ]
    }
   ],
   "metadata": {}
  },
  {
   "cell_type": "code",
   "execution_count": 31,
   "source": [
    "model_input = Input(shape = (max_len,))\n",
    "z = Embedding(vocab_size, word_vector_dim, input_length = max_len)(model_input)\n",
    "z = Dropout(0.3)(z)\n",
    "z = Bidirectional(LSTM(128, dropout=0.2, recurrent_dropout=0.2, return_sequences=True,))(z)\n",
    "conv_blocks = []\n",
    "\n",
    "conv = Conv1D(filters = 64, kernel_size = 3, padding = \"valid\", activation = \"relu\", strides = 1)(z)\n",
    "conv = MaxPooling1D()(conv)\n",
    "conv = Flatten()(conv)\n",
    "conv_blocks.append(conv)\n",
    "conv = Conv1D(filters = 128, kernel_size = 4, padding = \"valid\", activation = \"relu\", strides = 1)(z)\n",
    "conv = GlobalMaxPooling1D()(conv)\n",
    "conv = Flatten()(conv)\n",
    "conv_blocks.append(conv)\n",
    "    \n",
    "z = Concatenate()(conv_blocks) if len(conv_blocks) > 1 else conv_blocks[0]\n",
    "z = Dropout(0.2)(z)\n",
    "z = Dense(128, activation=\"relu\")(z)\n",
    "model_output = Dense(1, activation=\"sigmoid\")(z)\n",
    "\n",
    "cnn_lstm = Model(model_input, model_output)"
   ],
   "outputs": [],
   "metadata": {}
  },
  {
   "cell_type": "code",
   "execution_count": 32,
   "source": [
    "es5 = EarlyStopping(monitor='val_loss', mode='min', verbose=1, patience=4)\n",
    "mc5 = ModelCheckpoint(BASIC_PATH + 'final/CNN_LSTM_model.h5', monitor='val_acc', mode='max', verbose=1, save_best_only=True)\n",
    "\n",
    "cnn_lstm.compile(optimizer=tf.keras.optimizers.RMSprop(best_hyperparameters['learning_rate']), loss='binary_crossentropy', metrics=['accuracy'])"
   ],
   "outputs": [],
   "metadata": {}
  },
  {
   "cell_type": "code",
   "execution_count": 33,
   "source": [
    "history_cnn_lstm = cnn_lstm.fit(X_train, y_train,\n",
    "                    epochs=epochs,\n",
    "                    batch_size=batch_size,\n",
    "                    validation_data=(X_val, y_val),\n",
    "                    verbose=2,\n",
    "                    callbacks = [es5, mc5])"
   ],
   "outputs": [
    {
     "output_type": "stream",
     "name": "stdout",
     "text": [
      "Train on 118857 samples, validate on 29715 samples\n",
      "Epoch 1/20\n",
      "WARNING:tensorflow:Can save best model only with val_acc available, skipping.\n",
      "118857/118857 - 395s - loss: 0.3967 - accuracy: 0.8175 - val_loss: 0.3453 - val_accuracy: 0.8512\n",
      "Epoch 2/20\n",
      "WARNING:tensorflow:Can save best model only with val_acc available, skipping.\n",
      "118857/118857 - 374s - loss: 0.3345 - accuracy: 0.8563 - val_loss: 0.3502 - val_accuracy: 0.8450\n",
      "Epoch 3/20\n",
      "WARNING:tensorflow:Can save best model only with val_acc available, skipping.\n",
      "118857/118857 - 147s - loss: 0.3126 - accuracy: 0.8675 - val_loss: 0.3185 - val_accuracy: 0.8642\n",
      "Epoch 4/20\n",
      "WARNING:tensorflow:Can save best model only with val_acc available, skipping.\n",
      "118857/118857 - 147s - loss: 0.2985 - accuracy: 0.8746 - val_loss: 0.3240 - val_accuracy: 0.8613\n",
      "Epoch 5/20\n",
      "WARNING:tensorflow:Can save best model only with val_acc available, skipping.\n",
      "118857/118857 - 146s - loss: 0.2881 - accuracy: 0.8812 - val_loss: 0.3144 - val_accuracy: 0.8696\n",
      "Epoch 6/20\n",
      "WARNING:tensorflow:Can save best model only with val_acc available, skipping.\n",
      "118857/118857 - 146s - loss: 0.2775 - accuracy: 0.8864 - val_loss: 0.3095 - val_accuracy: 0.8678\n",
      "Epoch 7/20\n",
      "WARNING:tensorflow:Can save best model only with val_acc available, skipping.\n",
      "118857/118857 - 149s - loss: 0.2716 - accuracy: 0.8895 - val_loss: 0.3102 - val_accuracy: 0.8687\n",
      "Epoch 8/20\n",
      "WARNING:tensorflow:Can save best model only with val_acc available, skipping.\n",
      "118857/118857 - 146s - loss: 0.2642 - accuracy: 0.8931 - val_loss: 0.3112 - val_accuracy: 0.8697\n",
      "Epoch 9/20\n",
      "WARNING:tensorflow:Can save best model only with val_acc available, skipping.\n",
      "118857/118857 - 146s - loss: 0.2586 - accuracy: 0.8970 - val_loss: 0.3767 - val_accuracy: 0.8453\n",
      "Epoch 10/20\n",
      "WARNING:tensorflow:Can save best model only with val_acc available, skipping.\n",
      "118857/118857 - 146s - loss: 0.2519 - accuracy: 0.9005 - val_loss: 0.3453 - val_accuracy: 0.8554\n",
      "Epoch 00010: early stopping\n"
     ]
    }
   ],
   "metadata": {}
  },
  {
   "cell_type": "code",
   "execution_count": 34,
   "source": [
    "print(\"CNN-LSTM Accuracy result : \", cnn_lstm.evaluate(X_test, y_test, verbose=2))\n",
    "\n",
    "show_plot(history_cnn_lstm.history)"
   ],
   "outputs": [
    {
     "output_type": "stream",
     "name": "stdout",
     "text": [
      "49575/49575 - 26s - loss: 0.3544 - accuracy: 0.8495\n",
      "CNN-LSTM Accuracy result :  [0.35441381320890847, 0.8495411]\n"
     ]
    },
    {
     "output_type": "display_data",
     "data": {
      "text/plain": [
       "<Figure size 432x288 with 1 Axes>"
      ],
      "image/png": "[encoded data removed]"
     },
     "metadata": {
      "needs_background": "light"
     }
    }
   ],
   "metadata": {}
  },
  {
   "cell_type": "code",
   "execution_count": 35,
   "source": [
    "## 모델 저장\n",
    "cnn_lstm.save(BASIC_PATH + 'final/CNN_LSTM_model.h5')"
   ],
   "outputs": [],
   "metadata": {}
  },
  {
   "cell_type": "markdown",
   "source": [
    "#### hyper parametes tuning x"
   ],
   "metadata": {}
  },
  {
   "cell_type": "code",
   "execution_count": 82,
   "source": [
    "cnn_lstm = Sequential()\n",
    "\n",
    "# Layer 1: Embedding layer\n",
    "cnn_lstm.add(Embedding(vocab_size, word_vector_dim, input_length=max_len))\n",
    "\n",
    "# Layer 2: Bi-Directional LSTM\n",
    "cnn_lstm.add(Bidirectional(LSTM(128, dropout=0.2, recurrent_dropout=0.2, return_sequences=True,)))\n",
    "\n",
    "# Layer 3: 1D Convolutional Layer\n",
    "cnn_lstm.add(Conv1D(filters = 128, kernel_size = 3, strides = 1, padding = 'same', activation = 'relu'))\n",
    "cnn_lstm.add(Conv1D(filters = 128, kernel_size = 4, strides = 1, padding = 'same', activation = 'relu'))\n",
    "cnn_lstm.add(GlobalMaxPooling1D())\n",
    "\n",
    "# Layer 4: Output Layer\n",
    "cnn_lstm.add(Dense(1, activation='sigmoid'))"
   ],
   "outputs": [],
   "metadata": {}
  },
  {
   "cell_type": "code",
   "execution_count": 83,
   "source": [
    "es5 = EarlyStopping(monitor='val_loss', mode='min', verbose=1, patience=4)\n",
    "mc5 = ModelCheckpoint(BASIC_PATH + 'final/CNN_LSTM_model.h5', monitor='val_acc', mode='max', verbose=1, save_best_only=True)\n",
    "\n",
    "cnn_lstm.compile(optimizer='rmsprop', loss='binary_crossentropy', metrics=['accuracy'])"
   ],
   "outputs": [],
   "metadata": {}
  },
  {
   "cell_type": "code",
   "execution_count": 84,
   "source": [
    "history_cnn_lstm = cnn_lstm.fit(X_train, y_train,\n",
    "                    epochs=epochs,\n",
    "                    batch_size=batch_size,\n",
    "                    validation_data=(X_val, y_val),\n",
    "                    verbose=2,\n",
    "                    callbacks = [es5, mc5])"
   ],
   "outputs": [
    {
     "output_type": "stream",
     "name": "stdout",
     "text": [
      "Train on 118857 samples, validate on 29715 samples\n",
      "Epoch 1/20\n",
      "WARNING:tensorflow:Can save best model only with val_acc available, skipping.\n",
      "118857/118857 - 175s - loss: 0.3806 - accuracy: 0.8284 - val_loss: 0.3327 - val_accuracy: 0.8548\n",
      "Epoch 2/20\n",
      "WARNING:tensorflow:Can save best model only with val_acc available, skipping.\n",
      "118857/118857 - 171s - loss: 0.3148 - accuracy: 0.8656 - val_loss: 0.3170 - val_accuracy: 0.8654\n",
      "Epoch 3/20\n",
      "WARNING:tensorflow:Can save best model only with val_acc available, skipping.\n",
      "118857/118857 - 171s - loss: 0.2892 - accuracy: 0.8803 - val_loss: 0.3122 - val_accuracy: 0.8692\n",
      "Epoch 4/20\n",
      "WARNING:tensorflow:Can save best model only with val_acc available, skipping.\n",
      "118857/118857 - 171s - loss: 0.2694 - accuracy: 0.8900 - val_loss: 0.3476 - val_accuracy: 0.8527\n",
      "Epoch 5/20\n",
      "WARNING:tensorflow:Can save best model only with val_acc available, skipping.\n",
      "118857/118857 - 172s - loss: 0.2535 - accuracy: 0.8989 - val_loss: 0.3443 - val_accuracy: 0.8559\n",
      "Epoch 6/20\n",
      "WARNING:tensorflow:Can save best model only with val_acc available, skipping.\n",
      "118857/118857 - 171s - loss: 0.2407 - accuracy: 0.9054 - val_loss: 0.3343 - val_accuracy: 0.8590\n",
      "Epoch 7/20\n",
      "WARNING:tensorflow:Can save best model only with val_acc available, skipping.\n",
      "118857/118857 - 171s - loss: 0.2291 - accuracy: 0.9104 - val_loss: 0.3346 - val_accuracy: 0.8658\n",
      "Epoch 00007: early stopping\n"
     ]
    }
   ],
   "metadata": {}
  },
  {
   "cell_type": "code",
   "execution_count": 85,
   "source": [
    "print(\"CNN-LSTM Accuracy result : \", cnn_lstm.evaluate(X_test, y_test, verbose=2))\n",
    "\n",
    "show_plot(history_cnn_lstm.history)"
   ],
   "outputs": [
    {
     "output_type": "stream",
     "name": "stdout",
     "text": [
      "49575/49575 - 28s - loss: 0.3384 - accuracy: 0.8630\n",
      "CNN-LSTM Accuracy result :  [0.3384316702557524, 0.8629551]\n"
     ]
    },
    {
     "output_type": "display_data",
     "data": {
      "text/plain": [
       "<Figure size 432x288 with 1 Axes>"
      ],
      "image/png": "[encoded data removed]"
     },
     "metadata": {
      "needs_background": "light"
     }
    }
   ],
   "metadata": {}
  },
  {
   "cell_type": "code",
   "execution_count": 86,
   "source": [
    "## 모델 저장\n",
    "cnn_lstm.save(BASIC_PATH + 'final/CNN_LSTM_model.h5')"
   ],
   "outputs": [],
   "metadata": {}
  },
  {
   "cell_type": "code",
   "execution_count": null,
   "source": [],
   "outputs": [],
   "metadata": {}
  }
 ],
 "metadata": {
  "kernelspec": {
   "display_name": "Python 3",
   "language": "python",
   "name": "python3"
  },
  "language_info": {
   "codemirror_mode": {
    "name": "ipython",
    "version": 3
   },
   "file_extension": ".py",
   "mimetype": "text/x-python",
   "name": "python",
   "nbconvert_exporter": "python",
   "pygments_lexer": "ipython3",
   "version": "3.6.13"
  }
 },
 "nbformat": 4,
 "nbformat_minor": 5
}