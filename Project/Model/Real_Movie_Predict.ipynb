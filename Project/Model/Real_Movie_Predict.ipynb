{
 "cells": [
  {
   "cell_type": "code",
   "execution_count": 1,
   "source": [
    "import numpy as np\r\n",
    "import pandas as pd\r\n",
    "import os\r\n",
    "import re\r\n",
    "\r\n",
    "from tqdm import tqdm\r\n",
    "\r\n",
    "import matplotlib.pyplot as plt\r\n",
    "import seaborn as sns\r\n",
    "%matplotlib inline\r\n",
    "\r\n",
    "from tensorflow.keras.models import load_model\r\n",
    "\r\n",
    "from tensorflow.python.keras.preprocessing.sequence import pad_sequences\r\n",
    "from tensorflow.python.keras.preprocessing.text import Tokenizer\r\n",
    "\r\n",
    "\r\n",
    "from pykospacing import Spacing\r\n",
    "spacing = Spacing()\r\n",
    "\r\n",
    "from konlpy.tag import Mecab\r\n",
    "mecab = Mecab() #형태소 분석기 선언"
   ],
   "outputs": [],
   "metadata": {}
  },
  {
   "cell_type": "code",
   "execution_count": 2,
   "source": [
    "BASIC_PATH = \"dataset/\""
   ],
   "outputs": [],
   "metadata": {}
  },
  {
   "cell_type": "code",
   "execution_count": 3,
   "source": [
    "cat = pd.read_csv(BASIC_PATH+'moives/캣츠review.csv')\r\n",
    "iron = pd.read_csv(BASIC_PATH+'moives/아이언맨2review.csv')\r\n",
    "animal = pd.read_csv(BASIC_PATH+'moives/주토피아review.csv')\r\n",
    "live = pd.read_csv(BASIC_PATH+'moives/살아있다review.csv')"
   ],
   "outputs": [],
   "metadata": {}
  },
  {
   "cell_type": "code",
   "execution_count": 4,
   "source": [
    "word_vector_dim = 100\r\n",
    "vocab_size = 20744\r\n",
    "max_len = 50"
   ],
   "outputs": [],
   "metadata": {}
  },
  {
   "cell_type": "code",
   "execution_count": 5,
   "source": [
    "import pickle\r\n",
    "\r\n",
    "with open(BASIC_PATH+'final/Tokenizer.pickle', 'rb') as handle:\r\n",
    "    tokenizer = pickle.load(handle)"
   ],
   "outputs": [],
   "metadata": {}
  },
  {
   "cell_type": "markdown",
   "source": [
    "## [1] data 전처리"
   ],
   "metadata": {}
  },
  {
   "cell_type": "markdown",
   "source": [
    "### [1-1] null drop"
   ],
   "metadata": {}
  },
  {
   "cell_type": "code",
   "execution_count": 6,
   "source": [
    "cat = cat.dropna(axis=0)"
   ],
   "outputs": [],
   "metadata": {}
  },
  {
   "cell_type": "code",
   "execution_count": 7,
   "source": [
    "iron = iron.dropna(axis=0)"
   ],
   "outputs": [],
   "metadata": {}
  },
  {
   "cell_type": "code",
   "execution_count": 8,
   "source": [
    "animal = animal.dropna(axis=0)"
   ],
   "outputs": [],
   "metadata": {}
  },
  {
   "cell_type": "code",
   "execution_count": 9,
   "source": [
    "live = live.dropna(axis=0)"
   ],
   "outputs": [],
   "metadata": {}
  },
  {
   "cell_type": "markdown",
   "source": [
    "### [1-2] 부정, 긍정 labeling"
   ],
   "metadata": {}
  },
  {
   "cell_type": "markdown",
   "source": [
    "#### 0 ~ 6 부정 / 7 ~ 10긍정"
   ],
   "metadata": {}
  },
  {
   "cell_type": "code",
   "execution_count": 10,
   "source": [
    "cat['Rank'] = [1 if r >= 7 else 0 for r in cat['Rank']]"
   ],
   "outputs": [],
   "metadata": {}
  },
  {
   "cell_type": "code",
   "execution_count": 11,
   "source": [
    "iron['Rank'] = [1 if r >= 7 else 0 for r in iron['Rank']]"
   ],
   "outputs": [],
   "metadata": {}
  },
  {
   "cell_type": "code",
   "execution_count": 12,
   "source": [
    "animal['Rank'] = [1 if r >= 7 else 0 for r in animal['Rank']]"
   ],
   "outputs": [],
   "metadata": {}
  },
  {
   "cell_type": "code",
   "execution_count": 13,
   "source": [
    "live['Rank'] = [1 if r >= 7 else 0 for r in live['Rank']]"
   ],
   "outputs": [],
   "metadata": {}
  },
  {
   "cell_type": "code",
   "execution_count": 14,
   "source": [
    "cat.head(5)"
   ],
   "outputs": [
    {
     "output_type": "execute_result",
     "data": {
      "text/plain": [
       "                             Review  Rank\n",
       "0                          3편나와라~~      1\n",
       "1                      귀여우니까 용서가되요      1\n",
       "2  1편만큼 재밌는데ㅋㅋ비둘기개웃김ㅋㅋㅋㅋ 걍 가볍게보기좋음      1\n",
       "3                  재밌쪙 3편 빨뤼 만들어줘용      1\n",
       "4                             재밌어요      1"
      ],
      "text/html": [
       "<div>\n",
       "<style scoped>\n",
       "    .dataframe tbody tr th:only-of-type {\n",
       "        vertical-align: middle;\n",
       "    }\n",
       "\n",
       "    .dataframe tbody tr th {\n",
       "        vertical-align: top;\n",
       "    }\n",
       "\n",
       "    .dataframe thead th {\n",
       "        text-align: right;\n",
       "    }\n",
       "</style>\n",
       "<table border=\"1\" class=\"dataframe\">\n",
       "  <thead>\n",
       "    <tr style=\"text-align: right;\">\n",
       "      <th></th>\n",
       "      <th>Review</th>\n",
       "      <th>Rank</th>\n",
       "    </tr>\n",
       "  </thead>\n",
       "  <tbody>\n",
       "    <tr>\n",
       "      <th>0</th>\n",
       "      <td>3편나와라~~</td>\n",
       "      <td>1</td>\n",
       "    </tr>\n",
       "    <tr>\n",
       "      <th>1</th>\n",
       "      <td>귀여우니까 용서가되요</td>\n",
       "      <td>1</td>\n",
       "    </tr>\n",
       "    <tr>\n",
       "      <th>2</th>\n",
       "      <td>1편만큼 재밌는데ㅋㅋ비둘기개웃김ㅋㅋㅋㅋ 걍 가볍게보기좋음</td>\n",
       "      <td>1</td>\n",
       "    </tr>\n",
       "    <tr>\n",
       "      <th>3</th>\n",
       "      <td>재밌쪙 3편 빨뤼 만들어줘용</td>\n",
       "      <td>1</td>\n",
       "    </tr>\n",
       "    <tr>\n",
       "      <th>4</th>\n",
       "      <td>재밌어요</td>\n",
       "      <td>1</td>\n",
       "    </tr>\n",
       "  </tbody>\n",
       "</table>\n",
       "</div>"
      ]
     },
     "metadata": {},
     "execution_count": 14
    }
   ],
   "metadata": {}
  },
  {
   "cell_type": "code",
   "execution_count": 15,
   "source": [
    "iron.head(5)"
   ],
   "outputs": [
    {
     "output_type": "execute_result",
     "data": {
      "text/plain": [
       "                                              Review  Rank\n",
       "0                          1,3 에 비해 떨여졌지만 없어선 안될 내용      1\n",
       "1  솔직히 다들 1은 좋은데 2는 별로였던거 공감했었겠지.악당이 너무 약하고 스케일도 ...     1\n",
       "2              그거암? 토니는 날려고 영화의 반을 잡아먹었는데 저 흑형은 걍 남      1\n",
       "3                            아이언맨은 그냥 나와줘서 감사합니다 ㅋㅋ      1\n",
       "4                                   이정도면 눈도 즐겁고 재밋지      1"
      ],
      "text/html": [
       "<div>\n",
       "<style scoped>\n",
       "    .dataframe tbody tr th:only-of-type {\n",
       "        vertical-align: middle;\n",
       "    }\n",
       "\n",
       "    .dataframe tbody tr th {\n",
       "        vertical-align: top;\n",
       "    }\n",
       "\n",
       "    .dataframe thead th {\n",
       "        text-align: right;\n",
       "    }\n",
       "</style>\n",
       "<table border=\"1\" class=\"dataframe\">\n",
       "  <thead>\n",
       "    <tr style=\"text-align: right;\">\n",
       "      <th></th>\n",
       "      <th>Review</th>\n",
       "      <th>Rank</th>\n",
       "    </tr>\n",
       "  </thead>\n",
       "  <tbody>\n",
       "    <tr>\n",
       "      <th>0</th>\n",
       "      <td>1,3 에 비해 떨여졌지만 없어선 안될 내용</td>\n",
       "      <td>1</td>\n",
       "    </tr>\n",
       "    <tr>\n",
       "      <th>1</th>\n",
       "      <td>솔직히 다들 1은 좋은데 2는 별로였던거 공감했었겠지.악당이 너무 약하고 스케일도 ...</td>\n",
       "      <td>1</td>\n",
       "    </tr>\n",
       "    <tr>\n",
       "      <th>2</th>\n",
       "      <td>그거암? 토니는 날려고 영화의 반을 잡아먹었는데 저 흑형은 걍 남</td>\n",
       "      <td>1</td>\n",
       "    </tr>\n",
       "    <tr>\n",
       "      <th>3</th>\n",
       "      <td>아이언맨은 그냥 나와줘서 감사합니다 ㅋㅋ</td>\n",
       "      <td>1</td>\n",
       "    </tr>\n",
       "    <tr>\n",
       "      <th>4</th>\n",
       "      <td>이정도면 눈도 즐겁고 재밋지</td>\n",
       "      <td>1</td>\n",
       "    </tr>\n",
       "  </tbody>\n",
       "</table>\n",
       "</div>"
      ]
     },
     "metadata": {},
     "execution_count": 15
    }
   ],
   "metadata": {}
  },
  {
   "cell_type": "markdown",
   "source": [
    "### [1-3] 데이터 전처리"
   ],
   "metadata": {}
  },
  {
   "cell_type": "code",
   "execution_count": 27,
   "source": [
    "class Preprocessing():\n",
    "    def __init__(self, reviews):\n",
    "        self.stop_words = ['의','가','이','은','들','는','좀','잘','걍','과','도','를','으로','자','에','와','한','하다','흠','아','더']\n",
    "        self.clean_train_review = []\n",
    "        self.reviews = reviews\n",
    "    \n",
    "    def preprocess(self, review):\n",
    "        # 1. 한글 및 공백을 제외한 모든 문자 제거 -> 한글만 남기겠다.\n",
    "        review_text = re.sub(\"[^가-힣ㄱ-ㅎㅏ - | \\\\s]\", \"\", review)\n",
    "\n",
    "        # 2. 띄어쓰기 규칙\n",
    "        review_text = spacing(review_text)\n",
    "\n",
    "        # 3. mecab 객체를 활용해 형태소 단위로 문장을 나눈다(tokenzing)\n",
    "        word_review = mecab.morphs(review_text)\n",
    "\n",
    "        # 4. 불용어 제거하기\n",
    "        word_review = [token for token in word_review if not token in self.stop_words]\n",
    "\n",
    "        return word_review\n",
    "    \n",
    "    def clean_data_get(self):\n",
    "        print(\"ASASDASD\")\n",
    "        for review in tqdm(self.reviews):\n",
    "            self.clean_train_review.append(self.preprocess(review))\n",
    "            \n",
    "        print(\"전체 리뷰 개수 : \", len(self.clean_train_review))\n",
    "        print(\"띄어쓰기 이상한 리뷰 개수 :\", len([clean for clean in self.clean_train_review if not clean]))\n",
    "        \n",
    "        ## 지우면 안됨 => [] 로 저장\n",
    "        for idx, clean in enumerate(self.clean_train_review):\n",
    "            if clean == None: self.clean_train_review[idx] = []\n",
    "        \n",
    "        return\n",
    "    "
   ],
   "outputs": [],
   "metadata": {}
  },
  {
   "cell_type": "code",
   "execution_count": 31,
   "source": [
    "CAT_review = Preprocessing(cat['Review'])\n",
    "CAT_review.clean_data_get()\n",
    "\n",
    "iron_review = Preprocessing(iron['Review'])\n",
    "iron_review.clean_data_get()\n",
    "\n",
    "animal_review = Preprocessing(animal['Review'])\n",
    "animal_review.clean_data_get()\n",
    "\n",
    "live_review = Preprocessing(live['Review'])\n",
    "live_review.clean_data_get()"
   ],
   "outputs": [
    {
     "output_type": "stream",
     "name": "stdout",
     "text": [
      "ASASDASD\n"
     ]
    },
    {
     "output_type": "stream",
     "name": "stderr",
     "text": [
      "100%|██████████| 239/239 [00:06<00:00, 37.07it/s]\n"
     ]
    },
    {
     "output_type": "stream",
     "name": "stdout",
     "text": [
      "전체 리뷰 개수 :  239\n",
      "띄어쓰기 이상한 리뷰 개수 : 2\n",
      "ASASDASD\n"
     ]
    },
    {
     "output_type": "stream",
     "name": "stderr",
     "text": [
      "100%|██████████| 6492/6492 [02:55<00:00, 37.10it/s]\n"
     ]
    },
    {
     "output_type": "stream",
     "name": "stdout",
     "text": [
      "전체 리뷰 개수 :  6492\n",
      "띄어쓰기 이상한 리뷰 개수 : 37\n",
      "ASASDASD\n"
     ]
    },
    {
     "output_type": "stream",
     "name": "stderr",
     "text": [
      "100%|██████████| 17852/17852 [08:01<00:00, 37.05it/s]\n"
     ]
    },
    {
     "output_type": "stream",
     "name": "stdout",
     "text": [
      "전체 리뷰 개수 :  17852\n",
      "띄어쓰기 이상한 리뷰 개수 : 129\n",
      "ASASDASD\n"
     ]
    },
    {
     "output_type": "stream",
     "name": "stderr",
     "text": [
      "100%|██████████| 17897/17897 [08:04<00:00, 36.95it/s]"
     ]
    },
    {
     "output_type": "stream",
     "name": "stdout",
     "text": [
      "전체 리뷰 개수 :  17897\n",
      "띄어쓰기 이상한 리뷰 개수 : 41\n"
     ]
    },
    {
     "output_type": "stream",
     "name": "stderr",
     "text": [
      "\n"
     ]
    }
   ],
   "metadata": {}
  },
  {
   "cell_type": "code",
   "execution_count": 32,
   "source": [
    "CAT_review.clean_train_review[3]"
   ],
   "outputs": [
    {
     "output_type": "execute_result",
     "data": {
      "text/plain": [
       "['재밌', '쪙', '편', '빨', '뤼', '만들', '어', '줘', '용']"
      ]
     },
     "metadata": {},
     "execution_count": 32
    }
   ],
   "metadata": {}
  },
  {
   "cell_type": "code",
   "execution_count": 33,
   "source": [
    "cat['Review'] = CAT_review.clean_train_review\n",
    "iron['Review'] = iron_review.clean_train_review\n",
    "animal['Review'] = animal_review.clean_train_review\n",
    "live['Review'] = live_review.clean_train_review"
   ],
   "outputs": [],
   "metadata": {}
  },
  {
   "cell_type": "markdown",
   "source": [
    "### [1-4] 정수 인코딩"
   ],
   "metadata": {}
  },
  {
   "cell_type": "code",
   "execution_count": 34,
   "source": [
    "X_cat = cat['Review']\n",
    "y_cat = np.array(list(cat['Rank'].tolist()))\n",
    "\n",
    "X_iron = iron['Review']\n",
    "y_iron = np.array(list(iron['Rank'].tolist()))\n",
    "\n",
    "X_animal = animal['Review']\n",
    "y_animal = np.array(list(animal['Rank'].tolist()))\n",
    "\n",
    "X_live = live['Review']\n",
    "y_live = np.array(list(live['Rank'].tolist()))"
   ],
   "outputs": [],
   "metadata": {}
  },
  {
   "cell_type": "code",
   "execution_count": 35,
   "source": [
    "data_list = {\n",
    "    'cat' : [X_cat, y_cat],\n",
    "    'iron' : [X_iron, y_iron],\n",
    "    'animal' : [X_animal, y_animal],\n",
    "    'live' : [X_live, y_live]\n",
    "}"
   ],
   "outputs": [],
   "metadata": {}
  },
  {
   "cell_type": "code",
   "execution_count": 37,
   "source": [
    "for movie, data in data_list.items():\n",
    "    encoded = tokenizer.texts_to_sequences(data[0]) \n",
    "    pad_new = pad_sequences(encoded, maxlen = max_len)\n",
    "    \n",
    "    data_list[movie][0] = pad_new"
   ],
   "outputs": [],
   "metadata": {}
  },
  {
   "cell_type": "code",
   "execution_count": 38,
   "source": [
    "data_list[movie][0][4]"
   ],
   "outputs": [
    {
     "output_type": "execute_result",
     "data": {
      "text/plain": [
       "array([   0,    0,    0,    0,    0,    0,    0,    0,    0,  339,   30,\n",
       "        310, 5904, 1366,   17,   12,  384,   50,    2,  496,  103,   28,\n",
       "        142,  123,   31,   42,   42,   85,  140, 1366,   17,   12,    3,\n",
       "        909,   66,   13,    6,  207,    2,    6,   26, 2028,  519, 2807,\n",
       "       2062, 1164, 1270, 2028,  689,   36], dtype=int32)"
      ]
     },
     "metadata": {},
     "execution_count": 38
    }
   ],
   "metadata": {}
  },
  {
   "cell_type": "markdown",
   "source": [
    "## [2] Model predict"
   ],
   "metadata": {}
  },
  {
   "cell_type": "code",
   "execution_count": 50,
   "source": [
    "CNN = load_model(BASIC_PATH+'final/CNN_model_hyper2.h5')\n",
    "biLSTM = load_model(BASIC_PATH+'final/BiLSTM_model.h5')\n",
    "GRU = load_model(BASIC_PATH+'final/GRU_model.h5')\n",
    "LSTM = load_model(BASIC_PATH+'final/LSTM_model.h5')\n",
    "CNN_LSTM = load_model(BASIC_PATH+'final/CNN_LSTM_model.h5')"
   ],
   "outputs": [],
   "metadata": {}
  },
  {
   "cell_type": "code",
   "execution_count": 51,
   "source": [
    "models = {\n",
    "    'cnn' : CNN,\n",
    "    'BiLSTM' : biLSTM,\n",
    "    'gru' : GRU,\n",
    "    'lstm': LSTM,\n",
    "    'cnn_lstm' : CNN_LSTM\n",
    "}"
   ],
   "outputs": [],
   "metadata": {}
  },
  {
   "cell_type": "code",
   "execution_count": 52,
   "source": [
    "for name, dataset in data_list.items():\n",
    "    print(\"movie : \", name)\n",
    "    for m_name, model in models.items():\n",
    "        print(name, \" + \", m_name, \" Accuracy result  =>>> \", model.evaluate(dataset[0], dataset[1])[1]*100, \"%\")\n",
    "        print()\n",
    "    print()"
   ],
   "outputs": [
    {
     "output_type": "stream",
     "name": "stdout",
     "text": [
      "movie :  cat\n",
      "8/8 [==============================] - 0s 3ms/step - loss: 0.4411 - accuracy: 0.8243\n",
      "cat  +  cnn  Accuracy result  =>>>  82.42678046226501 %\n",
      "\n",
      "8/8 [==============================] - 0s 6ms/step - loss: 0.4687 - accuracy: 0.8117\n",
      "cat  +  BiLSTM  Accuracy result  =>>>  81.17154836654663 %\n",
      "\n",
      "8/8 [==============================] - 0s 4ms/step - loss: 0.4563 - accuracy: 0.8159\n",
      "cat  +  gru  Accuracy result  =>>>  81.58996105194092 %\n",
      "\n",
      "8/8 [==============================] - 0s 6ms/step - loss: 0.4622 - accuracy: 0.8159\n",
      "cat  +  lstm  Accuracy result  =>>>  81.58996105194092 %\n",
      "\n",
      "8/8 [==============================] - 0s 6ms/step - loss: 0.5782 - accuracy: 0.7699\n",
      "cat  +  cnn_lstm  Accuracy result  =>>>  76.98744535446167 %\n",
      "\n",
      "\n",
      "movie :  iron\n",
      "203/203 [==============================] - 1s 3ms/step - loss: 0.6219 - accuracy: 0.7625\n",
      "iron  +  cnn  Accuracy result  =>>>  76.2476921081543 %\n",
      "\n",
      "203/203 [==============================] - 1s 7ms/step - loss: 0.6312 - accuracy: 0.7591\n",
      "iron  +  BiLSTM  Accuracy result  =>>>  75.90880990028381 %\n",
      "\n",
      "203/203 [==============================] - 1s 5ms/step - loss: 0.6526 - accuracy: 0.7683\n",
      "iron  +  gru  Accuracy result  =>>>  76.83302760124207 %\n",
      "\n",
      "203/203 [==============================] - 1s 6ms/step - loss: 0.6084 - accuracy: 0.7688\n",
      "iron  +  lstm  Accuracy result  =>>>  76.87923312187195 %\n",
      "\n",
      "203/203 [==============================] - 1s 6ms/step - loss: 0.7679 - accuracy: 0.7086\n",
      "iron  +  cnn_lstm  Accuracy result  =>>>  70.85644006729126 %\n",
      "\n",
      "\n",
      "movie :  animal\n",
      "558/558 [==============================] - 1s 3ms/step - loss: 0.2076 - accuracy: 0.9188\n",
      "animal  +  cnn  Accuracy result  =>>>  91.88326001167297 %\n",
      "\n",
      "558/558 [==============================] - 4s 7ms/step - loss: 0.2365 - accuracy: 0.9007\n",
      "animal  +  BiLSTM  Accuracy result  =>>>  90.06834030151367 %\n",
      "\n",
      "558/558 [==============================] - 2s 4ms/step - loss: 0.2134 - accuracy: 0.9250\n",
      "animal  +  gru  Accuracy result  =>>>  92.499440908432 %\n",
      "\n",
      "558/558 [==============================] - 3s 5ms/step - loss: 0.2052 - accuracy: 0.9166\n",
      "animal  +  lstm  Accuracy result  =>>>  91.6592001914978 %\n",
      "\n",
      "558/558 [==============================] - 4s 6ms/step - loss: 0.3259 - accuracy: 0.8629\n",
      "animal  +  cnn_lstm  Accuracy result  =>>>  86.28724813461304 %\n",
      "\n",
      "\n",
      "movie :  live\n",
      "560/560 [==============================] - 1s 3ms/step - loss: 0.4521 - accuracy: 0.8279\n",
      "live  +  cnn  Accuracy result  =>>>  82.79041051864624 %\n",
      "\n",
      "560/560 [==============================] - 4s 7ms/step - loss: 0.4306 - accuracy: 0.8285\n",
      "live  +  BiLSTM  Accuracy result  =>>>  82.84628987312317 %\n",
      "\n",
      "560/560 [==============================] - 2s 4ms/step - loss: 0.5753 - accuracy: 0.7959\n",
      "live  +  gru  Accuracy result  =>>>  79.59434390068054 %\n",
      "\n",
      "560/560 [==============================] - 3s 6ms/step - loss: 0.4415 - accuracy: 0.8279\n",
      "live  +  lstm  Accuracy result  =>>>  82.79041051864624 %\n",
      "\n",
      "560/560 [==============================] - 4s 6ms/step - loss: 0.3823 - accuracy: 0.8489\n",
      "live  +  cnn_lstm  Accuracy result  =>>>  84.88573431968689 %\n",
      "\n",
      "\n"
     ]
    }
   ],
   "metadata": {}
  },
  {
   "cell_type": "code",
   "execution_count": null,
   "source": [],
   "outputs": [],
   "metadata": {}
  }
 ],
 "metadata": {
  "kernelspec": {
   "display_name": "Python 3",
   "language": "python",
   "name": "python3"
  },
  "language_info": {
   "codemirror_mode": {
    "name": "ipython",
    "version": 3
   },
   "file_extension": ".py",
   "mimetype": "text/x-python",
   "name": "python",
   "nbconvert_exporter": "python",
   "pygments_lexer": "ipython3",
   "version": "3.6.13"
  }
 },
 "nbformat": 4,
 "nbformat_minor": 5
}