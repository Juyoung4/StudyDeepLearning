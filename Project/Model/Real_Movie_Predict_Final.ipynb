{
 "cells": [
  {
   "cell_type": "code",
   "execution_count": 1,
   "id": "da1a55a3-7925-467d-a2f5-ff7ae3d61279",
   "metadata": {},
   "outputs": [],
   "source": [
    "import numpy as np\n",
    "import pandas as pd\n",
    "import os\n",
    "import re\n",
    "\n",
    "from tqdm import tqdm\n",
    "\n",
    "import matplotlib.pyplot as plt\n",
    "import seaborn as sns\n",
    "%matplotlib inline\n",
    "\n",
    "from tensorflow.keras.models import load_model\n",
    "\n",
    "from tensorflow.python.keras.preprocessing.sequence import pad_sequences\n",
    "from tensorflow.python.keras.preprocessing.text import Tokenizer\n",
    "\n",
    "\n",
    "from pykospacing import Spacing\n",
    "spacing = Spacing()\n",
    "\n",
    "from konlpy.tag import Mecab\n",
    "mecab = Mecab() #형태소 분석기 선언"
   ]
  },
  {
   "cell_type": "code",
   "execution_count": 2,
   "id": "1b31449a-5e5b-485d-aa7f-f10a9d2202d2",
   "metadata": {},
   "outputs": [],
   "source": [
    "BASIC_PATH = \"/home/ai-sjjy/workspace/juyoung/AI/project/dataset/\""
   ]
  },
  {
   "cell_type": "code",
   "execution_count": 3,
   "id": "2bc12cc8-bab2-4ee8-90f1-ef20e53bcc17",
   "metadata": {},
   "outputs": [],
   "source": [
    "cat = pd.read_csv(BASIC_PATH+'moives/캣츠review.csv')\n",
    "iron = pd.read_csv(BASIC_PATH+'moives/아이언맨2review.csv')\n",
    "animal = pd.read_csv(BASIC_PATH+'moives/주토피아review.csv')\n",
    "live = pd.read_csv(BASIC_PATH+'moives/살아있다review.csv')"
   ]
  },
  {
   "cell_type": "code",
   "execution_count": 4,
   "id": "a5ed93a9-0f0d-4c68-8e6b-be7734f2c81f",
   "metadata": {},
   "outputs": [],
   "source": [
    "import pickle\n",
    "\n",
    "with open(BASIC_PATH+'final/Tokenizer.pickle', 'rb') as handle:\n",
    "    tokenizer = pickle.load(handle)"
   ]
  },
  {
   "cell_type": "code",
   "execution_count": 6,
   "id": "bef41bc1-f92b-4a59-bcf9-c6e69c925504",
   "metadata": {},
   "outputs": [],
   "source": [
    "CNN = load_model(BASIC_PATH+'final/CNN_model_hyper2.h5')\n",
    "biLSTM = load_model(BASIC_PATH+'final/BiLSTM_model.h5')\n",
    "GRU = load_model(BASIC_PATH+'final/GRU_model.h5')\n",
    "LSTM = load_model(BASIC_PATH+'final/LSTM_model.h5')"
   ]
  },
  {
   "cell_type": "code",
   "execution_count": 42,
   "id": "eab3c9a7-e980-419c-b278-e8ca0a2e0410",
   "metadata": {},
   "outputs": [],
   "source": [
    "class All_process():\n",
    "    def __init__(self, movie_name, movie):\n",
    "        self.stop_words = ['의','가','이','은','들','는','좀','잘','걍','과','도','를','으로','자','에','와','한','하다','흠','아','더']\n",
    "        self.movie_name = movie_name\n",
    "        self.movie = movie\n",
    "        \n",
    "        self.X_train = None\n",
    "        self.y_train = None\n",
    "        \n",
    "        self.max_len = 50\n",
    "        \n",
    "        self.models = {\n",
    "            'cnn' : CNN,\n",
    "            'BiLSTM' : biLSTM,\n",
    "            'gru' : GRU,\n",
    "            'lstm' : LSTM\n",
    "        }\n",
    "    \n",
    "    def null_and_labeling(self):\n",
    "        self.movie = self.movie.dropna(axis=0)\n",
    "        \n",
    "        self.movie['Rank'] = [1 if r >= 7 else 0 for r in self.movie['Rank']]\n",
    "        \n",
    "    def data_cleaning(self, review):\n",
    "        # 1. 한글 및 공백을 제외한 모든 문자 제거 -> 한글만 남기겠다.\n",
    "        review_text = re.sub(\"[^가-힣ㄱ-ㅎㅏ - | \\\\s]\", \"\", review)\n",
    "\n",
    "        # 2. 띄어쓰기 규칙\n",
    "        review_text = spacing(review_text)\n",
    "\n",
    "        # 3. mecab 객체를 활용해 형태소 단위로 문장을 나눈다(tokenzing)\n",
    "        word_review = mecab.morphs(review_text)\n",
    "\n",
    "        # 4. 불용어 제거하기\n",
    "        word_review = [token for token in word_review if not token in self.stop_words]\n",
    "\n",
    "        return word_review\n",
    "    \n",
    "    def clean_data_get(self):\n",
    "        print(\"Movie Name : \", self.movie_name)\n",
    "        clean_train_review = []\n",
    "        for review in tqdm(self.movie['Review']):\n",
    "            clean_train_review.append(self.data_cleaning(review))\n",
    "            \n",
    "        #print(\"전체 리뷰 개수 : \", len(clean_train_review))\n",
    "        #print(\"띄어쓰기 이상한 리뷰 개수 :\", len([clean for clean in clean_train_review if not clean]))\n",
    "        \n",
    "        ## 지우면 안됨 => [] 로 저장\n",
    "        for idx, clean in enumerate(clean_train_review):\n",
    "            if clean == None: clean_train_review[idx] = []\n",
    "        \n",
    "        self.movie['Review'] = clean_train_review\n",
    "        return\n",
    "    \n",
    "    def encoding(self):\n",
    "        self.X_train = self.movie['Review']\n",
    "        self.y_train = np.array(list(self.movie['Rank'].tolist()))\n",
    "        \n",
    "        self.X_train = tokenizer.texts_to_sequences(self.X_train)\n",
    "        \n",
    "        self.X_train = pad_sequences(self.X_train, maxlen = self.max_len)\n",
    "        \n",
    "        print(\"shape : \", self.X_train.shape)\n",
    "        return\n",
    "        \n",
    "    def sentiment_evaluate(self):\n",
    "        self.null_and_labeling()\n",
    "        \n",
    "        self.clean_data_get()\n",
    "        \n",
    "        self.encoding()\n",
    "        \n",
    "        print(\"Movie Name : \", self.movie_name)\n",
    "        for name, model in self.models.items():\n",
    "            print(\"Model => \", name)\n",
    "            print(\"모델 정확도: %.4f\" % (model.evaluate(self.X_train, self.y_train)[1]))\n",
    "        \n",
    "        return\n",
    "    \n",
    "    def sentiment_predict(self):\n",
    "        self.null_and_labeling()\n",
    "        \n",
    "        self.clean_data_get()\n",
    "        \n",
    "        self.encoding()\n",
    "        \n",
    "        result = self.models['cnn'].predict(self.X_train)\n",
    "        result = [1 if r>0.5 else 0 for r in result]\n",
    "        \n",
    "        self.movie['P/N'] = result\n",
    "        \n",
    "        return\n",
    "        "
   ]
  },
  {
   "cell_type": "code",
   "execution_count": 40,
   "id": "ec47eb6d-42c6-49c2-a580-bb281bc13e29",
   "metadata": {},
   "outputs": [],
   "source": [
    "dfs = {\n",
    "    'Cat' : cat,\n",
    "    'Iron' : iron, \n",
    "    'Animal' : animal,\n",
    "    'Live' : live\n",
    "}"
   ]
  },
  {
   "cell_type": "code",
   "execution_count": 44,
   "id": "b2f816d2-a2bc-4efd-961b-dce5e01edd91",
   "metadata": {},
   "outputs": [
    {
     "name": "stderr",
     "output_type": "stream",
     "text": [
      "/home/ai-sjjy/anaconda3/envs/juyoung/lib/python3.6/site-packages/ipykernel_launcher.py:22: SettingWithCopyWarning: \n",
      "A value is trying to be set on a copy of a slice from a DataFrame.\n",
      "Try using .loc[row_indexer,col_indexer] = value instead\n",
      "\n",
      "See the caveats in the documentation: https://pandas.pydata.org/pandas-docs/stable/user_guide/indexing.html#returning-a-view-versus-a-copy\n"
     ]
    },
    {
     "name": "stdout",
     "output_type": "stream",
     "text": [
      "Movie Name :  Cat\n"
     ]
    },
    {
     "name": "stderr",
     "output_type": "stream",
     "text": [
      "100%|██████████| 239/239 [00:06<00:00, 37.80it/s]\n",
      "/home/ai-sjjy/anaconda3/envs/juyoung/lib/python3.6/site-packages/ipykernel_launcher.py:52: SettingWithCopyWarning: \n",
      "A value is trying to be set on a copy of a slice from a DataFrame.\n",
      "Try using .loc[row_indexer,col_indexer] = value instead\n",
      "\n",
      "See the caveats in the documentation: https://pandas.pydata.org/pandas-docs/stable/user_guide/indexing.html#returning-a-view-versus-a-copy\n",
      "/home/ai-sjjy/anaconda3/envs/juyoung/lib/python3.6/site-packages/ipykernel_launcher.py:90: SettingWithCopyWarning: \n",
      "A value is trying to be set on a copy of a slice from a DataFrame.\n",
      "Try using .loc[row_indexer,col_indexer] = value instead\n",
      "\n",
      "See the caveats in the documentation: https://pandas.pydata.org/pandas-docs/stable/user_guide/indexing.html#returning-a-view-versus-a-copy\n",
      "/home/ai-sjjy/anaconda3/envs/juyoung/lib/python3.6/site-packages/ipykernel_launcher.py:22: SettingWithCopyWarning: \n",
      "A value is trying to be set on a copy of a slice from a DataFrame.\n",
      "Try using .loc[row_indexer,col_indexer] = value instead\n",
      "\n",
      "See the caveats in the documentation: https://pandas.pydata.org/pandas-docs/stable/user_guide/indexing.html#returning-a-view-versus-a-copy\n"
     ]
    },
    {
     "name": "stdout",
     "output_type": "stream",
     "text": [
      "shape :  (239, 50)\n",
      "                                              Review  Rank  P/N\n",
      "0                                           [편, 나와라]     1    1\n",
      "1                                [귀여우, 니까, 용서, 되, 요]     1    1\n",
      "2  [편, 만큼, 재밌, 는데, ㅋㅋ, 비둘기, 개웃, 김, ㅋㅋ, ㅋㅋ, 가볍, 게,...     1    1\n",
      "3                      [재밌, 쪙, 편, 빨, 뤼, 만들, 어, 줘, 용]     1    1\n",
      "4                                           [재밌, 어요]     1    1\n",
      "Movie Name :  Iron\n"
     ]
    },
    {
     "name": "stderr",
     "output_type": "stream",
     "text": [
      "100%|██████████| 6492/6492 [02:54<00:00, 37.27it/s]\n",
      "/home/ai-sjjy/anaconda3/envs/juyoung/lib/python3.6/site-packages/ipykernel_launcher.py:52: SettingWithCopyWarning: \n",
      "A value is trying to be set on a copy of a slice from a DataFrame.\n",
      "Try using .loc[row_indexer,col_indexer] = value instead\n",
      "\n",
      "See the caveats in the documentation: https://pandas.pydata.org/pandas-docs/stable/user_guide/indexing.html#returning-a-view-versus-a-copy\n"
     ]
    },
    {
     "name": "stdout",
     "output_type": "stream",
     "text": [
      "shape :  (6492, 50)\n"
     ]
    },
    {
     "name": "stderr",
     "output_type": "stream",
     "text": [
      "/home/ai-sjjy/anaconda3/envs/juyoung/lib/python3.6/site-packages/ipykernel_launcher.py:90: SettingWithCopyWarning: \n",
      "A value is trying to be set on a copy of a slice from a DataFrame.\n",
      "Try using .loc[row_indexer,col_indexer] = value instead\n",
      "\n",
      "See the caveats in the documentation: https://pandas.pydata.org/pandas-docs/stable/user_guide/indexing.html#returning-a-view-versus-a-copy\n",
      "/home/ai-sjjy/anaconda3/envs/juyoung/lib/python3.6/site-packages/ipykernel_launcher.py:22: SettingWithCopyWarning: \n",
      "A value is trying to be set on a copy of a slice from a DataFrame.\n",
      "Try using .loc[row_indexer,col_indexer] = value instead\n",
      "\n",
      "See the caveats in the documentation: https://pandas.pydata.org/pandas-docs/stable/user_guide/indexing.html#returning-a-view-versus-a-copy\n"
     ]
    },
    {
     "name": "stdout",
     "output_type": "stream",
     "text": [
      "                                              Review  Rank  P/N\n",
      "0                 [비해, 떨, 여졌, 지만, 없, 어, 선, 안, 될, 내용]     1    0\n",
      "1  [솔직히, 다, 좋, 데, 별로, 였, 던, 거, 공감, 했었, 겠, 지, 악당, ...     1    0\n",
      "2  [그거, 암, 토니, 날, 려고, 영화, 반, 을, 잡, 먹, 었, 는데, 저, 흑...     1    1\n",
      "3                    [아이언맨, 그냥, 나와, 줘서, 감사, 합니다, ㅋㅋ]     1    1\n",
      "4                           [정도, 면, 눈, 즐겁, 고, 재, 밋지]     1    1\n",
      "Movie Name :  Animal\n"
     ]
    },
    {
     "name": "stderr",
     "output_type": "stream",
     "text": [
      "100%|██████████| 17852/17852 [08:00<00:00, 37.14it/s]\n",
      "/home/ai-sjjy/anaconda3/envs/juyoung/lib/python3.6/site-packages/ipykernel_launcher.py:52: SettingWithCopyWarning: \n",
      "A value is trying to be set on a copy of a slice from a DataFrame.\n",
      "Try using .loc[row_indexer,col_indexer] = value instead\n",
      "\n",
      "See the caveats in the documentation: https://pandas.pydata.org/pandas-docs/stable/user_guide/indexing.html#returning-a-view-versus-a-copy\n"
     ]
    },
    {
     "name": "stdout",
     "output_type": "stream",
     "text": [
      "shape :  (17852, 50)\n"
     ]
    },
    {
     "name": "stderr",
     "output_type": "stream",
     "text": [
      "/home/ai-sjjy/anaconda3/envs/juyoung/lib/python3.6/site-packages/ipykernel_launcher.py:90: SettingWithCopyWarning: \n",
      "A value is trying to be set on a copy of a slice from a DataFrame.\n",
      "Try using .loc[row_indexer,col_indexer] = value instead\n",
      "\n",
      "See the caveats in the documentation: https://pandas.pydata.org/pandas-docs/stable/user_guide/indexing.html#returning-a-view-versus-a-copy\n",
      "/home/ai-sjjy/anaconda3/envs/juyoung/lib/python3.6/site-packages/ipykernel_launcher.py:22: SettingWithCopyWarning: \n",
      "A value is trying to be set on a copy of a slice from a DataFrame.\n",
      "Try using .loc[row_indexer,col_indexer] = value instead\n",
      "\n",
      "See the caveats in the documentation: https://pandas.pydata.org/pandas-docs/stable/user_guide/indexing.html#returning-a-view-versus-a-copy\n"
     ]
    },
    {
     "name": "stdout",
     "output_type": "stream",
     "text": [
      "                                              Review  Rank  P/N\n",
      "0  [네, 닉, 한테, 반했, 어요, 아니, 무슨, 내, 영화, 나오, 캐릭터, 한테,...     1    1\n",
      "1  [단언, 컨대, 년, 상반기, 영화, 최고, 버디, 플레이, 강, 동원, 황정민, ...     1    1\n",
      "2                        [하, 나무, 늘, 보, 졸, 귀엽, 네, ㅋㅋ]     1    1\n",
      "3  [유치, 애니메이션, 영화, 처럼, 보인다고, 묻히, 기, 엔, 너무, 아쉬운, 영...     1    1\n",
      "4  [선입견, 을, 날려, 버리, 고, 불, 가능, 을, 가능, 만드, 애니메이션, 한...     1    1\n",
      "Movie Name :  Live\n"
     ]
    },
    {
     "name": "stderr",
     "output_type": "stream",
     "text": [
      "100%|██████████| 17897/17897 [08:03<00:00, 37.02it/s]\n",
      "/home/ai-sjjy/anaconda3/envs/juyoung/lib/python3.6/site-packages/ipykernel_launcher.py:52: SettingWithCopyWarning: \n",
      "A value is trying to be set on a copy of a slice from a DataFrame.\n",
      "Try using .loc[row_indexer,col_indexer] = value instead\n",
      "\n",
      "See the caveats in the documentation: https://pandas.pydata.org/pandas-docs/stable/user_guide/indexing.html#returning-a-view-versus-a-copy\n"
     ]
    },
    {
     "name": "stdout",
     "output_type": "stream",
     "text": [
      "shape :  (17897, 50)\n",
      "                                              Review  Rank  P/N\n",
      "0                            [개연, 성, 진짜, 할, 말, 없, 음]     0    0\n",
      "1  [영화, 보다, 중간, 나온, 적, 처음, 저런, 좋, 배우, 가지, 고, 따구, ...     0    0\n",
      "2      [유아, 인, 그, 똑똑, 배우, 왜, 이런, 영화, 택한, 건지, 의문, 에요]     0    0\n",
      "3  [개연, 성, 없, 던, 영화, 안, 씻, 고, 굶, 어도, 탱탱, 피부, 탈색, ...     0    0\n",
      "4  [요즘, 같, 양질, 영상, 유튜브, 썩, 어, 나, 세상, 이런, 영화, 영화관,...     0    0\n"
     ]
    },
    {
     "name": "stderr",
     "output_type": "stream",
     "text": [
      "/home/ai-sjjy/anaconda3/envs/juyoung/lib/python3.6/site-packages/ipykernel_launcher.py:90: SettingWithCopyWarning: \n",
      "A value is trying to be set on a copy of a slice from a DataFrame.\n",
      "Try using .loc[row_indexer,col_indexer] = value instead\n",
      "\n",
      "See the caveats in the documentation: https://pandas.pydata.org/pandas-docs/stable/user_guide/indexing.html#returning-a-view-versus-a-copy\n"
     ]
    }
   ],
   "source": [
    "result = {\n",
    "    'Cat' : None,\n",
    "    'Iron' : None, \n",
    "    'Animal' : None,\n",
    "    'Live' : None\n",
    "}\n",
    "for name, moive in dfs.items():\n",
    "    process = All_process(name, moive)\n",
    "    process.sentiment_predict()\n",
    "    result[name] = process.movie\n",
    "    print(process.movie.head(5))"
   ]
  },
  {
   "cell_type": "code",
   "execution_count": null,
   "id": "e030c1c8-2b8a-40f6-a905-4376f698c13c",
   "metadata": {},
   "outputs": [],
   "source": []
  }
 ],
 "metadata": {
  "kernelspec": {
   "display_name": "Python 3",
   "language": "python",
   "name": "python3"
  },
  "language_info": {
   "codemirror_mode": {
    "name": "ipython",
    "version": 3
   },
   "file_extension": ".py",
   "mimetype": "text/x-python",
   "name": "python",
   "nbconvert_exporter": "python",
   "pygments_lexer": "ipython3",
   "version": "3.6.13"
  }
 },
 "nbformat": 4,
 "nbformat_minor": 5
}
