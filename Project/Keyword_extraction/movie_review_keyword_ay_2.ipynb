{
 "cells": [
  {
   "cell_type": "markdown",
   "id": "d1247079",
   "metadata": {},
   "source": [
    "# 기본 패키지 임포트"
   ]
  },
  {
   "cell_type": "code",
   "execution_count": 1,
   "id": "ce16c13b",
   "metadata": {},
   "outputs": [],
   "source": [
    "import numpy as np\n",
    "import pandas as pd\n",
    "import re\n",
    "import json\n",
    "from konlpy.tag import Okt\n",
    "from tensorflow.python.keras.preprocessing.sequence import pad_sequences\n",
    "from tensorflow.python.keras.preprocessing.text import Tokenizer\n",
    "from sklearn.feature_extraction.text import TfidfTransformer\n",
    "from sklearn.feature_extraction.text import CountVectorizer\n",
    "import requests\n",
    "import time\n",
    "from tqdm import tqdm\n",
    "from bs4 import BeautifulSoup\n",
    "import matplotlib.pyplot as plt\n",
    "import seaborn as sns\n",
    "import random\n",
    "from sklearn.linear_model import LogisticRegression\n",
    "from sklearn.metrics import accuracy_score, precision_score, recall_score, f1_score\n",
    "from sklearn.metrics import confusion_matrix\n",
    "import warnings\n",
    "warnings.filterwarnings('ignore')\n",
    "%matplotlib inline\n"
   ]
  },
  {
   "cell_type": "markdown",
   "id": "37199613",
   "metadata": {},
   "source": [
    "# 키워드 추출 클래스"
   ]
  },
  {
   "cell_type": "code",
   "execution_count": 110,
   "id": "14bb9dde",
   "metadata": {},
   "outputs": [],
   "source": [
    "def no_space(text):\n",
    "    text1 = re.sub('&nbsp;|&nbsp;|\\n|\\t|\\r', '', text)\n",
    "    text2 = re.sub('\\n\\n','', text1)\n",
    "    return text2\n",
    "\n",
    "def extract_word(text):\n",
    "    hangul = re.compile('[^가-힣]') \n",
    "    result = hangul.sub(' ', text) \n",
    "    return result\n",
    "\n",
    "def load_stopwords(basepath):\n",
    "    print(\"불용어셋을 가져오고 있습니다.\")\n",
    "    with open(basepath+'stopwords.txt', 'r') as f:\n",
    "        list_file = f.readlines()\n",
    "    return list_file[0].split(\",\")\n",
    "\n",
    "\n",
    "class Review_keyword:\n",
    "    def __init__(self, minimum_count:int)->None:\n",
    "        self.basepath = input(\"데이터를 저장하고 불러올 기본 경로를 입력해주세요   \")\n",
    "        self.minimum_count = minimum_count\n",
    "        self.word_list =  None\n",
    "        self.name = None\n",
    "        self.url = None\n",
    "        self.data = None\n",
    "        self.stopwords = load_stopwords(self.basepath)\n",
    "        self.vocab = None\n",
    "        \n",
    "    def search(self) :\n",
    "        self.name= input(\"어떤 영화를 검색하시겠습니까? \")\n",
    "        url = f'https://movie.naver.com/movie/search/result.naver?query={self.name}&section=all&ie=utf8'        \n",
    "        res = requests.get(url)\n",
    "        index = 1\n",
    "        user_dic = {}\n",
    "        if res.status_code == 200:\n",
    "            soup=BeautifulSoup(res.text,'lxml')\n",
    "            for href in soup.find(\"ul\", class_=\"search_list_1\").find_all(\"li\"): \n",
    "                print(f\"=============={index}번 영화===============\")\n",
    "                print(href.dl.text[:-2])\n",
    "                user_dic[index] = int(href.dl.dt.a['href'][30:])\n",
    "                index = index+1\n",
    "        movie_num = int(input(\"몇 번 영화를 선택하시겠습니까? (숫자만 입력)  : \"))\n",
    "        code = user_dic[movie_num]\n",
    "        base_url = f'https://movie.naver.com/movie/bi/mi/pointWriteFormList.nhn?code={code}&type=after&onlyActualPointYn=N&onlySpoilerPointYn=N&order=sympathyScore&page='\n",
    "        self.url = base_url+'{}'\n",
    "        \n",
    "    def save_and_load(self,dataframe):\n",
    "        dataframe.to_csv(self.basepath+f'{self.name}review.csv' , index= False)\n",
    "        df = pd.read_csv(self.basepath+f'{self.name}review.csv')\n",
    "        df = df.dropna()\n",
    "        df = df.drop_duplicates()\n",
    "        df = df.reset_index(drop=True)\n",
    "        return df\n",
    "            \n",
    "    def crawl_review(self):\n",
    "        res = requests.get(self.url)\n",
    "        if res.status_code == 200:\n",
    "            soup=BeautifulSoup(res.text,'lxml')\n",
    "            total = soup.select('div.score_total > strong > em')[0].text\n",
    "            pages = int(total.replace(',','')[:-1]) #17,921 > 17921로 변환 후 캐스팅\n",
    "            print()\n",
    "            print(f\"{pages}개의 페이지에서 {self.name} 영화 리뷰를 모으고 있습니다.\")\n",
    "            time.sleep(1)\n",
    "        comments = []\n",
    "        stars = []\n",
    "        for page in tqdm(range(1,pages+1)):\n",
    "            url = self.url.format(page)\n",
    "            res = requests.get(url)\n",
    "            if res.status_code == 200:\n",
    "                soup=BeautifulSoup(res.text,'lxml')\n",
    "                star =  soup.select('div.score_result > ul > li > div.star_score > em')\n",
    "                tds = soup.select('div.score_result > ul > li > div.score_reple > p > span')\n",
    "                for st in star:\n",
    "                    stars.append(int(st.text))\n",
    "                for cmt in tds:\n",
    "                    if cmt.text != '관람객' and cmt.text !='스포일러가 포함된 감상평입니다. 감상평 보기':\n",
    "                        comments.append(no_space(cmt.text))\n",
    "                if(len(comments) != len(stars)):\n",
    "                    print(url)\n",
    "                    break \n",
    "        assert len(comments) == len(stars)\n",
    "        self.data = self.save_and_load(pd.DataFrame({\"Review\":comments, \"Rank\":stars}))\n",
    "       \n",
    "    def make_wordlist(self,reviews): #reviews = \" \".join(data['Review'].tolist())\n",
    "        print(\"리뷰들을 모아 분석하는 중입니다.....\")\n",
    "        #정규표현식 적용\n",
    "        print(\"데이터 정제 중....\")\n",
    "        words = extract_word(reviews)\n",
    "        #형태소 추출\n",
    "        print(\"형태소 추출 중....\")\n",
    "        okt = Okt()\n",
    "        words = okt.morphs(words,stem=True)\n",
    "        #한글자 제거\n",
    "        print(\"한글자 제거 중....\")\n",
    "        words = [x for x in words if len(x)>1 or x =='닉']\n",
    "        #불용어 제거\n",
    "        print(\"불용어 제거 중....\")\n",
    "        words = [x for x in words if x not in self.stopwords]\n",
    "        words = [x if (x!='재밌다' and x!='재미잇다' and x!= '재밋다') else '재미있다' for x in words]\n",
    "        #최소횟수 미만 제거\n",
    "        print(\"의미있는 단어리스트 생성 중....\")\n",
    "        time.sleep(1)\n",
    "        minimum_count = 3\n",
    "        final = []\n",
    "        for i in tqdm(range(len(words))):\n",
    "            tmp = words[i]\n",
    "            if words.count(tmp) >= minimum_count:\n",
    "                final.append(tmp)\n",
    "        self.word_list = set(final) #조건을 만족하는 단어 리스트\n",
    "\n",
    "    def preprocess(self,text):\n",
    "        text = extract_word(text)\n",
    "        okt = Okt()\n",
    "        text = okt.morphs(text, stem = True)\n",
    "        text = [x for x in text if x in self.word_list]\n",
    "        return text\n",
    "\n",
    "    def tf_idf(self):\n",
    "        vectorizer = CountVectorizer(tokenizer = lambda x: self.preprocess(x))\n",
    "        data_features = vectorizer.fit_transform(self.data['Review'].tolist())\n",
    "        tfidf_vectorizer = TfidfTransformer()\n",
    "        tf_idf_vect = tfidf_vectorizer.fit_transform(data_features)\n",
    "        self.vocab = {v: k for k, v in vectorizer.vocabulary_.items()}\n",
    "        print(\"벡터 변환완료\")\n",
    "        return tf_idf_vect\n",
    "        \n",
    "    def ready_data(self):\n",
    "        self.search()\n",
    "        self.crawl_review()\n",
    "        time.sleep(0.5)\n",
    "        print(\"리뷰를 모두 불러왔습니다.\")\n",
    "        \n",
    "    def clean_data(self):\n",
    "        print(\"리뷰데이터 전처리를 시작합니다.\")\n",
    "        self.make_wordlist(\" \".join(self.data['Review'].tolist()))\n",
    "        time.sleep(0.5)\n",
    "        print(\"전처리 작업을 완료하였습니다.\")\n",
    "        \n",
    "    def extract(self):\n",
    "        print(\"데이터를 학습하고 있습니다.\")\n",
    "        feeling = [0 if rank in range(0,7) else 1 for rank in self.data['Rank']]\n",
    "        self.data['P/N'] = feeling\n",
    "        print(\"데이터 라벨링 완료\")\n",
    "        min_cnt = min(self.data['P/N'].value_counts().tolist())\n",
    "        positive_random_idx = self.data[self.data['P/N']==1].sample(min_cnt, random_state=40).index.tolist()\n",
    "        negative_random_idx = self.data[self.data['P/N']==0].sample(min_cnt, random_state=40).index.tolist()\n",
    "        random_idx = positive_random_idx + negative_random_idx\n",
    "        random.shuffle(random_idx)\n",
    "        print(\"데이터 셔플 완료\")\n",
    "        tf_idf_vect = self.tf_idf()\n",
    "        x = tf_idf_vect[random_idx]\n",
    "        y = self.data['P/N'][random_idx]\n",
    "        model = LogisticRegression()\n",
    "        model.fit(x, y)\n",
    "        print(\"데이터 학습 완료\")\n",
    "        y_pred = model.predict(x)\n",
    "        pos_index = sorted(((value, index) for index, value in enumerate(model.coef_[0])), reverse = True)\n",
    "        neg_index = sorted(((value, index) for index, value in enumerate(model.coef_[0])), reverse = False)\n",
    "        print(\"키워드 추출 완료\")\n",
    "        return pos_index, neg_index\n",
    "    \n",
    "    def visualize(self, pos, neg):\n",
    "        #폰트설정(한글 깨짐)\n",
    "        import math\n",
    "        from matplotlib import font_manager, rc\n",
    "        font_name = font_manager.FontProperties(fname=\"font/NanumSquare.ttf\").get_name()\n",
    "        rc('font', family=font_name)\n",
    "        import matplotlib\n",
    "        matplotlib.rcParams['axes.unicode_minus'] = False\n",
    "        \n",
    "        #긍부정 비율 시각화\n",
    "        ratio = [self.data['P/N'].tolist().count(x) for x in [1,0]]\n",
    "        labels = ['Positive', 'Negative']\n",
    "        colors = ['#ff9999', '#8fd9b6']\n",
    "        wedgeprops={'width': 0.2, 'edgecolor': 'w', 'linewidth': 5}\n",
    "        plt.pie(ratio, labels=labels, autopct='%.1f%%', startangle=260, counterclock=False, colors=colors, wedgeprops=wedgeprops)\n",
    "        plt.title(f\"영화 {self.name} 리뷰 비중\")\n",
    "        plt.show()\n",
    "        \n",
    "        \n",
    "        #주요 키워드 시각화\n",
    "        pos_label = [self.vocab[coef[1]] for coef in pos[:5]]\n",
    "        pos_value = [coef[0] for coef in pos[:5]]\n",
    "        neg_label = [self.vocab[coef[1]] for coef in neg[:5]]\n",
    "        neg_value = [coef[0] for coef in neg[:5]]\n",
    "        x = np.arange(5)\n",
    "\n",
    "        graphlimit = round(max(pos_value+neg_value))+1\n",
    "        plt.subplot(1,2,1)\n",
    "        bar1 = plt.barh(neg_label,neg_value, color = \"#8fd9b6\")\n",
    "\n",
    "        plt.xlim([-graphlimit,0]) \n",
    "        ax = plt.gca()\n",
    "        ax.axes.yaxis.set_visible(False)\n",
    "        label_ind = 0\n",
    "        for rect in bar1:\n",
    "            witdh = rect.get_width()\n",
    "            posx = witdh*1.05\n",
    "            posy = rect.get_y()+rect.get_height()*0.5\n",
    "            plt.text(posx, posy, neg_label[label_ind], rotation=0, ha='right', va='center')\n",
    "            label_ind = label_ind+1\n",
    "\n",
    "        plt.subplot(1,2,2)\n",
    "        bar2 = plt.barh(pos_label, pos_value, color=\"#ff9999\")\n",
    "        plt.xlim([0,graphlimit]) \n",
    "        ax = plt.gca()\n",
    "        ax.axes.yaxis.set_visible(False)\n",
    "        label_ind = 0\n",
    "        for rect in bar2:\n",
    "            witdh = rect.get_width()\n",
    "            posx = witdh*1.05\n",
    "            posy = rect.get_y()+rect.get_height()*0.5\n",
    "            plt.text(posx, posy, pos_label[label_ind], rotation=0, ha='left', va='center')\n",
    "            label_ind = label_ind+1\n",
    "\n",
    "\n",
    "        plt.suptitle(f'{self.name} 연관어 BEST 5',fontweight =\"bold\")\n",
    "        #plt.subplots_adjust(left=0, bottom=0,  right=1.5, top=0.7, wspace=0.0, hspace=0)\n",
    "        plt.tight_layout()"
   ]
  },
  {
   "cell_type": "code",
   "execution_count": 122,
   "id": "15f1fe0d",
   "metadata": {
    "scrolled": true
   },
   "outputs": [
    {
     "name": "stdout",
     "output_type": "stream",
     "text": [
      "데이터를 저장하고 불러올 기본 경로를 입력해주세요   data/\n",
      "불용어셋을 가져오고 있습니다.\n",
      "어떤 영화를 검색하시겠습니까? 캣츠와 독스\n",
      "==============1번 영화===============\n",
      "\n",
      "캣츠 앤 독스 2 (Cats & Dogs: The Revenge Of Kitty Galore)\n",
      "\n",
      "7.58 (참여 248명)\n",
      "\n",
      "액션, 코미디, 가족| 미국, 오스트레일리아|82분 |2010\n",
      "감독 : 브래드 페이튼|출연 : 크리스 오도넬, 베트 미들러, 닉 놀테, 제임스 마스던, 크리스티나 애플게이트, 캣 윌리엄스, 닐 패트릭 해리스, 션 헤이즈, 월리스 쇼운, 로저 무어, 조 판톨리아노, 마이클 클락 던칸\n",
      "\n",
      "\n",
      "==============2번 영화===============\n",
      "\n",
      "캣츠 앤 독스 (Cats & Dogs)\n",
      "\n",
      "7.83 (참여 184명)\n",
      "\n",
      "액션, 모험, 코미디, 가족| 미국, 오스트레일리아|85분 |2001\n",
      "감독 : 로렌스 구터먼|출연 : 알렉 볼드윈, 마이클 클락 던칸, 션 헤이즈, 존 로비츠, 토비 맥과이어, 조 판톨리아노, 수잔 서랜든\n",
      "\n",
      "\n",
      "==============3번 영화===============\n",
      "\n",
      "오브 캣츠, 독스, 팜 애니멀즈 앤 사시미 (Of Cats, Dogs, Farm Animals and Sashimi)\n",
      "다큐멘터리| 필리핀|77분 |2015\n",
      "감독 : 페리 다이즌\n",
      "\n",
      "몇 번 영화를 선택하시겠습니까? (숫자만 입력)  : 1\n",
      "\n",
      "24개의 페이지에서 캣츠와 독스 영화 리뷰를 모으고 있습니다.\n"
     ]
    },
    {
     "name": "stderr",
     "output_type": "stream",
     "text": [
      "100%|██████████████████████████████████████████████████████████████████████████████████| 24/24 [00:02<00:00,  8.96it/s]\n"
     ]
    },
    {
     "name": "stdout",
     "output_type": "stream",
     "text": [
      "리뷰를 모두 불러왔습니다.\n"
     ]
    }
   ],
   "source": [
    "cats = Review_keyword(minimum_count = 3)\n",
    "cats.ready_data()\n"
   ]
  },
  {
   "cell_type": "code",
   "execution_count": 112,
   "id": "861cda2b",
   "metadata": {},
   "outputs": [
    {
     "name": "stdout",
     "output_type": "stream",
     "text": [
      "리뷰데이터 전처리를 시작합니다.\n",
      "리뷰들을 모아 분석하는 중입니다.....\n",
      "데이터 정제 중....\n",
      "형태소 추출 중....\n",
      "한글자 제거 중....\n",
      "불용어 제거 중....\n",
      "의미있는 단어리스트 생성 중....\n"
     ]
    },
    {
     "name": "stderr",
     "output_type": "stream",
     "text": [
      "100%|█████████████████████████████████████████████████████████████████████████████| 723/723 [00:00<00:00, 42359.61it/s]\n"
     ]
    },
    {
     "name": "stdout",
     "output_type": "stream",
     "text": [
      "전처리 작업을 완료하였습니다.\n",
      "데이터를 학습하고 있습니다.\n",
      "데이터 라벨링 완료\n",
      "데이터 셔플 완료\n",
      "벡터 변환완료\n",
      "데이터 학습 완료\n",
      "키워드 추출 완료\n"
     ]
    }
   ],
   "source": [
    "cats.clean_data()\n",
    "pos,neg = cats.extract()"
   ]
  },
  {
   "cell_type": "code",
   "execution_count": 113,
   "id": "bc0c02bd",
   "metadata": {},
   "outputs": [
    {
     "data": {
      "image/png": "[encoded data removed]",
      "text/plain": [
       "<Figure size 432x288 with 1 Axes>"
      ]
     },
     "metadata": {},
     "output_type": "display_data"
    },
    {
     "data": {
      "image/png": "[encoded data removed]",
      "text/plain": [
       "<Figure size 432x288 with 2 Axes>"
      ]
     },
     "metadata": {
      "needs_background": "light"
     },
     "output_type": "display_data"
    }
   ],
   "source": [
    "cats.visualize(pos,neg)"
   ]
  },
  {
   "cell_type": "code",
   "execution_count": 116,
   "id": "20846173",
   "metadata": {},
   "outputs": [
    {
     "name": "stdout",
     "output_type": "stream",
     "text": [
      "데이터를 저장하고 불러올 기본 경로를 입력해주세요   data/\n",
      "불용어셋을 가져오고 있습니다.\n",
      "어떤 영화를 검색하시겠습니까? 아이언맨2\n",
      "==============1번 영화===============\n",
      "\n",
      "아이언맨 2 (Iron Man 2)\n",
      "\n",
      "7.37 (참여 6573명)\n",
      "\n",
      "SF, 모험, 액션| 미국|125분 |2010\n",
      "감독 : 존 파브로|출연 : 로버트 다우니 주니어, 기네스 팰트로, 돈 치들, 스칼릿 조핸슨, 미키 루크\n",
      "\n",
      "\n",
      "몇 번 영화를 선택하시겠습니까? (숫자만 입력)  : 1\n",
      "\n",
      "650개의 페이지에서 아이언맨2 영화 리뷰를 모으고 있습니다.\n"
     ]
    },
    {
     "name": "stderr",
     "output_type": "stream",
     "text": [
      "100%|████████████████████████████████████████████████████████████████████████████████| 650/650 [01:20<00:00,  8.05it/s]\n"
     ]
    },
    {
     "name": "stdout",
     "output_type": "stream",
     "text": [
      "리뷰를 모두 불러왔습니다.\n",
      "리뷰데이터 전처리를 시작합니다.\n",
      "리뷰들을 모아 분석하는 중입니다.....\n",
      "데이터 정제 중....\n",
      "형태소 추출 중....\n",
      "한글자 제거 중....\n",
      "불용어 제거 중....\n",
      "의미있는 단어리스트 생성 중....\n"
     ]
    },
    {
     "name": "stderr",
     "output_type": "stream",
     "text": [
      "100%|██████████████████████████████████████████████████████████████████████████| 26828/26828 [00:21<00:00, 1256.95it/s]\n"
     ]
    },
    {
     "name": "stdout",
     "output_type": "stream",
     "text": [
      "전처리 작업을 완료하였습니다.\n",
      "데이터를 학습하고 있습니다.\n",
      "데이터 라벨링 완료\n",
      "데이터 셔플 완료\n",
      "벡터 변환완료\n",
      "데이터 학습 완료\n",
      "키워드 추출 완료\n"
     ]
    }
   ],
   "source": [
    "iron = Review_keyword(minimum_count = 3)\n",
    "iron.ready_data()\n",
    "iron.clean_data()\n",
    "pos,neg = iron.extract()"
   ]
  },
  {
   "cell_type": "code",
   "execution_count": 117,
   "id": "457c32a6",
   "metadata": {},
   "outputs": [
    {
     "data": {
      "image/png": "[encoded data removed]",
      "text/plain": [
       "<Figure size 432x288 with 1 Axes>"
      ]
     },
     "metadata": {},
     "output_type": "display_data"
    },
    {
     "data": {
      "image/png": "[encoded data removed]",
      "text/plain": [
       "<Figure size 432x288 with 2 Axes>"
      ]
     },
     "metadata": {
      "needs_background": "light"
     },
     "output_type": "display_data"
    }
   ],
   "source": [
    "iron.visualize(pos,neg)"
   ]
  },
  {
   "cell_type": "code",
   "execution_count": 125,
   "id": "4b5133a1",
   "metadata": {},
   "outputs": [
    {
     "name": "stdout",
     "output_type": "stream",
     "text": [
      "데이터를 저장하고 불러올 기본 경로를 입력해주세요   data/\n",
      "불용어셋을 가져오고 있습니다.\n",
      "어떤 영화를 검색하시겠습니까? 아이언맨2\n",
      "==============1번 영화===============\n",
      "\n",
      "아이언맨 2 (Iron Man 2)\n",
      "\n",
      "7.37 (참여 6573명)\n",
      "\n",
      "SF, 모험, 액션| 미국|125분 |2010\n",
      "감독 : 존 파브로|출연 : 로버트 다우니 주니어, 기네스 팰트로, 돈 치들, 스칼릿 조핸슨, 미키 루크\n",
      "\n",
      "\n",
      "몇 번 영화를 선택하시겠습니까? (숫자만 입력)  : 1\n",
      "\n",
      "650개의 페이지에서 아이언맨2 영화 리뷰를 모으고 있습니다.\n"
     ]
    },
    {
     "name": "stderr",
     "output_type": "stream",
     "text": [
      "100%|████████████████████████████████████████████████████████████████████████████████| 650/650 [01:19<00:00,  8.18it/s]\n"
     ]
    },
    {
     "name": "stdout",
     "output_type": "stream",
     "text": [
      "리뷰를 모두 불러왔습니다.\n",
      "리뷰데이터 전처리를 시작합니다.\n",
      "리뷰들을 모아 분석하는 중입니다.....\n",
      "데이터 정제 중....\n",
      "형태소 추출 중....\n",
      "한글자 제거 중....\n",
      "불용어 제거 중....\n",
      "의미있는 단어리스트 생성 중....\n"
     ]
    },
    {
     "name": "stderr",
     "output_type": "stream",
     "text": [
      "100%|██████████████████████████████████████████████████████████████████████████| 26828/26828 [00:23<00:00, 1164.21it/s]\n"
     ]
    },
    {
     "name": "stdout",
     "output_type": "stream",
     "text": [
      "전처리 작업을 완료하였습니다.\n",
      "데이터를 학습하고 있습니다.\n",
      "데이터 라벨링 완료\n",
      "데이터 셔플 완료\n",
      "벡터 변환완료\n",
      "데이터 학습 완료\n",
      "키워드 추출 완료\n"
     ]
    }
   ],
   "source": [
    "iron = Review_keyword(minimum_count = 3)\n",
    "iron.ready_data()\n",
    "\n",
    "iron.clean_data()\n",
    "pos,neg = iron.extract()"
   ]
  },
  {
   "cell_type": "code",
   "execution_count": 126,
   "id": "9e14c75d",
   "metadata": {},
   "outputs": [
    {
     "data": {
      "image/png": "[encoded data removed]",
      "text/plain": [
       "<Figure size 432x288 with 1 Axes>"
      ]
     },
     "metadata": {},
     "output_type": "display_data"
    },
    {
     "data": {
      "image/png": "[encoded data removed]",
      "text/plain": [
       "<Figure size 432x288 with 2 Axes>"
      ]
     },
     "metadata": {
      "needs_background": "light"
     },
     "output_type": "display_data"
    }
   ],
   "source": [
    "iron.visualize(pos,neg)"
   ]
  },
  {
   "cell_type": "code",
   "execution_count": 118,
   "id": "b7fcd499",
   "metadata": {},
   "outputs": [
    {
     "name": "stdout",
     "output_type": "stream",
     "text": [
      "데이터를 저장하고 불러올 기본 경로를 입력해주세요   data/\n",
      "불용어셋을 가져오고 있습니다.\n",
      "어떤 영화를 검색하시겠습니까? 살아있다\n",
      "==============1번 영화===============\n",
      "\n",
      "#살아있다 (#ALIVE)\n",
      "\n",
      "4.13 (참여 18617명)\n",
      "\n",
      "드라마| 한국|98분 |2020\n",
      "감독 : 조일형|출연 : 유아인, 박신혜\n",
      "\n",
      "\n",
      "==============2번 영화===============\n",
      "\n",
      "박물관이 살아있다 : 비밀의 무덤 (Night at the Museum: Secret of the Tomb)\n",
      "\n",
      "8.06 (참여 2235명)\n",
      "\n",
      "모험, 코미디, 가족, 판타지| 미국, 영국|98분 |2014\n",
      "감독 : 숀 레비|출연 : 벤 스틸러, 로빈 윌리엄스, 댄 스티븐스, 레벨 윌슨, 오웬 윌슨, 벤 킹슬리, 딕 반 다이크, 미키 루니, 스티브 쿠건\n",
      "\n",
      "\n",
      "==============3번 영화===============\n",
      "\n",
      "박물관이 살아있다! (Night At The Museum)\n",
      "\n",
      "8.01 (참여 4724명)\n",
      "\n",
      "액션, 모험, 코미디, 가족, 판타지| 미국, 영국|108분 |2006\n",
      "감독 : 숀 레비|출연 : 벤 스틸러\n",
      "\n",
      "\n",
      "==============4번 영화===============\n",
      "\n",
      "박물관이 살아있다 2 (Night At The Museum 2: Battle Of The Smithsonian)\n",
      "\n",
      "7.46 (참여 2821명)\n",
      "\n",
      "액션, 모험, 코미디, 가족, 판타지| 미국|104분 |2009\n",
      "감독 : 숀 레비|출연 : 벤 스틸러, 에이미 아담스, 오웬 윌슨, 행크 아자리아, 로빈 윌리엄스\n",
      "\n",
      "\n",
      "==============5번 영화===============\n",
      "\n",
      "장난감이 살아있다 (Metegol)\n",
      "\n",
      "7.50 (참여 386명)\n",
      "\n",
      "애니메이션, 모험, 가족| 아르헨티나, 스페인|91분 |2016\n",
      "감독 : 후안 호세 캄파넬라|출연 : 니콜라스 홀트, 아리아나 그란데, 케이티 홈즈, 루퍼트 그린트, 남도형, 김채하, 김태균, 정찬우, 이현\n",
      "\n",
      "\n",
      "몇 번 영화를 선택하시겠습니까? (숫자만 입력)  : 1\n",
      "\n",
      "1856개의 페이지에서 살아있다 영화 리뷰를 모으고 있습니다.\n"
     ]
    },
    {
     "name": "stderr",
     "output_type": "stream",
     "text": [
      "100%|██████████████████████████████████████████████████████████████████████████████| 1856/1856 [04:30<00:00,  6.86it/s]\n"
     ]
    },
    {
     "name": "stdout",
     "output_type": "stream",
     "text": [
      "리뷰를 모두 불러왔습니다.\n",
      "리뷰데이터 전처리를 시작합니다.\n",
      "리뷰들을 모아 분석하는 중입니다.....\n",
      "데이터 정제 중....\n",
      "형태소 추출 중....\n",
      "한글자 제거 중....\n",
      "불용어 제거 중....\n",
      "의미있는 단어리스트 생성 중....\n"
     ]
    },
    {
     "name": "stderr",
     "output_type": "stream",
     "text": [
      "100%|█████████████████████████████████████████████████████████████████████████| 135749/135749 [11:06<00:00, 203.60it/s]\n"
     ]
    },
    {
     "name": "stdout",
     "output_type": "stream",
     "text": [
      "전처리 작업을 완료하였습니다.\n",
      "데이터를 학습하고 있습니다.\n",
      "데이터 라벨링 완료\n",
      "데이터 셔플 완료\n",
      "벡터 변환완료\n",
      "데이터 학습 완료\n",
      "키워드 추출 완료\n"
     ]
    }
   ],
   "source": [
    "alive = Review_keyword(minimum_count = 3)\n",
    "alive.ready_data()\n",
    "\n",
    "alive.clean_data()\n",
    "pos,neg = alive.extract()"
   ]
  },
  {
   "cell_type": "code",
   "execution_count": 120,
   "id": "83eb698f",
   "metadata": {},
   "outputs": [
    {
     "data": {
      "image/png": "[encoded data removed]",
      "text/plain": [
       "<Figure size 432x288 with 1 Axes>"
      ]
     },
     "metadata": {},
     "output_type": "display_data"
    },
    {
     "data": {
      "image/png": "[encoded data removed]",
      "text/plain": [
       "<Figure size 432x288 with 2 Axes>"
      ]
     },
     "metadata": {
      "needs_background": "light"
     },
     "output_type": "display_data"
    }
   ],
   "source": [
    "alive.visualize(pos,neg)"
   ]
  }
 ],
 "metadata": {
  "kernelspec": {
   "display_name": "Python 3 (ipykernel)",
   "language": "python",
   "name": "python3"
  },
  "language_info": {
   "codemirror_mode": {
    "name": "ipython",
    "version": 3
   },
   "file_extension": ".py",
   "mimetype": "text/x-python",
   "name": "python",
   "nbconvert_exporter": "python",
   "pygments_lexer": "ipython3",
   "version": "3.7.10"
  }
 },
 "nbformat": 4,
 "nbformat_minor": 5
}
