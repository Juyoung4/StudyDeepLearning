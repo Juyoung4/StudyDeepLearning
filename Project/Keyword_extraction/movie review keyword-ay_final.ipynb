{
 "cells": [
  {
   "cell_type": "markdown",
   "id": "d1247079",
   "metadata": {},
   "source": [
    "# 기본 패키지 임포트"
   ]
  },
  {
   "cell_type": "code",
   "execution_count": 4,
   "id": "ce16c13b",
   "metadata": {},
   "outputs": [],
   "source": [
    "import numpy as np\n",
    "import pandas as pd\n",
    "import re\n",
    "import json\n",
    "from konlpy.tag import Okt\n",
    "from tensorflow.python.keras.preprocessing.sequence import pad_sequences\n",
    "from tensorflow.python.keras.preprocessing.text import Tokenizer\n",
    "from sklearn.feature_extraction.text import TfidfTransformer\n",
    "from sklearn.feature_extraction.text import CountVectorizer\n",
    "import requests\n",
    "import time\n",
    "from tqdm import tqdm\n",
    "from bs4 import BeautifulSoup\n",
    "import matplotlib.pyplot as plt\n",
    "import seaborn as sns\n",
    "import random\n",
    "from sklearn.linear_model import LogisticRegression\n",
    "from sklearn.metrics import accuracy_score, precision_score, recall_score, f1_score\n",
    "from sklearn.metrics import confusion_matrix\n",
    "import warnings\n",
    "warnings.filterwarnings('ignore')\n",
    "%matplotlib inline\n"
   ]
  },
  {
   "cell_type": "markdown",
   "id": "fcd39854",
   "metadata": {},
   "source": [
    "텍스트모델"
   ]
  },
  {
   "cell_type": "code",
   "execution_count": 5,
   "id": "5d3205da",
   "metadata": {},
   "outputs": [],
   "source": [
    "from collections import OrderedDict\n",
    "import numpy as np\n",
    "import spacy\n",
    "\n",
    "class TextRank4Keyword():\n",
    "    \n",
    "    def __init__(self):\n",
    "        self.d = 0.85 \n",
    "        self.min_diff = 1e-5 \n",
    "        self.steps = 10 \n",
    "        self.node_weight = None \n",
    "\n",
    "    def get_vocab(self, sentences):\n",
    "        \"\"\"Get all tokens\"\"\"\n",
    "        vocab = OrderedDict()\n",
    "        i = 0\n",
    "        for sentence in sentences:\n",
    "            for word in sentence:\n",
    "                if word not in vocab:\n",
    "                    vocab[word] = i\n",
    "                    i += 1\n",
    "        return vocab\n",
    "    \n",
    "    def get_token_pairs(self, window_size, sentences):\n",
    "        \"\"\"Build token_pairs from windows in sentences\"\"\"\n",
    "        token_pairs = list()\n",
    "        for sentence in sentences:\n",
    "            for i, word in enumerate(sentence):\n",
    "                for j in range(i+1, i+window_size):\n",
    "                    if j >= len(sentence):\n",
    "                        break\n",
    "                    pair = (word, sentence[j])\n",
    "                    if pair not in token_pairs:\n",
    "                        token_pairs.append(pair)\n",
    "        return token_pairs\n",
    "        \n",
    "    def symmetrize(self, a):\n",
    "        return a + a.T - np.diag(a.diagonal())\n",
    "    \n",
    "    def get_matrix(self, vocab, token_pairs):\n",
    "        \"\"\"Get normalized matrix\"\"\"\n",
    "        # Build matrix\n",
    "        vocab_size = len(vocab)\n",
    "        g = np.zeros((vocab_size, vocab_size), dtype='float')\n",
    "        for word1, word2 in token_pairs:\n",
    "            i, j = vocab[word1], vocab[word2]\n",
    "            g[i][j] = 1\n",
    "            \n",
    "        # Get Symmeric matrix\n",
    "        g = self.symmetrize(g)\n",
    "        \n",
    "        # Normalize matrix by column\n",
    "        norm = np.sum(g, axis=0)\n",
    "        g_norm = np.divide(g, norm, where=norm!=0) # this is ignore the 0 element in norm\n",
    "        \n",
    "        return g_norm\n",
    "\n",
    "    \n",
    "    def get_keywords(self, number=10):\n",
    "        \"\"\"Print top number keywords\"\"\"\n",
    "        node_weight = OrderedDict(sorted(self.node_weight.items(), key=lambda t: t[1], reverse=True))\n",
    "        for i, (key, value) in enumerate(node_weight.items()):\n",
    "            print(key + ' - ' + str(value))\n",
    "            if i > number:\n",
    "                break\n",
    "        \n",
    "        \n",
    "    #각 단어에 대해 가중치를 구하는 함수.\n",
    "    def analyze(self, sentences, \n",
    "                candidate_pos=['NOUN', 'PROPN'], \n",
    "                window_size=4, lower=False):\n",
    "\n",
    "        vocab = self.get_vocab(sentences)\n",
    "        \n",
    "        token_pairs = self.get_token_pairs(window_size, sentences)\n",
    "        \n",
    "        g = self.get_matrix(vocab, token_pairs)\n",
    "        \n",
    "        pr = np.array([1] * len(vocab))\n",
    "        \n",
    "        previous_pr = 0\n",
    "        \n",
    "        for epoch in range(self.steps):\n",
    "            pr = (1-self.d) + self.d * np.dot(g, pr)\n",
    "            if abs(previous_pr - sum(pr))  < self.min_diff:\n",
    "                break\n",
    "            else:\n",
    "                previous_pr = sum(pr)\n",
    "\n",
    "        node_weight = dict()\n",
    "        for word, index in vocab.items():\n",
    "            node_weight[word] = pr[index]\n",
    "        \n",
    "        self.node_weight = node_weight"
   ]
  },
  {
   "cell_type": "markdown",
   "id": "37199613",
   "metadata": {},
   "source": [
    "# 키워드 추출 클래스"
   ]
  },
  {
   "cell_type": "code",
   "execution_count": 104,
   "id": "14bb9dde",
   "metadata": {},
   "outputs": [],
   "source": [
    "def no_space(text):\n",
    "    text1 = re.sub('&nbsp;|&nbsp;|\\n|\\t|\\r', '', text)\n",
    "    text2 = re.sub('\\n\\n','', text1)\n",
    "    return text2\n",
    "\n",
    "def extract_word(text):\n",
    "    hangul = re.compile('[^가-힣]') \n",
    "    result = hangul.sub(' ', text) \n",
    "    return result\n",
    "\n",
    "def load_stopwords(basepath):\n",
    "    print(\"불용어셋을 가져오고 있습니다.\")\n",
    "    with open(basepath+'stopwords.txt', 'r') as f:\n",
    "        list_file = f.readlines()\n",
    "    return list_file[0].split(\",\")\n",
    "\n",
    "\n",
    "class Review_keyword:\n",
    "    def __init__(self, minimum_count:int)->None:\n",
    "        self.basepath = input(\"데이터를 저장하고 불러올 기본 경로를 입력해주세요   \")\n",
    "        self.minimum_count = minimum_count\n",
    "        self.name = None\n",
    "        self.url = None\n",
    "        self.data = None\n",
    "        self.stopwords = load_stopwords(self.basepath)\n",
    "        self.vocab = None\n",
    "        self.model = None\n",
    "        \n",
    "    def search(self) :\n",
    "        self.name= input(\"어떤 영화를 검색하시겠습니까? \")\n",
    "        url = f'https://movie.naver.com/movie/search/result.naver?query={self.name}&section=all&ie=utf8'        \n",
    "        res = requests.get(url)\n",
    "        index = 1\n",
    "        user_dic = {}\n",
    "        if res.status_code == 200:\n",
    "            soup=BeautifulSoup(res.text,'lxml')\n",
    "            for href in soup.find(\"ul\", class_=\"search_list_1\").find_all(\"li\"): \n",
    "                print(f\"=============={index}번 영화===============\")\n",
    "                print(href.dl.text[:-2])\n",
    "                user_dic[index] = int(href.dl.dt.a['href'][30:])\n",
    "                index = index+1\n",
    "        movie_num = int(input(\"몇 번 영화를 선택하시겠습니까? (숫자만 입력)  : \"))\n",
    "        code = user_dic[movie_num]\n",
    "        base_url = f'https://movie.naver.com/movie/bi/mi/pointWriteFormList.nhn?code={code}&type=after&onlyActualPointYn=N&onlySpoilerPointYn=N&order=sympathyScore&page='\n",
    "        self.url = base_url+'{}'\n",
    "        \n",
    "    def save_and_load(self,dataframe):\n",
    "        dataframe.to_csv(self.basepath+f'{self.name}review.csv' , index= False)\n",
    "        df = pd.read_csv(self.basepath+f'{self.name}review.csv')\n",
    "        df = df.dropna()\n",
    "        df = df.drop_duplicates()\n",
    "        df = df.reset_index(drop=True)\n",
    "        return df\n",
    "            \n",
    "    def crawl_review(self):\n",
    "        res = requests.get(self.url)\n",
    "        if res.status_code == 200:\n",
    "            soup=BeautifulSoup(res.text,'lxml')\n",
    "            total = soup.select('div.score_total > strong > em')[0].text\n",
    "            pages = int(total.replace(',','')[:-1]) #17,921 > 17921로 변환 후 캐스팅\n",
    "            print()\n",
    "            print(f\"{pages}개의 페이지에서 {self.name} 영화 리뷰를 모으고 있습니다.\")\n",
    "            time.sleep(1)\n",
    "        comments = []\n",
    "        stars = []\n",
    "        for page in tqdm(range(1,pages+1)):\n",
    "            url = self.url.format(page)\n",
    "            res = requests.get(url)\n",
    "            if res.status_code == 200:\n",
    "                soup=BeautifulSoup(res.text,'lxml')\n",
    "                star =  soup.select('div.score_result > ul > li > div.star_score > em')\n",
    "                tds = soup.select('div.score_result > ul > li > div.score_reple > p > span')\n",
    "                for st in star:\n",
    "                    stars.append(int(st.text))\n",
    "                for cmt in tds:\n",
    "                    if cmt.text != '관람객' and cmt.text !='스포일러가 포함된 감상평입니다. 감상평 보기':\n",
    "                        comments.append(no_space(cmt.text))\n",
    "                if(len(comments) != len(stars)):\n",
    "                    print(url)\n",
    "                    break \n",
    "        assert len(comments) == len(stars)\n",
    "        self.data = self.save_and_load(pd.DataFrame({\"Review\":comments, \"Rank\":stars}))\n",
    "       \n",
    "    def load_data(self, filename):\n",
    "        filepath = self.basepath+filename\n",
    "        df = pd.read_csv(filepath)\n",
    "        df = df.dropna()\n",
    "        df = df.drop_duplicates()\n",
    "        df = df.reset_index(drop=True)\n",
    "        self.name = filename[:-10]\n",
    "        self.data =df\n",
    "                \n",
    "        \n",
    "    \n",
    "    def make_wordlist(self,reviews): #reviews => data['Review'].tolist()\n",
    "        print(\"리뷰들을 모아 분석하는 중입니다.....\")\n",
    "        #정규표현식 적용\n",
    "        print(\"데이터 정제 중....\")\n",
    "        reviews = [extract_word(review) for review in reviews]\n",
    "        #형태소 추출\n",
    "        print(\"형태소 추출 중....\")\n",
    "        okt = Okt()\n",
    "        reviews = [okt.morphs(sent,stem=True) for sent in reviews]\n",
    "        #한글자 제거\n",
    "        print(\"한글자 제거 중....\")\n",
    "        reviews = [[x for x in sent if len(x)>1 or x==\"닉\"] for sent in reviews ]\n",
    "        #불용어 제거\n",
    "        print(\"불용어 제거 중....\")\n",
    "        reviews = [[x for x in sent if x not in self.stopwords] for sent in reviews]\n",
    "        reviews = [[x if (x!='재밌다' and x!='재미잇다' and x!= '재밋다') else '재미있다' for x in sent] for sent in reviews]\n",
    "        word_list = list(set([x for sent in reviews for x in sent ]))\n",
    "        #최소횟수 미만 제거\n",
    "        print(\"의미있는 단어리스트 생성 중....\")\n",
    "        time.sleep(1)\n",
    "        final = []\n",
    "        for i in tqdm(range(len(reviews))):\n",
    "            tmp = reviews[i]\n",
    "            saved = []\n",
    "            for word in tmp:\n",
    "                if word_list.count(word) >= self.minimum_count:\n",
    "                    saved.append(word)\n",
    "            final.append(saved)\n",
    "        return final\n",
    "        \n",
    "    def ready_data(self):\n",
    "        self.search()\n",
    "        self.crawl_review()\n",
    "        time.sleep(0.5)\n",
    "        print(\"리뷰를 모두 불러왔습니다.\")\n",
    "        \n",
    "    def extract(self):\n",
    "        print(\"데이터를 학습하고 있습니다.\")\n",
    "        feeling = [0 if rank in range(0,7) else 1 for rank in self.data['Rank']]\n",
    "        self.data['P/N'] = feeling\n",
    "        print(\"데이터 라벨링 완료\")\n",
    "        pdata=self.data.get(self.data['P/N']==1)\n",
    "        ndata=self.data.get(self.data['P/N']==0)\n",
    "        \n",
    "        print(\"긍정 데이터 학습 중\")\n",
    "        cleaned_review = self.make_wordlist(pdata['Review'].tolist())\n",
    "        tr4w2 = TextRank4Keyword()\n",
    "        tr4w2.analyze(cleaned_review, window_size=10, lower=False)\n",
    "        \n",
    "        print(\"부정 데이터 학습 중\")\n",
    "        cleaned_reviewn = self.make_wordlist(ndata['Review'].tolist())\n",
    "        tr4w2n = TextRank4Keyword()\n",
    "        tr4w2n.analyze(cleaned_reviewn, window_size=10, lower=False)\n",
    "        \n",
    "        time.sleep(0.5)\n",
    "        print(\"전처리 작업을 완료하였습니다.\")\n",
    "        return tr4w2, tr4w2n\n",
    "    \n",
    "    def visualize(self, pmodel, nmodel):\n",
    "        #폰트설정(한글 깨짐)\n",
    "        import math\n",
    "        from matplotlib import font_manager, rc\n",
    "        font_name = font_manager.FontProperties(fname=\"font/NanumSquare.ttf\").get_name()\n",
    "        rc('font', family=font_name)\n",
    "        import matplotlib\n",
    "        matplotlib.rcParams['axes.unicode_minus'] = False\n",
    "        \n",
    "        #긍부정 비율 시각화\n",
    "        ratio = [self.data['P/N'].tolist().count(x) for x in [1,0]]\n",
    "        labels = ['Positive', 'Negative']\n",
    "        colors = ['#ff9999', '#8fd9b6']\n",
    "        wedgeprops={'width': 0.2, 'edgecolor': 'w', 'linewidth': 5}\n",
    "        plt.pie(ratio, labels=labels, autopct='%.1f%%', startangle=260, counterclock=False, colors=colors, wedgeprops=wedgeprops)\n",
    "        plt.title(f\"영화 {self.name} 리뷰 비중\")\n",
    "        plt.show()\n",
    "        \n",
    "        \n",
    "        #주요 키워드 시각화\n",
    "        plabel = []\n",
    "        nlabel = []\n",
    "        pvalue = []\n",
    "        nvalue = []\n",
    "        pnode_weight = OrderedDict(sorted(pmodel.node_weight.items(), key=lambda t: t[1], reverse=True))\n",
    "        for i, (key, value) in enumerate(pnode_weight.items()):\n",
    "            plabel.append(key)\n",
    "            pvalue.append(value)\n",
    "            if i >= 4:\n",
    "                break\n",
    "        nnode_weight = OrderedDict(sorted(nmodel.node_weight.items(), key=lambda t: t[1], reverse=True))\n",
    "        for i, (key, value) in enumerate(nnode_weight.items()):\n",
    "            nlabel.append(key)\n",
    "            nvalue.append(-value)\n",
    "            if i >= 4:\n",
    "                break        \n",
    "        x = np.arange(5)\n",
    "        \n",
    "    \n",
    "        graphlimit = round(max(pvalue+nvalue))+2\n",
    "        plt.subplot(1,2,1)\n",
    "        bar1 = plt.barh(nlabel,nvalue, color = \"#8fd9b6\")\n",
    "\n",
    "        plt.xlim([-graphlimit,0]) \n",
    "        ax = plt.gca()\n",
    "        ax.axes.yaxis.set_visible(False)\n",
    "        label_ind = 0\n",
    "        for rect in bar1:\n",
    "            witdh = rect.get_width()\n",
    "            posx = witdh*1.05\n",
    "            posy = rect.get_y()+rect.get_height()*0.5\n",
    "            plt.text(posx, posy, nlabel[label_ind], rotation=0, ha='right', va='center')\n",
    "            label_ind = label_ind+1\n",
    "\n",
    "        plt.subplot(1,2,2)\n",
    "        bar2 = plt.barh(plabel, pvalue, color=\"#ff9999\")\n",
    "        plt.xlim([0,graphlimit]) \n",
    "        ax = plt.gca()\n",
    "        ax.axes.yaxis.set_visible(False)\n",
    "        label_ind = 0\n",
    "        for rect in bar2:\n",
    "            witdh = rect.get_width()\n",
    "            posx = witdh*1.05\n",
    "            posy = rect.get_y()+rect.get_height()*0.5\n",
    "            plt.text(posx, posy, plabel[label_ind], rotation=0, ha='left', va='center')\n",
    "            label_ind = label_ind+1\n",
    "        plt.suptitle(f'{self.name} 연관어 BEST 5',fontweight =\"bold\")\n",
    "        #plt.subplots_adjust(left=0, bottom=0,  right=1.5, top=0.7, wspace=0.0, hspace=0)\n",
    "        plt.tight_layout()"
   ]
  },
  {
   "cell_type": "markdown",
   "id": "2332ec79",
   "metadata": {},
   "source": [
    "# 실행예시"
   ]
  },
  {
   "cell_type": "markdown",
   "id": "ae985816",
   "metadata": {},
   "source": [
    "## 원하는 영화 검색하기 (사전 데이터 없는 경우)"
   ]
  },
  {
   "cell_type": "code",
   "execution_count": 105,
   "id": "ca870fb3",
   "metadata": {},
   "outputs": [
    {
     "name": "stdout",
     "output_type": "stream",
     "text": [
      "데이터를 저장하고 불러올 기본 경로를 입력해주세요   data/\n",
      "불용어셋을 가져오고 있습니다.\n",
      "어떤 영화를 검색하시겠습니까? 캣츠앤독스\n",
      "==============1번 영화===============\n",
      "\n",
      "캣츠 앤 독스 (Cats & Dogs)\n",
      "\n",
      "7.83 (참여 184명)\n",
      "\n",
      "액션, 모험, 코미디, 가족| 미국, 오스트레일리아|85분 |2001\n",
      "감독 : 로렌스 구터먼|출연 : 알렉 볼드윈, 마이클 클락 던칸, 션 헤이즈, 존 로비츠, 토비 맥과이어, 조 판톨리아노, 수잔 서랜든\n",
      "\n",
      "\n",
      "==============2번 영화===============\n",
      "\n",
      "캣츠 앤 독스 2 (Cats & Dogs: The Revenge Of Kitty Galore)\n",
      "\n",
      "7.58 (참여 248명)\n",
      "\n",
      "액션, 코미디, 가족| 미국, 오스트레일리아|82분 |2010\n",
      "감독 : 브래드 페이튼|출연 : 크리스 오도넬, 베트 미들러, 닉 놀테, 제임스 마스던, 크리스티나 애플게이트, 캣 윌리엄스, 닐 패트릭 해리스, 션 헤이즈, 월리스 쇼운, 로저 무어, 조 판톨리아노, 마이클 클락 던칸\n",
      "\n",
      "\n",
      "==============3번 영화===============\n",
      "\n",
      "오브 캣츠, 독스, 팜 애니멀즈 앤 사시미 (Of Cats, Dogs, Farm Animals and Sashimi)\n",
      "다큐멘터리| 필리핀|77분 |2015\n",
      "감독 : 페리 다이즌\n",
      "\n",
      "몇 번 영화를 선택하시겠습니까? (숫자만 입력)  : 2\n",
      "\n",
      "24개의 페이지에서 캣츠앤독스 영화 리뷰를 모으고 있습니다.\n"
     ]
    },
    {
     "name": "stderr",
     "output_type": "stream",
     "text": [
      "100%|██████████████████████████████████████████████████████████████████████████████████| 24/24 [00:02<00:00,  9.39it/s]\n"
     ]
    },
    {
     "name": "stdout",
     "output_type": "stream",
     "text": [
      "리뷰를 모두 불러왔습니다.\n"
     ]
    }
   ],
   "source": [
    "cats = Review_keyword(minimum_count = 1)\n",
    "cats.ready_data()"
   ]
  },
  {
   "cell_type": "code",
   "execution_count": 106,
   "id": "09fe0022",
   "metadata": {},
   "outputs": [
    {
     "name": "stdout",
     "output_type": "stream",
     "text": [
      "데이터를 학습하고 있습니다.\n",
      "데이터 라벨링 완료\n",
      "긍정 데이터 학습 중\n",
      "리뷰들을 모아 분석하는 중입니다.....\n",
      "데이터 정제 중....\n",
      "형태소 추출 중....\n",
      "한글자 제거 중....\n",
      "불용어 제거 중....\n",
      "의미있는 단어리스트 생성 중....\n"
     ]
    },
    {
     "name": "stderr",
     "output_type": "stream",
     "text": [
      "100%|█████████████████████████████████████████████████████████████████████████████| 174/174 [00:00<00:00, 43630.59it/s]\n"
     ]
    },
    {
     "name": "stdout",
     "output_type": "stream",
     "text": [
      "부정 데이터 학습 중\n",
      "리뷰들을 모아 분석하는 중입니다.....\n",
      "데이터 정제 중....\n",
      "형태소 추출 중....\n",
      "한글자 제거 중....\n",
      "불용어 제거 중....\n",
      "의미있는 단어리스트 생성 중....\n"
     ]
    },
    {
     "name": "stderr",
     "output_type": "stream",
     "text": [
      "100%|███████████████████████████████████████████████████████████████████████████████| 63/63 [00:00<00:00, 65568.52it/s]\n"
     ]
    },
    {
     "name": "stdout",
     "output_type": "stream",
     "text": [
      "전처리 작업을 완료하였습니다.\n"
     ]
    }
   ],
   "source": [
    "pmodel, nmodel = cats.extract()"
   ]
  },
  {
   "cell_type": "code",
   "execution_count": 107,
   "id": "5777db0d",
   "metadata": {},
   "outputs": [
    {
     "data": {
      "image/png": "[encoded data removed]",
      "text/plain": [
       "<Figure size 432x288 with 1 Axes>"
      ]
     },
     "metadata": {},
     "output_type": "display_data"
    },
    {
     "data": {
      "image/png": "[encoded data removed]",
      "text/plain": [
       "<Figure size 432x288 with 2 Axes>"
      ]
     },
     "metadata": {
      "needs_background": "light"
     },
     "output_type": "display_data"
    }
   ],
   "source": [
    "cats.visualize(pmodel, nmodel)"
   ]
  },
  {
   "cell_type": "markdown",
   "id": "c15b053d",
   "metadata": {},
   "source": [
    "## 리뷰 데이터가 있는 경우 (파일 업로드해서 분석)"
   ]
  },
  {
   "cell_type": "code",
   "execution_count": 111,
   "id": "c788b7bf",
   "metadata": {},
   "outputs": [
    {
     "name": "stdout",
     "output_type": "stream",
     "text": [
      "데이터를 저장하고 불러올 기본 경로를 입력해주세요   data/\n",
      "불용어셋을 가져오고 있습니다.\n"
     ]
    }
   ],
   "source": [
    "iron = Review_keyword(minimum_count = 1)\n",
    "iron.load_data('아이언맨2review.csv')"
   ]
  },
  {
   "cell_type": "code",
   "execution_count": 112,
   "id": "b59ccd87",
   "metadata": {
    "scrolled": false
   },
   "outputs": [
    {
     "name": "stdout",
     "output_type": "stream",
     "text": [
      "데이터를 학습하고 있습니다.\n",
      "데이터 라벨링 완료\n",
      "긍정 데이터 학습 중\n",
      "리뷰들을 모아 분석하는 중입니다.....\n",
      "데이터 정제 중....\n",
      "형태소 추출 중....\n",
      "한글자 제거 중....\n",
      "불용어 제거 중....\n",
      "의미있는 단어리스트 생성 중....\n"
     ]
    },
    {
     "name": "stderr",
     "output_type": "stream",
     "text": [
      "100%|████████████████████████████████████████████████████████████████████████████| 4324/4324 [00:01<00:00, 2570.50it/s]\n"
     ]
    },
    {
     "name": "stdout",
     "output_type": "stream",
     "text": [
      "부정 데이터 학습 중\n",
      "리뷰들을 모아 분석하는 중입니다.....\n",
      "데이터 정제 중....\n",
      "형태소 추출 중....\n",
      "한글자 제거 중....\n",
      "불용어 제거 중....\n",
      "의미있는 단어리스트 생성 중....\n"
     ]
    },
    {
     "name": "stderr",
     "output_type": "stream",
     "text": [
      "100%|████████████████████████████████████████████████████████████████████████████| 2093/2093 [00:00<00:00, 2896.98it/s]\n"
     ]
    },
    {
     "name": "stdout",
     "output_type": "stream",
     "text": [
      "전처리 작업을 완료하였습니다.\n"
     ]
    }
   ],
   "source": [
    "pmodel, nmodel = iron.extract()"
   ]
  },
  {
   "cell_type": "code",
   "execution_count": 114,
   "id": "077a0c66",
   "metadata": {
    "collapsed": true
   },
   "outputs": [
    {
     "data": {
      "image/png": "[encoded data removed]",
      "text/plain": [
       "<Figure size 432x288 with 1 Axes>"
      ]
     },
     "metadata": {},
     "output_type": "display_data"
    },
    {
     "data": {
      "image/png": "[encoded data removed]",
      "text/plain": [
       "<Figure size 432x288 with 2 Axes>"
      ]
     },
     "metadata": {
      "needs_background": "light"
     },
     "output_type": "display_data"
    }
   ],
   "source": [
    "iron.visualize(pmodel,nmodel)"
   ]
  },
  {
   "cell_type": "markdown",
   "id": "056c8b8e",
   "metadata": {},
   "source": [
    "## 실행예시 - 주토피아"
   ]
  },
  {
   "cell_type": "code",
   "execution_count": 115,
   "id": "00df528d",
   "metadata": {},
   "outputs": [
    {
     "name": "stdout",
     "output_type": "stream",
     "text": [
      "데이터를 저장하고 불러올 기본 경로를 입력해주세요   data/\n",
      "불용어셋을 가져오고 있습니다.\n"
     ]
    }
   ],
   "source": [
    "zoo = Review_keyword(minimum_count = 1)\n",
    "zoo.load_data('주토피아review.csv')"
   ]
  },
  {
   "cell_type": "code",
   "execution_count": 117,
   "id": "e880b5a3",
   "metadata": {
    "scrolled": true
   },
   "outputs": [
    {
     "name": "stdout",
     "output_type": "stream",
     "text": [
      "데이터를 학습하고 있습니다.\n",
      "데이터 라벨링 완료\n",
      "긍정 데이터 학습 중\n",
      "리뷰들을 모아 분석하는 중입니다.....\n",
      "데이터 정제 중....\n",
      "형태소 추출 중....\n",
      "한글자 제거 중....\n",
      "불용어 제거 중....\n",
      "의미있는 단어리스트 생성 중....\n"
     ]
    },
    {
     "name": "stderr",
     "output_type": "stream",
     "text": [
      "100%|███████████████████████████████████████████████████████████████████████████| 17278/17278 [00:22<00:00, 764.24it/s]\n"
     ]
    },
    {
     "name": "stdout",
     "output_type": "stream",
     "text": [
      "부정 데이터 학습 중\n",
      "리뷰들을 모아 분석하는 중입니다.....\n",
      "데이터 정제 중....\n",
      "형태소 추출 중....\n",
      "한글자 제거 중....\n",
      "불용어 제거 중....\n",
      "의미있는 단어리스트 생성 중....\n"
     ]
    },
    {
     "name": "stderr",
     "output_type": "stream",
     "text": [
      "100%|██████████████████████████████████████████████████████████████████████████████| 512/512 [00:00<00:00, 6755.24it/s]\n"
     ]
    },
    {
     "name": "stdout",
     "output_type": "stream",
     "text": [
      "전처리 작업을 완료하였습니다.\n"
     ]
    }
   ],
   "source": [
    "pmodel, nmodel = zoo.extract()"
   ]
  },
  {
   "cell_type": "code",
   "execution_count": 118,
   "id": "39bd502d",
   "metadata": {},
   "outputs": [
    {
     "data": {
      "image/png": "[encoded data removed]",
      "text/plain": [
       "<Figure size 432x288 with 1 Axes>"
      ]
     },
     "metadata": {},
     "output_type": "display_data"
    },
    {
     "data": {
      "image/png": "[encoded data removed]",
      "text/plain": [
       "<Figure size 432x288 with 2 Axes>"
      ]
     },
     "metadata": {
      "needs_background": "light"
     },
     "output_type": "display_data"
    }
   ],
   "source": [
    "zoo.visualize(pmodel,nmodel)"
   ]
  },
  {
   "cell_type": "markdown",
   "id": "ed7cb239",
   "metadata": {},
   "source": [
    "## 실행예시 - 살아있다"
   ]
  },
  {
   "cell_type": "code",
   "execution_count": 123,
   "id": "8a8d60f2",
   "metadata": {},
   "outputs": [
    {
     "name": "stdout",
     "output_type": "stream",
     "text": [
      "데이터를 저장하고 불러올 기본 경로를 입력해주세요   data/\n",
      "불용어셋을 가져오고 있습니다.\n"
     ]
    }
   ],
   "source": [
    "alive = Review_keyword(minimum_count = 1)\n",
    "alive.load_data('살아있다review.csv')"
   ]
  },
  {
   "cell_type": "code",
   "execution_count": 124,
   "id": "e82c8036",
   "metadata": {},
   "outputs": [
    {
     "name": "stdout",
     "output_type": "stream",
     "text": [
      "데이터를 학습하고 있습니다.\n",
      "데이터 라벨링 완료\n",
      "긍정 데이터 학습 중\n",
      "리뷰들을 모아 분석하는 중입니다.....\n",
      "데이터 정제 중....\n",
      "형태소 추출 중....\n",
      "한글자 제거 중....\n",
      "불용어 제거 중....\n",
      "의미있는 단어리스트 생성 중....\n"
     ]
    },
    {
     "name": "stderr",
     "output_type": "stream",
     "text": [
      "100%|████████████████████████████████████████████████████████████████████████████| 1870/1870 [00:00<00:00, 6066.91it/s]\n"
     ]
    },
    {
     "name": "stdout",
     "output_type": "stream",
     "text": [
      "부정 데이터 학습 중\n",
      "리뷰들을 모아 분석하는 중입니다.....\n",
      "데이터 정제 중....\n",
      "형태소 추출 중....\n",
      "한글자 제거 중....\n",
      "불용어 제거 중....\n",
      "의미있는 단어리스트 생성 중....\n"
     ]
    },
    {
     "name": "stderr",
     "output_type": "stream",
     "text": [
      "100%|██████████████████████████████████████████████████████████████████████████████| 893/893 [00:00<00:00, 6732.54it/s]\n"
     ]
    },
    {
     "name": "stdout",
     "output_type": "stream",
     "text": [
      "전처리 작업을 완료하였습니다.\n"
     ]
    }
   ],
   "source": [
    "pmodel, nmodel = alive.extract()"
   ]
  },
  {
   "cell_type": "code",
   "execution_count": 125,
   "id": "6f32d016",
   "metadata": {},
   "outputs": [
    {
     "data": {
      "image/png": "[encoded data removed]",
      "text/plain": [
       "<Figure size 432x288 with 1 Axes>"
      ]
     },
     "metadata": {},
     "output_type": "display_data"
    },
    {
     "data": {
      "image/png": "[encoded data removed]",
      "text/plain": [
       "<Figure size 432x288 with 2 Axes>"
      ]
     },
     "metadata": {
      "needs_background": "light"
     },
     "output_type": "display_data"
    }
   ],
   "source": [
    "alive.visualize(pmodel,nmodel)"
   ]
  },
  {
   "cell_type": "code",
   "execution_count": null,
   "id": "e66d9218",
   "metadata": {},
   "outputs": [],
   "source": []
  }
 ],
 "metadata": {
  "kernelspec": {
   "display_name": "Python 3 (ipykernel)",
   "language": "python",
   "name": "python3"
  },
  "language_info": {
   "codemirror_mode": {
    "name": "ipython",
    "version": 3
   },
   "file_extension": ".py",
   "mimetype": "text/x-python",
   "name": "python",
   "nbconvert_exporter": "python",
   "pygments_lexer": "ipython3",
   "version": "3.7.10"
  }
 },
 "nbformat": 4,
 "nbformat_minor": 5
}
