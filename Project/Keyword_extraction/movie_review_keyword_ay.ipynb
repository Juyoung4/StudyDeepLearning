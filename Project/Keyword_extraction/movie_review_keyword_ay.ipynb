{
 "cells": [
  {
   "cell_type": "markdown",
   "id": "d1247079",
   "metadata": {},
   "source": [
    "# 기본 패키지 임포트"
   ]
  },
  {
   "cell_type": "code",
   "execution_count": 1,
   "id": "ce16c13b",
   "metadata": {},
   "outputs": [],
   "source": [
    "import numpy as np\n",
    "import pandas as pd\n",
    "import re\n",
    "import json\n",
    "from konlpy.tag import Okt\n",
    "from tensorflow.python.keras.preprocessing.sequence import pad_sequences\n",
    "from tensorflow.python.keras.preprocessing.text import Tokenizer\n",
    "import requests\n",
    "import time\n",
    "from tqdm import tqdm\n",
    "from bs4 import BeautifulSoup\n",
    "import matplotlib.pyplot as plt\n",
    "import seaborn as sns\n",
    "\n",
    "import warnings\n",
    "warnings.filterwarnings('ignore')\n",
    "%matplotlib inline\n"
   ]
  },
  {
   "cell_type": "markdown",
   "id": "99f05aa3",
   "metadata": {},
   "source": [
    "# 데이터 전처리 클래스"
   ]
  },
  {
   "cell_type": "code",
   "execution_count": 57,
   "id": "14bb9dde",
   "metadata": {},
   "outputs": [],
   "source": [
    "def no_space(text):\n",
    "    text1 = re.sub('&nbsp;|&nbsp;|\\n|\\t|\\r', '', text)\n",
    "    text2 = re.sub('\\n\\n','', text1)\n",
    "    return text2\n",
    "\n",
    "def extract_word(text):\n",
    "    hangul = re.compile('[^가-힣]') \n",
    "    result = hangul.sub(' ', text) \n",
    "    return result\n",
    "\n",
    "def load_stopwords(basepath):\n",
    "    print(\"불용어셋을 가져오고 있습니다.\")\n",
    "    with open(basepath+'stopwords.txt', 'r') as f:\n",
    "        list_file = f.readlines()\n",
    "    return list_file[0].split(\",\")\n",
    "\n",
    "\n",
    "class Review_keyword:\n",
    "    def __init__(self, minimum_count:int)->None:\n",
    "        self.basepath = input(\"데이터를 저장하고 불러올 기본 경로를 입력해주세요\")\n",
    "        self.minimum_count = minimum_count\n",
    "        self.word_list =  None\n",
    "        self.name = None\n",
    "        self.url = \"hi\"\n",
    "        self.data = None\n",
    "        self.stopwords = load_stopwords(self.basepath)\n",
    "        \n",
    "    def search(self) :\n",
    "        self.name= input(\"어떤 영화를 검색하시겠습니까? \")\n",
    "        url = f'https://movie.naver.com/movie/search/result.naver?query={self.name}&section=all&ie=utf8'        \n",
    "        res = requests.get(url)\n",
    "        index = 1\n",
    "        user_dic = {}\n",
    "        if res.status_code == 200:\n",
    "            soup=BeautifulSoup(res.text,'lxml')\n",
    "            for href in soup.find(\"ul\", class_=\"search_list_1\").find_all(\"li\"): \n",
    "                print(f\"=============={index}번 영화===============\")\n",
    "                print(href.dl.text[:-2])\n",
    "                user_dic[index] = int(href.dl.dt.a['href'][30:])\n",
    "                index = index+1\n",
    "        movie_num = int(input(\"몇 번 영화를 선택하시겠습니까? (숫자만 입력)  : \"))\n",
    "        code = user_dic[movie_num]\n",
    "        base_url = f'https://movie.naver.com/movie/bi/mi/pointWriteFormList.nhn?code={code}&type=after&onlyActualPointYn=N&onlySpoilerPointYn=N&order=sympathyScore&page='\n",
    "        self.url = base_url+'{}'\n",
    "        \n",
    "    def save_and_load(self,dataframe):\n",
    "        dataframe.to_csv(self.basepath+f'{self.name}review.csv' , index= False)\n",
    "        df = pd.read_csv(self.basepath+f'{self.name}review.csv')\n",
    "        df = df.dropna()\n",
    "        df = df.drop_duplicates()\n",
    "        df = df.reset_index(drop=True)\n",
    "        return df\n",
    "            \n",
    "    def crawl_review(self):\n",
    "        res = requests.get(self.url)\n",
    "        if res.status_code == 200:\n",
    "            soup=BeautifulSoup(res.text,'lxml')\n",
    "            total = soup.select('div.score_total > strong > em')[0].text\n",
    "            pages = int(total.replace(',','')[:-1]) #17,921 > 17921로 변환 후 캐스팅\n",
    "            print()\n",
    "            print(f\"{pages}개의 페이지에서 {self.name} 영화 리뷰를 모으고 있습니다.\")\n",
    "            time.sleep(1)\n",
    "        comments = []\n",
    "        stars = []\n",
    "        for page in tqdm(range(1,pages+1)):\n",
    "            url = self.url.format(page)\n",
    "            res = requests.get(url)\n",
    "            if res.status_code == 200:\n",
    "                soup=BeautifulSoup(res.text,'lxml')\n",
    "                star =  soup.select('div.score_result > ul > li > div.star_score > em')\n",
    "                tds = soup.select('div.score_result > ul > li > div.score_reple > p > span')\n",
    "                for st in star:\n",
    "                    stars.append(int(st.text))\n",
    "                for cmt in tds:\n",
    "                    if cmt.text != '관람객' and cmt.text !='스포일러가 포함된 감상평입니다. 감상평 보기':\n",
    "                        comments.append(no_space(cmt.text))\n",
    "                if(len(comments) != len(stars)):\n",
    "                    print(url)\n",
    "                    break \n",
    "        assert len(comments) == len(stars)\n",
    "        self.data = self.save_and_load(pd.DataFrame({\"Review\":comments, \"Rank\":stars}))\n",
    "       \n",
    "    def make_wordlist(self,reviews): #reviews = \" \".join(data['Review'].tolist())\n",
    "        print(\"리뷰들을 모아 분석하는 중입니다.....\")\n",
    "        #정규표현식 적용\n",
    "        print(\"데이터 정제 중....\")\n",
    "        words = extract_word(reviews)\n",
    "        #형태소 추출\n",
    "        print(\"형태소 추출 중....\")\n",
    "        okt = Okt()\n",
    "        words = okt.morphs(words,stem=True)\n",
    "        #한글자 제거\n",
    "        print(\"한글자 제거 중....\")\n",
    "        words = [x for x in words if len(x)>1 or x =='닉']\n",
    "        #불용어 제거\n",
    "        print(\"불용어 제거 중....\")\n",
    "        words = [x for x in words if x not in self.stopwords]\n",
    "        #최소횟수 미만 제거\n",
    "        print(\"의미있는 단어리스트 생성 중....\")\n",
    "        time.sleep(1)\n",
    "        minimum_count = 3\n",
    "        final = []\n",
    "        for i in tqdm(range(len(words))):\n",
    "            tmp = words[i]\n",
    "            if words.count(tmp) >= minimum_count:\n",
    "                final.append(tmp)\n",
    "        self.word_list = set(final) #조건을 만족하는 단어 리스트\n",
    "\n",
    "    def preprocess(self,text):\n",
    "        text = extract_word(text)\n",
    "        okt = Okt()\n",
    "        text = okt.morphs(text, stem = True)\n",
    "        text = [x for x in text if x in self.word_list]\n",
    "        return \" \".join(text)\n",
    "    \n",
    "    def ready(self):\n",
    "        self.search()\n",
    "        self.crawl_review()\n",
    "        self.make_wordlist(\" \".join(self.data['Review'].tolist()))\n",
    "        time.sleep(0.5)\n",
    "        print(\"작업을 완료했습니다.\")"
   ]
  },
  {
   "cell_type": "code",
   "execution_count": 59,
   "id": "15f1fe0d",
   "metadata": {},
   "outputs": [
    {
     "name": "stdout",
     "output_type": "stream",
     "text": [
      "데이터를 저장하고 불러올 기본 경로를 입력해주세요data/\n",
      "불용어셋을 가져오고 있습니다.\n",
      "어떤 영화를 검색하시겠습니까? 캣츠\n",
      "==============1번 영화===============\n",
      "\n",
      "캣츠 (Cats)\n",
      "\n",
      "4.60 (참여 5531명)\n",
      "\n",
      "뮤지컬, 드라마| 미국, 영국|109분 |2019\n",
      "감독 : 톰 후퍼|출연 : 제니퍼 허드슨, 테일러 스위프트, 이드리스 엘바, 주디 덴치, 이안 맥켈런, 제이슨 데룰로, 제임스 코든, 레이 윈스턴, 레벨 윌슨, 프란체스카 헤이워드\n",
      "\n",
      "\n",
      "==============2번 영화===============\n",
      "\n",
      "캣츠 (Cats)\n",
      "애니메이션, 코미디, 드라마, 가족| 캐나다|2분 |2014\n",
      "감독 : 제프 치바 스턴즈\n",
      "\n",
      "==============3번 영화===============\n",
      "\n",
      "캣츠 (The Cat's Meow)\n",
      "드라마, 스릴러, 코미디| 캐나다, 독일, 영국|110분 |2001\n",
      "감독 : 피터 보그다노비치|출연 : 커스틴 던스트, 캐리 엘위스, 에드워드 허먼, 에디 이자드, 조안나 럼리, 빅터 슬레작, 제니퍼 틸리\n",
      "\n",
      "==============4번 영화===============\n",
      "\n",
      "캣츠 (The Cat)\n",
      "SF, 액션, 판타지| 홍콩|88분 |1992\n",
      "출연 : 글로리아 입, 이자웅, 오영미\n",
      "\n",
      "==============5번 영화===============\n",
      "\n",
      "캣츠 앤 독스 2 (Cats & Dogs: The Revenge Of Kitty Galore)\n",
      "\n",
      "7.58 (참여 248명)\n",
      "\n",
      "액션, 코미디, 가족| 미국, 오스트레일리아|82분 |2010\n",
      "감독 : 브래드 페이튼|출연 : 크리스 오도넬, 베트 미들러, 닉 놀테, 제임스 마스던, 크리스티나 애플게이트, 캣 윌리엄스, 닐 패트릭 해리스, 션 헤이즈, 월리스 쇼운, 로저 무어, 조 판톨리아노, 마이클 클락 던칸\n",
      "\n",
      "\n",
      "몇 번 영화를 선택하시겠습니까? (숫자만 입력)  : 5\n",
      "\n",
      "24개의 페이지에서 캣츠 영화 리뷰를 모으고 있습니다.\n"
     ]
    },
    {
     "name": "stderr",
     "output_type": "stream",
     "text": [
      "100%|██████████████████████████████████████████████████████████████████████████████████| 24/24 [00:03<00:00,  7.67it/s]\n"
     ]
    },
    {
     "name": "stdout",
     "output_type": "stream",
     "text": [
      "리뷰들을 모아 분석하는 중입니다.....\n",
      "데이터 정제 중....\n",
      "형태소 추출 중....\n",
      "한글자 제거 중....\n",
      "불용어 제거 중....\n",
      "의미있는 단어리스트 생성 중....\n"
     ]
    },
    {
     "name": "stderr",
     "output_type": "stream",
     "text": [
      "100%|█████████████████████████████████████████████████████████████████████████████| 723/723 [00:00<00:00, 45292.69it/s]\n"
     ]
    },
    {
     "name": "stdout",
     "output_type": "stream",
     "text": [
      "작업을 완료했습니다.\n"
     ]
    }
   ],
   "source": [
    "mc = Review_keyword(3)\n",
    "mc.ready()"
   ]
  },
  {
   "cell_type": "code",
   "execution_count": 61,
   "id": "c2c3d359",
   "metadata": {},
   "outputs": [
    {
     "data": {
      "text/plain": [
       "'캣츠'"
      ]
     },
     "execution_count": 61,
     "metadata": {},
     "output_type": "execute_result"
    }
   ],
   "source": [
    "mc.name"
   ]
  },
  {
   "cell_type": "code",
   "execution_count": 60,
   "id": "e5439a96",
   "metadata": {},
   "outputs": [
    {
     "data": {
      "text/html": [
       "<div>\n",
       "<style scoped>\n",
       "    .dataframe tbody tr th:only-of-type {\n",
       "        vertical-align: middle;\n",
       "    }\n",
       "\n",
       "    .dataframe tbody tr th {\n",
       "        vertical-align: top;\n",
       "    }\n",
       "\n",
       "    .dataframe thead th {\n",
       "        text-align: right;\n",
       "    }\n",
       "</style>\n",
       "<table border=\"1\" class=\"dataframe\">\n",
       "  <thead>\n",
       "    <tr style=\"text-align: right;\">\n",
       "      <th></th>\n",
       "      <th>Review</th>\n",
       "      <th>Rank</th>\n",
       "    </tr>\n",
       "  </thead>\n",
       "  <tbody>\n",
       "    <tr>\n",
       "      <th>0</th>\n",
       "      <td>3편나와라~~</td>\n",
       "      <td>10</td>\n",
       "    </tr>\n",
       "    <tr>\n",
       "      <th>1</th>\n",
       "      <td>귀여우니까 용서가되요</td>\n",
       "      <td>10</td>\n",
       "    </tr>\n",
       "    <tr>\n",
       "      <th>2</th>\n",
       "      <td>1편만큼 재밌는데ㅋㅋ비둘기개웃김ㅋㅋㅋㅋ 걍 가볍게보기좋음</td>\n",
       "      <td>10</td>\n",
       "    </tr>\n",
       "    <tr>\n",
       "      <th>3</th>\n",
       "      <td>재밌쪙 3편 빨뤼 만들어줘용</td>\n",
       "      <td>10</td>\n",
       "    </tr>\n",
       "    <tr>\n",
       "      <th>4</th>\n",
       "      <td>재밌어요</td>\n",
       "      <td>10</td>\n",
       "    </tr>\n",
       "    <tr>\n",
       "      <th>...</th>\n",
       "      <td>...</td>\n",
       "      <td>...</td>\n",
       "    </tr>\n",
       "    <tr>\n",
       "      <th>232</th>\n",
       "      <td>잡종!!</td>\n",
       "      <td>1</td>\n",
       "    </tr>\n",
       "    <tr>\n",
       "      <th>233</th>\n",
       "      <td>우리아이도 보고 실망한영화....</td>\n",
       "      <td>1</td>\n",
       "    </tr>\n",
       "    <tr>\n",
       "      <th>234</th>\n",
       "      <td>아 평점이 이럴수가......</td>\n",
       "      <td>1</td>\n",
       "    </tr>\n",
       "    <tr>\n",
       "      <th>235</th>\n",
       "      <td>꼬마애들도 전혀 웃지 않던 난감한영화..ㅡ.ㅡ;</td>\n",
       "      <td>2</td>\n",
       "    </tr>\n",
       "    <tr>\n",
       "      <th>236</th>\n",
       "      <td>이것이야말로 진정한 애들영화, 그런데 애들도 재밌어할까 모르겠다;</td>\n",
       "      <td>2</td>\n",
       "    </tr>\n",
       "  </tbody>\n",
       "</table>\n",
       "<p>237 rows × 2 columns</p>\n",
       "</div>"
      ],
      "text/plain": [
       "                                    Review  Rank\n",
       "0                                 3편나와라~~     10\n",
       "1                             귀여우니까 용서가되요     10\n",
       "2         1편만큼 재밌는데ㅋㅋ비둘기개웃김ㅋㅋㅋㅋ 걍 가볍게보기좋음     10\n",
       "3                         재밌쪙 3편 빨뤼 만들어줘용     10\n",
       "4                                    재밌어요     10\n",
       "..                                     ...   ...\n",
       "232                                  잡종!!      1\n",
       "233                    우리아이도 보고 실망한영화....      1\n",
       "234                      아 평점이 이럴수가......      1\n",
       "235            꼬마애들도 전혀 웃지 않던 난감한영화..ㅡ.ㅡ;      2\n",
       "236  이것이야말로 진정한 애들영화, 그런데 애들도 재밌어할까 모르겠다;      2\n",
       "\n",
       "[237 rows x 2 columns]"
      ]
     },
     "execution_count": 60,
     "metadata": {},
     "output_type": "execute_result"
    }
   ],
   "source": [
    "mc.data"
   ]
  },
  {
   "cell_type": "code",
   "execution_count": 55,
   "id": "38431dbb",
   "metadata": {},
   "outputs": [
    {
     "data": {
      "text/plain": [
       "'때우다 좋다'"
      ]
     },
     "execution_count": 55,
     "metadata": {},
     "output_type": "execute_result"
    }
   ],
   "source": [
    "mc.preprocess(mc.data['Review'][35])"
   ]
  },
  {
   "cell_type": "code",
   "execution_count": 56,
   "id": "07b6eb3a",
   "metadata": {},
   "outputs": [
    {
     "data": {
      "text/plain": [
       "{'가족',\n",
       " '가족영화',\n",
       " '강아지',\n",
       " '강추',\n",
       " '고양이',\n",
       " '괜찮다',\n",
       " '귀엽다',\n",
       " '나름',\n",
       " '나와라',\n",
       " '날리다',\n",
       " '내용',\n",
       " '대박',\n",
       " '더빙',\n",
       " '동물',\n",
       " '들이다',\n",
       " '딕스',\n",
       " '때우다',\n",
       " '만들다',\n",
       " '밉다',\n",
       " '별로',\n",
       " '보기',\n",
       " '비둘기',\n",
       " '빵터지다',\n",
       " '생각',\n",
       " '속편',\n",
       " '수준',\n",
       " '스토리',\n",
       " '시사회',\n",
       " '아깝다',\n",
       " '아들',\n",
       " '어른',\n",
       " '오랜',\n",
       " '웃기다',\n",
       " '유치하다',\n",
       " '유쾌하다',\n",
       " '자다',\n",
       " '자막',\n",
       " '장면',\n",
       " '재미',\n",
       " '재미없다',\n",
       " '재미있다',\n",
       " '재밌다',\n",
       " '전작',\n",
       " '전편',\n",
       " '조카',\n",
       " '좋다',\n",
       " '좋아하다',\n",
       " '중간',\n",
       " '지루하다',\n",
       " '차다',\n",
       " '처음',\n",
       " '최고',\n",
       " '추석',\n",
       " '캣츠',\n",
       " '키티',\n",
       " '패러디',\n",
       " '평점',\n",
       " '표정'}"
      ]
     },
     "execution_count": 56,
     "metadata": {},
     "output_type": "execute_result"
    }
   ],
   "source": [
    "mc.word_list"
   ]
  },
  {
   "cell_type": "code",
   "execution_count": null,
   "id": "0721477a",
   "metadata": {},
   "outputs": [],
   "source": []
  }
 ],
 "metadata": {
  "kernelspec": {
   "display_name": "Python 3 (ipykernel)",
   "language": "python",
   "name": "python3"
  },
  "language_info": {
   "codemirror_mode": {
    "name": "ipython",
    "version": 3
   },
   "file_extension": ".py",
   "mimetype": "text/x-python",
   "name": "python",
   "nbconvert_exporter": "python",
   "pygments_lexer": "ipython3",
   "version": "3.7.10"
  }
 },
 "nbformat": 4,
 "nbformat_minor": 5
}
