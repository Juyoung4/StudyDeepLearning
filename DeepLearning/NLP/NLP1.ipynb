{
 "cells": [
  {
   "cell_type": "markdown",
   "id": "f20c2217-bb95-41da-ae2c-6b02b33cbed2",
   "metadata": {},
   "source": [
    "## Day1\n",
    "\n",
    "### [1] 기본 라이브러리 설치"
   ]
  },
  {
   "cell_type": "code",
   "execution_count": 1,
   "id": "2df3ca27-beb4-42b4-a5f2-a6ddef4af6bc",
   "metadata": {},
   "outputs": [],
   "source": [
    "# pip install tensorflow\n",
    "import tensorflow as tf\n",
    "from tensorflow.keras import preprocessing\n",
    "import numpy as np"
   ]
  },
  {
   "cell_type": "code",
   "execution_count": 2,
   "id": "31a157e0-1bab-4ffd-ba02-8a3f13f4e439",
   "metadata": {},
   "outputs": [],
   "source": [
    "samples = ['너 오늘 이뻐 보인다', '나는 오늘 기분이 안 좋아', '나 좋은 일이 생겼어']\n",
    "targets =[[1], [0], [1], [1], [0], [1]]"
   ]
  },
  {
   "cell_type": "code",
   "execution_count": 3,
   "id": "173b2a22-2f23-4ab8-bd9d-c0afba807ff9",
   "metadata": {},
   "outputs": [
    {
     "name": "stderr",
     "output_type": "stream",
     "text": [
      "/home/ai-sjjy/anaconda3/envs/juyoung/lib/python3.6/site-packages/ipykernel_launcher.py:6: VisibleDeprecationWarning: Creating an ndarray from ragged nested sequences (which is a list-or-tuple of lists-or-tuples-or ndarrays with different lengths or shapes) is deprecated. If you meant to do this, you must specify 'dtype=object' when creating the ndarray\n",
      "  \n"
     ]
    }
   ],
   "source": [
    "tokenizer = preprocessing.text.Tokenizer()\n",
    "\n",
    "tokenizer.fit_on_texts(samples)\n",
    "sequences = tokenizer.texts_to_sequences(samples)\n",
    "\n",
    "input_sequence = np.array(sequences)\n",
    "labels = np.array(targets)"
   ]
  },
  {
   "cell_type": "code",
   "execution_count": 5,
   "id": "afdb7859-8c1f-42d6-ac35-f76f0f3fb4cd",
   "metadata": {},
   "outputs": [
    {
     "name": "stdout",
     "output_type": "stream",
     "text": [
      "[2, 1, 3, 4]\n",
      "{'오늘': 1, '너': 2, '이뻐': 3, '보인다': 4, '나는': 5, '기분이': 6, '안': 7, '좋아': 8, '나': 9, '좋은': 10, '일이': 11, '생겼어': 12}\n"
     ]
    }
   ],
   "source": [
    "print(input_sequence[0])\n",
    "print(tokenizer.word_index)"
   ]
  },
  {
   "cell_type": "code",
   "execution_count": null,
   "id": "529dde5c-43ff-409a-ae29-0f98b7ff5d84",
   "metadata": {},
   "outputs": [],
   "source": [
    "SDASD"
   ]
  },
  {
   "cell_type": "code",
   "execution_count": null,
   "id": "843f2d28-d1aa-4a3f-9f98-01ebdfd78202",
   "metadata": {},
   "outputs": [],
   "source": []
  }
 ],
 "metadata": {
  "kernelspec": {
   "display_name": "Python 3",
   "language": "python",
   "name": "python3"
  },
  "language_info": {
   "codemirror_mode": {
    "name": "ipython",
    "version": 3
   },
   "file_extension": ".py",
   "mimetype": "text/x-python",
   "name": "python",
   "nbconvert_exporter": "python",
   "pygments_lexer": "ipython3",
   "version": "3.6.13"
  }
 },
 "nbformat": 4,
 "nbformat_minor": 5
}
