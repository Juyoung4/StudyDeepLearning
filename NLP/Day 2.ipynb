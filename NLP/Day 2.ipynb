{
 "cells": [
  {
   "cell_type": "code",
   "execution_count": 1,
   "id": "93bacf4c-cd36-4576-8469-02e891f568f8",
   "metadata": {},
   "outputs": [
    {
     "name": "stdout",
     "output_type": "stream",
     "text": [
      "# conda environments:\n",
      "#\n",
      "base                     /home/ai-sjjy/anaconda3\n",
      "juyoung2              *  /home/ai-sjjy/anaconda3/envs/juyoung2\n",
      "tensorflow2.3            /home/ai-sjjy/anaconda3/envs/tensorflow2.3\n",
      "\n"
     ]
    }
   ],
   "source": [
    "! conda info --env"
   ]
  },
  {
   "cell_type": "markdown",
   "id": "9b61ee28-f5fb-4650-886d-a6061f663f10",
   "metadata": {},
   "source": [
    "## Gensim Word2Vec Tutorial"
   ]
  },
  {
   "cell_type": "code",
   "execution_count": 2,
   "id": "d1ad0c2a-fd3d-47d3-9005-12186da59549",
   "metadata": {},
   "outputs": [],
   "source": [
    "PATH = \"/home/ai-sjjy/workspace/juyoung/AI/NLP/dataset/\""
   ]
  },
  {
   "cell_type": "markdown",
   "id": "79f99b5e-deee-4e47-90f0-e427b7b35992",
   "metadata": {},
   "source": [
    "#### [1] Dataset\n",
    "\n",
    "* Simpsons : https://www.kaggle.com/ambarish/fun-in-text-mining-with-simpsons/data\n",
    "* 데이터 집합은 심슨 부부의 대화 행"
   ]
  },
  {
   "cell_type": "code",
   "execution_count": 3,
   "id": "08477f5c-ca07-476b-99f2-499aee3b244c",
   "metadata": {},
   "outputs": [],
   "source": [
    "import re  # For preprocessing\n",
    "import pandas as pd  # For data handling\n",
    "from time import time  # To time our operations\n",
    "from collections import defaultdict  # For word frequency\n",
    "\n",
    "import spacy  # For preprocessing\n",
    "\n",
    "import logging  # Setting up the loggings to monitor gensim\n",
    "logging.basicConfig(format=\"%(levelname)s - %(asctime)s: %(message)s\", datefmt= '%H:%M:%S', level=logging.INFO)"
   ]
  },
  {
   "cell_type": "code",
   "execution_count": 4,
   "id": "cd0dbfd3-b2d0-4430-b3ce-dedee4f6a44c",
   "metadata": {},
   "outputs": [
    {
     "name": "stdout",
     "output_type": "stream",
     "text": [
      "dataset shape :  (158314, 2)\n"
     ]
    }
   ],
   "source": [
    "df = pd.read_csv(PATH+'simpsons_dataset.csv')\n",
    "print(\"dataset shape : \", df.shape)"
   ]
  },
  {
   "cell_type": "code",
   "execution_count": 5,
   "id": "0b58fd78-dcb5-4d63-9581-05bd6066fd73",
   "metadata": {},
   "outputs": [
    {
     "data": {
      "text/html": [
       "<div>\n",
       "<style scoped>\n",
       "    .dataframe tbody tr th:only-of-type {\n",
       "        vertical-align: middle;\n",
       "    }\n",
       "\n",
       "    .dataframe tbody tr th {\n",
       "        vertical-align: top;\n",
       "    }\n",
       "\n",
       "    .dataframe thead th {\n",
       "        text-align: right;\n",
       "    }\n",
       "</style>\n",
       "<table border=\"1\" class=\"dataframe\">\n",
       "  <thead>\n",
       "    <tr style=\"text-align: right;\">\n",
       "      <th></th>\n",
       "      <th>raw_character_text</th>\n",
       "      <th>spoken_words</th>\n",
       "    </tr>\n",
       "  </thead>\n",
       "  <tbody>\n",
       "    <tr>\n",
       "      <th>0</th>\n",
       "      <td>Miss Hoover</td>\n",
       "      <td>No, actually, it was a little of both. Sometim...</td>\n",
       "    </tr>\n",
       "    <tr>\n",
       "      <th>1</th>\n",
       "      <td>Lisa Simpson</td>\n",
       "      <td>Where's Mr. Bergstrom?</td>\n",
       "    </tr>\n",
       "    <tr>\n",
       "      <th>2</th>\n",
       "      <td>Miss Hoover</td>\n",
       "      <td>I don't know. Although I'd sure like to talk t...</td>\n",
       "    </tr>\n",
       "  </tbody>\n",
       "</table>\n",
       "</div>"
      ],
      "text/plain": [
       "  raw_character_text                                       spoken_words\n",
       "0        Miss Hoover  No, actually, it was a little of both. Sometim...\n",
       "1       Lisa Simpson                             Where's Mr. Bergstrom?\n",
       "2        Miss Hoover  I don't know. Although I'd sure like to talk t..."
      ]
     },
     "execution_count": 5,
     "metadata": {},
     "output_type": "execute_result"
    }
   ],
   "source": [
    "df.head(3)"
   ]
  },
  {
   "cell_type": "markdown",
   "id": "40312225-d8ad-4886-a456-6eabc5d13b28",
   "metadata": {},
   "source": [
    "### [1] 데이터 전처리"
   ]
  },
  {
   "cell_type": "markdown",
   "id": "b1f1b7b5-0c69-487f-83fb-d71cd83dc0f5",
   "metadata": {},
   "source": [
    "#### [1-1] 결측치 확인 및 제거"
   ]
  },
  {
   "cell_type": "code",
   "execution_count": 7,
   "id": "c3707c97-cc7c-4d48-b9b0-9029917eb93e",
   "metadata": {},
   "outputs": [
    {
     "data": {
      "text/plain": [
       "158314"
      ]
     },
     "execution_count": 7,
     "metadata": {},
     "output_type": "execute_result"
    }
   ],
   "source": [
    "len(df)"
   ]
  },
  {
   "cell_type": "code",
   "execution_count": 6,
   "id": "12552bd7-f905-44c5-8a41-0d45940243d7",
   "metadata": {},
   "outputs": [
    {
     "data": {
      "text/plain": [
       "raw_character_text    17814\n",
       "spoken_words          26459\n",
       "dtype: int64"
      ]
     },
     "execution_count": 6,
     "metadata": {},
     "output_type": "execute_result"
    }
   ],
   "source": [
    "df.isnull().sum()"
   ]
  },
  {
   "cell_type": "code",
   "execution_count": 8,
   "id": "4315c474-bff4-48c6-a22e-aeae593710e2",
   "metadata": {},
   "outputs": [],
   "source": [
    "df.dropna(axis=0, inplace=True)"
   ]
  },
  {
   "cell_type": "code",
   "execution_count": 9,
   "id": "322552f7-2e3e-425b-98a3-304a48be5802",
   "metadata": {},
   "outputs": [
    {
     "data": {
      "text/plain": [
       "raw_character_text    0\n",
       "spoken_words          0\n",
       "dtype: int64"
      ]
     },
     "execution_count": 9,
     "metadata": {},
     "output_type": "execute_result"
    }
   ],
   "source": [
    "df.isnull().sum()"
   ]
  },
  {
   "cell_type": "markdown",
   "id": "dc72878b-314a-465f-9040-f6dce6662524",
   "metadata": {},
   "source": [
    "#### [1-2] 데이터 정제"
   ]
  },
  {
   "cell_type": "code",
   "execution_count": 11,
   "id": "2a348380-543d-4f90-ab5b-4b35b6211ce7",
   "metadata": {},
   "outputs": [],
   "source": [
    "en = spacy.load('en_core_web_sm', disable=['ner', 'parser']) # disabling Named Entity Recognition for speed"
   ]
  },
  {
   "cell_type": "code",
   "execution_count": 12,
   "id": "6a15fd2d-3e58-43e4-84f9-61c8c9b5a4b2",
   "metadata": {},
   "outputs": [],
   "source": [
    "def cleaning(doc):\n",
    "    # Lemmatizes and removes stopwords\n",
    "    txt = [token.lemma_ for token in doc if not token.is_stop]\n",
    "    # Word2Vec uses context words to learn the vector representation of a target word,\n",
    "    # 하나 또는 두 단어일 경우에는 학습할 부분이 거의 없기 때문에 제거 한다.\n",
    "    if len(txt) > 2:\n",
    "        return ' '.join(txt)"
   ]
  },
  {
   "cell_type": "code",
   "execution_count": 13,
   "id": "ca667874-6f8e-4bc2-99c7-dc414ee57f60",
   "metadata": {},
   "outputs": [],
   "source": [
    "# re를 사용해 영어만 남기기 +소문자만 사용하기\n",
    "brief_cleaning = (re.sub(\"[^A-Za-z']+\", ' ', str(row)).lower() for row in df['spoken_words'])"
   ]
  },
  {
   "cell_type": "code",
   "execution_count": 15,
   "id": "a1521ae7-425a-417c-96e0-2e6d97c686cf",
   "metadata": {},
   "outputs": [],
   "source": [
    "# data cleaning\n",
    "txt = [cleaning(doc) for doc in en.pipe(brief_cleaning, batch_size=5000)]"
   ]
  },
  {
   "cell_type": "code",
   "execution_count": 16,
   "id": "77d9973e-8aae-47e2-902b-81495fe775b6",
   "metadata": {},
   "outputs": [
    {
     "data": {
      "text/plain": [
       "(85956, 1)"
      ]
     },
     "execution_count": 16,
     "metadata": {},
     "output_type": "execute_result"
    }
   ],
   "source": [
    "# 정제된 데이터로 df 새로 생성\n",
    "df_clean = pd.DataFrame({'clean': txt})\n",
    "df_clean = df_clean.dropna().drop_duplicates()\n",
    "df_clean.shape"
   ]
  },
  {
   "cell_type": "code",
   "execution_count": 17,
   "id": "e1093492-91ff-45ff-9bb7-cb62347c69d6",
   "metadata": {},
   "outputs": [
    {
     "data": {
      "text/html": [
       "<div>\n",
       "<style scoped>\n",
       "    .dataframe tbody tr th:only-of-type {\n",
       "        vertical-align: middle;\n",
       "    }\n",
       "\n",
       "    .dataframe tbody tr th {\n",
       "        vertical-align: top;\n",
       "    }\n",
       "\n",
       "    .dataframe thead th {\n",
       "        text-align: right;\n",
       "    }\n",
       "</style>\n",
       "<table border=\"1\" class=\"dataframe\">\n",
       "  <thead>\n",
       "    <tr style=\"text-align: right;\">\n",
       "      <th></th>\n",
       "      <th>clean</th>\n",
       "    </tr>\n",
       "  </thead>\n",
       "  <tbody>\n",
       "    <tr>\n",
       "      <th>0</th>\n",
       "      <td>actually little disease magazine news show nat...</td>\n",
       "    </tr>\n",
       "    <tr>\n",
       "      <th>2</th>\n",
       "      <td>know sure like talk touch lesson plan teach</td>\n",
       "    </tr>\n",
       "    <tr>\n",
       "      <th>3</th>\n",
       "      <td>life worth live</td>\n",
       "    </tr>\n",
       "  </tbody>\n",
       "</table>\n",
       "</div>"
      ],
      "text/plain": [
       "                                               clean\n",
       "0  actually little disease magazine news show nat...\n",
       "2        know sure like talk touch lesson plan teach\n",
       "3                                    life worth live"
      ]
     },
     "execution_count": 17,
     "metadata": {},
     "output_type": "execute_result"
    }
   ],
   "source": [
    "df_clean.head(3)"
   ]
  },
  {
   "cell_type": "markdown",
   "id": "0b3ae140-2778-481c-8139-8a934f333348",
   "metadata": {},
   "source": [
    "### [2] Word2vec"
   ]
  },
  {
   "cell_type": "markdown",
   "id": "5033fc66-0d7e-4c5b-be32-ccc9453dda81",
   "metadata": {},
   "source": [
    "#### [2-1] Bigrams"
   ]
  },
  {
   "cell_type": "markdown",
   "id": "90c60d3d-dc23-4c78-b946-93e66aec05b1",
   "metadata": {},
   "source": [
    "* \"mr_burns\" or \"bart_simpson\"과 같은 단어를 찾기 위해 진행\n",
    "* 동시등장성을 기반으로 연관있는 단어를 특정한 window size를 기반으로 묶어준다\n",
    "* 한 문장을 띄어쓰기 단위로 분리를 했을때 효과적으로 단어를 인식하게 도와준다"
   ]
  },
  {
   "cell_type": "code",
   "execution_count": 19,
   "id": "13c0907f-f020-47fb-9a45-099a5b27203f",
   "metadata": {},
   "outputs": [
    {
     "name": "stderr",
     "output_type": "stream",
     "text": [
      "INFO - 16:34:40: collecting all words and their counts\n",
      "INFO - 16:34:40: PROGRESS: at sentence #0, processed 0 words and 0 word types\n",
      "INFO - 16:34:40: PROGRESS: at sentence #10000, processed 63557 words and 52766 word types\n",
      "INFO - 16:34:40: PROGRESS: at sentence #20000, processed 130938 words and 99804 word types\n",
      "INFO - 16:34:40: PROGRESS: at sentence #30000, processed 192959 words and 138457 word types\n",
      "INFO - 16:34:40: PROGRESS: at sentence #40000, processed 249832 words and 172540 word types\n",
      "INFO - 16:34:40: PROGRESS: at sentence #50000, processed 311267 words and 208413 word types\n",
      "INFO - 16:34:40: PROGRESS: at sentence #60000, processed 373573 words and 243501 word types\n",
      "INFO - 16:34:40: PROGRESS: at sentence #70000, processed 436422 words and 278510 word types\n",
      "INFO - 16:34:41: PROGRESS: at sentence #80000, processed 497885 words and 311663 word types\n",
      "INFO - 16:34:41: collected 330422 word types from a corpus of 537096 words (unigram + bigrams) and 85956 sentences\n",
      "INFO - 16:34:41: using 330422 counts as vocab in Phrases<0 vocab, min_count=30, threshold=10.0, max_vocab_size=40000000>\n"
     ]
    }
   ],
   "source": [
    "from gensim.models.phrases import Phrases, Phraser\n",
    "\n",
    "# 한 문장을 띄어쓰기 단위로 분리\n",
    "sent = [row.split() for row in df_clean['clean']]\n",
    "\n",
    "# 모델을 만들어 주기\n",
    "# min_count : 단어 선택 기준(빈도 횟수)\n",
    "phrases = Phrases(sent, min_count=30, progress_per=10000)"
   ]
  },
  {
   "cell_type": "code",
   "execution_count": 20,
   "id": "7882028c-cba2-4496-b225-506b209ba2cd",
   "metadata": {},
   "outputs": [
    {
     "name": "stderr",
     "output_type": "stream",
     "text": [
      "INFO - 16:37:31: source_vocab length 330422\n",
      "INFO - 16:37:33: Phraser built with 126 phrasegrams\n"
     ]
    }
   ],
   "source": [
    "# # 모델을 만들어 주기 -> bigram\n",
    "bigram = Phraser(phrases)"
   ]
  },
  {
   "cell_type": "code",
   "execution_count": 22,
   "id": "86a51d77-94f0-4f5d-a1fe-8d25b0bd8c50",
   "metadata": {},
   "outputs": [],
   "source": [
    "# Transform the corpus based on the bigrams detected\n",
    "sentences = bigram[sent]"
   ]
  },
  {
   "cell_type": "code",
   "execution_count": 27,
   "id": "de5a3bcc-3119-43ad-b170-e793f1626e74",
   "metadata": {},
   "outputs": [
    {
     "name": "stdout",
     "output_type": "stream",
     "text": [
      "original sentence :  ['know', 'sure', 'like', 'talk', 'touch', 'lesson', 'plan', 'teach']\n",
      "bigram sentence :  ['know', 'sure', 'like', 'talk', 'touch', 'lesson', 'plan', 'teach']\n"
     ]
    }
   ],
   "source": [
    "print(\"original sentence : \", sent[1])\n",
    "print(\"bigram sentence : \", sentences[1])"
   ]
  },
  {
   "cell_type": "code",
   "execution_count": 28,
   "id": "8a0c3165-80bd-41fc-85e4-07f4073e896d",
   "metadata": {},
   "outputs": [
    {
     "data": {
      "text/plain": [
       "29662"
      ]
     },
     "execution_count": 28,
     "metadata": {},
     "output_type": "execute_result"
    }
   ],
   "source": [
    "# 단어 빈도 확인\n",
    "\n",
    "word_freq = defaultdict(int)\n",
    "for sent in sentences:\n",
    "    for i in sent:\n",
    "        word_freq[i] += 1\n",
    "len(word_freq)"
   ]
  },
  {
   "cell_type": "code",
   "execution_count": 29,
   "id": "6ec66189-c22e-41a7-aecd-3bc54f2f1c0c",
   "metadata": {},
   "outputs": [
    {
     "data": {
      "text/plain": [
       "['oh', 'like', 'know', 'get', 'hey', 'think', 'right', 'look', 'want', 'come']"
      ]
     },
     "execution_count": 29,
     "metadata": {},
     "output_type": "execute_result"
    }
   ],
   "source": [
    "sorted(word_freq, key=word_freq.get, reverse=True)[:10]"
   ]
  },
  {
   "cell_type": "markdown",
   "id": "8df2362a-fe59-44eb-a3d1-8df7fb457904",
   "metadata": {},
   "source": [
    "#### [2-2] Word2vec 학습"
   ]
  },
  {
   "cell_type": "code",
   "execution_count": 31,
   "id": "bc0f952f-61ec-4e2a-ba58-fbe4d7288bd0",
   "metadata": {},
   "outputs": [
    {
     "name": "stderr",
     "output_type": "stream",
     "text": [
      "INFO - 16:49:12: collecting all words and their counts\n",
      "INFO - 16:49:12: PROGRESS: at sentence #0, processed 0 words, keeping 0 word types\n",
      "INFO - 16:49:12: PROGRESS: at sentence #10000, processed 61704 words, keeping 9490 word types\n",
      "INFO - 16:49:13: PROGRESS: at sentence #20000, processed 127324 words, keeping 14368 word types\n",
      "INFO - 16:49:13: PROGRESS: at sentence #30000, processed 187817 words, keeping 17428 word types\n",
      "INFO - 16:49:13: PROGRESS: at sentence #40000, processed 243317 words, keeping 20115 word types\n",
      "INFO - 16:49:13: PROGRESS: at sentence #50000, processed 303171 words, keeping 22547 word types\n",
      "INFO - 16:49:13: PROGRESS: at sentence #60000, processed 363906 words, keeping 24808 word types\n",
      "INFO - 16:49:13: PROGRESS: at sentence #70000, processed 425365 words, keeping 26972 word types\n",
      "INFO - 16:49:13: PROGRESS: at sentence #80000, processed 485491 words, keeping 28798 word types\n",
      "INFO - 16:49:13: collected 29662 word types from a corpus of 523600 raw words and 85956 sentences\n",
      "INFO - 16:49:13: Loading a fresh vocabulary\n",
      "INFO - 16:49:13: effective_min_count=20 retains 3317 unique words (11% of original 29662, drops 26345)\n",
      "INFO - 16:49:13: effective_min_count=20 leaves 437990 word corpus (83% of original 523600, drops 85610)\n",
      "INFO - 16:49:13: deleting the raw counts dictionary of 29662 items\n",
      "INFO - 16:49:13: sample=6e-05 downsamples 1204 most-common words\n",
      "INFO - 16:49:13: downsampling leaves estimated 199525 word corpus (45.6% of prior 437990)\n",
      "INFO - 16:49:13: estimated required memory for 3317 words and 300 dimensions: 9619300 bytes\n",
      "INFO - 16:49:13: resetting layer weights\n"
     ]
    }
   ],
   "source": [
    "import multiprocessing\n",
    "\n",
    "from gensim.models import Word2Vec\n",
    "\n",
    "cores = multiprocessing.cpu_count() # Count the number of cores in a computer\n",
    "\n",
    "# Word2Vec 모델 설계\n",
    "w2v_model = Word2Vec(min_count=20,\n",
    "                     window=2,\n",
    "                     size=300,\n",
    "                     sample=6e-5, \n",
    "                     alpha=0.03, \n",
    "                     min_alpha=0.0007, \n",
    "                     negative=20,\n",
    "                     workers=cores-1)\n",
    "\n",
    "# 단어 사전 구축\n",
    "w2v_model.build_vocab(sentences, progress_per=10000)"
   ]
  },
  {
   "cell_type": "code",
   "execution_count": 32,
   "id": "dc59802d-4656-4d7e-9920-c6227dd8f22f",
   "metadata": {
    "collapsed": true,
    "jupyter": {
     "outputs_hidden": true
    },
    "tags": []
   },
   "outputs": [
    {
     "name": "stderr",
     "output_type": "stream",
     "text": [
      "INFO - 16:50:38: training model with 7 workers on 3317 vocabulary and 300 features, using sg=0 hs=0 sample=6e-05 negative=20 window=2\n",
      "INFO - 16:50:39: EPOCH 1 - PROGRESS: at 86.15% examples, 171396 words/s, in_qsize 0, out_qsize 0\n",
      "INFO - 16:50:39: worker thread finished; awaiting finish of 6 more threads\n",
      "INFO - 16:50:39: worker thread finished; awaiting finish of 5 more threads\n",
      "INFO - 16:50:39: worker thread finished; awaiting finish of 4 more threads\n",
      "INFO - 16:50:39: worker thread finished; awaiting finish of 3 more threads\n",
      "INFO - 16:50:39: worker thread finished; awaiting finish of 2 more threads\n",
      "INFO - 16:50:39: worker thread finished; awaiting finish of 1 more threads\n",
      "INFO - 16:50:39: worker thread finished; awaiting finish of 0 more threads\n",
      "INFO - 16:50:39: EPOCH - 1 : training on 523600 raw words (199750 effective words) took 1.1s, 175482 effective words/s\n",
      "INFO - 16:50:40: EPOCH 2 - PROGRESS: at 88.14% examples, 168820 words/s, in_qsize 0, out_qsize 1\n",
      "INFO - 16:50:40: worker thread finished; awaiting finish of 6 more threads\n",
      "INFO - 16:50:40: worker thread finished; awaiting finish of 5 more threads\n",
      "INFO - 16:50:40: worker thread finished; awaiting finish of 4 more threads\n",
      "INFO - 16:50:40: worker thread finished; awaiting finish of 3 more threads\n",
      "INFO - 16:50:40: worker thread finished; awaiting finish of 2 more threads\n",
      "INFO - 16:50:40: worker thread finished; awaiting finish of 1 more threads\n",
      "INFO - 16:50:40: worker thread finished; awaiting finish of 0 more threads\n",
      "INFO - 16:50:40: EPOCH - 2 : training on 523600 raw words (198843 effective words) took 1.1s, 177099 effective words/s\n",
      "INFO - 16:50:41: worker thread finished; awaiting finish of 6 more threads\n",
      "INFO - 16:50:41: worker thread finished; awaiting finish of 5 more threads\n",
      "INFO - 16:50:41: worker thread finished; awaiting finish of 4 more threads\n",
      "INFO - 16:50:41: worker thread finished; awaiting finish of 3 more threads\n",
      "INFO - 16:50:41: worker thread finished; awaiting finish of 2 more threads\n",
      "INFO - 16:50:41: EPOCH 3 - PROGRESS: at 98.13% examples, 194759 words/s, in_qsize 1, out_qsize 1\n",
      "INFO - 16:50:41: worker thread finished; awaiting finish of 1 more threads\n",
      "INFO - 16:50:41: worker thread finished; awaiting finish of 0 more threads\n",
      "INFO - 16:50:41: EPOCH - 3 : training on 523600 raw words (199557 effective words) took 1.0s, 197187 effective words/s\n",
      "INFO - 16:50:42: EPOCH 4 - PROGRESS: at 86.15% examples, 171827 words/s, in_qsize 0, out_qsize 0\n",
      "INFO - 16:50:42: worker thread finished; awaiting finish of 6 more threads\n",
      "INFO - 16:50:42: worker thread finished; awaiting finish of 5 more threads\n",
      "INFO - 16:50:42: worker thread finished; awaiting finish of 4 more threads\n",
      "INFO - 16:50:42: worker thread finished; awaiting finish of 3 more threads\n",
      "INFO - 16:50:42: worker thread finished; awaiting finish of 2 more threads\n",
      "INFO - 16:50:42: worker thread finished; awaiting finish of 1 more threads\n",
      "INFO - 16:50:42: worker thread finished; awaiting finish of 0 more threads\n",
      "INFO - 16:50:42: EPOCH - 4 : training on 523600 raw words (199601 effective words) took 1.1s, 176504 effective words/s\n",
      "INFO - 16:50:43: EPOCH 5 - PROGRESS: at 88.14% examples, 173384 words/s, in_qsize 0, out_qsize 0\n",
      "INFO - 16:50:43: worker thread finished; awaiting finish of 6 more threads\n",
      "INFO - 16:50:43: worker thread finished; awaiting finish of 5 more threads\n",
      "INFO - 16:50:43: worker thread finished; awaiting finish of 4 more threads\n",
      "INFO - 16:50:43: worker thread finished; awaiting finish of 3 more threads\n",
      "INFO - 16:50:43: worker thread finished; awaiting finish of 2 more threads\n",
      "INFO - 16:50:43: worker thread finished; awaiting finish of 1 more threads\n",
      "INFO - 16:50:43: worker thread finished; awaiting finish of 0 more threads\n",
      "INFO - 16:50:43: EPOCH - 5 : training on 523600 raw words (199524 effective words) took 1.1s, 176882 effective words/s\n",
      "INFO - 16:50:44: EPOCH 6 - PROGRESS: at 97.47% examples, 193167 words/s, in_qsize 0, out_qsize 0\n",
      "INFO - 16:50:44: worker thread finished; awaiting finish of 6 more threads\n",
      "INFO - 16:50:44: worker thread finished; awaiting finish of 5 more threads\n",
      "INFO - 16:50:44: worker thread finished; awaiting finish of 4 more threads\n",
      "INFO - 16:50:44: worker thread finished; awaiting finish of 3 more threads\n",
      "INFO - 16:50:44: worker thread finished; awaiting finish of 2 more threads\n",
      "INFO - 16:50:44: worker thread finished; awaiting finish of 1 more threads\n",
      "INFO - 16:50:44: worker thread finished; awaiting finish of 0 more threads\n",
      "INFO - 16:50:44: EPOCH - 6 : training on 523600 raw words (199999 effective words) took 1.0s, 195129 effective words/s\n",
      "INFO - 16:50:45: EPOCH 7 - PROGRESS: at 88.14% examples, 171934 words/s, in_qsize 0, out_qsize 0\n",
      "INFO - 16:50:45: worker thread finished; awaiting finish of 6 more threads\n",
      "INFO - 16:50:45: worker thread finished; awaiting finish of 5 more threads\n",
      "INFO - 16:50:45: worker thread finished; awaiting finish of 4 more threads\n",
      "INFO - 16:50:45: worker thread finished; awaiting finish of 3 more threads\n",
      "INFO - 16:50:45: worker thread finished; awaiting finish of 2 more threads\n",
      "INFO - 16:50:45: worker thread finished; awaiting finish of 1 more threads\n",
      "INFO - 16:50:45: worker thread finished; awaiting finish of 0 more threads\n",
      "INFO - 16:50:45: EPOCH - 7 : training on 523600 raw words (199036 effective words) took 1.1s, 176524 effective words/s\n",
      "INFO - 16:50:46: EPOCH 8 - PROGRESS: at 86.15% examples, 170317 words/s, in_qsize 0, out_qsize 0\n",
      "INFO - 16:50:47: worker thread finished; awaiting finish of 6 more threads\n",
      "INFO - 16:50:47: worker thread finished; awaiting finish of 5 more threads\n",
      "INFO - 16:50:47: worker thread finished; awaiting finish of 4 more threads\n",
      "INFO - 16:50:47: worker thread finished; awaiting finish of 3 more threads\n",
      "INFO - 16:50:47: worker thread finished; awaiting finish of 2 more threads\n",
      "INFO - 16:50:47: worker thread finished; awaiting finish of 1 more threads\n",
      "INFO - 16:50:47: worker thread finished; awaiting finish of 0 more threads\n",
      "INFO - 16:50:47: EPOCH - 8 : training on 523600 raw words (199339 effective words) took 1.1s, 174918 effective words/s\n",
      "INFO - 16:50:48: EPOCH 9 - PROGRESS: at 95.70% examples, 189261 words/s, in_qsize 0, out_qsize 0\n",
      "INFO - 16:50:48: worker thread finished; awaiting finish of 6 more threads\n",
      "INFO - 16:50:48: worker thread finished; awaiting finish of 5 more threads\n",
      "INFO - 16:50:48: worker thread finished; awaiting finish of 4 more threads\n",
      "INFO - 16:50:48: worker thread finished; awaiting finish of 3 more threads\n",
      "INFO - 16:50:48: worker thread finished; awaiting finish of 2 more threads\n",
      "INFO - 16:50:48: worker thread finished; awaiting finish of 1 more threads\n",
      "INFO - 16:50:48: worker thread finished; awaiting finish of 0 more threads\n",
      "INFO - 16:50:48: EPOCH - 9 : training on 523600 raw words (199516 effective words) took 1.0s, 193785 effective words/s\n",
      "INFO - 16:50:49: EPOCH 10 - PROGRESS: at 90.04% examples, 175952 words/s, in_qsize 0, out_qsize 0\n",
      "INFO - 16:50:49: worker thread finished; awaiting finish of 6 more threads\n",
      "INFO - 16:50:49: worker thread finished; awaiting finish of 5 more threads\n",
      "INFO - 16:50:49: worker thread finished; awaiting finish of 4 more threads\n",
      "INFO - 16:50:49: worker thread finished; awaiting finish of 3 more threads\n",
      "INFO - 16:50:49: worker thread finished; awaiting finish of 2 more threads\n",
      "INFO - 16:50:49: worker thread finished; awaiting finish of 1 more threads\n",
      "INFO - 16:50:49: worker thread finished; awaiting finish of 0 more threads\n",
      "INFO - 16:50:49: EPOCH - 10 : training on 523600 raw words (199684 effective words) took 1.1s, 178997 effective words/s\n",
      "INFO - 16:50:50: EPOCH 11 - PROGRESS: at 93.83% examples, 172515 words/s, in_qsize 0, out_qsize 0\n",
      "INFO - 16:50:50: worker thread finished; awaiting finish of 6 more threads\n",
      "INFO - 16:50:50: worker thread finished; awaiting finish of 5 more threads\n",
      "INFO - 16:50:50: worker thread finished; awaiting finish of 4 more threads\n",
      "INFO - 16:50:50: worker thread finished; awaiting finish of 3 more threads\n",
      "INFO - 16:50:50: worker thread finished; awaiting finish of 2 more threads\n",
      "INFO - 16:50:50: worker thread finished; awaiting finish of 1 more threads\n",
      "INFO - 16:50:50: worker thread finished; awaiting finish of 0 more threads\n",
      "INFO - 16:50:50: EPOCH - 11 : training on 523600 raw words (199314 effective words) took 1.1s, 176983 effective words/s\n",
      "INFO - 16:50:51: EPOCH 12 - PROGRESS: at 97.47% examples, 191530 words/s, in_qsize 3, out_qsize 4\n",
      "INFO - 16:50:51: worker thread finished; awaiting finish of 6 more threads\n",
      "INFO - 16:50:51: worker thread finished; awaiting finish of 5 more threads\n",
      "INFO - 16:50:51: worker thread finished; awaiting finish of 4 more threads\n",
      "INFO - 16:50:51: worker thread finished; awaiting finish of 3 more threads\n",
      "INFO - 16:50:51: worker thread finished; awaiting finish of 2 more threads\n",
      "INFO - 16:50:51: worker thread finished; awaiting finish of 1 more threads\n",
      "INFO - 16:50:51: worker thread finished; awaiting finish of 0 more threads\n",
      "INFO - 16:50:51: EPOCH - 12 : training on 523600 raw words (199080 effective words) took 1.0s, 194434 effective words/s\n",
      "INFO - 16:50:52: EPOCH 13 - PROGRESS: at 88.14% examples, 172637 words/s, in_qsize 0, out_qsize 0\n",
      "INFO - 16:50:52: worker thread finished; awaiting finish of 6 more threads\n",
      "INFO - 16:50:52: worker thread finished; awaiting finish of 5 more threads\n",
      "INFO - 16:50:52: worker thread finished; awaiting finish of 4 more threads\n",
      "INFO - 16:50:52: worker thread finished; awaiting finish of 3 more threads\n",
      "INFO - 16:50:52: worker thread finished; awaiting finish of 2 more threads\n",
      "INFO - 16:50:52: worker thread finished; awaiting finish of 1 more threads\n",
      "INFO - 16:50:52: worker thread finished; awaiting finish of 0 more threads\n",
      "INFO - 16:50:52: EPOCH - 13 : training on 523600 raw words (199445 effective words) took 1.1s, 176569 effective words/s\n",
      "INFO - 16:50:53: EPOCH 14 - PROGRESS: at 91.99% examples, 173975 words/s, in_qsize 1, out_qsize 0\n",
      "INFO - 16:50:53: worker thread finished; awaiting finish of 6 more threads\n",
      "INFO - 16:50:53: worker thread finished; awaiting finish of 5 more threads\n",
      "INFO - 16:50:53: worker thread finished; awaiting finish of 4 more threads\n",
      "INFO - 16:50:53: worker thread finished; awaiting finish of 3 more threads\n",
      "INFO - 16:50:53: worker thread finished; awaiting finish of 2 more threads\n",
      "INFO - 16:50:53: worker thread finished; awaiting finish of 1 more threads\n",
      "INFO - 16:50:53: worker thread finished; awaiting finish of 0 more threads\n",
      "INFO - 16:50:53: EPOCH - 14 : training on 523600 raw words (199837 effective words) took 1.1s, 176579 effective words/s\n",
      "INFO - 16:50:54: EPOCH 15 - PROGRESS: at 97.47% examples, 194370 words/s, in_qsize 0, out_qsize 0\n",
      "INFO - 16:50:54: worker thread finished; awaiting finish of 6 more threads\n",
      "INFO - 16:50:54: worker thread finished; awaiting finish of 5 more threads\n",
      "INFO - 16:50:54: worker thread finished; awaiting finish of 4 more threads\n",
      "INFO - 16:50:54: worker thread finished; awaiting finish of 3 more threads\n",
      "INFO - 16:50:54: worker thread finished; awaiting finish of 2 more threads\n",
      "INFO - 16:50:54: worker thread finished; awaiting finish of 1 more threads\n",
      "INFO - 16:50:54: worker thread finished; awaiting finish of 0 more threads\n",
      "INFO - 16:50:54: EPOCH - 15 : training on 523600 raw words (199718 effective words) took 1.0s, 196578 effective words/s\n",
      "INFO - 16:50:55: EPOCH 16 - PROGRESS: at 86.15% examples, 171040 words/s, in_qsize 0, out_qsize 0\n",
      "INFO - 16:50:55: worker thread finished; awaiting finish of 6 more threads\n",
      "INFO - 16:50:55: worker thread finished; awaiting finish of 5 more threads\n",
      "INFO - 16:50:55: worker thread finished; awaiting finish of 4 more threads\n",
      "INFO - 16:50:55: worker thread finished; awaiting finish of 3 more threads\n",
      "INFO - 16:50:55: worker thread finished; awaiting finish of 2 more threads\n",
      "INFO - 16:50:55: worker thread finished; awaiting finish of 1 more threads\n",
      "INFO - 16:50:55: worker thread finished; awaiting finish of 0 more threads\n",
      "INFO - 16:50:55: EPOCH - 16 : training on 523600 raw words (199123 effective words) took 1.1s, 175755 effective words/s\n",
      "INFO - 16:50:56: EPOCH 17 - PROGRESS: at 86.15% examples, 171372 words/s, in_qsize 0, out_qsize 0\n",
      "INFO - 16:50:56: worker thread finished; awaiting finish of 6 more threads\n",
      "INFO - 16:50:57: worker thread finished; awaiting finish of 5 more threads\n",
      "INFO - 16:50:57: worker thread finished; awaiting finish of 4 more threads\n",
      "INFO - 16:50:57: worker thread finished; awaiting finish of 3 more threads\n",
      "INFO - 16:50:57: worker thread finished; awaiting finish of 2 more threads\n",
      "INFO - 16:50:57: worker thread finished; awaiting finish of 1 more threads\n",
      "INFO - 16:50:57: worker thread finished; awaiting finish of 0 more threads\n",
      "INFO - 16:50:57: EPOCH - 17 : training on 523600 raw words (199378 effective words) took 1.1s, 175940 effective words/s\n",
      "INFO - 16:50:58: EPOCH 18 - PROGRESS: at 97.47% examples, 192625 words/s, in_qsize 0, out_qsize 0\n",
      "INFO - 16:50:58: worker thread finished; awaiting finish of 6 more threads\n",
      "INFO - 16:50:58: worker thread finished; awaiting finish of 5 more threads\n",
      "INFO - 16:50:58: worker thread finished; awaiting finish of 4 more threads\n",
      "INFO - 16:50:58: worker thread finished; awaiting finish of 3 more threads\n",
      "INFO - 16:50:58: worker thread finished; awaiting finish of 2 more threads\n",
      "INFO - 16:50:58: worker thread finished; awaiting finish of 1 more threads\n",
      "INFO - 16:50:58: worker thread finished; awaiting finish of 0 more threads\n",
      "INFO - 16:50:58: EPOCH - 18 : training on 523600 raw words (199426 effective words) took 1.0s, 194748 effective words/s\n",
      "INFO - 16:50:59: EPOCH 19 - PROGRESS: at 86.15% examples, 171508 words/s, in_qsize 0, out_qsize 0\n",
      "INFO - 16:50:59: worker thread finished; awaiting finish of 6 more threads\n",
      "INFO - 16:50:59: worker thread finished; awaiting finish of 5 more threads\n",
      "INFO - 16:50:59: worker thread finished; awaiting finish of 4 more threads\n",
      "INFO - 16:50:59: worker thread finished; awaiting finish of 3 more threads\n",
      "INFO - 16:50:59: worker thread finished; awaiting finish of 2 more threads\n",
      "INFO - 16:50:59: worker thread finished; awaiting finish of 1 more threads\n",
      "INFO - 16:50:59: worker thread finished; awaiting finish of 0 more threads\n",
      "INFO - 16:50:59: EPOCH - 19 : training on 523600 raw words (199541 effective words) took 1.1s, 176325 effective words/s\n",
      "INFO - 16:51:00: EPOCH 20 - PROGRESS: at 86.15% examples, 169538 words/s, in_qsize 0, out_qsize 0\n",
      "INFO - 16:51:00: worker thread finished; awaiting finish of 6 more threads\n",
      "INFO - 16:51:00: worker thread finished; awaiting finish of 5 more threads\n",
      "INFO - 16:51:00: worker thread finished; awaiting finish of 4 more threads\n",
      "INFO - 16:51:00: worker thread finished; awaiting finish of 3 more threads\n",
      "INFO - 16:51:00: worker thread finished; awaiting finish of 2 more threads\n",
      "INFO - 16:51:00: worker thread finished; awaiting finish of 1 more threads\n",
      "INFO - 16:51:00: worker thread finished; awaiting finish of 0 more threads\n",
      "INFO - 16:51:00: EPOCH - 20 : training on 523600 raw words (199888 effective words) took 1.1s, 174870 effective words/s\n",
      "INFO - 16:51:01: EPOCH 21 - PROGRESS: at 97.47% examples, 191198 words/s, in_qsize 0, out_qsize 0\n",
      "INFO - 16:51:01: worker thread finished; awaiting finish of 6 more threads\n",
      "INFO - 16:51:01: worker thread finished; awaiting finish of 5 more threads\n",
      "INFO - 16:51:01: worker thread finished; awaiting finish of 4 more threads\n",
      "INFO - 16:51:01: worker thread finished; awaiting finish of 3 more threads\n",
      "INFO - 16:51:01: worker thread finished; awaiting finish of 2 more threads\n",
      "INFO - 16:51:01: worker thread finished; awaiting finish of 1 more threads\n",
      "INFO - 16:51:01: worker thread finished; awaiting finish of 0 more threads\n",
      "INFO - 16:51:01: EPOCH - 21 : training on 523600 raw words (199936 effective words) took 1.0s, 193334 effective words/s\n",
      "INFO - 16:51:02: EPOCH 22 - PROGRESS: at 86.15% examples, 170897 words/s, in_qsize 0, out_qsize 0\n",
      "INFO - 16:51:02: worker thread finished; awaiting finish of 6 more threads\n",
      "INFO - 16:51:02: worker thread finished; awaiting finish of 5 more threads\n",
      "INFO - 16:51:02: worker thread finished; awaiting finish of 4 more threads\n",
      "INFO - 16:51:02: worker thread finished; awaiting finish of 3 more threads\n",
      "INFO - 16:51:02: worker thread finished; awaiting finish of 2 more threads\n",
      "INFO - 16:51:02: worker thread finished; awaiting finish of 1 more threads\n",
      "INFO - 16:51:02: worker thread finished; awaiting finish of 0 more threads\n",
      "INFO - 16:51:02: EPOCH - 22 : training on 523600 raw words (199667 effective words) took 1.1s, 175817 effective words/s\n",
      "INFO - 16:51:03: EPOCH 23 - PROGRESS: at 88.14% examples, 172987 words/s, in_qsize 0, out_qsize 0\n",
      "INFO - 16:51:03: worker thread finished; awaiting finish of 6 more threads\n",
      "INFO - 16:51:03: worker thread finished; awaiting finish of 5 more threads\n",
      "INFO - 16:51:03: worker thread finished; awaiting finish of 4 more threads\n",
      "INFO - 16:51:03: worker thread finished; awaiting finish of 3 more threads\n",
      "INFO - 16:51:03: worker thread finished; awaiting finish of 2 more threads\n",
      "INFO - 16:51:03: worker thread finished; awaiting finish of 1 more threads\n",
      "INFO - 16:51:03: worker thread finished; awaiting finish of 0 more threads\n",
      "INFO - 16:51:03: EPOCH - 23 : training on 523600 raw words (199627 effective words) took 1.1s, 176923 effective words/s\n",
      "INFO - 16:51:04: EPOCH 24 - PROGRESS: at 95.70% examples, 190256 words/s, in_qsize 0, out_qsize 0\n",
      "INFO - 16:51:04: worker thread finished; awaiting finish of 6 more threads\n",
      "INFO - 16:51:04: worker thread finished; awaiting finish of 5 more threads\n",
      "INFO - 16:51:04: worker thread finished; awaiting finish of 4 more threads\n",
      "INFO - 16:51:04: worker thread finished; awaiting finish of 3 more threads\n",
      "INFO - 16:51:04: worker thread finished; awaiting finish of 2 more threads\n",
      "INFO - 16:51:04: worker thread finished; awaiting finish of 1 more threads\n",
      "INFO - 16:51:04: worker thread finished; awaiting finish of 0 more threads\n",
      "INFO - 16:51:04: EPOCH - 24 : training on 523600 raw words (199302 effective words) took 1.0s, 192214 effective words/s\n",
      "INFO - 16:51:05: EPOCH 25 - PROGRESS: at 86.15% examples, 169239 words/s, in_qsize 0, out_qsize 0\n",
      "INFO - 16:51:05: worker thread finished; awaiting finish of 6 more threads\n",
      "INFO - 16:51:05: worker thread finished; awaiting finish of 5 more threads\n",
      "INFO - 16:51:05: worker thread finished; awaiting finish of 4 more threads\n",
      "INFO - 16:51:05: worker thread finished; awaiting finish of 3 more threads\n",
      "INFO - 16:51:05: worker thread finished; awaiting finish of 2 more threads\n",
      "INFO - 16:51:05: worker thread finished; awaiting finish of 1 more threads\n",
      "INFO - 16:51:05: worker thread finished; awaiting finish of 0 more threads\n",
      "INFO - 16:51:05: EPOCH - 25 : training on 523600 raw words (199398 effective words) took 1.1s, 174366 effective words/s\n",
      "INFO - 16:51:06: EPOCH 26 - PROGRESS: at 86.15% examples, 171480 words/s, in_qsize 0, out_qsize 0\n",
      "INFO - 16:51:06: worker thread finished; awaiting finish of 6 more threads\n",
      "INFO - 16:51:06: worker thread finished; awaiting finish of 5 more threads\n",
      "INFO - 16:51:06: worker thread finished; awaiting finish of 4 more threads\n",
      "INFO - 16:51:06: worker thread finished; awaiting finish of 3 more threads\n",
      "INFO - 16:51:06: worker thread finished; awaiting finish of 2 more threads\n",
      "INFO - 16:51:06: worker thread finished; awaiting finish of 1 more threads\n",
      "INFO - 16:51:06: worker thread finished; awaiting finish of 0 more threads\n",
      "INFO - 16:51:06: EPOCH - 26 : training on 523600 raw words (199769 effective words) took 1.1s, 177582 effective words/s\n",
      "INFO - 16:51:07: EPOCH 27 - PROGRESS: at 97.47% examples, 193203 words/s, in_qsize 0, out_qsize 0\n",
      "INFO - 16:51:07: worker thread finished; awaiting finish of 6 more threads\n",
      "INFO - 16:51:07: worker thread finished; awaiting finish of 5 more threads\n",
      "INFO - 16:51:07: worker thread finished; awaiting finish of 4 more threads\n",
      "INFO - 16:51:07: worker thread finished; awaiting finish of 3 more threads\n",
      "INFO - 16:51:07: worker thread finished; awaiting finish of 2 more threads\n",
      "INFO - 16:51:07: worker thread finished; awaiting finish of 1 more threads\n",
      "INFO - 16:51:08: worker thread finished; awaiting finish of 0 more threads\n",
      "INFO - 16:51:08: EPOCH - 27 : training on 523600 raw words (199791 effective words) took 1.0s, 195400 effective words/s\n",
      "INFO - 16:51:09: EPOCH 28 - PROGRESS: at 86.15% examples, 170777 words/s, in_qsize 0, out_qsize 0\n",
      "INFO - 16:51:09: worker thread finished; awaiting finish of 6 more threads\n",
      "INFO - 16:51:09: worker thread finished; awaiting finish of 5 more threads\n",
      "INFO - 16:51:09: worker thread finished; awaiting finish of 4 more threads\n",
      "INFO - 16:51:09: worker thread finished; awaiting finish of 3 more threads\n",
      "INFO - 16:51:09: worker thread finished; awaiting finish of 2 more threads\n",
      "INFO - 16:51:09: worker thread finished; awaiting finish of 1 more threads\n",
      "INFO - 16:51:09: worker thread finished; awaiting finish of 0 more threads\n",
      "INFO - 16:51:09: EPOCH - 28 : training on 523600 raw words (199306 effective words) took 1.1s, 175503 effective words/s\n",
      "INFO - 16:51:10: EPOCH 29 - PROGRESS: at 88.14% examples, 172935 words/s, in_qsize 0, out_qsize 0\n",
      "INFO - 16:51:10: worker thread finished; awaiting finish of 6 more threads\n",
      "INFO - 16:51:10: worker thread finished; awaiting finish of 5 more threads\n",
      "INFO - 16:51:10: worker thread finished; awaiting finish of 4 more threads\n",
      "INFO - 16:51:10: worker thread finished; awaiting finish of 3 more threads\n",
      "INFO - 16:51:10: worker thread finished; awaiting finish of 2 more threads\n",
      "INFO - 16:51:10: worker thread finished; awaiting finish of 1 more threads\n",
      "INFO - 16:51:10: worker thread finished; awaiting finish of 0 more threads\n",
      "INFO - 16:51:10: EPOCH - 29 : training on 523600 raw words (199605 effective words) took 1.1s, 177349 effective words/s\n",
      "INFO - 16:51:11: EPOCH 30 - PROGRESS: at 97.47% examples, 192587 words/s, in_qsize 0, out_qsize 0\n",
      "INFO - 16:51:11: worker thread finished; awaiting finish of 6 more threads\n",
      "INFO - 16:51:11: worker thread finished; awaiting finish of 5 more threads\n",
      "INFO - 16:51:11: worker thread finished; awaiting finish of 4 more threads\n",
      "INFO - 16:51:11: worker thread finished; awaiting finish of 3 more threads\n",
      "INFO - 16:51:11: worker thread finished; awaiting finish of 2 more threads\n",
      "INFO - 16:51:11: worker thread finished; awaiting finish of 1 more threads\n",
      "INFO - 16:51:11: worker thread finished; awaiting finish of 0 more threads\n",
      "INFO - 16:51:11: EPOCH - 30 : training on 523600 raw words (199157 effective words) took 1.0s, 194686 effective words/s\n",
      "INFO - 16:51:11: training on a 15708000 raw words (5985157 effective words) took 33.1s, 180868 effective words/s\n"
     ]
    },
    {
     "data": {
      "text/plain": [
       "(5985157, 15708000)"
      ]
     },
     "execution_count": 32,
     "metadata": {},
     "output_type": "execute_result"
    }
   ],
   "source": [
    "w2v_model.train(sentences, total_examples=w2v_model.corpus_count, epochs=30, report_delay=1)"
   ]
  },
  {
   "cell_type": "code",
   "execution_count": 33,
   "id": "da5d0e93-6594-4963-816e-7be16d436347",
   "metadata": {},
   "outputs": [
    {
     "name": "stderr",
     "output_type": "stream",
     "text": [
      "INFO - 16:52:51: precomputing L2-norms of word weight vectors\n"
     ]
    }
   ],
   "source": [
    "# memory 효율적으로 쓰기 위해서 init_sim 함수 사용\n",
    "w2v_model.init_sims(replace=True)"
   ]
  },
  {
   "cell_type": "markdown",
   "id": "505df0a4-38f5-407d-a2ed-2f0bea972b3a",
   "metadata": {},
   "source": [
    "### [3] Exploring the model"
   ]
  },
  {
   "cell_type": "markdown",
   "id": "9c9dd2f5-b0da-4a65-b989-a4742e41b969",
   "metadata": {},
   "source": [
    "* most_similar()"
   ]
  },
  {
   "cell_type": "code",
   "execution_count": 34,
   "id": "278b9856-96e5-45ff-89ac-17713694609e",
   "metadata": {},
   "outputs": [
    {
     "data": {
      "text/plain": [
       "[('marge', 0.7878647446632385),\n",
       " ('sweetheart', 0.7603409290313721),\n",
       " ('snuggle', 0.7542224526405334),\n",
       " ('rude', 0.7468377351760864),\n",
       " ('depressed', 0.741464376449585),\n",
       " ('ralphie', 0.735263466835022),\n",
       " ('gee', 0.7327444553375244),\n",
       " ('maybe', 0.7236717939376831),\n",
       " ('crummy', 0.7215182781219482),\n",
       " ('worry', 0.7115130424499512)]"
      ]
     },
     "execution_count": 34,
     "metadata": {},
     "output_type": "execute_result"
    }
   ],
   "source": [
    "# homer와 가장 유사한 단어 추출\n",
    "w2v_model.wv.most_similar(positive=[\"homer\"])"
   ]
  },
  {
   "cell_type": "code",
   "execution_count": 35,
   "id": "b469f475-f933-483e-a8e1-63b52ed2720b",
   "metadata": {},
   "outputs": [
    {
     "data": {
      "text/plain": [
       "[('homer', 0.7878648638725281),\n",
       " ('rude', 0.7778794765472412),\n",
       " ('snuggle', 0.7762696146965027),\n",
       " ('attract', 0.7683857083320618),\n",
       " ('married', 0.7631385326385498),\n",
       " ('decent', 0.7496177554130554),\n",
       " ('talk', 0.7484679818153381),\n",
       " ('promise', 0.7468622922897339),\n",
       " ('depressed', 0.7455981969833374),\n",
       " ('vegas', 0.7453100681304932)]"
      ]
     },
     "execution_count": 35,
     "metadata": {},
     "output_type": "execute_result"
    }
   ],
   "source": [
    "# 심슨 아내 marge와 유사한 단어 추출\n",
    "w2v_model.wv.most_similar(positive=[\"marge\"])"
   ]
  },
  {
   "cell_type": "code",
   "execution_count": 36,
   "id": "9f0876bd-d670-43e1-aaad-766e3973e77b",
   "metadata": {},
   "outputs": [
    {
     "data": {
      "text/plain": [
       "[('lisa', 0.8846532106399536),\n",
       " ('grownup', 0.8081477880477905),\n",
       " ('upset', 0.8071808815002441),\n",
       " ('milhouse', 0.7975910305976868),\n",
       " ('creepy', 0.7965853214263916),\n",
       " ('hearing', 0.7880057096481323),\n",
       " ('bedtime', 0.7871900796890259),\n",
       " ('badly', 0.7817173004150391),\n",
       " ('mom', 0.7812662124633789),\n",
       " ('substitute', 0.7788379192352295)]"
      ]
     },
     "execution_count": 36,
     "metadata": {},
     "output_type": "execute_result"
    }
   ],
   "source": [
    "# 심슨 아들 bart와 유사한 단어\n",
    "w2v_model.wv.most_similar(positive=[\"bart\"])"
   ]
  },
  {
   "cell_type": "code",
   "execution_count": 44,
   "id": "5cddbe15-c8bf-442c-8b5e-e4cb91ad9d44",
   "metadata": {},
   "outputs": [
    {
     "data": {
      "text/plain": [
       "[('admire', 0.7158202528953552),\n",
       " ('juliet', 0.6922623515129089),\n",
       " ('man', 0.6834419965744019)]"
      ]
     },
     "execution_count": 44,
     "metadata": {},
     "output_type": "execute_result"
    }
   ],
   "source": [
    "# 좀 더 복합적으로 유사 단어 추출\n",
    "# positive는 이 단어와 유사한 단어 후보군 추출\n",
    "# 뽑은 postivie 후보군 중에서 negative에 해당되는 단어 제거\n",
    "# 그중 top 3 단어 추출\n",
    "w2v_model.wv.most_similar(positive=[\"woman\", \"homer\"], negative=[\"marge\"], topn=3)"
   ]
  },
  {
   "cell_type": "code",
   "execution_count": 45,
   "id": "6d54e336-06f8-4278-a572-c9f1a1bad4d2",
   "metadata": {},
   "outputs": [
    {
     "data": {
      "text/plain": [
       "[('lisa', 0.807114839553833),\n",
       " ('surprised', 0.727683424949646),\n",
       " ('assignment', 0.727362871170044)]"
      ]
     },
     "execution_count": 45,
     "metadata": {},
     "output_type": "execute_result"
    }
   ],
   "source": [
    "w2v_model.wv.most_similar(positive=[\"woman\", \"bart\"], negative=[\"man\"], topn=3)"
   ]
  },
  {
   "cell_type": "markdown",
   "id": "82b657dd-db9a-4f06-830c-caa21620776e",
   "metadata": {},
   "source": [
    "* similarity()"
   ]
  },
  {
   "cell_type": "code",
   "execution_count": 38,
   "id": "38d0968f-9fed-4329-8a8f-27b3e79d8a2d",
   "metadata": {},
   "outputs": [
    {
     "data": {
      "text/plain": [
       "0.8763779"
      ]
     },
     "execution_count": 38,
     "metadata": {},
     "output_type": "execute_result"
    }
   ],
   "source": [
    "# 두 단어의 유사도\n",
    "w2v_model.wv.similarity(\"moe\", 'tavern')"
   ]
  },
  {
   "cell_type": "code",
   "execution_count": 39,
   "id": "b2c27349-736f-45d0-a2c2-0b19bf62d8f5",
   "metadata": {},
   "outputs": [
    {
     "data": {
      "text/plain": [
       "0.7409804"
      ]
     },
     "execution_count": 39,
     "metadata": {},
     "output_type": "execute_result"
    }
   ],
   "source": [
    "# maggie는 심슨에서 유명한 아기이다\n",
    "w2v_model.wv.similarity('maggie', 'baby')"
   ]
  },
  {
   "cell_type": "code",
   "execution_count": 40,
   "id": "21d323b5-4c82-45cf-97e3-b2080a7212eb",
   "metadata": {},
   "outputs": [
    {
     "data": {
      "text/plain": [
       "0.7186389"
      ]
     },
     "execution_count": 40,
     "metadata": {},
     "output_type": "execute_result"
    }
   ],
   "source": [
    "# bart와 nelson은 친구 사이이다\n",
    "w2v_model.wv.similarity('bart', 'nelson')"
   ]
  },
  {
   "cell_type": "code",
   "execution_count": 41,
   "id": "f1461037-385e-4108-adcf-1d48457bc377",
   "metadata": {},
   "outputs": [
    {
     "data": {
      "text/plain": [
       "0.4914704"
      ]
     },
     "execution_count": 41,
     "metadata": {},
     "output_type": "execute_result"
    }
   ],
   "source": [
    "# bart는 애기가 아니다\n",
    "w2v_model.wv.similarity('bart', 'baby')"
   ]
  },
  {
   "cell_type": "markdown",
   "id": "f67dbddb-bd10-4178-8661-5fbef056569b",
   "metadata": {},
   "source": [
    "* doesnt_match()"
   ]
  },
  {
   "cell_type": "code",
   "execution_count": 42,
   "id": "9f277a3a-6c7e-4fb7-a76b-04a74a2a997d",
   "metadata": {},
   "outputs": [
    {
     "name": "stderr",
     "output_type": "stream",
     "text": [
      "WARNING - 17:05:41: vectors for words {'kearney'} are not present in the model, ignoring these words\n",
      "/home/ai-sjjy/anaconda3/envs/juyoung2/lib/python3.8/site-packages/gensim/models/keyedvectors.py:877: FutureWarning: arrays to stack must be passed as a \"sequence\" type such as list or tuple. Support for non-sequence iterables such as generators is deprecated as of NumPy 1.16 and will raise an error in the future.\n",
      "  vectors = vstack(self.word_vec(word, use_norm=True) for word in used_words).astype(REAL)\n"
     ]
    },
    {
     "data": {
      "text/plain": [
       "'jimbo'"
      ]
     },
     "execution_count": 42,
     "metadata": {},
     "output_type": "execute_result"
    }
   ],
   "source": [
    "# Jimbo, Milhouse, Kearney 중 유사도 떨어지는 단어는\n",
    "w2v_model.wv.doesnt_match(['jimbo', 'milhouse', 'kearney'])"
   ]
  },
  {
   "cell_type": "code",
   "execution_count": 43,
   "id": "ea1e71f8-5e4d-44ef-9112-fd73e2dcba1a",
   "metadata": {},
   "outputs": [
    {
     "data": {
      "text/plain": [
       "'nelson'"
      ]
     },
     "execution_count": 43,
     "metadata": {},
     "output_type": "execute_result"
    }
   ],
   "source": [
    "w2v_model.wv.doesnt_match([\"nelson\", \"bart\", \"milhouse\"])"
   ]
  },
  {
   "cell_type": "markdown",
   "id": "6e116eab-521c-42fb-a855-8af61ea8a976",
   "metadata": {},
   "source": [
    "### [4] t-SNE 시각화"
   ]
  },
  {
   "cell_type": "markdown",
   "id": "14b4c466-a5c8-4fa2-98c3-0e1e0a9d8753",
   "metadata": {},
   "source": [
    "* t-SNE은 비선형 차원 축소 알고리즘이다\n",
    "* 300차원 벡터를 2차원 그래프로 표시하고 흥미로운 패턴을 찾아내기"
   ]
  },
  {
   "cell_type": "code",
   "execution_count": 49,
   "id": "25303b35-e15d-4e11-b09a-d2bed5a36b52",
   "metadata": {},
   "outputs": [],
   "source": [
    "import numpy as np\n",
    "import matplotlib.pyplot as plt\n",
    "%matplotlib inline\n",
    " \n",
    "import seaborn as sns\n",
    "sns.set_style(\"darkgrid\")\n",
    "\n",
    "from sklearn.decomposition import PCA\n",
    "from sklearn.manifold import TSNE"
   ]
  },
  {
   "cell_type": "code",
   "execution_count": 61,
   "id": "eed64361-075d-41ad-8d7c-4944d1829a90",
   "metadata": {},
   "outputs": [],
   "source": [
    "def tsnescatterplot(model, word, list_names):\n",
    "    \"\"\" Plot in seaborn the results from the t-SNE dimensionality reduction algorithm of the vectors of a query word,\n",
    "    its list of most similar words, and a list of words.\n",
    "    \"\"\"\n",
    "    arrays = np.empty((0, 300), dtype='f') # 벡터 초기화 => 쿼리, 유사, 유사도 떨어지는 단어 모음\n",
    "    word_labels = [word] # target 단어\n",
    "    color_list  = ['red'] # target 단어 색(빨간)\n",
    "\n",
    "    # adds the vector of the query word\n",
    "    # 해당 단어(target)의 임베딩 벡터 가져옴\n",
    "    arrays = np.append(arrays, model.wv.__getitem__([word]), axis=0) \n",
    "    \n",
    "    # 유사한 단어 리스트 가져오기\n",
    "    close_words = model.wv.most_similar([word])\n",
    "    \n",
    "    # adds the vector for each of the closest words to the array\n",
    "    # ('lisa', 0.8846532106399536)\n",
    "    for wrd_score in close_words:\n",
    "        wrd_vector = model.wv.__getitem__([wrd_score[0]]) # 해당 단어(target)의 임베딩 벡터 가져옴\n",
    "        word_labels.append(wrd_score[0]) \n",
    "        color_list.append('blue') # 유사 단어는 'blue' 색 지정\n",
    "        arrays = np.append(arrays, wrd_vector, axis=0) # 행 추가\n",
    "    \n",
    "    # adds the vector for each of the words from list_names to the array\n",
    "    # 쿼리로 받은 단어들 추출\n",
    "    for wrd in list_names:\n",
    "        wrd_vector = model.wv.__getitem__([wrd])\n",
    "        word_labels.append(wrd)\n",
    "        color_list.append('green')\n",
    "        arrays = np.append(arrays, wrd_vector, axis=0)\n",
    "        \n",
    "    # Reduces the dimensionality from 300 to 50 dimensions with PCA\n",
    "    print(arrays.shape)\n",
    "    # 차원 축소 300 => 50\n",
    "    reduc = PCA(n_components=19).fit_transform(arrays)\n",
    "    \n",
    "    # Finds t-SNE coordinates for 2 dimensions\n",
    "    np.set_printoptions(suppress=True)\n",
    "    \n",
    "    Y = TSNE(n_components=2, random_state=0, perplexity=15).fit_transform(reduc)\n",
    "    \n",
    "    # Sets everything up to plot\n",
    "    df = pd.DataFrame({'x': [x for x in Y[:, 0]],\n",
    "                       'y': [y for y in Y[:, 1]],\n",
    "                       'words': word_labels,\n",
    "                       'color': color_list})\n",
    "    \n",
    "    fig, _ = plt.subplots()\n",
    "    fig.set_size_inches(9, 9)\n",
    "    \n",
    "    # Basic plot\n",
    "    p1 = sns.regplot(data=df,\n",
    "                     x=\"x\",\n",
    "                     y=\"y\",\n",
    "                     fit_reg=False,\n",
    "                     marker=\"o\",\n",
    "                     scatter_kws={'s': 40,\n",
    "                                  'facecolors': df['color']\n",
    "                                 }\n",
    "                    )\n",
    "    \n",
    "    # Adds annotations one by one with a loop\n",
    "    for line in range(0, df.shape[0]):\n",
    "         p1.text(df[\"x\"][line],\n",
    "                 df['y'][line],\n",
    "                 '  ' + df[\"words\"][line].title(),\n",
    "                 horizontalalignment='left',\n",
    "                 verticalalignment='bottom', size='medium',\n",
    "                 color=df['color'][line],\n",
    "                 weight='normal'\n",
    "                ).set_size(15)\n",
    "\n",
    "    \n",
    "    plt.xlim(Y[:, 0].min()-50, Y[:, 0].max()+50)\n",
    "    plt.ylim(Y[:, 1].min()-50, Y[:, 1].max()+50)\n",
    "            \n",
    "    plt.title('t-SNE visualization for {}'.format(word.title()))"
   ]
  },
  {
   "cell_type": "code",
   "execution_count": 62,
   "id": "5233616d-215b-4c2e-a212-148169432e14",
   "metadata": {},
   "outputs": [
    {
     "name": "stdout",
     "output_type": "stream",
     "text": [
      "(19, 300)\n"
     ]
    },
    {
     "data": {
      "image/png": "[encoded data removed]",
      "text/plain": [
       "<Figure size 648x648 with 1 Axes>"
      ]
     },
     "metadata": {},
     "output_type": "display_data"
    }
   ],
   "source": [
    "tsnescatterplot(w2v_model, 'homer', ['dog', 'bird', 'ah', 'maude', 'bob', 'mel', 'apu', 'duff'])"
   ]
  },
  {
   "cell_type": "code",
   "execution_count": 63,
   "id": "865fd8a6-c9ea-4051-bce6-7b376c9bdb87",
   "metadata": {},
   "outputs": [
    {
     "name": "stdout",
     "output_type": "stream",
     "text": [
      "(21, 300)\n"
     ]
    },
    {
     "data": {
      "image/png": "[encoded data removed]",
      "text/plain": [
       "<Figure size 648x648 with 1 Axes>"
      ]
     },
     "metadata": {},
     "output_type": "display_data"
    }
   ],
   "source": [
    "tsnescatterplot(w2v_model, 'maggie', [i[0] for i in w2v_model.wv.most_similar(negative=[\"maggie\"])])"
   ]
  },
  {
   "cell_type": "code",
   "execution_count": 64,
   "id": "7052e3ee-f632-4464-83db-ab8cd64ee699",
   "metadata": {},
   "outputs": [
    {
     "name": "stdout",
     "output_type": "stream",
     "text": [
      "(21, 300)\n"
     ]
    },
    {
     "data": {
      "image/png": "[encoded data removed]",
      "text/plain": [
       "<Figure size 648x648 with 1 Axes>"
      ]
     },
     "metadata": {},
     "output_type": "display_data"
    }
   ],
   "source": [
    "tsnescatterplot(w2v_model, \"mr_burn\", [t[0] for t in w2v_model.wv.most_similar(positive=[\"mr_burn\"], topn=20)][10:])"
   ]
  },
  {
   "cell_type": "code",
   "execution_count": null,
   "id": "e739fdca-c8fe-42f9-801a-f8eb0d8aff99",
   "metadata": {},
   "outputs": [],
   "source": []
  }
 ],
 "metadata": {
  "kernelspec": {
   "display_name": "Python 3",
   "language": "python",
   "name": "python3"
  },
  "language_info": {
   "codemirror_mode": {
    "name": "ipython",
    "version": 3
   },
   "file_extension": ".py",
   "mimetype": "text/x-python",
   "name": "python",
   "nbconvert_exporter": "python",
   "pygments_lexer": "ipython3",
   "version": "3.8.10"
  }
 },
 "nbformat": 4,
 "nbformat_minor": 5
}
