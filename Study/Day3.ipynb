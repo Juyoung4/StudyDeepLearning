{
 "cells": [
  {
   "cell_type": "markdown",
   "id": "dcadb057-e0a1-497c-a5c4-acae4122d7f0",
   "metadata": {},
   "source": [
    "## Chapter 4 (p.125 ~ p.180)"
   ]
  },
  {
   "cell_type": "markdown",
   "id": "3bed5796-5ba8-4126-b4ae-572c73e4f53c",
   "metadata": {},
   "source": [
    "### [1] 퍼셉트론\n"
   ]
  },
  {
   "cell_type": "markdown",
   "id": "67559d5d-c6b0-4beb-9596-604dc1756e91",
   "metadata": {},
   "source": [
    "#### [1-1] 가중 합 계산"
   ]
  },
  {
   "cell_type": "code",
   "execution_count": 1,
   "id": "05169756-31fa-4255-93d0-0a329d6a6af5",
   "metadata": {},
   "outputs": [],
   "source": [
    "import numpy as np"
   ]
  },
  {
   "cell_type": "code",
   "execution_count": 2,
   "id": "2db5f986-1787-4079-9609-ddd36eaa1d04",
   "metadata": {},
   "outputs": [],
   "source": [
    "def add_weight(x, w):\n",
    "    return sum(x * w)"
   ]
  },
  {
   "cell_type": "code",
   "execution_count": 3,
   "id": "1b30c263-d4f9-454a-942f-c04da1fdbee3",
   "metadata": {},
   "outputs": [
    {
     "data": {
      "text/plain": [
       "0.5"
      ]
     },
     "execution_count": 3,
     "metadata": {},
     "output_type": "execute_result"
    }
   ],
   "source": [
    "weight = np.array([-0.5, 1, 1])\n",
    "x = np.array([1, 0, 1])\n",
    "\n",
    "add_weight(x, weight)"
   ]
  },
  {
   "cell_type": "code",
   "execution_count": 4,
   "id": "d03c540b-fcc5-48fd-91ff-40213ab2c6f8",
   "metadata": {},
   "outputs": [],
   "source": [
    "def add_weight(x, w):\n",
    "    return np.sum(x * w, axis=1)"
   ]
  },
  {
   "cell_type": "code",
   "execution_count": 5,
   "id": "f5a0a649-cd48-4418-8312-7d7e7b35e15a",
   "metadata": {},
   "outputs": [
    {
     "data": {
      "text/plain": [
       "array([-0.5,  0.5,  0.5,  1.5])"
      ]
     },
     "execution_count": 5,
     "metadata": {},
     "output_type": "execute_result"
    }
   ],
   "source": [
    "x = np.array([[1, 0, 0], [1, 0, 1], [1, 1, 0], [1, 1, 1]])\n",
    "\n",
    "add_weight(x, weight)"
   ]
  },
  {
   "cell_type": "markdown",
   "id": "05f28ce2-bf5b-47e2-b39e-29d49c7d3721",
   "metadata": {},
   "source": [
    "#### [1-2] Sklearn 이용한 퍼셉트론"
   ]
  },
  {
   "cell_type": "code",
   "execution_count": 6,
   "id": "554bbdad-c45b-4af5-8725-30a793628301",
   "metadata": {},
   "outputs": [],
   "source": [
    "from sklearn.linear_model import Perceptron"
   ]
  },
  {
   "cell_type": "code",
   "execution_count": 7,
   "id": "3923b6a5-ed61-4463-9a10-02dac95c05f9",
   "metadata": {},
   "outputs": [
    {
     "name": "stdout",
     "output_type": "stream",
     "text": [
      "학습된 퍼셉트론 매개변수 :  [[2. 2.]] [-1.]\n",
      "예측 :  [-1  1  1  1]\n",
      "정확도 :  100.0\n"
     ]
    }
   ],
   "source": [
    "X = [[0, 0], [0, 1], [1, 0], [1, 1]]\n",
    "y = [-1, 1, 1, 1]\n",
    "\n",
    "p = Perceptron()\n",
    "p.fit(X,y)\n",
    "\n",
    "print(\"학습된 퍼셉트론 매개변수 : \", p.coef_, p.intercept_)\n",
    "print(\"예측 : \", p.predict(X))\n",
    "print(\"정확도 : \", p.score(X, y)*100)"
   ]
  },
  {
   "cell_type": "markdown",
   "id": "24b4fe36-210e-4451-b1c6-45d033733f56",
   "metadata": {},
   "source": [
    "#### [1-3] 필기 숫자에 퍼셉트론 적용\n",
    "\n",
    "* 숫자 맞추기 => classification => 혼동 행렬 사용"
   ]
  },
  {
   "cell_type": "code",
   "execution_count": 8,
   "id": "daccb805-d81e-4802-9506-9dc77c54366d",
   "metadata": {},
   "outputs": [
    {
     "name": "stdout",
     "output_type": "stream",
     "text": [
      "혼동 행렬 :  [[48.  0.  0.  0.  0.  0.  0.  0.  0.  0.]\n",
      " [ 0. 53.  0.  0.  0.  0.  0.  0.  2.  1.]\n",
      " [ 0.  0. 50.  0.  0.  0.  1.  0.  1.  0.]\n",
      " [ 0.  0.  2. 50.  0.  0.  0.  0.  1.  1.]\n",
      " [ 0.  0.  0.  0. 46.  0.  0.  0.  0.  0.]\n",
      " [ 1.  1.  0.  1.  0. 60.  1.  1.  1.  1.]\n",
      " [ 0.  1.  0.  0.  0.  1. 54.  0.  0.  0.]\n",
      " [ 0.  0.  0.  1.  0.  0.  0. 54.  0.  0.]\n",
      " [ 0.  3.  0.  2.  3.  0.  0.  0. 47.  1.]\n",
      " [ 0.  0.  0.  0.  0.  2.  0.  1.  0. 47.]]\n",
      "accuracy :  94.25925925925925\n"
     ]
    }
   ],
   "source": [
    "from sklearn import datasets\n",
    "from sklearn.model_selection import train_test_split\n",
    "\n",
    "\n",
    "# [1] 먼저 dataset load하기\n",
    "digits = datasets.load_digits()\n",
    "\n",
    "# [2] train-test split\n",
    "X_train, X_val, y_train, y_val = train_test_split(digits.data, digits.target, train_size=0.7)\n",
    "\n",
    "# [3] 모델 설정 및 학습\n",
    "p = Perceptron()\n",
    "p.fit(X_train, y_train)\n",
    "\n",
    "# [4] 모델 예측\n",
    "pred = p.predict(X_val)\n",
    "\n",
    "# [5] 혼동 행렬\n",
    "conf = np.zeros((10, 10)) # 숫자는 0 ~ 9\n",
    "\n",
    "for i in range(len(pred)):\n",
    "    conf[pred[i]][y_val[i]] += 1\n",
    "\n",
    "print(\"혼동 행렬 : \", conf)\n",
    "\n",
    "# [5] 성능 측정\n",
    "accuracy = 0\n",
    "for i in range(10):\n",
    "    accuracy += conf[i][i]\n",
    "print(\"accuracy : \", accuracy/len(pred)*100)\n"
   ]
  },
  {
   "cell_type": "markdown",
   "id": "8a02d381-0e4b-4786-9d0b-0fe7781493e0",
   "metadata": {},
   "source": [
    "### [2] 다층 퍼셉트론"
   ]
  },
  {
   "cell_type": "markdown",
   "id": "cff43280-546a-4568-b887-fc661b666e92",
   "metadata": {},
   "source": [
    "#### [2-1] 필기 숫자에 다층 퍼셉트론 적용"
   ]
  },
  {
   "cell_type": "code",
   "execution_count": 9,
   "id": "10c57e0c-6ae9-45b0-915a-abadeb274f2a",
   "metadata": {},
   "outputs": [],
   "source": [
    "from sklearn.neural_network import MLPClassifier\n",
    "from sklearn import datasets\n",
    "from sklearn.model_selection import train_test_split\n"
   ]
  },
  {
   "cell_type": "code",
   "execution_count": 10,
   "id": "fc92cc45-a9d7-4038-afe7-997afa9c99f5",
   "metadata": {
    "collapsed": true,
    "jupyter": {
     "outputs_hidden": true
    },
    "tags": []
   },
   "outputs": [
    {
     "name": "stdout",
     "output_type": "stream",
     "text": [
      "Iteration 1, loss = 1.99235077\n",
      "Iteration 2, loss = 0.28886256\n",
      "Iteration 3, loss = 0.19123033\n",
      "Iteration 4, loss = 0.14703939\n",
      "Iteration 5, loss = 0.12514432\n",
      "Iteration 6, loss = 0.09983180\n",
      "Iteration 7, loss = 0.08986335\n",
      "Iteration 8, loss = 0.07664083\n",
      "Iteration 9, loss = 0.06818494\n",
      "Iteration 10, loss = 0.06195242\n",
      "Iteration 11, loss = 0.05630108\n",
      "Iteration 12, loss = 0.05317478\n",
      "Iteration 13, loss = 0.04920228\n",
      "Iteration 14, loss = 0.04424787\n",
      "Iteration 15, loss = 0.04117582\n",
      "Iteration 16, loss = 0.03727866\n",
      "Iteration 17, loss = 0.03522711\n",
      "Iteration 18, loss = 0.03422395\n",
      "Iteration 19, loss = 0.03118713\n",
      "Iteration 20, loss = 0.03051381\n",
      "Iteration 21, loss = 0.03014096\n",
      "Iteration 22, loss = 0.02668531\n",
      "Iteration 23, loss = 0.02523074\n",
      "Iteration 24, loss = 0.02380869\n",
      "Iteration 25, loss = 0.02401279\n",
      "Iteration 26, loss = 0.02229031\n",
      "Iteration 27, loss = 0.02123537\n",
      "Iteration 28, loss = 0.01982369\n",
      "Iteration 29, loss = 0.01963795\n",
      "Iteration 30, loss = 0.01894697\n",
      "Iteration 31, loss = 0.01823649\n",
      "Iteration 32, loss = 0.01781427\n",
      "Iteration 33, loss = 0.01700797\n",
      "Iteration 34, loss = 0.01662918\n",
      "Iteration 35, loss = 0.01569211\n",
      "Iteration 36, loss = 0.01503085\n",
      "Iteration 37, loss = 0.01440623\n",
      "Iteration 38, loss = 0.01433568\n",
      "Iteration 39, loss = 0.01411869\n",
      "Iteration 40, loss = 0.01349174\n",
      "Iteration 41, loss = 0.01260465\n",
      "Iteration 42, loss = 0.01281712\n",
      "Iteration 43, loss = 0.01237011\n",
      "Iteration 44, loss = 0.01211134\n",
      "Iteration 45, loss = 0.01174048\n",
      "Iteration 46, loss = 0.01124893\n",
      "Iteration 47, loss = 0.01106010\n",
      "Iteration 48, loss = 0.01076339\n",
      "Iteration 49, loss = 0.01117708\n",
      "Iteration 50, loss = 0.01032545\n",
      "Iteration 51, loss = 0.01035983\n",
      "Iteration 52, loss = 0.00974592\n",
      "Iteration 53, loss = 0.01008842\n",
      "Iteration 54, loss = 0.00967020\n",
      "Iteration 55, loss = 0.00927661\n",
      "Iteration 56, loss = 0.00913704\n",
      "Iteration 57, loss = 0.00918004\n",
      "Iteration 58, loss = 0.00948937\n",
      "Iteration 59, loss = 0.00863838\n",
      "Iteration 60, loss = 0.00844836\n",
      "Iteration 61, loss = 0.00816715\n",
      "Iteration 62, loss = 0.00818232\n",
      "Iteration 63, loss = 0.00799092\n",
      "Iteration 64, loss = 0.00808852\n",
      "Iteration 65, loss = 0.00760803\n",
      "Iteration 66, loss = 0.00748683\n",
      "Iteration 67, loss = 0.00744852\n",
      "Iteration 68, loss = 0.00726380\n",
      "Iteration 69, loss = 0.00716480\n",
      "Iteration 70, loss = 0.00698817\n",
      "Iteration 71, loss = 0.00688983\n",
      "Iteration 72, loss = 0.00683241\n",
      "Iteration 73, loss = 0.00667278\n",
      "Iteration 74, loss = 0.00659537\n",
      "Iteration 75, loss = 0.00658912\n",
      "Iteration 76, loss = 0.00640098\n",
      "Iteration 77, loss = 0.00634343\n",
      "Iteration 78, loss = 0.00637297\n",
      "Iteration 79, loss = 0.00615925\n",
      "Iteration 80, loss = 0.00609165\n",
      "Iteration 81, loss = 0.00601405\n",
      "Iteration 82, loss = 0.00608309\n",
      "Iteration 83, loss = 0.00592826\n",
      "Iteration 84, loss = 0.00577428\n",
      "Iteration 85, loss = 0.00569325\n",
      "Iteration 86, loss = 0.00563130\n",
      "Iteration 87, loss = 0.00557949\n",
      "Iteration 88, loss = 0.00553939\n",
      "Iteration 89, loss = 0.00540437\n",
      "Iteration 90, loss = 0.00542763\n",
      "Iteration 91, loss = 0.00530827\n",
      "Iteration 92, loss = 0.00518316\n",
      "Iteration 93, loss = 0.00523842\n",
      "Iteration 94, loss = 0.00509848\n",
      "Iteration 95, loss = 0.00507819\n",
      "Iteration 96, loss = 0.00506245\n",
      "Iteration 97, loss = 0.00497909\n",
      "Iteration 98, loss = 0.00488075\n",
      "Iteration 99, loss = 0.00484669\n",
      "Iteration 100, loss = 0.00477247\n",
      "Iteration 101, loss = 0.00474867\n",
      "Iteration 102, loss = 0.00467228\n",
      "Iteration 103, loss = 0.00463896\n",
      "Training loss did not improve more than tol=0.000100 for 10 consecutive epochs. Stopping.\n",
      "혼동 행렬 :  [[61.  0.  0.  1.  0.  0.  0.  0.  0.  0.]\n",
      " [ 0. 53.  1.  0.  0.  0.  1.  0.  0.  0.]\n",
      " [ 0.  0. 55.  1.  0.  0.  0.  0.  0.  0.]\n",
      " [ 0.  0.  0. 53.  0.  1.  0.  0.  0.  1.]\n",
      " [ 1.  0.  0.  0. 44.  0.  0.  0.  1.  0.]\n",
      " [ 0.  0.  0.  1.  0. 51.  0.  0.  0.  0.]\n",
      " [ 1.  0.  0.  0.  0.  1. 49.  0.  0.  0.]\n",
      " [ 0.  0.  0.  0.  1.  0.  0. 57.  0.  0.]\n",
      " [ 0.  0.  0.  0.  1.  0.  0.  0. 50.  0.]\n",
      " [ 0.  0.  0.  0.  0.  2.  0.  0.  0. 52.]]\n",
      "accuracy :  97.22222222222221\n"
     ]
    }
   ],
   "source": [
    "\n",
    "# [1] 먼저 dataset load하기\n",
    "digits = datasets.load_digits()\n",
    "\n",
    "# [2] train-test split\n",
    "X_train, X_val, y_train, y_val = train_test_split(digits.data, digits.target, train_size=0.7)\n",
    "\n",
    "# [3] 모델 설정 및 학습\n",
    "mlp = MLPClassifier(\n",
    "    hidden_layer_sizes = (100),\n",
    "    learning_rate_init = 0.001,\n",
    "    batch_size = 32, \n",
    "    max_iter = 300,\n",
    "    solver = 'sgd', # Stochastic Gradient Descent => 한 번의 파라미터 업데이트를 위해 하나의 훈련 데이터 사용\n",
    "    verbose = True\n",
    ")\n",
    "mlp.fit(X_train, y_train)\n",
    "\n",
    "# [4] 모델 예측\n",
    "pred = mlp.predict(X_val)\n",
    "\n",
    "# [5] 혼동 행렬\n",
    "conf = np.zeros((10, 10)) # 숫자는 0 ~ 9\n",
    "\n",
    "for i in range(len(pred)):\n",
    "    conf[pred[i]][y_val[i]] += 1\n",
    "\n",
    "print(\"혼동 행렬 : \", conf)\n",
    "\n",
    "# [5] 성능 측정\n",
    "accuracy = 0\n",
    "for i in range(10):\n",
    "    accuracy += conf[i][i]\n",
    "print(\"accuracy : \", accuracy/len(pred)*100)\n"
   ]
  },
  {
   "cell_type": "markdown",
   "id": "d1441d8a-fe2b-4725-99aa-f0030f64d356",
   "metadata": {},
   "source": [
    "#### [2-2] MNIST에 다층 퍼셉트론 적용"
   ]
  },
  {
   "cell_type": "markdown",
   "id": "1be689b4-53bf-48ac-ad3a-a609c70d64da",
   "metadata": {},
   "source": [
    "* 기존 데이터 셋 : 샘플 1797개, 8*8 데이터 맵\n",
    "* MNIST : 샘플 70000개, 28*28 데이터 맵"
   ]
  },
  {
   "cell_type": "code",
   "execution_count": 11,
   "id": "1e91975b-993b-4535-a583-b2c919de725d",
   "metadata": {},
   "outputs": [],
   "source": [
    "from sklearn.neural_network import MLPClassifier\n",
    "from sklearn.datasets import fetch_openml\n",
    "from sklearn.model_selection import train_test_split"
   ]
  },
  {
   "cell_type": "code",
   "execution_count": 12,
   "id": "69ebc4ac-5fa8-4349-a132-3e13e42711b7",
   "metadata": {},
   "outputs": [],
   "source": [
    "# [1] data load\n",
    "mnist = fetch_openml('mnist_784')"
   ]
  },
  {
   "cell_type": "code",
   "execution_count": 13,
   "id": "2ee30443-51d3-4239-8318-985a46c40fab",
   "metadata": {},
   "outputs": [],
   "source": [
    "mnist.data = mnist.data/255.0\n",
    "X_train = mnist.data[:60000]\n",
    "X_val = mnist.data[60000:]\n",
    "\n",
    "y_train =np.int16(mnist.target[:60000])\n",
    "y_val = np.int16(mnist.target[60000:])"
   ]
  },
  {
   "cell_type": "code",
   "execution_count": 14,
   "id": "8f9b2b68-f46e-4245-9d81-ca1a88080c74",
   "metadata": {
    "collapsed": true,
    "jupyter": {
     "outputs_hidden": true
    },
    "tags": []
   },
   "outputs": [
    {
     "name": "stdout",
     "output_type": "stream",
     "text": [
      "Iteration 1, loss = 0.92291204\n",
      "Iteration 2, loss = 0.42965271\n",
      "Iteration 3, loss = 0.36342151\n",
      "Iteration 4, loss = 0.33006809\n",
      "Iteration 5, loss = 0.30727047\n",
      "Iteration 6, loss = 0.28973820\n",
      "Iteration 7, loss = 0.27505869\n",
      "Iteration 8, loss = 0.26223752\n",
      "Iteration 9, loss = 0.25115236\n",
      "Iteration 10, loss = 0.24113923\n",
      "Iteration 11, loss = 0.23205889\n",
      "Iteration 12, loss = 0.22382421\n",
      "Iteration 13, loss = 0.21608971\n",
      "Iteration 14, loss = 0.20901141\n",
      "Iteration 15, loss = 0.20245036\n",
      "Iteration 16, loss = 0.19640533\n",
      "Iteration 17, loss = 0.19071948\n",
      "Iteration 18, loss = 0.18494821\n",
      "Iteration 19, loss = 0.17983288\n",
      "Iteration 20, loss = 0.17509667\n",
      "Iteration 21, loss = 0.17047378\n",
      "Iteration 22, loss = 0.16594587\n",
      "Iteration 23, loss = 0.16186649\n",
      "Iteration 24, loss = 0.15797090\n",
      "Iteration 25, loss = 0.15406724\n",
      "Iteration 26, loss = 0.15047790\n",
      "Iteration 27, loss = 0.14704297\n",
      "Iteration 28, loss = 0.14381944\n",
      "Iteration 29, loss = 0.14058989\n",
      "Iteration 30, loss = 0.13751323\n",
      "Iteration 31, loss = 0.13463819\n",
      "Iteration 32, loss = 0.13173352\n",
      "Iteration 33, loss = 0.12916358\n",
      "Iteration 34, loss = 0.12654856\n",
      "Iteration 35, loss = 0.12404877\n",
      "Iteration 36, loss = 0.12169655\n",
      "Iteration 37, loss = 0.11931193\n",
      "Iteration 38, loss = 0.11711233\n",
      "Iteration 39, loss = 0.11493173\n",
      "Iteration 40, loss = 0.11283649\n",
      "Iteration 41, loss = 0.11095593\n",
      "Iteration 42, loss = 0.10889679\n",
      "Iteration 43, loss = 0.10705083\n",
      "Iteration 44, loss = 0.10511700\n",
      "Iteration 45, loss = 0.10348393\n",
      "Iteration 46, loss = 0.10175548\n",
      "Iteration 47, loss = 0.10024251\n",
      "Iteration 48, loss = 0.09847342\n",
      "Iteration 49, loss = 0.09699787\n",
      "Iteration 50, loss = 0.09545299\n",
      "Iteration 51, loss = 0.09398161\n",
      "Iteration 52, loss = 0.09258294\n",
      "Iteration 53, loss = 0.09129838\n",
      "Iteration 54, loss = 0.08992569\n",
      "Iteration 55, loss = 0.08866822\n",
      "Iteration 56, loss = 0.08739375\n",
      "Iteration 57, loss = 0.08623931\n",
      "Iteration 58, loss = 0.08504745\n",
      "Iteration 59, loss = 0.08379191\n",
      "Iteration 60, loss = 0.08260361\n",
      "Iteration 61, loss = 0.08159110\n",
      "Iteration 62, loss = 0.08043089\n",
      "Iteration 63, loss = 0.07943911\n",
      "Iteration 64, loss = 0.07839645\n",
      "Iteration 65, loss = 0.07739845\n",
      "Iteration 66, loss = 0.07632945\n",
      "Iteration 67, loss = 0.07552352\n",
      "Iteration 68, loss = 0.07453737\n",
      "Iteration 69, loss = 0.07363038\n",
      "Iteration 70, loss = 0.07267909\n",
      "Iteration 71, loss = 0.07185400\n",
      "Iteration 72, loss = 0.07096130\n",
      "Iteration 73, loss = 0.07023125\n",
      "Iteration 74, loss = 0.06934334\n",
      "Iteration 75, loss = 0.06847897\n",
      "Iteration 76, loss = 0.06773681\n",
      "Iteration 77, loss = 0.06703501\n",
      "Iteration 78, loss = 0.06621842\n",
      "Iteration 79, loss = 0.06553710\n",
      "Iteration 80, loss = 0.06474345\n",
      "Iteration 81, loss = 0.06400958\n",
      "Iteration 82, loss = 0.06330465\n",
      "Iteration 83, loss = 0.06263434\n",
      "Iteration 84, loss = 0.06199281\n",
      "Iteration 85, loss = 0.06128635\n",
      "Iteration 86, loss = 0.06065559\n",
      "Iteration 87, loss = 0.06006660\n",
      "Iteration 88, loss = 0.05942204\n",
      "Iteration 89, loss = 0.05883688\n",
      "Iteration 90, loss = 0.05816801\n",
      "Iteration 91, loss = 0.05761930\n",
      "Iteration 92, loss = 0.05700441\n",
      "Iteration 93, loss = 0.05639287\n",
      "Iteration 94, loss = 0.05586553\n",
      "Iteration 95, loss = 0.05534055\n",
      "Iteration 96, loss = 0.05470276\n",
      "Iteration 97, loss = 0.05420478\n",
      "Iteration 98, loss = 0.05360510\n",
      "Iteration 99, loss = 0.05311342\n",
      "Iteration 100, loss = 0.05269092\n",
      "Iteration 101, loss = 0.05221245\n",
      "Iteration 102, loss = 0.05168478\n",
      "Iteration 103, loss = 0.05117535\n",
      "Iteration 104, loss = 0.05065652\n",
      "Iteration 105, loss = 0.05021428\n",
      "Iteration 106, loss = 0.04968321\n",
      "Iteration 107, loss = 0.04932093\n",
      "Iteration 108, loss = 0.04884660\n",
      "Iteration 109, loss = 0.04844004\n",
      "Iteration 110, loss = 0.04787686\n",
      "Iteration 111, loss = 0.04752115\n",
      "Iteration 112, loss = 0.04703651\n",
      "Iteration 113, loss = 0.04658960\n",
      "Iteration 114, loss = 0.04625317\n",
      "Iteration 115, loss = 0.04586049\n",
      "Iteration 116, loss = 0.04540332\n",
      "Iteration 117, loss = 0.04504257\n",
      "Iteration 118, loss = 0.04466612\n",
      "Iteration 119, loss = 0.04422671\n",
      "Iteration 120, loss = 0.04392341\n",
      "Iteration 121, loss = 0.04344514\n",
      "Iteration 122, loss = 0.04307525\n",
      "Iteration 123, loss = 0.04268659\n",
      "Iteration 124, loss = 0.04228724\n",
      "Iteration 125, loss = 0.04201123\n",
      "Iteration 126, loss = 0.04166249\n",
      "Iteration 127, loss = 0.04129912\n",
      "Iteration 128, loss = 0.04091868\n",
      "Iteration 129, loss = 0.04052711\n",
      "Iteration 130, loss = 0.04023410\n",
      "Iteration 131, loss = 0.03990342\n",
      "Iteration 132, loss = 0.03962782\n",
      "Iteration 133, loss = 0.03927127\n",
      "Iteration 134, loss = 0.03894419\n",
      "Iteration 135, loss = 0.03862115\n",
      "Iteration 136, loss = 0.03830435\n",
      "Iteration 137, loss = 0.03801079\n",
      "Iteration 138, loss = 0.03764742\n",
      "Iteration 139, loss = 0.03740744\n",
      "Iteration 140, loss = 0.03708497\n",
      "Iteration 141, loss = 0.03678389\n",
      "Iteration 142, loss = 0.03653739\n",
      "Iteration 143, loss = 0.03624384\n",
      "Iteration 144, loss = 0.03584149\n",
      "Iteration 145, loss = 0.03563944\n",
      "Iteration 146, loss = 0.03533209\n",
      "Iteration 147, loss = 0.03501127\n",
      "Iteration 148, loss = 0.03480911\n",
      "Iteration 149, loss = 0.03451005\n",
      "Iteration 150, loss = 0.03422699\n",
      "Iteration 151, loss = 0.03406217\n",
      "Iteration 152, loss = 0.03373218\n",
      "Iteration 153, loss = 0.03349413\n",
      "Iteration 154, loss = 0.03324809\n",
      "Iteration 155, loss = 0.03293986\n",
      "Iteration 156, loss = 0.03272304\n",
      "Iteration 157, loss = 0.03247542\n",
      "Iteration 158, loss = 0.03221653\n",
      "Iteration 159, loss = 0.03195992\n",
      "Iteration 160, loss = 0.03172491\n",
      "Iteration 161, loss = 0.03150101\n",
      "Iteration 162, loss = 0.03122960\n",
      "Iteration 163, loss = 0.03102867\n",
      "Iteration 164, loss = 0.03076865\n",
      "Iteration 165, loss = 0.03054780\n",
      "Iteration 166, loss = 0.03030406\n",
      "Iteration 167, loss = 0.03007121\n",
      "Iteration 168, loss = 0.02989924\n",
      "Iteration 169, loss = 0.02964306\n",
      "Iteration 170, loss = 0.02948127\n",
      "Iteration 171, loss = 0.02923377\n",
      "Iteration 172, loss = 0.02901291\n",
      "Iteration 173, loss = 0.02884288\n",
      "Iteration 174, loss = 0.02857342\n",
      "Iteration 175, loss = 0.02835763\n",
      "Iteration 176, loss = 0.02813475\n",
      "Iteration 177, loss = 0.02795689\n",
      "Iteration 178, loss = 0.02774828\n",
      "Iteration 179, loss = 0.02759708\n",
      "Iteration 180, loss = 0.02739254\n",
      "Iteration 181, loss = 0.02719581\n",
      "Iteration 182, loss = 0.02699456\n",
      "Iteration 183, loss = 0.02679078\n",
      "Iteration 184, loss = 0.02663366\n",
      "Iteration 185, loss = 0.02644729\n",
      "Iteration 186, loss = 0.02620475\n",
      "Iteration 187, loss = 0.02607003\n",
      "Iteration 188, loss = 0.02588522\n",
      "Iteration 189, loss = 0.02568755\n",
      "Iteration 190, loss = 0.02550646\n",
      "Iteration 191, loss = 0.02530251\n",
      "Iteration 192, loss = 0.02515580\n",
      "Iteration 193, loss = 0.02497627\n",
      "Iteration 194, loss = 0.02482459\n",
      "Iteration 195, loss = 0.02470045\n",
      "Iteration 196, loss = 0.02446968\n",
      "Iteration 197, loss = 0.02433549\n",
      "Iteration 198, loss = 0.02415843\n",
      "Iteration 199, loss = 0.02397552\n",
      "Iteration 200, loss = 0.02380389\n",
      "Iteration 201, loss = 0.02365295\n",
      "Iteration 202, loss = 0.02350520\n",
      "Iteration 203, loss = 0.02336008\n",
      "Iteration 204, loss = 0.02318308\n",
      "Iteration 205, loss = 0.02304802\n",
      "Iteration 206, loss = 0.02287337\n",
      "Iteration 207, loss = 0.02276823\n",
      "Iteration 208, loss = 0.02257738\n",
      "Iteration 209, loss = 0.02244978\n",
      "Iteration 210, loss = 0.02228858\n",
      "Iteration 211, loss = 0.02214795\n",
      "Iteration 212, loss = 0.02203018\n",
      "Iteration 213, loss = 0.02184163\n",
      "Iteration 214, loss = 0.02172156\n",
      "Iteration 215, loss = 0.02151199\n",
      "Iteration 216, loss = 0.02143745\n",
      "Iteration 217, loss = 0.02128160\n",
      "Iteration 218, loss = 0.02115939\n",
      "Iteration 219, loss = 0.02101210\n",
      "Iteration 220, loss = 0.02087878\n",
      "Iteration 221, loss = 0.02068714\n",
      "Iteration 222, loss = 0.02061854\n",
      "Iteration 223, loss = 0.02050158\n",
      "Iteration 224, loss = 0.02038186\n",
      "Iteration 225, loss = 0.02021604\n",
      "Iteration 226, loss = 0.02008478\n",
      "Iteration 227, loss = 0.02000483\n",
      "Iteration 228, loss = 0.01986281\n",
      "Iteration 229, loss = 0.01973957\n",
      "Iteration 230, loss = 0.01959325\n",
      "Iteration 231, loss = 0.01947064\n",
      "Iteration 232, loss = 0.01937320\n",
      "Iteration 233, loss = 0.01924856\n",
      "Iteration 234, loss = 0.01913459\n",
      "Iteration 235, loss = 0.01902482\n",
      "Iteration 236, loss = 0.01892812\n",
      "Iteration 237, loss = 0.01879394\n",
      "Iteration 238, loss = 0.01866262\n",
      "Iteration 239, loss = 0.01856427\n",
      "Iteration 240, loss = 0.01843593\n",
      "Iteration 241, loss = 0.01834918\n",
      "Iteration 242, loss = 0.01821089\n",
      "Iteration 243, loss = 0.01811434\n",
      "Iteration 244, loss = 0.01803058\n",
      "Iteration 245, loss = 0.01790203\n",
      "Iteration 246, loss = 0.01782264\n",
      "Iteration 247, loss = 0.01767444\n",
      "Iteration 248, loss = 0.01761425\n",
      "Iteration 249, loss = 0.01749863\n",
      "Iteration 250, loss = 0.01737916\n",
      "Iteration 251, loss = 0.01725450\n",
      "Iteration 252, loss = 0.01717454\n",
      "Iteration 253, loss = 0.01707630\n",
      "Iteration 254, loss = 0.01695234\n",
      "Iteration 255, loss = 0.01689342\n",
      "Iteration 256, loss = 0.01675278\n",
      "Iteration 257, loss = 0.01670179\n",
      "Iteration 258, loss = 0.01657724\n",
      "Iteration 259, loss = 0.01650181\n",
      "Iteration 260, loss = 0.01643295\n",
      "Iteration 261, loss = 0.01630193\n",
      "Iteration 262, loss = 0.01618864\n",
      "Iteration 263, loss = 0.01611586\n",
      "Iteration 264, loss = 0.01607039\n",
      "Iteration 265, loss = 0.01593785\n",
      "Iteration 266, loss = 0.01584824\n",
      "Iteration 267, loss = 0.01578239\n",
      "Iteration 268, loss = 0.01564533\n",
      "Iteration 269, loss = 0.01559954\n",
      "Iteration 270, loss = 0.01550997\n",
      "Iteration 271, loss = 0.01540551\n",
      "Iteration 272, loss = 0.01531680\n",
      "Iteration 273, loss = 0.01529073\n",
      "Iteration 274, loss = 0.01517057\n",
      "Iteration 275, loss = 0.01508691\n",
      "Iteration 276, loss = 0.01501358\n",
      "Iteration 277, loss = 0.01491126\n",
      "Iteration 278, loss = 0.01482131\n",
      "Iteration 279, loss = 0.01477467\n",
      "Iteration 280, loss = 0.01468907\n",
      "Iteration 281, loss = 0.01459849\n",
      "Iteration 282, loss = 0.01452536\n",
      "Iteration 283, loss = 0.01444772\n",
      "Iteration 284, loss = 0.01434556\n",
      "Iteration 285, loss = 0.01428626\n",
      "Iteration 286, loss = 0.01421094\n",
      "Iteration 287, loss = 0.01410855\n",
      "Iteration 288, loss = 0.01404082\n",
      "Iteration 289, loss = 0.01397792\n",
      "Iteration 290, loss = 0.01391230\n",
      "Iteration 291, loss = 0.01383628\n",
      "Iteration 292, loss = 0.01377578\n",
      "Iteration 293, loss = 0.01370350\n",
      "Iteration 294, loss = 0.01362218\n",
      "Iteration 295, loss = 0.01357042\n",
      "Iteration 296, loss = 0.01347669\n",
      "Iteration 297, loss = 0.01342992\n",
      "Iteration 298, loss = 0.01335004\n",
      "Training loss did not improve more than tol=0.000100 for 10 consecutive epochs. Stopping.\n"
     ]
    }
   ],
   "source": [
    "# [3] 모델 설정 및 학습\n",
    "mlp = MLPClassifier(\n",
    "    hidden_layer_sizes = (100),\n",
    "    learning_rate_init = 0.001,\n",
    "    batch_size = 64, \n",
    "    max_iter = 300,\n",
    "    activation='relu',\n",
    "    solver = 'sgd', # Stochastic Gradient Descent => 한 번의 파라미터 업데이트를 위해 하나의 훈련 데이터 사용\n",
    "    verbose = True\n",
    ")\n",
    "mlp.fit(X_train, y_train)\n",
    "\n",
    "# [4] 모델 예측\n",
    "pred = mlp.predict(X_val)"
   ]
  },
  {
   "cell_type": "code",
   "execution_count": 15,
   "id": "1ed96686-4bce-42f5-a351-d43af8b01099",
   "metadata": {},
   "outputs": [
    {
     "name": "stdout",
     "output_type": "stream",
     "text": [
      "혼동 행렬 :  [[ 966    0    2    0    2    2    4    1    4    1]\n",
      " [   0 1121    2    0    0    0    3    5    0    3]\n",
      " [   1    3 1008    3    2    0    2    6    4    0]\n",
      " [   1    1    3  990    1   10    1    4    8    4]\n",
      " [   0    0    3    2  960    1    2    2    2    6]\n",
      " [   3    1    0    2    0  864    4    0    4    2]\n",
      " [   5    3    3    0    3    7  940    0    2    1]\n",
      " [   1    1    5    2    2    0    1 1003    4    2]\n",
      " [   2    5    6    4    0    6    1    0  944    2]\n",
      " [   1    0    0    7   12    2    0    7    2  988]]\n",
      "accuracy :  97.84\n"
     ]
    }
   ],
   "source": [
    "# [5] 혼동 행렬\n",
    "conf = np.zeros((10, 10), dtype=np.int16) # 숫자는 0 ~ 9\n",
    "\n",
    "for i in range(len(pred)):\n",
    "    conf[pred[i]][y_val[i]] += 1\n",
    "\n",
    "print(\"혼동 행렬 : \", conf)\n",
    "\n",
    "# [5] 성능 측정\n",
    "accuracy = 0\n",
    "for i in range(10):\n",
    "    accuracy += conf[i][i]\n",
    "print(\"accuracy : \", accuracy/len(pred)*100)"
   ]
  },
  {
   "cell_type": "markdown",
   "id": "6f7c88f8-b744-4445-bfd8-3a0f211b5426",
   "metadata": {},
   "source": [
    "## [3] 하이퍼 매개변수 최적화"
   ]
  },
  {
   "cell_type": "markdown",
   "id": "596932d1-4ad7-4972-8cec-8a309c7f37cc",
   "metadata": {},
   "source": [
    "#### [3-1] 단일 하이퍼 매개변수 최적화"
   ]
  },
  {
   "cell_type": "markdown",
   "id": "e96e08cf-a3fe-4340-af86-f0655bc608dc",
   "metadata": {},
   "source": [
    "* validation_curve 함수 사용"
   ]
  },
  {
   "cell_type": "code",
   "execution_count": 16,
   "id": "f3aa109e-5ea8-4d80-a319-0fe5cdffec69",
   "metadata": {},
   "outputs": [],
   "source": [
    "from sklearn.neural_network import MLPClassifier\n",
    "from sklearn import datasets\n",
    "from sklearn.model_selection import train_test_split, validation_curve\n",
    "import numpy as np\n",
    "import matplotlib.pyplot as plt\n",
    "import time"
   ]
  },
  {
   "cell_type": "code",
   "execution_count": 18,
   "id": "cd728cf8-269a-4e6b-9cb3-595dfa883ea5",
   "metadata": {},
   "outputs": [],
   "source": [
    "# [1] 데이터 셋 불러오기\n",
    "digit = datasets.load_digits()\n",
    "x_train, x_test, y_train, y_test = train_test_split(digit.data, digit.target, train_size=0.7)\n"
   ]
  },
  {
   "cell_type": "code",
   "execution_count": 19,
   "id": "9d68d3f5-8e5f-46b2-a176-8742be583f61",
   "metadata": {},
   "outputs": [
    {
     "name": "stdout",
     "output_type": "stream",
     "text": [
      "하이퍼 매개변수 최적화 걸린 시간 ;  146.91457295417786\n"
     ]
    }
   ],
   "source": [
    "# [2] 다층 퍼셉트론을 교차 검증으로 성능 평가\n",
    "start = time.time()\n",
    "mlp = MLPClassifier(\n",
    "    learning_rate_init=0.001,\n",
    "    batch_size = 32,\n",
    "    max_iter=300,\n",
    "    solver='sgd'\n",
    ")\n",
    "prange = range(50, 1001, 50)\n",
    "train_score, test_score = validation_curve(\n",
    "    mlp, x_train, y_train, param_name = 'hidden_layer_sizes',\n",
    "    param_range=prange, cv=10,\n",
    "    scoring='accuracy',\n",
    "    n_jobs=4\n",
    ")\n",
    "end = time.time()\n",
    "print(\"하이퍼 매개변수 최적화 걸린 시간 ; \", end-start)"
   ]
  },
  {
   "cell_type": "code",
   "execution_count": 20,
   "id": "b03844f5-0d93-468d-a011-51609975df89",
   "metadata": {},
   "outputs": [],
   "source": [
    "# [3] 교차 검증 결과의 평균과 분산 구하기\n",
    "train_mean = np.mean(train_score, axis=1)\n",
    "train_std = np.std(train_score, axis=1)\n",
    "test_mean = np.mean(test_score, axis=1)\n",
    "test_std = np.std(test_score, axis=1)"
   ]
  },
  {
   "cell_type": "code",
   "execution_count": 21,
   "id": "1bc1f4c0-2cfa-4220-ae4a-1a598921926e",
   "metadata": {},
   "outputs": [
    {
     "data": {
      "image/png": "[encoded data removed]",
      "text/plain": [
       "<Figure size 432x288 with 1 Axes>"
      ]
     },
     "metadata": {
      "needs_background": "light"
     },
     "output_type": "display_data"
    }
   ],
   "source": [
    "# [4] 성능 그래프\n",
    "plt.plot(prange, train_mean, label=\"Train Score\", color=\"r\")\n",
    "plt.plot(prange, test_mean, label=\"Test Score\", color=\"b\")\n",
    "\n",
    "plt.fill_between(prange, train_mean - train_std, train_mean+train_std, alpha=0.2, color=\"r\")\n",
    "plt.fill_between(prange, test_mean - test_std, test_mean+test_std, alpha=0.2, color=\"b\")\n",
    "\n",
    "plt.legend(loc=\"best\")\n",
    "plt.title(\"Validation of hidden nodes\")\n",
    "plt.ylabel(\"Accuracy\")\n",
    "plt.ylim(0.9, 1.01)\n",
    "plt.grid(axis='both')\n",
    "plt.show()"
   ]
  },
  {
   "cell_type": "code",
   "execution_count": 22,
   "id": "1ab94bec-2194-4f49-b657-291bffcb0d2d",
   "metadata": {},
   "outputs": [
    {
     "name": "stdout",
     "output_type": "stream",
     "text": [
      "최적의 히든 노드 개수 :  650\n"
     ]
    }
   ],
   "source": [
    "best_number_nodes = prange[np.argmax(test_mean)]\n",
    "print('최적의 히든 노드 개수 : ', best_number_nodes)"
   ]
  },
  {
   "cell_type": "code",
   "execution_count": 23,
   "id": "4d3efc72-b9c2-4fe8-94d2-873526a55ddd",
   "metadata": {
    "collapsed": true,
    "jupyter": {
     "outputs_hidden": true
    },
    "tags": []
   },
   "outputs": [
    {
     "name": "stdout",
     "output_type": "stream",
     "text": [
      "Iteration 1, loss = 0.98854420\n",
      "Iteration 2, loss = 0.15014352\n",
      "Iteration 3, loss = 0.09569034\n",
      "Iteration 4, loss = 0.07070479\n",
      "Iteration 5, loss = 0.05807992\n",
      "Iteration 6, loss = 0.05233018\n",
      "Iteration 7, loss = 0.04424900\n",
      "Iteration 8, loss = 0.03899632\n",
      "Iteration 9, loss = 0.03481230\n",
      "Iteration 10, loss = 0.03005561\n",
      "Iteration 11, loss = 0.03134834\n",
      "Iteration 12, loss = 0.02696145\n",
      "Iteration 13, loss = 0.02517628\n",
      "Iteration 14, loss = 0.02218653\n",
      "Iteration 15, loss = 0.02070481\n",
      "Iteration 16, loss = 0.02270437\n",
      "Iteration 17, loss = 0.01826513\n",
      "Iteration 18, loss = 0.01943758\n",
      "Iteration 19, loss = 0.01697456\n",
      "Iteration 20, loss = 0.01628660\n",
      "Iteration 21, loss = 0.01495094\n",
      "Iteration 22, loss = 0.01525563\n",
      "Iteration 23, loss = 0.01399552\n",
      "Iteration 24, loss = 0.01299555\n",
      "Iteration 25, loss = 0.01346369\n",
      "Iteration 26, loss = 0.01287884\n",
      "Iteration 27, loss = 0.01194657\n",
      "Iteration 28, loss = 0.01144062\n",
      "Iteration 29, loss = 0.01098056\n",
      "Iteration 30, loss = 0.01147946\n",
      "Iteration 31, loss = 0.01039280\n",
      "Iteration 32, loss = 0.00997207\n",
      "Iteration 33, loss = 0.00975438\n",
      "Iteration 34, loss = 0.00946358\n",
      "Iteration 35, loss = 0.00931915\n",
      "Iteration 36, loss = 0.00890945\n",
      "Iteration 37, loss = 0.00894675\n",
      "Iteration 38, loss = 0.00845726\n",
      "Iteration 39, loss = 0.00847807\n",
      "Iteration 40, loss = 0.00804636\n",
      "Iteration 41, loss = 0.00777363\n",
      "Iteration 42, loss = 0.00786844\n",
      "Iteration 43, loss = 0.00744112\n",
      "Iteration 44, loss = 0.00744400\n",
      "Iteration 45, loss = 0.00719295\n",
      "Iteration 46, loss = 0.00694420\n",
      "Iteration 47, loss = 0.00679341\n",
      "Iteration 48, loss = 0.00678820\n",
      "Iteration 49, loss = 0.00659805\n",
      "Iteration 50, loss = 0.00649753\n",
      "Iteration 51, loss = 0.00636011\n",
      "Iteration 52, loss = 0.00622812\n",
      "Iteration 53, loss = 0.00653044\n",
      "Iteration 54, loss = 0.00605390\n",
      "Iteration 55, loss = 0.00582958\n",
      "Iteration 56, loss = 0.00579085\n",
      "Iteration 57, loss = 0.00566186\n",
      "Iteration 58, loss = 0.00559340\n",
      "Iteration 59, loss = 0.00539167\n",
      "Iteration 60, loss = 0.00543248\n",
      "Iteration 61, loss = 0.00531057\n",
      "Iteration 62, loss = 0.00521187\n",
      "Iteration 63, loss = 0.00514957\n",
      "Iteration 64, loss = 0.00504956\n",
      "Iteration 65, loss = 0.00505543\n",
      "Iteration 66, loss = 0.00495969\n",
      "Iteration 67, loss = 0.00480648\n",
      "Iteration 68, loss = 0.00477308\n",
      "Iteration 69, loss = 0.00474276\n",
      "Iteration 70, loss = 0.00467240\n",
      "Iteration 71, loss = 0.00455178\n",
      "Iteration 72, loss = 0.00451809\n",
      "Iteration 73, loss = 0.00440795\n",
      "Iteration 74, loss = 0.00438854\n",
      "Iteration 75, loss = 0.00431692\n",
      "Iteration 76, loss = 0.00426800\n",
      "Iteration 77, loss = 0.00423003\n",
      "Iteration 78, loss = 0.00418779\n",
      "Iteration 79, loss = 0.00415976\n",
      "Iteration 80, loss = 0.00408818\n",
      "Iteration 81, loss = 0.00402530\n",
      "Iteration 82, loss = 0.00399333\n",
      "Iteration 83, loss = 0.00392384\n",
      "Iteration 84, loss = 0.00386497\n",
      "Training loss did not improve more than tol=0.000100 for 10 consecutive epochs. Stopping.\n"
     ]
    },
    {
     "data": {
      "text/plain": [
       "MLPClassifier(batch_size=32, hidden_layer_sizes=650, max_iter=300, solver='sgd',\n",
       "              verbose=True)"
      ]
     },
     "execution_count": 23,
     "metadata": {},
     "output_type": "execute_result"
    }
   ],
   "source": [
    "# [5] 최적의 히든 노드 개수로 모델링 및 학습\n",
    "mlp = MLPClassifier(\n",
    "    hidden_layer_sizes = best_number_nodes,\n",
    "    learning_rate_init = 0.001,\n",
    "    batch_size = 32, \n",
    "    max_iter = 300,\n",
    "    solver = 'sgd', # Stochastic Gradient Descent => 한 번의 파라미터 업데이트를 위해 하나의 훈련 데이터 사용\n",
    "    verbose = True\n",
    ")\n",
    "mlp.fit(x_train, y_train)\n"
   ]
  },
  {
   "cell_type": "code",
   "execution_count": 25,
   "id": "3dcc8f9e-087d-427d-96b0-c76460c0706a",
   "metadata": {},
   "outputs": [
    {
     "name": "stdout",
     "output_type": "stream",
     "text": [
      "혼동 행렬 :  [[61.  0.  0.  0.  0.  1.  0.  0.  0.  0.]\n",
      " [ 0. 46.  1.  0.  0.  0.  0.  0.  4.  0.]\n",
      " [ 0.  0. 53.  0.  0.  1.  0.  0.  0.  0.]\n",
      " [ 0.  0.  0. 59.  0.  1.  0.  0.  0.  0.]\n",
      " [ 0.  0.  0.  0. 55.  0.  0.  0.  0.  0.]\n",
      " [ 0.  0.  0.  1.  0. 53.  2.  0.  0.  1.]\n",
      " [ 0.  0.  0.  0.  0.  1. 45.  0.  0.  0.]\n",
      " [ 0.  0.  0.  0.  0.  0.  0. 52.  0.  0.]\n",
      " [ 0.  0.  0.  0.  0.  0.  1.  0. 43.  2.]\n",
      " [ 0.  0.  0.  1.  0.  0.  0.  1.  0. 55.]]\n",
      "accuracy :  96.66666666666667\n"
     ]
    }
   ],
   "source": [
    "# [6] 모델 예측\n",
    "pred = mlp.predict(x_test)\n",
    "\n",
    "# [7] 혼동 행렬\n",
    "conf = np.zeros((10, 10)) # 숫자는 0 ~ 9\n",
    "\n",
    "for i in range(len(pred)):\n",
    "    conf[pred[i]][y_test[i]] += 1\n",
    "\n",
    "print(\"혼동 행렬 : \", conf)\n",
    "\n",
    "# [5] 성능 측정\n",
    "accuracy = 0\n",
    "for i in range(10):\n",
    "    accuracy += conf[i][i]\n",
    "print(\"accuracy : \", accuracy/len(pred)*100)\n"
   ]
  },
  {
   "cell_type": "code",
   "execution_count": null,
   "id": "8143e70b-b54c-46de-9a62-239d31356cce",
   "metadata": {},
   "outputs": [],
   "source": []
  },
  {
   "cell_type": "code",
   "execution_count": null,
   "id": "5f56932c-46e9-4377-9834-5018417fd77b",
   "metadata": {},
   "outputs": [],
   "source": []
  }
 ],
 "metadata": {
  "kernelspec": {
   "display_name": "Python 3",
   "language": "python",
   "name": "python3"
  },
  "language_info": {
   "codemirror_mode": {
    "name": "ipython",
    "version": 3
   },
   "file_extension": ".py",
   "mimetype": "text/x-python",
   "name": "python",
   "nbconvert_exporter": "python",
   "pygments_lexer": "ipython3",
   "version": "3.8.8"
  }
 },
 "nbformat": 4,
 "nbformat_minor": 5
}
