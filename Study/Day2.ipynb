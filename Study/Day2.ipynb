{
 "cells": [
  {
   "cell_type": "markdown",
   "id": "5fd7f6e3-c2fb-480f-8f2e-8738cd54bcc9",
   "metadata": {},
   "source": [
    "## p.87 ~ 122\n",
    "\n",
    "### chapter 3 : 기계학습과 인식"
   ]
  },
  {
   "cell_type": "markdown",
   "id": "ba8f5445-8f13-4cf6-b9fe-49ef5c981cbd",
   "metadata": {},
   "source": [
    "### * iris 데이터 셋\n",
    "- attribute:\n",
    "    - sepal length\n",
    "    - sepal width\n",
    "    - petal length\n",
    "    - petal width\n",
    "    \n",
    "- class:\n",
    "    - Iris-Setosa\n",
    "    - Iris-Versicolour\n",
    "    - Iris-Virginica"
   ]
  },
  {
   "cell_type": "code",
   "execution_count": 2,
   "id": "6ef210e4-4a3a-4bef-9490-7e8df23de0c1",
   "metadata": {
    "collapsed": true,
    "jupyter": {
     "outputs_hidden": true
    },
    "tags": []
   },
   "outputs": [
    {
     "name": "stdout",
     "output_type": "stream",
     "text": [
      ".. _iris_dataset:\n",
      "\n",
      "Iris plants dataset\n",
      "--------------------\n",
      "\n",
      "**Data Set Characteristics:**\n",
      "\n",
      "    :Number of Instances: 150 (50 in each of three classes)\n",
      "    :Number of Attributes: 4 numeric, predictive attributes and the class\n",
      "    :Attribute Information:\n",
      "        - sepal length in cm\n",
      "        - sepal width in cm\n",
      "        - petal length in cm\n",
      "        - petal width in cm\n",
      "        - class:\n",
      "                - Iris-Setosa\n",
      "                - Iris-Versicolour\n",
      "                - Iris-Virginica\n",
      "                \n",
      "    :Summary Statistics:\n",
      "\n",
      "    ============== ==== ==== ======= ===== ====================\n",
      "                    Min  Max   Mean    SD   Class Correlation\n",
      "    ============== ==== ==== ======= ===== ====================\n",
      "    sepal length:   4.3  7.9   5.84   0.83    0.7826\n",
      "    sepal width:    2.0  4.4   3.05   0.43   -0.4194\n",
      "    petal length:   1.0  6.9   3.76   1.76    0.9490  (high!)\n",
      "    petal width:    0.1  2.5   1.20   0.76    0.9565  (high!)\n",
      "    ============== ==== ==== ======= ===== ====================\n",
      "\n",
      "    :Missing Attribute Values: None\n",
      "    :Class Distribution: 33.3% for each of 3 classes.\n",
      "    :Creator: R.A. Fisher\n",
      "    :Donor: Michael Marshall (MARSHALL%PLU@io.arc.nasa.gov)\n",
      "    :Date: July, 1988\n",
      "\n",
      "The famous Iris database, first used by Sir R.A. Fisher. The dataset is taken\n",
      "from Fisher's paper. Note that it's the same as in R, but not as in the UCI\n",
      "Machine Learning Repository, which has two wrong data points.\n",
      "\n",
      "This is perhaps the best known database to be found in the\n",
      "pattern recognition literature.  Fisher's paper is a classic in the field and\n",
      "is referenced frequently to this day.  (See Duda & Hart, for example.)  The\n",
      "data set contains 3 classes of 50 instances each, where each class refers to a\n",
      "type of iris plant.  One class is linearly separable from the other 2; the\n",
      "latter are NOT linearly separable from each other.\n",
      "\n",
      ".. topic:: References\n",
      "\n",
      "   - Fisher, R.A. \"The use of multiple measurements in taxonomic problems\"\n",
      "     Annual Eugenics, 7, Part II, 179-188 (1936); also in \"Contributions to\n",
      "     Mathematical Statistics\" (John Wiley, NY, 1950).\n",
      "   - Duda, R.O., & Hart, P.E. (1973) Pattern Classification and Scene Analysis.\n",
      "     (Q327.D83) John Wiley & Sons.  ISBN 0-471-22361-1.  See page 218.\n",
      "   - Dasarathy, B.V. (1980) \"Nosing Around the Neighborhood: A New System\n",
      "     Structure and Classification Rule for Recognition in Partially Exposed\n",
      "     Environments\".  IEEE Transactions on Pattern Analysis and Machine\n",
      "     Intelligence, Vol. PAMI-2, No. 1, 67-71.\n",
      "   - Gates, G.W. (1972) \"The Reduced Nearest Neighbor Rule\".  IEEE Transactions\n",
      "     on Information Theory, May 1972, 431-433.\n",
      "   - See also: 1988 MLC Proceedings, 54-64.  Cheeseman et al\"s AUTOCLASS II\n",
      "     conceptual clustering system finds 3 classes in the data.\n",
      "   - Many, many more ...\n"
     ]
    }
   ],
   "source": [
    "from sklearn import datasets\n",
    "import pandas as pd\n",
    "import numpy as np\n",
    "import os\n",
    "\n",
    "import matplotlib.pyplot as plt\n",
    "import seaborn as sns\n",
    "%matplotlib inline\n",
    "\n",
    "data = datasets.load_iris()\n",
    "print(data.DESCR)"
   ]
  },
  {
   "cell_type": "markdown",
   "id": "ef539ba5-5424-49da-b1ad-de7607a8f36c",
   "metadata": {},
   "source": [
    "#### [1] 특징 vector 추출"
   ]
  },
  {
   "cell_type": "markdown",
   "id": "bdec195b-c463-4ff0-889c-e2389c3f2eeb",
   "metadata": {},
   "source": [
    "* 4차원 feature vector"
   ]
  },
  {
   "cell_type": "raw",
   "id": "ead20815-abe4-49bd-a4b4-52cda202bdfe",
   "metadata": {},
   "source": [
    "        특징 vector(x)    y\n",
    "샘플1 : [5.1 3.5 1.4 0.2] 0\n",
    "샘플2 : [4.9 3.  1.4 0.2] 0\n",
    "샘플3 : [4.7 3.2 1.3 0.2] 0\n",
    "샘플4 : [4.6 3.1 1.5 0.2] 0\n",
    "샘플5 : [5.  3.6 1.4 0.2] 0"
   ]
  },
  {
   "cell_type": "markdown",
   "id": "7924767b-28b1-413f-8288-c562f3cdafb0",
   "metadata": {},
   "source": [
    "* classification 문제이기 때문에 y는 one-hot encoding으로 표현한다."
   ]
  },
  {
   "cell_type": "code",
   "execution_count": 4,
   "id": "1194012d-3077-4a99-b758-d75fb18e0017",
   "metadata": {
    "tags": []
   },
   "outputs": [
    {
     "name": "stdout",
     "output_type": "stream",
     "text": [
      "1 [5.1 3.5 1.4 0.2] 0\n",
      "2 [4.9 3.  1.4 0.2] 0\n",
      "3 [4.7 3.2 1.3 0.2] 0\n",
      "4 [4.6 3.1 1.5 0.2] 0\n",
      "5 [5.  3.6 1.4 0.2] 0\n"
     ]
    }
   ],
   "source": [
    "for i in range(5):\n",
    "    print(i+1, data.data[i], data.target[i])"
   ]
  },
  {
   "cell_type": "code",
   "execution_count": 28,
   "id": "6d8a85a3-66e3-4351-b247-fe908ef47590",
   "metadata": {},
   "outputs": [],
   "source": [
    "irisDF = pd.DataFrame(data.data,columns=data.feature_names)"
   ]
  },
  {
   "cell_type": "code",
   "execution_count": 39,
   "id": "407196ff-f2a6-49ab-aa17-9590afeea207",
   "metadata": {},
   "outputs": [
    {
     "data": {
      "image/png": "[encoded data removed]",
      "text/plain": [
       "<Figure size 576x576 with 1 Axes>"
      ]
     },
     "metadata": {
      "needs_background": "light"
     },
     "output_type": "display_data"
    }
   ],
   "source": [
    "# 데이터 분포 확인\n",
    "color=[]\n",
    "for n in data.target:\n",
    "    if n==0:\n",
    "        color.append('r') # 0 - Setosa\n",
    "    elif n==1:\n",
    "        color.append('g') # 1- Versicolour\n",
    "    else:\n",
    "        color.append('b') # 2 - Virginica\n",
    "fig = plt.figure(figsize = (8,8))\n",
    "ax = fig.gca(projection='3d' )\n",
    "ax.scatter(xs=irisDF['sepal width (cm)'], ys=irisDF['sepal length (cm)'],\n",
    "           zs=irisDF['petal width (cm)'],  alpha=0.5,c=color)\n",
    "ax.set_xlabel('Sepal width')\n",
    "ax.set_ylabel('Sepal length')\n",
    "ax.set_zlabel('Petal width')\n",
    "plt.show()"
   ]
  },
  {
   "cell_type": "markdown",
   "id": "32a50efa-371d-4093-90a9-531886071ee4",
   "metadata": {},
   "source": [
    "* Setosa (red) : petal_width (아래), sepal_width (-), sepal_length (),\n",
    "* Versicolour (green) : petal_width (중간),sepal_width (-),\n",
    "* Virginica (blue) : petal_width (위), sepal_width (-),"
   ]
  },
  {
   "cell_type": "markdown",
   "id": "50ddd391-69b9-4c4a-b410-734adaa8a152",
   "metadata": {},
   "source": [
    "#### [2] 모델링과 예측\n",
    "* [3-1] 사용할 모델 : SVM(Support Vector Machine)"
   ]
  },
  {
   "cell_type": "code",
   "execution_count": 10,
   "id": "58d079b7-e979-4c76-ae8b-b9bd4b96f473",
   "metadata": {},
   "outputs": [
    {
     "data": {
      "text/plain": [
       "SVC(C=10, gamma=0.1)"
      ]
     },
     "execution_count": 10,
     "metadata": {},
     "output_type": "execute_result"
    }
   ],
   "source": [
    "from sklearn import svm\n",
    "\n",
    "classifier = svm.SVC(gamma=0.1, C=10)\n",
    "classifier.fit(data.data, data.target)"
   ]
  },
  {
   "cell_type": "code",
   "execution_count": 11,
   "id": "448aa3b3-796c-43b2-9219-4c55daf6535a",
   "metadata": {},
   "outputs": [
    {
     "name": "stdout",
     "output_type": "stream",
     "text": [
      "새로운 2개의 샘플 분류 :  [2 1]\n"
     ]
    }
   ],
   "source": [
    "new_data = [[6.4, 3.2, 6.0, 2.5], [7.1, 3.1, 4.7, 1.35]]\n",
    "\n",
    "res = classifier.predict(new_data)\n",
    "print(\"새로운 2개의 샘플 분류 : \", res)"
   ]
  },
  {
   "cell_type": "markdown",
   "id": "8c086ed2-6dd7-4aa5-b1e7-5f6c22d4443f",
   "metadata": {},
   "source": [
    "### * MNIST 숫자"
   ]
  },
  {
   "cell_type": "code",
   "execution_count": 43,
   "id": "bfc98c9e-00ae-4d11-a32e-5638cd2ee376",
   "metadata": {},
   "outputs": [],
   "source": [
    "from sklearn import datasets\n",
    "\n",
    "digit = datasets.load_digits()"
   ]
  },
  {
   "cell_type": "code",
   "execution_count": 50,
   "id": "ff4069f8-0299-4a17-b799-d3a8d3cd05cd",
   "metadata": {},
   "outputs": [
    {
     "data": {
      "image/png": "[encoded data removed]",
      "text/plain": [
       "<Figure size 288x288 with 1 Axes>"
      ]
     },
     "metadata": {
      "needs_background": "light"
     },
     "output_type": "display_data"
    },
    {
     "name": "stdout",
     "output_type": "stream",
     "text": [
      "[ 0.  0.  5. 13.  9.  1.  0.  0.  0.  0. 13. 15. 10. 15.  5.  0.  0.  3.\n",
      " 15.  2.  0. 11.  8.  0.  0.  4. 12.  0.  0.  8.  8.  0.  0.  5.  8.  0.\n",
      "  0.  9.  8.  0.  0.  4. 11.  0.  1. 12.  7.  0.  0.  2. 14.  5. 10. 12.\n",
      "  0.  0.  0.  0.  6. 13. 10.  0.  0.  0.]\n",
      "이 숫자는 :  0 입니다.\n"
     ]
    }
   ],
   "source": [
    "plt.figure(figsize=(4, 4))\n",
    "plt.imshow(digit.images[0], cmap=plt.cm.gray_r, interpolation='nearest')\n",
    "\n",
    "plt.show()\n",
    "print(digit.data[0])\n",
    "print(\"이 숫자는 : \", digit.target[0], \"입니다.\")"
   ]
  },
  {
   "cell_type": "markdown",
   "id": "013f676f-28fa-4672-9502-02903ed38f5a",
   "metadata": {},
   "source": [
    "#### [1] 특징 vector"
   ]
  },
  {
   "cell_type": "code",
   "execution_count": 46,
   "id": "d5b6321b-5bd3-4048-a6a5-70a30bfdb340",
   "metadata": {},
   "outputs": [
    {
     "data": {
      "text/plain": [
       "array([[ 0.,  0.,  5., ...,  0.,  0.,  0.],\n",
       "       [ 0.,  0.,  0., ..., 10.,  0.,  0.],\n",
       "       [ 0.,  0.,  0., ..., 16.,  9.,  0.],\n",
       "       ...,\n",
       "       [ 0.,  0.,  1., ...,  6.,  0.,  0.],\n",
       "       [ 0.,  0.,  2., ..., 12.,  0.,  0.],\n",
       "       [ 0.,  0., 10., ..., 12.,  1.,  0.]])"
      ]
     },
     "execution_count": 46,
     "metadata": {},
     "output_type": "execute_result"
    }
   ],
   "source": [
    "digit.data"
   ]
  },
  {
   "cell_type": "code",
   "execution_count": 48,
   "id": "0ca70d01-7880-4b42-bbc1-9d5dcaeab765",
   "metadata": {},
   "outputs": [
    {
     "data": {
      "text/plain": [
       "1797"
      ]
     },
     "execution_count": 48,
     "metadata": {},
     "output_type": "execute_result"
    }
   ],
   "source": [
    "len(digit.data)"
   ]
  },
  {
   "cell_type": "code",
   "execution_count": 47,
   "id": "41ac7c67-a587-49f8-9859-24afa2ab92ed",
   "metadata": {},
   "outputs": [
    {
     "data": {
      "text/plain": [
       "64"
      ]
     },
     "execution_count": 47,
     "metadata": {},
     "output_type": "execute_result"
    }
   ],
   "source": [
    "# 즉, 64개 화소의 값을 출력함\n",
    "len(digit.data[0])"
   ]
  },
  {
   "cell_type": "markdown",
   "id": "c10c96ac-0033-490c-b7be-2f27a1f19b87",
   "metadata": {},
   "source": [
    "* MNIST는 64차원의 1797개 특징 벡터로 모델링을 진행한다"
   ]
  },
  {
   "cell_type": "markdown",
   "id": "27ce3965-caf2-4808-83ca-310ecbb2119c",
   "metadata": {},
   "source": [
    "#### [2] 모델링과 예측\n",
    "* [2-1] 사용할 모델 : SVM(Support Vector Machine)"
   ]
  },
  {
   "cell_type": "code",
   "execution_count": 51,
   "id": "fc65bbb5-90e4-4f53-90fa-f5f9a4cf9d2d",
   "metadata": {},
   "outputs": [
    {
     "data": {
      "text/plain": [
       "SVC(C=10, gamma=0.1)"
      ]
     },
     "execution_count": 51,
     "metadata": {},
     "output_type": "execute_result"
    }
   ],
   "source": [
    "from sklearn import svm\n",
    "\n",
    "classifier = svm.SVC(gamma=0.1, C=10)\n",
    "classifier.fit(digit.data, digit.target)"
   ]
  },
  {
   "cell_type": "code",
   "execution_count": 53,
   "id": "551f0cf4-1b83-4fc5-8993-3d3fe6a34e5d",
   "metadata": {},
   "outputs": [
    {
     "name": "stdout",
     "output_type": "stream",
     "text": [
      "새로운 2개의 샘플 분류 :  [0 1 2]\n"
     ]
    }
   ],
   "source": [
    "new_data = [digit.data[0], digit.data[1], digit.data[2]]\n",
    "\n",
    "res = classifier.predict(new_data)\n",
    "print(\"새로운 2개의 샘플 분류 : \", res)"
   ]
  },
  {
   "cell_type": "markdown",
   "id": "21bb2114-3196-4e28-99ac-0b42af364ed9",
   "metadata": {},
   "source": [
    "#### [3] 데이터를 훈련, 테스트 집합으로 나눠서 훈련하기"
   ]
  },
  {
   "cell_type": "code",
   "execution_count": 54,
   "id": "03bde8b4-4263-4d15-88a5-a7e250180d84",
   "metadata": {},
   "outputs": [],
   "source": [
    "from sklearn.model_selection import train_test_split\n",
    "\n",
    "x_train, x_test, y_train, y_test = train_test_split(digit.data, digit.target, train_size=0.6)"
   ]
  },
  {
   "cell_type": "code",
   "execution_count": 55,
   "id": "3055e7ed-f7ae-4e7c-a426-5b41db987537",
   "metadata": {},
   "outputs": [
    {
     "name": "stdout",
     "output_type": "stream",
     "text": [
      "1078\n",
      "1078\n",
      "719\n",
      "719\n"
     ]
    }
   ],
   "source": [
    "print(len(x_train))\n",
    "print(len(y_train))\n",
    "print(len(x_test))\n",
    "print(len(y_test))"
   ]
  },
  {
   "cell_type": "code",
   "execution_count": 56,
   "id": "66613269-8b72-429b-854a-7dbbcf3b5947",
   "metadata": {},
   "outputs": [
    {
     "data": {
      "text/plain": [
       "SVC(gamma=0.001)"
      ]
     },
     "execution_count": 56,
     "metadata": {},
     "output_type": "execute_result"
    }
   ],
   "source": [
    "classifier = svm.SVC(gamma=0.001)\n",
    "classifier.fit(x_train, y_train)"
   ]
  },
  {
   "cell_type": "markdown",
   "id": "a22d05a7-db5f-4a86-bc7a-4080bbf30532",
   "metadata": {},
   "source": [
    "#### [4] test 집합을 기반으로 성능 측정하기"
   ]
  },
  {
   "cell_type": "code",
   "execution_count": 57,
   "id": "af1dc9b0-68ef-4940-89e1-8357fdf4faf2",
   "metadata": {},
   "outputs": [],
   "source": [
    "res = classifier.predict(x_test)"
   ]
  },
  {
   "cell_type": "markdown",
   "id": "ac90c55a-2c1c-459a-aa6c-a5537227f8c1",
   "metadata": {},
   "source": [
    "* 혼동 행렬 이용\n",
    "- class(정답) 은 10개 (0 ~ 9)이다.\n",
    "- 그렇기 때문에 혼동 행렬은 10*10 행렬이다.\n",
    "- 혼동 행렬 각 값은 nij => n번째 샘플에서 모델이 예측한 결과 i, 실제 결과 j이다"
   ]
  },
  {
   "cell_type": "code",
   "execution_count": 60,
   "id": "e90698af-862d-4523-8e14-676089a77e33",
   "metadata": {},
   "outputs": [],
   "source": [
    "confusion_matrix = np.zeros((10, 10))\n",
    "\n",
    "for i in range(len(res)):\n",
    "    confusion_matrix[res[i]][y_test[i]] += 1 # 예측한 결과 class, 실제 결과 j"
   ]
  },
  {
   "cell_type": "code",
   "execution_count": 61,
   "id": "f2c6ac4c-9056-413b-a545-686fd83735bf",
   "metadata": {},
   "outputs": [
    {
     "data": {
      "text/plain": [
       "array([[71.,  0.,  0.,  0.,  0.,  0.,  0.,  0.,  0.,  0.],\n",
       "       [ 0., 73.,  0.,  0.,  0.,  0.,  0.,  0.,  2.,  0.],\n",
       "       [ 0.,  0., 76.,  0.,  0.,  0.,  0.,  0.,  0.,  0.],\n",
       "       [ 0.,  0.,  0., 75.,  0.,  0.,  0.,  0.,  0.,  0.],\n",
       "       [ 1.,  0.,  0.,  0., 70.,  0.,  0.,  0.,  0.,  0.],\n",
       "       [ 0.,  1.,  0.,  1.,  0., 63.,  0.,  0.,  0.,  0.],\n",
       "       [ 0.,  0.,  0.,  0.,  0.,  1., 72.,  0.,  0.,  0.],\n",
       "       [ 0.,  0.,  0.,  0.,  0.,  0.,  0., 68.,  0.,  1.],\n",
       "       [ 0.,  0.,  0.,  0.,  0.,  0.,  0.,  0., 64.,  1.],\n",
       "       [ 0.,  0.,  0.,  0.,  0.,  0.,  0.,  0.,  0., 79.]])"
      ]
     },
     "execution_count": 61,
     "metadata": {},
     "output_type": "execute_result"
    }
   ],
   "source": [
    "confusion_matrix"
   ]
  },
  {
   "cell_type": "markdown",
   "id": "02b39755-61d4-497a-94ec-6a043991a708",
   "metadata": {},
   "source": [
    "* 정확도 측정 => 대각선 샘플 수 / 전체 샘플 수\n",
    "* 대각선이 내가 맞춘 개수이니까!"
   ]
  },
  {
   "cell_type": "code",
   "execution_count": 62,
   "id": "c9340f93-ea7d-4292-ae7b-264b299818e6",
   "metadata": {},
   "outputs": [
    {
     "name": "stdout",
     "output_type": "stream",
     "text": [
      "정확도 :  98.88734353268428\n"
     ]
    }
   ],
   "source": [
    "correct = 0\n",
    "\n",
    "for i in range(10):\n",
    "    correct += confusion_matrix[i][i] # 대각선\n",
    "\n",
    "print(\"정확도 : \", (correct/len(res))*100)"
   ]
  },
  {
   "cell_type": "markdown",
   "id": "de5b2166-a083-4334-8b79-953b424506f7",
   "metadata": {},
   "source": [
    "#### [5] 교차 검증 사용"
   ]
  },
  {
   "cell_type": "code",
   "execution_count": 65,
   "id": "7870d918-1bb0-46c3-b80e-77480ef6de89",
   "metadata": {},
   "outputs": [],
   "source": [
    "classifier = svm.SVC(gamma=0.001)"
   ]
  },
  {
   "cell_type": "code",
   "execution_count": 66,
   "id": "2128bead-7b8f-4110-93fa-e07ed977e1f1",
   "metadata": {},
   "outputs": [],
   "source": [
    "from sklearn.model_selection import cross_val_score\n",
    "\n",
    "accuracy = cross_val_score(classifier, digit.data, digit.target, cv=5) # 5-겹 교차 검증 사용 => 5개의 정확도 나옴\n"
   ]
  },
  {
   "cell_type": "code",
   "execution_count": 67,
   "id": "f543e3a2-bc38-4051-bac7-598cd9596b1f",
   "metadata": {},
   "outputs": [
    {
     "data": {
      "text/plain": [
       "array([0.975     , 0.95      , 0.98328691, 0.99164345, 0.96100279])"
      ]
     },
     "execution_count": 67,
     "metadata": {},
     "output_type": "execute_result"
    }
   ],
   "source": [
    "accuracy"
   ]
  },
  {
   "cell_type": "code",
   "execution_count": 68,
   "id": "aeba4119-74fe-4787-a321-d90737d3b4d2",
   "metadata": {},
   "outputs": [
    {
     "name": "stdout",
     "output_type": "stream",
     "text": [
      "정확도 평균 :  97.21866295264624 0.015013488295959767\n"
     ]
    }
   ],
   "source": [
    "# 이 5개의 정확도의 평균이 이 모델의 성능이다!\n",
    "print(\"정확도 평균 : \", accuracy.mean()*100, accuracy.std())"
   ]
  }
 ],
 "metadata": {
  "kernelspec": {
   "display_name": "Python 3",
   "language": "python",
   "name": "python3"
  },
  "language_info": {
   "codemirror_mode": {
    "name": "ipython",
    "version": 3
   },
   "file_extension": ".py",
   "mimetype": "text/x-python",
   "name": "python",
   "nbconvert_exporter": "python",
   "pygments_lexer": "ipython3",
   "version": "3.8.8"
  }
 },
 "nbformat": 4,
 "nbformat_minor": 5
}
