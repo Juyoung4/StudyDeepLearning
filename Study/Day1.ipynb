{
 "cells": [
  {
   "cell_type": "markdown",
   "id": "a89819f0-5493-47f6-89af-953f97e1bb3c",
   "metadata": {},
   "source": [
    "### 프로그램 예제 p.83\n",
    "\n",
    "* 연습 문제"
   ]
  },
  {
   "cell_type": "markdown",
   "id": "316246ad-4af8-48c4-9ee1-af7c6d4959d6",
   "metadata": {},
   "source": [
    " 1. [프로그램2-1]을 [0,1] 범우이의 실수 난수를  생성해서 더하는 프로그램 수정"
   ]
  },
  {
   "cell_type": "code",
   "execution_count": 3,
   "id": "4ab787c5-8e80-4c98-9dae-b6066bb0ee3d",
   "metadata": {},
   "outputs": [
    {
     "name": "stdout",
     "output_type": "stream",
     "text": [
      "36\n"
     ]
    }
   ],
   "source": [
    "# original\n",
    "import random\n",
    "\n",
    "a = random.randint(10, 20)\n",
    "b = random.randint(10, 20)\n",
    "\n",
    "print(a+b)"
   ]
  },
  {
   "cell_type": "code",
   "execution_count": 9,
   "id": "d9e0f867-52c8-4f49-a268-bc330eaabd70",
   "metadata": {},
   "outputs": [
    {
     "name": "stdout",
     "output_type": "stream",
     "text": [
      "1.4623280574759736\n"
     ]
    }
   ],
   "source": [
    "# edit\n",
    "import random\n",
    "\n",
    "# random.random() => float\n",
    "a = random.uniform(0, 1) # \n",
    "b = random.uniform(0, 1)\n",
    "\n",
    "print(a+b)"
   ]
  },
  {
   "cell_type": "markdown",
   "id": "1028fb16-fb06-4510-a4c8-90e2b85614a2",
   "metadata": {},
   "source": [
    "2. 다음 프로그래밍을 실행하고 결과 제시"
   ]
  },
  {
   "cell_type": "code",
   "execution_count": 10,
   "id": "c805cf37-b14f-48f0-add2-542a97853888",
   "metadata": {},
   "outputs": [
    {
     "name": "stdout",
     "output_type": "stream",
     "text": [
      "xxoo\n",
      "개\n"
     ]
    }
   ],
   "source": [
    "import random\n",
    "\n",
    "yut = ['xxxx', 'xxxo', 'xxox', 'xxoo',\n",
    "       'xoxx', 'xoxo', 'xppx', 'xooo',\n",
    "       'oxxx', 'oxxo', 'oxox','oxoo', \n",
    "       'ooxx', 'ooxo', 'ooox', 'oooo']\n",
    "\n",
    "throw = random.choice(yut) # 하나 선택\n",
    "\n",
    "print(throw)\n",
    "\n",
    "n = throw.count('o') # 선택한 것에 'o'는 몇개\n",
    "\n",
    "if n == 4:\n",
    "    print(\"모\")\n",
    "elif n == 3:\n",
    "    print(\"도\")\n",
    "elif n == 2:\n",
    "    print(\"개\")\n",
    "elif n == 1:\n",
    "    print(\"걸\")\n",
    "else:\n",
    "    print(\"윷\")"
   ]
  },
  {
   "cell_type": "markdown",
   "id": "c9b4f7e1-63eb-4fa6-8285-5b82113c2bd1",
   "metadata": {},
   "source": [
    "3. 프로그램 [2-2]를 [0, 1] 범위의 실수 난수를 생성하여 더하는 연산 1억 반복하는 프로그램으로 수정"
   ]
  },
  {
   "cell_type": "code",
   "execution_count": 12,
   "id": "4d5e241b-4c80-418b-a37a-84b5dcf777ec",
   "metadata": {},
   "outputs": [
    {
     "name": "stdout",
     "output_type": "stream",
     "text": [
      "1+2+ ... + 100000000 5000000050000000\n",
      "소요 시간 ;  6.65430760383606 초\n"
     ]
    }
   ],
   "source": [
    "import time\n",
    "\n",
    "start = time.time()\n",
    "sum = 0\n",
    "\n",
    "for i in range(1, 100000001):\n",
    "    sum += i\n",
    "\n",
    "end = time.time()\n",
    "\n",
    "print(\"1+2+ ... + 100000000\", sum)\n",
    "\n",
    "print(\"소요 시간 ; \", end-start, \"초\")"
   ]
  },
  {
   "cell_type": "code",
   "execution_count": 11,
   "id": "cb4aa48b-ad0c-419f-bc8f-cfc06e3ef332",
   "metadata": {},
   "outputs": [
    {
     "name": "stdout",
     "output_type": "stream",
     "text": [
      "1+2+ ... + 100000000 50000109.928496994\n",
      "소요 시간 ;  22.105326414108276 초\n"
     ]
    }
   ],
   "source": [
    "import time\n",
    "\n",
    "start = time.time()\n",
    "sum = 0\n",
    "\n",
    "for _ in range(1, 100000001):\n",
    "    sum += random.uniform(0, 1)\n",
    "\n",
    "end = time.time()\n",
    "\n",
    "print(\"1+2+ ... + 100000000\", sum)\n",
    "\n",
    "print(\"소요 시간 ; \", end-start, \"초\")"
   ]
  },
  {
   "cell_type": "markdown",
   "id": "a0341f6c-027f-476a-9d07-ae610958ed7a",
   "metadata": {},
   "source": []
  }
 ],
 "metadata": {
  "kernelspec": {
   "display_name": "Python 3",
   "language": "python",
   "name": "python3"
  },
  "language_info": {
   "codemirror_mode": {
    "name": "ipython",
    "version": 3
   },
   "file_extension": ".py",
   "mimetype": "text/x-python",
   "name": "python",
   "nbconvert_exporter": "python",
   "pygments_lexer": "ipython3",
   "version": "3.8.8"
  }
 },
 "nbformat": 4,
 "nbformat_minor": 5
}
