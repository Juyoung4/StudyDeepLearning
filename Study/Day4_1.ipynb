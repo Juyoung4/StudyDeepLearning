{
 "cells": [
  {
   "cell_type": "markdown",
   "id": "ab1bc024-457e-496e-9448-8ea5afcecdc5",
   "metadata": {},
   "source": [
    "## Chapter 5"
   ]
  },
  {
   "cell_type": "markdown",
   "id": "17874860-9800-4bf7-818e-75bc114ddb3f",
   "metadata": {},
   "source": [
    "### [5-2] 텐서플로 개념 익히기"
   ]
  },
  {
   "cell_type": "code",
   "execution_count": 4,
   "id": "d1ba4bde-c657-4723-b350-64f5efaa3a3b",
   "metadata": {},
   "outputs": [
    {
     "data": {
      "text/plain": [
       "'2.1.0'"
      ]
     },
     "execution_count": 4,
     "metadata": {},
     "output_type": "execute_result"
    },
    {
     "name": "stdout",
     "output_type": "stream",
     "text": [
      "ERROR! Session/line number was not unique in database. History logging moved to new session 225\n"
     ]
    }
   ],
   "source": [
    "import tensorflow as tf\n",
    "\n",
    "tf.__version__"
   ]
  },
  {
   "cell_type": "code",
   "execution_count": 1,
   "id": "5e8270b5-9a26-48d8-8128-a21f331b259b",
   "metadata": {},
   "outputs": [],
   "source": [
    "import matplotlib.pyplot as plt\n",
    "%matplotlib inline"
   ]
  },
  {
   "cell_type": "markdown",
   "id": "b2da89fd-0314-4a6f-a7ce-7d8b5ad77a93",
   "metadata": {},
   "source": [
    "* tf.random.uniform \n",
    "\n",
    "    [2, 3] => 2*3 행렬\n",
    "    \n",
    "    0, 1 => 0~1사이 난수 생성"
   ]
  },
  {
   "cell_type": "code",
   "execution_count": 2,
   "id": "12d30f98-35ab-4497-91ea-05458e897e2f",
   "metadata": {},
   "outputs": [
    {
     "name": "stdout",
     "output_type": "stream",
     "text": [
      "tf.Tensor(\n",
      "[[0.6505729  0.13620126 0.8676996 ]\n",
      " [0.9879925  0.9339466  0.07436121]], shape=(2, 3), dtype=float32)\n",
      "<class 'tensorflow.python.framework.ops.EagerTensor'>\n"
     ]
    }
   ],
   "source": [
    "a = tf.random.uniform([2, 3], 0, 1)\n",
    "print(a)\n",
    "print(type(a))"
   ]
  },
  {
   "cell_type": "markdown",
   "id": "21395524-d5e4-4d81-9332-774baf1cd1a3",
   "metadata": {},
   "source": [
    "* numpy와 tensorflow 호환\n",
    "\n",
    "2.0버전부터는 두 라이브러리가 호환이 가능하다"
   ]
  },
  {
   "cell_type": "code",
   "execution_count": 3,
   "id": "7db423d3-0dd5-4a96-9de6-ed9adf41a605",
   "metadata": {},
   "outputs": [
    {
     "name": "stdout",
     "output_type": "stream",
     "text": [
      "tensorflow tensor :  tf.Tensor(\n",
      "[[0.6635717  0.6635963  0.18038845]\n",
      " [0.24398851 0.09374368 0.57751393]], shape=(2, 3), dtype=float32)\n",
      "numpy array :  [[0.94866311 0.73253072 0.70701362]\n",
      " [0.42065428 0.53901471 0.74082213]]\n",
      "sum result ;  tf.Tensor(\n",
      "[[1.6122348  1.396127   0.88740206]\n",
      " [0.6646428  0.6327584  1.318336  ]], shape=(2, 3), dtype=float32)\n"
     ]
    }
   ],
   "source": [
    "import numpy as np\n",
    "\n",
    "t = tf.random.uniform([2, 3], 0, 1)\n",
    "n = np.random.uniform(0, 1, [2, 3])\n",
    "print(\"tensorflow tensor : \", t)\n",
    "print(\"numpy array : \", n)\n",
    "\n",
    "# tensor + numpy array\n",
    "print(\"sum result ; \",t+n) # => result = tensor"
   ]
  },
  {
   "cell_type": "markdown",
   "id": "f1e74a28-2f64-4285-82e6-2917f5b812a0",
   "metadata": {},
   "source": [
    "* tensor의 구조\n",
    "\n",
    "1. 0차원 tensor : 하나뿐인 스칼라 값\n",
    "2. 1차원 텐서 : [1, 1.1, 2.2]\n",
    "3. 2차원 텐서 : [[1, 1.1, 2.2], [1, 1.1, 2.2], [1, 1.1, 2.2]]\n",
    "4. 3차원 텐서 \n",
    "5. 4차원 텐서"
   ]
  },
  {
   "cell_type": "markdown",
   "id": "82f09b3d-fd99-439b-ba28-8eff2df37f7e",
   "metadata": {},
   "source": [
    "#### tensorflow에서 제공하는 데이터 세트를 다운받아 tensor 구조 확인"
   ]
  },
  {
   "cell_type": "code",
   "execution_count": 4,
   "id": "28c92650-22bd-4035-96ef-22d70349a91c",
   "metadata": {},
   "outputs": [
    {
     "name": "stdout",
     "output_type": "stream",
     "text": [
      "MNIST Shape :  (60000, 28, 28) (60000,)\n"
     ]
    }
   ],
   "source": [
    "import tensorflow.keras.datasets as ds\n",
    "\n",
    "# [1] MNIST\n",
    "(x_train, y_train), (x_test, y_test) = ds.mnist.load_data()\n",
    "print(\"MNIST Shape : \", x_train.shape, y_train.shape)"
   ]
  },
  {
   "cell_type": "code",
   "execution_count": 5,
   "id": "ac932258-1fe7-4c56-a566-c45cd4d194ed",
   "metadata": {},
   "outputs": [
    {
     "data": {
      "text/plain": [
       "5"
      ]
     },
     "execution_count": 5,
     "metadata": {},
     "output_type": "execute_result"
    }
   ],
   "source": [
    "y_train[0] # => one-hot encoding 적용"
   ]
  },
  {
   "cell_type": "code",
   "execution_count": 6,
   "id": "930a1afe-7c06-4070-96eb-9e761e7c78b7",
   "metadata": {},
   "outputs": [
    {
     "name": "stdout",
     "output_type": "stream",
     "text": [
      "MNIST Shape :  (60000, 28, 28) (60000,) (60000, 10)\n"
     ]
    }
   ],
   "source": [
    "# tf.one_hot함수 사용\n",
    "yy_train = tf.one_hot(y_train, 10, dtype=tf.int8) # 10개 클래스 기준\n",
    "print(\"MNIST Shape : \", x_train.shape, y_train.shape, yy_train.shape)"
   ]
  },
  {
   "cell_type": "code",
   "execution_count": 7,
   "id": "9134acb5-7945-4b36-a350-84c5530586dc",
   "metadata": {},
   "outputs": [
    {
     "data": {
      "text/plain": [
       "<tf.Tensor: shape=(10,), dtype=int8, numpy=array([0, 0, 0, 0, 0, 1, 0, 0, 0, 0], dtype=int8)>"
      ]
     },
     "execution_count": 7,
     "metadata": {},
     "output_type": "execute_result"
    }
   ],
   "source": [
    "yy_train[0]"
   ]
  },
  {
   "cell_type": "markdown",
   "id": "57572faf-6de7-4499-baa7-611762fbfd51",
   "metadata": {},
   "source": [
    "* MNIST Shape :  (60000, 28, 28) (60000,) (60000, 10)\n",
    "\n",
    "=> 입력 tensor : 60000 * 28 * 28 <br>\n",
    "=> 출력 tensor : 60000 * 10 <br>"
   ]
  },
  {
   "cell_type": "code",
   "execution_count": 8,
   "id": "f65bfffc-f4b9-4520-9d76-c63a0eaf4ab5",
   "metadata": {},
   "outputs": [
    {
     "name": "stdout",
     "output_type": "stream",
     "text": [
      "CIFAR-10 Shape :  (50000, 32, 32, 3) (50000, 1)\n",
      "CIFAR-10 Shape :  (50000, 32, 32, 3) (50000, 1) (50000, 1, 10)\n"
     ]
    }
   ],
   "source": [
    "# [2] CIFAR-10\n",
    "(x_train, y_train), (x_test, y_test) = ds.cifar10.load_data()\n",
    "print(\"CIFAR-10 Shape : \", x_train.shape, y_train.shape)\n",
    "\n",
    "# tf.one_hot함수 사용\n",
    "yy_train = tf.one_hot(y_train, 10, dtype=tf.int8) # 10개 클래스 기준\n",
    "print(\"CIFAR-10 Shape : \", x_train.shape, y_train.shape, yy_train.shape)"
   ]
  },
  {
   "cell_type": "markdown",
   "id": "fcc3b2e9-6cd2-4a2b-9f23-f5b12b45b2d3",
   "metadata": {},
   "source": [
    "* CIFAR-10 Shape : (50000, 32, 32, 3) (50000, 1) (50000, 1, 10)\n",
    "\n",
    "=> 입력 tensor : 50000 * 32 * 32 * 3 <br>\n",
    "=> 출력 tensor : 60000 * 1 * 10 <br>"
   ]
  },
  {
   "cell_type": "markdown",
   "id": "d8933849-8954-4370-b9a0-778473f3dc99",
   "metadata": {},
   "source": [
    "### [5-3] 퍼셉트론 프로그래밍"
   ]
  },
  {
   "cell_type": "markdown",
   "id": "1cd139e4-2cd4-4203-81ad-2da3064ba871",
   "metadata": {},
   "source": [
    "#### [5-3-1] tensorflow"
   ]
  },
  {
   "cell_type": "markdown",
   "id": "f27f31e1-bb7a-4c67-9eb7-6eb3f1a20f82",
   "metadata": {},
   "source": [
    "* OR 데이터 학습"
   ]
  },
  {
   "cell_type": "code",
   "execution_count": 9,
   "id": "a10c16b8-128c-4a77-b8bb-54ad075ff578",
   "metadata": {},
   "outputs": [],
   "source": [
    "# OR 데이터 구축\n",
    "X = [[0.0, 0.0], [0.0, 1.0], [1.0, 0.0], [1.0, 1.0]]\n",
    "Y = [[-1], [1], [1], [1]]"
   ]
  },
  {
   "cell_type": "code",
   "execution_count": 10,
   "id": "a727aa7b-2e88-40d6-99f1-e9ec6949b3af",
   "metadata": {},
   "outputs": [
    {
     "name": "stdout",
     "output_type": "stream",
     "text": [
      "tf.Tensor(\n",
      "[[-1.]\n",
      " [ 1.]\n",
      " [ 1.]\n",
      " [ 1.]], shape=(4, 1), dtype=float32)\n"
     ]
    }
   ],
   "source": [
    "W = tf.Variable([[1.0], [1.0]])\n",
    "b = tf.Variable(-0.5)\n",
    "\n",
    "# tf.add => numpy의 sum\n",
    "# tf.matmul => numpt의 곱셈\n",
    "s = tf.add(tf.matmul(X, W), b)\n",
    "# tf.sign => step function 역할\n",
    "o = tf.sign(s)\n",
    "\n",
    "print(o)"
   ]
  },
  {
   "cell_type": "markdown",
   "id": "be64c38a-63bf-40af-94a2-f2aa31072018",
   "metadata": {},
   "source": [
    "* 퍼셉트론 학습\n",
    "\n",
    "입력 shape : 4 * 2 => 특징 벡터=2 <br>\n",
    "출력 shape : 4 * 1 =>"
   ]
  },
  {
   "cell_type": "code",
   "execution_count": 11,
   "id": "4136967d-d01e-4f21-8d9c-a92c0d1c7bb7",
   "metadata": {},
   "outputs": [],
   "source": [
    "# OR 데이터 구축\n",
    "X = [[0.0, 0.0], [0.0, 1.0], [1.0, 0.0], [1.0, 1.0]]\n",
    "Y = [[-1], [1], [1], [1]]"
   ]
  },
  {
   "cell_type": "code",
   "execution_count": 12,
   "id": "abbe84de-44c2-414c-a807-c4bec1ecd7cd",
   "metadata": {},
   "outputs": [
    {
     "name": "stdout",
     "output_type": "stream",
     "text": [
      "loss at epoch 0 =  0.8976301\n",
      "loss at epoch 100 =  0.09206282\n",
      "loss at epoch 200 =  0.042387567\n",
      "loss at epoch 300 =  0.026628094\n",
      "loss at epoch 400 =  0.019170627\n",
      "tf.Tensor(\n",
      "[[-0.81614536]\n",
      " [ 0.88634664]\n",
      " [ 0.88617665]\n",
      " [ 0.999264  ]], shape=(4, 1), dtype=float32)\n"
     ]
    }
   ],
   "source": [
    "# W (가중치) 초기화\n",
    "W = tf.Variable(tf.random.uniform([2, 1], -0.5, 0.5))\n",
    "b = tf.Variable(tf.zeros([1])) # zeros => 0으로 채우기\n",
    "\n",
    "# 옵티마이저 => 기본 SGD\n",
    "opt = tf.keras.optimizers.SGD(learning_rate=0.1)\n",
    "\n",
    "# 전방 계산식\n",
    "def forward():\n",
    "    s = tf.add(tf.matmul(X, W), b)\n",
    "    o = tf.tanh(s) # 원래는 계단 함수인데, 미분하기 위해 tanh 사용\n",
    "    return o\n",
    "\n",
    "# 손실 함수 => cost function 계산 => J(w) 계산\n",
    "def loss_function():\n",
    "    o = forward()\n",
    "    return tf.reduce_mean(tf.square(o-Y)) # 제곱 평균\n",
    "\n",
    "# 학습\n",
    "for epoch in range(500):\n",
    "    # 학습 시키는 부분 => loss가 최소화하도록 한다.\n",
    "    # 두번째 매개변수 var_list는 최적화 대상이다\n",
    "    opt.minimize(loss_function, var_list=[W, b]) \n",
    "    if epoch%100 == 0:\n",
    "        print(\"loss at epoch %d = \" %epoch, loss_function().numpy()) # 손실 함수 값 출력\n",
    "        \n",
    "\n",
    "# 예측\n",
    "o = forward()\n",
    "print(o)"
   ]
  },
  {
   "cell_type": "markdown",
   "id": "120e633b-8b4e-4b3b-bbff-98a7d8081428",
   "metadata": {},
   "source": [
    "o => 첫번째만 음수, 나머지는 양수로 옳게 인식한다!"
   ]
  },
  {
   "cell_type": "markdown",
   "id": "d99943a4-1efa-42d6-96bc-94483ee821f3",
   "metadata": {},
   "source": [
    "#### [5-3-2] Keras로 퍼셉트론 프로그래밍"
   ]
  },
  {
   "cell_type": "markdown",
   "id": "fe3ef62d-ac70-47de-9c22-184deee69dc7",
   "metadata": {},
   "source": [
    "* Dense layer\n",
    "\n",
    "- 완전 연결 되었다라는 뜻은 한 층의 모든 뉴런이 다음 층의 모든 뉴런과 연결된 상태를 말한다.\n",
    "- 1차원 배열의 형태로 평탄화된 행렬을 통해 이미지 분류하는데 사용되는 계층이다.\n",
    "\n",
    "(ex) flatten (2차원 -> 1차원) => relu => softmax"
   ]
  },
  {
   "cell_type": "code",
   "execution_count": 13,
   "id": "76fd75ac-2ff8-4a19-a764-e457ff7e726c",
   "metadata": {},
   "outputs": [],
   "source": [
    "from tensorflow.keras.models import Sequential\n",
    "from tensorflow.keras.layers import Dense\n",
    "from tensorflow.keras.optimizers import SGD"
   ]
  },
  {
   "cell_type": "code",
   "execution_count": 14,
   "id": "8e4ac051-381d-41e5-a547-fb5a02e46e1c",
   "metadata": {},
   "outputs": [],
   "source": [
    "# OR 데이터 구축\n",
    "X = [[0.0, 0.0], [0.0, 1.0], [1.0, 0.0], [1.0, 1.0]]\n",
    "Y = [[-1], [1], [1], [1]]"
   ]
  },
  {
   "cell_type": "code",
   "execution_count": 15,
   "id": "56a47a87-56de-4d1a-ba0a-de2139dd6acf",
   "metadata": {},
   "outputs": [],
   "source": [
    "perceptron = Sequential()\n",
    "perceptron.add(Dense(\n",
    "    input_shape=(2, ), \n",
    "    units=1, \n",
    "    activation='tanh', \n",
    "    kernel_initializer='random_uniform', \n",
    "    bias_initializer='zeros'\n",
    "))"
   ]
  },
  {
   "cell_type": "code",
   "execution_count": null,
   "id": "00c690d9-219c-4a72-a54d-3723fa1c2ec3",
   "metadata": {
    "tags": []
   },
   "outputs": [],
   "source": [
    "perceptron.compile(\n",
    "    loss='mse',\n",
    "    optimizer=SGD(learning_rate=0.1),\n",
    "    metrics=['mse']\n",
    ")\n",
    "\n",
    "perceptron.fit(X, Y, epochs=500, verbose=2)"
   ]
  },
  {
   "cell_type": "code",
   "execution_count": 17,
   "id": "49e491ee-3310-4bfc-956d-2fb3e79e6e52",
   "metadata": {},
   "outputs": [
    {
     "name": "stdout",
     "output_type": "stream",
     "text": [
      "[[-0.81625944]\n",
      " [ 0.88633275]\n",
      " [ 0.88632834]\n",
      " [ 0.9992654 ]]\n"
     ]
    }
   ],
   "source": [
    "res = perceptron.predict(X)\n",
    "print(res)"
   ]
  },
  {
   "cell_type": "markdown",
   "id": "ae0f5017-949c-4c5d-9fd4-ba9595fb4c98",
   "metadata": {},
   "source": [
    "### [5-4] 다층 퍼셉트론 프로그래밍"
   ]
  },
  {
   "cell_type": "markdown",
   "id": "797aa983-67c2-4f9d-bd03-8030f5ea0efd",
   "metadata": {},
   "source": [
    "#### [5-4-1] MNIST\n",
    "* keras를 이용해 구현"
   ]
  },
  {
   "cell_type": "code",
   "execution_count": 18,
   "id": "5dc77dac-609b-4ffc-8fe5-d7c636ac56b6",
   "metadata": {},
   "outputs": [],
   "source": [
    "from tensorflow.keras.datasets import mnist\n",
    "\n",
    "from tensorflow.keras.models import Sequential\n",
    "from tensorflow.keras.layers import Dense\n",
    "from tensorflow.keras.optimizers import Adam"
   ]
  },
  {
   "cell_type": "code",
   "execution_count": 19,
   "id": "9473ce70-cd51-44bc-9616-6ceca17dc35b",
   "metadata": {},
   "outputs": [
    {
     "name": "stdout",
     "output_type": "stream",
     "text": [
      "MNIST Shape :  (60000, 28, 28) (60000,)\n",
      "MNIST Shape :  (10000, 28, 28) (10000,)\n"
     ]
    }
   ],
   "source": [
    "# [1] MNIST\n",
    "(x_train, y_train), (x_test, y_test) = mnist.load_data()\n",
    "print(\"MNIST Shape : \", x_train.shape, y_train.shape)\n",
    "print(\"MNIST Shape : \", x_test.shape, y_test.shape)"
   ]
  },
  {
   "cell_type": "markdown",
   "id": "10b150a9-ac06-4b49-9711-0f835e23d77b",
   "metadata": {},
   "source": [
    "* 입력 : (60000, 28, 28)\n",
    "* hidden layer : hidden_nodes=1024\n",
    "* 출력 : class 0~9"
   ]
  },
  {
   "cell_type": "code",
   "execution_count": 20,
   "id": "ddb4353d-c25c-4bbe-b2d0-79dadd8442dd",
   "metadata": {},
   "outputs": [],
   "source": [
    "# [1] 입력 shape 1차원 벡터로 변경 => dense layer를 사용하기 때문\n",
    "x_train = x_train.reshape(60000, 784)\n",
    "x_test = x_test.reshape(10000, 784)\n",
    "# [1-2] ndarray로 변환\n",
    "x_train = x_train.astype(np.float32)/255.0\n",
    "x_test = x_test.astype(np.float32)/255.0\n",
    "\n",
    "# [2] 출력 shape => one-hot encoding\n",
    "y_train = tf.keras.utils.to_categorical(y_train, 10)\n",
    "y_test = tf.keras.utils.to_categorical(y_test, 10)"
   ]
  },
  {
   "cell_type": "code",
   "execution_count": 21,
   "id": "70940b79-cb69-4899-9fca-c0b41ed14288",
   "metadata": {},
   "outputs": [
    {
     "name": "stdout",
     "output_type": "stream",
     "text": [
      "Train on 60000 samples, validate on 10000 samples\n",
      "Epoch 1/15\n",
      "60000/60000 - 3s - loss: 0.0152 - accuracy: 0.8989 - val_loss: 0.0107 - val_accuracy: 0.9306\n",
      "Epoch 2/15\n",
      "60000/60000 - 2s - loss: 0.0097 - accuracy: 0.9379 - val_loss: 0.0082 - val_accuracy: 0.9466\n",
      "Epoch 3/15\n",
      "60000/60000 - 2s - loss: 0.0071 - accuracy: 0.9539 - val_loss: 0.0063 - val_accuracy: 0.9598\n",
      "Epoch 4/15\n",
      "60000/60000 - 2s - loss: 0.0054 - accuracy: 0.9659 - val_loss: 0.0057 - val_accuracy: 0.9637\n",
      "Epoch 5/15\n",
      "60000/60000 - 3s - loss: 0.0044 - accuracy: 0.9725 - val_loss: 0.0049 - val_accuracy: 0.9683\n",
      "Epoch 6/15\n",
      "60000/60000 - 3s - loss: 0.0038 - accuracy: 0.9766 - val_loss: 0.0045 - val_accuracy: 0.9700\n",
      "Epoch 7/15\n",
      "60000/60000 - 2s - loss: 0.0031 - accuracy: 0.9809 - val_loss: 0.0042 - val_accuracy: 0.9727\n",
      "Epoch 8/15\n",
      "60000/60000 - 2s - loss: 0.0026 - accuracy: 0.9843 - val_loss: 0.0039 - val_accuracy: 0.9745\n",
      "Epoch 9/15\n",
      "60000/60000 - 2s - loss: 0.0023 - accuracy: 0.9863 - val_loss: 0.0040 - val_accuracy: 0.9733\n",
      "Epoch 10/15\n",
      "60000/60000 - 3s - loss: 0.0020 - accuracy: 0.9884 - val_loss: 0.0036 - val_accuracy: 0.9765\n",
      "Epoch 11/15\n",
      "60000/60000 - 2s - loss: 0.0017 - accuracy: 0.9902 - val_loss: 0.0033 - val_accuracy: 0.9788\n",
      "Epoch 12/15\n",
      "60000/60000 - 2s - loss: 0.0014 - accuracy: 0.9916 - val_loss: 0.0036 - val_accuracy: 0.9765\n",
      "Epoch 13/15\n",
      "60000/60000 - 2s - loss: 0.0013 - accuracy: 0.9925 - val_loss: 0.0033 - val_accuracy: 0.9794\n",
      "Epoch 14/15\n",
      "60000/60000 - 2s - loss: 0.0011 - accuracy: 0.9936 - val_loss: 0.0031 - val_accuracy: 0.9804\n",
      "Epoch 15/15\n",
      "60000/60000 - 2s - loss: 9.3662e-04 - accuracy: 0.9949 - val_loss: 0.0033 - val_accuracy: 0.9792\n"
     ]
    }
   ],
   "source": [
    "input_dim=784 # flatten\n",
    "n_hidden = 1024\n",
    "output_dim=10\n",
    "\n",
    "mlp = Sequential()\n",
    "mlp.add(Dense(\n",
    "    input_shape = (input_dim, ),\n",
    "    units = 1024,\n",
    "    activation='tanh',\n",
    "    kernel_initializer='random_uniform', # weight 초기화\n",
    "    bias_initializer='zeros' # bias 초기화\n",
    "))\n",
    "mlp.add(Dense(\n",
    "    units=output_dim,\n",
    "    activation='softmax', # softmax\n",
    "    kernel_initializer='random_uniform', # weight 초기화\n",
    "    bias_initializer='zeros' # bias 초기화\n",
    "))\n",
    "\n",
    "mlp.compile(\n",
    "    optimizer = Adam(learning_rate=0.001),\n",
    "    loss = 'mean_squared_error',\n",
    "    metrics = ['accuracy']\n",
    ")\n",
    "\n",
    "history = mlp.fit(x_train, y_train, batch_size=128, epochs=15,\n",
    "                 validation_data=(x_test, y_test), verbose=2)"
   ]
  },
  {
   "cell_type": "code",
   "execution_count": 22,
   "id": "77d7ae6c-20fa-4a07-8937-2bcbd5ae969a",
   "metadata": {},
   "outputs": [
    {
     "name": "stdout",
     "output_type": "stream",
     "text": [
      "Accuracy :  97.9200005531311\n"
     ]
    }
   ],
   "source": [
    "res = mlp.evaluate(x_test, y_test, verbose=0)\n",
    "\n",
    "print(\"Accuracy : \", res[1]*100)"
   ]
  },
  {
   "cell_type": "code",
   "execution_count": 24,
   "id": "3d5705e3-ad30-40b6-9bdd-463c4bb6764d",
   "metadata": {},
   "outputs": [
    {
     "name": "stdout",
     "output_type": "stream",
     "text": [
      "ERROR! Session/line number was not unique in database. History logging moved to new session 219\n"
     ]
    },
    {
     "data": {
      "image/png": "[encoded data removed]",
      "text/plain": [
       "<Figure size 432x288 with 1 Axes>"
      ]
     },
     "metadata": {
      "needs_background": "light"
     },
     "output_type": "display_data"
    },
    {
     "data": {
      "image/png": "[encoded data removed]",
      "text/plain": [
       "<Figure size 432x288 with 1 Axes>"
      ]
     },
     "metadata": {
      "needs_background": "light"
     },
     "output_type": "display_data"
    }
   ],
   "source": [
    "# 정확도 곡선\n",
    "plt.plot(history.history['accuracy'])\n",
    "plt.plot(history.history['val_accuracy'])\n",
    "plt.title('model accuracy')\n",
    "plt.xlabel('epoch')\n",
    "plt.ylabel('accuracy')\n",
    "plt.legend(['train', 'validation'], loc='upper left')\n",
    "plt.grid()\n",
    "plt.show()\n",
    "\n",
    "# 손실 곡선\n",
    "plt.plot(history.history['loss'])\n",
    "plt.plot(history.history['val_loss'])\n",
    "plt.title('model loss')\n",
    "plt.xlabel('epoch')\n",
    "plt.ylabel('loss')\n",
    "plt.legend(['train', 'validation'], loc='upper left')\n",
    "plt.grid()\n",
    "plt.show()"
   ]
  },
  {
   "cell_type": "markdown",
   "id": "1599cd6a-955e-43f4-84af-317d1f7b9228",
   "metadata": {},
   "source": [
    "#### [5-4-2] Fashion MNIST\n",
    "* keras를 이용해 구현"
   ]
  },
  {
   "cell_type": "code",
   "execution_count": 25,
   "id": "7ccfe241-9377-4c96-9776-0e95c486b0c6",
   "metadata": {},
   "outputs": [],
   "source": [
    "from tensorflow.keras.datasets import fashion_mnist"
   ]
  },
  {
   "cell_type": "code",
   "execution_count": 26,
   "id": "ad3dc388-ef5e-4f88-9724-3f59eac8a32e",
   "metadata": {},
   "outputs": [
    {
     "name": "stdout",
     "output_type": "stream",
     "text": [
      "Downloading data from https://storage.googleapis.com/tensorflow/tf-keras-datasets/train-labels-idx1-ubyte.gz\n",
      "32768/29515 [=================================] - 0s 1us/step\n",
      "Downloading data from https://storage.googleapis.com/tensorflow/tf-keras-datasets/train-images-idx3-ubyte.gz\n",
      "26427392/26421880 [==============================] - ETA:  - 13s 0us/step\n",
      "Downloading data from https://storage.googleapis.com/tensorflow/tf-keras-datasets/t10k-labels-idx1-ubyte.gz\n",
      "8192/5148 [===============================================] - 0s 0us/step\n",
      "Downloading data from https://storage.googleapis.com/tensorflow/tf-keras-datasets/t10k-images-idx3-ubyte.gz\n",
      "4423680/4422102 [==============================] - 2s 1us/step\n",
      "(60000, 28, 28)\n",
      "(60000,)\n",
      "(10000, 28, 28)\n",
      "(10000,)\n"
     ]
    }
   ],
   "source": [
    "(x_train, y_train), (x_test, y_test) = fashion_mnist.load_data()\n",
    "\n",
    "print(x_train.shape)\n",
    "print(y_train.shape)\n",
    "print(x_test.shape)\n",
    "print(y_test.shape)"
   ]
  },
  {
   "cell_type": "code",
   "execution_count": 27,
   "id": "b136af96-b3d7-4c66-b92f-7b4a988499c9",
   "metadata": {},
   "outputs": [
    {
     "data": {
      "text/plain": [
       "9"
      ]
     },
     "execution_count": 27,
     "metadata": {},
     "output_type": "execute_result"
    }
   ],
   "source": [
    "y_train[0]"
   ]
  },
  {
   "cell_type": "code",
   "execution_count": 28,
   "id": "1954262b-68d5-4cbc-80f8-33ca5bf022bb",
   "metadata": {
    "collapsed": true,
    "jupyter": {
     "outputs_hidden": true
    },
    "tags": []
   },
   "outputs": [
    {
     "data": {
      "text/plain": [
       "array([[  0,   0,   0,   0,   0,   0,   0,   0,   0,   0,   0,   0,   0,\n",
       "          0,   0,   0,   0,   0,   0,   0,   0,   0,   0,   0,   0,   0,\n",
       "          0,   0],\n",
       "       [  0,   0,   0,   0,   0,   0,   0,   0,   0,   0,   0,   0,   0,\n",
       "          0,   0,   0,   0,   0,   0,   0,   0,   0,   0,   0,   0,   0,\n",
       "          0,   0],\n",
       "       [  0,   0,   0,   0,   0,   0,   0,   0,   0,   0,   0,   0,   0,\n",
       "          0,   0,   0,   0,   0,   0,   0,   0,   0,   0,   0,   0,   0,\n",
       "          0,   0],\n",
       "       [  0,   0,   0,   0,   0,   0,   0,   0,   0,   0,   0,   0,   1,\n",
       "          0,   0,  13,  73,   0,   0,   1,   4,   0,   0,   0,   0,   1,\n",
       "          1,   0],\n",
       "       [  0,   0,   0,   0,   0,   0,   0,   0,   0,   0,   0,   0,   3,\n",
       "          0,  36, 136, 127,  62,  54,   0,   0,   0,   1,   3,   4,   0,\n",
       "          0,   3],\n",
       "       [  0,   0,   0,   0,   0,   0,   0,   0,   0,   0,   0,   0,   6,\n",
       "          0, 102, 204, 176, 134, 144, 123,  23,   0,   0,   0,   0,  12,\n",
       "         10,   0],\n",
       "       [  0,   0,   0,   0,   0,   0,   0,   0,   0,   0,   0,   0,   0,\n",
       "          0, 155, 236, 207, 178, 107, 156, 161, 109,  64,  23,  77, 130,\n",
       "         72,  15],\n",
       "       [  0,   0,   0,   0,   0,   0,   0,   0,   0,   0,   0,   1,   0,\n",
       "         69, 207, 223, 218, 216, 216, 163, 127, 121, 122, 146, 141,  88,\n",
       "        172,  66],\n",
       "       [  0,   0,   0,   0,   0,   0,   0,   0,   0,   1,   1,   1,   0,\n",
       "        200, 232, 232, 233, 229, 223, 223, 215, 213, 164, 127, 123, 196,\n",
       "        229,   0],\n",
       "       [  0,   0,   0,   0,   0,   0,   0,   0,   0,   0,   0,   0,   0,\n",
       "        183, 225, 216, 223, 228, 235, 227, 224, 222, 224, 221, 223, 245,\n",
       "        173,   0],\n",
       "       [  0,   0,   0,   0,   0,   0,   0,   0,   0,   0,   0,   0,   0,\n",
       "        193, 228, 218, 213, 198, 180, 212, 210, 211, 213, 223, 220, 243,\n",
       "        202,   0],\n",
       "       [  0,   0,   0,   0,   0,   0,   0,   0,   0,   1,   3,   0,  12,\n",
       "        219, 220, 212, 218, 192, 169, 227, 208, 218, 224, 212, 226, 197,\n",
       "        209,  52],\n",
       "       [  0,   0,   0,   0,   0,   0,   0,   0,   0,   0,   6,   0,  99,\n",
       "        244, 222, 220, 218, 203, 198, 221, 215, 213, 222, 220, 245, 119,\n",
       "        167,  56],\n",
       "       [  0,   0,   0,   0,   0,   0,   0,   0,   0,   4,   0,   0,  55,\n",
       "        236, 228, 230, 228, 240, 232, 213, 218, 223, 234, 217, 217, 209,\n",
       "         92,   0],\n",
       "       [  0,   0,   1,   4,   6,   7,   2,   0,   0,   0,   0,   0, 237,\n",
       "        226, 217, 223, 222, 219, 222, 221, 216, 223, 229, 215, 218, 255,\n",
       "         77,   0],\n",
       "       [  0,   3,   0,   0,   0,   0,   0,   0,   0,  62, 145, 204, 228,\n",
       "        207, 213, 221, 218, 208, 211, 218, 224, 223, 219, 215, 224, 244,\n",
       "        159,   0],\n",
       "       [  0,   0,   0,   0,  18,  44,  82, 107, 189, 228, 220, 222, 217,\n",
       "        226, 200, 205, 211, 230, 224, 234, 176, 188, 250, 248, 233, 238,\n",
       "        215,   0],\n",
       "       [  0,  57, 187, 208, 224, 221, 224, 208, 204, 214, 208, 209, 200,\n",
       "        159, 245, 193, 206, 223, 255, 255, 221, 234, 221, 211, 220, 232,\n",
       "        246,   0],\n",
       "       [  3, 202, 228, 224, 221, 211, 211, 214, 205, 205, 205, 220, 240,\n",
       "         80, 150, 255, 229, 221, 188, 154, 191, 210, 204, 209, 222, 228,\n",
       "        225,   0],\n",
       "       [ 98, 233, 198, 210, 222, 229, 229, 234, 249, 220, 194, 215, 217,\n",
       "        241,  65,  73, 106, 117, 168, 219, 221, 215, 217, 223, 223, 224,\n",
       "        229,  29],\n",
       "       [ 75, 204, 212, 204, 193, 205, 211, 225, 216, 185, 197, 206, 198,\n",
       "        213, 240, 195, 227, 245, 239, 223, 218, 212, 209, 222, 220, 221,\n",
       "        230,  67],\n",
       "       [ 48, 203, 183, 194, 213, 197, 185, 190, 194, 192, 202, 214, 219,\n",
       "        221, 220, 236, 225, 216, 199, 206, 186, 181, 177, 172, 181, 205,\n",
       "        206, 115],\n",
       "       [  0, 122, 219, 193, 179, 171, 183, 196, 204, 210, 213, 207, 211,\n",
       "        210, 200, 196, 194, 191, 195, 191, 198, 192, 176, 156, 167, 177,\n",
       "        210,  92],\n",
       "       [  0,   0,  74, 189, 212, 191, 175, 172, 175, 181, 185, 188, 189,\n",
       "        188, 193, 198, 204, 209, 210, 210, 211, 188, 188, 194, 192, 216,\n",
       "        170,   0],\n",
       "       [  2,   0,   0,   0,  66, 200, 222, 237, 239, 242, 246, 243, 244,\n",
       "        221, 220, 193, 191, 179, 182, 182, 181, 176, 166, 168,  99,  58,\n",
       "          0,   0],\n",
       "       [  0,   0,   0,   0,   0,   0,   0,  40,  61,  44,  72,  41,  35,\n",
       "          0,   0,   0,   0,   0,   0,   0,   0,   0,   0,   0,   0,   0,\n",
       "          0,   0],\n",
       "       [  0,   0,   0,   0,   0,   0,   0,   0,   0,   0,   0,   0,   0,\n",
       "          0,   0,   0,   0,   0,   0,   0,   0,   0,   0,   0,   0,   0,\n",
       "          0,   0],\n",
       "       [  0,   0,   0,   0,   0,   0,   0,   0,   0,   0,   0,   0,   0,\n",
       "          0,   0,   0,   0,   0,   0,   0,   0,   0,   0,   0,   0,   0,\n",
       "          0,   0]], dtype=uint8)"
      ]
     },
     "execution_count": 28,
     "metadata": {},
     "output_type": "execute_result"
    }
   ],
   "source": [
    "x_train[0]"
   ]
  },
  {
   "cell_type": "code",
   "execution_count": 29,
   "id": "532343a5-2b35-49c7-9302-21506deecc9a",
   "metadata": {},
   "outputs": [],
   "source": [
    "# [1] input shape => flatten\n",
    "x_train = x_train.reshape(60000, 784)\n",
    "x_test = x_test.reshape(10000, 784)\n",
    "\n",
    "# [1-2] ndarray로 변환\n",
    "x_train = x_train.astype(np.float32)/255.0\n",
    "x_test = x_test.astype(np.float32)/255.0\n",
    "\n",
    "# [2] output one hot encoding\n",
    "y_train = tf.keras.utils.to_categorical(y_train, 10)\n",
    "y_test = tf.keras.utils.to_categorical(y_test, 10)"
   ]
  },
  {
   "cell_type": "code",
   "execution_count": 30,
   "id": "e6ffc5fd-317c-4480-82c2-f5c76b7a9d4f",
   "metadata": {},
   "outputs": [
    {
     "name": "stdout",
     "output_type": "stream",
     "text": [
      "Train on 60000 samples, validate on 10000 samples\n",
      "Epoch 1/25\n",
      "60000/60000 - 3s - loss: 0.0282 - accuracy: 0.8005 - val_loss: 0.0245 - val_accuracy: 0.8318\n",
      "Epoch 2/25\n",
      "60000/60000 - 2s - loss: 0.0212 - accuracy: 0.8527 - val_loss: 0.0246 - val_accuracy: 0.8328\n",
      "Epoch 3/25\n",
      "60000/60000 - 2s - loss: 0.0198 - accuracy: 0.8636 - val_loss: 0.0229 - val_accuracy: 0.8445\n",
      "Epoch 4/25\n",
      "60000/60000 - 2s - loss: 0.0184 - accuracy: 0.8749 - val_loss: 0.0206 - val_accuracy: 0.8559\n",
      "Epoch 5/25\n",
      "60000/60000 - 2s - loss: 0.0175 - accuracy: 0.8801 - val_loss: 0.0196 - val_accuracy: 0.8652\n",
      "Epoch 6/25\n",
      "60000/60000 - 2s - loss: 0.0167 - accuracy: 0.8870 - val_loss: 0.0193 - val_accuracy: 0.8677\n",
      "Epoch 7/25\n",
      "60000/60000 - 2s - loss: 0.0163 - accuracy: 0.8888 - val_loss: 0.0180 - val_accuracy: 0.8768\n",
      "Epoch 8/25\n",
      "60000/60000 - 2s - loss: 0.0155 - accuracy: 0.8950 - val_loss: 0.0184 - val_accuracy: 0.8767\n",
      "Epoch 9/25\n",
      "60000/60000 - 2s - loss: 0.0151 - accuracy: 0.8979 - val_loss: 0.0181 - val_accuracy: 0.8742\n",
      "Epoch 10/25\n",
      "60000/60000 - 2s - loss: 0.0144 - accuracy: 0.9029 - val_loss: 0.0176 - val_accuracy: 0.8801\n",
      "Epoch 11/25\n",
      "60000/60000 - 2s - loss: 0.0143 - accuracy: 0.9044 - val_loss: 0.0171 - val_accuracy: 0.8857\n",
      "Epoch 12/25\n",
      "60000/60000 - 2s - loss: 0.0140 - accuracy: 0.9057 - val_loss: 0.0179 - val_accuracy: 0.8796\n",
      "Epoch 13/25\n",
      "60000/60000 - 2s - loss: 0.0132 - accuracy: 0.9118 - val_loss: 0.0168 - val_accuracy: 0.8847\n",
      "Epoch 14/25\n",
      "60000/60000 - 2s - loss: 0.0131 - accuracy: 0.9124 - val_loss: 0.0172 - val_accuracy: 0.8848\n",
      "Epoch 15/25\n",
      "60000/60000 - 2s - loss: 0.0126 - accuracy: 0.9165 - val_loss: 0.0167 - val_accuracy: 0.8870\n",
      "Epoch 16/25\n",
      "60000/60000 - 2s - loss: 0.0123 - accuracy: 0.9195 - val_loss: 0.0181 - val_accuracy: 0.8770\n",
      "Epoch 17/25\n",
      "60000/60000 - 2s - loss: 0.0120 - accuracy: 0.9209 - val_loss: 0.0173 - val_accuracy: 0.8822\n",
      "Epoch 18/25\n",
      "60000/60000 - 2s - loss: 0.0119 - accuracy: 0.9217 - val_loss: 0.0181 - val_accuracy: 0.8777\n",
      "Epoch 19/25\n",
      "60000/60000 - 2s - loss: 0.0115 - accuracy: 0.9244 - val_loss: 0.0179 - val_accuracy: 0.8810\n",
      "Epoch 20/25\n",
      "60000/60000 - 2s - loss: 0.0112 - accuracy: 0.9262 - val_loss: 0.0173 - val_accuracy: 0.8824\n",
      "Epoch 21/25\n",
      "60000/60000 - 3s - loss: 0.0109 - accuracy: 0.9286 - val_loss: 0.0162 - val_accuracy: 0.8904\n",
      "Epoch 22/25\n",
      "60000/60000 - 3s - loss: 0.0107 - accuracy: 0.9303 - val_loss: 0.0176 - val_accuracy: 0.8805\n",
      "Epoch 23/25\n",
      "60000/60000 - 3s - loss: 0.0104 - accuracy: 0.9330 - val_loss: 0.0165 - val_accuracy: 0.8924\n",
      "Epoch 24/25\n",
      "60000/60000 - 3s - loss: 0.0102 - accuracy: 0.9331 - val_loss: 0.0166 - val_accuracy: 0.8902\n",
      "Epoch 25/25\n",
      "60000/60000 - 3s - loss: 0.0098 - accuracy: 0.9370 - val_loss: 0.0175 - val_accuracy: 0.8841\n"
     ]
    }
   ],
   "source": [
    "input_dim=784 # flatten\n",
    "n_hidden = 1024\n",
    "output_dim=10\n",
    "\n",
    "mlp = Sequential()\n",
    "mlp.add(Dense(\n",
    "    input_shape = (input_dim, ),\n",
    "    units = 1024,\n",
    "    activation='tanh',\n",
    "    kernel_initializer='random_uniform', # weight 초기화\n",
    "    bias_initializer='zeros' # bias 초기화\n",
    "))\n",
    "mlp.add(Dense(\n",
    "    units=output_dim,\n",
    "    activation='softmax', # softmax\n",
    "    kernel_initializer='random_uniform', # weight 초기화\n",
    "    bias_initializer='zeros' # bias 초기화\n",
    "))\n",
    "\n",
    "mlp.compile(\n",
    "    optimizer = Adam(learning_rate=0.001),\n",
    "    loss = 'mean_squared_error',\n",
    "    metrics = ['accuracy']\n",
    ")\n",
    "\n",
    "history = mlp.fit(x_train, y_train, batch_size=128, epochs=25,\n",
    "                 validation_data=(x_test, y_test), verbose=2)"
   ]
  },
  {
   "cell_type": "code",
   "execution_count": 32,
   "id": "d319f10a-c4df-4115-a28c-1db572ea1cd6",
   "metadata": {},
   "outputs": [
    {
     "name": "stdout",
     "output_type": "stream",
     "text": [
      "Accuracy :  88.41000199317932\n"
     ]
    }
   ],
   "source": [
    "res = mlp.evaluate(x_test, y_test, verbose=0)\n",
    "\n",
    "print(\"Accuracy : \", res[1]*100)"
   ]
  },
  {
   "cell_type": "code",
   "execution_count": 31,
   "id": "a759274d-7fbd-4a3a-8358-4728e6ed117c",
   "metadata": {},
   "outputs": [
    {
     "data": {
      "image/png": "[encoded data removed]",
      "text/plain": [
       "<Figure size 432x288 with 1 Axes>"
      ]
     },
     "metadata": {
      "needs_background": "light"
     },
     "output_type": "display_data"
    },
    {
     "data": {
      "image/png": "[encoded data removed]",
      "text/plain": [
       "<Figure size 432x288 with 1 Axes>"
      ]
     },
     "metadata": {
      "needs_background": "light"
     },
     "output_type": "display_data"
    }
   ],
   "source": [
    "# 정확도 곡선\n",
    "plt.plot(history.history['accuracy'])\n",
    "plt.plot(history.history['val_accuracy'])\n",
    "plt.title('model accuracy')\n",
    "plt.xlabel('epoch')\n",
    "plt.ylabel('accuracy')\n",
    "plt.legend(['train', 'validation'], loc='upper left')\n",
    "plt.grid()\n",
    "plt.show()\n",
    "\n",
    "# 손실 곡선\n",
    "plt.plot(history.history['loss'])\n",
    "plt.plot(history.history['val_loss'])\n",
    "plt.title('model loss')\n",
    "plt.xlabel('epoch')\n",
    "plt.ylabel('loss')\n",
    "plt.legend(['train', 'validation'], loc='upper left')\n",
    "plt.grid()\n",
    "plt.show()"
   ]
  },
  {
   "cell_type": "markdown",
   "id": "25368425-e9c7-4830-a40e-9db664c6b547",
   "metadata": {},
   "source": [
    "### [5-5] 깊은 다층 퍼셉트론 프로그래밍"
   ]
  },
  {
   "cell_type": "markdown",
   "id": "1d2c4019-1f67-4ed1-b419-946348da2ce0",
   "metadata": {},
   "source": [
    "* 은닉층 4개\n",
    "* 데이터 = MNIST"
   ]
  },
  {
   "cell_type": "markdown",
   "id": "f07f8f56-6f3b-4648-949b-6f8db7f4aed3",
   "metadata": {},
   "source": [
    "* 가중치 초기화는 사실 생략해도 default로 glorot_uniform을 사용하게 된다"
   ]
  },
  {
   "cell_type": "code",
   "execution_count": 3,
   "id": "5d47209b-a892-44b6-920d-b5614eefe37f",
   "metadata": {},
   "outputs": [
    {
     "name": "stdout",
     "output_type": "stream",
     "text": [
      "ERROR! Session/line number was not unique in database. History logging moved to new session 224\n"
     ]
    }
   ],
   "source": [
    "from tensorflow.keras.datasets import mnist\n",
    "\n",
    "from tensorflow.keras.models import Sequential\n",
    "from tensorflow.keras.layers import Dense\n",
    "from tensorflow.keras.optimizers import Adam\n",
    "\n",
    "import numpy as np"
   ]
  },
  {
   "cell_type": "code",
   "execution_count": 5,
   "id": "d7c421b6-a849-4be1-a206-a0a372aabd51",
   "metadata": {},
   "outputs": [],
   "source": [
    "(x_train, y_train), (x_test, y_test) = mnist.load_data()\n",
    "\n",
    "# [1] 입력 shape 1차원 벡터로 변경 => dense layer를 사용하기 때문\n",
    "x_train = x_train.reshape(60000, 784)\n",
    "x_test = x_test.reshape(10000, 784)\n",
    "# [1-2] ndarray로 변환\n",
    "x_train = x_train.astype(np.float32)/255.0\n",
    "x_test = x_test.astype(np.float32)/255.0\n",
    "\n",
    "# [2] 출력 shape => one-hot encoding\n",
    "y_train = tf.keras.utils.to_categorical(y_train, 10)\n",
    "y_test = tf.keras.utils.to_categorical(y_test, 10)"
   ]
  },
  {
   "cell_type": "code",
   "execution_count": 7,
   "id": "59a78ebb-49e3-4ae3-a676-a56263bbad7a",
   "metadata": {},
   "outputs": [
    {
     "name": "stdout",
     "output_type": "stream",
     "text": [
      "ERROR! Session/line number was not unique in database. History logging moved to new session 226\n",
      "Train on 48000 samples, validate on 12000 samples\n",
      "Epoch 1/30\n",
      "48000/48000 - 6s - loss: 0.0160 - accuracy: 0.8928 - val_loss: 0.0110 - val_accuracy: 0.9292\n",
      "Epoch 2/30\n",
      "48000/48000 - 5s - loss: 0.0093 - accuracy: 0.9400 - val_loss: 0.0075 - val_accuracy: 0.9513\n",
      "Epoch 3/30\n",
      "48000/48000 - 5s - loss: 0.0070 - accuracy: 0.9556 - val_loss: 0.0063 - val_accuracy: 0.9606\n",
      "Epoch 4/30\n",
      "48000/48000 - 5s - loss: 0.0060 - accuracy: 0.9610 - val_loss: 0.0059 - val_accuracy: 0.9623\n",
      "Epoch 5/30\n",
      "48000/48000 - 5s - loss: 0.0050 - accuracy: 0.9680 - val_loss: 0.0058 - val_accuracy: 0.9629\n",
      "Epoch 6/30\n",
      "48000/48000 - 5s - loss: 0.0046 - accuracy: 0.9705 - val_loss: 0.0063 - val_accuracy: 0.9605\n",
      "Epoch 7/30\n",
      "48000/48000 - 5s - loss: 0.0041 - accuracy: 0.9736 - val_loss: 0.0052 - val_accuracy: 0.9678\n",
      "Epoch 8/30\n",
      "48000/48000 - 5s - loss: 0.0036 - accuracy: 0.9772 - val_loss: 0.0052 - val_accuracy: 0.9667\n",
      "Epoch 9/30\n",
      "48000/48000 - 5s - loss: 0.0034 - accuracy: 0.9786 - val_loss: 0.0053 - val_accuracy: 0.9660\n",
      "Epoch 10/30\n",
      "48000/48000 - 5s - loss: 0.0031 - accuracy: 0.9806 - val_loss: 0.0052 - val_accuracy: 0.9677\n",
      "Epoch 11/30\n",
      "48000/48000 - 5s - loss: 0.0031 - accuracy: 0.9801 - val_loss: 0.0048 - val_accuracy: 0.9697\n",
      "Epoch 12/30\n",
      "48000/48000 - 5s - loss: 0.0028 - accuracy: 0.9825 - val_loss: 0.0054 - val_accuracy: 0.9671\n",
      "Epoch 13/30\n",
      "48000/48000 - 5s - loss: 0.0026 - accuracy: 0.9834 - val_loss: 0.0054 - val_accuracy: 0.9678\n",
      "Epoch 14/30\n",
      "48000/48000 - 5s - loss: 0.0024 - accuracy: 0.9849 - val_loss: 0.0051 - val_accuracy: 0.9682\n",
      "Epoch 15/30\n",
      "48000/48000 - 6s - loss: 0.0023 - accuracy: 0.9855 - val_loss: 0.0052 - val_accuracy: 0.9672\n",
      "Epoch 16/30\n",
      "48000/48000 - 6s - loss: 0.0023 - accuracy: 0.9858 - val_loss: 0.0052 - val_accuracy: 0.9682\n",
      "Epoch 17/30\n",
      "48000/48000 - 5s - loss: 0.0020 - accuracy: 0.9876 - val_loss: 0.0048 - val_accuracy: 0.9703\n",
      "Epoch 18/30\n",
      "48000/48000 - 5s - loss: 0.0021 - accuracy: 0.9867 - val_loss: 0.0048 - val_accuracy: 0.9702\n",
      "Epoch 19/30\n",
      "48000/48000 - 5s - loss: 0.0020 - accuracy: 0.9878 - val_loss: 0.0043 - val_accuracy: 0.9737\n",
      "Epoch 20/30\n",
      "48000/48000 - 5s - loss: 0.0018 - accuracy: 0.9887 - val_loss: 0.0046 - val_accuracy: 0.9722\n",
      "Epoch 21/30\n",
      "48000/48000 - 5s - loss: 0.0020 - accuracy: 0.9875 - val_loss: 0.0059 - val_accuracy: 0.9649\n",
      "Epoch 22/30\n",
      "48000/48000 - 6s - loss: 0.0018 - accuracy: 0.9884 - val_loss: 0.0044 - val_accuracy: 0.9740\n",
      "Epoch 23/30\n",
      "48000/48000 - 6s - loss: 0.0016 - accuracy: 0.9902 - val_loss: 0.0050 - val_accuracy: 0.9697\n",
      "Epoch 24/30\n",
      "48000/48000 - 6s - loss: 0.0017 - accuracy: 0.9895 - val_loss: 0.0048 - val_accuracy: 0.9702\n",
      "Epoch 25/30\n",
      "48000/48000 - 6s - loss: 0.0017 - accuracy: 0.9897 - val_loss: 0.0045 - val_accuracy: 0.9728\n",
      "Epoch 26/30\n",
      "48000/48000 - 6s - loss: 0.0014 - accuracy: 0.9915 - val_loss: 0.0047 - val_accuracy: 0.9710\n",
      "Epoch 27/30\n",
      "48000/48000 - 5s - loss: 0.0014 - accuracy: 0.9910 - val_loss: 0.0050 - val_accuracy: 0.9712\n",
      "Epoch 28/30\n",
      "48000/48000 - 6s - loss: 0.0015 - accuracy: 0.9910 - val_loss: 0.0047 - val_accuracy: 0.9722\n",
      "Epoch 29/30\n",
      "48000/48000 - 5s - loss: 0.0015 - accuracy: 0.9913 - val_loss: 0.0047 - val_accuracy: 0.9720\n",
      "Epoch 30/30\n",
      "48000/48000 - 6s - loss: 0.0013 - accuracy: 0.9923 - val_loss: 0.0047 - val_accuracy: 0.9714\n"
     ]
    }
   ],
   "source": [
    "## 위의 예시보다 더 깊어짐\n",
    "\n",
    "input_dim = 784\n",
    "output_dim = 10\n",
    "hidden_1 = 1024\n",
    "hidden_2 = 512\n",
    "hidden_3 = 512\n",
    "hidden_4 = 512\n",
    "\n",
    "deep_mlp = Sequential()\n",
    "deep_mlp.add(Dense(\n",
    "    input_shape = (input_dim, ),\n",
    "    units = hidden_1,\n",
    "    activation = \"tanh\",\n",
    "    kernel_initializer='random_uniform', # weight 초기화\n",
    "    bias_initializer='zeros' # bias 초기화\n",
    "))\n",
    "deep_mlp.add(Dense(\n",
    "    units = hidden_2,\n",
    "    activation = \"tanh\",\n",
    "    kernel_initializer='random_uniform', # weight 초기화\n",
    "    bias_initializer='zeros' # bias 초기화\n",
    "))\n",
    "deep_mlp.add(Dense(\n",
    "    units = hidden_3,\n",
    "    activation = \"tanh\",\n",
    "    kernel_initializer='random_uniform', # weight 초기화\n",
    "    bias_initializer='zeros' # bias 초기화\n",
    "))\n",
    "deep_mlp.add(Dense(\n",
    "    units = hidden_4,\n",
    "    activation = \"tanh\",\n",
    "    kernel_initializer='random_uniform', # weight 초기화\n",
    "    bias_initializer='zeros' # bias 초기화\n",
    "))\n",
    "deep_mlp.add(Dense(\n",
    "    units = output_dim,\n",
    "    activation = \"softmax\",\n",
    "    kernel_initializer='random_uniform', # weight 초기화\n",
    "    bias_initializer='zeros' # bias 초기화\n",
    "))\n",
    "\n",
    "deep_mlp.compile(\n",
    "    optimizer=Adam(learning_rate=0.001),\n",
    "    loss='mse',\n",
    "    metrics=['accuracy']\n",
    ")\n",
    "\n",
    "history = deep_mlp.fit(x_train, y_train, batch_size=128, epochs=30, validation_split=0.2, verbose=2)"
   ]
  },
  {
   "cell_type": "code",
   "execution_count": 8,
   "id": "2fd84e70-f51c-471b-b7f6-260d1b42ac7d",
   "metadata": {},
   "outputs": [
    {
     "name": "stdout",
     "output_type": "stream",
     "text": [
      "정확도 :  97.53000140190125\n"
     ]
    },
    {
     "data": {
      "image/png": "[encoded data removed]",
      "text/plain": [
       "<Figure size 432x288 with 1 Axes>"
      ]
     },
     "metadata": {
      "needs_background": "light"
     },
     "output_type": "display_data"
    },
    {
     "data": {
      "image/png": "[encoded data removed]",
      "text/plain": [
       "<Figure size 432x288 with 1 Axes>"
      ]
     },
     "metadata": {
      "needs_background": "light"
     },
     "output_type": "display_data"
    }
   ],
   "source": [
    "res = deep_mlp.evaluate(x_test, y_test, verbose=0)\n",
    "print(\"정확도 : \", res[1]*100)\n",
    "\n",
    "# 정확도 곡선\n",
    "plt.plot(history.history['accuracy'])\n",
    "plt.plot(history.history['val_accuracy'])\n",
    "plt.title('model accuracy')\n",
    "plt.xlabel('epoch')\n",
    "plt.ylabel('accuracy')\n",
    "plt.legend(['train', 'validation'], loc='upper left')\n",
    "plt.grid()\n",
    "plt.show()\n",
    "\n",
    "# 손실 곡선\n",
    "plt.plot(history.history['loss'])\n",
    "plt.plot(history.history['val_loss'])\n",
    "plt.title('model loss')\n",
    "plt.xlabel('epoch')\n",
    "plt.ylabel('loss')\n",
    "plt.legend(['train', 'validation'], loc='upper left')\n",
    "plt.grid()\n",
    "plt.show()"
   ]
  },
  {
   "cell_type": "markdown",
   "id": "59ef247f-cef1-41c4-8592-56c7a0abb7f6",
   "metadata": {},
   "source": [
    "### [5-6] 손실 함수 성능 비교"
   ]
  },
  {
   "cell_type": "markdown",
   "id": "4b282266-2a78-4a91-8d98-275edbd66e91",
   "metadata": {},
   "source": [
    "* 데이터는 위의 MNIST 그대로 사용\n",
    "* MSE와 Categorical_crossentropy 성능 비교"
   ]
  },
  {
   "cell_type": "code",
   "execution_count": null,
   "id": "39feaf8e-5147-4c0b-8170-0b04663e9ab8",
   "metadata": {},
   "outputs": [],
   "source": [
    "## 위의 예시보다 더 깊어짐\n",
    "\n",
    "input_dim = 784\n",
    "output_dim = 10\n",
    "hidden_1 = 1024\n",
    "hidden_2 = 512\n",
    "hidden_3 = 512\n",
    "hidden_4 = 512"
   ]
  },
  {
   "cell_type": "code",
   "execution_count": 9,
   "id": "f0fd3a48-9cb4-4c58-9654-388c64caf8f8",
   "metadata": {},
   "outputs": [
    {
     "name": "stdout",
     "output_type": "stream",
     "text": [
      "ERROR! Session/line number was not unique in database. History logging moved to new session 227\n",
      "Train on 48000 samples, validate on 12000 samples\n",
      "Epoch 1/20\n",
      "48000/48000 - 5s - loss: 0.0158 - accuracy: 0.8942 - val_loss: 0.0108 - val_accuracy: 0.9293\n",
      "Epoch 2/20\n",
      "48000/48000 - 5s - loss: 0.0091 - accuracy: 0.9413 - val_loss: 0.0088 - val_accuracy: 0.9438\n",
      "Epoch 3/20\n",
      "48000/48000 - 5s - loss: 0.0071 - accuracy: 0.9537 - val_loss: 0.0066 - val_accuracy: 0.9576\n",
      "Epoch 4/20\n",
      "48000/48000 - 5s - loss: 0.0061 - accuracy: 0.9614 - val_loss: 0.0065 - val_accuracy: 0.9587\n",
      "Epoch 5/20\n",
      "48000/48000 - 5s - loss: 0.0050 - accuracy: 0.9678 - val_loss: 0.0061 - val_accuracy: 0.9610\n",
      "Epoch 6/20\n",
      "48000/48000 - 5s - loss: 0.0046 - accuracy: 0.9704 - val_loss: 0.0059 - val_accuracy: 0.9638\n",
      "Epoch 7/20\n",
      "48000/48000 - 5s - loss: 0.0041 - accuracy: 0.9741 - val_loss: 0.0059 - val_accuracy: 0.9624\n",
      "Epoch 8/20\n",
      "48000/48000 - 5s - loss: 0.0037 - accuracy: 0.9766 - val_loss: 0.0054 - val_accuracy: 0.9651\n",
      "Epoch 9/20\n",
      "48000/48000 - 5s - loss: 0.0033 - accuracy: 0.9795 - val_loss: 0.0052 - val_accuracy: 0.9669\n",
      "Epoch 10/20\n",
      "48000/48000 - 5s - loss: 0.0032 - accuracy: 0.9794 - val_loss: 0.0055 - val_accuracy: 0.9656\n",
      "Epoch 11/20\n",
      "48000/48000 - 5s - loss: 0.0030 - accuracy: 0.9812 - val_loss: 0.0050 - val_accuracy: 0.9685\n",
      "Epoch 12/20\n",
      "48000/48000 - 5s - loss: 0.0029 - accuracy: 0.9821 - val_loss: 0.0050 - val_accuracy: 0.9683\n",
      "Epoch 13/20\n",
      "48000/48000 - 5s - loss: 0.0027 - accuracy: 0.9827 - val_loss: 0.0053 - val_accuracy: 0.9672\n",
      "Epoch 14/20\n",
      "48000/48000 - 5s - loss: 0.0024 - accuracy: 0.9850 - val_loss: 0.0050 - val_accuracy: 0.9697\n",
      "Epoch 15/20\n",
      "48000/48000 - 5s - loss: 0.0022 - accuracy: 0.9859 - val_loss: 0.0049 - val_accuracy: 0.9703\n",
      "Epoch 16/20\n",
      "48000/48000 - 5s - loss: 0.0023 - accuracy: 0.9859 - val_loss: 0.0050 - val_accuracy: 0.9690\n",
      "Epoch 17/20\n",
      "48000/48000 - 5s - loss: 0.0021 - accuracy: 0.9866 - val_loss: 0.0053 - val_accuracy: 0.9672\n",
      "Epoch 18/20\n",
      "48000/48000 - 5s - loss: 0.0021 - accuracy: 0.9870 - val_loss: 0.0053 - val_accuracy: 0.9678\n",
      "Epoch 19/20\n",
      "48000/48000 - 5s - loss: 0.0018 - accuracy: 0.9884 - val_loss: 0.0041 - val_accuracy: 0.9754\n",
      "Epoch 20/20\n",
      "48000/48000 - 5s - loss: 0.0019 - accuracy: 0.9882 - val_loss: 0.0049 - val_accuracy: 0.9691\n"
     ]
    }
   ],
   "source": [
    "deep_mlp_mse = Sequential()\n",
    "deep_mlp_mse.add(Dense(\n",
    "    input_shape = (input_dim, ),\n",
    "    units = hidden_1,\n",
    "    activation = \"tanh\",\n",
    "    kernel_initializer='random_uniform', # weight 초기화\n",
    "    bias_initializer='zeros' # bias 초기화\n",
    "))\n",
    "deep_mlp_mse.add(Dense(\n",
    "    units = hidden_2,\n",
    "    activation = \"tanh\",\n",
    "    kernel_initializer='random_uniform', # weight 초기화\n",
    "    bias_initializer='zeros' # bias 초기화\n",
    "))\n",
    "deep_mlp_mse.add(Dense(\n",
    "    units = hidden_3,\n",
    "    activation = \"tanh\",\n",
    "    kernel_initializer='random_uniform', # weight 초기화\n",
    "    bias_initializer='zeros' # bias 초기화\n",
    "))\n",
    "deep_mlp_mse.add(Dense(\n",
    "    units = hidden_4,\n",
    "    activation = \"tanh\",\n",
    "    kernel_initializer='random_uniform', # weight 초기화\n",
    "    bias_initializer='zeros' # bias 초기화\n",
    "))\n",
    "deep_mlp_mse.add(Dense(\n",
    "    units = output_dim,\n",
    "    activation = \"softmax\",\n",
    "    kernel_initializer='random_uniform', # weight 초기화\n",
    "    bias_initializer='zeros' # bias 초기화\n",
    "))\n",
    "\n",
    "deep_mlp_mse.compile(\n",
    "    optimizer=Adam(learning_rate=0.001),\n",
    "    loss='mse', # mse 사용\n",
    "    metrics=['accuracy']\n",
    ")\n",
    "\n",
    "history_mse = deep_mlp_mse.fit(x_train, y_train, batch_size=128, epochs=20, validation_split=0.2, verbose=2)"
   ]
  },
  {
   "cell_type": "code",
   "execution_count": 14,
   "id": "c007b397-2ed2-41bf-b0a5-c92af7e88781",
   "metadata": {},
   "outputs": [
    {
     "name": "stdout",
     "output_type": "stream",
     "text": [
      "Train on 48000 samples, validate on 12000 samples\n",
      "Epoch 1/20\n",
      "48000/48000 - 5s - loss: 0.3100 - accuracy: 0.9067 - val_loss: 0.1846 - val_accuracy: 0.9438\n",
      "Epoch 2/20\n",
      "48000/48000 - 5s - loss: 0.1559 - accuracy: 0.9527 - val_loss: 0.1681 - val_accuracy: 0.9516\n",
      "Epoch 3/20\n",
      "48000/48000 - 5s - loss: 0.1152 - accuracy: 0.9651 - val_loss: 0.1445 - val_accuracy: 0.9598\n",
      "Epoch 4/20\n",
      "48000/48000 - 5s - loss: 0.0855 - accuracy: 0.9734 - val_loss: 0.1243 - val_accuracy: 0.9613\n",
      "Epoch 5/20\n",
      "48000/48000 - 5s - loss: 0.0706 - accuracy: 0.9770 - val_loss: 0.1241 - val_accuracy: 0.9652\n",
      "Epoch 6/20\n",
      "48000/48000 - 5s - loss: 0.0580 - accuracy: 0.9812 - val_loss: 0.1240 - val_accuracy: 0.9679\n",
      "Epoch 7/20\n",
      "48000/48000 - 6s - loss: 0.0514 - accuracy: 0.9833 - val_loss: 0.1195 - val_accuracy: 0.9677\n",
      "Epoch 8/20\n",
      "48000/48000 - 5s - loss: 0.0382 - accuracy: 0.9877 - val_loss: 0.1092 - val_accuracy: 0.9707\n",
      "Epoch 9/20\n",
      "48000/48000 - 5s - loss: 0.0384 - accuracy: 0.9874 - val_loss: 0.1088 - val_accuracy: 0.9719\n",
      "Epoch 10/20\n",
      "48000/48000 - 5s - loss: 0.0317 - accuracy: 0.9891 - val_loss: 0.1223 - val_accuracy: 0.9681\n",
      "Epoch 11/20\n",
      "48000/48000 - 5s - loss: 0.0307 - accuracy: 0.9896 - val_loss: 0.1056 - val_accuracy: 0.9741\n",
      "Epoch 12/20\n",
      "48000/48000 - 5s - loss: 0.0263 - accuracy: 0.9909 - val_loss: 0.1040 - val_accuracy: 0.9747\n",
      "Epoch 13/20\n",
      "48000/48000 - 5s - loss: 0.0250 - accuracy: 0.9915 - val_loss: 0.1129 - val_accuracy: 0.9728\n",
      "Epoch 14/20\n",
      "48000/48000 - 6s - loss: 0.0264 - accuracy: 0.9910 - val_loss: 0.1138 - val_accuracy: 0.9714\n",
      "Epoch 15/20\n",
      "48000/48000 - 6s - loss: 0.0215 - accuracy: 0.9930 - val_loss: 0.1122 - val_accuracy: 0.9733\n",
      "Epoch 16/20\n",
      "48000/48000 - 6s - loss: 0.0196 - accuracy: 0.9933 - val_loss: 0.1217 - val_accuracy: 0.9725\n",
      "Epoch 17/20\n",
      "48000/48000 - 6s - loss: 0.0210 - accuracy: 0.9928 - val_loss: 0.1284 - val_accuracy: 0.9718\n",
      "Epoch 18/20\n",
      "48000/48000 - 6s - loss: 0.0255 - accuracy: 0.9914 - val_loss: 0.1220 - val_accuracy: 0.9713\n",
      "Epoch 19/20\n",
      "48000/48000 - 5s - loss: 0.0115 - accuracy: 0.9960 - val_loss: 0.1289 - val_accuracy: 0.9730\n",
      "Epoch 20/20\n",
      "48000/48000 - 5s - loss: 0.0162 - accuracy: 0.9945 - val_loss: 0.1282 - val_accuracy: 0.9750\n"
     ]
    }
   ],
   "source": [
    "deep_mlp_cse = Sequential()\n",
    "deep_mlp_cse.add(Dense(\n",
    "    input_shape = (input_dim, ),\n",
    "    units = hidden_1,\n",
    "    activation = \"tanh\",\n",
    "    kernel_initializer='random_uniform', # weight 초기화\n",
    "    bias_initializer='zeros' # bias 초기화\n",
    "))\n",
    "deep_mlp_cse.add(Dense(\n",
    "    units = hidden_2,\n",
    "    activation = \"tanh\",\n",
    "    kernel_initializer='random_uniform', # weight 초기화\n",
    "    bias_initializer='zeros' # bias 초기화\n",
    "))\n",
    "deep_mlp_cse.add(Dense(\n",
    "    units = hidden_3,\n",
    "    activation = \"tanh\",\n",
    "    kernel_initializer='random_uniform', # weight 초기화\n",
    "    bias_initializer='zeros' # bias 초기화\n",
    "))\n",
    "deep_mlp_cse.add(Dense(\n",
    "    units = hidden_4,\n",
    "    activation = \"tanh\",\n",
    "    kernel_initializer='random_uniform', # weight 초기화\n",
    "    bias_initializer='zeros' # bias 초기화\n",
    "))\n",
    "deep_mlp_cse.add(Dense(\n",
    "    units = output_dim,\n",
    "    activation = \"softmax\",\n",
    "    kernel_initializer='random_uniform', # weight 초기화\n",
    "    bias_initializer='zeros' # bias 초기화\n",
    "))\n",
    "\n",
    "deep_mlp_cse.compile(\n",
    "    optimizer=Adam(learning_rate=0.001),\n",
    "    loss='categorical_crossentropy', # categorical_crossentropy 사용\n",
    "    metrics=['accuracy']\n",
    ")\n",
    "\n",
    "history_cse = deep_mlp_cse.fit(x_train, y_train, batch_size=128, epochs=20, validation_split=0.2, verbose=2)"
   ]
  },
  {
   "cell_type": "code",
   "execution_count": 15,
   "id": "e83bc0dd-7775-4402-a8ec-36b610cb128a",
   "metadata": {},
   "outputs": [
    {
     "name": "stdout",
     "output_type": "stream",
     "text": [
      "MSE 정확도 :  97.15999960899353\n",
      "Cross-entropy 정확도 :  97.42000102996826\n"
     ]
    }
   ],
   "source": [
    "res = deep_mlp_mse.evaluate(x_test, y_test, verbose=0)\n",
    "print(\"MSE 정확도 : \", res[1]*100)\n",
    "\n",
    "res = deep_mlp_cse.evaluate(x_test, y_test, verbose=0)\n",
    "print(\"Cross-entropy 정확도 : \", res[1]*100)"
   ]
  },
  {
   "cell_type": "code",
   "execution_count": 19,
   "id": "12ff9997-0fef-4a45-8ccd-dc46c605547c",
   "metadata": {},
   "outputs": [
    {
     "name": "stdout",
     "output_type": "stream",
     "text": [
      "정확도 :  97.53000140190125\n"
     ]
    },
    {
     "data": {
      "image/png": "[encoded data removed]",
      "text/plain": [
       "<Figure size 432x288 with 1 Axes>"
      ]
     },
     "metadata": {
      "needs_background": "light"
     },
     "output_type": "display_data"
    },
    {
     "data": {
      "image/png": "[encoded data removed]",
      "text/plain": [
       "<Figure size 432x288 with 1 Axes>"
      ]
     },
     "metadata": {
      "needs_background": "light"
     },
     "output_type": "display_data"
    }
   ],
   "source": [
    "res = deep_mlp.evaluate(x_test, y_test, verbose=0)\n",
    "print(\"정확도 : \", res[1]*100)\n",
    "\n",
    "# 정확도 곡선\n",
    "plt.plot(history_mse.history['accuracy'])\n",
    "plt.plot(history_mse.history['val_accuracy'])\n",
    "plt.plot(history_cse.history['accuracy'])\n",
    "plt.plot(history_cse.history['val_accuracy'])\n",
    "plt.title('model accuracy')\n",
    "plt.xlabel('epoch')\n",
    "plt.ylabel('accuracy')\n",
    "plt.legend(['train_mse', 'validation_mse', 'train_cse', 'validation_cse'], loc='lower right')\n",
    "plt.grid()\n",
    "plt.show()\n",
    "\n",
    "# 손실 곡선\n",
    "plt.plot(history_mse.history['loss'])\n",
    "plt.plot(history_mse.history['val_loss'])\n",
    "plt.plot(history_cse.history['loss'])\n",
    "plt.plot(history_cse.history['val_loss'])\n",
    "plt.title('model loss')\n",
    "plt.xlabel('epoch')\n",
    "plt.ylabel('loss')\n",
    "plt.legend(['train_mse', 'validation_mse', 'train_cse', 'validation_cse'], loc='upper right')\n",
    "plt.grid()\n",
    "plt.show()"
   ]
  },
  {
   "cell_type": "markdown",
   "id": "4973b94c-375e-4afb-a290-1993531b4ae2",
   "metadata": {},
   "source": [
    "### [5-7] 옵티마이저 성능 비교\n",
    "\n",
    "* loss = categorical_crossentropy \n",
    "* 옵티마이저 = SGD, Adam, AdaGrad, RMSProp 옵티마이저 비교"
   ]
  },
  {
   "cell_type": "code",
   "execution_count": 20,
   "id": "7885da9d-80ae-4c3a-876a-97f3914a5716",
   "metadata": {},
   "outputs": [],
   "source": [
    "from tensorflow.keras.optimizers import Adam, SGD, Adagrad, RMSprop"
   ]
  },
  {
   "cell_type": "code",
   "execution_count": 21,
   "id": "5574dd45-5673-4d8f-8566-19186951162a",
   "metadata": {},
   "outputs": [],
   "source": [
    "def build_model():\n",
    "    input_dim = 784\n",
    "    output_dim = 10\n",
    "    hidden_1 = 1024\n",
    "    hidden_2 = 512\n",
    "    hidden_3 = 512\n",
    "    hidden_4 = 512\n",
    "\n",
    "    model = Sequential()\n",
    "    model.add(Dense(input_shape = (input_dim, ), units = hidden_1, activation = \"tanh\"))\n",
    "    model.add(Dense(units = hidden_2, activation = \"tanh\"))\n",
    "    model.add(Dense(units = hidden_3, activation = \"tanh\"))\n",
    "    model.add(Dense(units = hidden_4, activation = \"tanh\"))\n",
    "    model.add(Dense(units = output_dim, activation = \"softmax\"))\n",
    "    \n",
    "    return model"
   ]
  },
  {
   "cell_type": "code",
   "execution_count": 22,
   "id": "3f0b56eb-76b0-4f71-aea5-63536d795e0e",
   "metadata": {},
   "outputs": [
    {
     "name": "stdout",
     "output_type": "stream",
     "text": [
      "Train on 48000 samples, validate on 12000 samples\n",
      "Epoch 1/20\n",
      "48000/48000 - 5s - loss: 0.7014 - accuracy: 0.8303 - val_loss: 0.3886 - val_accuracy: 0.8959\n",
      "Epoch 2/20\n",
      "48000/48000 - 5s - loss: 0.3725 - accuracy: 0.8962 - val_loss: 0.3234 - val_accuracy: 0.9089\n",
      "Epoch 3/20\n",
      "48000/48000 - 5s - loss: 0.3265 - accuracy: 0.9075 - val_loss: 0.2966 - val_accuracy: 0.9159\n",
      "Epoch 4/20\n",
      "48000/48000 - 5s - loss: 0.3027 - accuracy: 0.9136 - val_loss: 0.2811 - val_accuracy: 0.9209\n",
      "Epoch 5/20\n",
      "48000/48000 - 5s - loss: 0.2862 - accuracy: 0.9180 - val_loss: 0.2687 - val_accuracy: 0.9232\n",
      "Epoch 6/20\n",
      "48000/48000 - 5s - loss: 0.2732 - accuracy: 0.9216 - val_loss: 0.2590 - val_accuracy: 0.9265\n",
      "Epoch 7/20\n",
      "48000/48000 - 5s - loss: 0.2618 - accuracy: 0.9248 - val_loss: 0.2510 - val_accuracy: 0.9287\n",
      "Epoch 8/20\n",
      "48000/48000 - 5s - loss: 0.2516 - accuracy: 0.9279 - val_loss: 0.2441 - val_accuracy: 0.9318\n",
      "Epoch 9/20\n",
      "48000/48000 - 5s - loss: 0.2417 - accuracy: 0.9301 - val_loss: 0.2341 - val_accuracy: 0.9351\n",
      "Epoch 10/20\n",
      "48000/48000 - 5s - loss: 0.2326 - accuracy: 0.9331 - val_loss: 0.2276 - val_accuracy: 0.9356\n",
      "Epoch 11/20\n",
      "48000/48000 - 5s - loss: 0.2235 - accuracy: 0.9359 - val_loss: 0.2209 - val_accuracy: 0.9380\n",
      "Epoch 12/20\n",
      "48000/48000 - 5s - loss: 0.2151 - accuracy: 0.9377 - val_loss: 0.2137 - val_accuracy: 0.9397\n",
      "Epoch 13/20\n",
      "48000/48000 - 5s - loss: 0.2067 - accuracy: 0.9408 - val_loss: 0.2067 - val_accuracy: 0.9417\n",
      "Epoch 14/20\n",
      "48000/48000 - 5s - loss: 0.1987 - accuracy: 0.9432 - val_loss: 0.1999 - val_accuracy: 0.9450\n",
      "Epoch 15/20\n",
      "48000/48000 - 5s - loss: 0.1907 - accuracy: 0.9451 - val_loss: 0.1935 - val_accuracy: 0.9475\n",
      "Epoch 16/20\n",
      "48000/48000 - 5s - loss: 0.1834 - accuracy: 0.9470 - val_loss: 0.1905 - val_accuracy: 0.9482\n",
      "Epoch 17/20\n",
      "48000/48000 - 5s - loss: 0.1764 - accuracy: 0.9493 - val_loss: 0.1821 - val_accuracy: 0.9504\n",
      "Epoch 18/20\n",
      "48000/48000 - 5s - loss: 0.1698 - accuracy: 0.9509 - val_loss: 0.1771 - val_accuracy: 0.9522\n",
      "Epoch 19/20\n",
      "48000/48000 - 5s - loss: 0.1634 - accuracy: 0.9530 - val_loss: 0.1737 - val_accuracy: 0.9528\n",
      "Epoch 20/20\n",
      "48000/48000 - 5s - loss: 0.1577 - accuracy: 0.9547 - val_loss: 0.1675 - val_accuracy: 0.9540\n",
      "SGD accuracy :  95.38000226020813\n",
      "Train on 48000 samples, validate on 12000 samples\n",
      "Epoch 1/20\n",
      "48000/48000 - 6s - loss: 0.2850 - accuracy: 0.9127 - val_loss: 0.1500 - val_accuracy: 0.9541\n",
      "Epoch 2/20\n",
      "48000/48000 - 6s - loss: 0.1304 - accuracy: 0.9590 - val_loss: 0.1266 - val_accuracy: 0.9622\n",
      "Epoch 3/20\n",
      "48000/48000 - 6s - loss: 0.0899 - accuracy: 0.9719 - val_loss: 0.1130 - val_accuracy: 0.9669\n",
      "Epoch 4/20\n",
      "48000/48000 - 6s - loss: 0.0691 - accuracy: 0.9782 - val_loss: 0.1515 - val_accuracy: 0.9548\n",
      "Epoch 5/20\n",
      "48000/48000 - 6s - loss: 0.0568 - accuracy: 0.9813 - val_loss: 0.0968 - val_accuracy: 0.9727\n",
      "Epoch 6/20\n",
      "48000/48000 - 6s - loss: 0.0419 - accuracy: 0.9859 - val_loss: 0.1251 - val_accuracy: 0.9649\n",
      "Epoch 7/20\n",
      "48000/48000 - 6s - loss: 0.0418 - accuracy: 0.9863 - val_loss: 0.1076 - val_accuracy: 0.9728\n",
      "Epoch 8/20\n",
      "48000/48000 - 6s - loss: 0.0404 - accuracy: 0.9865 - val_loss: 0.1057 - val_accuracy: 0.9720\n",
      "Epoch 9/20\n",
      "48000/48000 - 6s - loss: 0.0310 - accuracy: 0.9898 - val_loss: 0.1177 - val_accuracy: 0.9707\n",
      "Epoch 10/20\n",
      "48000/48000 - 6s - loss: 0.0303 - accuracy: 0.9900 - val_loss: 0.1445 - val_accuracy: 0.9644\n",
      "Epoch 11/20\n",
      "48000/48000 - 6s - loss: 0.0274 - accuracy: 0.9904 - val_loss: 0.0990 - val_accuracy: 0.9756\n",
      "Epoch 12/20\n",
      "48000/48000 - 7s - loss: 0.0231 - accuracy: 0.9926 - val_loss: 0.1041 - val_accuracy: 0.9747\n",
      "Epoch 13/20\n",
      "48000/48000 - 6s - loss: 0.0171 - accuracy: 0.9942 - val_loss: 0.1168 - val_accuracy: 0.9743\n",
      "Epoch 14/20\n",
      "48000/48000 - 6s - loss: 0.0224 - accuracy: 0.9927 - val_loss: 0.1176 - val_accuracy: 0.9712\n",
      "Epoch 15/20\n",
      "48000/48000 - 6s - loss: 0.0208 - accuracy: 0.9937 - val_loss: 0.1191 - val_accuracy: 0.9722\n",
      "Epoch 16/20\n",
      "48000/48000 - 6s - loss: 0.0220 - accuracy: 0.9924 - val_loss: 0.1145 - val_accuracy: 0.9733\n",
      "Epoch 17/20\n",
      "48000/48000 - 6s - loss: 0.0198 - accuracy: 0.9934 - val_loss: 0.1310 - val_accuracy: 0.9685\n",
      "Epoch 18/20\n",
      "48000/48000 - 6s - loss: 0.0182 - accuracy: 0.9938 - val_loss: 0.1059 - val_accuracy: 0.9762\n",
      "Epoch 19/20\n",
      "48000/48000 - 6s - loss: 0.0198 - accuracy: 0.9933 - val_loss: 0.1108 - val_accuracy: 0.9741\n",
      "Epoch 20/20\n",
      "48000/48000 - 6s - loss: 0.0166 - accuracy: 0.9945 - val_loss: 0.1121 - val_accuracy: 0.9743\n",
      "Adam accuracy :  97.61000275611877\n",
      "Train on 48000 samples, validate on 12000 samples\n",
      "Epoch 1/20\n",
      "48000/48000 - 6s - loss: 1.1608 - accuracy: 0.7310 - val_loss: 0.6497 - val_accuracy: 0.8564\n",
      "Epoch 2/20\n",
      "48000/48000 - 6s - loss: 0.5767 - accuracy: 0.8566 - val_loss: 0.4660 - val_accuracy: 0.8816\n",
      "Epoch 3/20\n",
      "48000/48000 - 7s - loss: 0.4611 - accuracy: 0.8764 - val_loss: 0.4001 - val_accuracy: 0.8926\n",
      "Epoch 4/20\n",
      "48000/48000 - 7s - loss: 0.4093 - accuracy: 0.8876 - val_loss: 0.3660 - val_accuracy: 0.9002\n",
      "Epoch 5/20\n",
      "48000/48000 - 7s - loss: 0.3789 - accuracy: 0.8941 - val_loss: 0.3448 - val_accuracy: 0.9047\n",
      "Epoch 6/20\n",
      "48000/48000 - 7s - loss: 0.3583 - accuracy: 0.8991 - val_loss: 0.3299 - val_accuracy: 0.9079\n",
      "Epoch 7/20\n",
      "48000/48000 - 8s - loss: 0.3433 - accuracy: 0.9028 - val_loss: 0.3186 - val_accuracy: 0.9112\n",
      "Epoch 8/20\n",
      "48000/48000 - 7s - loss: 0.3313 - accuracy: 0.9060 - val_loss: 0.3099 - val_accuracy: 0.9130\n",
      "Epoch 9/20\n",
      "48000/48000 - 7s - loss: 0.3219 - accuracy: 0.9079 - val_loss: 0.3023 - val_accuracy: 0.9153\n",
      "Epoch 10/20\n",
      "48000/48000 - 7s - loss: 0.3136 - accuracy: 0.9109 - val_loss: 0.2961 - val_accuracy: 0.9168\n",
      "Epoch 11/20\n",
      "48000/48000 - 7s - loss: 0.3065 - accuracy: 0.9119 - val_loss: 0.2901 - val_accuracy: 0.9176\n",
      "Epoch 12/20\n",
      "48000/48000 - 7s - loss: 0.3003 - accuracy: 0.9142 - val_loss: 0.2854 - val_accuracy: 0.9187\n",
      "Epoch 13/20\n",
      "48000/48000 - 7s - loss: 0.2947 - accuracy: 0.9160 - val_loss: 0.2809 - val_accuracy: 0.9196\n",
      "Epoch 14/20\n",
      "48000/48000 - 7s - loss: 0.2896 - accuracy: 0.9175 - val_loss: 0.2769 - val_accuracy: 0.9208\n",
      "Epoch 15/20\n",
      "48000/48000 - 7s - loss: 0.2850 - accuracy: 0.9192 - val_loss: 0.2735 - val_accuracy: 0.9213\n",
      "Epoch 16/20\n",
      "48000/48000 - 8s - loss: 0.2806 - accuracy: 0.9195 - val_loss: 0.2702 - val_accuracy: 0.9222\n",
      "Epoch 17/20\n",
      "48000/48000 - 7s - loss: 0.2766 - accuracy: 0.9209 - val_loss: 0.2665 - val_accuracy: 0.9235\n",
      "Epoch 18/20\n",
      "48000/48000 - 7s - loss: 0.2726 - accuracy: 0.9218 - val_loss: 0.2639 - val_accuracy: 0.9249\n",
      "Epoch 19/20\n",
      "48000/48000 - 7s - loss: 0.2690 - accuracy: 0.9230 - val_loss: 0.2613 - val_accuracy: 0.9257\n",
      "Epoch 20/20\n",
      "48000/48000 - 7s - loss: 0.2656 - accuracy: 0.9240 - val_loss: 0.2581 - val_accuracy: 0.9266\n",
      "Adagrad accuracy :  92.59999990463257\n",
      "Train on 48000 samples, validate on 12000 samples\n",
      "Epoch 1/20\n",
      "48000/48000 - 11s - loss: 0.4193 - accuracy: 0.8803 - val_loss: 0.1873 - val_accuracy: 0.9457\n",
      "Epoch 2/20\n",
      "48000/48000 - 10s - loss: 0.1540 - accuracy: 0.9530 - val_loss: 0.1447 - val_accuracy: 0.9581\n",
      "Epoch 3/20\n",
      "48000/48000 - 10s - loss: 0.1035 - accuracy: 0.9680 - val_loss: 0.1249 - val_accuracy: 0.9643\n",
      "Epoch 4/20\n",
      "48000/48000 - 9s - loss: 0.0752 - accuracy: 0.9772 - val_loss: 0.1480 - val_accuracy: 0.9581\n",
      "Epoch 5/20\n",
      "48000/48000 - 10s - loss: 0.0558 - accuracy: 0.9814 - val_loss: 0.0962 - val_accuracy: 0.9720\n",
      "Epoch 6/20\n",
      "48000/48000 - 10s - loss: 0.0444 - accuracy: 0.9854 - val_loss: 0.1116 - val_accuracy: 0.9701\n",
      "Epoch 7/20\n",
      "48000/48000 - 10s - loss: 0.0351 - accuracy: 0.9889 - val_loss: 0.0941 - val_accuracy: 0.9750\n",
      "Epoch 8/20\n",
      "48000/48000 - 10s - loss: 0.0279 - accuracy: 0.9911 - val_loss: 0.1087 - val_accuracy: 0.9749\n",
      "Epoch 9/20\n",
      "48000/48000 - 11s - loss: 0.0235 - accuracy: 0.9921 - val_loss: 0.1223 - val_accuracy: 0.9722\n",
      "Epoch 10/20\n",
      "48000/48000 - 11s - loss: 0.0193 - accuracy: 0.9936 - val_loss: 0.1076 - val_accuracy: 0.9752\n",
      "Epoch 11/20\n",
      "48000/48000 - 10s - loss: 0.0155 - accuracy: 0.9950 - val_loss: 0.1119 - val_accuracy: 0.9759\n",
      "Epoch 12/20\n",
      "48000/48000 - 10s - loss: 0.0146 - accuracy: 0.9950 - val_loss: 0.1194 - val_accuracy: 0.9736\n",
      "Epoch 13/20\n",
      "48000/48000 - 10s - loss: 0.0128 - accuracy: 0.9959 - val_loss: 0.1163 - val_accuracy: 0.9751\n",
      "Epoch 14/20\n",
      "48000/48000 - 10s - loss: 0.0110 - accuracy: 0.9967 - val_loss: 0.1255 - val_accuracy: 0.9745\n",
      "Epoch 15/20\n",
      "48000/48000 - 9s - loss: 0.0106 - accuracy: 0.9964 - val_loss: 0.1251 - val_accuracy: 0.9753\n",
      "Epoch 16/20\n",
      "48000/48000 - 9s - loss: 0.0077 - accuracy: 0.9973 - val_loss: 0.1345 - val_accuracy: 0.9741\n",
      "Epoch 17/20\n",
      "48000/48000 - 10s - loss: 0.0068 - accuracy: 0.9976 - val_loss: 0.1340 - val_accuracy: 0.9750\n",
      "Epoch 18/20\n",
      "48000/48000 - 11s - loss: 0.0089 - accuracy: 0.9973 - val_loss: 0.1313 - val_accuracy: 0.9755\n",
      "Epoch 19/20\n",
      "48000/48000 - 10s - loss: 0.0078 - accuracy: 0.9975 - val_loss: 0.1432 - val_accuracy: 0.9732\n",
      "Epoch 20/20\n",
      "48000/48000 - 9s - loss: 0.0062 - accuracy: 0.9980 - val_loss: 0.1454 - val_accuracy: 0.9743\n",
      "RMSprop accuracy :  97.35000133514404\n"
     ]
    }
   ],
   "source": [
    "# [1] SGD \n",
    "model_sgd = build_model()\n",
    "model_sgd.compile(\n",
    "    loss = 'categorical_crossentropy',\n",
    "    optimizer = SGD(),\n",
    "    metrics = ['accuracy']\n",
    ")\n",
    "hist_sgd = model_sgd.fit(x_train, y_train, batch_size=128, epochs=20, validation_split=0.2, verbose=2)\n",
    "print(\"SGD accuracy : \", model_sgd.evaluate(x_test, y_test, verbose=0)[1]*100)\n",
    "\n",
    "# [1] Adam \n",
    "model_Adam = build_model()\n",
    "model_Adam.compile(\n",
    "    loss = 'categorical_crossentropy',\n",
    "    optimizer = Adam(),\n",
    "    metrics = ['accuracy']\n",
    ")\n",
    "hist_Adam = model_Adam.fit(x_train, y_train, batch_size=128, epochs=20, validation_split=0.2, verbose=2)\n",
    "print(\"Adam accuracy : \", model_Adam.evaluate(x_test, y_test, verbose=0)[1]*100)\n",
    "\n",
    "# [1] Adagrad \n",
    "model_Adagrad = build_model()\n",
    "model_Adagrad.compile(\n",
    "    loss = 'categorical_crossentropy',\n",
    "    optimizer = Adagrad(),\n",
    "    metrics = ['accuracy']\n",
    ")\n",
    "hist_Adagrad = model_Adagrad.fit(x_train, y_train, batch_size=128, epochs=20, validation_split=0.2, verbose=2)\n",
    "print(\"Adagrad accuracy : \", model_Adagrad.evaluate(x_test, y_test, verbose=0)[1]*100)\n",
    "\n",
    "# [1] RMSprop \n",
    "model_RMSprop = build_model()\n",
    "model_RMSprop.compile(\n",
    "    loss = 'categorical_crossentropy',\n",
    "    optimizer = RMSprop(),\n",
    "    metrics = ['accuracy']\n",
    ")\n",
    "hist_RMSprop = model_RMSprop.fit(x_train, y_train, batch_size=128, epochs=20, validation_split=0.2, verbose=2)\n",
    "print(\"RMSprop accuracy : \", model_RMSprop.evaluate(x_test, y_test, verbose=0)[1]*100)"
   ]
  },
  {
   "cell_type": "code",
   "execution_count": 24,
   "id": "f6a7b029-0e58-4613-a71b-971139d6f2ce",
   "metadata": {},
   "outputs": [
    {
     "name": "stdout",
     "output_type": "stream",
     "text": [
      "정확도 :  97.53000140190125\n"
     ]
    },
    {
     "data": {
      "image/png": "[encoded data removed]",
      "text/plain": [
       "<Figure size 432x288 with 1 Axes>"
      ]
     },
     "metadata": {
      "needs_background": "light"
     },
     "output_type": "display_data"
    },
    {
     "data": {
      "image/png": "[encoded data removed]",
      "text/plain": [
       "<Figure size 432x288 with 1 Axes>"
      ]
     },
     "metadata": {
      "needs_background": "light"
     },
     "output_type": "display_data"
    }
   ],
   "source": [
    "res = deep_mlp.evaluate(x_test, y_test, verbose=0)\n",
    "print(\"정확도 : \", res[1]*100)\n",
    "\n",
    "# 정확도 곡선\n",
    "plt.plot(hist_sgd.history['accuracy'])\n",
    "plt.plot(hist_sgd.history['val_accuracy'])\n",
    "plt.plot(hist_Adam.history['accuracy'])\n",
    "plt.plot(hist_Adam.history['val_accuracy'])\n",
    "plt.plot(hist_Adagrad.history['accuracy'])\n",
    "plt.plot(hist_Adagrad.history['val_accuracy'])\n",
    "plt.plot(hist_RMSprop.history['accuracy'])\n",
    "plt.plot(hist_RMSprop.history['val_accuracy'])\n",
    "plt.title('model accuracy')\n",
    "plt.xlabel('epoch')\n",
    "plt.ylabel('accuracy')\n",
    "plt.legend(['train_sgd', 'validation_sgd', \n",
    "            'train_Adam', 'validation_Adam',\n",
    "            'train_Adagrad', 'validation_Adagrad',\n",
    "            'train_RMSprop', 'validation_RMSprop'], loc='lower right')\n",
    "plt.grid()\n",
    "plt.show()\n",
    "\n",
    "# 손실 곡선\n",
    "plt.plot(hist_sgd.history['loss'])\n",
    "plt.plot(hist_sgd.history['val_loss'])\n",
    "plt.plot(hist_Adam.history['loss'])\n",
    "plt.plot(hist_Adam.history['val_loss'])\n",
    "plt.plot(hist_Adagrad.history['loss'])\n",
    "plt.plot(hist_Adagrad.history['val_loss'])\n",
    "plt.plot(hist_RMSprop.history['loss'])\n",
    "plt.plot(hist_RMSprop.history['val_loss'])\n",
    "plt.title('model loss')\n",
    "plt.xlabel('epoch')\n",
    "plt.ylabel('loss')\n",
    "plt.legend(['train_sgd', 'validation_sgd', \n",
    "            'train_Adam', 'validation_Adam',\n",
    "            'train_Adagrad', 'validation_Adagrad',\n",
    "            'train_RMSprop', 'validation_RMSprop'], loc='upper right')\n",
    "plt.grid()\n",
    "plt.show()"
   ]
  },
  {
   "cell_type": "code",
   "execution_count": null,
   "id": "dc997293-77d5-4f36-841d-e671ac75fefc",
   "metadata": {},
   "outputs": [],
   "source": []
  }
 ],
 "metadata": {
  "kernelspec": {
   "display_name": "Python 3",
   "language": "python",
   "name": "python3"
  },
  "language_info": {
   "codemirror_mode": {
    "name": "ipython",
    "version": 3
   },
   "file_extension": ".py",
   "mimetype": "text/x-python",
   "name": "python",
   "nbconvert_exporter": "python",
   "pygments_lexer": "ipython3",
   "version": "3.7.10"
  }
 },
 "nbformat": 4,
 "nbformat_minor": 5
}
