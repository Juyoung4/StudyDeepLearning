{
 "cells": [
  {
   "cell_type": "markdown",
   "metadata": {},
   "source": [
    "## 미분 방정식 구현"
   ]
  },
  {
   "cell_type": "code",
   "execution_count": 1,
   "metadata": {},
   "outputs": [],
   "source": [
    "def numerical_diff(f, x):\n",
    "    h = 1e-6 # 0.0001\n",
    "    return (f(x+h) - f(x-h))/ (2*h)"
   ]
  },
  {
   "cell_type": "code",
   "execution_count": 2,
   "metadata": {},
   "outputs": [],
   "source": [
    "def f1(x):\n",
    "    return 0.01*x**2 + 0.1*x"
   ]
  },
  {
   "cell_type": "code",
   "execution_count": 3,
   "metadata": {},
   "outputs": [],
   "source": [
    "def f2(x):\n",
    "    return 2*x**3 + 5*x + 3"
   ]
  },
  {
   "cell_type": "code",
   "execution_count": 4,
   "metadata": {},
   "outputs": [
    {
     "data": {
      "text/plain": [
       "0.20000000006126228"
      ]
     },
     "execution_count": 4,
     "metadata": {},
     "output_type": "execute_result"
    }
   ],
   "source": [
    "numerical_diff(f1, 5)"
   ]
  },
  {
   "cell_type": "code",
   "execution_count": 5,
   "metadata": {},
   "outputs": [
    {
     "data": {
      "text/plain": [
       "0.29999999973107094"
      ]
     },
     "execution_count": 5,
     "metadata": {},
     "output_type": "execute_result"
    }
   ],
   "source": [
    "numerical_diff(f1, 10)"
   ]
  },
  {
   "cell_type": "code",
   "execution_count": 7,
   "metadata": {},
   "outputs": [
    {
     "data": {
      "text/plain": [
       "5.060000000112197"
      ]
     },
     "execution_count": 7,
     "metadata": {},
     "output_type": "execute_result"
    }
   ],
   "source": [
    "numerical_diff(f2, 0.1)"
   ]
  },
  {
   "cell_type": "code",
   "execution_count": 8,
   "metadata": {},
   "outputs": [],
   "source": [
    "# 접선의 방정식 구현하기\n",
    "def tangent_line(f, x1):\n",
    "    \"\"\"\n",
    "    접선의 방정식 => y = ax + b로 표현\n",
    "    기울기가 a이고 점(x1, y1)을 지나는 함수의 b 값은\n",
    "    y1 = a*x1 + b\n",
    "    b = yq - a*x1\n",
    "    \"\"\"\n",
    "    a = numerical_diff(f, x1) # x지점에서 미분한 값이 그 지점의 접선 기울기이다.\n",
    "    y1 = f(x1)\n",
    "    b = y1 - a*x1\n",
    "    print(\"Y = %fX + %f\" % (a,b))\n",
    "    return lambda x: a*x + b"
   ]
  },
  {
   "cell_type": "markdown",
   "metadata": {},
   "source": [
    "## 편미분 방정식 구현"
   ]
  },
  {
   "cell_type": "code",
   "execution_count": 13,
   "metadata": {},
   "outputs": [
    {
     "data": {
      "text/plain": [
       "6.000000000838668"
      ]
     },
     "execution_count": 13,
     "metadata": {},
     "output_type": "execute_result"
    }
   ],
   "source": [
    "def f3(x0): # 이 식은 x0=3이고 x1=4일때 x0에 대한 편미분을 구하는 함수\n",
    "    return x0*x0 + 4.0**2.0 # 4.0**2.0 -> 2.0\n",
    "numerical_diff(f3, 3.0)"
   ]
  },
  {
   "cell_type": "code",
   "execution_count": 16,
   "metadata": {},
   "outputs": [
    {
     "data": {
      "text/plain": [
       "7.999999999341867"
      ]
     },
     "execution_count": 16,
     "metadata": {},
     "output_type": "execute_result"
    }
   ],
   "source": [
    "def f4(x1): # 이 식은 x0=3이고 x1=4일때 x1에 대한 편미분을 구하는 함수\n",
    "    return 3.0**2.0 + x1*x1\n",
    "numerical_diff(f4, 4.0)"
   ]
  },
  {
   "cell_type": "markdown",
   "metadata": {},
   "source": [
    "##### 위의 예시에서는 편미분 계산시 따로 계산함 -> 이를 동시 계사하는 방법 [벡터 이용]"
   ]
  },
  {
   "cell_type": "code",
   "execution_count": 24,
   "metadata": {},
   "outputs": [],
   "source": [
    "import numpy as np\n",
    "\n",
    "# 편미분을 벡터로 정리 -> 이를 기울기라고 함\n",
    "def _numerical_gradient_no_batch(f, curr_W):\n",
    "    h = 1e-4 # 0.001\n",
    "    grad = np.zeros_like(curr_W) # curr_W(x)의 array와 같은 사이즈, 크기의 zeros array를 만든다\n",
    "    \n",
    "    # w1, w2, ...., wn 각각에 대한 gradient 계산\n",
    "    # 결과 gradient는 grad 변수에 계산하고 저장한다.\n",
    "    for idx in range(curr_W.size):\n",
    "        p1 = curr_W.copy()\n",
    "        \n",
    "        # f(x+h) 계산\n",
    "        p1[idx] += h\n",
    "        y1 = f(p1)\n",
    "        \n",
    "        #f(x-h) 계산\n",
    "        p2 = curr_W.copy()\n",
    "        p2[idx] -= h\n",
    "        y2 = f(p2)\n",
    "        \n",
    "        # 기울기 계산\n",
    "        grad[idx] = (y1 - y2)/(2*h)\n",
    "    return grad\n",
    "\n",
    "def numerical_gradient2(f, X):\n",
    "    if X.ndim == 1:\n",
    "        return _numerical_gradient_no_batch(f, X)\n",
    "    else:\n",
    "        grad = np.zeros_like(X)\n",
    "        for idx, x in enumerate(X):\n",
    "            grad[idx] = _numerical_gradient_no_batch(f, X)\n",
    "        return grad\n",
    "\n",
    "def tagent_line2(f, x):\n",
    "    d = numerical_gradient2(f, x)\n",
    "    print(\"기울기 %f\" %d)\n",
    "    y = f(x) + d*x\n",
    "    return lambda t: d*t + y"
   ]
  },
  {
   "cell_type": "code",
   "execution_count": 25,
   "metadata": {},
   "outputs": [],
   "source": [
    "def function_(x):\n",
    "    \"\"\"\n",
    "    입력 값 x는 numpy array이고 numpy array의 각 원소를 제곱하고 그 합을 구할 간단한 형태로 구현\n",
    "    \"\"\"\n",
    "    if x.ndim == 1:\n",
    "        # x0^2 + x1^2을 의미\n",
    "        return np.sum(x**2)\n",
    "    else:\n",
    "        return np.sum(x**2, axis=1)"
   ]
  },
  {
   "cell_type": "code",
   "execution_count": 26,
   "metadata": {},
   "outputs": [
    {
     "data": {
      "text/plain": [
       "array([6., 8.])"
      ]
     },
     "execution_count": 26,
     "metadata": {},
     "output_type": "execute_result"
    }
   ],
   "source": [
    "# x0가 3이고 x1이 4일때 기울기\n",
    "numerical_gradient2(function_, np.array([3.0, 4.0]))"
   ]
  },
  {
   "cell_type": "code",
   "execution_count": 27,
   "metadata": {},
   "outputs": [
    {
     "data": {
      "text/plain": [
       "array([6., 0.])"
      ]
     },
     "execution_count": 27,
     "metadata": {},
     "output_type": "execute_result"
    }
   ],
   "source": [
    "# x0가 3이고 x1이 0일때 기울기\n",
    "numerical_gradient2(function_, np.array([3.0, 0.0]))"
   ]
  }
 ],
 "metadata": {
  "kernelspec": {
   "display_name": "Python 3",
   "language": "python",
   "name": "python3"
  },
  "language_info": {
   "codemirror_mode": {
    "name": "ipython",
    "version": 3
   },
   "file_extension": ".py",
   "mimetype": "text/x-python",
   "name": "python",
   "nbconvert_exporter": "python",
   "pygments_lexer": "ipython3",
   "version": "3.7.3"
  }
 },
 "nbformat": 4,
 "nbformat_minor": 4
}
