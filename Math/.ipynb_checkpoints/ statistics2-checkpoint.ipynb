{
 "cells": [
  {
   "cell_type": "markdown",
   "metadata": {},
   "source": [
    "## 평균 값, 중간 값, 최빈 값 구하기"
   ]
  },
  {
   "cell_type": "code",
   "execution_count": 4,
   "metadata": {},
   "outputs": [
    {
     "name": "stdout",
     "output_type": "stream",
     "text": [
      "평균 값 :  49.4\n",
      "중앙 값 :  49.0\n",
      "최빈 값 :  [0] [18]\n"
     ]
    }
   ],
   "source": [
    "import numpy as np\n",
    "from scipy import stats\n",
    "\n",
    "np.random.seed(0)\n",
    "\n",
    "data = np.random.randint(0, 100, 1000)\n",
    "\n",
    "mean = np.mean(data); print(\"평균 값 : \", mean.round(2))\n",
    "median = np.median(data); print(\"중앙 값 : \", median.round(2))\n",
    "mode = stats.mode(data); print(\"최빈 값 : \", mode[0], mode[1])"
   ]
  },
  {
   "cell_type": "markdown",
   "metadata": {},
   "source": [
    "## 사분위수 , IQR 구하기"
   ]
  },
  {
   "cell_type": "code",
   "execution_count": 6,
   "metadata": {},
   "outputs": [
    {
     "name": "stdout",
     "output_type": "stream",
     "text": [
      "분산 :  821\n",
      "표준편차 :  28.65\n",
      "범위 :  99\n",
      "사분위수:\n",
      "0 % => 0.0\n",
      "25 % => 24.0\n",
      "50 % => 48.0\n",
      "75 % => 72.25\n",
      "100 % => 99.0\n",
      "IQR :  48.25\n"
     ]
    }
   ],
   "source": [
    "import numpy as np\n",
    "from statistics import variance, stdev\n",
    "\n",
    "np.random.seed(0)\n",
    "\n",
    "points = np.random.randint(0, 100, 200)\n",
    "var = variance(points); print(\"분산 : \", var)\n",
    "std = stdev(points); print(\"표준편차 : \", np.round(std, 2))\n",
    "range = np.max(points) - np.min(points) ; print(\"범위 : \", range)\n",
    "print(\"사분위수:\")\n",
    "for val in [0, 25, 50, 75, 100]:\n",
    "    quantile = np.percentile(points, val)\n",
    "    print(\"{} % => {}\".format(val, quantile))\n",
    "    \n",
    "q1, q3 = np.percentile(points, [25, 75])\n",
    "print(\"IQR : \", q3 - q1)"
   ]
  },
  {
   "cell_type": "markdown",
   "metadata": {},
   "source": [
    "## p-value"
   ]
  },
  {
   "cell_type": "markdown",
   "metadata": {},
   "source": [
    "### 1. t 분포"
   ]
  },
  {
   "cell_type": "markdown",
   "metadata": {},
   "source": [
    "한 빵집에서 생산되는 식빵의 무게가 최소 200g이라고 주장할 경우, 표본 20개를 추출해 구한 평균 무게가 196g이고, 표준편차는 5.3g이었다면, 유의수준 5%(0.05)로 위의 주장을 기각할 수 있을까?"
   ]
  },
  {
   "cell_type": "markdown",
   "metadata": {},
   "source": [
    "**귀무가설** : 모든 식빵의 무게는 200g이상이다(빵집 주인의 주장)"
   ]
  },
  {
   "cell_type": "code",
   "execution_count": 7,
   "metadata": {},
   "outputs": [
    {
     "name": "stdout",
     "output_type": "stream",
     "text": [
      "검정 통계량 :  -3.38\n",
      "t-table로부터의 임계값 :  -1.729\n",
      "t-table의 아래쪽 꼬리 p 값 :  0.0016\n"
     ]
    }
   ],
   "source": [
    "import numpy as np\n",
    "from scipy import stats\n",
    "\n",
    "# x_bar[표본의 평균], mu[모집단의 평균], sigma[표본의 표준편차], n=표본의 크기\n",
    "x_bar, mu, sigma, n = 196, 200, 5.3, 20\n",
    "\n",
    "# 검정 통계량 -> 단일 표본 t 검정 시행\n",
    "\n",
    "# t 통계량을 구해야 한다 -> 공식 확인[노션]\n",
    "t_sample = (x_bar - mu) / (sigma / np.sqrt(float(n)))\n",
    "print(\"검정 통계량 : \", np.round(t_sample, 2))\n",
    "\n",
    "# 귀무가설이 기각되기 위해서는 t의 면적이 0.05인 t를 찾아야 한다.\n",
    "alpha = 0.05 # 유의수준\n",
    "t_alpha = stats.t.ppf(alpha, n-1) #percent point를 구한다.\n",
    "print(\"t-table로부터의 임계값 : \", np.round(t_alpha, 3))\n",
    "\n",
    "# t_sample의 p-value값을 찾음\n",
    "p_val = stats.t.sf(np.abs(t_sample), n-1) # survive function -> 아래 쪽 꼬리 값 찾을 때 사용\n",
    "print(\"t-table의 아래쪽 꼬리 p 값 : \", np.round(p_val, 4))"
   ]
  },
  {
   "cell_type": "markdown",
   "metadata": {},
   "source": [
    "### 카이제곱 분포"
   ]
  },
  {
   "cell_type": "code",
   "execution_count": 8,
   "metadata": {},
   "outputs": [
    {
     "data": {
      "text/html": [
       "<div>\n",
       "<style scoped>\n",
       "    .dataframe tbody tr th:only-of-type {\n",
       "        vertical-align: middle;\n",
       "    }\n",
       "\n",
       "    .dataframe tbody tr th {\n",
       "        vertical-align: top;\n",
       "    }\n",
       "\n",
       "    .dataframe thead th {\n",
       "        text-align: right;\n",
       "    }\n",
       "</style>\n",
       "<table border=\"1\" class=\"dataframe\">\n",
       "  <thead>\n",
       "    <tr style=\"text-align: right;\">\n",
       "      <th></th>\n",
       "      <th>smoke</th>\n",
       "      <th>exercise</th>\n",
       "    </tr>\n",
       "  </thead>\n",
       "  <tbody>\n",
       "    <tr>\n",
       "      <th>0</th>\n",
       "      <td>안함</td>\n",
       "      <td>안함</td>\n",
       "    </tr>\n",
       "    <tr>\n",
       "      <th>1</th>\n",
       "      <td>심함</td>\n",
       "      <td>안함</td>\n",
       "    </tr>\n",
       "    <tr>\n",
       "      <th>2</th>\n",
       "      <td>가끔</td>\n",
       "      <td>매일</td>\n",
       "    </tr>\n",
       "    <tr>\n",
       "      <th>3</th>\n",
       "      <td>안함</td>\n",
       "      <td>가끔</td>\n",
       "    </tr>\n",
       "    <tr>\n",
       "      <th>4</th>\n",
       "      <td>심함</td>\n",
       "      <td>가끔</td>\n",
       "    </tr>\n",
       "  </tbody>\n",
       "</table>\n",
       "</div>"
      ],
      "text/plain": [
       "  smoke exercise\n",
       "0    안함       안함\n",
       "1    심함       안함\n",
       "2    가끔       매일\n",
       "3    안함       가끔\n",
       "4    심함       가끔"
      ]
     },
     "execution_count": 8,
     "metadata": {},
     "output_type": "execute_result"
    }
   ],
   "source": [
    "import numpy as np\n",
    "import pandas as pd\n",
    "from scipy import stats\n",
    "\n",
    "np.random.seed(0)\n",
    "\n",
    "smoke = [\"안함\", \"가끔\", \"매일\", \"심함\"]\n",
    "exercise = [\"안함\", \"가끔\", \"매일\"]\n",
    "\n",
    "data = {\"smoke\": np.random.choice(smoke, size = 500),\n",
    "       \"exercise\": np.random.choice(exercise, size = 500)}\n",
    "\n",
    "df = pd.DataFrame(data, columns=[\"smoke\",\"exercise\"])\n",
    "df.head()"
   ]
  },
  {
   "cell_type": "code",
   "execution_count": 9,
   "metadata": {},
   "outputs": [
    {
     "data": {
      "text/html": [
       "<div>\n",
       "<style scoped>\n",
       "    .dataframe tbody tr th:only-of-type {\n",
       "        vertical-align: middle;\n",
       "    }\n",
       "\n",
       "    .dataframe tbody tr th {\n",
       "        vertical-align: top;\n",
       "    }\n",
       "\n",
       "    .dataframe thead th {\n",
       "        text-align: right;\n",
       "    }\n",
       "</style>\n",
       "<table border=\"1\" class=\"dataframe\">\n",
       "  <thead>\n",
       "    <tr style=\"text-align: right;\">\n",
       "      <th>exercise</th>\n",
       "      <th>가끔</th>\n",
       "      <th>매일</th>\n",
       "      <th>안함</th>\n",
       "    </tr>\n",
       "    <tr>\n",
       "      <th>smoke</th>\n",
       "      <th></th>\n",
       "      <th></th>\n",
       "      <th></th>\n",
       "    </tr>\n",
       "  </thead>\n",
       "  <tbody>\n",
       "    <tr>\n",
       "      <th>가끔</th>\n",
       "      <td>38</td>\n",
       "      <td>39</td>\n",
       "      <td>45</td>\n",
       "    </tr>\n",
       "    <tr>\n",
       "      <th>매일</th>\n",
       "      <td>34</td>\n",
       "      <td>44</td>\n",
       "      <td>33</td>\n",
       "    </tr>\n",
       "    <tr>\n",
       "      <th>심함</th>\n",
       "      <td>45</td>\n",
       "      <td>44</td>\n",
       "      <td>51</td>\n",
       "    </tr>\n",
       "    <tr>\n",
       "      <th>안함</th>\n",
       "      <td>47</td>\n",
       "      <td>41</td>\n",
       "      <td>39</td>\n",
       "    </tr>\n",
       "  </tbody>\n",
       "</table>\n",
       "</div>"
      ],
      "text/plain": [
       "exercise  가끔  매일  안함\n",
       "smoke               \n",
       "가끔        38  39  45\n",
       "매일        34  44  33\n",
       "심함        45  44  51\n",
       "안함        47  41  39"
      ]
     },
     "execution_count": 9,
     "metadata": {},
     "output_type": "execute_result"
    }
   ],
   "source": [
    "# 독립성 검정에 가장 중요한 건 ; 분할표를 만들어야 한다\n",
    "xtab = pd.crosstab(df.smoke, df.exercise) # crosstab을 이용해 분할표를 만든다(빈도표)\n",
    "xtab"
   ]
  },
  {
   "cell_type": "code",
   "execution_count": 11,
   "metadata": {},
   "outputs": [
    {
     "name": "stdout",
     "output_type": "stream",
     "text": [
      "p-value :  0.668\n"
     ]
    }
   ],
   "source": [
    "# 카이제곱 범주는 2개의 범주형 변수가 독립인지 상관인지 판단한다.\n",
    "# chi2_contingency(카이제곱 함수)에 위에서 만든 분할표를 넘겨주면 contingency 정보를 제공해준다\n",
    "contg = stats.chi2_contingency(observed=xtab)\n",
    "# contg[0] : 카이로제곱 값, contg[1] : p-value, contg[2] : 자유도(함수의 기울기), contg[3]: 기댓값\n",
    "p_val = np.round(contg[1], 3) # contingency의 두번째 인덱스 값이 p-value을 의미한다\n",
    "print(\"p-value : \", p_val)"
   ]
  },
  {
   "cell_type": "markdown",
   "metadata": {},
   "source": [
    "### ANOVA 분산 분석(F 검정)"
   ]
  },
  {
   "cell_type": "code",
   "execution_count": 12,
   "metadata": {},
   "outputs": [
    {
     "data": {
      "text/html": [
       "<div>\n",
       "<style scoped>\n",
       "    .dataframe tbody tr th:only-of-type {\n",
       "        vertical-align: middle;\n",
       "    }\n",
       "\n",
       "    .dataframe tbody tr th {\n",
       "        vertical-align: top;\n",
       "    }\n",
       "\n",
       "    .dataframe thead th {\n",
       "        text-align: right;\n",
       "    }\n",
       "</style>\n",
       "<table border=\"1\" class=\"dataframe\">\n",
       "  <thead>\n",
       "    <tr style=\"text-align: right;\">\n",
       "      <th></th>\n",
       "      <th>A</th>\n",
       "      <th>B</th>\n",
       "      <th>C</th>\n",
       "    </tr>\n",
       "  </thead>\n",
       "  <tbody>\n",
       "    <tr>\n",
       "      <th>0</th>\n",
       "      <td>5.5</td>\n",
       "      <td>7.2</td>\n",
       "      <td>6.0</td>\n",
       "    </tr>\n",
       "    <tr>\n",
       "      <th>1</th>\n",
       "      <td>5.4</td>\n",
       "      <td>4.2</td>\n",
       "      <td>6.5</td>\n",
       "    </tr>\n",
       "    <tr>\n",
       "      <th>2</th>\n",
       "      <td>4.4</td>\n",
       "      <td>8.9</td>\n",
       "      <td>9.6</td>\n",
       "    </tr>\n",
       "    <tr>\n",
       "      <th>3</th>\n",
       "      <td>3.8</td>\n",
       "      <td>7.9</td>\n",
       "      <td>5.3</td>\n",
       "    </tr>\n",
       "    <tr>\n",
       "      <th>4</th>\n",
       "      <td>5.7</td>\n",
       "      <td>9.3</td>\n",
       "      <td>0.7</td>\n",
       "    </tr>\n",
       "    <tr>\n",
       "      <th>5</th>\n",
       "      <td>0.9</td>\n",
       "      <td>0.2</td>\n",
       "      <td>8.3</td>\n",
       "    </tr>\n",
       "    <tr>\n",
       "      <th>6</th>\n",
       "      <td>7.8</td>\n",
       "      <td>8.7</td>\n",
       "      <td>9.8</td>\n",
       "    </tr>\n",
       "    <tr>\n",
       "      <th>7</th>\n",
       "      <td>8.0</td>\n",
       "      <td>4.6</td>\n",
       "      <td>7.8</td>\n",
       "    </tr>\n",
       "    <tr>\n",
       "      <th>8</th>\n",
       "      <td>1.2</td>\n",
       "      <td>6.4</td>\n",
       "      <td>1.4</td>\n",
       "    </tr>\n",
       "    <tr>\n",
       "      <th>9</th>\n",
       "      <td>9.4</td>\n",
       "      <td>5.2</td>\n",
       "      <td>4.1</td>\n",
       "    </tr>\n",
       "  </tbody>\n",
       "</table>\n",
       "</div>"
      ],
      "text/plain": [
       "     A    B    C\n",
       "0  5.5  7.2  6.0\n",
       "1  5.4  4.2  6.5\n",
       "2  4.4  8.9  9.6\n",
       "3  3.8  7.9  5.3\n",
       "4  5.7  9.3  0.7\n",
       "5  0.9  0.2  8.3\n",
       "6  7.8  8.7  9.8\n",
       "7  8.0  4.6  7.8\n",
       "8  1.2  6.4  1.4\n",
       "9  9.4  5.2  4.1"
      ]
     },
     "execution_count": 12,
     "metadata": {},
     "output_type": "execute_result"
    }
   ],
   "source": [
    "import numpy as np\n",
    "import pandas as pd\n",
    "from scipy import stats\n",
    "\n",
    "np.random.seed(0)\n",
    "\n",
    "data = (np.random.rand(30).round(2) * 10).reshape(-1, 3) # 10행 3열\n",
    "# 각 A, B, C에 대한 값\n",
    "df = pd.DataFrame(data=data, columns=['A','B','C'])\n",
    "df"
   ]
  },
  {
   "cell_type": "code",
   "execution_count": 14,
   "metadata": {},
   "outputs": [
    {
     "name": "stdout",
     "output_type": "stream",
     "text": [
      " F 통계량: 0.34, p-value: 0.713\n"
     ]
    }
   ],
   "source": [
    "# 분산분석은 f분포를 따르는 f 통계량을 사용, ANOVA(F 검정)\n",
    "# F검정에는 1개 범주와 2개 이상 범주에 사용되는 두가지 분류가 있다 -> f_oneway는 1가지 범주에 대한 함수\n",
    "one_way_anova = stats.f_oneway(df.A, df.B, df.C)\n",
    "print(\" F 통계량: {}, p-value: {}\".format(np.round(one_way_anova[0],2), np.round(one_way_anova[1], 3)))"
   ]
  }
 ],
 "metadata": {
  "kernelspec": {
   "display_name": "Python 3",
   "language": "python",
   "name": "python3"
  },
  "language_info": {
   "codemirror_mode": {
    "name": "ipython",
    "version": 3
   },
   "file_extension": ".py",
   "mimetype": "text/x-python",
   "name": "python",
   "nbconvert_exporter": "python",
   "pygments_lexer": "ipython3",
   "version": "3.7.3"
  }
 },
 "nbformat": 4,
 "nbformat_minor": 4
}
