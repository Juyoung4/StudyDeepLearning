{
 "cells": [
  {
   "cell_type": "markdown",
   "metadata": {},
   "source": [
    "### Norm 구현하기"
   ]
  },
  {
   "cell_type": "markdown",
   "metadata": {},
   "source": [
    "Python Numpy를 이용하여 Norm을 구현할 수 있다. <br>\n",
    "=> numpy에서 제공하는 linalg.norm 함수를 이용하여 Norm을 구한다!"
   ]
  },
  {
   "cell_type": "markdown",
   "metadata": {},
   "source": [
    "**numpy.linalg.norm(x, ord=None, axis=None, keepdims=False)**"
   ]
  },
  {
   "cell_type": "markdown",
   "metadata": {},
   "source": [
    "파라미터\n",
    "* x = array(배열) / axis가 none이면 x는 1차원 or 2차원이다\n",
    "* ord = 노름의 순서 => 차수\n",
    "* axis = axis가 정수이면, 벡터 Norm을 계산할 x의 축을 지정 => 연산 방향\n",
    "* keepdims = 이 값이 True이면 표준화된 축의 크기는 1이다. => 출력을 x와 동일한 차원 유지"
   ]
  },
  {
   "cell_type": "code",
   "execution_count": 11,
   "metadata": {},
   "outputs": [
    {
     "data": {
      "text/plain": [
       "array([[1, 8, 9],\n",
       "       [2, 5, 7],\n",
       "       [6, 2, 3],\n",
       "       [9, 2, 7],\n",
       "       [8, 8, 5]])"
      ]
     },
     "execution_count": 11,
     "metadata": {},
     "output_type": "execute_result"
    }
   ],
   "source": [
    "import numpy as np\n",
    "x = np.random.randint(low=1, high=10, size=(5,3))\n",
    "# 행 5, 열 3\n",
    "x"
   ]
  },
  {
   "cell_type": "code",
   "execution_count": 13,
   "metadata": {},
   "outputs": [
    {
     "name": "stdout",
     "output_type": "stream",
     "text": [
      "[18. 14. 11. 18. 21.]\n",
      "shape =  (5,)\n"
     ]
    }
   ],
   "source": [
    "L1_Norm = np.linalg.norm(x, axis=1, ord=1)\n",
    "print(L1_Norm)\n",
    "print(\"shape = \", L1_Norm.shape)"
   ]
  },
  {
   "cell_type": "code",
   "execution_count": 14,
   "metadata": {},
   "outputs": [
    {
     "name": "stdout",
     "output_type": "stream",
     "text": [
      "[12.08304597  8.83176087  7.         11.5758369  12.36931688]\n",
      "shape =  (5,)\n"
     ]
    }
   ],
   "source": [
    "L2_Norm = np.linalg.norm(x, axis=1, ord=2)\n",
    "print(L2_Norm)\n",
    "print(\"shape = \", L2_Norm.shape)"
   ]
  },
  {
   "cell_type": "markdown",
   "metadata": {},
   "source": [
    "### 행렬 tnsformation"
   ]
  },
  {
   "cell_type": "code",
   "execution_count": 2,
   "metadata": {},
   "outputs": [],
   "source": [
    "import numpy as np"
   ]
  },
  {
   "cell_type": "code",
   "execution_count": 4,
   "metadata": {},
   "outputs": [
    {
     "name": "stdout",
     "output_type": "stream",
     "text": [
      "[[-1  2]\n",
      " [ 1  1]]\n",
      "[3 2]\n",
      "transfortation :  [1 5]\n"
     ]
    }
   ],
   "source": [
    "A = np.array([[-1, 2], [1, 1]]) # 기본 기조 벡터를 A 벡터로 변경\n",
    "print(A)\n",
    "B = np.array([3,2])\n",
    "print(B)\n",
    "\n",
    "print(\"transfortation : \", np.matmul(A, B))"
   ]
  },
  {
   "cell_type": "code",
   "execution_count": 5,
   "metadata": {},
   "outputs": [
    {
     "name": "stdout",
     "output_type": "stream",
     "text": [
      "X축 기저 벡터 :  [-1  1]\n",
      "Y축 기저 벡터 :  [2 1]\n"
     ]
    }
   ],
   "source": [
    "print(\"X축 기저 벡터 : \", A[:, 0])\n",
    "print(\"Y축 기저 벡터 : \", A[:, 1])"
   ]
  },
  {
   "cell_type": "code",
   "execution_count": 7,
   "metadata": {},
   "outputs": [
    {
     "name": "stdout",
     "output_type": "stream",
     "text": [
      "[[-1  2]\n",
      " [ 1  1]]\n",
      "[[3 1]\n",
      " [2 3]]\n",
      "transfortation :  [[1 5]\n",
      " [5 4]]\n"
     ]
    }
   ],
   "source": [
    "A = np.array([[-1, 2], [1, 1]]) # 기본 기조 벡터를 A 벡터로 변경\n",
    "print(A)\n",
    "B = np.array([[3, 1], [2, 3]])\n",
    "print(B)\n",
    "\n",
    "print(\"transfortation : \", np.matmul(A, B))"
   ]
  },
  {
   "cell_type": "code",
   "execution_count": 9,
   "metadata": {},
   "outputs": [
    {
     "name": "stdout",
     "output_type": "stream",
     "text": [
      "[[0 0]\n",
      " [0 1]\n",
      " [0 2]\n",
      " [0 3]\n",
      " [0 4]\n",
      " [0 5]\n",
      " [1 0]\n",
      " [1 1]\n",
      " [1 2]\n",
      " [1 3]\n",
      " [1 4]\n",
      " [1 5]\n",
      " [2 0]\n",
      " [2 1]\n",
      " [2 2]\n",
      " [2 3]\n",
      " [2 4]\n",
      " [2 5]\n",
      " [3 0]\n",
      " [3 1]\n",
      " [3 2]\n",
      " [3 3]\n",
      " [3 4]\n",
      " [3 5]\n",
      " [4 0]\n",
      " [4 1]\n",
      " [4 2]\n",
      " [4 3]\n",
      " [4 4]\n",
      " [4 5]\n",
      " [5 0]\n",
      " [5 1]\n",
      " [5 2]\n",
      " [5 3]\n",
      " [5 4]\n",
      " [5 5]]\n",
      "[[0 0 0 0 0 0 1 1 1 1 1 1 2 2 2 2 2 2 3 3 3 3 3 3 4 4 4 4 4 4 5 5 5 5 5 5]\n",
      " [0 1 2 3 4 5 0 1 2 3 4 5 0 1 2 3 4 5 0 1 2 3 4 5 0 1 2 3 4 5 0 1 2 3 4 5]]\n"
     ]
    }
   ],
   "source": [
    "# 36개의 좌표들\n",
    "P = [(x,y) for x in range(6) for y in range(6)]\n",
    "P = np.array(P)\n",
    "print(P)\n",
    "print(P.T)"
   ]
  },
  {
   "cell_type": "code",
   "execution_count": 10,
   "metadata": {},
   "outputs": [
    {
     "name": "stdout",
     "output_type": "stream",
     "text": [
      "[[ 0  0]\n",
      " [ 1  2]\n",
      " [ 2  4]\n",
      " [ 3  6]\n",
      " [ 4  8]\n",
      " [ 5 10]\n",
      " [ 2  1]\n",
      " [ 3  3]\n",
      " [ 4  5]\n",
      " [ 5  7]\n",
      " [ 6  9]\n",
      " [ 7 11]\n",
      " [ 4  2]\n",
      " [ 5  4]\n",
      " [ 6  6]\n",
      " [ 7  8]\n",
      " [ 8 10]\n",
      " [ 9 12]\n",
      " [ 6  3]\n",
      " [ 7  5]\n",
      " [ 8  7]\n",
      " [ 9  9]\n",
      " [10 11]\n",
      " [11 13]\n",
      " [ 8  4]\n",
      " [ 9  6]\n",
      " [10  8]\n",
      " [11 10]\n",
      " [12 12]\n",
      " [13 14]\n",
      " [10  5]\n",
      " [11  7]\n",
      " [12  9]\n",
      " [13 11]\n",
      " [14 13]\n",
      " [15 15]]\n",
      "[[ 0  1  2  3  4  5  2  3  4  5  6  7  4  5  6  7  8  9  6  7  8  9 10 11\n",
      "   8  9 10 11 12 13 10 11 12 13 14 15]\n",
      " [ 0  2  4  6  8 10  1  3  5  7  9 11  2  4  6  8 10 12  3  5  7  9 11 13\n",
      "   4  6  8 10 12 14  5  7  9 11 13 15]]\n"
     ]
    }
   ],
   "source": [
    "# [2, 1], [1, 2] -> 기저 벡터\n",
    "A = np.array([[2, 1], [1, 2]])\n",
    "P2= np.matmul(P,A)\n",
    "print(P2)\n",
    "print(P2.T)"
   ]
  }
 ],
 "metadata": {
  "kernelspec": {
   "display_name": "Python 3",
   "language": "python",
   "name": "python3"
  },
  "language_info": {
   "codemirror_mode": {
    "name": "ipython",
    "version": 3
   },
   "file_extension": ".py",
   "mimetype": "text/x-python",
   "name": "python",
   "nbconvert_exporter": "python",
   "pygments_lexer": "ipython3",
   "version": "3.7.3"
  }
 },
 "nbformat": 4,
 "nbformat_minor": 4
}
