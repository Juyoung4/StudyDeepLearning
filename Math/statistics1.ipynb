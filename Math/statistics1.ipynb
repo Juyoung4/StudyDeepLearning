{
 "cells": [
  {
   "cell_type": "markdown",
   "metadata": {},
   "source": [
    "## 정규분포"
   ]
  },
  {
   "cell_type": "code",
   "execution_count": 3,
   "metadata": {},
   "outputs": [
    {
     "name": "stdout",
     "output_type": "stream",
     "text": [
      "z-score:  1.4\n",
      "학생이 75점 이상 받을 확률 : 8.12%\n"
     ]
    }
   ],
   "source": [
    "import numpy as np\n",
    "from scipy import stats\n",
    "\n",
    "x_bar, mu, sigma = 75, 56, 13.6\n",
    "\n",
    "# 표준 정규분포로 변형\n",
    "z = (x_bar - mu) / sigma\n",
    "print(\"z-score: \", np.round(z, 2))\n",
    "\n",
    "# cdf:누적 확률 분포 함수 => z-score에 대한 누적된 넓이를 구할 수 있다.\n",
    "p_val = 1 - stats.norm.cdf(z) # 1에서 빼는 이유는 표준 정규분포의 넓이는 1이기 때문\n",
    "print(\"학생이 {}점 이상 받을 확률 : {}%\".format(x_bar, np.round(p_val*100, 2)))"
   ]
  }
 ],
 "metadata": {
  "kernelspec": {
   "display_name": "Python 3",
   "language": "python",
   "name": "python3"
  },
  "language_info": {
   "codemirror_mode": {
    "name": "ipython",
    "version": 3
   },
   "file_extension": ".py",
   "mimetype": "text/x-python",
   "name": "python",
   "nbconvert_exporter": "python",
   "pygments_lexer": "ipython3",
   "version": "3.7.3"
  }
 },
 "nbformat": 4,
 "nbformat_minor": 4
}
