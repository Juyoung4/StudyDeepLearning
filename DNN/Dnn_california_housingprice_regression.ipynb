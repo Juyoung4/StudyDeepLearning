{
  "nbformat": 4,
  "nbformat_minor": 0,
  "metadata": {
    "accelerator": "GPU",
    "colab": {
      "name": "Day4-2. dnn_california_housingprice_regression_template.ipynb의 사본",
      "provenance": [],
      "collapsed_sections": [],
      "toc_visible": true
    },
    "kernelspec": {
      "display_name": "TensorFlow CPU",
      "language": "python",
      "name": "tesorflow2.0"
    },
    "language_info": {
      "codemirror_mode": {
        "name": "ipython",
        "version": 3
      },
      "file_extension": ".py",
      "mimetype": "text/x-python",
      "name": "python",
      "nbconvert_exporter": "python",
      "pygments_lexer": "ipython3",
      "version": "3.7.6"
    }
  },
  "cells": [
    {
      "cell_type": "markdown",
      "metadata": {
        "colab_type": "text",
        "id": "EIdT9iu_Z4Rb"
      },
      "source": [
        "# 캘리포니아 집값 예측하기: 회귀"
      ]
    },
    {
      "cell_type": "code",
      "metadata": {
        "id": "cxrbd3ph7ZCf",
        "colab_type": "code",
        "colab": {
          "base_uri": "https://localhost:8080/",
          "height": 126
        },
        "outputId": "237718c2-4218-48ce-e1a3-4852a23d2005"
      },
      "source": [
        "from google.colab import drive\n",
        "drive.mount('/content/drive')"
      ],
      "execution_count": 4,
      "outputs": [
        {
          "output_type": "stream",
          "text": [
            "Go to this URL in a browser: https://accounts.google.com/o/oauth2/auth?client_id=947318989803-6bn6qk8qdgf4n4g3pfee6491hc0brc4i.apps.googleusercontent.com&redirect_uri=urn%3aietf%3awg%3aoauth%3a2.0%3aoob&scope=email%20https%3a%2f%2fwww.googleapis.com%2fauth%2fdocs.test%20https%3a%2f%2fwww.googleapis.com%2fauth%2fdrive%20https%3a%2f%2fwww.googleapis.com%2fauth%2fdrive.photos.readonly%20https%3a%2f%2fwww.googleapis.com%2fauth%2fpeopleapi.readonly&response_type=code\n",
            "\n",
            "Enter your authorization code:\n",
            "··········\n",
            "Mounted at /content/drive\n"
          ],
          "name": "stdout"
        }
      ]
    },
    {
      "cell_type": "code",
      "metadata": {
        "colab_type": "code",
        "id": "moB4tpEHxKB3",
        "colab": {
          "base_uri": "https://localhost:8080/",
          "height": 234
        },
        "outputId": "d764bf73-030e-4b16-bbce-2702465f890c"
      },
      "source": [
        "# 산점도 행렬을 그리기 위해 seaborn 패키지를 설치합니다\n",
        "!pip install seaborn"
      ],
      "execution_count": 1,
      "outputs": [
        {
          "output_type": "stream",
          "text": [
            "Requirement already satisfied: seaborn in /usr/local/lib/python3.6/dist-packages (0.10.1)\n",
            "Requirement already satisfied: pandas>=0.22.0 in /usr/local/lib/python3.6/dist-packages (from seaborn) (1.0.5)\n",
            "Requirement already satisfied: matplotlib>=2.1.2 in /usr/local/lib/python3.6/dist-packages (from seaborn) (3.2.2)\n",
            "Requirement already satisfied: numpy>=1.13.3 in /usr/local/lib/python3.6/dist-packages (from seaborn) (1.18.5)\n",
            "Requirement already satisfied: scipy>=1.0.1 in /usr/local/lib/python3.6/dist-packages (from seaborn) (1.4.1)\n",
            "Requirement already satisfied: pytz>=2017.2 in /usr/local/lib/python3.6/dist-packages (from pandas>=0.22.0->seaborn) (2018.9)\n",
            "Requirement already satisfied: python-dateutil>=2.6.1 in /usr/local/lib/python3.6/dist-packages (from pandas>=0.22.0->seaborn) (2.8.1)\n",
            "Requirement already satisfied: pyparsing!=2.0.4,!=2.1.2,!=2.1.6,>=2.0.1 in /usr/local/lib/python3.6/dist-packages (from matplotlib>=2.1.2->seaborn) (2.4.7)\n",
            "Requirement already satisfied: cycler>=0.10 in /usr/local/lib/python3.6/dist-packages (from matplotlib>=2.1.2->seaborn) (0.10.0)\n",
            "Requirement already satisfied: kiwisolver>=1.0.1 in /usr/local/lib/python3.6/dist-packages (from matplotlib>=2.1.2->seaborn) (1.2.0)\n",
            "Requirement already satisfied: six>=1.5 in /usr/local/lib/python3.6/dist-packages (from python-dateutil>=2.6.1->pandas>=0.22.0->seaborn) (1.15.0)\n"
          ],
          "name": "stdout"
        }
      ]
    },
    {
      "cell_type": "code",
      "metadata": {
        "colab_type": "code",
        "id": "1rRo8oNqZ-Rj",
        "colab": {
          "base_uri": "https://localhost:8080/",
          "height": 90
        },
        "outputId": "7c783a81-43ec-4b37-f89a-4268390368b0"
      },
      "source": [
        "from __future__ import absolute_import, division, print_function, unicode_literals, unicode_literals\n",
        "\n",
        "import pathlib\n",
        "\n",
        "import matplotlib.pyplot as plt\n",
        "import pandas as pd\n",
        "import seaborn as sns\n",
        "\n",
        "try:\n",
        "  # Colab only\n",
        "  %tensorflow_version 2.x\n",
        "except Exception:\n",
        "    pass\n",
        "import tensorflow as tf\n",
        "from tensorflow import keras\n",
        "from tensorflow.keras import layers\n",
        "\n",
        "print(tf.__version__)"
      ],
      "execution_count": 2,
      "outputs": [
        {
          "output_type": "stream",
          "text": [
            "/usr/local/lib/python3.6/dist-packages/statsmodels/tools/_testing.py:19: FutureWarning: pandas.util.testing is deprecated. Use the functions in the public API at pandas.testing instead.\n",
            "  import pandas.util.testing as tm\n"
          ],
          "name": "stderr"
        },
        {
          "output_type": "stream",
          "text": [
            "2.3.0\n"
          ],
          "name": "stdout"
        }
      ]
    },
    {
      "cell_type": "code",
      "metadata": {
        "colab_type": "code",
        "id": "IREGnEO7QZZa",
        "colab": {}
      },
      "source": [
        "# 런타임에서 할당하는데 필요한 양만큼의 GPU 메모리를 할당\n",
        "gpus = tf.config.experimental.list_physical_devices('GPU')\n",
        "if gpus:\n",
        "  try:\n",
        "    tf.config.experimental.set_memory_growth(gpus[0], True)\n",
        "  except RuntimeError as e:\n",
        "    # 프로그램 시작시에 메모리 증가가 설정되어야만 합니다\n",
        "    print(e)"
      ],
      "execution_count": 3,
      "outputs": []
    },
    {
      "cell_type": "markdown",
      "metadata": {
        "colab_type": "text",
        "id": "F_72b0LCNbjx"
      },
      "source": [
        "### California Housing Prices 데이터셋 로딩"
      ]
    },
    {
      "cell_type": "code",
      "metadata": {
        "colab_type": "code",
        "id": "CiX2FI4gZtTt",
        "colab": {
          "base_uri": "https://localhost:8080/",
          "height": 210
        },
        "outputId": "97a755dc-9853-4df8-8705-8cdd9ffc96fb"
      },
      "source": [
        "dataset_path = \"/content/drive/My Drive/dataset/housing.csv\"\n",
        "raw_dataset = pd.read_csv(dataset_path)\n",
        "\n",
        "dataset = raw_dataset.copy()\n",
        "dataset.tail()"
      ],
      "execution_count": 5,
      "outputs": [
        {
          "output_type": "execute_result",
          "data": {
            "text/html": [
              "<div>\n",
              "<style scoped>\n",
              "    .dataframe tbody tr th:only-of-type {\n",
              "        vertical-align: middle;\n",
              "    }\n",
              "\n",
              "    .dataframe tbody tr th {\n",
              "        vertical-align: top;\n",
              "    }\n",
              "\n",
              "    .dataframe thead th {\n",
              "        text-align: right;\n",
              "    }\n",
              "</style>\n",
              "<table border=\"1\" class=\"dataframe\">\n",
              "  <thead>\n",
              "    <tr style=\"text-align: right;\">\n",
              "      <th></th>\n",
              "      <th>longitude</th>\n",
              "      <th>latitude</th>\n",
              "      <th>housing_median_age</th>\n",
              "      <th>total_rooms</th>\n",
              "      <th>total_bedrooms</th>\n",
              "      <th>population</th>\n",
              "      <th>households</th>\n",
              "      <th>median_income</th>\n",
              "      <th>median_house_value</th>\n",
              "      <th>ocean_proximity</th>\n",
              "    </tr>\n",
              "  </thead>\n",
              "  <tbody>\n",
              "    <tr>\n",
              "      <th>20635</th>\n",
              "      <td>-121.09</td>\n",
              "      <td>39.48</td>\n",
              "      <td>25</td>\n",
              "      <td>1665</td>\n",
              "      <td>374.0</td>\n",
              "      <td>845</td>\n",
              "      <td>330</td>\n",
              "      <td>1.5603</td>\n",
              "      <td>78100</td>\n",
              "      <td>INLAND</td>\n",
              "    </tr>\n",
              "    <tr>\n",
              "      <th>20636</th>\n",
              "      <td>-121.21</td>\n",
              "      <td>39.49</td>\n",
              "      <td>18</td>\n",
              "      <td>697</td>\n",
              "      <td>150.0</td>\n",
              "      <td>356</td>\n",
              "      <td>114</td>\n",
              "      <td>2.5568</td>\n",
              "      <td>77100</td>\n",
              "      <td>INLAND</td>\n",
              "    </tr>\n",
              "    <tr>\n",
              "      <th>20637</th>\n",
              "      <td>-121.22</td>\n",
              "      <td>39.43</td>\n",
              "      <td>17</td>\n",
              "      <td>2254</td>\n",
              "      <td>485.0</td>\n",
              "      <td>1007</td>\n",
              "      <td>433</td>\n",
              "      <td>1.7000</td>\n",
              "      <td>92300</td>\n",
              "      <td>INLAND</td>\n",
              "    </tr>\n",
              "    <tr>\n",
              "      <th>20638</th>\n",
              "      <td>-121.32</td>\n",
              "      <td>39.43</td>\n",
              "      <td>18</td>\n",
              "      <td>1860</td>\n",
              "      <td>409.0</td>\n",
              "      <td>741</td>\n",
              "      <td>349</td>\n",
              "      <td>1.8672</td>\n",
              "      <td>84700</td>\n",
              "      <td>INLAND</td>\n",
              "    </tr>\n",
              "    <tr>\n",
              "      <th>20639</th>\n",
              "      <td>-121.24</td>\n",
              "      <td>39.37</td>\n",
              "      <td>16</td>\n",
              "      <td>2785</td>\n",
              "      <td>616.0</td>\n",
              "      <td>1387</td>\n",
              "      <td>530</td>\n",
              "      <td>2.3886</td>\n",
              "      <td>89400</td>\n",
              "      <td>INLAND</td>\n",
              "    </tr>\n",
              "  </tbody>\n",
              "</table>\n",
              "</div>"
            ],
            "text/plain": [
              "       longitude  latitude  ...  median_house_value  ocean_proximity\n",
              "20635    -121.09     39.48  ...               78100           INLAND\n",
              "20636    -121.21     39.49  ...               77100           INLAND\n",
              "20637    -121.22     39.43  ...               92300           INLAND\n",
              "20638    -121.32     39.43  ...               84700           INLAND\n",
              "20639    -121.24     39.37  ...               89400           INLAND\n",
              "\n",
              "[5 rows x 10 columns]"
            ]
          },
          "metadata": {
            "tags": []
          },
          "execution_count": 5
        }
      ]
    },
    {
      "cell_type": "code",
      "metadata": {
        "colab_type": "code",
        "id": "Lnys0Z5TQZZk",
        "colab": {
          "base_uri": "https://localhost:8080/",
          "height": 322
        },
        "outputId": "a99aa90a-3e4c-4c74-c64b-d35a9bdff541"
      },
      "source": [
        "dataset.info()"
      ],
      "execution_count": 6,
      "outputs": [
        {
          "output_type": "stream",
          "text": [
            "<class 'pandas.core.frame.DataFrame'>\n",
            "RangeIndex: 20640 entries, 0 to 20639\n",
            "Data columns (total 10 columns):\n",
            " #   Column              Non-Null Count  Dtype  \n",
            "---  ------              --------------  -----  \n",
            " 0   longitude           20640 non-null  float64\n",
            " 1   latitude            20640 non-null  float64\n",
            " 2   housing_median_age  20640 non-null  int64  \n",
            " 3   total_rooms         20640 non-null  int64  \n",
            " 4   total_bedrooms      20433 non-null  float64\n",
            " 5   population          20640 non-null  int64  \n",
            " 6   households          20640 non-null  int64  \n",
            " 7   median_income       20640 non-null  float64\n",
            " 8   median_house_value  20640 non-null  int64  \n",
            " 9   ocean_proximity     20640 non-null  object \n",
            "dtypes: float64(4), int64(5), object(1)\n",
            "memory usage: 1.6+ MB\n"
          ],
          "name": "stdout"
        }
      ]
    },
    {
      "cell_type": "markdown",
      "metadata": {
        "colab_type": "text",
        "id": "12UDYWN6QZZm"
      },
      "source": [
        "### 데이터 분포 분석"
      ]
    },
    {
      "cell_type": "code",
      "metadata": {
        "colab_type": "code",
        "id": "IpaKjeInQZZn",
        "colab": {
          "base_uri": "https://localhost:8080/",
          "height": 939
        },
        "outputId": "0d2573a0-2f0b-454d-9944-377e00d72aaa"
      },
      "source": [
        "dataset.hist(bins=50, figsize=(20,15))\n",
        "#2번째, 5번째 그래프를 보면 한 부분이 유독 높이 솟아오른 그래프를 볼 수 있는데 이를 outlier라 한다"
      ],
      "execution_count": 7,
      "outputs": [
        {
          "output_type": "execute_result",
          "data": {
            "text/plain": [
              "array([[<matplotlib.axes._subplots.AxesSubplot object at 0x7f2f71406588>,\n",
              "        <matplotlib.axes._subplots.AxesSubplot object at 0x7f2f71361828>,\n",
              "        <matplotlib.axes._subplots.AxesSubplot object at 0x7f2f71399a90>],\n",
              "       [<matplotlib.axes._subplots.AxesSubplot object at 0x7f2f7134acf8>,\n",
              "        <matplotlib.axes._subplots.AxesSubplot object at 0x7f2f712fff60>,\n",
              "        <matplotlib.axes._subplots.AxesSubplot object at 0x7f2f712b4f60>],\n",
              "       [<matplotlib.axes._subplots.AxesSubplot object at 0x7f2f71272320>,\n",
              "        <matplotlib.axes._subplots.AxesSubplot object at 0x7f2f71225668>,\n",
              "        <matplotlib.axes._subplots.AxesSubplot object at 0x7f2f712256d8>]],\n",
              "      dtype=object)"
            ]
          },
          "metadata": {
            "tags": []
          },
          "execution_count": 7
        },
        {
          "output_type": "display_data",
          "data": {
            "image/png": "[encoded data removed]",
            "text/plain": [
              "<Figure size 1440x1080 with 9 Axes>"
            ]
          },
          "metadata": {
            "tags": [],
            "needs_background": "light"
          }
        }
      ]
    },
    {
      "cell_type": "code",
      "metadata": {
        "colab_type": "code",
        "id": "7TvMxSMzQZZp",
        "colab": {
          "base_uri": "https://localhost:8080/",
          "height": 306
        },
        "outputId": "efa61c81-80b2-4cd1-a176-8dcfd284200b"
      },
      "source": [
        "#데이터 분포 분석\n",
        "dataset_stats = dataset.describe()\n",
        "dataset_stats = dataset_stats.transpose()\n",
        "dataset_stats"
      ],
      "execution_count": 8,
      "outputs": [
        {
          "output_type": "execute_result",
          "data": {
            "text/html": [
              "<div>\n",
              "<style scoped>\n",
              "    .dataframe tbody tr th:only-of-type {\n",
              "        vertical-align: middle;\n",
              "    }\n",
              "\n",
              "    .dataframe tbody tr th {\n",
              "        vertical-align: top;\n",
              "    }\n",
              "\n",
              "    .dataframe thead th {\n",
              "        text-align: right;\n",
              "    }\n",
              "</style>\n",
              "<table border=\"1\" class=\"dataframe\">\n",
              "  <thead>\n",
              "    <tr style=\"text-align: right;\">\n",
              "      <th></th>\n",
              "      <th>count</th>\n",
              "      <th>mean</th>\n",
              "      <th>std</th>\n",
              "      <th>min</th>\n",
              "      <th>25%</th>\n",
              "      <th>50%</th>\n",
              "      <th>75%</th>\n",
              "      <th>max</th>\n",
              "    </tr>\n",
              "  </thead>\n",
              "  <tbody>\n",
              "    <tr>\n",
              "      <th>longitude</th>\n",
              "      <td>20640.0</td>\n",
              "      <td>-119.569704</td>\n",
              "      <td>2.003532</td>\n",
              "      <td>-124.3500</td>\n",
              "      <td>-121.8000</td>\n",
              "      <td>-118.4900</td>\n",
              "      <td>-118.01000</td>\n",
              "      <td>-114.3100</td>\n",
              "    </tr>\n",
              "    <tr>\n",
              "      <th>latitude</th>\n",
              "      <td>20640.0</td>\n",
              "      <td>35.631861</td>\n",
              "      <td>2.135952</td>\n",
              "      <td>32.5400</td>\n",
              "      <td>33.9300</td>\n",
              "      <td>34.2600</td>\n",
              "      <td>37.71000</td>\n",
              "      <td>41.9500</td>\n",
              "    </tr>\n",
              "    <tr>\n",
              "      <th>housing_median_age</th>\n",
              "      <td>20640.0</td>\n",
              "      <td>28.639486</td>\n",
              "      <td>12.585558</td>\n",
              "      <td>1.0000</td>\n",
              "      <td>18.0000</td>\n",
              "      <td>29.0000</td>\n",
              "      <td>37.00000</td>\n",
              "      <td>52.0000</td>\n",
              "    </tr>\n",
              "    <tr>\n",
              "      <th>total_rooms</th>\n",
              "      <td>20640.0</td>\n",
              "      <td>2635.763081</td>\n",
              "      <td>2181.615252</td>\n",
              "      <td>2.0000</td>\n",
              "      <td>1447.7500</td>\n",
              "      <td>2127.0000</td>\n",
              "      <td>3148.00000</td>\n",
              "      <td>39320.0000</td>\n",
              "    </tr>\n",
              "    <tr>\n",
              "      <th>total_bedrooms</th>\n",
              "      <td>20433.0</td>\n",
              "      <td>537.870553</td>\n",
              "      <td>421.385070</td>\n",
              "      <td>1.0000</td>\n",
              "      <td>296.0000</td>\n",
              "      <td>435.0000</td>\n",
              "      <td>647.00000</td>\n",
              "      <td>6445.0000</td>\n",
              "    </tr>\n",
              "    <tr>\n",
              "      <th>population</th>\n",
              "      <td>20640.0</td>\n",
              "      <td>1425.476744</td>\n",
              "      <td>1132.462122</td>\n",
              "      <td>3.0000</td>\n",
              "      <td>787.0000</td>\n",
              "      <td>1166.0000</td>\n",
              "      <td>1725.00000</td>\n",
              "      <td>35682.0000</td>\n",
              "    </tr>\n",
              "    <tr>\n",
              "      <th>households</th>\n",
              "      <td>20640.0</td>\n",
              "      <td>499.539680</td>\n",
              "      <td>382.329753</td>\n",
              "      <td>1.0000</td>\n",
              "      <td>280.0000</td>\n",
              "      <td>409.0000</td>\n",
              "      <td>605.00000</td>\n",
              "      <td>6082.0000</td>\n",
              "    </tr>\n",
              "    <tr>\n",
              "      <th>median_income</th>\n",
              "      <td>20640.0</td>\n",
              "      <td>3.870671</td>\n",
              "      <td>1.899822</td>\n",
              "      <td>0.4999</td>\n",
              "      <td>2.5634</td>\n",
              "      <td>3.5348</td>\n",
              "      <td>4.74325</td>\n",
              "      <td>15.0001</td>\n",
              "    </tr>\n",
              "    <tr>\n",
              "      <th>median_house_value</th>\n",
              "      <td>20640.0</td>\n",
              "      <td>206855.816909</td>\n",
              "      <td>115395.615874</td>\n",
              "      <td>14999.0000</td>\n",
              "      <td>119600.0000</td>\n",
              "      <td>179700.0000</td>\n",
              "      <td>264725.00000</td>\n",
              "      <td>500001.0000</td>\n",
              "    </tr>\n",
              "  </tbody>\n",
              "</table>\n",
              "</div>"
            ],
            "text/plain": [
              "                      count           mean  ...           75%          max\n",
              "longitude           20640.0    -119.569704  ...    -118.01000    -114.3100\n",
              "latitude            20640.0      35.631861  ...      37.71000      41.9500\n",
              "housing_median_age  20640.0      28.639486  ...      37.00000      52.0000\n",
              "total_rooms         20640.0    2635.763081  ...    3148.00000   39320.0000\n",
              "total_bedrooms      20433.0     537.870553  ...     647.00000    6445.0000\n",
              "population          20640.0    1425.476744  ...    1725.00000   35682.0000\n",
              "households          20640.0     499.539680  ...     605.00000    6082.0000\n",
              "median_income       20640.0       3.870671  ...       4.74325      15.0001\n",
              "median_house_value  20640.0  206855.816909  ...  264725.00000  500001.0000\n",
              "\n",
              "[9 rows x 8 columns]"
            ]
          },
          "metadata": {
            "tags": []
          },
          "execution_count": 8
        }
      ]
    },
    {
      "cell_type": "code",
      "metadata": {
        "colab_type": "code",
        "id": "sszcoY_cQZZs",
        "colab": {
          "base_uri": "https://localhost:8080/",
          "height": 514
        },
        "outputId": "1dfb9472-1d27-4de6-fcdb-fa40536352e3"
      },
      "source": [
        "plt.figure(figsize=(12,8))\n",
        "sns.scatterplot(x='longitude', y='latitude',data=dataset,hue='median_house_value')"
      ],
      "execution_count": 9,
      "outputs": [
        {
          "output_type": "execute_result",
          "data": {
            "text/plain": [
              "<matplotlib.axes._subplots.AxesSubplot at 0x7f2f798af320>"
            ]
          },
          "metadata": {
            "tags": []
          },
          "execution_count": 9
        },
        {
          "output_type": "display_data",
          "data": {
            "image/png": "[encoded data removed]",
            "text/plain": [
              "<Figure size 864x576 with 1 Axes>"
            ]
          },
          "metadata": {
            "tags": [],
            "needs_background": "light"
          }
        }
      ]
    },
    {
      "cell_type": "code",
      "metadata": {
        "colab_type": "code",
        "id": "cpG588bbQZZu",
        "colab": {
          "base_uri": "https://localhost:8080/",
          "height": 326
        },
        "outputId": "c786bf37-7217-4dd6-b0e3-c5fcfcc57ad7"
      },
      "source": [
        "dataset.corr()\n",
        "# corr함수는 Pearson Correlation Coefficient를 구함 -> 그룹 별로 변수 간 상관 관계 분석"
      ],
      "execution_count": 10,
      "outputs": [
        {
          "output_type": "execute_result",
          "data": {
            "text/html": [
              "<div>\n",
              "<style scoped>\n",
              "    .dataframe tbody tr th:only-of-type {\n",
              "        vertical-align: middle;\n",
              "    }\n",
              "\n",
              "    .dataframe tbody tr th {\n",
              "        vertical-align: top;\n",
              "    }\n",
              "\n",
              "    .dataframe thead th {\n",
              "        text-align: right;\n",
              "    }\n",
              "</style>\n",
              "<table border=\"1\" class=\"dataframe\">\n",
              "  <thead>\n",
              "    <tr style=\"text-align: right;\">\n",
              "      <th></th>\n",
              "      <th>longitude</th>\n",
              "      <th>latitude</th>\n",
              "      <th>housing_median_age</th>\n",
              "      <th>total_rooms</th>\n",
              "      <th>total_bedrooms</th>\n",
              "      <th>population</th>\n",
              "      <th>households</th>\n",
              "      <th>median_income</th>\n",
              "      <th>median_house_value</th>\n",
              "    </tr>\n",
              "  </thead>\n",
              "  <tbody>\n",
              "    <tr>\n",
              "      <th>longitude</th>\n",
              "      <td>1.000000</td>\n",
              "      <td>-0.924664</td>\n",
              "      <td>-0.108197</td>\n",
              "      <td>0.044568</td>\n",
              "      <td>0.069608</td>\n",
              "      <td>0.099773</td>\n",
              "      <td>0.055310</td>\n",
              "      <td>-0.015176</td>\n",
              "      <td>-0.045967</td>\n",
              "    </tr>\n",
              "    <tr>\n",
              "      <th>latitude</th>\n",
              "      <td>-0.924664</td>\n",
              "      <td>1.000000</td>\n",
              "      <td>0.011173</td>\n",
              "      <td>-0.036100</td>\n",
              "      <td>-0.066983</td>\n",
              "      <td>-0.108785</td>\n",
              "      <td>-0.071035</td>\n",
              "      <td>-0.079809</td>\n",
              "      <td>-0.144160</td>\n",
              "    </tr>\n",
              "    <tr>\n",
              "      <th>housing_median_age</th>\n",
              "      <td>-0.108197</td>\n",
              "      <td>0.011173</td>\n",
              "      <td>1.000000</td>\n",
              "      <td>-0.361262</td>\n",
              "      <td>-0.320451</td>\n",
              "      <td>-0.296244</td>\n",
              "      <td>-0.302916</td>\n",
              "      <td>-0.119034</td>\n",
              "      <td>0.105623</td>\n",
              "    </tr>\n",
              "    <tr>\n",
              "      <th>total_rooms</th>\n",
              "      <td>0.044568</td>\n",
              "      <td>-0.036100</td>\n",
              "      <td>-0.361262</td>\n",
              "      <td>1.000000</td>\n",
              "      <td>0.930380</td>\n",
              "      <td>0.857126</td>\n",
              "      <td>0.918484</td>\n",
              "      <td>0.198050</td>\n",
              "      <td>0.134153</td>\n",
              "    </tr>\n",
              "    <tr>\n",
              "      <th>total_bedrooms</th>\n",
              "      <td>0.069608</td>\n",
              "      <td>-0.066983</td>\n",
              "      <td>-0.320451</td>\n",
              "      <td>0.930380</td>\n",
              "      <td>1.000000</td>\n",
              "      <td>0.877747</td>\n",
              "      <td>0.979728</td>\n",
              "      <td>-0.007723</td>\n",
              "      <td>0.049686</td>\n",
              "    </tr>\n",
              "    <tr>\n",
              "      <th>population</th>\n",
              "      <td>0.099773</td>\n",
              "      <td>-0.108785</td>\n",
              "      <td>-0.296244</td>\n",
              "      <td>0.857126</td>\n",
              "      <td>0.877747</td>\n",
              "      <td>1.000000</td>\n",
              "      <td>0.907222</td>\n",
              "      <td>0.004834</td>\n",
              "      <td>-0.024650</td>\n",
              "    </tr>\n",
              "    <tr>\n",
              "      <th>households</th>\n",
              "      <td>0.055310</td>\n",
              "      <td>-0.071035</td>\n",
              "      <td>-0.302916</td>\n",
              "      <td>0.918484</td>\n",
              "      <td>0.979728</td>\n",
              "      <td>0.907222</td>\n",
              "      <td>1.000000</td>\n",
              "      <td>0.013033</td>\n",
              "      <td>0.065843</td>\n",
              "    </tr>\n",
              "    <tr>\n",
              "      <th>median_income</th>\n",
              "      <td>-0.015176</td>\n",
              "      <td>-0.079809</td>\n",
              "      <td>-0.119034</td>\n",
              "      <td>0.198050</td>\n",
              "      <td>-0.007723</td>\n",
              "      <td>0.004834</td>\n",
              "      <td>0.013033</td>\n",
              "      <td>1.000000</td>\n",
              "      <td>0.688075</td>\n",
              "    </tr>\n",
              "    <tr>\n",
              "      <th>median_house_value</th>\n",
              "      <td>-0.045967</td>\n",
              "      <td>-0.144160</td>\n",
              "      <td>0.105623</td>\n",
              "      <td>0.134153</td>\n",
              "      <td>0.049686</td>\n",
              "      <td>-0.024650</td>\n",
              "      <td>0.065843</td>\n",
              "      <td>0.688075</td>\n",
              "      <td>1.000000</td>\n",
              "    </tr>\n",
              "  </tbody>\n",
              "</table>\n",
              "</div>"
            ],
            "text/plain": [
              "                    longitude  latitude  ...  median_income  median_house_value\n",
              "longitude            1.000000 -0.924664  ...      -0.015176           -0.045967\n",
              "latitude            -0.924664  1.000000  ...      -0.079809           -0.144160\n",
              "housing_median_age  -0.108197  0.011173  ...      -0.119034            0.105623\n",
              "total_rooms          0.044568 -0.036100  ...       0.198050            0.134153\n",
              "total_bedrooms       0.069608 -0.066983  ...      -0.007723            0.049686\n",
              "population           0.099773 -0.108785  ...       0.004834           -0.024650\n",
              "households           0.055310 -0.071035  ...       0.013033            0.065843\n",
              "median_income       -0.015176 -0.079809  ...       1.000000            0.688075\n",
              "median_house_value  -0.045967 -0.144160  ...       0.688075            1.000000\n",
              "\n",
              "[9 rows x 9 columns]"
            ]
          },
          "metadata": {
            "tags": []
          },
          "execution_count": 10
        }
      ]
    },
    {
      "cell_type": "code",
      "metadata": {
        "colab_type": "code",
        "id": "Wd100x-dQZZw",
        "colab": {
          "base_uri": "https://localhost:8080/",
          "height": 601
        },
        "outputId": "27c1a6b8-ad48-4b48-d348-e2f84c8863e1"
      },
      "source": [
        "plt.figure(figsize=(10,8))\n",
        "sns.heatmap(dataset.corr(), annot=True)"
      ],
      "execution_count": 11,
      "outputs": [
        {
          "output_type": "execute_result",
          "data": {
            "text/plain": [
              "<matplotlib.axes._subplots.AxesSubplot at 0x7f2fceaf19e8>"
            ]
          },
          "metadata": {
            "tags": []
          },
          "execution_count": 11
        },
        {
          "output_type": "display_data",
          "data": {
            "image/png": "[encoded data removed]",
            "text/plain": [
              "<Figure size 720x576 with 2 Axes>"
            ]
          },
          "metadata": {
            "tags": [],
            "needs_background": "light"
          }
        }
      ]
    },
    {
      "cell_type": "markdown",
      "metadata": {
        "colab_type": "text",
        "id": "3MWuJTKEDM-f"
      },
      "source": [
        "### 누락 데이터 삭제"
      ]
    },
    {
      "cell_type": "code",
      "metadata": {
        "colab_type": "code",
        "id": "JEJHhN65a2VV",
        "colab": {
          "base_uri": "https://localhost:8080/",
          "height": 718
        },
        "outputId": "b224976a-ecf6-4287-de5e-fa7a75b56fc2"
      },
      "source": [
        "# 먼저 누락 데이터를 확인하고 제거한다\n",
        "print(dataset.isna()) #누락 데이터 조회\n",
        "print(dataset.isna().sum())# 누락 데이터 개수 합산 -> 누락 데이터는 total_bedrooms column에서 207건 발견해야함\n",
        "dataset = dataset.dropna()# 누락 데이터 제거\n",
        "print(dataset) \n",
        "# 원래 [20640 rows x 10 columns] -> [20433 rows x 10 columns] 207 제거"
      ],
      "execution_count": 12,
      "outputs": [
        {
          "output_type": "stream",
          "text": [
            "       longitude  latitude  ...  median_house_value  ocean_proximity\n",
            "0          False     False  ...               False            False\n",
            "1          False     False  ...               False            False\n",
            "2          False     False  ...               False            False\n",
            "3          False     False  ...               False            False\n",
            "4          False     False  ...               False            False\n",
            "...          ...       ...  ...                 ...              ...\n",
            "20635      False     False  ...               False            False\n",
            "20636      False     False  ...               False            False\n",
            "20637      False     False  ...               False            False\n",
            "20638      False     False  ...               False            False\n",
            "20639      False     False  ...               False            False\n",
            "\n",
            "[20640 rows x 10 columns]\n",
            "longitude               0\n",
            "latitude                0\n",
            "housing_median_age      0\n",
            "total_rooms             0\n",
            "total_bedrooms        207\n",
            "population              0\n",
            "households              0\n",
            "median_income           0\n",
            "median_house_value      0\n",
            "ocean_proximity         0\n",
            "dtype: int64\n",
            "       longitude  latitude  ...  median_house_value  ocean_proximity\n",
            "0        -122.23     37.88  ...              452600         NEAR BAY\n",
            "1        -122.22     37.86  ...              358500         NEAR BAY\n",
            "2        -122.24     37.85  ...              352100         NEAR BAY\n",
            "3        -122.25     37.85  ...              341300         NEAR BAY\n",
            "4        -122.25     37.85  ...              342200         NEAR BAY\n",
            "...          ...       ...  ...                 ...              ...\n",
            "20635    -121.09     39.48  ...               78100           INLAND\n",
            "20636    -121.21     39.49  ...               77100           INLAND\n",
            "20637    -121.22     39.43  ...               92300           INLAND\n",
            "20638    -121.32     39.43  ...               84700           INLAND\n",
            "20639    -121.24     39.37  ...               89400           INLAND\n",
            "\n",
            "[20433 rows x 10 columns]\n"
          ],
          "name": "stdout"
        }
      ]
    },
    {
      "cell_type": "markdown",
      "metadata": {
        "id": "WKA9Z2cQV5vU",
        "colab_type": "text"
      },
      "source": [
        "### 범주형 데이터 변환"
      ]
    },
    {
      "cell_type": "code",
      "metadata": {
        "id": "oX-utmwjV5vW",
        "colab_type": "code",
        "colab": {
          "base_uri": "https://localhost:8080/",
          "height": 124
        },
        "outputId": "bc9d6b29-37a4-4cb8-d4c4-b212698019b5"
      },
      "source": [
        "# ocean_proximity column을 5개 column(NEAR BAY, <1H OCEAN , INLAND, NEAR OCEAN, ISLAND)으로 변경\n",
        "# One-Hot Vector 형태의 5개 column 생성\n",
        "\n",
        "ocean_proximity = dataset.pop('ocean_proximity')\n",
        "ocean_proximity.value_counts()"
      ],
      "execution_count": 13,
      "outputs": [
        {
          "output_type": "execute_result",
          "data": {
            "text/plain": [
              "<1H OCEAN     9034\n",
              "INLAND        6496\n",
              "NEAR OCEAN    2628\n",
              "NEAR BAY      2270\n",
              "ISLAND           5\n",
              "Name: ocean_proximity, dtype: int64"
            ]
          },
          "metadata": {
            "tags": []
          },
          "execution_count": 13
        }
      ]
    },
    {
      "cell_type": "code",
      "metadata": {
        "id": "gDxURMKJenL5",
        "colab_type": "code",
        "colab": {}
      },
      "source": [
        "dataset['<1H OCEAN'] = (ocean_proximity == \"<1H OCEAN\")*1.0\n",
        "dataset['INLAND'] = (ocean_proximity == \"INLAND\")*1.0\n",
        "dataset['NEAR OCEAN'] = (ocean_proximity == \"NEAR OCEAN\")*1.0\n",
        "dataset['NEAR BAY'] = (ocean_proximity == \"NEAR BAY\")*1.0\n",
        "dataset['ISLAND'] = (ocean_proximity == \"ISLAND\")*1.0"
      ],
      "execution_count": 14,
      "outputs": []
    },
    {
      "cell_type": "code",
      "metadata": {
        "id": "eRNQOmaOfz_k",
        "colab_type": "code",
        "colab": {
          "base_uri": "https://localhost:8080/",
          "height": 227
        },
        "outputId": "79dd9812-881a-476d-9217-2b4026cb2476"
      },
      "source": [
        "dataset.head()"
      ],
      "execution_count": 15,
      "outputs": [
        {
          "output_type": "execute_result",
          "data": {
            "text/html": [
              "<div>\n",
              "<style scoped>\n",
              "    .dataframe tbody tr th:only-of-type {\n",
              "        vertical-align: middle;\n",
              "    }\n",
              "\n",
              "    .dataframe tbody tr th {\n",
              "        vertical-align: top;\n",
              "    }\n",
              "\n",
              "    .dataframe thead th {\n",
              "        text-align: right;\n",
              "    }\n",
              "</style>\n",
              "<table border=\"1\" class=\"dataframe\">\n",
              "  <thead>\n",
              "    <tr style=\"text-align: right;\">\n",
              "      <th></th>\n",
              "      <th>longitude</th>\n",
              "      <th>latitude</th>\n",
              "      <th>housing_median_age</th>\n",
              "      <th>total_rooms</th>\n",
              "      <th>total_bedrooms</th>\n",
              "      <th>population</th>\n",
              "      <th>households</th>\n",
              "      <th>median_income</th>\n",
              "      <th>median_house_value</th>\n",
              "      <th>&lt;1H OCEAN</th>\n",
              "      <th>INLAND</th>\n",
              "      <th>NEAR OCEAN</th>\n",
              "      <th>NEAR BAY</th>\n",
              "      <th>ISLAND</th>\n",
              "    </tr>\n",
              "  </thead>\n",
              "  <tbody>\n",
              "    <tr>\n",
              "      <th>0</th>\n",
              "      <td>-122.23</td>\n",
              "      <td>37.88</td>\n",
              "      <td>41</td>\n",
              "      <td>880</td>\n",
              "      <td>129.0</td>\n",
              "      <td>322</td>\n",
              "      <td>126</td>\n",
              "      <td>8.3252</td>\n",
              "      <td>452600</td>\n",
              "      <td>0.0</td>\n",
              "      <td>0.0</td>\n",
              "      <td>0.0</td>\n",
              "      <td>1.0</td>\n",
              "      <td>0.0</td>\n",
              "    </tr>\n",
              "    <tr>\n",
              "      <th>1</th>\n",
              "      <td>-122.22</td>\n",
              "      <td>37.86</td>\n",
              "      <td>21</td>\n",
              "      <td>7099</td>\n",
              "      <td>1106.0</td>\n",
              "      <td>2401</td>\n",
              "      <td>1138</td>\n",
              "      <td>8.3014</td>\n",
              "      <td>358500</td>\n",
              "      <td>0.0</td>\n",
              "      <td>0.0</td>\n",
              "      <td>0.0</td>\n",
              "      <td>1.0</td>\n",
              "      <td>0.0</td>\n",
              "    </tr>\n",
              "    <tr>\n",
              "      <th>2</th>\n",
              "      <td>-122.24</td>\n",
              "      <td>37.85</td>\n",
              "      <td>52</td>\n",
              "      <td>1467</td>\n",
              "      <td>190.0</td>\n",
              "      <td>496</td>\n",
              "      <td>177</td>\n",
              "      <td>7.2574</td>\n",
              "      <td>352100</td>\n",
              "      <td>0.0</td>\n",
              "      <td>0.0</td>\n",
              "      <td>0.0</td>\n",
              "      <td>1.0</td>\n",
              "      <td>0.0</td>\n",
              "    </tr>\n",
              "    <tr>\n",
              "      <th>3</th>\n",
              "      <td>-122.25</td>\n",
              "      <td>37.85</td>\n",
              "      <td>52</td>\n",
              "      <td>1274</td>\n",
              "      <td>235.0</td>\n",
              "      <td>558</td>\n",
              "      <td>219</td>\n",
              "      <td>5.6431</td>\n",
              "      <td>341300</td>\n",
              "      <td>0.0</td>\n",
              "      <td>0.0</td>\n",
              "      <td>0.0</td>\n",
              "      <td>1.0</td>\n",
              "      <td>0.0</td>\n",
              "    </tr>\n",
              "    <tr>\n",
              "      <th>4</th>\n",
              "      <td>-122.25</td>\n",
              "      <td>37.85</td>\n",
              "      <td>52</td>\n",
              "      <td>1627</td>\n",
              "      <td>280.0</td>\n",
              "      <td>565</td>\n",
              "      <td>259</td>\n",
              "      <td>3.8462</td>\n",
              "      <td>342200</td>\n",
              "      <td>0.0</td>\n",
              "      <td>0.0</td>\n",
              "      <td>0.0</td>\n",
              "      <td>1.0</td>\n",
              "      <td>0.0</td>\n",
              "    </tr>\n",
              "  </tbody>\n",
              "</table>\n",
              "</div>"
            ],
            "text/plain": [
              "   longitude  latitude  housing_median_age  ...  NEAR OCEAN  NEAR BAY  ISLAND\n",
              "0    -122.23     37.88                  41  ...         0.0       1.0     0.0\n",
              "1    -122.22     37.86                  21  ...         0.0       1.0     0.0\n",
              "2    -122.24     37.85                  52  ...         0.0       1.0     0.0\n",
              "3    -122.25     37.85                  52  ...         0.0       1.0     0.0\n",
              "4    -122.25     37.85                  52  ...         0.0       1.0     0.0\n",
              "\n",
              "[5 rows x 14 columns]"
            ]
          },
          "metadata": {
            "tags": []
          },
          "execution_count": 15
        }
      ]
    },
    {
      "cell_type": "code",
      "metadata": {
        "id": "m8RkxTuXf2o0",
        "colab_type": "code",
        "colab": {
          "base_uri": "https://localhost:8080/",
          "height": 227
        },
        "outputId": "8f05d3c8-8f17-4efc-a244-a348d07fbf54"
      },
      "source": [
        "dataset.tail()"
      ],
      "execution_count": 16,
      "outputs": [
        {
          "output_type": "execute_result",
          "data": {
            "text/html": [
              "<div>\n",
              "<style scoped>\n",
              "    .dataframe tbody tr th:only-of-type {\n",
              "        vertical-align: middle;\n",
              "    }\n",
              "\n",
              "    .dataframe tbody tr th {\n",
              "        vertical-align: top;\n",
              "    }\n",
              "\n",
              "    .dataframe thead th {\n",
              "        text-align: right;\n",
              "    }\n",
              "</style>\n",
              "<table border=\"1\" class=\"dataframe\">\n",
              "  <thead>\n",
              "    <tr style=\"text-align: right;\">\n",
              "      <th></th>\n",
              "      <th>longitude</th>\n",
              "      <th>latitude</th>\n",
              "      <th>housing_median_age</th>\n",
              "      <th>total_rooms</th>\n",
              "      <th>total_bedrooms</th>\n",
              "      <th>population</th>\n",
              "      <th>households</th>\n",
              "      <th>median_income</th>\n",
              "      <th>median_house_value</th>\n",
              "      <th>&lt;1H OCEAN</th>\n",
              "      <th>INLAND</th>\n",
              "      <th>NEAR OCEAN</th>\n",
              "      <th>NEAR BAY</th>\n",
              "      <th>ISLAND</th>\n",
              "    </tr>\n",
              "  </thead>\n",
              "  <tbody>\n",
              "    <tr>\n",
              "      <th>20635</th>\n",
              "      <td>-121.09</td>\n",
              "      <td>39.48</td>\n",
              "      <td>25</td>\n",
              "      <td>1665</td>\n",
              "      <td>374.0</td>\n",
              "      <td>845</td>\n",
              "      <td>330</td>\n",
              "      <td>1.5603</td>\n",
              "      <td>78100</td>\n",
              "      <td>0.0</td>\n",
              "      <td>1.0</td>\n",
              "      <td>0.0</td>\n",
              "      <td>0.0</td>\n",
              "      <td>0.0</td>\n",
              "    </tr>\n",
              "    <tr>\n",
              "      <th>20636</th>\n",
              "      <td>-121.21</td>\n",
              "      <td>39.49</td>\n",
              "      <td>18</td>\n",
              "      <td>697</td>\n",
              "      <td>150.0</td>\n",
              "      <td>356</td>\n",
              "      <td>114</td>\n",
              "      <td>2.5568</td>\n",
              "      <td>77100</td>\n",
              "      <td>0.0</td>\n",
              "      <td>1.0</td>\n",
              "      <td>0.0</td>\n",
              "      <td>0.0</td>\n",
              "      <td>0.0</td>\n",
              "    </tr>\n",
              "    <tr>\n",
              "      <th>20637</th>\n",
              "      <td>-121.22</td>\n",
              "      <td>39.43</td>\n",
              "      <td>17</td>\n",
              "      <td>2254</td>\n",
              "      <td>485.0</td>\n",
              "      <td>1007</td>\n",
              "      <td>433</td>\n",
              "      <td>1.7000</td>\n",
              "      <td>92300</td>\n",
              "      <td>0.0</td>\n",
              "      <td>1.0</td>\n",
              "      <td>0.0</td>\n",
              "      <td>0.0</td>\n",
              "      <td>0.0</td>\n",
              "    </tr>\n",
              "    <tr>\n",
              "      <th>20638</th>\n",
              "      <td>-121.32</td>\n",
              "      <td>39.43</td>\n",
              "      <td>18</td>\n",
              "      <td>1860</td>\n",
              "      <td>409.0</td>\n",
              "      <td>741</td>\n",
              "      <td>349</td>\n",
              "      <td>1.8672</td>\n",
              "      <td>84700</td>\n",
              "      <td>0.0</td>\n",
              "      <td>1.0</td>\n",
              "      <td>0.0</td>\n",
              "      <td>0.0</td>\n",
              "      <td>0.0</td>\n",
              "    </tr>\n",
              "    <tr>\n",
              "      <th>20639</th>\n",
              "      <td>-121.24</td>\n",
              "      <td>39.37</td>\n",
              "      <td>16</td>\n",
              "      <td>2785</td>\n",
              "      <td>616.0</td>\n",
              "      <td>1387</td>\n",
              "      <td>530</td>\n",
              "      <td>2.3886</td>\n",
              "      <td>89400</td>\n",
              "      <td>0.0</td>\n",
              "      <td>1.0</td>\n",
              "      <td>0.0</td>\n",
              "      <td>0.0</td>\n",
              "      <td>0.0</td>\n",
              "    </tr>\n",
              "  </tbody>\n",
              "</table>\n",
              "</div>"
            ],
            "text/plain": [
              "       longitude  latitude  housing_median_age  ...  NEAR OCEAN  NEAR BAY  ISLAND\n",
              "20635    -121.09     39.48                  25  ...         0.0       0.0     0.0\n",
              "20636    -121.21     39.49                  18  ...         0.0       0.0     0.0\n",
              "20637    -121.22     39.43                  17  ...         0.0       0.0     0.0\n",
              "20638    -121.32     39.43                  18  ...         0.0       0.0     0.0\n",
              "20639    -121.24     39.37                  16  ...         0.0       0.0     0.0\n",
              "\n",
              "[5 rows x 14 columns]"
            ]
          },
          "metadata": {
            "tags": []
          },
          "execution_count": 16
        }
      ]
    },
    {
      "cell_type": "code",
      "metadata": {
        "id": "k8EFtTDu76gZ",
        "colab_type": "code",
        "colab": {}
      },
      "source": [
        "# 교수님 4-4 pdf binary column 변환 코드\n",
        "ocean_proximity = dataset.pop('ocean_proximity')\n",
        "ocean_proximity = dataset['ocean_proximity']\n",
        "ocean_proximity.unique()\n",
        "\n",
        "for proximity in ocean_proximity.unique():\n",
        "  dataset[proximity] = (ocean_proximity == proximity)*1.0\n",
        "\n",
        "dataset.tail()"
      ],
      "execution_count": null,
      "outputs": []
    },
    {
      "cell_type": "markdown",
      "metadata": {
        "colab_type": "text",
        "id": "Cuym4yvk76vU"
      },
      "source": [
        "### 데이터셋 분할"
      ]
    },
    {
      "cell_type": "code",
      "metadata": {
        "colab_type": "code",
        "id": "qn-IGhUE7_1H",
        "colab": {}
      },
      "source": [
        "# 데이터 샘플링 -> dataset.sample\n",
        "#sample함수 = 객체 내에서 랜덤으로 샘플 추출한다\n",
        "# smaple함수 옵션: n[추출할 샘플의 수], frac[비율을 주면 그 비율 만큼 개수 만큼 샘플 추출]\n",
        "#                  random_state[랜덤 샘플 추출 시 시드를 입력 받어, 같은 시드에서는 항상 같은 결과 도출한다]\n",
        "\n",
        "#drop함수는 dataframe의 행 또는 열을 삭제할 수 있다.\n",
        "\n",
        "train_dataset = dataset.sample(frac=0.8, random_state=0) # 먼저 dataset.sample로 랜덤으로 데이터 개수 추출한다(frac이용)\n",
        "test_dataset = dataset.drop(train_dataset.index)# train_dataset에서 뽑은 샘플들을 제거한 나머지 0.2에 해당되는 데이터만 얻는다"
      ],
      "execution_count": 18,
      "outputs": []
    },
    {
      "cell_type": "code",
      "metadata": {
        "id": "D8PSvy44sKnM",
        "colab_type": "code",
        "colab": {
          "base_uri": "https://localhost:8080/",
          "height": 52
        },
        "outputId": "448a6138-8795-4406-e69e-077195855964"
      },
      "source": [
        "print(len(train_dataset))\n",
        "print(len(test_dataset))"
      ],
      "execution_count": 19,
      "outputs": [
        {
          "output_type": "stream",
          "text": [
            "16346\n",
            "4087\n"
          ],
          "name": "stdout"
        }
      ]
    },
    {
      "cell_type": "code",
      "metadata": {
        "id": "9OUT1B7Kj2bo",
        "colab_type": "code",
        "colab": {
          "base_uri": "https://localhost:8080/",
          "height": 421
        },
        "outputId": "cb0f11c2-b5e2-47a9-891a-f3be370fff42"
      },
      "source": [
        "#describe함수는 DataFrame의 간단한 통계 정보를 보여준다.\n",
        "# 컬럼별로 데이터 개수, 평균값, 표준편차, 최솟값, 4분위수, 최댓값의 정보를 알 수 있다\n",
        "# 현재 train_stats에는 집값 median_house_value column이 빠진 상태\n",
        "train_stats = train_dataset.describe()\n",
        "train_stats.pop(\"median_house_value\")\n",
        "train_stats = train_stats.transpose()\n",
        "train_stats"
      ],
      "execution_count": 20,
      "outputs": [
        {
          "output_type": "execute_result",
          "data": {
            "text/html": [
              "<div>\n",
              "<style scoped>\n",
              "    .dataframe tbody tr th:only-of-type {\n",
              "        vertical-align: middle;\n",
              "    }\n",
              "\n",
              "    .dataframe tbody tr th {\n",
              "        vertical-align: top;\n",
              "    }\n",
              "\n",
              "    .dataframe thead th {\n",
              "        text-align: right;\n",
              "    }\n",
              "</style>\n",
              "<table border=\"1\" class=\"dataframe\">\n",
              "  <thead>\n",
              "    <tr style=\"text-align: right;\">\n",
              "      <th></th>\n",
              "      <th>count</th>\n",
              "      <th>mean</th>\n",
              "      <th>std</th>\n",
              "      <th>min</th>\n",
              "      <th>25%</th>\n",
              "      <th>50%</th>\n",
              "      <th>75%</th>\n",
              "      <th>max</th>\n",
              "    </tr>\n",
              "  </thead>\n",
              "  <tbody>\n",
              "    <tr>\n",
              "      <th>longitude</th>\n",
              "      <td>16346.0</td>\n",
              "      <td>-119.564154</td>\n",
              "      <td>2.002618</td>\n",
              "      <td>-124.3500</td>\n",
              "      <td>-121.790000</td>\n",
              "      <td>-118.4900</td>\n",
              "      <td>-118.000000</td>\n",
              "      <td>-114.4700</td>\n",
              "    </tr>\n",
              "    <tr>\n",
              "      <th>latitude</th>\n",
              "      <td>16346.0</td>\n",
              "      <td>35.630318</td>\n",
              "      <td>2.138574</td>\n",
              "      <td>32.5500</td>\n",
              "      <td>33.930000</td>\n",
              "      <td>34.2500</td>\n",
              "      <td>37.710000</td>\n",
              "      <td>41.9500</td>\n",
              "    </tr>\n",
              "    <tr>\n",
              "      <th>housing_median_age</th>\n",
              "      <td>16346.0</td>\n",
              "      <td>28.664505</td>\n",
              "      <td>12.556764</td>\n",
              "      <td>1.0000</td>\n",
              "      <td>18.000000</td>\n",
              "      <td>29.0000</td>\n",
              "      <td>37.000000</td>\n",
              "      <td>52.0000</td>\n",
              "    </tr>\n",
              "    <tr>\n",
              "      <th>total_rooms</th>\n",
              "      <td>16346.0</td>\n",
              "      <td>2622.235776</td>\n",
              "      <td>2169.548287</td>\n",
              "      <td>11.0000</td>\n",
              "      <td>1448.000000</td>\n",
              "      <td>2119.0000</td>\n",
              "      <td>3120.750000</td>\n",
              "      <td>39320.0000</td>\n",
              "    </tr>\n",
              "    <tr>\n",
              "      <th>total_bedrooms</th>\n",
              "      <td>16346.0</td>\n",
              "      <td>535.281659</td>\n",
              "      <td>418.469078</td>\n",
              "      <td>3.0000</td>\n",
              "      <td>296.000000</td>\n",
              "      <td>432.5000</td>\n",
              "      <td>644.000000</td>\n",
              "      <td>6445.0000</td>\n",
              "    </tr>\n",
              "    <tr>\n",
              "      <th>population</th>\n",
              "      <td>16346.0</td>\n",
              "      <td>1416.087055</td>\n",
              "      <td>1103.842065</td>\n",
              "      <td>3.0000</td>\n",
              "      <td>784.250000</td>\n",
              "      <td>1164.0000</td>\n",
              "      <td>1711.000000</td>\n",
              "      <td>28566.0000</td>\n",
              "    </tr>\n",
              "    <tr>\n",
              "      <th>households</th>\n",
              "      <td>16346.0</td>\n",
              "      <td>496.758167</td>\n",
              "      <td>379.109535</td>\n",
              "      <td>3.0000</td>\n",
              "      <td>280.000000</td>\n",
              "      <td>408.0000</td>\n",
              "      <td>600.000000</td>\n",
              "      <td>6082.0000</td>\n",
              "    </tr>\n",
              "    <tr>\n",
              "      <th>median_income</th>\n",
              "      <td>16346.0</td>\n",
              "      <td>3.869337</td>\n",
              "      <td>1.902228</td>\n",
              "      <td>0.4999</td>\n",
              "      <td>2.555675</td>\n",
              "      <td>3.5332</td>\n",
              "      <td>4.744225</td>\n",
              "      <td>15.0001</td>\n",
              "    </tr>\n",
              "    <tr>\n",
              "      <th>&lt;1H OCEAN</th>\n",
              "      <td>16346.0</td>\n",
              "      <td>0.441454</td>\n",
              "      <td>0.496576</td>\n",
              "      <td>0.0000</td>\n",
              "      <td>0.000000</td>\n",
              "      <td>0.0000</td>\n",
              "      <td>1.000000</td>\n",
              "      <td>1.0000</td>\n",
              "    </tr>\n",
              "    <tr>\n",
              "      <th>INLAND</th>\n",
              "      <td>16346.0</td>\n",
              "      <td>0.319405</td>\n",
              "      <td>0.466261</td>\n",
              "      <td>0.0000</td>\n",
              "      <td>0.000000</td>\n",
              "      <td>0.0000</td>\n",
              "      <td>1.000000</td>\n",
              "      <td>1.0000</td>\n",
              "    </tr>\n",
              "    <tr>\n",
              "      <th>NEAR OCEAN</th>\n",
              "      <td>16346.0</td>\n",
              "      <td>0.128961</td>\n",
              "      <td>0.335167</td>\n",
              "      <td>0.0000</td>\n",
              "      <td>0.000000</td>\n",
              "      <td>0.0000</td>\n",
              "      <td>0.000000</td>\n",
              "      <td>1.0000</td>\n",
              "    </tr>\n",
              "    <tr>\n",
              "      <th>NEAR BAY</th>\n",
              "      <td>16346.0</td>\n",
              "      <td>0.109874</td>\n",
              "      <td>0.312742</td>\n",
              "      <td>0.0000</td>\n",
              "      <td>0.000000</td>\n",
              "      <td>0.0000</td>\n",
              "      <td>0.000000</td>\n",
              "      <td>1.0000</td>\n",
              "    </tr>\n",
              "    <tr>\n",
              "      <th>ISLAND</th>\n",
              "      <td>16346.0</td>\n",
              "      <td>0.000306</td>\n",
              "      <td>0.017487</td>\n",
              "      <td>0.0000</td>\n",
              "      <td>0.000000</td>\n",
              "      <td>0.0000</td>\n",
              "      <td>0.000000</td>\n",
              "      <td>1.0000</td>\n",
              "    </tr>\n",
              "  </tbody>\n",
              "</table>\n",
              "</div>"
            ],
            "text/plain": [
              "                      count         mean  ...          75%         max\n",
              "longitude           16346.0  -119.564154  ...  -118.000000   -114.4700\n",
              "latitude            16346.0    35.630318  ...    37.710000     41.9500\n",
              "housing_median_age  16346.0    28.664505  ...    37.000000     52.0000\n",
              "total_rooms         16346.0  2622.235776  ...  3120.750000  39320.0000\n",
              "total_bedrooms      16346.0   535.281659  ...   644.000000   6445.0000\n",
              "population          16346.0  1416.087055  ...  1711.000000  28566.0000\n",
              "households          16346.0   496.758167  ...   600.000000   6082.0000\n",
              "median_income       16346.0     3.869337  ...     4.744225     15.0001\n",
              "<1H OCEAN           16346.0     0.441454  ...     1.000000      1.0000\n",
              "INLAND              16346.0     0.319405  ...     1.000000      1.0000\n",
              "NEAR OCEAN          16346.0     0.128961  ...     0.000000      1.0000\n",
              "NEAR BAY            16346.0     0.109874  ...     0.000000      1.0000\n",
              "ISLAND              16346.0     0.000306  ...     0.000000      1.0000\n",
              "\n",
              "[13 rows x 8 columns]"
            ]
          },
          "metadata": {
            "tags": []
          },
          "execution_count": 20
        }
      ]
    },
    {
      "cell_type": "markdown",
      "metadata": {
        "colab_type": "text",
        "id": "Db7Auq1yXUvh"
      },
      "source": [
        "### 레이블 분리하기"
      ]
    },
    {
      "cell_type": "code",
      "metadata": {
        "colab_type": "code",
        "id": "t2sluJdCW7jN",
        "colab": {}
      },
      "source": [
        "# dataset.pop() 사용 -> 우리가 원하는 결과의 정보는 median_house_value이다\n",
        "train_labels = train_dataset.pop(\"median_house_value\")\n",
        "test_labels = test_dataset.pop(\"median_house_value\")"
      ],
      "execution_count": 21,
      "outputs": []
    },
    {
      "cell_type": "code",
      "metadata": {
        "id": "vQbbLLGet4C7",
        "colab_type": "code",
        "colab": {
          "base_uri": "https://localhost:8080/",
          "height": 232
        },
        "outputId": "c8d8d0bb-f284-4f2c-cc5d-0acc789e89b5"
      },
      "source": [
        "train_labels"
      ],
      "execution_count": 22,
      "outputs": [
        {
          "output_type": "execute_result",
          "data": {
            "text/plain": [
              "14185     98900\n",
              "6125     153000\n",
              "14095     91300\n",
              "14359    345200\n",
              "18004    344100\n",
              "          ...  \n",
              "6168     165500\n",
              "4174     241700\n",
              "3593     267600\n",
              "5366     461300\n",
              "17879     81300\n",
              "Name: median_house_value, Length: 16346, dtype: int64"
            ]
          },
          "metadata": {
            "tags": []
          },
          "execution_count": 22
        }
      ]
    },
    {
      "cell_type": "markdown",
      "metadata": {
        "colab_type": "text",
        "id": "mRklxK5s388r"
      },
      "source": [
        "### 데이터 정규화\n",
        "표준정규분포 정규화 사용 $z = \\frac{X - \\mu}{\\sigma} \\sim \\mathcal{N}(0,1)$"
      ]
    },
    {
      "cell_type": "markdown",
      "metadata": {
        "colab_type": "text",
        "id": "kKHSkGb1QZaH"
      },
      "source": [
        "#### 입력 데이터 정규화"
      ]
    },
    {
      "cell_type": "code",
      "metadata": {
        "colab_type": "code",
        "id": "JlC5ooJrgjQF",
        "colab": {}
      },
      "source": [
        "def norm(x):\n",
        "  return (x - train_stats['mean']) / train_stats['std']\n",
        "\n",
        "# DataFrame연산 : 같은 인덱스를 가진 항목끼리 연산 한다!\n",
        "normed_train_data = norm(train_dataset)\n",
        "normed_test_data = norm(test_dataset)"
      ],
      "execution_count": 23,
      "outputs": []
    },
    {
      "cell_type": "code",
      "metadata": {
        "id": "f-HyJ2tn83rD",
        "colab_type": "code",
        "colab": {
          "base_uri": "https://localhost:8080/",
          "height": 429
        },
        "outputId": "ff0500e6-1841-4866-90ef-bc75aa2d7cd3"
      },
      "source": [
        "normed_train_data"
      ],
      "execution_count": 24,
      "outputs": [
        {
          "output_type": "execute_result",
          "data": {
            "text/html": [
              "<div>\n",
              "<style scoped>\n",
              "    .dataframe tbody tr th:only-of-type {\n",
              "        vertical-align: middle;\n",
              "    }\n",
              "\n",
              "    .dataframe tbody tr th {\n",
              "        vertical-align: top;\n",
              "    }\n",
              "\n",
              "    .dataframe thead th {\n",
              "        text-align: right;\n",
              "    }\n",
              "</style>\n",
              "<table border=\"1\" class=\"dataframe\">\n",
              "  <thead>\n",
              "    <tr style=\"text-align: right;\">\n",
              "      <th></th>\n",
              "      <th>longitude</th>\n",
              "      <th>latitude</th>\n",
              "      <th>housing_median_age</th>\n",
              "      <th>total_rooms</th>\n",
              "      <th>total_bedrooms</th>\n",
              "      <th>population</th>\n",
              "      <th>households</th>\n",
              "      <th>median_income</th>\n",
              "      <th>&lt;1H OCEAN</th>\n",
              "      <th>INLAND</th>\n",
              "      <th>NEAR OCEAN</th>\n",
              "      <th>NEAR BAY</th>\n",
              "      <th>ISLAND</th>\n",
              "    </tr>\n",
              "  </thead>\n",
              "  <tbody>\n",
              "    <tr>\n",
              "      <th>14185</th>\n",
              "      <td>1.240453</td>\n",
              "      <td>-1.370221</td>\n",
              "      <td>0.663825</td>\n",
              "      <td>-0.205681</td>\n",
              "      <td>-0.280264</td>\n",
              "      <td>-0.104260</td>\n",
              "      <td>-0.321169</td>\n",
              "      <td>-0.522722</td>\n",
              "      <td>-0.888996</td>\n",
              "      <td>-0.685036</td>\n",
              "      <td>2.598818</td>\n",
              "      <td>-0.351324</td>\n",
              "      <td>-0.017492</td>\n",
              "    </tr>\n",
              "    <tr>\n",
              "      <th>6125</th>\n",
              "      <td>0.825996</td>\n",
              "      <td>-0.710903</td>\n",
              "      <td>-0.690027</td>\n",
              "      <td>0.246947</td>\n",
              "      <td>0.355387</td>\n",
              "      <td>0.887729</td>\n",
              "      <td>0.570394</td>\n",
              "      <td>-0.181018</td>\n",
              "      <td>1.124796</td>\n",
              "      <td>-0.685036</td>\n",
              "      <td>-0.384767</td>\n",
              "      <td>-0.351324</td>\n",
              "      <td>-0.017492</td>\n",
              "    </tr>\n",
              "    <tr>\n",
              "      <th>14095</th>\n",
              "      <td>1.230466</td>\n",
              "      <td>-1.346840</td>\n",
              "      <td>-1.406772</td>\n",
              "      <td>-0.105661</td>\n",
              "      <td>0.455753</td>\n",
              "      <td>0.442919</td>\n",
              "      <td>0.565119</td>\n",
              "      <td>-1.327147</td>\n",
              "      <td>-0.888996</td>\n",
              "      <td>-0.685036</td>\n",
              "      <td>2.598818</td>\n",
              "      <td>-0.351324</td>\n",
              "      <td>-0.017492</td>\n",
              "    </tr>\n",
              "    <tr>\n",
              "      <th>14359</th>\n",
              "      <td>1.170544</td>\n",
              "      <td>-1.351516</td>\n",
              "      <td>1.858400</td>\n",
              "      <td>-0.627889</td>\n",
              "      <td>-0.796431</td>\n",
              "      <td>-0.780082</td>\n",
              "      <td>-0.759037</td>\n",
              "      <td>1.790776</td>\n",
              "      <td>-0.888996</td>\n",
              "      <td>-0.685036</td>\n",
              "      <td>2.598818</td>\n",
              "      <td>-0.351324</td>\n",
              "      <td>-0.017492</td>\n",
              "    </tr>\n",
              "    <tr>\n",
              "      <th>18004</th>\n",
              "      <td>-1.211337</td>\n",
              "      <td>0.776069</td>\n",
              "      <td>0.265633</td>\n",
              "      <td>0.141856</td>\n",
              "      <td>-0.129715</td>\n",
              "      <td>-0.072553</td>\n",
              "      <td>-0.041566</td>\n",
              "      <td>1.363540</td>\n",
              "      <td>1.124796</td>\n",
              "      <td>-0.685036</td>\n",
              "      <td>-0.384767</td>\n",
              "      <td>-0.351324</td>\n",
              "      <td>-0.017492</td>\n",
              "    </tr>\n",
              "    <tr>\n",
              "      <th>...</th>\n",
              "      <td>...</td>\n",
              "      <td>...</td>\n",
              "      <td>...</td>\n",
              "      <td>...</td>\n",
              "      <td>...</td>\n",
              "      <td>...</td>\n",
              "      <td>...</td>\n",
              "      <td>...</td>\n",
              "      <td>...</td>\n",
              "      <td>...</td>\n",
              "      <td>...</td>\n",
              "      <td>...</td>\n",
              "      <td>...</td>\n",
              "    </tr>\n",
              "    <tr>\n",
              "      <th>6168</th>\n",
              "      <td>0.816009</td>\n",
              "      <td>-0.720255</td>\n",
              "      <td>0.504548</td>\n",
              "      <td>-0.337045</td>\n",
              "      <td>-0.435592</td>\n",
              "      <td>-0.292693</td>\n",
              "      <td>-0.302705</td>\n",
              "      <td>0.077469</td>\n",
              "      <td>1.124796</td>\n",
              "      <td>-0.685036</td>\n",
              "      <td>-0.384767</td>\n",
              "      <td>-0.351324</td>\n",
              "      <td>-0.017492</td>\n",
              "    </tr>\n",
              "    <tr>\n",
              "      <th>4174</th>\n",
              "      <td>0.676192</td>\n",
              "      <td>-0.715579</td>\n",
              "      <td>0.584187</td>\n",
              "      <td>-0.286804</td>\n",
              "      <td>-0.005452</td>\n",
              "      <td>-0.164958</td>\n",
              "      <td>0.100873</td>\n",
              "      <td>-0.066047</td>\n",
              "      <td>1.124796</td>\n",
              "      <td>-0.685036</td>\n",
              "      <td>-0.384767</td>\n",
              "      <td>-0.351324</td>\n",
              "      <td>-0.017492</td>\n",
              "    </tr>\n",
              "    <tr>\n",
              "      <th>3593</th>\n",
              "      <td>0.541368</td>\n",
              "      <td>-0.650115</td>\n",
              "      <td>0.265633</td>\n",
              "      <td>-0.000570</td>\n",
              "      <td>-0.294602</td>\n",
              "      <td>-0.118755</td>\n",
              "      <td>-0.218296</td>\n",
              "      <td>1.463738</td>\n",
              "      <td>1.124796</td>\n",
              "      <td>-0.685036</td>\n",
              "      <td>-0.384767</td>\n",
              "      <td>-0.351324</td>\n",
              "      <td>-0.017492</td>\n",
              "    </tr>\n",
              "    <tr>\n",
              "      <th>5366</th>\n",
              "      <td>0.586309</td>\n",
              "      <td>-0.743635</td>\n",
              "      <td>1.221294</td>\n",
              "      <td>-0.345342</td>\n",
              "      <td>-0.595699</td>\n",
              "      <td>-0.707608</td>\n",
              "      <td>-0.563843</td>\n",
              "      <td>0.907233</td>\n",
              "      <td>1.124796</td>\n",
              "      <td>-0.685036</td>\n",
              "      <td>-0.384767</td>\n",
              "      <td>-0.351324</td>\n",
              "      <td>-0.017492</td>\n",
              "    </tr>\n",
              "    <tr>\n",
              "      <th>17879</th>\n",
              "      <td>-1.216331</td>\n",
              "      <td>0.827506</td>\n",
              "      <td>-0.928942</td>\n",
              "      <td>1.151744</td>\n",
              "      <td>1.151144</td>\n",
              "      <td>0.048841</td>\n",
              "      <td>1.243023</td>\n",
              "      <td>-0.472465</td>\n",
              "      <td>1.124796</td>\n",
              "      <td>-0.685036</td>\n",
              "      <td>-0.384767</td>\n",
              "      <td>-0.351324</td>\n",
              "      <td>-0.017492</td>\n",
              "    </tr>\n",
              "  </tbody>\n",
              "</table>\n",
              "<p>16346 rows × 13 columns</p>\n",
              "</div>"
            ],
            "text/plain": [
              "       longitude  latitude  housing_median_age  ...  NEAR OCEAN  NEAR BAY    ISLAND\n",
              "14185   1.240453 -1.370221            0.663825  ...    2.598818 -0.351324 -0.017492\n",
              "6125    0.825996 -0.710903           -0.690027  ...   -0.384767 -0.351324 -0.017492\n",
              "14095   1.230466 -1.346840           -1.406772  ...    2.598818 -0.351324 -0.017492\n",
              "14359   1.170544 -1.351516            1.858400  ...    2.598818 -0.351324 -0.017492\n",
              "18004  -1.211337  0.776069            0.265633  ...   -0.384767 -0.351324 -0.017492\n",
              "...          ...       ...                 ...  ...         ...       ...       ...\n",
              "6168    0.816009 -0.720255            0.504548  ...   -0.384767 -0.351324 -0.017492\n",
              "4174    0.676192 -0.715579            0.584187  ...   -0.384767 -0.351324 -0.017492\n",
              "3593    0.541368 -0.650115            0.265633  ...   -0.384767 -0.351324 -0.017492\n",
              "5366    0.586309 -0.743635            1.221294  ...   -0.384767 -0.351324 -0.017492\n",
              "17879  -1.216331  0.827506           -0.928942  ...   -0.384767 -0.351324 -0.017492\n",
              "\n",
              "[16346 rows x 13 columns]"
            ]
          },
          "metadata": {
            "tags": []
          },
          "execution_count": 24
        }
      ]
    },
    {
      "cell_type": "markdown",
      "metadata": {
        "colab_type": "text",
        "id": "9CLiBTRYQZaO"
      },
      "source": [
        "#### 레이블 데이터 스케일링\n",
        "입력 데이터는 정규화 되어 있는데 레이블 데이터가 너무 크면 훈련이 늦어지므로 일정 비율로 줄여준다."
      ]
    },
    {
      "cell_type": "code",
      "metadata": {
        "colab_type": "code",
        "id": "FKUAoiGWQZaP",
        "colab": {}
      },
      "source": [
        "scale=10000\n",
        "normed_train_labels=train_labels/scale\n",
        "normed_test_labels=test_labels/scale"
      ],
      "execution_count": 25,
      "outputs": []
    },
    {
      "cell_type": "code",
      "metadata": {
        "id": "2nEC5muMtwkJ",
        "colab_type": "code",
        "colab": {
          "base_uri": "https://localhost:8080/",
          "height": 124
        },
        "outputId": "161e3a35-9ee5-41d3-ef86-11a02e513a53"
      },
      "source": [
        "normed_train_labels.tail()"
      ],
      "execution_count": 26,
      "outputs": [
        {
          "output_type": "execute_result",
          "data": {
            "text/plain": [
              "6168     16.55\n",
              "4174     24.17\n",
              "3593     26.76\n",
              "5366     46.13\n",
              "17879     8.13\n",
              "Name: median_house_value, dtype: float64"
            ]
          },
          "metadata": {
            "tags": []
          },
          "execution_count": 26
        }
      ]
    },
    {
      "cell_type": "markdown",
      "metadata": {
        "colab_type": "text",
        "id": "SmjdzxKzEu1-"
      },
      "source": [
        "## 모델 정의"
      ]
    },
    {
      "cell_type": "code",
      "metadata": {
        "id": "KHFqaNkzuFaU",
        "colab_type": "code",
        "colab": {
          "base_uri": "https://localhost:8080/",
          "height": 34
        },
        "outputId": "efab6c36-d902-494e-f15b-ca916404c15a"
      },
      "source": [
        "len(train_dataset.keys())"
      ],
      "execution_count": 27,
      "outputs": [
        {
          "output_type": "execute_result",
          "data": {
            "text/plain": [
              "13"
            ]
          },
          "metadata": {
            "tags": []
          },
          "execution_count": 27
        }
      ]
    },
    {
      "cell_type": "code",
      "metadata": {
        "colab_type": "code",
        "id": "c26juK7ZG8j-",
        "colab": {}
      },
      "source": [
        "# network에서 input layer은 train_dataset의 column으로  13*1이다\n",
        "# network는 2-hidden layer를 가진다 각 hidden layer에서 뉴런의 수는 64개이고, activation function은 relu이다\n",
        "# network에서 output layer는 1*1형태로 연비(MPG)를 예측하는 네트워크이다!\n",
        "\n",
        "def build_model():\n",
        "  # input len(train_dataset.keys()) \n",
        "  # hidden 64, hidden 64, output 1\n",
        "  model = keras.Sequential([\n",
        "        keras.layers.Dense(64, activation=\"relu\", input_shape=[len(train_dataset.keys())]), #input layer는 train_dataset의 len이다\n",
        "        keras.layers.Dense(64, activation=\"relu\"),\n",
        "        keras.layers.Dense(1) #output layer는 1차원\n",
        "  ])\n",
        "\n",
        "  # RMSProp으로 Optimizer 생성, learning rate = 0.001\n",
        "  optimizer = tf.keras.optimizers.RMSprop(0.001)\n",
        "\n",
        "  # loss, oprimizer, metric 설정\n",
        "  # metric은 'mean_absolute_error’, 'mean_squared_error'로 설정\n",
        "  model.compile(loss='mean_squared_error',\n",
        "                optimizer=optimizer,\n",
        "                metrics=['mean_absolute_error','mean_squared_error'])\n",
        "  return model"
      ],
      "execution_count": 28,
      "outputs": []
    },
    {
      "cell_type": "code",
      "metadata": {
        "id": "MDxnoVzGldbN",
        "colab_type": "code",
        "colab": {}
      },
      "source": [
        "model = build_model()"
      ],
      "execution_count": 29,
      "outputs": []
    },
    {
      "cell_type": "code",
      "metadata": {
        "id": "JwCn0z5JleNd",
        "colab_type": "code",
        "colab": {
          "base_uri": "https://localhost:8080/",
          "height": 268
        },
        "outputId": "4fcbc824-2117-483b-962b-a3a66f66e83f"
      },
      "source": [
        "# 모델 구조를 출력하는 함수\n",
        "model.summary()"
      ],
      "execution_count": 30,
      "outputs": [
        {
          "output_type": "stream",
          "text": [
            "Model: \"sequential\"\n",
            "_________________________________________________________________\n",
            "Layer (type)                 Output Shape              Param #   \n",
            "=================================================================\n",
            "dense (Dense)                (None, 64)                896       \n",
            "_________________________________________________________________\n",
            "dense_1 (Dense)              (None, 64)                4160      \n",
            "_________________________________________________________________\n",
            "dense_2 (Dense)              (None, 1)                 65        \n",
            "=================================================================\n",
            "Total params: 5,121\n",
            "Trainable params: 5,121\n",
            "Non-trainable params: 0\n",
            "_________________________________________________________________\n"
          ],
          "name": "stdout"
        }
      ]
    },
    {
      "cell_type": "markdown",
      "metadata": {
        "id": "n-h8s6I0V51y",
        "colab_type": "text"
      },
      "source": [
        "## 모델 훈련"
      ]
    },
    {
      "cell_type": "code",
      "metadata": {
        "id": "EXplkToDV511",
        "colab_type": "code",
        "colab": {
          "base_uri": "https://localhost:8080/",
          "height": 52
        },
        "outputId": "ec3b1c7d-c45b-49f2-9839-d19132025e67"
      },
      "source": [
        "# 에포크가 끝날 때마다 점(.)을 출력해 훈련 진행 과정을 표시합니다\n",
        "class PrintDot(keras.callbacks.Callback):\n",
        "  def on_epoch_end(self, epoch, logs):\n",
        "    if epoch % 100 == 0: print('')\n",
        "    print('.', end='')\n",
        "\n",
        "EPOCHS = 1500\n",
        "batch_size = 32\n",
        "\n",
        "# keras.callbacks.EarlyStopping 사용\n",
        "# patience : 성능 향상을 체크할 에포크 횟수\n",
        "early_stop = keras.callbacks.EarlyStopping(monitor='val_loss')\n",
        "\n",
        "# 1. PrintDot() Callback 추가\n",
        "# 2. validate_split을 이용해서 validation set은 training set의 20%로 설정\n",
        "# 3. verbose=0로 설정해서 출력 없애기\n",
        "history = model.fit(normed_train_data, normed_train_labels, batch_size,\n",
        "                    epochs=EPOCHS, validation_split=0.2, verbose=0, callbacks=[early_stop, PrintDot()])"
      ],
      "execution_count": 31,
      "outputs": [
        {
          "output_type": "stream",
          "text": [
            "\n",
            "........."
          ],
          "name": "stdout"
        }
      ]
    },
    {
      "cell_type": "code",
      "metadata": {
        "id": "cxBZC1T75HcD",
        "colab_type": "code",
        "colab": {
          "base_uri": "https://localhost:8080/",
          "height": 190
        },
        "outputId": "a75de1c4-5f3d-40b7-b85b-5722acbba8fe"
      },
      "source": [
        "hist = pd.DataFrame(history.history) # 모델의 history table 출력\n",
        "hist['epoch'] = history.epoch\n",
        "hist.tail()"
      ],
      "execution_count": 32,
      "outputs": [
        {
          "output_type": "execute_result",
          "data": {
            "text/html": [
              "<div>\n",
              "<style scoped>\n",
              "    .dataframe tbody tr th:only-of-type {\n",
              "        vertical-align: middle;\n",
              "    }\n",
              "\n",
              "    .dataframe tbody tr th {\n",
              "        vertical-align: top;\n",
              "    }\n",
              "\n",
              "    .dataframe thead th {\n",
              "        text-align: right;\n",
              "    }\n",
              "</style>\n",
              "<table border=\"1\" class=\"dataframe\">\n",
              "  <thead>\n",
              "    <tr style=\"text-align: right;\">\n",
              "      <th></th>\n",
              "      <th>loss</th>\n",
              "      <th>mean_absolute_error</th>\n",
              "      <th>mean_squared_error</th>\n",
              "      <th>val_loss</th>\n",
              "      <th>val_mean_absolute_error</th>\n",
              "      <th>val_mean_squared_error</th>\n",
              "      <th>epoch</th>\n",
              "    </tr>\n",
              "  </thead>\n",
              "  <tbody>\n",
              "    <tr>\n",
              "      <th>4</th>\n",
              "      <td>38.848103</td>\n",
              "      <td>4.382136</td>\n",
              "      <td>38.848103</td>\n",
              "      <td>37.053005</td>\n",
              "      <td>4.370434</td>\n",
              "      <td>37.053005</td>\n",
              "      <td>4</td>\n",
              "    </tr>\n",
              "    <tr>\n",
              "      <th>5</th>\n",
              "      <td>37.667336</td>\n",
              "      <td>4.306910</td>\n",
              "      <td>37.667336</td>\n",
              "      <td>37.048576</td>\n",
              "      <td>4.351157</td>\n",
              "      <td>37.048576</td>\n",
              "      <td>5</td>\n",
              "    </tr>\n",
              "    <tr>\n",
              "      <th>6</th>\n",
              "      <td>36.763466</td>\n",
              "      <td>4.247205</td>\n",
              "      <td>36.763466</td>\n",
              "      <td>34.952984</td>\n",
              "      <td>4.165312</td>\n",
              "      <td>34.952984</td>\n",
              "      <td>6</td>\n",
              "    </tr>\n",
              "    <tr>\n",
              "      <th>7</th>\n",
              "      <td>36.147694</td>\n",
              "      <td>4.200906</td>\n",
              "      <td>36.147694</td>\n",
              "      <td>34.329216</td>\n",
              "      <td>4.204816</td>\n",
              "      <td>34.329216</td>\n",
              "      <td>7</td>\n",
              "    </tr>\n",
              "    <tr>\n",
              "      <th>8</th>\n",
              "      <td>35.570148</td>\n",
              "      <td>4.163515</td>\n",
              "      <td>35.570148</td>\n",
              "      <td>34.403954</td>\n",
              "      <td>4.134165</td>\n",
              "      <td>34.403954</td>\n",
              "      <td>8</td>\n",
              "    </tr>\n",
              "  </tbody>\n",
              "</table>\n",
              "</div>"
            ],
            "text/plain": [
              "        loss  mean_absolute_error  ...  val_mean_squared_error  epoch\n",
              "4  38.848103             4.382136  ...               37.053005      4\n",
              "5  37.667336             4.306910  ...               37.048576      5\n",
              "6  36.763466             4.247205  ...               34.952984      6\n",
              "7  36.147694             4.200906  ...               34.329216      7\n",
              "8  35.570148             4.163515  ...               34.403954      8\n",
              "\n",
              "[5 rows x 7 columns]"
            ]
          },
          "metadata": {
            "tags": []
          },
          "execution_count": 32
        }
      ]
    },
    {
      "cell_type": "code",
      "metadata": {
        "id": "ZdrKnzuv4S2K",
        "colab_type": "code",
        "colab": {
          "base_uri": "https://localhost:8080/",
          "height": 717
        },
        "outputId": "2af89333-6afa-48b1-8c28-423dc0bd3655"
      },
      "source": [
        "import matplotlib.pyplot as plt\n",
        "\n",
        "def plot_history(history):\n",
        "  hist = pd.DataFrame(history.history)\n",
        "  hist['epoch'] = history.epoch\n",
        "\n",
        "  plt.figure(figsize=(8,12))\n",
        "\n",
        "  plt.subplot(2,1,1)\n",
        "  plt.xlabel('Epoch')\n",
        "  plt.ylabel('Mean Abs Error [MPG]')\n",
        "  plt.plot(hist['epoch'], hist['mean_absolute_error'], label='Train Error')\n",
        "  plt.plot(hist['epoch'], hist['val_mean_absolute_error'],label = 'Val Error')\n",
        "  plt.ylim([0,10])\n",
        "  plt.legend()\n",
        "\n",
        "  plt.subplot(2,1,2)\n",
        "  plt.xlabel('Epoch')\n",
        "  plt.ylabel('Mean Square Error [$MPG^2$]')\n",
        "  plt.plot(hist['epoch'], hist['mean_squared_error'],label='Train Error')\n",
        "  plt.plot(hist['epoch'], hist['val_mean_squared_error'],label = 'Val Error')\n",
        "  plt.ylim([0,90])\n",
        "  plt.legend()\n",
        "  plt.show()\n",
        "\n",
        "plot_history(history)"
      ],
      "execution_count": 37,
      "outputs": [
        {
          "output_type": "display_data",
          "data": {
            "image/png": "[encoded data removed]",
            "text/plain": [
              "<Figure size 576x864 with 2 Axes>"
            ]
          },
          "metadata": {
            "tags": [],
            "needs_background": "light"
          }
        }
      ]
    },
    {
      "cell_type": "markdown",
      "metadata": {
        "id": "9xru9G21V52B",
        "colab_type": "text"
      },
      "source": [
        "## 검증"
      ]
    },
    {
      "cell_type": "code",
      "metadata": {
        "colab_type": "code",
        "id": "jl_yNr5n1kms",
        "colab": {
          "base_uri": "https://localhost:8080/",
          "height": 34
        },
        "outputId": "94dca1c3-0a87-467e-8927-84caefc1c136"
      },
      "source": [
        "loss, mae, mse = model.evaluate(normed_test_data, normed_test_labels, verbose=0)\n",
        "\n",
        "print(\"테스트 세트의 평균 절대 오차: {:5.2f} MPG\".format(mae))"
      ],
      "execution_count": 38,
      "outputs": [
        {
          "output_type": "stream",
          "text": [
            "테스트 세트의 평균 절대 오차:  4.15 MPG\n"
          ],
          "name": "stdout"
        }
      ]
    },
    {
      "cell_type": "markdown",
      "metadata": {
        "colab_type": "text",
        "id": "ft603OzXuEZC"
      },
      "source": [
        "## 예측"
      ]
    },
    {
      "cell_type": "code",
      "metadata": {
        "id": "HERrhDDiz7T0",
        "colab_type": "code",
        "colab": {
          "base_uri": "https://localhost:8080/",
          "height": 279
        },
        "outputId": "f53adc45-b7cc-43df-d536-79bb10041595"
      },
      "source": [
        "test_predictions = model.predict(normed_test_data).flatten()\n",
        "\n",
        "plt.scatter(normed_test_labels, test_predictions)\n",
        "plt.xlabel('True Values [mean_squared_error]')\n",
        "plt.ylabel('Predictions [mean_squared_error]')\n",
        "plt.axis('equal')\n",
        "plt.axis('square')\n",
        "plt.xlim([0,plt.xlim()[1]])\n",
        "plt.ylim([0,plt.ylim()[1]])\n",
        "_ = plt.plot([-300, 300], [-300, 300])"
      ],
      "execution_count": 39,
      "outputs": [
        {
          "output_type": "display_data",
          "data": {
            "image/png": "[encoded data removed]",
            "text/plain": [
              "<Figure size 432x288 with 1 Axes>"
            ]
          },
          "metadata": {
            "tags": [],
            "needs_background": "light"
          }
        }
      ]
    },
    {
      "cell_type": "code",
      "metadata": {
        "id": "ZLUEDqIY5e9Y",
        "colab_type": "code",
        "colab": {
          "base_uri": "https://localhost:8080/",
          "height": 279
        },
        "outputId": "443dee0d-df9a-41fd-97c9-7389bd83b240"
      },
      "source": [
        "# 오차의 분포\n",
        "error = test_predictions - normed_test_labels\n",
        "plt.hist(error, bins = 25)\n",
        "plt.xlabel(\"Prediction Error [mean_squared_error]\")\n",
        "_ = plt.ylabel(\"Count\")"
      ],
      "execution_count": 40,
      "outputs": [
        {
          "output_type": "display_data",
          "data": {
            "image/png": "[encoded data removed]",
            "text/plain": [
              "<Figure size 432x288 with 1 Axes>"
            ]
          },
          "metadata": {
            "tags": [],
            "needs_background": "light"
          }
        }
      ]
    }
  ]
}